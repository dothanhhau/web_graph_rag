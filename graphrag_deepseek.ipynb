{
 "cells": [
  {
   "cell_type": "code",
   "execution_count": 84,
   "metadata": {},
   "outputs": [],
   "source": [
    "from langchain.prompts import ChatPromptTemplate\n",
    "\n",
    "prompt_vietnam = (\n",
    "\t\"# Hướng dẫn xây dựng Đồ thị Tri thức từ văn bản quy chế tiếng Việt\\n\"\n",
    "\t\"## 1. Mục tiêu\\n\"\n",
    "\t\"Bạn là một mô hình trích xuất thông tin chất lượng cao, được thiết kế để xây dựng đồ thị tri thức từ văn bản quy định, đặc biệt là quy chế đào tạo đại học bằng tiếng Việt.\\n\"\n",
    "\t\"Hãy cố gắng trích xuất tối đa thông tin có trong văn bản **mà không thêm bất kỳ thông tin nào không được nêu rõ**.\\n\"\n",
    "\t\"- **Node** là các thực thể hoặc khái niệm xuất hiện trong văn bản.\\n\"\n",
    "\t\"- **Edge** là quan hệ giữa các node, phản ánh mối liên kết có trong nội dung văn bản.\\n\"\n",
    "\t\"- Kết quả phải dễ hiểu, rõ ràng, có thể dùng để xây dựng hệ thống truy vấn đồ thị tri thức.\\n\\n\"\n",
    "\n",
    "\t\"## 2. Gán nhãn thực thể (Labeling Nodes)\\n\"\n",
    "\t\"- Mỗi node phải có `id` là tên thực thể trích từ văn bản, và `type` là loại thực thể.\\n\"\n",
    "\t\"- Nếu thực thể thuộc các loại thường gặp như: `CHƯƠNG`, `ĐIỀU`, `KHOẢN`, `CHỦ_THỂ`, `HOẠT_ĐỘNG`, `YÊU_CẦU`, `CÓ`, `LÀ`, `XẾP_LOẠI`, `KHÁI_NIỆM`, ... thì hãy dùng đúng loại đó.\\n\"\n",
    "\t\"- Nếu thực thể không thuộc các loại trên, HÃY TỰ ĐẶT `type` mới phù hợp bằng tiếng Việt.\\n\"\n",
    "\t\"- Không được dùng số làm `id`. `id` phải là tên nguyên văn hoặc dễ hiểu từ văn bản, ví dụ: \\\"Chương trình đào tạo\\\", \\\"Sinh viên\\\".\\n\"\n",
    "\t\"- Nếu trong văn bản có mô tả hoặc đặc điểm đi kèm thực thể, hãy trích xuất dưới dạng `properties`.\\n\"\n",
    "\t\"- Mỗi node có thể có thêm các thuộc tính khác như `tiêu_đề`, `tên`, `định_nghĩa`, `mô_tả`, `vai_trò`, `phạm_vi`, v.v.\\n\"\n",
    "\t\"- Nếu thuộc tính không nằm trong danh sách gợi ý, bạn được phép tự đặt tên phù hợp (vẫn theo chuẩn viết thường bằng tiếng Việt có dấu gạch dưới).\\n\\n\"\n",
    "\n",
    "\t\"## 3. Gán nhãn quan hệ (Relationships)\\n\"\n",
    "\t\"- Các `edges` phải mô tả chính xác mối liên hệ giữa thực thể nguồn (`source`) và thực thể đích (`target`).\\n\"\n",
    "\t\"- `type` của edge phải là một quan hệ rõ ràng, ngắn gọn, bằng **tiếng Việt viết HOA có dấu gạch dưới**, ví dụ: `QUY_ĐỊNH`, `BAO_GỒM`, `PHẢI_HOÀN_THÀNH`, `LIÊN_QUAN_ĐẾN`, `XẾP_LOẠI`, `THỜI_GIAN`, `LÀM`, `THUỘC`, `THAM_CHIẾU`.\\n\"\n",
    "\t\"- Không dùng tên quan hệ quá cụ thể theo ngữ cảnh tạm thời, ví dụ: `BỊ_CẢNH_BÁO_2_LẦN` là không hợp lệ. Hãy dùng chung như `BỊ_CẢNH_BÁO`.\\n\"\n",
    "\t\"- Nếu quan hệ không nằm trong danh sách gợi ý, bạn được phép tự đặt tên phù hợp (vẫn theo chuẩn viết HOA bằng tiếng Việt có dấu gạch dưới).\\n\"\n",
    "\t\"- Nếu có thông tin bổ sung về quan hệ (ví dụ: điều_kiện, quy_định_chi_tiết, v.v.), hãy thêm vào `properties` của quan hệ.\\n\"\n",
    "\t\"- Nếu thuộc tính không nằm trong danh sách gợi ý, bạn được phép tự đặt tên phù hợp (vẫn theo chuẩn viết thường bằng tiếng Việt có dấu gạch dưới).\\n\\n\"\n",
    "\n",
    "\t\"## 4. Đồng nhất thực thể (Coreference Resolution)\\n\"\n",
    "\t\"- Nếu một thực thể xuất hiện nhiều lần với cách gọi khác nhau (VD: \\\"Trường\\\", \\\"Nhà Trường\\\", \\\"Trường Đại học Quy Nhơn\\\", \\\"trường\\\"), hãy dùng tên đầy đủ nhất làm ID duy nhất.\\n\"\n",
    "\t\"- Không tạo trùng node cho cùng một thực thể.\\n\\n\"\n",
    "\n",
    "\t\"## 5. Tuân thủ định dạng và chính xác\\n\"\n",
    "\t\"- Không giải thích, không thêm bình luận.\\n\"\n",
    "\t\"- Chỉ trả về kết quả theo định dạng JSON gồm `nodes` và `edges`.\\n\"\n",
    "\t\"- Kết quả phải đầy đủ, rõ ràng và có thể phân tích được bằng máy.\\n\"\n",
    ")\n",
    "\n",
    "new_prompt = ChatPromptTemplate.from_messages(\n",
    "\t[\n",
    "\t\t(\n",
    "\t\t\t\"system\",\n",
    "\t\t\tprompt_vietnam,\n",
    "\t\t),\n",
    "\t\t(\n",
    "\t\t\t\"human\",\n",
    "\t\t\t(\n",
    "\t\t\t\t\"Tip: Make sure to answer in the correct format and do \"\n",
    "\t\t\t\t\"not include any explanations. \"\n",
    "\t\t\t\t\"Use the given format to extract information from the \"\n",
    "\t\t\t\t\"following input: {input}\"\n",
    "\t\t\t),\n",
    "\t\t),\n",
    "\t]\n",
    ")"
   ]
  },
  {
   "cell_type": "code",
   "execution_count": 4,
   "metadata": {},
   "outputs": [],
   "source": [
    "from langchain.prompts import ChatPromptTemplate\n",
    "\n",
    "# Prompt cho tác vụ nhận diện thực thể, quan hệ và thuộc tính\n",
    "prompt_vietnam = (\n",
    "    \"# Hướng dẫn xây dựng Đồ thị Tri thức từ văn bản quy chế tiếng Việt\\n\"\n",
    "    \"## 1. Mục tiêu\\n\"\n",
    "    \"Bạn là một mô hình trích xuất thông tin chất lượng cao, được thiết kế để xây dựng đồ thị tri thức từ văn bản quy định, đặc biệt là quy chế đào tạo đại học bằng tiếng Việt.\\n\"\n",
    "    \"Hãy cố gắng trích xuất tối đa thông tin có trong văn bản **mà không thêm bất kỳ thông tin nào không được nêu rõ**.\\n\"\n",
    "    \"- **Node** là các thực thể hoặc khái niệm xuất hiện trong văn bản.\\n\"\n",
    "    \"- **Edge** là quan hệ giữa các node, phản ánh mối liên kết có trong nội dung văn bản.\\n\"\n",
    "    \"- Kết quả phải dễ hiểu, rõ ràng, có thể dùng để xây dựng hệ thống truy vấn đồ thị tri thức.\\n\\n\"\n",
    "\n",
    "    \"## 2. Gán nhãn thực thể (Labeling Nodes)\\n\"\n",
    "    \"- Mỗi node phải có `id` là tên thực thể trích từ văn bản, và `type` là loại thực thể.\\n\"\n",
    "    \"- Nếu thực thể thuộc các loại thường gặp như: `CHƯƠNG`, `ĐIỀU`, `KHOẢN`, `CHỦ_THỂ`, `HOẠT_ĐỘNG`, `YÊU_CẦU`, `CÓ`, `LÀ`, `HỌC_LỰC`, `KHÁI_NIỆM`, ... thì hãy dùng đúng loại đó.\\n\"\n",
    "    \"- Nếu thực thể không thuộc các loại trên, HÃY TỰ ĐẶT `type` mới phù hợp bằng tiếng Việt.\\n\"\n",
    "    \"- Không được dùng số làm `id`. `id` phải là tên nguyên văn hoặc dễ hiểu từ văn bản, ví dụ: \\\"Chương trình đào tạo\\\", \\\"Sinh viên\\\".\\n\"\n",
    "    \"- Nếu trong văn bản có mô tả hoặc đặc điểm đi kèm thực thể, hãy trích xuất dưới dạng `properties`.\\n\"\n",
    "    \"- Mỗi node có thể có thêm các thuộc tính khác như `tiêu_đề`, `tên`, `định_nghĩa`, `mô_tả`, `vai_trò`, `phạm_vi`, v.v.\\n\"\n",
    "    \"- Nếu thuộc tính không nằm trong danh sách gợi ý, bạn được phép tự đặt tên phù hợp (vẫn theo chuẩn viết thường bằng tiếng Việt có dấu gạch dưới).\\n\\n\"\n",
    "\n",
    "    \"## 3. Gán nhãn quan hệ (Relationships)\\n\"\n",
    "    \"- Các `edges` phải mô tả chính xác mối liên hệ giữa thực thể **nguồn** (`source`) và thực thể **đích** (`target`).\\n\"\n",
    "    \"- `source` là chủ thể thực hiện hoặc chủ thể quy định, và `target` là đối tượng bị tác động hoặc có liên hệ.\\n\"\n",
    "    \"- `type` của edge phải là một quan hệ rõ ràng, ngắn gọn, bằng **tiếng Việt viết HOA có dấu gạch dưới**, ví dụ: `QUY_ĐỊNH`, `BAO_GỒM`, `PHẢI_HOÀN_THÀNH`, `LIÊN_QUAN_ĐẾN`, `XẾP_LOẠI`, `THỜI_GIAN`, `LÀM`, `THUỘC`, `THAM_CHIẾU`.\\n\"\n",
    "    \"- Không dùng tên quan hệ quá cụ thể theo ngữ cảnh tạm thời, ví dụ: `BỊ_CẢNH_BÁO_2_LẦN` là không hợp lệ. Hãy dùng dạng tổng quát như `BỊ_CẢNH_BÁO`.\\n\"\n",
    "    \"- Nếu quan hệ không nằm trong danh sách gợi ý, bạn được phép tự đặt tên phù hợp (vẫn theo chuẩn viết HOA bằng tiếng Việt có dấu gạch dưới).\\n\"\n",
    "    \"- Nếu có thông tin bổ sung về quan hệ (ví dụ: yêu_cầu, điều_kiện, quy_định, điểm, số_tín_chỉ v.v.), hãy thêm vào `properties` của quan hệ.\\n\"\n",
    "    \"- Đặc biệt lưu ý: tránh nhầm lẫn `source` và `target`. Hãy đảm bảo hướng quan hệ đúng theo ngữ nghĩa.\\n\\n\"\n",
    "\n",
    "    \"## 4. Đồng nhất thực thể (Coreference Resolution)\\n\"\n",
    "    \"- Nếu một thực thể xuất hiện nhiều lần với cách gọi khác nhau (VD: \\\"Trường\\\", \\\"Nhà Trường\\\", \\\"Trường Đại học Quy Nhơn\\\", \\\"trường\\\"), hãy dùng tên đầy đủ nhất làm ID duy nhất.\\n\"\n",
    "    \"- Không tạo trùng node cho cùng một thực thể.\\n\\n\"\n",
    "\n",
    "    \"## 5. Tuân thủ định dạng và chính xác\\n\"\n",
    "    \"- Không giải thích, không thêm bình luận.\\n\"\n",
    "    \"- Chỉ trả về kết quả theo định dạng JSON gồm `nodes` và `edges`.\\n\"\n",
    "    \"- Kết quả phải đầy đủ, rõ ràng và có thể phân tích được bằng máy.\\n\"\n",
    ")\n",
    "\n",
    "new_prompt = ChatPromptTemplate.from_messages(\n",
    "    [\n",
    "        (\n",
    "            \"system\",\n",
    "            prompt_vietnam,\n",
    "        ),\n",
    "        (\n",
    "            \"human\",\n",
    "            (\n",
    "                \"Tip: Make sure to answer in the correct format and do \"\n",
    "                \"not include any explanations. \"\n",
    "                \"Use the given format to extract information from the \"\n",
    "                \"following input: {input}\"\n",
    "            ),\n",
    "        ),\n",
    "    ]\n",
    ")\n"
   ]
  },
  {
   "cell_type": "code",
   "execution_count": 5,
   "metadata": {},
   "outputs": [],
   "source": [
    "import os\n",
    "from dotenv import load_dotenv\n",
    "from langchain_deepseek import ChatDeepSeek\n",
    "from langchain_core.documents import Document\n",
    "from langchain_experimental.graph_transformers import LLMGraphTransformer\n",
    "load_dotenv()\n",
    "\n",
    "# Mô hình deepseek\n",
    "os.environ[\"DEEPSEEK_API_KEY\"] = str(os.getenv(\"DEEPSEEK_API_KEY\"))\n",
    "llm = ChatDeepSeek(\n",
    "\tmodel=\"deepseek-chat\",# deepseek-reasoner, deepseek-chat\n",
    "\t# temperature=1,\n",
    "\t# max_tokens=8000,\n",
    "\t# timeout=None,\n",
    "\t# max_retries=2,\n",
    ")"
   ]
  },
  {
   "cell_type": "code",
   "execution_count": 6,
   "metadata": {},
   "outputs": [],
   "source": [
    "llm_transformer = LLMGraphTransformer(llm=llm, prompt=new_prompt, node_properties=True ,relationship_properties=True)"
   ]
  },
  {
   "cell_type": "code",
   "execution_count": 32,
   "metadata": {},
   "outputs": [],
   "source": [
    "arr = [\n",
    "'''Phụ lục: MỘT SỐ NỘI DUNG VI PHẠM VÀ KHUNG XỬ LÝ KHI VI PHẠM LUẬT SINH VIÊN\n",
    "13. Tàng trữ, lưu hành, truy cập, sử dụng sản phẩm văn hóa đồi trụy hoặc tham gia các hoạt động mê tín dị đoan, hoạt động tôn giáo trái phép:  \n",
    "Lần 1: Khiển trách  \n",
    "Lần 2: Cảnh cáo  \n",
    "Lần 3: Đình chỉ có thời hạn  \n",
    "Lần 4: Buộc thôi học và giao cho cơ quan chức năng xử lý theo quy định pháp luật  \n",
    "14. Buôn bán, vận chuyển, tàng trữ, lôi kéo người khác sử dụng ma túy:  \n",
    "Xử lý nghiêm, giao cho cơ quan chức năng xử lý theo quy định pháp luật  \n",
    "15. Sử dụng ma túy:  \n",
    "Buộc thôi học và xử lý theo quy định về sinh viên liên quan đến ma túy  \n",
    "16. Chứa chấp, môi giới mại dâm:  \n",
    "Buộc thôi học và giao cho cơ quan chức năng xử lý theo quy định pháp luật  \n",
    "17. Hoạt động mại dâm:  \n",
    "Lần 1: Khiển trách  \n",
    "Lần 2: Cảnh cáo  \n",
    "Lần 3: Đình chỉ có thời hạn  \n",
    "Lần 4: Buộc thôi học và xử lý theo quy định pháp luật  \n",
    "18. Lấy cắp tài sản, chứa chấp, tiêu thụ tài sản do lấy cắp mà có:  \n",
    "Tùy mức độ vi phạm:  \n",
    "Lần 1: Khiển trách  \n",
    "Lần 2: Cảnh cáo  \n",
    "Lần 3: Đình chỉ có thời hạn  \n",
    "Lần 4: Buộc thôi học và giao cho cơ quan chức năng xử lý nếu nghiêm trọng  \n",
    "19. Chứa chấp, buôn bán vũ khí, chất nổ và hàng cấm theo quy định của Nhà nước:  \n",
    "Buộc thôi học và giao cho cơ quan chức năng xử lý theo quy định pháp luật  \n",
    "20. Đưa phản vật vào trong trường, ký túc xá ảnh hưởng xấu đến an ninh, trật tự trong nhà trường:  \n",
    "Tùy mức độ vi phạm:  \n",
    "Lần 1: Khiển trách  \n",
    "Lần 2: Cảnh cáo  \n",
    "Lần 3: Đình chỉ có thời hạn  \n",
    "Lần 4: Buộc thôi học  \n",
    "21. Đánh nhau, lôi kéo hoặc tham gia tổ chức đánh nhau:  \n",
    "Lần 1: Khiển trách  \n",
    "Lần 2: Cảnh cáo  \n",
    "Lần 3: Đình chỉ có thời hạn  \n",
    "Lần 4: Buộc thôi học và giao cho cơ quan chức năng xử lý nếu nghiêm trọng  \n",
    "22. Kích động, lôi kéo người khác đánh nhau hoặc gây rối an ninh, trật tự:  \n",
    "Lần 1: Khiển trách  \n",
    "Lần 2: Cảnh cáo  \n",
    "Lần 3: Đình chỉ có thời hạn  \n",
    "Lần 4: Buộc thôi học và giao cho cơ quan chức năng xử lý nếu nghiêm trọng  \n",
    "23. Tham gia biểu tình, tụ tập đông người, khiếu kiện trái quy định của pháp luật:  \n",
    "Lần 1: Khiển trách  \n",
    "Lần 2: Cảnh cáo  \n",
    "Lần 3: Đình chỉ có thời hạn  \n",
    "Lần 4: Buộc thôi học và giao cho cơ quan chức năng xử lý theo quy định của pháp luật  \n",
    "24. Đăng tải, bình luận, chia sẻ bài viết, hình ảnh có nội dung dung tục, bạo lực, đồi trụy, xâm phạm an ninh quốc gia, chống phá Đảng và Nhà nước, xuyên tạc, vu khống, xúc phạm uy tín của tổ chức, danh dự và nhân phẩm của cá nhân trên mạng Internet:  \n",
    "Tùy theo mức độ vi phạm, xử lý từ khiển trách đến buộc thôi học. Nếu nghiêm trọng, giao cho cơ quan chức năng xử lý theo quy định của pháp luật.  \n",
    "25. Có hành động quấy rối, dâm ô, xâm phạm nhân phẩm, đời tư của người khác:  \n",
    "Tùy theo mức độ vi phạm, xử lý từ khiển trách đến buộc thôi học. Nếu nghiêm trọng, giao cho cơ quan chức năng xử lý theo quy định của pháp luật.  \n",
    "26. Vi phạm các quy định về an toàn giao thông:  \n",
    "Tùy theo mức độ vi phạm, xử lý từ khiển trách đến buộc thôi học.  \n",
    "27. Các vi phạm khác:  \n",
    "Tùy theo mức độ vi phạm, nhà trường xem xét, nhắc nhở, phê bình, trừ điểm rèn luyện hoặc xử lý kỷ luật từ khiển trách đến buộc thôi học.''']\n"
   ]
  },
  {
   "cell_type": "code",
   "execution_count": 161,
   "metadata": {},
   "outputs": [
    {
     "name": "stdout",
     "output_type": "stream",
     "text": [
      "193\n"
     ]
    }
   ],
   "source": [
    "# Đọc hết tất cả 14 file để chuẩn bị chuyển thành đồ thị\n",
    "base_dir = os.getcwd()\n",
    "arr = []\n",
    "# Tạo đường dẫn đến thư mục txt\n",
    "folder_path = os.path.join(base_dir, 'app', 'static', 'txt')\n",
    "folder_path = 'D:/WorkSpace/python/thesis/web_graph_rag/app/static/txt'\n",
    "for filename in os.listdir(folder_path):\n",
    "\tif filename.endswith('.txt'):\n",
    "\t\tfile_path = os.path.join(folder_path, filename)\n",
    "\t\twith open(file_path, 'r', encoding='utf-8') as f:\n",
    "\t\t\tcontent = f.read()\n",
    "\t\t\tarr = arr + content.split('\\n\\n')\n",
    "\t\t\t# print(f\"Nội dung của {filename}:\\n{content}\\n\")\n",
    "\n",
    "print(len(arr))"
   ]
  },
  {
   "cell_type": "code",
   "execution_count": 184,
   "metadata": {},
   "outputs": [],
   "source": [
    "# # Đọc hết tất cả 14 file để chuẩn bị chuyển thành đồ thị\n",
    "# base_dir = os.getcwd()\n",
    "# # Tạo đường dẫn đến thư mục txt\n",
    "# folder_path = os.path.join(base_dir, 'app', 'static', 'txt')\n",
    "# folder_path = 'D:/WorkSpace/python/thesis/web_graph_rag/app/static/txt'\n",
    "# for filename in os.listdir(folder_path):\n",
    "# \tif filename.endswith('.txt'):\n",
    "# \t\tfile_path = os.path.join(folder_path, filename)\n",
    "# \t\twith open(file_path, 'r', encoding='utf-8') as f:\n",
    "# \t\t\tcontent = f.read()\n",
    "# \t\t\tprint(f\"Nội dung của {filename}:\\n\")\n",
    "\n",
    "# # print(len(arr))"
   ]
  },
  {
   "cell_type": "code",
   "execution_count": 4,
   "metadata": {},
   "outputs": [
    {
     "data": {
      "text/plain": [
       "5"
      ]
     },
     "execution_count": 4,
     "metadata": {},
     "output_type": "execute_result"
    }
   ],
   "source": [
    "# Đọc 1 file\n",
    "base_dir = os.getcwd()\n",
    "# Quy chế đào tạo trình độ đại học.txt\n",
    "# Quy định về học phí của sinh viên đại học hệ chính quy.txt\n",
    "# dữ liệu đánh giá.txt\n",
    "arr = []\n",
    "file_name = 'miss.txt'\n",
    "# folder_path = os.path.join(base_dir, 'app', 'static', 'txt', file_name)\n",
    "folder_path = os.path.join(base_dir, file_name)\n",
    "with open(folder_path, 'r', encoding='utf-8') as f:\n",
    "\tcontent = f.read()\n",
    "\tarr = arr + content.split('\\n\\n')\n",
    "\t# arr.append(content)\n",
    "\t\n",
    "len(arr)"
   ]
  },
  {
   "cell_type": "code",
   "execution_count": 33,
   "metadata": {},
   "outputs": [],
   "source": [
    "# Tạo cấu trúc Document để vào LLMGraphTransformer xử lý\n",
    "documents = []\n",
    "for x in arr:\n",
    "\tdocuments.append(Document(page_content=x))"
   ]
  },
  {
   "cell_type": "code",
   "execution_count": 34,
   "metadata": {},
   "outputs": [
    {
     "data": {
      "text/plain": [
       "[Document(metadata={}, page_content='Phụ lục: MỘT SỐ NỘI DUNG VI PHẠM VÀ KHUNG XỬ LÝ KHI VI PHẠM LUẬT SINH VIÊN\\n13. Tàng trữ, lưu hành, truy cập, sử dụng sản phẩm văn hóa đồi trụy hoặc tham gia các hoạt động mê tín dị đoan, hoạt động tôn giáo trái phép:  \\nLần 1: Khiển trách  \\nLần 2: Cảnh cáo  \\nLần 3: Đình chỉ có thời hạn  \\nLần 4: Buộc thôi học và giao cho cơ quan chức năng xử lý theo quy định pháp luật  \\n14. Buôn bán, vận chuyển, tàng trữ, lôi kéo người khác sử dụng ma túy:  \\nXử lý nghiêm, giao cho cơ quan chức năng xử lý theo quy định pháp luật  \\n15. Sử dụng ma túy:  \\nBuộc thôi học và xử lý theo quy định về sinh viên liên quan đến ma túy  \\n16. Chứa chấp, môi giới mại dâm:  \\nBuộc thôi học và giao cho cơ quan chức năng xử lý theo quy định pháp luật  \\n17. Hoạt động mại dâm:  \\nLần 1: Khiển trách  \\nLần 2: Cảnh cáo  \\nLần 3: Đình chỉ có thời hạn  \\nLần 4: Buộc thôi học và xử lý theo quy định pháp luật  \\n18. Lấy cắp tài sản, chứa chấp, tiêu thụ tài sản do lấy cắp mà có:  \\nTùy mức độ vi phạm:  \\nLần 1: Khiển trách  \\nLần 2: Cảnh cáo  \\nLần 3: Đình chỉ có thời hạn  \\nLần 4: Buộc thôi học và giao cho cơ quan chức năng xử lý nếu nghiêm trọng  \\n19. Chứa chấp, buôn bán vũ khí, chất nổ và hàng cấm theo quy định của Nhà nước:  \\nBuộc thôi học và giao cho cơ quan chức năng xử lý theo quy định pháp luật  \\n20. Đưa phản vật vào trong trường, ký túc xá ảnh hưởng xấu đến an ninh, trật tự trong nhà trường:  \\nTùy mức độ vi phạm:  \\nLần 1: Khiển trách  \\nLần 2: Cảnh cáo  \\nLần 3: Đình chỉ có thời hạn  \\nLần 4: Buộc thôi học  \\n21. Đánh nhau, lôi kéo hoặc tham gia tổ chức đánh nhau:  \\nLần 1: Khiển trách  \\nLần 2: Cảnh cáo  \\nLần 3: Đình chỉ có thời hạn  \\nLần 4: Buộc thôi học và giao cho cơ quan chức năng xử lý nếu nghiêm trọng  \\n22. Kích động, lôi kéo người khác đánh nhau hoặc gây rối an ninh, trật tự:  \\nLần 1: Khiển trách  \\nLần 2: Cảnh cáo  \\nLần 3: Đình chỉ có thời hạn  \\nLần 4: Buộc thôi học và giao cho cơ quan chức năng xử lý nếu nghiêm trọng  \\n23. Tham gia biểu tình, tụ tập đông người, khiếu kiện trái quy định của pháp luật:  \\nLần 1: Khiển trách  \\nLần 2: Cảnh cáo  \\nLần 3: Đình chỉ có thời hạn  \\nLần 4: Buộc thôi học và giao cho cơ quan chức năng xử lý theo quy định của pháp luật  \\n24. Đăng tải, bình luận, chia sẻ bài viết, hình ảnh có nội dung dung tục, bạo lực, đồi trụy, xâm phạm an ninh quốc gia, chống phá Đảng và Nhà nước, xuyên tạc, vu khống, xúc phạm uy tín của tổ chức, danh dự và nhân phẩm của cá nhân trên mạng Internet:  \\nTùy theo mức độ vi phạm, xử lý từ khiển trách đến buộc thôi học. Nếu nghiêm trọng, giao cho cơ quan chức năng xử lý theo quy định của pháp luật.  \\n25. Có hành động quấy rối, dâm ô, xâm phạm nhân phẩm, đời tư của người khác:  \\nTùy theo mức độ vi phạm, xử lý từ khiển trách đến buộc thôi học. Nếu nghiêm trọng, giao cho cơ quan chức năng xử lý theo quy định của pháp luật.  \\n26. Vi phạm các quy định về an toàn giao thông:  \\nTùy theo mức độ vi phạm, xử lý từ khiển trách đến buộc thôi học.  \\n27. Các vi phạm khác:  \\nTùy theo mức độ vi phạm, nhà trường xem xét, nhắc nhở, phê bình, trừ điểm rèn luyện hoặc xử lý kỷ luật từ khiển trách đến buộc thôi học.')]"
      ]
     },
     "execution_count": 34,
     "metadata": {},
     "output_type": "execute_result"
    }
   ],
   "source": [
    "documents"
   ]
  },
  {
   "cell_type": "code",
   "execution_count": 35,
   "metadata": {},
   "outputs": [],
   "source": [
    "# Chuyển các document thành các thực thể và quan hệ\n",
    "graph_documents = llm_transformer.convert_to_graph_documents(documents=documents)"
   ]
  },
  {
   "cell_type": "code",
   "execution_count": 183,
   "metadata": {},
   "outputs": [],
   "source": [
    "graph_full_temperature_0 = graph_documents"
   ]
  },
  {
   "cell_type": "code",
   "execution_count": 37,
   "metadata": {},
   "outputs": [
    {
     "name": "stdout",
     "output_type": "stream",
     "text": [
      "\n",
      "----------------------------------------\n",
      "\n"
     ]
    }
   ],
   "source": [
    "# Một các hiển thị dễ quan sát hơn\n",
    "for x in graph_documents:\n",
    "\tfor y in x.nodes:\n",
    "\t\tprint(f\"{y.type} - {y.id} - {y.properties}\")\n",
    "\tprint()\n",
    "\tfor y in x.relationships:\n",
    "\t\tprint(f\"({y.source.type}: {y.source.id}) - ({y.type}:{y.properties}) - ({y.target.type}:{y.target.id})\")\n",
    "\t\n",
    "\tprint('-'*40)\n",
    "\tprint()"
   ]
  },
  {
   "cell_type": "code",
   "execution_count": 165,
   "metadata": {},
   "outputs": [
    {
     "name": "stdout",
     "output_type": "stream",
     "text": [
      "Đã ghi dữ liệu vào các file.\n"
     ]
    }
   ],
   "source": [
    "# Mở file để ghi output chung và file cho các graph_documents không có nodes và relationships\n",
    "path = 'D:/WorkSpace/python/thesis/web_graph_rag/'\n",
    "with open(path + 'output_all.txt', 'w', encoding='utf-8') as f_all, open(path + 'no_nodes_or_relationships.txt', 'w', encoding='utf-8') as f_no_nodes:\n",
    "\tfor x in graph_documents:\n",
    "\t\thas_nodes_or_relationships = False\n",
    "\n",
    "\t\t# Kiểm tra và ghi nodes vào file\n",
    "\t\tfor y in x.nodes:\n",
    "\t\t\tf_all.write(f\"{y.type} - {y.id} - {y.properties}\\n\")\n",
    "\t\t\thas_nodes_or_relationships = True\n",
    "\t\t\n",
    "\t\t# Kiểm tra và ghi relationships vào file\n",
    "\t\tfor y in x.relationships:\n",
    "\t\t\tf_all.write(f\"({y.source.type}: {y.source.id}) - ({y.type}:{y.properties}) - ({y.target.type}:{y.target.id})\\n\")\n",
    "\t\t\thas_nodes_or_relationships = True\n",
    "\n",
    "\t\t# Nếu không có nodes và relationships, ghi thông tin vào file riêng biệt\n",
    "\t\tif not has_nodes_or_relationships:\n",
    "\t\t\tf_no_nodes.write(f\"GraphDocument không có nodes và relationships:\\n{x.source.page_content}\\n\")\n",
    "\t\t\tf_no_nodes.write('-' * 40 + '\\n')\n",
    "\t\t\n",
    "\t\t# Thêm một dòng phân cách\n",
    "\t\tf_all.write('-' * 40 + '\\n')\n",
    "\n",
    "print(\"Đã ghi dữ liệu vào các file.\")\n"
   ]
  },
  {
   "cell_type": "code",
   "execution_count": 166,
   "metadata": {},
   "outputs": [],
   "source": [
    "# Hàm để chuyển các thực thể và quan hệ vào neo4j\n",
    "def insert_nodes_and_relationships(driver, nodes, relationships):\n",
    "\twith driver.session() as session:\n",
    "\t\t# Chèn nodes\n",
    "\t\tfor node in nodes:\n",
    "\t\t\tx = str(node.type).replace(',', '')\n",
    "\t\t\tx = x.replace(' ', '_')\n",
    "\n",
    "\t\t\tcypher_query = f\"\"\"\n",
    "\t\t\t\tMERGE (n:{x} {{id: $id}})\n",
    "\t\t\t\tSET n += $properties\n",
    "\t\t\t\"\"\"\n",
    "\t\t\tsession.run(\n",
    "\t\t\t\tcypher_query,\n",
    "\t\t\t\tid=node.id,\n",
    "\t\t\t\tproperties=node.properties\n",
    "\t\t\t)\n",
    "\n",
    "\t\t# Chèn relationships\n",
    "\t\tfor relationship in relationships:\n",
    "\t\t\tx = str(relationship.source.type).replace(',', '')\n",
    "\t\t\tx = x.replace(' ', '_')\n",
    "\n",
    "\t\t\ty = str(relationship.target.type).replace(',', '')\n",
    "\t\t\ty = y.replace(' ', '_')\n",
    "\n",
    "\t\t\tz = str(relationship.type).replace(',', '')\n",
    "\t\t\tz = z.replace(' ', '_')\n",
    "\n",
    "\t\t\tcypher_query = f\"\"\"\n",
    "\t\t\t\tMATCH (a:{x} {{id: $source_id}}), \n",
    "\t\t\t\t\t\t\t(b:{y} {{id: $target_id}})\n",
    "\t\t\t\tMERGE (a)-[r:{z}]->(b)\n",
    "\t\t\t\tSET r += $properties\n",
    "\t\t\t\"\"\"\t\n",
    "\t\t\tsession.run(\n",
    "\t\t\t\tcypher_query,\n",
    "\t\t\t\tsource_id=relationship.source.id,\n",
    "\t\t\t\ttarget_id=relationship.target.id,\n",
    "\t\t\t\tproperties=relationship.properties\n",
    "\t\t\t)"
   ]
  },
  {
   "cell_type": "code",
   "execution_count": 171,
   "metadata": {},
   "outputs": [],
   "source": [
    "def insert_nodes_and_relationships(driver, nodes, relationships):\n",
    "\twith driver.session() as session:\n",
    "\t\t# Chèn nodes\n",
    "\t\tfor node in nodes:\n",
    "\t\t\t# Thay thế dấu ',' và khoảng trắng trong tên loại node thành '_'\n",
    "\t\t\tnode_type = str(node.type).replace(',', '').replace(' ', '_').replace('%', '_PHẦN_TRĂM')\n",
    "\t\t\t\n",
    "\t\t\t# Câu lệnh Cypher để MERGE node\n",
    "\t\t\tcypher_query = f\"\"\"\n",
    "\t\t\t\tMERGE (n:{node_type} {{id: $id}})\n",
    "\t\t\t\tSET n += $properties\n",
    "\t\t\t\"\"\"\n",
    "\t\t\tsession.run(\n",
    "\t\t\t\tcypher_query,\n",
    "\t\t\t\tid=node.id,\n",
    "\t\t\t\tproperties=node.properties\n",
    "\t\t\t)\n",
    "\n",
    "\t\t# Chèn relationships\n",
    "\t\tfor relationship in relationships:\n",
    "\t\t\t# Thay thế dấu ',' và khoảng trắng trong tên loại node thành '_'\n",
    "\t\t\tsource_type = str(relationship.source.type).replace(',', '').replace(' ', '_').replace('%', '_PHẦN_TRĂM')\n",
    "\t\t\ttarget_type = str(relationship.target.type).replace(',', '').replace(' ', '_').replace('%', '_PHẦN_TRĂM')\n",
    "\t\t\trelationship_type = str(relationship.type).replace(',', '').replace(' ', '_').replace('%', '_PHẦN_TRĂM')\n",
    "\t\t\t\n",
    "\t\t\t# Câu lệnh Cypher để MERGE relationship\n",
    "\t\t\tcypher_query = f\"\"\"\n",
    "\t\t\t\tMATCH (a:{source_type} {{id: $source_id}}), \n",
    "\t\t\t\t\t\t\t(b:{target_type} {{id: $target_id}})\n",
    "\t\t\t\tMERGE (a)-[r:{relationship_type}]->(b)\n",
    "\t\t\t\tSET r += $properties\n",
    "\t\t\t\"\"\"\n",
    "\t\t\tsession.run(\n",
    "\t\t\t\tcypher_query,\n",
    "\t\t\t\tsource_id=relationship.source.id,\n",
    "\t\t\t\ttarget_id=relationship.target.id,\n",
    "\t\t\t\tproperties=relationship.properties\n",
    "\t\t\t)\n"
   ]
  },
  {
   "cell_type": "code",
   "execution_count": 172,
   "metadata": {},
   "outputs": [],
   "source": [
    "# Hàm tạo connect đến neo4j\n",
    "from neo4j import GraphDatabase\n",
    "\n",
    "def connect_to_neo4j(uri, user, password, db):\n",
    "\tdriver = GraphDatabase.driver(uri, auth=(user, password), database=db)\n",
    "\treturn driver"
   ]
  },
  {
   "cell_type": "code",
   "execution_count": 173,
   "metadata": {},
   "outputs": [],
   "source": [
    "# Kết nối đến Neo4j\n",
    "uri = \"bolt://localhost:7687\"\n",
    "user = \"neo4j\"\n",
    "password = \"adminadmin\"\n",
    "db = 'quydinh-quyche-full-temperature-0'\n",
    "driver = connect_to_neo4j(uri, user, password, db)"
   ]
  },
  {
   "cell_type": "code",
   "execution_count": 174,
   "metadata": {},
   "outputs": [],
   "source": [
    "for x in graph_documents:\n",
    "\tinsert_nodes_and_relationships(driver, x.nodes, x.relationships)\n"
   ]
  },
  {
   "cell_type": "code",
   "execution_count": 177,
   "metadata": {},
   "outputs": [
    {
     "data": {
      "text/plain": [
       "GraphDocument(nodes=[Node(id='Chương V', type='Chương', properties={'tiêu_đề': 'TỔ CHỨC THỰC HIỆN'}), Node(id='Điều 16', type='Điều', properties={'tiêu_đề': 'Tổ chức thực hiện'}), Node(id='Hiệu Trưởng Nhà Trường', type='Chủ_thể', properties={}), Node(id='Văn Bản Hướng Dẫn Chi Tiết', type='Văn_bản', properties={}), Node(id='Phiếu Đánh Giá Kết Quả Rèn Luyện Của Sinh Viên', type='Văn_bản', properties={}), Node(id='Phòng', type='Bộ_phận', properties={}), Node(id='Ban', type='Bộ_phận', properties={}), Node(id='Khoa', type='Bộ_phận', properties={}), Node(id='Lớp', type='Bộ_phận', properties={}), Node(id='Giáo Viên Chủ Nhiệm', type='Chủ_thể', properties={}), Node(id='Cố Vấn Học Tập', type='Chủ_thể', properties={}), Node(id='Người Học', type='Chủ_thể', properties={}), Node(id='Đơn Vị Chức Năng', type='Bộ_phận', properties={}), Node(id='Bộ Giáo Dục Và Đào Tạo', type='Chủ_thể', properties={})], relationships=[Relationship(source=Node(id='Chương V', type='Chương', properties={}), target=Node(id='Điều 16', type='Điều', properties={}), type='BAO_GỒM', properties={}), Relationship(source=Node(id='Điều 16', type='Điều', properties={}), target=Node(id='Hiệu Trưởng Nhà Trường', type='Chủ_thể', properties={}), type='QUY_ĐỊNH', properties={'hành_động': 'ban hành văn bản hướng dẫn chi tiết'}), Relationship(source=Node(id='Hiệu Trưởng Nhà Trường', type='Chủ_thể', properties={}), target=Node(id='Văn Bản Hướng Dẫn Chi Tiết', type='Văn_bản', properties={}), type='BAN_HÀNH', properties={}), Relationship(source=Node(id='Hiệu Trưởng Nhà Trường', type='Chủ_thể', properties={}), target=Node(id='Phiếu Đánh Giá Kết Quả Rèn Luyện Của Sinh Viên', type='Văn_bản', properties={}), type='BAN_HÀNH', properties={}), Relationship(source=Node(id='Văn Bản Hướng Dẫn Chi Tiết', type='Văn_bản', properties={}), target=Node(id='Phòng', type='Bộ_phận', properties={}), type='QUY_ĐỊNH', properties={'nội_dung': 'trách nhiệm'}), Relationship(source=Node(id='Văn Bản Hướng Dẫn Chi Tiết', type='Văn_bản', properties={}), target=Node(id='Ban', type='Bộ_phận', properties={}), type='QUY_ĐỊNH', properties={'nội_dung': 'trách nhiệm'}), Relationship(source=Node(id='Văn Bản Hướng Dẫn Chi Tiết', type='Văn_bản', properties={}), target=Node(id='Khoa', type='Bộ_phận', properties={}), type='QUY_ĐỊNH', properties={'nội_dung': 'trách nhiệm'}), Relationship(source=Node(id='Văn Bản Hướng Dẫn Chi Tiết', type='Văn_bản', properties={}), target=Node(id='Lớp', type='Bộ_phận', properties={}), type='QUY_ĐỊNH', properties={'nội_dung': 'trách nhiệm'}), Relationship(source=Node(id='Văn Bản Hướng Dẫn Chi Tiết', type='Văn_bản', properties={}), target=Node(id='Giáo Viên Chủ Nhiệm', type='Chủ_thể', properties={}), type='QUY_ĐỊNH', properties={'nội_dung': 'trách nhiệm'}), Relationship(source=Node(id='Văn Bản Hướng Dẫn Chi Tiết', type='Văn_bản', properties={}), target=Node(id='Cố Vấn Học Tập', type='Chủ_thể', properties={}), type='QUY_ĐỊNH', properties={'nội_dung': 'trách nhiệm'}), Relationship(source=Node(id='Văn Bản Hướng Dẫn Chi Tiết', type='Văn_bản', properties={}), target=Node(id='Người Học', type='Chủ_thể', properties={}), type='QUY_ĐỊNH', properties={'nội_dung': 'trách nhiệm'}), Relationship(source=Node(id='Điều 16', type='Điều', properties={}), target=Node(id='Đơn Vị Chức Năng', type='Bộ_phận', properties={}), type='QUY_ĐỊNH', properties={'hành_động': 'tham mưu cho Nhà trường đánh giá, tổng kết và báo cáo'}), Relationship(source=Node(id='Đơn Vị Chức Năng', type='Bộ_phận', properties={}), target=Node(id='Bộ Giáo Dục Và Đào Tạo', type='Chủ_thể', properties={}), type='BÁO_CÁO', properties={})], source=Document(metadata={}, page_content='Chương V: TỔ CHỨC THỰC HIỆN\\nĐiều 16. Tổ chức thực hiện\\n1. Hiệu trưởng Nhà trường ban hành văn bản hướng dẫn chi tiết việc thực hiện Quy định này và mẫu “Phiếu Đánh giá kết quả rèn luyện của sinh viên”; Hàng năm, kiểm tra, đánh giá và sửa đổi bổ sung kịp thời cho phù hợp với điều kiện, phạm vi của nhà trường, ngành học. \\n2. Văn bản hướng dẫn thực hiện và “Phiếu Đánh giá kết quả rèn luyện của sinh viên” phải quy định rõ trách nhiệm của các phòng, ban, khoa, lớp, giáo viên chủ nhiệm/cố vấn học tập và trách nhiệm của người học trong nhà trường; thể hiện rõ, chi tiết các nội dung, tiêu chí, thang điểm và hình thức đánh giá, đối tượng đánh giá phù hợp theo từng năm, phù hợp với đặc thù và điều kiện thực tiễn của nhà trường, của từng khoa, phù hợp với các nội dung đánh giá theo khung điểm quy định của văn bản này. \\n3. Kết thúc năm học, đơn vị chức năng tham mưu cho Nhà trường đánh giá, tổng kết và báo cáo công tác thực hiện Quy định này về Bộ Giáo dục và Đào tạo.'))"
      ]
     },
     "execution_count": 177,
     "metadata": {},
     "output_type": "execute_result"
    }
   ],
   "source": [
    "graph_documents[-1]"
   ]
  },
  {
   "cell_type": "code",
   "execution_count": null,
   "metadata": {},
   "outputs": [],
   "source": [
    "driver.close()\n"
   ]
  },
  {
   "cell_type": "code",
   "execution_count": 51,
   "metadata": {},
   "outputs": [],
   "source": [
    "# Prompt cho tác vụ tìm kiếm(cũ)\n",
    "CYPHER_GENERATION_TEMPLATE = \"\"\"\n",
    "Task: Sinh truy vấn Cypher để truy xuất dữ liệu từ đồ thị tri thức về quy chế đào tạo đại học.\n",
    "\n",
    "Instructions:\n",
    "- Phân tích kỹ câu hỏi và trích xuất các thành phần quan trọng như thực thể (node), quan hệ (edge) và thuộc tính (property).\n",
    "- Chỉ sử dụng các loại node, quan hệ và thuộc tính có trong schema bên dưới. Không thêm bất kỳ phần tử nào không có trong schema.\n",
    "- Các nhãn node được đặt bằng tiếng Việt (ví dụ: :Chương_trình, :Chủ_thể, :Học, :Quy_định...).\n",
    "- Các nhãn quan hệ được đặt bằng tiếng Việt (ví dụ: :ÁP_DỤNG, :HỌC, :QUY_ĐỊNH...).\n",
    "- Truy vấn phải trả lời chính xác câu hỏi dựa trên cấu trúc đồ thị.\n",
    "- Chỉ trả về truy vấn Cypher. Không viết giải thích, ghi chú, hoặc định nghĩa gì thêm.\n",
    "\n",
    "Schema đồ thị:\n",
    "{schema}\n",
    "\n",
    "Ví dụ truy vấn:\n",
    "\n",
    "# Các phương thức đóng học phí bao gồm các phương thức nào?\n",
    "# Cách 1\n",
    "MATCH (n:`Hoạt_động`)-[]->(m)\n",
    "WHERE n.id contains 'Phương Thức Đóng Học Phí'\n",
    "return n, m\n",
    "# Cách 2\n",
    "MATCH (n:`Phương_thức`)-[:`ÁP_DỤNG_CHO`]->(m)\n",
    "WHERE m.id contains 'Sinh Viên'\n",
    "return n.id\n",
    "\n",
    "# Học phần bắt buộc là gì?\n",
    "MATCH (n: Loại_học_phần)\n",
    "WHERE n.id contains 'Học Phần Bắt Buộc'\n",
    "return n.`định_nghĩa`\n",
    "\n",
    "# Khi nào sinh viên bị buộc thôi học?\n",
    "MATCH (n: Chủ_thể)-[:`CÓ_HÀNH_VI`]->(m)-[:`BỊ_XỬ_LÝ`]->(x)\n",
    "WHERE n.id contains 'Sinh Viên' \n",
    "AND x.id contains 'Buộc Thôi Học'\n",
    "return n, m, x\n",
    "\n",
    "# Thời hạn đóng học phí là khi nào?\n",
    "MATCH (n:`Chủ_thể`)-[r1:`PHẢI_TUÂN_THỦ`]->(m)-[r2]->(x)\n",
    "where n.id contains 'Sinh Viên' \n",
    "and m.id contains 'Thời Hạn Đóng Học Phí'\n",
    "RETURN n, r1, m, r2, x \n",
    "\n",
    "The question is:\n",
    "{question}\n",
    "\"\"\"\n"
   ]
  },
  {
   "cell_type": "code",
   "execution_count": 57,
   "metadata": {},
   "outputs": [],
   "source": [
    "# Prompt cho tác vụ tìm kiếm(mới)\n",
    "\n",
    "# Prompt cho tác vụ tìm kiếm(mới)\n",
    "CYPHER_GENERATION_TEMPLATE = \"\"\"\n",
    "Task: Sinh truy vấn Cypher để truy xuất dữ liệu từ đồ thị tri thức.\n",
    "\n",
    "Instructions:\n",
    "- Phân tích kỹ câu hỏi và xác định các thành phần quan trọng như thực thể (node), quan hệ (edge), và thuộc tính (property).\n",
    "- Chỉ sử dụng các loại node, quan hệ và thuộc tính có trong schema bên dưới. Không thêm bất kỳ phần tử nào không có trong schema.\n",
    "- Các nhãn node được đặt bằng tiếng Việt (ví dụ: :Chương_trình, :Chủ_thể, :Học, :Quy_định...).\n",
    "- Các loại quan hệ cũng được đặt bằng tiếng Việt (ví dụ: :ÁP_DỤNG, :HỌC, :QUY_ĐỊNH...).\n",
    "- Mọi truy vấn **phải trả về đầy đủ tất cả thuộc tính** của node và relationship bằng `properties(...)`. Nếu cần, sử dụng `type(...)` để lấy tên quan hệ.\n",
    "- **Chỉ được sử dụng phép so sánh `CONTAINS` trong mệnh đề WHERE. Không được sử dụng phép gán bằng (`=`).**\n",
    "- Khi cần truy vấn nhiều mẫu (nhiều thực thể và quan hệ khác nhau), hãy dùng nhiều câu `OPTIONAL MATCH` tách riêng, sau đó gom kết quả lại bằng `collect(...)` và chỉ viết một câu `RETURN` duy nhất ở cuối.\n",
    "- Không viết nhiều câu `OPTIONAL MATCH ... RETURN` liên tiếp. Luôn gom kết quả lại để trả về một lần duy nhất.\n",
    "- Không viết nhiều truy vấn MATCH...RETURN liên tiếp mà không tách bằng dòng trắng hoặc dùng `UNION`.\n",
    "- Không sử dụng `UNION` nếu có thể gộp các mẫu bằng `OPTIONAL MATCH`.\n",
    "- Không viết lời giải thích, ghi chú hoặc định nghĩa. Chỉ trả về truy vấn Cypher.\n",
    "\n",
    "Schema đồ thị:\n",
    "{schema}\n",
    "\n",
    "Ví dụ truy vấn:\n",
    "\n",
    "# Các phương thức đóng học phí bao gồm các phương thức nào?\n",
    "OPTIONAL MATCH (n)-[r]->(m)\n",
    "WHERE n.id CONTAINS 'Phương Thức Đóng Học Phí'\n",
    "RETURN \n",
    "  properties(n) AS n_properties, \n",
    "  type(r) AS r_type, \n",
    "  properties(r) AS r_properties, \n",
    "  properties(m) AS m_properties\n",
    "\n",
    "# Học phần bắt buộc là gì?\n",
    "OPTIONAL MATCH (n)\n",
    "WHERE n.id CONTAINS 'Học Phần Bắt Buộc'\n",
    "RETURN properties(n) AS n_properties\n",
    "\n",
    "# Khi nào sinh viên bị buộc thôi học?\n",
    "OPTIONAL MATCH (n)-[r1:`BỊ_BUỘC_THÔI_HỌC`]->(m)\n",
    "WHERE n.id CONTAINS 'Sinh Viên'\n",
    "RETURN \n",
    "  properties(n) AS n_properties, \n",
    "  type(r1) AS r1_type, \n",
    "  properties(r1) AS r1_properties,\n",
    "  properties(m) AS m_properties\n",
    "\n",
    "# Khối lượng học tập của các ngành là bao nhiêu?\n",
    "OPTIONAL MATCH (n)\n",
    "WHERE n.id CONTAINS 'Khối Lượng Học Tập'\n",
    "\n",
    "OPTIONAL MATCH (n2:Ngành_đào_tạo)-[r]->(m)\n",
    "WHERE m.id CONTAINS 'Khối Lượng Học Tập'\n",
    "\n",
    "RETURN \n",
    "  collect(DISTINCT properties(n)) AS khái_niệm,\n",
    "  collect(DISTINCT properties(n2)) AS ngành_đào_tạo,\n",
    "  collect(DISTINCT type(r)) AS loại_quan_hệ,\n",
    "  collect(DISTINCT properties(r)) AS thuộc_tính_quan_hệ,\n",
    "  collect(DISTINCT properties(m)) AS khái_niệm_liên_quan\n",
    "\n",
    "The question is:\n",
    "{question}\n",
    "\"\"\"\n"
   ]
  },
  {
   "cell_type": "code",
   "execution_count": 58,
   "metadata": {},
   "outputs": [],
   "source": [
    "from langchain.prompts.prompt import PromptTemplate\n",
    "\n",
    "CYPHER_GENERATION_PROMPT = PromptTemplate(\n",
    "\tinput_variables=[\"schema\", \"question\"],\n",
    "\ttemplate=CYPHER_GENERATION_TEMPLATE\n",
    ")"
   ]
  },
  {
   "cell_type": "code",
   "execution_count": 59,
   "metadata": {},
   "outputs": [],
   "source": [
    "import os\n",
    "from dotenv import load_dotenv\n",
    "from langchain_deepseek import ChatDeepSeek\n",
    "from langchain_neo4j import GraphCypherQAChain, Neo4jGraph\n",
    "load_dotenv()\n",
    "\n",
    "graph = Neo4jGraph(url=\"bolt://localhost:7687\", username=\"neo4j\", password=\"adminadmin\", database=\"quydinh-quyche-full-temperature-0\", enhanced_schema=True)\n",
    "\n",
    "# print(graph.schema)\n",
    "\n",
    "# Mô hình deepseek\n",
    "os.environ[\"DEEPSEEK_API_KEY\"] = str(os.getenv(\"DEEPSEEK_API_KEY\"))\n",
    "llm = ChatDeepSeek(\n",
    "\tmodel=\"deepseek-chat\",# deepseek-reasoner, deepseek-chat\n",
    "\ttemperature=0,\n",
    "\tmax_tokens=8000,\n",
    "\ttimeout=None,\n",
    "\tmax_retries=2,\n",
    ")\n",
    "\n",
    "chain = GraphCypherQAChain.from_llm(\n",
    "\tllm,\n",
    "\tgraph=graph,\n",
    "\tverbose=True,\n",
    "\ttop_k=5,\n",
    "\tallow_dangerous_requests=True,\n",
    "\tvalidate_cypher=True,\n",
    "\treturn_intermediate_steps=True,\n",
    "\tcypher_prompt=CYPHER_GENERATION_PROMPT,\n",
    ")"
   ]
  },
  {
   "cell_type": "code",
   "execution_count": 60,
   "metadata": {},
   "outputs": [
    {
     "name": "stderr",
     "output_type": "stream",
     "text": [
      "  0%|          | 0/50 [00:00<?, ?it/s]"
     ]
    },
    {
     "name": "stdout",
     "output_type": "stream",
     "text": [
      "\n",
      "\n",
      "\u001b[1m> Entering new GraphCypherQAChain chain...\u001b[0m\n",
      "Generated Cypher:\n",
      "\u001b[32;1m\u001b[1;3mOPTIONAL MATCH (n:Thư_viện)\n",
      "WHERE n.id CONTAINS 'Thư Viện Qnu'\n",
      "\n",
      "OPTIONAL MATCH (n)-[r1]->(m1)\n",
      "WHERE type(r1) IN ['THUỘC', 'PHỤC_VỤ', 'CÓ', 'TRUY_CẬP', 'KHAI_THÁC', 'HỢP_TÁC']\n",
      "\n",
      "OPTIONAL MATCH (m2:Đơn_vị)-[r2:THUỘC]->(m3:Tổ_chức)\n",
      "WHERE m2.id CONTAINS 'Thư Viện' AND m3.id CONTAINS 'Trường Đại Học Quy Nhơn'\n",
      "\n",
      "RETURN \n",
      "  collect(DISTINCT properties(n)) AS thư_viện,\n",
      "  collect(DISTINCT type(r1)) AS loại_quan_hệ,\n",
      "  collect(DISTINCT properties(r1)) AS thuộc_tính_quan_hệ,\n",
      "  collect(DISTINCT properties(m1)) AS đối_tượng_liên_quan,\n",
      "  collect(DISTINCT properties(m2)) AS đơn_vị,\n",
      "  collect(DISTINCT properties(r2)) AS thuộc_tính_thuộc,\n",
      "  collect(DISTINCT properties(m3)) AS tổ_chức\u001b[0m\n",
      "Full Context:\n",
      "\u001b[32;1m\u001b[1;3m[{'thư_viện': [{'id': 'Thư Viện Qnu'}], 'loại_quan_hệ': ['HỢP_TÁC', 'KHAI_THÁC'], 'thuộc_tính_quan_hệ': [{}], 'đối_tượng_liên_quan': [{'id': 'Trung Tâm Học Liệu Trường Đại Học Cần Thơ'}, {'id': 'Kqnc'}, {'id': 'Std'}, {'id': 'Proquest Central'}], 'đơn_vị': [{'diện_tích': 'gần 3.500 m2', 'id': 'Thư Viện', 'phục_vụ': 'công tác đào tạo, nghiên cứu của viên chức và người học của Trường', 'trụ_sở': 'khuôn viên phía Đông Bắc của trường Đại học Quy Nhơn', 'số_chỗ_ngồi': 'hơn 300 chỗ', 'cấu_trúc': '01 phòng Giáo trình, 03 phòng Đọc mở, 10 phòng Tự học, 01 phòng Đọc thân thiện, 01 phòng Câu lạc bộ', 'số_máy_tính': '20 máy', 'vai_trò': 'tổ chức và quản lý các hoạt động thông tin - thư viện'}], 'thuộc_tính_thuộc': [{}], 'tổ_chức': [{'id': 'Trường Đại Học Quy Nhơn'}]}]\u001b[0m\n"
     ]
    },
    {
     "name": "stderr",
     "output_type": "stream",
     "text": [
      "  2%|▏         | 1/50 [00:40<32:48, 40.18s/it]"
     ]
    },
    {
     "name": "stdout",
     "output_type": "stream",
     "text": [
      "\n",
      "\u001b[1m> Finished chain.\u001b[0m\n",
      "\n",
      "\n",
      "\u001b[1m> Entering new GraphCypherQAChain chain...\u001b[0m\n",
      "Generated Cypher:\n",
      "\u001b[32;1m\u001b[1;3m\u001b[0m\n",
      "Full Context:\n",
      "\u001b[32;1m\u001b[1;3m[]\u001b[0m\n"
     ]
    },
    {
     "name": "stderr",
     "output_type": "stream",
     "text": [
      "  4%|▍         | 2/50 [00:59<22:13, 27.78s/it]"
     ]
    },
    {
     "name": "stdout",
     "output_type": "stream",
     "text": [
      "\n",
      "\u001b[1m> Finished chain.\u001b[0m\n",
      "\n",
      "\n",
      "\u001b[1m> Entering new GraphCypherQAChain chain...\u001b[0m\n",
      "Generated Cypher:\n",
      "\u001b[32;1m\u001b[1;3mOPTIONAL MATCH (n)\n",
      "WHERE n.id CONTAINS 'Chương Trình Đào Tạo'\n",
      "RETURN properties(n) AS n_properties\u001b[0m\n",
      "Full Context:\n",
      "\u001b[32;1m\u001b[1;3m[{'n_properties': {'id': 'Chương Trình Đào Tạo', 'đơn_vị_tín_chỉ': 'được xây dựng theo đơn vị tín chỉ', 'cấu_trúc': 'từ các môn học hoặc học phần', 'mô_tả': 'Nơi các học phần Tiếng Anh 1, Tiếng Anh 2 thuộc về', 'yêu_cầu': 'đã được tổ chức đào tạo tối thiểu 03 khóa liên tục theo hình thức chính quy', 'phạm_vi': 'áp dụng chung đối với các hình thức, phương thức tổ chức đào tạo và đối tượng người học khác nhau', 'từ_năm': '2024', 'yêu_cầu_chất_lượng': 'đã được công nhận đạt tiêu chuẩn chất lượng'}}, {'n_properties': {'id': 'Chương Trình Đào Tạo'}}, {'n_properties': {'id': 'Chương Trình Đào Tạo Hình Thức Vừa Làm Vừa Học'}}, {'n_properties': {'id': 'Chương Trình Đào Tạo Ở Trình Độ Thấp Hơn'}}, {'n_properties': {'id': 'Quy Định Công Tác Sinh Viên Đối Với Chương Trình Đào Tạo Đại Học Hệ Chính Quy', 'tên': 'Quy định công tác sinh viên đối với chương trình đào tạo đại học hệ chính quy'}}]\u001b[0m\n"
     ]
    },
    {
     "name": "stderr",
     "output_type": "stream",
     "text": [
      "  6%|▌         | 3/50 [01:24<20:56, 26.74s/it]"
     ]
    },
    {
     "name": "stdout",
     "output_type": "stream",
     "text": [
      "\n",
      "\u001b[1m> Finished chain.\u001b[0m\n",
      "\n",
      "\n",
      "\u001b[1m> Entering new GraphCypherQAChain chain...\u001b[0m\n",
      "Generated Cypher:\n",
      "\u001b[32;1m\u001b[1;3mOPTIONAL MATCH (n)\n",
      "WHERE n.id CONTAINS 'Học Phần'\n",
      "RETURN properties(n) AS n_properties\u001b[0m\n",
      "Full Context:\n",
      "\u001b[32;1m\u001b[1;3m[{'n_properties': {'id': 'Học Phần', 'mã_học_phần': 'Do Trường quy định', 'khối_lượng_tín_chỉ': '1-4', 'thời_gian_giảng_dạy': 'Một học kỳ', 'định_nghĩa': 'Đơn vị học tập có điểm đánh giá và số tín chỉ.'}}, {'n_properties': {'id': 'Học Phần Bắt Buộc', 'định_nghĩa': 'Học phần chứa đựng những nội dung kiến thức chính yếu của mỗi chương trình đào tạo và bắt buộc sinh viên phải tích lũy.'}}, {'n_properties': {'id': 'Học Phần Tự Chọn', 'định_nghĩa': 'Học phần chứa đựng những nội dung kiến thức cần thiết, nhưng sinh viên được tự chọn theo hướng dẫn của khoa để tích lũy đủ số học phần quy định cho mỗi chương trình.'}}, {'n_properties': {'id': 'Học Phần Trước', 'định_nghĩa': 'Học phần A là học phần trước của học phần B, sinh viên chỉ được đăng ký học học phần B khi đã học học phần A.'}}, {'n_properties': {'id': 'Học Phần Tương Đương', 'định_nghĩa': 'Một hay một nhóm học phần thuộc chương trình đào tạo của một ngành khác đang đào tạo tại trường, được phép tích lũy để thay cho một hay một nhóm học phần trong chương trình đào tạo của ngành, chuyên ngành.'}}]\u001b[0m\n"
     ]
    },
    {
     "name": "stderr",
     "output_type": "stream",
     "text": [
      "  8%|▊         | 4/50 [01:40<17:12, 22.45s/it]"
     ]
    },
    {
     "name": "stdout",
     "output_type": "stream",
     "text": [
      "\n",
      "\u001b[1m> Finished chain.\u001b[0m\n",
      "\n",
      "\n",
      "\u001b[1m> Entering new GraphCypherQAChain chain...\u001b[0m\n",
      "Generated Cypher:\n",
      "\u001b[32;1m\u001b[1;3mOPTIONAL MATCH (n:Khái_niệm)\n",
      "WHERE n.id CONTAINS 'Thời Gian Học Tập'\n",
      "\n",
      "OPTIONAL MATCH (n2:Quy_định)-[r]->(m)\n",
      "WHERE m.id CONTAINS 'Thời Gian Học Tập'\n",
      "\n",
      "RETURN \n",
      "  collect(DISTINCT properties(n)) AS khái_niệm,\n",
      "  collect(DISTINCT properties(n2)) AS quy_định,\n",
      "  collect(DISTINCT type(r)) AS loại_quan_hệ,\n",
      "  collect(DISTINCT properties(r)) AS thuộc_tính_quan_hệ,\n",
      "  collect(DISTINCT properties(m)) AS khái_niệm_liên_quan\u001b[0m\n",
      "Full Context:\n",
      "\u001b[32;1m\u001b[1;3m[{'khái_niệm': [{'id': 'Thời Gian Học Tập'}], 'quy_định': [], 'loại_quan_hệ': [], 'thuộc_tính_quan_hệ': [], 'khái_niệm_liên_quan': []}]\u001b[0m\n"
     ]
    },
    {
     "name": "stderr",
     "output_type": "stream",
     "text": [
      " 10%|█         | 5/50 [02:00<16:03, 21.41s/it]"
     ]
    },
    {
     "name": "stdout",
     "output_type": "stream",
     "text": [
      "\n",
      "\u001b[1m> Finished chain.\u001b[0m\n",
      "\n",
      "\n",
      "\u001b[1m> Entering new GraphCypherQAChain chain...\u001b[0m\n",
      "Generated Cypher:\n",
      "\u001b[32;1m\u001b[1;3mOPTIONAL MATCH (n:Ngành_đào_tạo)-[r]->(m)\n",
      "WHERE n.id CONTAINS 'Ngành Đào Tạo Kỹ Sư' AND m.id CONTAINS 'Hình Thức Đào Tạo Chính Quy'\n",
      "\n",
      "OPTIONAL MATCH (n2:Hình_thức_đào_tạo)\n",
      "WHERE n2.id CONTAINS 'Hình Thức Đào Tạo Chính Quy'\n",
      "\n",
      "RETURN \n",
      "  collect(DISTINCT properties(n)) AS ngành_đào_tạo,\n",
      "  collect(DISTINCT type(r)) AS loại_quan_hệ,\n",
      "  collect(DISTINCT properties(r)) AS thuộc_tính_quan_hệ,\n",
      "  collect(DISTINCT properties(m)) AS hình_thức_đào_tạo,\n",
      "  collect(DISTINCT properties(n2)) AS thông_tin_hình_thức\u001b[0m\n",
      "Full Context:\n",
      "\u001b[32;1m\u001b[1;3m[{'ngành_đào_tạo': [], 'loại_quan_hệ': [], 'thuộc_tính_quan_hệ': [], 'hình_thức_đào_tạo': [], 'thông_tin_hình_thức': [{'thời_gian': '4.5 năm đối với ngành đào tạo kỹ sư, 3.5 năm đối với ngành đào tạo cử nhân kỹ thuật, 4 năm đối với các ngành còn lại', 'id': 'Hình Thức Đào Tạo Chính Quy'}]}]\u001b[0m\n"
     ]
    },
    {
     "name": "stderr",
     "output_type": "stream",
     "text": [
      " 12%|█▏        | 6/50 [02:25<16:44, 22.82s/it]"
     ]
    },
    {
     "name": "stdout",
     "output_type": "stream",
     "text": [
      "\n",
      "\u001b[1m> Finished chain.\u001b[0m\n",
      "\n",
      "\n",
      "\u001b[1m> Entering new GraphCypherQAChain chain...\u001b[0m\n",
      "Generated Cypher:\n",
      "\u001b[32;1m\u001b[1;3m\u001b[0m\n",
      "Full Context:\n",
      "\u001b[32;1m\u001b[1;3m[]\u001b[0m\n"
     ]
    },
    {
     "name": "stderr",
     "output_type": "stream",
     "text": [
      " 14%|█▍        | 7/50 [02:49<16:32, 23.09s/it]"
     ]
    },
    {
     "name": "stdout",
     "output_type": "stream",
     "text": [
      "\n",
      "\u001b[1m> Finished chain.\u001b[0m\n",
      "\n",
      "\n",
      "\u001b[1m> Entering new GraphCypherQAChain chain...\u001b[0m\n",
      "Generated Cypher:\n",
      "\u001b[32;1m\u001b[1;3m\u001b[0m\n",
      "Full Context:\n",
      "\u001b[32;1m\u001b[1;3m[]\u001b[0m\n"
     ]
    },
    {
     "name": "stderr",
     "output_type": "stream",
     "text": [
      " 16%|█▌        | 8/50 [03:05<14:35, 20.85s/it]"
     ]
    },
    {
     "name": "stdout",
     "output_type": "stream",
     "text": [
      "\n",
      "\u001b[1m> Finished chain.\u001b[0m\n",
      "\n",
      "\n",
      "\u001b[1m> Entering new GraphCypherQAChain chain...\u001b[0m\n",
      "Generated Cypher:\n",
      "\u001b[32;1m\u001b[1;3mOPTIONAL MATCH (n:Chủ_thể)-[r]->(m)\n",
      "WHERE n.id CONTAINS \"Sinh Viên\" AND (type(r) CONTAINS \"QUYỀN\" OR type(r) CONTAINS \"ĐƯỢC\")\n",
      "\n",
      "OPTIONAL MATCH (n2:Quy_định)-[r2]->(m2:Chủ_thể)\n",
      "WHERE m2.id CONTAINS \"Sinh Viên\" AND (type(r2) CONTAINS \"QUY_ĐỊNH\" OR type(r2) CONTAINS \"ÁP_DỤNG\")\n",
      "\n",
      "RETURN \n",
      "  collect(DISTINCT properties(n)) AS chủ_thể,\n",
      "  collect(DISTINCT type(r)) AS quan_hệ_quyền,\n",
      "  collect(DISTINCT properties(r)) AS thuộc_tính_quan_hệ,\n",
      "  collect(DISTINCT properties(m)) AS đối_tượng_quyền,\n",
      "  collect(DISTINCT properties(n2)) AS quy_định,\n",
      "  collect(DISTINCT type(r2)) AS quan_hệ_quy_định,\n",
      "  collect(DISTINCT properties(r2)) AS thuộc_tính_quy_định,\n",
      "  collect(DISTINCT properties(m2)) AS đối_tượng_quy_định\u001b[0m\n",
      "Full Context:\n",
      "\u001b[32;1m\u001b[1;3m[{'chủ_thể': [{'id': 'Sinh Viên', 'quyền_lợi': 'được bảo đảm điều kiện thực hiện đầy đủ nhiệm vụ và quyền trong quá trình học tập và rèn luyện tại trường', 'vai_trò': 'Lựa chọn phương án trả lời', 'định_nghĩa': 'người đang học chương trình đào tạo trình độ đại học hệ chính quy tại trường'}, {'id': 'Sinh Viên Ngoại Trú', 'định_nghĩa': 'Sinh viên không ở trong ký túc xá của trường'}, {'id': 'Sinh Viên Nội Trú'}, {'id': 'Ban Cán Sự Lớp Sinh Viên', 'mô_tả': 'Lớp trưởng và các lớp phó do tập thể sinh viên trong lớp bầu, Trưởng khoa ra quyết định công nhận. Nhiệm kỳ ban cán sự lớp sinh viên theo năm học'}, {'id': 'Sinh Viên Sư Phạm', 'mô_tả': 'sinh viên học trình độ đại học, cao đẳng các ngành đào tạo giáo viên theo hình thức đào tạo chính quy, liên thông chính quy và sinh viên học văn bằng thứ 2 theo hình thức đào tạo chính quy trình độ đại học, cao đẳng các ngành đào tạo giáo viên có kết quả học lực văn bằng thứ 1 đạt loại giỏi', 'phân_loại': 'Đào tạo theo phương thức giao nhiệm vụ, đặt hàng hoặc đấu thầu hoặc theo nhu cầu xã hội.', 'vai_trò': 'Đối tượng được đào tạo và tuyển dụng'}, {'id': 'Sinh Viên Còn Nợ Học Phí'}], 'quan_hệ_quyền': ['ĐƯỢC_ĐĂNG_KÝ', 'ĐƯỢC_QUYỀN', 'ĐƯỢC', 'ĐƯỢC_CHUYỂN_QUA', 'ĐƯỢC_XẾP_LỚP', 'ĐƯỢC_XÉT', 'ĐƯỢC_CẤP', 'ĐƯỢC_XEM_XÉT', 'ĐƯỢC_CÔNG_NHẬN', 'ĐƯỢC_HƯỞNG', 'ĐƯỢC_PHÉP', 'KHÔNG_ĐƯỢC_MANG', 'ĐƯỢC_TƯ_VẤN', 'KHÔNG_ĐƯỢC_XÉT', 'KHÔNG_ĐƯỢC_NHẬN', 'KHÔNG_ĐƯỢC', 'ĐƯỢC_NHẬN_VÀO', 'ĐƯỢC_CUNG_CẤP', 'ĐƯỢC_PHỔ_BIẾN', 'ĐƯỢC_XÉT_NHẬN', 'ĐƯỢC_XÉT_TIẾP_NHẬN', 'ĐƯỢC_TÍNH', 'ĐƯỢC_KHIẾU_NẠI', 'ĐƯỢC_HỖ_TRỢ', 'ĐƯỢC_ĐẢM_BẢO', 'ĐƯỢC_CỘNG', 'KHÔNG_ĐƯỢC_ĐĂNG_KÝ'], 'thuộc_tính_quan_hệ': [{}, {'mục_đích': 'cải thiện điểm trung bình chung tích lũy'}, {'điều_kiện': 'Được sự đồng ý của Trưởng các đơn vị chuyên môn phụ trách chương trình, ngành đào tạo và của Hiệu trưởng'}, {'điều_kiện': 'Còn đủ thời gian học tập theo quy định đối với hình thức chuyển đến'}, {'điều_kiện': 'Được sự đồng ý của Hiệu trưởng trường xin chuyển đi và trường xin chuyển đến'}, {'số_lượng': 'một chế độ ưu đãi cao nhất'}, {'số_lượng': 'một chế độ ưu đãi'}, {'điều_kiện': 'còn nợ học phí'}], 'đối_tượng_quyền': [{'id': 'Đăng Ký Làm Đồ Án, Khoá Luận Tốt Nghiệp'}, {'id': 'Cải Thiện Điểm Trung Bình Chung Tích Lũy'}, {'id': 'Đăng Ký Học Lại'}, {'id': 'Xếp Hạng Năm Đào Tạo'}, {'id': 'Xếp Trình Độ Năm Học'}, {'id': 'Xếp Loại Học Lực'}, {'id': 'Chương Trình Đào Tạo Hình Thức Vừa Làm Vừa Học'}, {'id': 'Chương Trình Đào Tạo Ở Trình Độ Thấp Hơn'}, {'id': 'Xếp Lớp Học Cùng Khóa Sau'}, {'id': 'Trường', 'tên': 'Trường Đại học Quy Nhơn', 'vai_trò': 'Tổ chức khảo sát và thu thập thông tin', 'định_nghĩa': 'Trường đào tạo trình độ đại học hệ chính quy'}, {'id': 'Xét Tốt Nghiệp'}, {'id': 'Bằng Tốt Nghiệp Đại Học', 'định_nghĩa': 'Được cấp theo ngành đào tạo chính (đơn ngành hoặc song ngành)'}, {'id': 'Bằng Tốt Nghiệp, Chứng Chỉ, Bảng Điểm'}, {'id': 'Giấy Chứng Nhận'}, {'id': 'Chuyển Ngành'}, {'id': 'Chuyển Hình Thức Học'}, {'id': 'Chuyển Trường'}, {'id': 'Học Phần', 'mã_học_phần': 'Do Trường quy định', 'khối_lượng_tín_chỉ': '1-4', 'thời_gian_giảng_dạy': 'Một học kỳ', 'định_nghĩa': 'Đơn vị học tập có điểm đánh giá và số tín chỉ.'}, {'id': 'Chính Sách Hỗ Trợ'}, {'id': 'Miễn Giảm Phí Dịch Vụ Công Cộng'}, {'id': 'Nghỉ Hè, Nghỉ Tết, Nghỉ Lễ'}, {'id': 'Chăm Sóc, Bảo Vệ Sức Khỏe'}, {'id': 'Miễn Giảm Học Phí'}, {'id': 'Hoãn Thi Kết Thúc Học Phần'}, {'id': 'Tài Liệu'}, {'id': 'Thiết Bị Chứa Đựng Thông Tin'}, {'id': 'Ghi Âm'}, {'id': 'Phương Tiện Kỹ Thuật Thu, Phát, Truyền Tin'}, {'id': 'Điện Thoại Di Động'}, {'id': 'Ngành Giáo Dục'}, {'id': 'Học Bổng Khuyến Khích Học Tập', 'hệ_thống': 'giáo dục chính quy công lập và ngoài công lập', 'đối_tượng': 'học sinh, sinh viên'}, {'id': 'Bằng Tốt Nghiệp'}, {'id': 'Hút Thuốc Lá'}, {'id': 'Tờ Rơi, Thông Tin Quảng Cáo'}, {'id': 'Ngành, Nghề Đã Đăng Ký Dự Tuyển'}, {'id': 'Thông Tin Cá Nhân'}, {'id': 'Nội Quy, Quy Chế Về Đào Tạo, Rèn Luyện'}, {'id': 'Chế Độ, Chính Sách Của Nhà Nước'}, {'id': 'Học Bổng Do Các Tổ Chức, Cá Nhân Tài Trợ'}, {'id': 'Ký Túc Xá', 'định_nghĩa': 'nơi để SV tạm trú trong thời gian học tại trường, do nhà trường tổ chức quản lý'}, {'id': 'Điểm Rèn Luyện'}, {'id': 'Khen Thưởng'}, {'id': 'Cơ Quan Hữu Quan'}, {'id': 'Hiệu Trưởng', 'vai_trò': 'Ban hành Quyết định thành lập Hội đồng đánh giá kết quả rèn luyện'}, {'id': 'Chính Quyền Địa Phương'}, {'id': 'Quyền Công Dân'}, {'id': 'Quy Định Công Tác Sinh Viên', 'ban_hành_bởi': 'Hiệu trưởng Trường Đại học Quy Nhơn', 'số_quyết_định': '671/QĐ-ĐHQN', 'ngày_ban_hành': '2016-05-23', 'phạm_vi': 'chương trình đào tạo đại học hệ chính quy'}, {'id': 'Quy Chế Học Sinh, Sinh Viên', 'ban_hành_bởi': 'Bộ Giáo dục và Đào tạo', 'phạm_vi': 'trường đại học, cao đẳng và trung cấp chuyên nghiệp hệ chính quy'}, {'id': 'An Ninh, Trật Tự, An Toàn Và Vệ Sinh Môi Trường'}, {'id': 'Chế Độ Ưu Tiên'}, {'id': 'Ngân Sách Nhà Nước'}, {'id': 'Xét Học Bổng Khuyến Khích Học Tập'}, {'id': 'Học Phần Của Kỳ Học Tiếp Theo'}], 'quy_định': [{'id': 'Quy Định Về Học Phí Của Sinh Viên Đại Học Hệ Chính Quy', 'ban_hành_kèm_theo': 'Quyết định số 1251/QĐ-ĐHQN', 'ngày_ban_hành': '2018-07-17'}, {'id': 'Chuẩn Đầu Ra Ngoại Ngữ', 'tên': 'Chuẩn đầu ra ngoại ngữ đối với sinh viên đại học hệ chính quy Trường Đại học Quy Nhơn'}, {'id': 'Quy Định Công Tác Sinh Viên Ngoại Trú', 'tên': 'Quy định công tác sinh viên ngoại trú'}, {'id': 'Quy Định Cụ Thể'}, {'id': 'Quy Định Về Việc Kiểm Tra, Đánh Giá Năng Lực Tiếng Anh Đầu Khoá', 'tên': 'Quy định về việc kiểm tra, đánh giá năng lực tiếng Anh đầu khoá'}], 'quan_hệ_quy_định': ['ÁP_DỤNG', 'ÁP_DỤNG_CHO', 'QUY_ĐỊNH'], 'thuộc_tính_quy_định': [{}], 'đối_tượng_quy_định': [{'id': 'Sinh Viên', 'quyền_lợi': 'được bảo đảm điều kiện thực hiện đầy đủ nhiệm vụ và quyền trong quá trình học tập và rèn luyện tại trường', 'vai_trò': 'Lựa chọn phương án trả lời', 'định_nghĩa': 'người đang học chương trình đào tạo trình độ đại học hệ chính quy tại trường'}, {'id': 'Sinh Viên Liên Thông Từ Cao Đẳng Lên Đại Học Hệ Chính Quy'}, {'id': 'Sinh Viên Đại Học Hệ Chính Quy'}, {'id': 'Sinh Viên Ngoại Trú', 'định_nghĩa': 'Sinh viên không ở trong ký túc xá của trường'}, {'id': 'Sinh Viên Nội Trú'}, {'id': 'Sinh Viên Năm Thứ Nhất Hệ Đại Học Chính Quy Các Ngành Không Chuyên Ngữ', 'mô_tả': 'Đối tượng áp dụng của quy định'}]}]\u001b[0m\n"
     ]
    },
    {
     "name": "stderr",
     "output_type": "stream",
     "text": [
      " 18%|█▊        | 9/50 [03:50<19:26, 28.46s/it]"
     ]
    },
    {
     "name": "stdout",
     "output_type": "stream",
     "text": [
      "\n",
      "\u001b[1m> Finished chain.\u001b[0m\n",
      "\n",
      "\n",
      "\u001b[1m> Entering new GraphCypherQAChain chain...\u001b[0m\n",
      "Generated Cypher:\n",
      "\u001b[32;1m\u001b[1;3mOPTIONAL MATCH (n)\n",
      "WHERE n.id CONTAINS 'Khối Lượng Học Tập'\n",
      "\n",
      "OPTIONAL MATCH (n2:Ngành_đào_tạo)-[r]->(m)\n",
      "WHERE m.id CONTAINS 'Khối Lượng Học Tập'\n",
      "\n",
      "RETURN \n",
      "  collect(DISTINCT properties(n)) AS khái_niệm,\n",
      "  collect(DISTINCT properties(n2)) AS ngành_đào_tạo,\n",
      "  collect(DISTINCT type(r)) AS loại_quan_hệ,\n",
      "  collect(DISTINCT properties(r)) AS thuộc_tính_quan_hệ,\n",
      "  collect(DISTINCT properties(m)) AS khái_niệm_liên_quan\u001b[0m\n",
      "Full Context:\n",
      "\u001b[32;1m\u001b[1;3m[{'khái_niệm': [{'id': 'Khối Lượng Học Tập', 'ngành_kỹ_sư': '150 tín chỉ', 'ngành_khác': '135 tín chỉ', 'ngành_sư_phạm': '138 tín chỉ', 'ngành_cử_nhân_kỹ_thuật': '120 tín chỉ'}, {'id': 'Khối Lượng Học Tập Tối Thiểu'}, {'id': 'Khối Lượng Học Tập Tối Đa'}, {'id': 'Khối Lượng Học Tập Đã Tích Lũy'}], 'ngành_đào_tạo': [], 'loại_quan_hệ': [], 'thuộc_tính_quan_hệ': [], 'khái_niệm_liên_quan': []}]\u001b[0m\n"
     ]
    },
    {
     "name": "stderr",
     "output_type": "stream",
     "text": [
      " 20%|██        | 10/50 [04:10<17:17, 25.94s/it]"
     ]
    },
    {
     "name": "stdout",
     "output_type": "stream",
     "text": [
      "\n",
      "\u001b[1m> Finished chain.\u001b[0m\n",
      "\n",
      "\n",
      "\u001b[1m> Entering new GraphCypherQAChain chain...\u001b[0m\n",
      "Generated Cypher:\n",
      "\u001b[32;1m\u001b[1;3mOPTIONAL MATCH (n:Loại_học_phần)\n",
      "RETURN count(n) AS số_loại_học_phần\u001b[0m\n",
      "Full Context:\n",
      "\u001b[32;1m\u001b[1;3m[{'số_loại_học_phần': 6}]\u001b[0m\n"
     ]
    },
    {
     "name": "stderr",
     "output_type": "stream",
     "text": [
      " 22%|██▏       | 11/50 [04:28<15:07, 23.27s/it]"
     ]
    },
    {
     "name": "stdout",
     "output_type": "stream",
     "text": [
      "\n",
      "\u001b[1m> Finished chain.\u001b[0m\n",
      "\n",
      "\n",
      "\u001b[1m> Entering new GraphCypherQAChain chain...\u001b[0m\n",
      "Generated Cypher:\n",
      "\u001b[32;1m\u001b[1;3mOPTIONAL MATCH (n)\n",
      "WHERE n.id CONTAINS 'Tín Chỉ'\n",
      "RETURN properties(n) AS n_properties\u001b[0m\n",
      "Full Context:\n",
      "\u001b[32;1m\u001b[1;3m[{'n_properties': {'id': 'Tín Chỉ', 'yêu_cầu_giảng_dạy': '15 giờ giảng hoặc 30 giờ thực hành, thí nghiệm, thảo luận', 'thời_gian_học_tập': '50 giờ học tập định mức', 'yêu_cầu_tự_học': '45 giờ làm tiểu luận, bài tập lớn hoặc đồ án, khoá luận tốt nghiệp, thực tập tại cơ sở', 'định_nghĩa': 'Được sử dụng để xác định khối lượng học tập của chương trình đào tạo, của mỗi thành phần hoặc của mỗi học phần trong chương trình đào tạo.'}}, {'n_properties': {'id': 'Đào Tạo Theo Tín Chỉ', 'mô_tả': 'Là phương thức tổ chức đào tạo theo từng lớp học phần, cho phép sinh viên tích lũy tín chỉ của từng học phần và thực hiện chương trình đào tạo theo kế hoạch học tập của cá nhân, phù hợp với kế hoạch giảng dạy của Trường Đại học Quy Nhơn.'}}, {'n_properties': {'id': 'Số Tín Chỉ'}}, {'n_properties': {'id': 'Số Tín Chỉ Tích Lũy'}}, {'n_properties': {'id': 'Số Tín Chỉ Trung Bình Một Năm Học'}}]\u001b[0m\n"
     ]
    },
    {
     "name": "stderr",
     "output_type": "stream",
     "text": [
      " 24%|██▍       | 12/50 [04:48<14:14, 22.49s/it]"
     ]
    },
    {
     "name": "stdout",
     "output_type": "stream",
     "text": [
      "\n",
      "\u001b[1m> Finished chain.\u001b[0m\n",
      "\n",
      "\n",
      "\u001b[1m> Entering new GraphCypherQAChain chain...\u001b[0m\n",
      "Generated Cypher:\n",
      "\u001b[32;1m\u001b[1;3mOPTIONAL MATCH (n)\n",
      "WHERE n.id CONTAINS 'Học Phần Bắt Buộc'\n",
      "RETURN properties(n) AS n_properties\u001b[0m\n",
      "Full Context:\n",
      "\u001b[32;1m\u001b[1;3m[{'n_properties': {'id': 'Học Phần Bắt Buộc', 'định_nghĩa': 'Học phần chứa đựng những nội dung kiến thức chính yếu của mỗi chương trình đào tạo và bắt buộc sinh viên phải tích lũy.'}}, {'n_properties': {'id': 'Học Phần Bắt Buộc'}}]\u001b[0m\n"
     ]
    },
    {
     "name": "stderr",
     "output_type": "stream",
     "text": [
      " 26%|██▌       | 13/50 [05:07<13:03, 21.17s/it]"
     ]
    },
    {
     "name": "stdout",
     "output_type": "stream",
     "text": [
      "\n",
      "\u001b[1m> Finished chain.\u001b[0m\n",
      "\n",
      "\n",
      "\u001b[1m> Entering new GraphCypherQAChain chain...\u001b[0m\n",
      "Generated Cypher:\n",
      "\u001b[32;1m\u001b[1;3mOPTIONAL MATCH (n)\n",
      "WHERE n.id CONTAINS 'Học Phần Tương Đương'\n",
      "RETURN properties(n) AS n_properties\u001b[0m\n",
      "Full Context:\n",
      "\u001b[32;1m\u001b[1;3m[{'n_properties': {'id': 'Học Phần Tương Đương', 'định_nghĩa': 'Một hay một nhóm học phần thuộc chương trình đào tạo của một ngành khác đang đào tạo tại trường, được phép tích lũy để thay cho một hay một nhóm học phần trong chương trình đào tạo của ngành, chuyên ngành.'}}]\u001b[0m\n"
     ]
    },
    {
     "name": "stderr",
     "output_type": "stream",
     "text": [
      " 28%|██▊       | 14/50 [05:23<11:55, 19.88s/it]"
     ]
    },
    {
     "name": "stdout",
     "output_type": "stream",
     "text": [
      "\n",
      "\u001b[1m> Finished chain.\u001b[0m\n",
      "\n",
      "\n",
      "\u001b[1m> Entering new GraphCypherQAChain chain...\u001b[0m\n",
      "Generated Cypher:\n",
      "\u001b[32;1m\u001b[1;3mOPTIONAL MATCH (n)\n",
      "WHERE n.id CONTAINS 'Học Phần Tự Chọn'\n",
      "RETURN properties(n) AS n_properties\u001b[0m\n",
      "Full Context:\n",
      "\u001b[32;1m\u001b[1;3m[{'n_properties': {'id': 'Học Phần Tự Chọn', 'định_nghĩa': 'Học phần chứa đựng những nội dung kiến thức cần thiết, nhưng sinh viên được tự chọn theo hướng dẫn của khoa để tích lũy đủ số học phần quy định cho mỗi chương trình.'}}, {'n_properties': {'id': 'Học Phần Tự Chọn'}}, {'n_properties': {'id': 'Học Đổi Học Phần Tự Chọn Khác'}}]\u001b[0m\n"
     ]
    },
    {
     "name": "stderr",
     "output_type": "stream",
     "text": [
      " 30%|███       | 15/50 [05:40<11:01, 18.90s/it]"
     ]
    },
    {
     "name": "stdout",
     "output_type": "stream",
     "text": [
      "\n",
      "\u001b[1m> Finished chain.\u001b[0m\n",
      "\n",
      "\n",
      "\u001b[1m> Entering new GraphCypherQAChain chain...\u001b[0m\n",
      "Generated Cypher:\n",
      "\u001b[32;1m\u001b[1;3mOPTIONAL MATCH (n)\n",
      "WHERE n.id CONTAINS 'Học Phần Điều Kiện'\n",
      "RETURN properties(n) AS n_properties\u001b[0m\n",
      "Full Context:\n",
      "\u001b[32;1m\u001b[1;3m[{'n_properties': {'id': 'Học Phần Điều Kiện', 'định_nghĩa': 'Học phần mà sinh viên phải hoàn thành mới được xét tốt nghiệp nhưng điểm của học phần này không tính vào điểm trung bình chung học kỳ và điểm trung bình chung tích lũy.'}}, {'n_properties': {'id': 'Học Phần Điều Kiện', 'định_nghĩa': 'Học phần không tính vào điểm TBC học kỳ hoặc tích lũy.'}}]\u001b[0m\n"
     ]
    },
    {
     "name": "stderr",
     "output_type": "stream",
     "text": [
      " 32%|███▏      | 16/50 [05:58<10:28, 18.50s/it]"
     ]
    },
    {
     "name": "stdout",
     "output_type": "stream",
     "text": [
      "\n",
      "\u001b[1m> Finished chain.\u001b[0m\n",
      "\n",
      "\n",
      "\u001b[1m> Entering new GraphCypherQAChain chain...\u001b[0m\n",
      "Generated Cypher:\n",
      "\u001b[32;1m\u001b[1;3mOPTIONAL MATCH (n)\n",
      "WHERE n.id CONTAINS 'Học Phần Thay Thế'\n",
      "RETURN properties(n) AS n_properties\u001b[0m\n",
      "Full Context:\n",
      "\u001b[32;1m\u001b[1;3m[{'n_properties': {'id': 'Học Phần Thay Thế', 'định_nghĩa': 'Học phần được sử dụng để thay thế cho một học phần có trong chương trình nhưng nay không còn tổ chức giảng dạy nữa hoặc là một học phần tự chọn thay cho học phần tự chọn khác.'}}]\u001b[0m\n"
     ]
    },
    {
     "name": "stderr",
     "output_type": "stream",
     "text": [
      " 34%|███▍      | 17/50 [06:38<13:49, 25.13s/it]"
     ]
    },
    {
     "name": "stdout",
     "output_type": "stream",
     "text": [
      "\n",
      "\u001b[1m> Finished chain.\u001b[0m\n",
      "\n",
      "\n",
      "\u001b[1m> Entering new GraphCypherQAChain chain...\u001b[0m\n",
      "Generated Cypher:\n",
      "\u001b[32;1m\u001b[1;3mOPTIONAL MATCH (n:Hình_thức_đào_tạo)-[r]->(m)\n",
      "WHERE n.id CONTAINS 'Hình Thức Đào Tạo Vừa Làm Vừa Học'\n",
      "RETURN \n",
      "  properties(n) AS n_properties, \n",
      "  type(r) AS r_type, \n",
      "  properties(r) AS r_properties, \n",
      "  properties(m) AS m_properties\u001b[0m\n",
      "Full Context:\n",
      "\u001b[32;1m\u001b[1;3m[{'n_properties': {'thời_gian': 'dài hơn tối thiểu 20% so với hình thức đào tạo chính quy', 'id': 'Hình Thức Đào Tạo Vừa Làm Vừa Học'}, 'r_type': 'DÀI_HƠN', 'r_properties': {}, 'm_properties': {'thời_gian': '4.5 năm đối với ngành đào tạo kỹ sư, 3.5 năm đối với ngành đào tạo cử nhân kỹ thuật, 4 năm đối với các ngành còn lại', 'id': 'Hình Thức Đào Tạo Chính Quy'}}]\u001b[0m\n"
     ]
    },
    {
     "name": "stderr",
     "output_type": "stream",
     "text": [
      " 36%|███▌      | 18/50 [07:13<14:57, 28.03s/it]"
     ]
    },
    {
     "name": "stdout",
     "output_type": "stream",
     "text": [
      "\n",
      "\u001b[1m> Finished chain.\u001b[0m\n",
      "\n",
      "\n",
      "\u001b[1m> Entering new GraphCypherQAChain chain...\u001b[0m\n",
      "Generated Cypher:\n",
      "\u001b[32;1m\u001b[1;3mOPTIONAL MATCH (n)\n",
      "WHERE n.id CONTAINS 'Lớp Sinh Viên'\n",
      "RETURN properties(n) AS n_properties\u001b[0m\n",
      "Full Context:\n",
      "\u001b[32;1m\u001b[1;3m[{'n_properties': {'id': 'Lớp Sinh Viên', 'quy_định': 'Quy định về công tác sinh viên', 'mô_tả': 'Lớp sinh viên được duy trì ổn định trong cả khóa học, là nơi để nhà trường tổ chức, quản lý về thực hiện các nhiệm vụ học tập, rèn luyện, các hoạt động đoàn thể, các hoạt động xã hội, thi đua, khen thưởng, kỷ luật', 'định_nghĩa': 'bao gồm những sinh viên cùng ngành, cùng khóa học'}}, {'n_properties': {'id': 'Tập Thể Lớp Sinh Viên'}}, {'n_properties': {'id': 'Danh Hiệu Tập Thể Lớp Sinh Viên', 'loại': 'Lớp sinh viên Tiên tiến, Lớp sinh viên Xuất sắc'}}, {'n_properties': {'id': 'Lớp Sinh Viên Tiên Tiến'}}, {'n_properties': {'id': 'Lớp Sinh Viên Xuất Sắc'}}]\u001b[0m\n"
     ]
    },
    {
     "name": "stderr",
     "output_type": "stream",
     "text": [
      " 38%|███▊      | 19/50 [07:32<13:09, 25.47s/it]"
     ]
    },
    {
     "name": "stdout",
     "output_type": "stream",
     "text": [
      "\n",
      "\u001b[1m> Finished chain.\u001b[0m\n",
      "\n",
      "\n",
      "\u001b[1m> Entering new GraphCypherQAChain chain...\u001b[0m\n",
      "Generated Cypher:\n",
      "\u001b[32;1m\u001b[1;3mOPTIONAL MATCH (n)\n",
      "WHERE n.id CONTAINS 'Lớp Học Phần'\n",
      "RETURN properties(n) AS n_properties\u001b[0m\n",
      "Full Context:\n",
      "\u001b[32;1m\u001b[1;3m[{'n_properties': {'id': 'Lớp Học Phần', 'mô_tả': 'Gồm các sinh viên đăng ký học cùng một học phần, cùng một thời khóa biểu.', 'số_lượng_tối_thiểu': '60 sinh viên với các học phần chung toàn trường, 25 sinh viên với các học phần chuyên ngành', 'định_nghĩa': 'bao gồm những sinh viên đăng ký cùng học một học phần', 'điều_kiện': 'Nhà trường sẽ xem xét mở lớp trong các trường hợp đặc biệt khác.', 'mục_đích': 'nơi để nhà trường theo dõi, quản lý về học tập và ý thức kỷ luật của sinh viên trong giờ học'}}, {'n_properties': {'id': 'Ban Cán Sự Lớp Học Phần', 'nhiệm_kỳ': 'theo thời gian học của học phần', 'ưu_tiên': 'cộng điểm rèn luyện và các chế độ khác theo quy định của nhà trường', 'trách_nhiệm': 'báo cáo việc chấp hành nội quy, quy chế của sinh viên trong lớp với khoa, phòng Công tác sinh viên', 'thành_viên': 'lớp trưởng và các lớp phó'}}]\u001b[0m\n"
     ]
    },
    {
     "name": "stderr",
     "output_type": "stream",
     "text": [
      " 40%|████      | 20/50 [07:52<11:52, 23.76s/it]"
     ]
    },
    {
     "name": "stdout",
     "output_type": "stream",
     "text": [
      "\n",
      "\u001b[1m> Finished chain.\u001b[0m\n",
      "\n",
      "\n",
      "\u001b[1m> Entering new GraphCypherQAChain chain...\u001b[0m\n",
      "Generated Cypher:\n",
      "\u001b[32;1m\u001b[1;3mOPTIONAL MATCH (n)\n",
      "WHERE n.id CONTAINS 'Đào Tạo Theo Niên Chế'\n",
      "RETURN properties(n) AS n_properties\u001b[0m\n",
      "Full Context:\n",
      "\u001b[32;1m\u001b[1;3m[{'n_properties': {'id': 'Đào Tạo Theo Niên Chế', 'mô_tả': 'Là phương thức tổ chức đào tạo theo lớp học tương đối cố định đối với tất cả các học phần bắt buộc của chương trình đào tạo trong toàn khóa học, cho phép sinh viên cùng lớp thực hiện theo kế hoạch học tập chuẩn và theo một thời khóa biểu chung, trừ những học phần tự chọn hoặc học lại.'}}]\u001b[0m\n"
     ]
    },
    {
     "name": "stderr",
     "output_type": "stream",
     "text": [
      " 42%|████▏     | 21/50 [08:11<10:47, 22.34s/it]"
     ]
    },
    {
     "name": "stdout",
     "output_type": "stream",
     "text": [
      "\n",
      "\u001b[1m> Finished chain.\u001b[0m\n",
      "\n",
      "\n",
      "\u001b[1m> Entering new GraphCypherQAChain chain...\u001b[0m\n"
     ]
    },
    {
     "name": "stderr",
     "output_type": "stream",
     "text": [
      " 44%|████▍     | 22/50 [08:26<09:17, 19.92s/it]"
     ]
    },
    {
     "name": "stdout",
     "output_type": "stream",
     "text": [
      "Generated Cypher:\n",
      "\u001b[32;1m\u001b[1;3mOPTIONAL MATCH (n)\n",
      "WHERE n.id CONTAINS 'Phương Thức Đào Tạo Theo Tín Chỉ'\n",
      "RETURN properties(n) AS n_properties\n",
      "\n",
      "OPTIONAL MATCH (n2)-[r]->(m)\n",
      "WHERE n2.id CONTAINS 'Phương Thức Đào Tạo Theo Tín Chỉ'\n",
      "RETURN \n",
      "  collect(DISTINCT properties(n2)) AS phương_thức,\n",
      "  collect(DISTINCT type(r)) AS loại_quan_hệ,\n",
      "  collect(DISTINCT properties(r)) AS thuộc_tính_quan_hệ,\n",
      "  collect(DISTINCT properties(m)) AS thông_tin_liên_quan\u001b[0m\n",
      "\n",
      "\n",
      "\u001b[1m> Entering new GraphCypherQAChain chain...\u001b[0m\n",
      "Generated Cypher:\n",
      "\u001b[32;1m\u001b[1;3mOPTIONAL MATCH (n)\n",
      "WHERE n.id CONTAINS 'Đào Tạo Chính Quy'\n",
      "RETURN properties(n) AS n_properties\u001b[0m\n",
      "Full Context:\n",
      "\u001b[32;1m\u001b[1;3m[{'n_properties': {'thời_gian': '4.5 năm đối với ngành đào tạo kỹ sư, 3.5 năm đối với ngành đào tạo cử nhân kỹ thuật, 4 năm đối với các ngành còn lại', 'id': 'Hình Thức Đào Tạo Chính Quy'}}, {'n_properties': {'thời_gian': 'Từ 06 giờ đến 20 giờ các ngày trong tuần từ thứ 2 đến thứ 7. Thực hành, thí nghiệm, các hoạt động thực tập, thực tế, học bù vì lý do thiên tai, dịch bệnh có thể bố trí vào Chủ nhật nếu cần', 'id': 'Đào Tạo Chính Quy', 'mô_tả': 'Các hoạt động giảng dạy được thực hiện tại cơ sở đào tạo, riêng những hoạt động thực hành, thực tập, trải nghiệm thực tế và giảng dạy trực tuyến có thể thực hiện ngoài Trường Đại học Quy Nhơn'}}]\u001b[0m\n"
     ]
    },
    {
     "name": "stderr",
     "output_type": "stream",
     "text": [
      " 46%|████▌     | 23/50 [08:49<09:25, 20.96s/it]"
     ]
    },
    {
     "name": "stdout",
     "output_type": "stream",
     "text": [
      "\n",
      "\u001b[1m> Finished chain.\u001b[0m\n",
      "\n",
      "\n",
      "\u001b[1m> Entering new GraphCypherQAChain chain...\u001b[0m\n",
      "Generated Cypher:\n",
      "\u001b[32;1m\u001b[1;3mOPTIONAL MATCH (n)\n",
      "WHERE n.id CONTAINS 'Đào Tạo Vừa Làm Vừa Học'\n",
      "RETURN properties(n) AS n_properties\u001b[0m\n",
      "Full Context:\n",
      "\u001b[32;1m\u001b[1;3m[{'n_properties': {'thời_gian': 'dài hơn tối thiểu 20% so với hình thức đào tạo chính quy', 'id': 'Hình Thức Đào Tạo Vừa Làm Vừa Học'}}, {'n_properties': {'thời_gian': 'Linh hoạt trong ngày và trong tuần', 'id': 'Đào Tạo Vừa Làm Vừa Học', 'mô_tả': 'Các hoạt động giảng dạy được thực hiện tại cơ sở phối hợp đào tạo theo quy định liên kết đào tạo tại Điều 7 của Quy chế này, riêng những hoạt động thực hành, thực tập, trải nghiệm thực tế và giảng dạy trực tuyến có thể thực hiện ngoài Trường Đại học Quy Nhơn, ngoài cơ sở phối hợp đào tạo'}}, {'n_properties': {'giới_hạn_điểm': 'Điểm C', 'thi_lại': 'Được tổ chức thi lại, đánh giá lại lần 2', 'id': 'Đào Tạo Vừa Làm Vừa Học'}}]\u001b[0m\n"
     ]
    },
    {
     "name": "stderr",
     "output_type": "stream",
     "text": [
      " 48%|████▊     | 24/50 [09:10<09:05, 20.99s/it]"
     ]
    },
    {
     "name": "stdout",
     "output_type": "stream",
     "text": [
      "\n",
      "\u001b[1m> Finished chain.\u001b[0m\n",
      "\n",
      "\n",
      "\u001b[1m> Entering new GraphCypherQAChain chain...\u001b[0m\n",
      "Generated Cypher:\n",
      "\u001b[32;1m\u001b[1;3mOPTIONAL MATCH (n)\n",
      "WHERE n.id CONTAINS 'Kế Hoạch Năm Học'\n",
      "RETURN properties(n) AS n_properties\u001b[0m\n",
      "Full Context:\n",
      "\u001b[32;1m\u001b[1;3m[{'n_properties': {'thời_gian': '02 hoặc 03 học kỳ chính với tổng số tối thiểu 30 tuần lên lớp', 'id': 'Kế Hoạch Năm Học', 'định_nghĩa': 'Thể hiện những mốc thời gian chính của các hoạt động đào tạo trong năm học cho tất cả hình thức, chương trình đào tạo'}}]\u001b[0m\n"
     ]
    },
    {
     "name": "stderr",
     "output_type": "stream",
     "text": [
      " 50%|█████     | 25/50 [09:28<08:20, 20.00s/it]"
     ]
    },
    {
     "name": "stdout",
     "output_type": "stream",
     "text": [
      "\n",
      "\u001b[1m> Finished chain.\u001b[0m\n",
      "\n",
      "\n",
      "\u001b[1m> Entering new GraphCypherQAChain chain...\u001b[0m\n",
      "Generated Cypher:\n",
      "\u001b[32;1m\u001b[1;3mOPTIONAL MATCH (n:Khái_niệm)\n",
      "WHERE n.id CONTAINS \"trọng số\" OR n.id CONTAINS \"điểm đánh giá quá trình\"\n",
      "\n",
      "OPTIONAL MATCH (n2:Quy_định)-[r]->(m:Khái_niệm)\n",
      "WHERE m.id CONTAINS \"trọng số\" OR m.id CONTAINS \"điểm đánh giá quá trình\"\n",
      "\n",
      "RETURN \n",
      "  collect(DISTINCT properties(n)) AS khái_niệm,\n",
      "  collect(DISTINCT properties(n2)) AS quy_định,\n",
      "  collect(DISTINCT type(r)) AS loại_quan_hệ,\n",
      "  collect(DISTINCT properties(r)) AS thuộc_tính_quan_hệ,\n",
      "  collect(DISTINCT properties(m)) AS khái_niệm_liên_quan\u001b[0m\n",
      "Full Context:\n",
      "\u001b[32;1m\u001b[1;3m[{'khái_niệm': [], 'quy_định': [], 'loại_quan_hệ': [], 'thuộc_tính_quan_hệ': [], 'khái_niệm_liên_quan': []}]\u001b[0m\n"
     ]
    },
    {
     "name": "stderr",
     "output_type": "stream",
     "text": [
      " 52%|█████▏    | 26/50 [09:49<08:10, 20.43s/it]"
     ]
    },
    {
     "name": "stdout",
     "output_type": "stream",
     "text": [
      "\n",
      "\u001b[1m> Finished chain.\u001b[0m\n",
      "\n",
      "\n",
      "\u001b[1m> Entering new GraphCypherQAChain chain...\u001b[0m\n",
      "Generated Cypher:\n",
      "\u001b[32;1m\u001b[1;3mOPTIONAL MATCH (n:Khái_niệm)\n",
      "WHERE n.id CONTAINS \"Điểm Thi Kết Thúc Học Phần\" OR n.id CONTAINS \"Thang Điểm\"\n",
      "\n",
      "OPTIONAL MATCH (m:Khái_niệm)-[r]->(n)\n",
      "WHERE m.id CONTAINS \"Học Phần\"\n",
      "\n",
      "RETURN \n",
      "  collect(DISTINCT properties(n)) AS điểm_thi,\n",
      "  collect(DISTINCT properties(m)) AS học_phần,\n",
      "  collect(DISTINCT type(r)) AS loại_quan_hệ,\n",
      "  collect(DISTINCT properties(r)) AS thuộc_tính_quan_hệ\u001b[0m\n",
      "Full Context:\n",
      "\u001b[32;1m\u001b[1;3m[{'điểm_thi': [{'id': 'Điểm Thi Kết Thúc Học Phần', 'trọng_số': '70%, 60% hoặc 50% điểm học phần'}, {'id': 'Thang Điểm 10', 'mô_tả': 'Gồm các số từ 0 đến 10 (với một số lẻ thập phân)'}, {'id': 'Thang Điểm Chữ', 'mô_tả': 'Dùng để xếp loại học phần'}, {'id': 'Thang Điểm 4', 'mô_tả': 'Dùng để tính điểm trung bình chung học kỳ, trung bình chung tích lũy'}], 'học_phần': [{'id': 'Điểm Tổng Hợp Đánh Giá Học Phần', 'tên_gọi_tắt': 'Điểm học phần', 'định_nghĩa': 'Gồm hai thành phần: điểm đánh giá quá trình học tập và điểm thi kết thúc học phần'}], 'loại_quan_hệ': ['BAO_GỒM'], 'thuộc_tính_quan_hệ': [{}]}]\u001b[0m\n"
     ]
    },
    {
     "name": "stderr",
     "output_type": "stream",
     "text": [
      " 54%|█████▍    | 27/50 [10:09<07:44, 20.19s/it]"
     ]
    },
    {
     "name": "stdout",
     "output_type": "stream",
     "text": [
      "\n",
      "\u001b[1m> Finished chain.\u001b[0m\n",
      "\n",
      "\n",
      "\u001b[1m> Entering new GraphCypherQAChain chain...\u001b[0m\n",
      "Generated Cypher:\n",
      "\u001b[32;1m\u001b[1;3mOPTIONAL MATCH (n)\n",
      "WHERE n.id CONTAINS 'Điểm Trung Bình Chung Học Kỳ'\n",
      "\n",
      "OPTIONAL MATCH (n2)-[r]->(m)\n",
      "WHERE n2.id CONTAINS 'Điểm Trung Bình Chung Học Kỳ'\n",
      "\n",
      "RETURN \n",
      "  collect(DISTINCT properties(n)) AS khái_niệm,\n",
      "  collect(DISTINCT properties(n2)) AS node_liên_quan,\n",
      "  collect(DISTINCT type(r)) AS loại_quan_hệ,\n",
      "  collect(DISTINCT properties(r)) AS thuộc_tính_quan_hệ,\n",
      "  collect(DISTINCT properties(m)) AS node_kết_quả\u001b[0m\n",
      "Full Context:\n",
      "\u001b[32;1m\u001b[1;3m[{'khái_niệm': [{'id': 'Điểm Trung Bình Chung Học Kỳ', 'phạm_vi': 'Bao gồm tất cả các học phần được đánh giá đạt và không đạt trong học kỳ.', 'định_nghĩa': 'Điểm trung bình chung học kỳ được tính theo công thức A = (Σ (i = 1 -> n) [a_i * n_i]) / (Σ (i = 1 -> n) [n_i]) và làm tròn đến 2 chữ số thập phân.'}], 'node_liên_quan': [{'id': 'Điểm Trung Bình Chung Học Kỳ', 'phạm_vi': 'Bao gồm tất cả các học phần được đánh giá đạt và không đạt trong học kỳ.', 'định_nghĩa': 'Điểm trung bình chung học kỳ được tính theo công thức A = (Σ (i = 1 -> n) [a_i * n_i]) / (Σ (i = 1 -> n) [n_i]) và làm tròn đến 2 chữ số thập phân.'}], 'loại_quan_hệ': ['DÙNG_ĐỂ', 'TÍNH_TỪ'], 'thuộc_tính_quan_hệ': [{'mục_đích': 'Xét thôi học, cảnh báo kết quả học tập, xếp hạng học lực sinh viên và xếp hạng tốt nghiệp.'}, {'công_thức': 'A = (Σ (i = 1 -> n) [a_i * n_i]) / (Σ (i = 1 -> n) [n_i])'}], 'node_kết_quả': [{'id': 'Sinh Viên', 'quyền_lợi': 'được bảo đảm điều kiện thực hiện đầy đủ nhiệm vụ và quyền trong quá trình học tập và rèn luyện tại trường', 'vai_trò': 'Lựa chọn phương án trả lời', 'định_nghĩa': 'người đang học chương trình đào tạo trình độ đại học hệ chính quy tại trường'}, {'id': 'Học Phần', 'mã_học_phần': 'Do Trường quy định', 'khối_lượng_tín_chỉ': '1-4', 'thời_gian_giảng_dạy': 'Một học kỳ', 'định_nghĩa': 'Đơn vị học tập có điểm đánh giá và số tín chỉ.'}]}]\u001b[0m\n"
     ]
    },
    {
     "name": "stderr",
     "output_type": "stream",
     "text": [
      " 56%|█████▌    | 28/50 [10:36<08:11, 22.35s/it]"
     ]
    },
    {
     "name": "stdout",
     "output_type": "stream",
     "text": [
      "\n",
      "\u001b[1m> Finished chain.\u001b[0m\n",
      "\n",
      "\n",
      "\u001b[1m> Entering new GraphCypherQAChain chain...\u001b[0m\n",
      "Generated Cypher:\n",
      "\u001b[32;1m\u001b[1;3mOPTIONAL MATCH (n)\n",
      "WHERE n.id CONTAINS \"Điểm Trung Bình Chung Tích Lũy\"\n",
      "\n",
      "OPTIONAL MATCH (n2)-[r]->(m)\n",
      "WHERE m.id CONTAINS \"Điểm Trung Bình Chung Tích Lũy\"\n",
      "\n",
      "RETURN \n",
      "  collect(DISTINCT properties(n)) AS khái_niệm,\n",
      "  collect(DISTINCT properties(n2)) AS thực_thể_liên_quan,\n",
      "  collect(DISTINCT type(r)) AS loại_quan_hệ,\n",
      "  collect(DISTINCT properties(r)) AS thuộc_tính_quan_hệ,\n",
      "  collect(DISTINCT properties(m)) AS khái_niệm_liên_quan\u001b[0m\n",
      "Full Context:\n",
      "\u001b[32;1m\u001b[1;3m[{'khái_niệm': [{'id': 'Cải Thiện Điểm Trung Bình Chung Tích Lũy'}, {'id': 'Điểm Trung Bình Chung Tích Lũy', 'phạm_vi': 'Bao gồm các học phần được đánh giá đạt đến thời điểm xét.', 'định_nghĩa': 'Điểm trung bình chung tích lũy được tính theo công thức A = (Σ (i = 1 -> n) [a_i * n_i]) / (Σ (i = 1 -> n) [n_i]) và làm tròn đến 2 chữ số thập phân.'}], 'thực_thể_liên_quan': [{'id': 'Sinh Viên', 'quyền_lợi': 'được bảo đảm điều kiện thực hiện đầy đủ nhiệm vụ và quyền trong quá trình học tập và rèn luyện tại trường', 'vai_trò': 'Lựa chọn phương án trả lời', 'định_nghĩa': 'người đang học chương trình đào tạo trình độ đại học hệ chính quy tại trường'}, {'id': 'Xếp Loại Học Lực'}], 'loại_quan_hệ': ['ĐƯỢC_QUYỀN', 'PHẢI_ĐẠT', 'DỰA_TRÊN'], 'thuộc_tính_quan_hệ': [{}, {'giá_trị_tối_thiểu': '2.00'}], 'khái_niệm_liên_quan': [{'id': 'Cải Thiện Điểm Trung Bình Chung Tích Lũy'}, {'id': 'Điểm Trung Bình Chung Tích Lũy', 'phạm_vi': 'Bao gồm các học phần được đánh giá đạt đến thời điểm xét.', 'định_nghĩa': 'Điểm trung bình chung tích lũy được tính theo công thức A = (Σ (i = 1 -> n) [a_i * n_i]) / (Σ (i = 1 -> n) [n_i]) và làm tròn đến 2 chữ số thập phân.'}]}]\u001b[0m\n"
     ]
    },
    {
     "name": "stderr",
     "output_type": "stream",
     "text": [
      " 58%|█████▊    | 29/50 [11:02<08:10, 23.37s/it]"
     ]
    },
    {
     "name": "stdout",
     "output_type": "stream",
     "text": [
      "\n",
      "\u001b[1m> Finished chain.\u001b[0m\n",
      "\n",
      "\n",
      "\u001b[1m> Entering new GraphCypherQAChain chain...\u001b[0m\n",
      "Generated Cypher:\n",
      "\u001b[32;1m\u001b[1;3mOPTIONAL MATCH (n:Hoạt_động)\n",
      "WHERE n.id CONTAINS 'Công Tác Sinh Viên'\n",
      "\n",
      "OPTIONAL MATCH (n2:Chủ_thể)-[r]->(m:Hoạt_động)\n",
      "WHERE m.id CONTAINS 'Công Tác Sinh Viên'\n",
      "\n",
      "RETURN \n",
      "  collect(DISTINCT properties(n)) AS hoạt_động,\n",
      "  collect(DISTINCT properties(n2)) AS chủ_thể,\n",
      "  collect(DISTINCT type(r)) AS loại_quan_hệ,\n",
      "  collect(DISTINCT properties(r)) AS thuộc_tính_quan_hệ,\n",
      "  collect(DISTINCT properties(m)) AS hoạt_động_liên_quan\u001b[0m\n",
      "Full Context:\n",
      "\u001b[32;1m\u001b[1;3m[{'hoạt_động': [{'id': 'Tổng Kết Công Tác Sinh Viên Ngoại Trú'}, {'id': 'Công Tác Sinh Viên Ngoại Trú'}, {'id': 'Công Tác Sinh Viên', 'mô_tả': 'là một trong những công tác trọng tâm của nhà trường, bao gồm tổng thể các hoạt động giáo dục, tuyên truyền; quản lý; hỗ trợ và dịch vụ đối với sinh viên nhằm đảm bảo các mục tiêu của giáo dục đại học', 'nguyên_tắc': 'bảo đảm dân chủ, khách quan, công bằng, công khai, minh bạch trong các vấn đề có liên quan đến sinh viên', 'yêu_cầu': 'thực hiện đúng chủ trương, đường lối của Đảng, chính sách, pháp luật của Nhà nước và các quy định của Bộ Giáo dục và Đào tạo'}, {'id': 'Công Tác Sinh Viên Nội Trú, Ngoại Trú'}, {'id': 'Tổ Chức Thực Hiện Các Nội Dung, Biện Pháp Công Tác Sinh Viên Nội Trú, Ngoại Trú'}], 'chủ_thể': [{'id': 'Phòng Công Tác Sinh Viên', 'trách_nhiệm': 'thực hiện các nhiệm vụ cụ thể liên quan đến sinh viên ngoại trú', 'vai_trò': 'đầu mối xây dựng kế hoạch tham mưu cho Hiệu trưởng về công tác quản lý sinh viên ngoại trú'}, {'id': 'Các Tổ Chức, Đơn Vị Chức Năng Liên Quan'}, {'id': 'Hiệu Trưởng Nhà Trường'}, {'id': 'Bộ Giáo Dục Và Đào Tạo', 'vai_trò': 'Chủ trì, phối hợp', 'phạm_vi': 'Các bộ, ngành liên quan'}, {'id': 'Nhà Trường', 'trách_nhiệm': 'Tổ chức thực hiện công tác sinh viên', 'vai_trò': 'tổ chức quản lý ký túc xá'}], 'loại_quan_hệ': ['TỔNG_KẾT', 'TỔ_CHỨC', 'THANH_TRA_KIỂM_TRA', 'TỔ_CHỨC_THỰC_HIỆN', 'CHỈ_ĐẠO'], 'thuộc_tính_quan_hệ': [{}], 'hoạt_động_liên_quan': [{'id': 'Tổng Kết Công Tác Sinh Viên Ngoại Trú'}, {'id': 'Công Tác Sinh Viên Ngoại Trú'}, {'id': 'Công Tác Sinh Viên', 'mô_tả': 'là một trong những công tác trọng tâm của nhà trường, bao gồm tổng thể các hoạt động giáo dục, tuyên truyền; quản lý; hỗ trợ và dịch vụ đối với sinh viên nhằm đảm bảo các mục tiêu của giáo dục đại học', 'nguyên_tắc': 'bảo đảm dân chủ, khách quan, công bằng, công khai, minh bạch trong các vấn đề có liên quan đến sinh viên', 'yêu_cầu': 'thực hiện đúng chủ trương, đường lối của Đảng, chính sách, pháp luật của Nhà nước và các quy định của Bộ Giáo dục và Đào tạo'}]}]\u001b[0m\n"
     ]
    },
    {
     "name": "stderr",
     "output_type": "stream",
     "text": [
      " 60%|██████    | 30/50 [11:29<08:11, 24.57s/it]"
     ]
    },
    {
     "name": "stdout",
     "output_type": "stream",
     "text": [
      "\n",
      "\u001b[1m> Finished chain.\u001b[0m\n",
      "\n",
      "\n",
      "\u001b[1m> Entering new GraphCypherQAChain chain...\u001b[0m\n",
      "Generated Cypher:\n",
      "\u001b[32;1m\u001b[1;3m\u001b[0m\n",
      "Full Context:\n",
      "\u001b[32;1m\u001b[1;3m[]\u001b[0m\n"
     ]
    },
    {
     "name": "stderr",
     "output_type": "stream",
     "text": [
      " 62%|██████▏   | 31/50 [11:49<07:19, 23.11s/it]"
     ]
    },
    {
     "name": "stdout",
     "output_type": "stream",
     "text": [
      "\n",
      "\u001b[1m> Finished chain.\u001b[0m\n",
      "\n",
      "\n",
      "\u001b[1m> Entering new GraphCypherQAChain chain...\u001b[0m\n",
      "Generated Cypher:\n",
      "\u001b[32;1m\u001b[1;3mOPTIONAL MATCH (n)-[r]->(m)\n",
      "WHERE n.id CONTAINS 'Đánh Giá Kết Quả Học Tập'\n",
      "\n",
      "OPTIONAL MATCH (n2)-[r2:`DÙNG_ĐỂ`]->(m2)\n",
      "WHERE n2.id CONTAINS 'Đánh Giá Kết Quả Học Tập'\n",
      "\n",
      "RETURN \n",
      "  collect(DISTINCT properties(n)) AS đánh_giá_kết_quả_học_tập,\n",
      "  collect(DISTINCT type(r)) AS loại_quan_hệ,\n",
      "  collect(DISTINCT properties(r)) AS thuộc_tính_quan_hệ,\n",
      "  collect(DISTINCT properties(m)) AS mục_đích,\n",
      "  collect(DISTINCT properties(n2)) AS đánh_giá_kết_quả_học_tập_2,\n",
      "  collect(DISTINCT type(r2)) AS loại_quan_hệ_2,\n",
      "  collect(DISTINCT properties(r2)) AS thuộc_tính_quan_hệ_2,\n",
      "  collect(DISTINCT properties(m2)) AS mục_đích_2\u001b[0m\n",
      "Full Context:\n",
      "\u001b[32;1m\u001b[1;3m[{'đánh_giá_kết_quả_học_tập': [{'id': 'Đánh Giá Kết Quả Học Tập Theo Học Kỳ, Năm Học'}, {'id': 'Gian Lận Trong Thi, Kiểm Tra, Đánh Giá Kết Quả Học Tập'}, {'id': 'Đánh Giá Kết Quả Học Tập', 'mục_đích': 'Đánh giá kết quả học tập của sinh viên theo mục tiêu và chuẩn đầu ra của học phần nhằm đáp ứng chuẩn đầu ra của chương trình đào tạo'}], 'loại_quan_hệ': ['LIÊN_QUAN_ĐẾN', 'ÁP_DỤNG_CHO', 'DẪN_ĐẾN', 'PHẢI_TUÂN_THỦ', 'ĐÁP_ỨNG'], 'thuộc_tính_quan_hệ': [{}], 'mục_đích': [{'id': 'Năm Học'}, {'id': 'Học Kỳ'}, {'id': 'Sinh Viên', 'quyền_lợi': 'được bảo đảm điều kiện thực hiện đầy đủ nhiệm vụ và quyền trong quá trình học tập và rèn luyện tại trường', 'vai_trò': 'Lựa chọn phương án trả lời', 'định_nghĩa': 'người đang học chương trình đào tạo trình độ đại học hệ chính quy tại trường'}, {'id': 'Xử Lý Kỷ Luật'}, {'id': 'Công Bằng', 'phạm_vi': 'Đối với tất cả sinh viên trong lớp, giữa các lớp, các khóa học và các hình thức đào tạo'}, {'id': 'Nghiêm Túc, Khách Quan, Tin Cậy Và Trung Thực'}, {'id': 'Chương Trình Đào Tạo', 'đơn_vị_tín_chỉ': 'được xây dựng theo đơn vị tín chỉ', 'cấu_trúc': 'từ các môn học hoặc học phần', 'mô_tả': 'Nơi các học phần Tiếng Anh 1, Tiếng Anh 2 thuộc về', 'yêu_cầu': 'đã được tổ chức đào tạo tối thiểu 03 khóa liên tục theo hình thức chính quy', 'phạm_vi': 'áp dụng chung đối với các hình thức, phương thức tổ chức đào tạo và đối tượng người học khác nhau', 'từ_năm': '2024', 'yêu_cầu_chất_lượng': 'đã được công nhận đạt tiêu chuẩn chất lượng'}], 'đánh_giá_kết_quả_học_tập_2': [], 'loại_quan_hệ_2': [], 'thuộc_tính_quan_hệ_2': [], 'mục_đích_2': []}]\u001b[0m\n"
     ]
    },
    {
     "name": "stderr",
     "output_type": "stream",
     "text": [
      " 64%|██████▍   | 32/50 [12:21<07:43, 25.75s/it]"
     ]
    },
    {
     "name": "stdout",
     "output_type": "stream",
     "text": [
      "\n",
      "\u001b[1m> Finished chain.\u001b[0m\n",
      "\n",
      "\n",
      "\u001b[1m> Entering new GraphCypherQAChain chain...\u001b[0m\n"
     ]
    },
    {
     "name": "stderr",
     "output_type": "stream",
     "text": [
      " 66%|██████▌   | 33/50 [12:40<06:45, 23.83s/it]"
     ]
    },
    {
     "name": "stdout",
     "output_type": "stream",
     "text": [
      "Generated Cypher:\n",
      "\u001b[32;1m\u001b[1;3mOPTIONAL MATCH (n:Kỳ_thi)\n",
      "WHERE n.id CONTAINS 'Kỳ Thi Phụ'\n",
      "RETURN properties(n) AS n_properties\n",
      "\n",
      "OPTIONAL MATCH (n2:Hoạt_động)-[r]->(m:Kỳ_thi)\n",
      "WHERE m.id CONTAINS 'Kỳ Thi Phụ'\n",
      "RETURN \n",
      "  collect(DISTINCT properties(n2)) AS hoạt_động,\n",
      "  collect(DISTINCT type(r)) AS loại_quan_hệ,\n",
      "  collect(DISTINCT properties(r)) AS thuộc_tính_quan_hệ,\n",
      "  collect(DISTINCT properties(m)) AS kỳ_thi\u001b[0m\n",
      "\n",
      "\n",
      "\u001b[1m> Entering new GraphCypherQAChain chain...\u001b[0m\n",
      "Generated Cypher:\n",
      "\u001b[32;1m\u001b[1;3mOPTIONAL MATCH (n:Chủ_thể)\n",
      "WHERE n.id CONTAINS \"Giảng Viên\" OR n.vai_trò CONTAINS \"giảng viên\"\n",
      "RETURN properties(n) AS n_properties\u001b[0m\n",
      "Full Context:\n",
      "\u001b[32;1m\u001b[1;3m[{'n_properties': {'id': 'Giảng Viên', 'trách_nhiệm': 'Điều chỉnh, cải tiến và nâng cao chất lượng giảng dạy', 'vai_trò': 'Xem xét kết quả phản hồi, đánh giá mức độ đạt chuẩn đầu ra học phần'}}, {'n_properties': {'id': 'Đội Ngũ Giảng Viên Cơ Hữu', 'yêu_cầu': 'giảng dạy tối thiểu 70% nội dung, khối lượng chương trình đào tạo'}}, {'n_properties': {'id': 'Đội Ngũ Giảng Viên'}}, {'n_properties': {'id': 'Giảng Viên Phụ Trách Học Phần'}}, {'n_properties': {'id': 'Giảng Viên Hướng Dẫn'}}]\u001b[0m\n"
     ]
    },
    {
     "name": "stderr",
     "output_type": "stream",
     "text": [
      " 68%|██████▊   | 34/50 [12:59<05:57, 22.32s/it]"
     ]
    },
    {
     "name": "stdout",
     "output_type": "stream",
     "text": [
      "\n",
      "\u001b[1m> Finished chain.\u001b[0m\n",
      "\n",
      "\n",
      "\u001b[1m> Entering new GraphCypherQAChain chain...\u001b[0m\n",
      "Generated Cypher:\n",
      "\u001b[32;1m\u001b[1;3mOPTIONAL MATCH (n)\n",
      "WHERE n.id CONTAINS 'Điểm xếp loại P'\n",
      "RETURN properties(n) AS n_properties\u001b[0m\n",
      "Full Context:\n",
      "\u001b[32;1m\u001b[1;3m[{'n_properties': None}]\u001b[0m\n"
     ]
    },
    {
     "name": "stderr",
     "output_type": "stream",
     "text": [
      " 70%|███████   | 35/50 [13:15<05:05, 20.37s/it]"
     ]
    },
    {
     "name": "stdout",
     "output_type": "stream",
     "text": [
      "\n",
      "\u001b[1m> Finished chain.\u001b[0m\n",
      "\n",
      "\n",
      "\u001b[1m> Entering new GraphCypherQAChain chain...\u001b[0m\n",
      "Generated Cypher:\n",
      "\u001b[32;1m\u001b[1;3mOPTIONAL MATCH (n)\n",
      "WHERE n.id CONTAINS 'Xếp loại I'\n",
      "RETURN properties(n) AS n_properties\u001b[0m\n",
      "Full Context:\n",
      "\u001b[32;1m\u001b[1;3m[{'n_properties': None}]\u001b[0m\n"
     ]
    },
    {
     "name": "stderr",
     "output_type": "stream",
     "text": [
      " 72%|███████▏  | 36/50 [13:33<04:36, 19.77s/it]"
     ]
    },
    {
     "name": "stdout",
     "output_type": "stream",
     "text": [
      "\n",
      "\u001b[1m> Finished chain.\u001b[0m\n",
      "\n",
      "\n",
      "\u001b[1m> Entering new GraphCypherQAChain chain...\u001b[0m\n",
      "Generated Cypher:\n",
      "\u001b[32;1m\u001b[1;3mOPTIONAL MATCH (n)\n",
      "WHERE n.id CONTAINS 'Xếp loại M'\n",
      "RETURN properties(n) AS n_properties\u001b[0m\n",
      "Full Context:\n",
      "\u001b[32;1m\u001b[1;3m[{'n_properties': None}]\u001b[0m\n"
     ]
    },
    {
     "name": "stderr",
     "output_type": "stream",
     "text": [
      " 74%|███████▍  | 37/50 [13:48<03:55, 18.13s/it]"
     ]
    },
    {
     "name": "stdout",
     "output_type": "stream",
     "text": [
      "\n",
      "\u001b[1m> Finished chain.\u001b[0m\n",
      "\n",
      "\n",
      "\u001b[1m> Entering new GraphCypherQAChain chain...\u001b[0m\n",
      "Generated Cypher:\n",
      "\u001b[32;1m\u001b[1;3mOPTIONAL MATCH (n:Học_lực)-[r]->(m)\n",
      "WHERE n.id CONTAINS 'A' AND m.id CONTAINS 'Thang Điểm 4'\n",
      "RETURN \n",
      "  properties(n) AS n_properties, \n",
      "  type(r) AS r_type, \n",
      "  properties(r) AS r_properties, \n",
      "  properties(m) AS m_properties\u001b[0m\n",
      "Full Context:\n",
      "\u001b[32;1m\u001b[1;3m[{'n_properties': None, 'r_type': None, 'r_properties': None, 'm_properties': None}]\u001b[0m\n"
     ]
    },
    {
     "name": "stderr",
     "output_type": "stream",
     "text": [
      " 76%|███████▌  | 38/50 [14:07<03:42, 18.52s/it]"
     ]
    },
    {
     "name": "stdout",
     "output_type": "stream",
     "text": [
      "\n",
      "\u001b[1m> Finished chain.\u001b[0m\n",
      "\n",
      "\n",
      "\u001b[1m> Entering new GraphCypherQAChain chain...\u001b[0m\n"
     ]
    },
    {
     "name": "stderr",
     "output_type": "stream",
     "text": [
      " 78%|███████▊  | 39/50 [14:21<03:10, 17.27s/it]"
     ]
    },
    {
     "name": "stdout",
     "output_type": "stream",
     "text": [
      "Generated Cypher:\n",
      "\u001b[32;1m\u001b[1;3mOPTIONAL MATCH (n:Học_lực)\n",
      "WHERE n.id CONTAINS \"F\"\n",
      "RETURN properties(n) AS n_properties\n",
      "\n",
      "OPTIONAL MATCH (n2:Khái_niệm)-[r]->(m:Học_lực)\n",
      "WHERE m.id CONTAINS \"F\"\n",
      "RETURN \n",
      "  collect(DISTINCT properties(n2)) AS khái_niệm,\n",
      "  collect(DISTINCT type(r)) AS loại_quan_hệ,\n",
      "  collect(DISTINCT properties(r)) AS thuộc_tính_quan_hệ,\n",
      "  collect(DISTINCT properties(m)) AS học_lực\u001b[0m\n",
      "\n",
      "\n",
      "\u001b[1m> Entering new GraphCypherQAChain chain...\u001b[0m\n",
      "Generated Cypher:\n",
      "\u001b[32;1m\u001b[1;3mOPTIONAL MATCH (n:Học_lực)\n",
      "RETURN collect(DISTINCT properties(n)) AS xep_loai_hoc_luc\u001b[0m\n",
      "Full Context:\n",
      "\u001b[32;1m\u001b[1;3m[{'xep_loai_hoc_luc': [{'id': 'Xuất Sắc', 'điểm': '3.6-4.0'}, {'id': 'Giỏi', 'điểm': '3.2-dưới 3.6'}, {'id': 'Khá', 'điểm': '2.5-dưới 3.2'}, {'id': 'Trung Bình', 'điểm': '2.0-dưới 2.5'}, {'id': 'Yếu', 'điểm': '1.0-dưới 2.0'}, {'id': 'Kém', 'điểm': 'dưới 1.0'}, {'id': 'Học Lực'}, {'id': 'Xếp Loại A+', 'thang_điểm_4': '4', 'kết_quả': 'Đạt', 'điểm': '9 - 10'}, {'id': 'Xếp Loại A', 'thang_điểm_4': '3,5', 'kết_quả': 'Đạt', 'điểm': '8 - 8,9'}, {'id': 'Xếp Loại B+', 'thang_điểm_4': '3', 'kết_quả': 'Đạt', 'điểm': '7 - 7,9'}, {'id': 'Xếp Loại B', 'thang_điểm_4': '2,5', 'kết_quả': 'Đạt', 'điểm': '6 - 6,9'}, {'id': 'Xếp Loại C', 'thang_điểm_4': '2', 'kết_quả': 'Đạt', 'điểm': '5 - 5,9'}, {'id': 'Xếp Loại D', 'thang_điểm_4': '1,5', 'kết_quả': 'Đạt', 'điểm': '4 - 4,9'}, {'id': 'Xếp Loại F', 'thang_điểm_4': '0', 'kết_quả': 'Không đạt', 'điểm': '0 - 3,9'}, {'id': 'Xếp Loại P', 'điểm': 'từ 5,0 trở lên'}, {'id': 'Xếp Loại I', 'định_nghĩa': 'Điểm chưa hoàn thiện do được phép hoãn thi, kiểm tra'}, {'id': 'Xếp Loại X', 'định_nghĩa': 'Điểm chưa hoàn thiện do chưa đủ dữ liệu'}, {'id': 'Xếp Loại R', 'định_nghĩa': 'Điểm học phần được miễn học và công nhận tín chỉ'}, {'id': 'Xếp Loại M', 'định_nghĩa': 'Điểm học phần được miễn (không tính vào điểm trung bình học tập)'}, {'id': 'Tốt'}, {'id': 'Xếp Loại Rèn Luyện Yếu'}, {'id': 'Xếp Loại Rèn Luyện Kém'}]}]\u001b[0m\n"
     ]
    },
    {
     "name": "stderr",
     "output_type": "stream",
     "text": [
      " 80%|████████  | 40/50 [14:50<03:28, 20.82s/it]"
     ]
    },
    {
     "name": "stdout",
     "output_type": "stream",
     "text": [
      "\n",
      "\u001b[1m> Finished chain.\u001b[0m\n",
      "\n",
      "\n",
      "\u001b[1m> Entering new GraphCypherQAChain chain...\u001b[0m\n",
      "Generated Cypher:\n",
      "\u001b[32;1m\u001b[1;3mOPTIONAL MATCH (n:Khái_niệm)\n",
      "WHERE n.id CONTAINS 'Câu Hỏi Thi Trắc Nghiệm'\n",
      "\n",
      "OPTIONAL MATCH (n)-[r]->(m)\n",
      "WHERE m.id CONTAINS 'Dạng'\n",
      "\n",
      "RETURN \n",
      "  collect(DISTINCT properties(n)) AS khái_niệm,\n",
      "  collect(DISTINCT type(r)) AS loại_quan_hệ,\n",
      "  collect(DISTINCT properties(r)) AS thuộc_tính_quan_hệ,\n",
      "  collect(DISTINCT properties(m)) AS dạng_câu_hỏi\u001b[0m\n",
      "Full Context:\n",
      "\u001b[32;1m\u001b[1;3m[{'khái_niệm': [{'id': 'Ngân Hàng Câu Hỏi Thi Trắc Nghiệm', 'mô_tả': 'Được sử dụng đối với các học phần có hình thức thi trắc nghiệm trên máy tính', 'yêu_cầu': 'Cấu trúc đề thi theo ma trận, nội dung khoa học, đáp ứng chuẩn đầu ra, số lượng tối thiểu 200 câu/học phần/01 tín chỉ, dạng câu hỏi 04 lựa chọn hoặc điền khuyết'}, {'id': 'Câu Hỏi Thi Trắc Nghiệm', 'dạng': '04 lựa chọn (A, B, C, D) hoặc điền khuyết'}], 'loại_quan_hệ': [], 'thuộc_tính_quan_hệ': [], 'dạng_câu_hỏi': []}]\u001b[0m\n"
     ]
    },
    {
     "name": "stderr",
     "output_type": "stream",
     "text": [
      " 82%|████████▏ | 41/50 [15:14<03:13, 21.54s/it]"
     ]
    },
    {
     "name": "stdout",
     "output_type": "stream",
     "text": [
      "\n",
      "\u001b[1m> Finished chain.\u001b[0m\n",
      "\n",
      "\n",
      "\u001b[1m> Entering new GraphCypherQAChain chain...\u001b[0m\n"
     ]
    },
    {
     "name": "stderr",
     "output_type": "stream",
     "text": [
      " 84%|████████▍ | 42/50 [16:01<03:54, 29.37s/it]"
     ]
    },
    {
     "name": "stdout",
     "output_type": "stream",
     "text": [
      "Generated Cypher:\n",
      "\u001b[32;1m\u001b[1;3mOPTIONAL MATCH (n:Chủ_thể)-[r]->(m)\n",
      "WHERE n.id CONTAINS 'Ban Tổ Chức Kỳ Thi Kết Thúc Học Phần'\n",
      "RETURN \n",
      "  properties(n) AS n_properties, \n",
      "  type(r) AS r_type, \n",
      "  properties(r) AS r_properties, \n",
      "  properties(m) AS m_properties\n",
      "\n",
      "OPTIONAL MATCH (n2)-[r2]->(m2:Chủ_thể)\n",
      "WHERE m2.id CONTAINS 'Ban Tổ Chức Kỳ Thi Kết Thúc Học Phần'\n",
      "RETURN \n",
      "  properties(n2) AS n2_properties, \n",
      "  type(r2) AS r2_type, \n",
      "  properties(r2) AS r2_properties, \n",
      "  properties(m2) AS m2_properties\u001b[0m\n",
      "\n",
      "\n",
      "\u001b[1m> Entering new GraphCypherQAChain chain...\u001b[0m\n",
      "Generated Cypher:\n",
      "\u001b[32;1m\u001b[1;3mOPTIONAL MATCH (n:Chủ_thể)-[r]->(m)\n",
      "WHERE n.id CONTAINS 'Cán Bộ Kỹ Thuật'\n",
      "RETURN \n",
      "  properties(n) AS n_properties, \n",
      "  type(r) AS r_type, \n",
      "  properties(r) AS r_properties, \n",
      "  properties(m) AS m_properties\u001b[0m\n",
      "Full Context:\n",
      "\u001b[32;1m\u001b[1;3m[{'n_properties': {'id': 'Cán Bộ Kỹ Thuật', 'trách_nhiệm': 'Hỗ trợ CBCT khắc phục kịp thời các sự cố kỹ thuật trong quá trình thi', 'định_nghĩa': 'viên chức được Ban Tổ chức kỳ thi phân công nhiệm vụ hỗ trợ kỹ thuật khi tổ chức thi trắc nghiệm trên máy tính, thi trực tuyến'}, 'r_type': 'HỖ_TRỢ', 'r_properties': {}, 'm_properties': {'id': 'Cbct', 'vai_trò': 'Quyết định hình thức kỷ luật khiển trách và cảnh cáo'}}, {'n_properties': {'id': 'Cán Bộ Kỹ Thuật', 'trách_nhiệm': 'Hỗ trợ CBCT khắc phục kịp thời các sự cố kỹ thuật trong quá trình thi', 'định_nghĩa': 'viên chức được Ban Tổ chức kỳ thi phân công nhiệm vụ hỗ trợ kỹ thuật khi tổ chức thi trắc nghiệm trên máy tính, thi trực tuyến'}, 'r_type': 'KHẮC_PHỤC', 'r_properties': {}, 'm_properties': {'id': 'Sự Cố Kỹ Thuật'}}, {'n_properties': {'id': 'Cán Bộ Kỹ Thuật', 'trách_nhiệm': 'Hỗ trợ CBCT khắc phục kịp thời các sự cố kỹ thuật trong quá trình thi', 'định_nghĩa': 'viên chức được Ban Tổ chức kỳ thi phân công nhiệm vụ hỗ trợ kỹ thuật khi tổ chức thi trắc nghiệm trên máy tính, thi trực tuyến'}, 'r_type': 'KIỂM_TRA', 'r_properties': {}, 'm_properties': {'id': 'Hệ Thống Mạng'}}, {'n_properties': {'id': 'Cán Bộ Kỹ Thuật', 'trách_nhiệm': 'Hỗ trợ CBCT khắc phục kịp thời các sự cố kỹ thuật trong quá trình thi', 'định_nghĩa': 'viên chức được Ban Tổ chức kỳ thi phân công nhiệm vụ hỗ trợ kỹ thuật khi tổ chức thi trắc nghiệm trên máy tính, thi trực tuyến'}, 'r_type': 'KIỂM_TRA', 'r_properties': {}, 'm_properties': {'id': 'Hệ Thống Máy Tính'}}, {'n_properties': {'id': 'Cán Bộ Kỹ Thuật', 'trách_nhiệm': 'Hỗ trợ CBCT khắc phục kịp thời các sự cố kỹ thuật trong quá trình thi', 'định_nghĩa': 'viên chức được Ban Tổ chức kỳ thi phân công nhiệm vụ hỗ trợ kỹ thuật khi tổ chức thi trắc nghiệm trên máy tính, thi trực tuyến'}, 'r_type': 'HỖ_TRỢ', 'r_properties': {}, 'm_properties': {'id': 'Thi Trực Tuyến'}}]\u001b[0m\n"
     ]
    },
    {
     "name": "stderr",
     "output_type": "stream",
     "text": [
      " 86%|████████▌ | 43/50 [16:26<03:15, 27.95s/it]"
     ]
    },
    {
     "name": "stdout",
     "output_type": "stream",
     "text": [
      "\n",
      "\u001b[1m> Finished chain.\u001b[0m\n",
      "\n",
      "\n",
      "\u001b[1m> Entering new GraphCypherQAChain chain...\u001b[0m\n",
      "Generated Cypher:\n",
      "\u001b[32;1m\u001b[1;3mOPTIONAL MATCH (n)\n",
      "WHERE n.id CONTAINS 'Chi Phí Bồi Hoàn'\n",
      "RETURN properties(n) AS n_properties\u001b[0m\n",
      "Full Context:\n",
      "\u001b[32;1m\u001b[1;3m[{'n_properties': {'id': 'Chi Phí Bồi Hoàn', 'định_nghĩa': 'Bao gồm kinh phí hỗ trợ tiền đóng học phí và chi phí sinh hoạt đã được ngân sách nhà nước hỗ trợ cho người học.'}}, {'n_properties': {'id': 'Công Thức Tính Chi Phí Bồi Hoàn', 'giải_thích': 'S là chi phí bồi hoàn, F là khoản học phí và chi phí sinh hoạt được nhà nước hỗ trợ, T1 là tổng thời gian làm việc trong ngành giáo dục theo quy định, T2 là thời gian đã làm việc trong ngành giáo dục.', 'định_nghĩa': 'S = (F / T1) × (T1 - T2)'}}, {'n_properties': {'id': 'Thu Hồi Chi Phí Bồi Hoàn'}}]\u001b[0m\n"
     ]
    },
    {
     "name": "stderr",
     "output_type": "stream",
     "text": [
      " 88%|████████▊ | 44/50 [16:42<02:26, 24.47s/it]"
     ]
    },
    {
     "name": "stdout",
     "output_type": "stream",
     "text": [
      "\n",
      "\u001b[1m> Finished chain.\u001b[0m\n",
      "\n",
      "\n",
      "\u001b[1m> Entering new GraphCypherQAChain chain...\u001b[0m\n",
      "Generated Cypher:\n",
      "\u001b[32;1m\u001b[1;3mOPTIONAL MATCH (n:Khái_niệm)-[r]->(m)\n",
      "WHERE n.id CONTAINS 'Chi Phí Bồi Hoàn' AND type(r) CONTAINS 'TÍNH_TỪ'\n",
      "RETURN \n",
      "  properties(n) AS n_properties, \n",
      "  type(r) AS r_type, \n",
      "  properties(r) AS r_properties, \n",
      "  properties(m) AS m_properties\u001b[0m\n",
      "Full Context:\n",
      "\u001b[32;1m\u001b[1;3m[{'n_properties': None, 'r_type': None, 'r_properties': None, 'm_properties': None}]\u001b[0m\n"
     ]
    },
    {
     "name": "stderr",
     "output_type": "stream",
     "text": [
      " 90%|█████████ | 45/50 [17:00<01:52, 22.46s/it]"
     ]
    },
    {
     "name": "stdout",
     "output_type": "stream",
     "text": [
      "\n",
      "\u001b[1m> Finished chain.\u001b[0m\n",
      "\n",
      "\n",
      "\u001b[1m> Entering new GraphCypherQAChain chain...\u001b[0m\n",
      "Generated Cypher:\n",
      "\u001b[32;1m\u001b[1;3m\u001b[0m\n",
      "Full Context:\n",
      "\u001b[32;1m\u001b[1;3m[]\u001b[0m\n"
     ]
    },
    {
     "name": "stderr",
     "output_type": "stream",
     "text": [
      " 92%|█████████▏| 46/50 [17:15<01:21, 20.32s/it]"
     ]
    },
    {
     "name": "stdout",
     "output_type": "stream",
     "text": [
      "\n",
      "\u001b[1m> Finished chain.\u001b[0m\n",
      "\n",
      "\n",
      "\u001b[1m> Entering new GraphCypherQAChain chain...\u001b[0m\n",
      "Generated Cypher:\n",
      "\u001b[32;1m\u001b[1;3mOPTIONAL MATCH (n)\n",
      "WHERE n.id CONTAINS 'Tiêu Chuẩn Học Bổng' OR n.id CONTAINS 'Học Bổng'\n",
      "\n",
      "OPTIONAL MATCH (n2)-[r]->(m)\n",
      "WHERE m.id CONTAINS 'Học Bổng' OR m.id CONTAINS 'Tiêu Chuẩn Học Bổng'\n",
      "\n",
      "RETURN \n",
      "  collect(DISTINCT properties(n)) AS khái_niệm,\n",
      "  collect(DISTINCT properties(n2)) AS thực_thể_liên_quan,\n",
      "  collect(DISTINCT type(r)) AS loại_quan_hệ,\n",
      "  collect(DISTINCT properties(r)) AS thuộc_tính_quan_hệ,\n",
      "  collect(DISTINCT properties(m)) AS khái_niệm_liên_quan\u001b[0m\n",
      "Full Context:\n",
      "\u001b[32;1m\u001b[1;3m[{'khái_niệm': [{'id': 'Học Bổng'}, {'id': 'Xét Học Bổng Khuyến Khích Học Tập'}, {'id': 'Học Bổng Khuyến Khích Học Tập', 'hệ_thống': 'giáo dục chính quy công lập và ngoài công lập', 'đối_tượng': 'học sinh, sinh viên'}, {'học_lực': 'từ loại khá trở lên', 'id': 'Tiêu Chuẩn Học Bổng', 'rèn_luyện': 'không bị kỷ luật từ mức khiển trách trở lên'}, {'id': 'Mức Học Bổng Loại Khá', 'điểm_rèn_luyện': 'Khá trở lên', 'mức_tài_chính': 'tối thiểu bằng hoặc cao hơn mức trần học phí', 'điểm_trung_bình': 'Khá trở lên'}, {'id': 'Mức Học Bổng Loại Giỏi', 'điểm_rèn_luyện': 'Tốt trở lên', 'mức_tài_chính': 'cao hơn loại Khá', 'điểm_trung_bình': 'Giỏi trở lên'}, {'id': 'Mức Học Bổng Loại Xuất Sắc', 'điểm_rèn_luyện': 'Xuất sắc', 'mức_tài_chính': 'cao hơn loại Giỏi', 'điểm_trung_bình': 'Xuất sắc'}, {'id': 'Quỹ Học Bổng', 'nguồn': '8% nguồn thu học phí hệ giáo dục chính quy', 'ngành_sư_phạm': '8% từ nguồn học phí do Nhà nước cấp bù'}, {'id': 'Học Bổng Kkht'}, {'id': 'Học Bổng Do Các Tổ Chức, Cá Nhân Tài Trợ'}], 'thực_thể_liên_quan': [{'id': 'Quyết Định Số 152/2007/Qđ-Ttg', 'người_ban_hành': 'Thủ tướng Chính phủ', 'ngày_ban_hành': '2007-09-14', 'nội_dung': 'học bổng chính sách đối với học sinh, sinh viên học tại các cơ sở giáo dục thuộc hệ thống giáo dục quốc dân'}, {'id': 'Quyết Định Số 1121/1997/Qđ-Ttg', 'người_ban_hành': 'Thủ tướng Chính phủ', 'ngày_ban_hành': '1997-12-23', 'nội_dung': 'học bổng và trợ cấp xã hội đối với học sinh, sinh viên các trường đào tạo công lập'}, {'id': 'Sinh Viên', 'quyền_lợi': 'được bảo đảm điều kiện thực hiện đầy đủ nhiệm vụ và quyền trong quá trình học tập và rèn luyện tại trường', 'vai_trò': 'Lựa chọn phương án trả lời', 'định_nghĩa': 'người đang học chương trình đào tạo trình độ đại học hệ chính quy tại trường'}, {'id': 'Sinh Viên Còn Nợ Học Phí'}, {'id': 'Hiệu Trưởng', 'vai_trò': 'Ban hành Quyết định thành lập Hội đồng đánh giá kết quả rèn luyện'}, {'id': 'Học Bổng Khuyến Khích Học Tập', 'hệ_thống': 'giáo dục chính quy công lập và ngoài công lập', 'đối_tượng': 'học sinh, sinh viên'}, {'học_lực': 'từ loại khá trở lên', 'id': 'Tiêu Chuẩn Học Bổng', 'rèn_luyện': 'không bị kỷ luật từ mức khiển trách trở lên'}], 'loại_quan_hệ': ['QUY_ĐỊNH', 'CHẤP_HÀNH', 'KHÔNG_ĐƯỢC_XÉT', 'ĐƯỢC_XÉT_NHẬN', 'QUẢN_LÝ', 'CÓ_YÊU_CẦU', 'BAO_GỒM', 'CÓ_NGUỒN_TÀI_CHÍNH'], 'thuộc_tính_quan_hệ': [{}, {'điều_kiện': 'còn nợ học phí'}], 'khái_niệm_liên_quan': [{'id': 'Học Bổng'}, {'id': 'Xét Học Bổng Khuyến Khích Học Tập'}, {'id': 'Học Bổng Khuyến Khích Học Tập', 'hệ_thống': 'giáo dục chính quy công lập và ngoài công lập', 'đối_tượng': 'học sinh, sinh viên'}, {'học_lực': 'từ loại khá trở lên', 'id': 'Tiêu Chuẩn Học Bổng', 'rèn_luyện': 'không bị kỷ luật từ mức khiển trách trở lên'}, {'id': 'Mức Học Bổng Loại Khá', 'điểm_rèn_luyện': 'Khá trở lên', 'mức_tài_chính': 'tối thiểu bằng hoặc cao hơn mức trần học phí', 'điểm_trung_bình': 'Khá trở lên'}, {'id': 'Mức Học Bổng Loại Giỏi', 'điểm_rèn_luyện': 'Tốt trở lên', 'mức_tài_chính': 'cao hơn loại Khá', 'điểm_trung_bình': 'Giỏi trở lên'}, {'id': 'Mức Học Bổng Loại Xuất Sắc', 'điểm_rèn_luyện': 'Xuất sắc', 'mức_tài_chính': 'cao hơn loại Giỏi', 'điểm_trung_bình': 'Xuất sắc'}, {'id': 'Quỹ Học Bổng', 'nguồn': '8% nguồn thu học phí hệ giáo dục chính quy', 'ngành_sư_phạm': '8% từ nguồn học phí do Nhà nước cấp bù'}, {'id': 'Học Bổng Do Các Tổ Chức, Cá Nhân Tài Trợ'}]}]\u001b[0m\n"
     ]
    },
    {
     "name": "stderr",
     "output_type": "stream",
     "text": [
      " 94%|█████████▍| 47/50 [18:05<01:27, 29.03s/it]"
     ]
    },
    {
     "name": "stdout",
     "output_type": "stream",
     "text": [
      "\n",
      "\u001b[1m> Finished chain.\u001b[0m\n",
      "\n",
      "\n",
      "\u001b[1m> Entering new GraphCypherQAChain chain...\u001b[0m\n"
     ]
    },
    {
     "name": "stderr",
     "output_type": "stream",
     "text": [
      " 96%|█████████▌| 48/50 [18:31<00:56, 28.19s/it]"
     ]
    },
    {
     "name": "stdout",
     "output_type": "stream",
     "text": [
      "Generated Cypher:\n",
      "\u001b[32;1m\u001b[1;3mOPTIONAL MATCH (n:Mức_học_bổng)\n",
      "RETURN properties(n) AS n_properties\n",
      "\n",
      "OPTIONAL MATCH (n)<-[r]-(m)\n",
      "WHERE n.id CONTAINS 'Mức Học Bổng'\n",
      "RETURN \n",
      "  properties(n) AS n_properties, \n",
      "  type(r) AS r_type, \n",
      "  properties(r) AS r_properties, \n",
      "  properties(m) AS m_properties\u001b[0m\n",
      "\n",
      "\n",
      "\u001b[1m> Entering new GraphCypherQAChain chain...\u001b[0m\n",
      "Generated Cypher:\n",
      "\u001b[32;1m\u001b[1;3mOPTIONAL MATCH (n:Thời_gian)-[r]->(m)\n",
      "WHERE n.id CONTAINS 'Học Kỳ I'\n",
      "RETURN \n",
      "  properties(n) AS n_properties, \n",
      "  type(r) AS r_type, \n",
      "  properties(r) AS r_properties, \n",
      "  properties(m) AS m_properties\u001b[0m\n",
      "Full Context:\n",
      "\u001b[32;1m\u001b[1;3m[{'n_properties': None, 'r_type': None, 'r_properties': None, 'm_properties': None}]\u001b[0m\n"
     ]
    },
    {
     "name": "stderr",
     "output_type": "stream",
     "text": [
      " 98%|█████████▊| 49/50 [18:49<00:25, 25.05s/it]"
     ]
    },
    {
     "name": "stdout",
     "output_type": "stream",
     "text": [
      "\n",
      "\u001b[1m> Finished chain.\u001b[0m\n",
      "\n",
      "\n",
      "\u001b[1m> Entering new GraphCypherQAChain chain...\u001b[0m\n",
      "Generated Cypher:\n",
      "\u001b[32;1m\u001b[1;3mOPTIONAL MATCH (n:Hoạt_động)<-[r]-(m:Mục_đích)\n",
      "WHERE n.id CONTAINS 'Khảo Sát Người Học'\n",
      "RETURN \n",
      "  properties(n) AS n_properties, \n",
      "  type(r) AS r_type, \n",
      "  properties(r) AS r_properties, \n",
      "  properties(m) AS m_properties\u001b[0m\n",
      "Full Context:\n",
      "\u001b[32;1m\u001b[1;3m[{'n_properties': None, 'r_type': None, 'r_properties': None, 'm_properties': None}]\u001b[0m\n"
     ]
    },
    {
     "name": "stderr",
     "output_type": "stream",
     "text": [
      "100%|██████████| 50/50 [19:07<00:00, 22.94s/it]\n"
     ]
    },
    {
     "name": "stdout",
     "output_type": "stream",
     "text": [
      "\n",
      "\u001b[1m> Finished chain.\u001b[0m\n"
     ]
    },
    {
     "name": "stderr",
     "output_type": "stream",
     "text": [
      "  0%|          | 0/79 [00:00<?, ?it/s]"
     ]
    },
    {
     "name": "stdout",
     "output_type": "stream",
     "text": [
      "\n",
      "\n",
      "\u001b[1m> Entering new GraphCypherQAChain chain...\u001b[0m\n",
      "Generated Cypher:\n",
      "\u001b[32;1m\u001b[1;3m\u001b[0m\n",
      "Full Context:\n",
      "\u001b[32;1m\u001b[1;3m[]\u001b[0m\n"
     ]
    },
    {
     "name": "stderr",
     "output_type": "stream",
     "text": [
      "  1%|▏         | 1/79 [00:26<34:28, 26.52s/it]"
     ]
    },
    {
     "name": "stdout",
     "output_type": "stream",
     "text": [
      "\n",
      "\u001b[1m> Finished chain.\u001b[0m\n",
      "\n",
      "\n",
      "\u001b[1m> Entering new GraphCypherQAChain chain...\u001b[0m\n",
      "Generated Cypher:\n",
      "\u001b[32;1m\u001b[1;3m\u001b[0m\n",
      "Full Context:\n",
      "\u001b[32;1m\u001b[1;3m[]\u001b[0m\n"
     ]
    },
    {
     "name": "stderr",
     "output_type": "stream",
     "text": [
      "  3%|▎         | 2/79 [00:44<27:50, 21.70s/it]"
     ]
    },
    {
     "name": "stdout",
     "output_type": "stream",
     "text": [
      "\n",
      "\u001b[1m> Finished chain.\u001b[0m\n",
      "\n",
      "\n",
      "\u001b[1m> Entering new GraphCypherQAChain chain...\u001b[0m\n",
      "Generated Cypher:\n",
      "\u001b[32;1m\u001b[1;3mOPTIONAL MATCH (n:Khái_niệm)\n",
      "WHERE n.id CONTAINS 'Thời Gian Học Tập'\n",
      "\n",
      "OPTIONAL MATCH (n2:Chương_trình_đào_tạo)<-[r]-(m)\n",
      "WHERE m.id CONTAINS 'Thời Gian Học Tập'\n",
      "\n",
      "RETURN \n",
      "  collect(DISTINCT properties(n)) AS khái_niệm,\n",
      "  collect(DISTINCT properties(n2)) AS chương_trình_đào_tạo,\n",
      "  collect(DISTINCT type(r)) AS loại_quan_hệ,\n",
      "  collect(DISTINCT properties(r)) AS thuộc_tính_quan_hệ,\n",
      "  collect(DISTINCT properties(m)) AS khái_niệm_liên_quan\u001b[0m\n",
      "Full Context:\n",
      "\u001b[32;1m\u001b[1;3m[{'khái_niệm': [{'id': 'Thời Gian Học Tập'}], 'chương_trình_đào_tạo': [], 'loại_quan_hệ': [], 'thuộc_tính_quan_hệ': [], 'khái_niệm_liên_quan': []}]\u001b[0m\n"
     ]
    },
    {
     "name": "stderr",
     "output_type": "stream",
     "text": [
      "  4%|▍         | 3/79 [01:05<26:54, 21.25s/it]"
     ]
    },
    {
     "name": "stdout",
     "output_type": "stream",
     "text": [
      "\n",
      "\u001b[1m> Finished chain.\u001b[0m\n",
      "\n",
      "\n",
      "\u001b[1m> Entering new GraphCypherQAChain chain...\u001b[0m\n",
      "Generated Cypher:\n",
      "\u001b[32;1m\u001b[1;3mOPTIONAL MATCH (n:Khái_niệm)-[r:ÁP_DỤNG_CHO]->(m:Chủ_thể)\n",
      "WHERE n.id CONTAINS 'Chuẩn Đầu Ra Tin Học' AND m.id CONTAINS 'Sinh Viên Ngành Công Nghệ Thông Tin'\n",
      "\n",
      "OPTIONAL MATCH (n2:Quy_định)-[r2:ÁP_DỤNG_CHO]->(m2:Chủ_thể)\n",
      "WHERE n2.id CONTAINS 'Chuẩn Đầu Ra Tin Học' AND m2.id CONTAINS 'Sinh Viên Ngành Công Nghệ Thông Tin'\n",
      "\n",
      "RETURN \n",
      "  collect(DISTINCT properties(n)) AS khái_niệm,\n",
      "  collect(DISTINCT type(r)) AS loại_quan_hệ,\n",
      "  collect(DISTINCT properties(r)) AS thuộc_tính_quan_hệ,\n",
      "  collect(DISTINCT properties(m)) AS chủ_thể,\n",
      "  collect(DISTINCT properties(n2)) AS quy_định,\n",
      "  collect(DISTINCT type(r2)) AS loại_quan_hệ_2,\n",
      "  collect(DISTINCT properties(r2)) AS thuộc_tính_quan_hệ_2,\n",
      "  collect(DISTINCT properties(m2)) AS chủ_thể_2\u001b[0m\n",
      "Full Context:\n",
      "\u001b[32;1m\u001b[1;3m[{'khái_niệm': [], 'loại_quan_hệ': [], 'thuộc_tính_quan_hệ': [], 'chủ_thể': [], 'quy_định': [], 'loại_quan_hệ_2': [], 'thuộc_tính_quan_hệ_2': [], 'chủ_thể_2': []}]\u001b[0m\n"
     ]
    },
    {
     "name": "stderr",
     "output_type": "stream",
     "text": [
      "  5%|▌         | 4/79 [01:33<29:43, 23.78s/it]"
     ]
    },
    {
     "name": "stdout",
     "output_type": "stream",
     "text": [
      "\n",
      "\u001b[1m> Finished chain.\u001b[0m\n",
      "\n",
      "\n",
      "\u001b[1m> Entering new GraphCypherQAChain chain...\u001b[0m\n",
      "Generated Cypher:\n",
      "\u001b[32;1m\u001b[1;3mOPTIONAL MATCH (n:Ngành)-[r:`CHẤP_NHẬN`]->(m:Chứng_chỉ)\n",
      "WHERE n.id CONTAINS 'Tin Học'\n",
      "RETURN \n",
      "  properties(n) AS n_properties,\n",
      "  type(r) AS r_type,\n",
      "  properties(r) AS r_properties,\n",
      "  properties(m) AS m_properties\u001b[0m\n",
      "Full Context:\n",
      "\u001b[32;1m\u001b[1;3m[{'n_properties': None, 'r_type': None, 'r_properties': None, 'm_properties': None}]\u001b[0m\n"
     ]
    },
    {
     "name": "stderr",
     "output_type": "stream",
     "text": [
      "  6%|▋         | 5/79 [01:52<27:18, 22.14s/it]"
     ]
    },
    {
     "name": "stdout",
     "output_type": "stream",
     "text": [
      "\n",
      "\u001b[1m> Finished chain.\u001b[0m\n",
      "\n",
      "\n",
      "\u001b[1m> Entering new GraphCypherQAChain chain...\u001b[0m\n"
     ]
    },
    {
     "name": "stderr",
     "output_type": "stream",
     "text": [
      "  8%|▊         | 6/79 [02:12<25:59, 21.37s/it]"
     ]
    },
    {
     "name": "stdout",
     "output_type": "stream",
     "text": [
      "Generated Cypher:\n",
      "\u001b[32;1m\u001b[1;3mOPTIONAL MATCH (n:Loại_học_phần)\n",
      "WHERE n.id CONTAINS 'Học Phần Điều Kiện'\n",
      "RETURN properties(n) AS n_properties\n",
      "\n",
      "OPTIONAL MATCH (n:Học_phần)-[r:THUỘC_LOẠI]->(m:Loại_học_phần)\n",
      "WHERE m.id CONTAINS 'Học Phần Điều Kiện'\n",
      "RETURN \n",
      "  collect(DISTINCT properties(n)) AS học_phần,\n",
      "  collect(DISTINCT type(r)) AS loại_quan_hệ,\n",
      "  collect(DISTINCT properties(r)) AS thuộc_tính_quan_hệ,\n",
      "  collect(DISTINCT properties(m)) AS loại_học_phần\u001b[0m\n",
      "\n",
      "\n",
      "\u001b[1m> Entering new GraphCypherQAChain chain...\u001b[0m\n",
      "Generated Cypher:\n",
      "\u001b[32;1m\u001b[1;3mOPTIONAL MATCH (n:Hình_thức_đào_tạo)\n",
      "RETURN collect(DISTINCT properties(n)) AS hình_thức_đào_tạo\u001b[0m\n",
      "Full Context:\n",
      "\u001b[32;1m\u001b[1;3m[{'hình_thức_đào_tạo': [{'thời_gian': '4.5 năm đối với ngành đào tạo kỹ sư, 3.5 năm đối với ngành đào tạo cử nhân kỹ thuật, 4 năm đối với các ngành còn lại', 'id': 'Hình Thức Đào Tạo Chính Quy'}, {'thời_gian': 'dài hơn tối thiểu 20% so với hình thức đào tạo chính quy', 'id': 'Hình Thức Đào Tạo Vừa Làm Vừa Học'}, {'thời_gian': 'Từ 06 giờ đến 20 giờ các ngày trong tuần từ thứ 2 đến thứ 7. Thực hành, thí nghiệm, các hoạt động thực tập, thực tế, học bù vì lý do thiên tai, dịch bệnh có thể bố trí vào Chủ nhật nếu cần', 'id': 'Đào Tạo Chính Quy', 'mô_tả': 'Các hoạt động giảng dạy được thực hiện tại cơ sở đào tạo, riêng những hoạt động thực hành, thực tập, trải nghiệm thực tế và giảng dạy trực tuyến có thể thực hiện ngoài Trường Đại học Quy Nhơn'}, {'thời_gian': 'Linh hoạt trong ngày và trong tuần', 'id': 'Đào Tạo Vừa Làm Vừa Học', 'mô_tả': 'Các hoạt động giảng dạy được thực hiện tại cơ sở phối hợp đào tạo theo quy định liên kết đào tạo tại Điều 7 của Quy chế này, riêng những hoạt động thực hành, thực tập, trải nghiệm thực tế và giảng dạy trực tuyến có thể thực hiện ngoài Trường Đại học Quy Nhơn, ngoài cơ sở phối hợp đào tạo'}]}]\u001b[0m\n"
     ]
    },
    {
     "name": "stderr",
     "output_type": "stream",
     "text": [
      "  9%|▉         | 7/79 [02:36<26:38, 22.20s/it]"
     ]
    },
    {
     "name": "stdout",
     "output_type": "stream",
     "text": [
      "\n",
      "\u001b[1m> Finished chain.\u001b[0m\n",
      "\n",
      "\n",
      "\u001b[1m> Entering new GraphCypherQAChain chain...\u001b[0m\n",
      "Generated Cypher:\n",
      "\u001b[32;1m\u001b[1;3mOPTIONAL MATCH (n:Hình_thức_đào_tạo)\n",
      "RETURN collect(DISTINCT properties(n)) AS hinh_thuc_dao_tao\u001b[0m\n",
      "Full Context:\n",
      "\u001b[32;1m\u001b[1;3m[{'hinh_thuc_dao_tao': [{'thời_gian': '4.5 năm đối với ngành đào tạo kỹ sư, 3.5 năm đối với ngành đào tạo cử nhân kỹ thuật, 4 năm đối với các ngành còn lại', 'id': 'Hình Thức Đào Tạo Chính Quy'}, {'thời_gian': 'dài hơn tối thiểu 20% so với hình thức đào tạo chính quy', 'id': 'Hình Thức Đào Tạo Vừa Làm Vừa Học'}, {'thời_gian': 'Từ 06 giờ đến 20 giờ các ngày trong tuần từ thứ 2 đến thứ 7. Thực hành, thí nghiệm, các hoạt động thực tập, thực tế, học bù vì lý do thiên tai, dịch bệnh có thể bố trí vào Chủ nhật nếu cần', 'id': 'Đào Tạo Chính Quy', 'mô_tả': 'Các hoạt động giảng dạy được thực hiện tại cơ sở đào tạo, riêng những hoạt động thực hành, thực tập, trải nghiệm thực tế và giảng dạy trực tuyến có thể thực hiện ngoài Trường Đại học Quy Nhơn'}, {'thời_gian': 'Linh hoạt trong ngày và trong tuần', 'id': 'Đào Tạo Vừa Làm Vừa Học', 'mô_tả': 'Các hoạt động giảng dạy được thực hiện tại cơ sở phối hợp đào tạo theo quy định liên kết đào tạo tại Điều 7 của Quy chế này, riêng những hoạt động thực hành, thực tập, trải nghiệm thực tế và giảng dạy trực tuyến có thể thực hiện ngoài Trường Đại học Quy Nhơn, ngoài cơ sở phối hợp đào tạo'}]}]\u001b[0m\n"
     ]
    },
    {
     "name": "stderr",
     "output_type": "stream",
     "text": [
      " 10%|█         | 8/79 [02:55<25:20, 21.42s/it]"
     ]
    },
    {
     "name": "stdout",
     "output_type": "stream",
     "text": [
      "\n",
      "\u001b[1m> Finished chain.\u001b[0m\n",
      "\n",
      "\n",
      "\u001b[1m> Entering new GraphCypherQAChain chain...\u001b[0m\n",
      "Generated Cypher:\n",
      "\u001b[32;1m\u001b[1;3m\u001b[0m\n",
      "Full Context:\n",
      "\u001b[32;1m\u001b[1;3m[]\u001b[0m\n"
     ]
    },
    {
     "name": "stderr",
     "output_type": "stream",
     "text": [
      " 11%|█▏        | 9/79 [03:16<24:31, 21.02s/it]"
     ]
    },
    {
     "name": "stdout",
     "output_type": "stream",
     "text": [
      "\n",
      "\u001b[1m> Finished chain.\u001b[0m\n",
      "\n",
      "\n",
      "\u001b[1m> Entering new GraphCypherQAChain chain...\u001b[0m\n",
      "Generated Cypher:\n",
      "\u001b[32;1m\u001b[1;3mOPTIONAL MATCH (n:Đợt_đăng_ký)\n",
      "RETURN collect(DISTINCT properties(n)) AS dot_dang_ky\u001b[0m\n",
      "Full Context:\n",
      "\u001b[32;1m\u001b[1;3m[{'dot_dang_ky': [{'id': 'Đợt 1'}, {'id': 'Đợt 2'}, {'id': 'Đợt 3'}]}]\u001b[0m\n"
     ]
    },
    {
     "name": "stderr",
     "output_type": "stream",
     "text": [
      " 13%|█▎        | 10/79 [03:33<22:50, 19.86s/it]"
     ]
    },
    {
     "name": "stdout",
     "output_type": "stream",
     "text": [
      "\n",
      "\u001b[1m> Finished chain.\u001b[0m\n",
      "\n",
      "\n",
      "\u001b[1m> Entering new GraphCypherQAChain chain...\u001b[0m\n",
      "Generated Cypher:\n",
      "\u001b[32;1m\u001b[1;3m\u001b[0m\n",
      "Full Context:\n",
      "\u001b[32;1m\u001b[1;3m[]\u001b[0m\n"
     ]
    },
    {
     "name": "stderr",
     "output_type": "stream",
     "text": [
      " 14%|█▍        | 11/79 [03:56<23:40, 20.89s/it]"
     ]
    },
    {
     "name": "stdout",
     "output_type": "stream",
     "text": [
      "\n",
      "\u001b[1m> Finished chain.\u001b[0m\n",
      "\n",
      "\n",
      "\u001b[1m> Entering new GraphCypherQAChain chain...\u001b[0m\n",
      "Generated Cypher:\n",
      "\u001b[32;1m\u001b[1;3m\u001b[0m\n",
      "Full Context:\n",
      "\u001b[32;1m\u001b[1;3m[]\u001b[0m\n"
     ]
    },
    {
     "name": "stderr",
     "output_type": "stream",
     "text": [
      " 15%|█▌        | 12/79 [04:22<25:10, 22.55s/it]"
     ]
    },
    {
     "name": "stdout",
     "output_type": "stream",
     "text": [
      "\n",
      "\u001b[1m> Finished chain.\u001b[0m\n",
      "\n",
      "\n",
      "\u001b[1m> Entering new GraphCypherQAChain chain...\u001b[0m\n",
      "Generated Cypher:\n",
      "\u001b[32;1m\u001b[1;3mOPTIONAL MATCH (n:Chủ_thể)-[r]->(m)\n",
      "WHERE n.id CONTAINS \"Hội đồng đánh giá khoá luận tốt nghiệp\" OR n.vai_trò CONTAINS \"Hội đồng đánh giá khoá luận tốt nghiệp\"\n",
      "\n",
      "OPTIONAL MATCH (n2:Khái_niệm)\n",
      "WHERE n2.id CONTAINS \"Hội đồng đánh giá khoá luận tốt nghiệp\" OR n2.định_nghĩa CONTAINS \"Hội đồng đánh giá khoá luận tốt nghiệp\"\n",
      "\n",
      "RETURN \n",
      "  collect(DISTINCT properties(n)) AS chủ_thể,\n",
      "  collect(DISTINCT type(r)) AS loại_quan_hệ,\n",
      "  collect(DISTINCT properties(r)) AS thuộc_tính_quan_hệ,\n",
      "  collect(DISTINCT properties(m)) AS đối_tượng_liên_quan,\n",
      "  collect(DISTINCT properties(n2)) AS khái_niệm\u001b[0m\n",
      "Full Context:\n",
      "\u001b[32;1m\u001b[1;3m[{'chủ_thể': [], 'loại_quan_hệ': [], 'thuộc_tính_quan_hệ': [], 'đối_tượng_liên_quan': [], 'khái_niệm': []}]\u001b[0m\n"
     ]
    },
    {
     "name": "stderr",
     "output_type": "stream",
     "text": [
      " 16%|█▋        | 13/79 [04:45<24:40, 22.43s/it]"
     ]
    },
    {
     "name": "stdout",
     "output_type": "stream",
     "text": [
      "\n",
      "\u001b[1m> Finished chain.\u001b[0m\n",
      "\n",
      "\n",
      "\u001b[1m> Entering new GraphCypherQAChain chain...\u001b[0m\n",
      "Generated Cypher:\n",
      "\u001b[32;1m\u001b[1;3m\u001b[0m\n",
      "Full Context:\n",
      "\u001b[32;1m\u001b[1;3m[]\u001b[0m\n"
     ]
    },
    {
     "name": "stderr",
     "output_type": "stream",
     "text": [
      " 18%|█▊        | 14/79 [05:13<26:22, 24.35s/it]"
     ]
    },
    {
     "name": "stdout",
     "output_type": "stream",
     "text": [
      "\n",
      "\u001b[1m> Finished chain.\u001b[0m\n",
      "\n",
      "\n",
      "\u001b[1m> Entering new GraphCypherQAChain chain...\u001b[0m\n",
      "Generated Cypher:\n",
      "\u001b[32;1m\u001b[1;3mOPTIONAL MATCH (n:Chủ_thể)-[r1:`ĐƯỢC_QUYỀN`]->(m:Mục_đích)\n",
      "WHERE n.id CONTAINS 'Sinh Viên' AND m.id CONTAINS 'Cải Thiện Điểm Trung Bình Chung Tích Lũy'\n",
      "\n",
      "OPTIONAL MATCH (n2:Khái_niệm)-[r2]->(m2)\n",
      "WHERE n2.id CONTAINS 'Điểm Trung Bình Chung Tích Lũy'\n",
      "\n",
      "RETURN \n",
      "  collect(DISTINCT properties(n)) AS chủ_thể,\n",
      "  collect(DISTINCT type(r1)) AS quan_hệ_1,\n",
      "  collect(DISTINCT properties(r1)) AS thuộc_tính_quan_hệ_1,\n",
      "  collect(DISTINCT properties(m)) AS mục_đích,\n",
      "  collect(DISTINCT properties(n2)) AS khái_niệm,\n",
      "  collect(DISTINCT type(r2)) AS quan_hệ_2,\n",
      "  collect(DISTINCT properties(r2)) AS thuộc_tính_quan_hệ_2,\n",
      "  collect(DISTINCT properties(m2)) AS đối_tượng_liên_quan\u001b[0m\n",
      "Full Context:\n",
      "\u001b[32;1m\u001b[1;3m[{'chủ_thể': [{'id': 'Sinh Viên', 'quyền_lợi': 'được bảo đảm điều kiện thực hiện đầy đủ nhiệm vụ và quyền trong quá trình học tập và rèn luyện tại trường', 'vai_trò': 'Lựa chọn phương án trả lời', 'định_nghĩa': 'người đang học chương trình đào tạo trình độ đại học hệ chính quy tại trường'}], 'quan_hệ_1': ['ĐƯỢC_QUYỀN'], 'thuộc_tính_quan_hệ_1': [{}], 'mục_đích': [{'id': 'Cải Thiện Điểm Trung Bình Chung Tích Lũy'}], 'khái_niệm': [{'id': 'Điểm Trung Bình Chung Tích Lũy', 'phạm_vi': 'Bao gồm các học phần được đánh giá đạt đến thời điểm xét.', 'định_nghĩa': 'Điểm trung bình chung tích lũy được tính theo công thức A = (Σ (i = 1 -> n) [a_i * n_i]) / (Σ (i = 1 -> n) [n_i]) và làm tròn đến 2 chữ số thập phân.'}], 'quan_hệ_2': ['DÙNG_ĐỂ', 'TÍNH_TỪ'], 'thuộc_tính_quan_hệ_2': [{'mục_đích': 'Xét thôi học, cảnh báo kết quả học tập, xếp hạng học lực sinh viên và xếp hạng tốt nghiệp.'}, {'công_thức': 'A = (Σ (i = 1 -> n) [a_i * n_i]) / (Σ (i = 1 -> n) [n_i])'}], 'đối_tượng_liên_quan': [{'id': 'Sinh Viên', 'quyền_lợi': 'được bảo đảm điều kiện thực hiện đầy đủ nhiệm vụ và quyền trong quá trình học tập và rèn luyện tại trường', 'vai_trò': 'Lựa chọn phương án trả lời', 'định_nghĩa': 'người đang học chương trình đào tạo trình độ đại học hệ chính quy tại trường'}, {'id': 'Học Phần', 'mã_học_phần': 'Do Trường quy định', 'khối_lượng_tín_chỉ': '1-4', 'thời_gian_giảng_dạy': 'Một học kỳ', 'định_nghĩa': 'Đơn vị học tập có điểm đánh giá và số tín chỉ.'}]}]\u001b[0m\n"
     ]
    },
    {
     "name": "stderr",
     "output_type": "stream",
     "text": [
      " 19%|█▉        | 15/79 [05:47<28:52, 27.06s/it]"
     ]
    },
    {
     "name": "stdout",
     "output_type": "stream",
     "text": [
      "\n",
      "\u001b[1m> Finished chain.\u001b[0m\n",
      "\n",
      "\n",
      "\u001b[1m> Entering new GraphCypherQAChain chain...\u001b[0m\n",
      "Generated Cypher:\n",
      "\u001b[32;1m\u001b[1;3mOPTIONAL MATCH (n:Chủ_thể)-[r1]->(m:Mục_đích)\n",
      "WHERE n.id CONTAINS \"Sinh Viên\" AND m.id CONTAINS \"Cải Thiện Điểm Trung Bình Chung Tích Lũy\"\n",
      "\n",
      "OPTIONAL MATCH (m)-[r2]->(k:Hoạt_động)\n",
      "WHERE k.id CONTAINS \"Cải Thiện Điểm\"\n",
      "\n",
      "OPTIONAL MATCH (k)-[r3]->(h:Khái_niệm)\n",
      "WHERE h.id CONTAINS \"Điểm Trung Bình\"\n",
      "\n",
      "RETURN \n",
      "  collect(DISTINCT properties(n)) AS sinh_viên,\n",
      "  collect(DISTINCT properties(m)) AS mục_đích,\n",
      "  collect(DISTINCT type(r1)) AS quan_hệ_1,\n",
      "  collect(DISTINCT properties(r1)) AS thuộc_tính_1,\n",
      "  collect(DISTINCT properties(k)) AS hoạt_động,\n",
      "  collect(DISTINCT type(r2)) AS quan_hệ_2,\n",
      "  collect(DISTINCT properties(r2)) AS thuộc_tính_2,\n",
      "  collect(DISTINCT properties(h)) AS khái_niệm,\n",
      "  collect(DISTINCT type(r3)) AS quan_hệ_3,\n",
      "  collect(DISTINCT properties(r3)) AS thuộc_tính_3\u001b[0m\n",
      "Full Context:\n",
      "\u001b[32;1m\u001b[1;3m[{'sinh_viên': [{'id': 'Sinh Viên', 'quyền_lợi': 'được bảo đảm điều kiện thực hiện đầy đủ nhiệm vụ và quyền trong quá trình học tập và rèn luyện tại trường', 'vai_trò': 'Lựa chọn phương án trả lời', 'định_nghĩa': 'người đang học chương trình đào tạo trình độ đại học hệ chính quy tại trường'}], 'mục_đích': [{'id': 'Cải Thiện Điểm Trung Bình Chung Tích Lũy'}], 'quan_hệ_1': ['ĐƯỢC_QUYỀN'], 'thuộc_tính_1': [{}], 'hoạt_động': [], 'quan_hệ_2': [], 'thuộc_tính_2': [], 'khái_niệm': [], 'quan_hệ_3': [], 'thuộc_tính_3': []}]\u001b[0m\n"
     ]
    },
    {
     "name": "stderr",
     "output_type": "stream",
     "text": [
      " 20%|██        | 16/79 [06:17<29:34, 28.17s/it]"
     ]
    },
    {
     "name": "stdout",
     "output_type": "stream",
     "text": [
      "\n",
      "\u001b[1m> Finished chain.\u001b[0m\n",
      "\n",
      "\n",
      "\u001b[1m> Entering new GraphCypherQAChain chain...\u001b[0m\n",
      "Generated Cypher:\n",
      "\u001b[32;1m\u001b[1;3mOPTIONAL MATCH (n)\n",
      "WHERE n.id CONTAINS 'Điểm Trung Bình Chung Học Kỳ'\n",
      "\n",
      "OPTIONAL MATCH (n)-[r]->(m)\n",
      "WHERE n.id CONTAINS 'Điểm Trung Bình Chung Học Kỳ'\n",
      "\n",
      "RETURN \n",
      "  collect(DISTINCT properties(n)) AS khái_niệm,\n",
      "  collect(DISTINCT type(r)) AS loại_quan_hệ,\n",
      "  collect(DISTINCT properties(r)) AS thuộc_tính_quan_hệ,\n",
      "  collect(DISTINCT properties(m)) AS mục_đích\u001b[0m\n",
      "Full Context:\n",
      "\u001b[32;1m\u001b[1;3m[{'khái_niệm': [{'id': 'Điểm Trung Bình Chung Học Kỳ', 'phạm_vi': 'Bao gồm tất cả các học phần được đánh giá đạt và không đạt trong học kỳ.', 'định_nghĩa': 'Điểm trung bình chung học kỳ được tính theo công thức A = (Σ (i = 1 -> n) [a_i * n_i]) / (Σ (i = 1 -> n) [n_i]) và làm tròn đến 2 chữ số thập phân.'}], 'loại_quan_hệ': ['DÙNG_ĐỂ', 'TÍNH_TỪ'], 'thuộc_tính_quan_hệ': [{'mục_đích': 'Xét thôi học, cảnh báo kết quả học tập, xếp hạng học lực sinh viên và xếp hạng tốt nghiệp.'}, {'công_thức': 'A = (Σ (i = 1 -> n) [a_i * n_i]) / (Σ (i = 1 -> n) [n_i])'}], 'mục_đích': [{'id': 'Sinh Viên', 'quyền_lợi': 'được bảo đảm điều kiện thực hiện đầy đủ nhiệm vụ và quyền trong quá trình học tập và rèn luyện tại trường', 'vai_trò': 'Lựa chọn phương án trả lời', 'định_nghĩa': 'người đang học chương trình đào tạo trình độ đại học hệ chính quy tại trường'}, {'id': 'Học Phần', 'mã_học_phần': 'Do Trường quy định', 'khối_lượng_tín_chỉ': '1-4', 'thời_gian_giảng_dạy': 'Một học kỳ', 'định_nghĩa': 'Đơn vị học tập có điểm đánh giá và số tín chỉ.'}]}]\u001b[0m\n"
     ]
    },
    {
     "name": "stderr",
     "output_type": "stream",
     "text": [
      " 22%|██▏       | 17/79 [06:40<27:18, 26.43s/it]"
     ]
    },
    {
     "name": "stdout",
     "output_type": "stream",
     "text": [
      "\n",
      "\u001b[1m> Finished chain.\u001b[0m\n",
      "\n",
      "\n",
      "\u001b[1m> Entering new GraphCypherQAChain chain...\u001b[0m\n",
      "Generated Cypher:\n",
      "\u001b[32;1m\u001b[1;3mOPTIONAL MATCH (n:Học_lực)-[r]->(m)\n",
      "WHERE n.id CONTAINS 'Xuất Sắc' OR n.id CONTAINS 'Khá' OR n.id CONTAINS 'Giỏi'\n",
      "\n",
      "OPTIONAL MATCH (n2:Hoạt_động)-[r2:`XẾP_LOẠI`]->(m2:Học_lực)\n",
      "WHERE n2.id CONTAINS 'Đánh Giá Học Lực'\n",
      "\n",
      "RETURN \n",
      "  collect(DISTINCT properties(n)) AS học_lực,\n",
      "  collect(DISTINCT type(r)) AS quan_hệ_học_lực,\n",
      "  collect(DISTINCT properties(r)) AS thuộc_tính_quan_hệ,\n",
      "  collect(DISTINCT properties(m)) AS thang_điểm,\n",
      "  collect(DISTINCT properties(n2)) AS hoạt_động,\n",
      "  collect(DISTINCT type(r2)) AS quan_hệ_xếp_loại,\n",
      "  collect(DISTINCT properties(r2)) AS thuộc_tính_xếp_loại,\n",
      "  collect(DISTINCT properties(m2)) AS học_lực_xếp_loại\u001b[0m\n",
      "Full Context:\n",
      "\u001b[32;1m\u001b[1;3m[{'học_lực': [], 'quan_hệ_học_lực': [], 'thuộc_tính_quan_hệ': [], 'thang_điểm': [], 'hoạt_động': [], 'quan_hệ_xếp_loại': [], 'thuộc_tính_xếp_loại': [], 'học_lực_xếp_loại': []}]\u001b[0m\n"
     ]
    },
    {
     "name": "stderr",
     "output_type": "stream",
     "text": [
      " 23%|██▎       | 18/79 [07:04<26:12, 25.77s/it]"
     ]
    },
    {
     "name": "stdout",
     "output_type": "stream",
     "text": [
      "\n",
      "\u001b[1m> Finished chain.\u001b[0m\n",
      "\n",
      "\n",
      "\u001b[1m> Entering new GraphCypherQAChain chain...\u001b[0m\n",
      "Generated Cypher:\n",
      "\u001b[32;1m\u001b[1;3mOPTIONAL MATCH (n:Học_lực)\n",
      "WHERE n.id CONTAINS \"Giỏi\"\n",
      "\n",
      "OPTIONAL MATCH (m:Học_lực)\n",
      "WHERE m.id CONTAINS \"Xuất Sắc\"\n",
      "\n",
      "RETURN \n",
      "  collect(DISTINCT properties(n)) AS xep_loai_gioi,\n",
      "  collect(DISTINCT properties(m)) AS xep_loai_xuat_sac\u001b[0m\n",
      "Full Context:\n",
      "\u001b[32;1m\u001b[1;3m[{'xep_loai_gioi': [{'id': 'Giỏi', 'điểm': '3.2-dưới 3.6'}], 'xep_loai_xuat_sac': [{'id': 'Xuất Sắc', 'điểm': '3.6-4.0'}]}]\u001b[0m\n"
     ]
    },
    {
     "name": "stderr",
     "output_type": "stream",
     "text": [
      " 24%|██▍       | 19/79 [07:41<29:14, 29.25s/it]"
     ]
    },
    {
     "name": "stdout",
     "output_type": "stream",
     "text": [
      "\n",
      "\u001b[1m> Finished chain.\u001b[0m\n",
      "\n",
      "\n",
      "\u001b[1m> Entering new GraphCypherQAChain chain...\u001b[0m\n",
      "Generated Cypher:\n",
      "\u001b[32;1m\u001b[1;3mOPTIONAL MATCH (n:Học_lực)\n",
      "WHERE n.id CONTAINS \"Xuất Sắc\"\n",
      "RETURN properties(n) AS n_properties\u001b[0m\n",
      "Full Context:\n",
      "\u001b[32;1m\u001b[1;3m[{'n_properties': {'id': 'Xuất Sắc', 'điểm': '3.6-4.0'}}]\u001b[0m\n"
     ]
    },
    {
     "name": "stderr",
     "output_type": "stream",
     "text": [
      " 25%|██▌       | 20/79 [08:01<25:49, 26.27s/it]"
     ]
    },
    {
     "name": "stdout",
     "output_type": "stream",
     "text": [
      "\n",
      "\u001b[1m> Finished chain.\u001b[0m\n",
      "\n",
      "\n",
      "\u001b[1m> Entering new GraphCypherQAChain chain...\u001b[0m\n",
      "Generated Cypher:\n",
      "\u001b[32;1m\u001b[1;3mOPTIONAL MATCH (n:Chủ_thể)-[r:`BỊ_CẢNH_BÁO`]->(m)\n",
      "WHERE n.id CONTAINS 'Sinh Viên'\n",
      "RETURN \n",
      "  properties(n) AS n_properties, \n",
      "  type(r) AS r_type, \n",
      "  properties(r) AS r_properties,\n",
      "  properties(m) AS m_properties\u001b[0m\n",
      "Full Context:\n",
      "\u001b[32;1m\u001b[1;3m[{'n_properties': {'id': 'Sinh Viên', 'quyền_lợi': 'được bảo đảm điều kiện thực hiện đầy đủ nhiệm vụ và quyền trong quá trình học tập và rèn luyện tại trường', 'vai_trò': 'Lựa chọn phương án trả lời', 'định_nghĩa': 'người đang học chương trình đào tạo trình độ đại học hệ chính quy tại trường'}, 'r_type': 'BỊ_CẢNH_BÁO', 'r_properties': {'điều_kiện': 'Điểm trung bình tích lũy dưới 1,2, 1,4, 1,6 hoặc 1,8'}, 'm_properties': {'id': 'Cảnh Báo Học Tập'}}, {'n_properties': {'id': 'Sinh Viên', 'quyền_lợi': 'được bảo đảm điều kiện thực hiện đầy đủ nhiệm vụ và quyền trong quá trình học tập và rèn luyện tại trường', 'vai_trò': 'Lựa chọn phương án trả lời', 'định_nghĩa': 'người đang học chương trình đào tạo trình độ đại học hệ chính quy tại trường'}, 'r_type': 'BỊ_CẢNH_BÁO', 'r_properties': {}, 'm_properties': {'id': 'Cảnh Báo Kết Quả Học Tập'}}]\u001b[0m\n"
     ]
    },
    {
     "name": "stderr",
     "output_type": "stream",
     "text": [
      " 27%|██▋       | 21/79 [08:20<23:17, 24.09s/it]"
     ]
    },
    {
     "name": "stdout",
     "output_type": "stream",
     "text": [
      "\n",
      "\u001b[1m> Finished chain.\u001b[0m\n",
      "\n",
      "\n",
      "\u001b[1m> Entering new GraphCypherQAChain chain...\u001b[0m\n",
      "Generated Cypher:\n",
      "\u001b[32;1m\u001b[1;3mOPTIONAL MATCH (n:Chủ_thể)-[r1:`BỊ_BUỘC_THÔI_HỌC`]->(m)\n",
      "WHERE n.id CONTAINS 'Sinh Viên'\n",
      "RETURN \n",
      "  properties(n) AS n_properties, \n",
      "  type(r1) AS r1_type, \n",
      "  properties(r1) AS r1_properties,\n",
      "  properties(m) AS m_properties\u001b[0m\n",
      "Full Context:\n",
      "\u001b[32;1m\u001b[1;3m[{'n_properties': {'id': 'Sinh Viên', 'quyền_lợi': 'được bảo đảm điều kiện thực hiện đầy đủ nhiệm vụ và quyền trong quá trình học tập và rèn luyện tại trường', 'vai_trò': 'Lựa chọn phương án trả lời', 'định_nghĩa': 'người đang học chương trình đào tạo trình độ đại học hệ chính quy tại trường'}, 'r1_type': 'BỊ_BUỘC_THÔI_HỌC', 'r1_properties': {'điều_kiện': 'Vượt quá thời gian học tập'}, 'm_properties': {'id': 'Buộc Thôi Học'}}]\u001b[0m\n"
     ]
    },
    {
     "name": "stderr",
     "output_type": "stream",
     "text": [
      " 28%|██▊       | 22/79 [08:39<21:37, 22.77s/it]"
     ]
    },
    {
     "name": "stdout",
     "output_type": "stream",
     "text": [
      "\n",
      "\u001b[1m> Finished chain.\u001b[0m\n",
      "\n",
      "\n",
      "\u001b[1m> Entering new GraphCypherQAChain chain...\u001b[0m\n",
      "Generated Cypher:\n",
      "\u001b[32;1m\u001b[1;3mOPTIONAL MATCH (n)\n",
      "WHERE n.id CONTAINS 'Điều Kiện Được Công Nhận Tốt Nghiệp' OR n.id CONTAINS 'Điều Kiện Tốt Nghiệp'\n",
      "\n",
      "OPTIONAL MATCH (m:Quy_định)-[r]->(k)\n",
      "WHERE k.id CONTAINS 'Điều Kiện Tốt Nghiệp' OR k.id CONTAINS 'Công Nhận Tốt Nghiệp'\n",
      "\n",
      "RETURN \n",
      "  collect(DISTINCT properties(n)) AS điều_kiện,\n",
      "  collect(DISTINCT properties(m)) AS quy_định,\n",
      "  collect(DISTINCT type(r)) AS loại_quan_hệ,\n",
      "  collect(DISTINCT properties(r)) AS thuộc_tính_quan_hệ,\n",
      "  collect(DISTINCT properties(k)) AS khái_niệm_liên_quan\u001b[0m\n",
      "Full Context:\n",
      "\u001b[32;1m\u001b[1;3m[{'điều_kiện': [{'id': 'Danh Sách Sinh Viên Đủ Điều Kiện Tốt Nghiệp'}, {'id': 'Điều Kiện Tốt Nghiệp'}], 'quy_định': [], 'loại_quan_hệ': [], 'thuộc_tính_quan_hệ': [], 'khái_niệm_liên_quan': []}]\u001b[0m\n"
     ]
    },
    {
     "name": "stderr",
     "output_type": "stream",
     "text": [
      " 29%|██▉       | 23/79 [09:05<21:55, 23.49s/it]"
     ]
    },
    {
     "name": "stdout",
     "output_type": "stream",
     "text": [
      "\n",
      "\u001b[1m> Finished chain.\u001b[0m\n",
      "\n",
      "\n",
      "\u001b[1m> Entering new GraphCypherQAChain chain...\u001b[0m\n",
      "Generated Cypher:\n",
      "\u001b[32;1m\u001b[1;3mOPTIONAL MATCH (n)-[r]->(m)\n",
      "WHERE n.id CONTAINS 'Hạng Tốt Nghiệp' OR m.id CONTAINS 'Hạng Tốt Nghiệp'\n",
      "RETURN \n",
      "  properties(n) AS n_properties, \n",
      "  type(r) AS r_type, \n",
      "  properties(r) AS r_properties, \n",
      "  properties(m) AS m_properties\u001b[0m\n",
      "Full Context:\n",
      "\u001b[32;1m\u001b[1;3m[{'n_properties': {'id': 'Hạng Tốt Nghiệp', 'định_nghĩa': 'Xác định theo điểm trung bình chung tích lũy của toàn khóa học'}, 'r_type': 'XÁC_ĐỊNH_BỞI', 'r_properties': {}, 'm_properties': {'id': 'Điểm Trung Bình Tích Lũy'}}, {'n_properties': {'id': 'Hạng Tốt Nghiệp', 'định_nghĩa': 'Xác định theo điểm trung bình chung tích lũy của toàn khóa học'}, 'r_type': 'BỊ_ẢNH_HƯỞNG_BỞI', 'r_properties': {'điều_kiện': 'Khối lượng vượt quá 5%'}, 'm_properties': {'id': 'Học Phần Phải Học Lại', 'khối_lượng': 'Vượt quá 5% so với tổng số tín chỉ quy định cho toàn chương trình'}}, {'n_properties': {'id': 'Hạng Tốt Nghiệp', 'định_nghĩa': 'Xác định theo điểm trung bình chung tích lũy của toàn khóa học'}, 'r_type': 'BỊ_ẢNH_HƯỞNG_BỞI', 'r_properties': {'điều_kiện': 'Từ mức cảnh cáo trở lên'}, 'm_properties': {'id': 'Kỷ Luật', 'mức_độ': 'Từ mức cảnh cáo trở lên'}}, {'n_properties': {'id': 'Hạng Tốt Nghiệp', 'định_nghĩa': 'Xác định theo điểm trung bình chung tích lũy của toàn khóa học'}, 'r_type': 'THAM_CHIẾU', 'r_properties': {}, 'm_properties': {'tiêu_đề': 'Chế độ báo cáo', 'id': 'Điều 18'}}]\u001b[0m\n"
     ]
    },
    {
     "name": "stderr",
     "output_type": "stream",
     "text": [
      " 30%|███       | 24/79 [09:32<22:32, 24.60s/it]"
     ]
    },
    {
     "name": "stdout",
     "output_type": "stream",
     "text": [
      "\n",
      "\u001b[1m> Finished chain.\u001b[0m\n",
      "\n",
      "\n",
      "\u001b[1m> Entering new GraphCypherQAChain chain...\u001b[0m\n",
      "Generated Cypher:\n",
      "\u001b[32;1m\u001b[1;3mOPTIONAL MATCH (n)-[r]->(m)\n",
      "WHERE n.id CONTAINS 'Hạng Tốt Nghiệp'\n",
      "RETURN \n",
      "  properties(n) AS n_properties, \n",
      "  type(r) AS r_type, \n",
      "  properties(r) AS r_properties, \n",
      "  properties(m) AS m_properties\u001b[0m\n",
      "Full Context:\n",
      "\u001b[32;1m\u001b[1;3m[{'n_properties': {'id': 'Hạng Tốt Nghiệp', 'định_nghĩa': 'Xác định theo điểm trung bình chung tích lũy của toàn khóa học'}, 'r_type': 'THAM_CHIẾU', 'r_properties': {}, 'm_properties': {'tiêu_đề': 'Chế độ báo cáo', 'id': 'Điều 18'}}, {'n_properties': {'id': 'Hạng Tốt Nghiệp', 'định_nghĩa': 'Xác định theo điểm trung bình chung tích lũy của toàn khóa học'}, 'r_type': 'BỊ_ẢNH_HƯỞNG_BỞI', 'r_properties': {'điều_kiện': 'Từ mức cảnh cáo trở lên'}, 'm_properties': {'id': 'Kỷ Luật', 'mức_độ': 'Từ mức cảnh cáo trở lên'}}, {'n_properties': {'id': 'Hạng Tốt Nghiệp', 'định_nghĩa': 'Xác định theo điểm trung bình chung tích lũy của toàn khóa học'}, 'r_type': 'BỊ_ẢNH_HƯỞNG_BỞI', 'r_properties': {'điều_kiện': 'Khối lượng vượt quá 5%'}, 'm_properties': {'id': 'Học Phần Phải Học Lại', 'khối_lượng': 'Vượt quá 5% so với tổng số tín chỉ quy định cho toàn chương trình'}}, {'n_properties': {'id': 'Hạng Tốt Nghiệp', 'định_nghĩa': 'Xác định theo điểm trung bình chung tích lũy của toàn khóa học'}, 'r_type': 'XÁC_ĐỊNH_BỞI', 'r_properties': {}, 'm_properties': {'id': 'Điểm Trung Bình Tích Lũy'}}]\u001b[0m\n"
     ]
    },
    {
     "name": "stderr",
     "output_type": "stream",
     "text": [
      " 32%|███▏      | 25/79 [09:54<21:26, 23.83s/it]"
     ]
    },
    {
     "name": "stdout",
     "output_type": "stream",
     "text": [
      "\n",
      "\u001b[1m> Finished chain.\u001b[0m\n",
      "\n",
      "\n",
      "\u001b[1m> Entering new GraphCypherQAChain chain...\u001b[0m\n",
      "Generated Cypher:\n",
      "\u001b[32;1m\u001b[1;3m\u001b[0m\n",
      "Full Context:\n",
      "\u001b[32;1m\u001b[1;3m[]\u001b[0m\n"
     ]
    },
    {
     "name": "stderr",
     "output_type": "stream",
     "text": [
      " 33%|███▎      | 26/79 [10:17<20:58, 23.75s/it]"
     ]
    },
    {
     "name": "stdout",
     "output_type": "stream",
     "text": [
      "\n",
      "\u001b[1m> Finished chain.\u001b[0m\n",
      "\n",
      "\n",
      "\u001b[1m> Entering new GraphCypherQAChain chain...\u001b[0m\n",
      "Generated Cypher:\n",
      "\u001b[32;1m\u001b[1;3m\u001b[0m\n",
      "Full Context:\n",
      "\u001b[32;1m\u001b[1;3m[]\u001b[0m\n"
     ]
    },
    {
     "name": "stderr",
     "output_type": "stream",
     "text": [
      " 34%|███▍      | 27/79 [10:46<21:56, 25.32s/it]"
     ]
    },
    {
     "name": "stdout",
     "output_type": "stream",
     "text": [
      "\n",
      "\u001b[1m> Finished chain.\u001b[0m\n",
      "\n",
      "\n",
      "\u001b[1m> Entering new GraphCypherQAChain chain...\u001b[0m\n",
      "Generated Cypher:\n",
      "\u001b[32;1m\u001b[1;3mOPTIONAL MATCH (n:Chủ_thể)-[r1:`ĐƯỢC_CHUYỂN_QUA`]->(m:Chương_trình_đào_tạo)\n",
      "WHERE n.id CONTAINS 'Sinh Viên'\n",
      "\n",
      "OPTIONAL MATCH (n2:Quy_định)-[r2:`QUY_ĐỊNH`]->(m2:Chủ_thể)\n",
      "WHERE m2.id CONTAINS 'Sinh Viên' AND n2.id CONTAINS 'Chuyển Ngành'\n",
      "\n",
      "RETURN \n",
      "  collect(DISTINCT properties(n)) AS sinh_viên,\n",
      "  collect(DISTINCT type(r1)) AS quan_hệ_chuyển_ngành,\n",
      "  collect(DISTINCT properties(r1)) AS thuộc_tính_quan_hệ,\n",
      "  collect(DISTINCT properties(m)) AS chương_trình_đào_tạo,\n",
      "  collect(DISTINCT properties(n2)) AS quy_định,\n",
      "  collect(DISTINCT type(r2)) AS quan_hệ_quy_định,\n",
      "  collect(DISTINCT properties(r2)) AS thuộc_tính_quy_định,\n",
      "  collect(DISTINCT properties(m2)) AS đối_tượng_quy_định\u001b[0m\n",
      "Full Context:\n",
      "\u001b[32;1m\u001b[1;3m[{'sinh_viên': [{'id': 'Sinh Viên', 'quyền_lợi': 'được bảo đảm điều kiện thực hiện đầy đủ nhiệm vụ và quyền trong quá trình học tập và rèn luyện tại trường', 'vai_trò': 'Lựa chọn phương án trả lời', 'định_nghĩa': 'người đang học chương trình đào tạo trình độ đại học hệ chính quy tại trường'}], 'quan_hệ_chuyển_ngành': ['ĐƯỢC_CHUYỂN_QUA'], 'thuộc_tính_quan_hệ': [{}], 'chương_trình_đào_tạo': [{'id': 'Chương Trình Đào Tạo Hình Thức Vừa Làm Vừa Học'}, {'id': 'Chương Trình Đào Tạo Ở Trình Độ Thấp Hơn'}], 'quy_định': [], 'quan_hệ_quy_định': [], 'thuộc_tính_quy_định': [], 'đối_tượng_quy_định': []}]\u001b[0m\n"
     ]
    },
    {
     "name": "stderr",
     "output_type": "stream",
     "text": [
      " 35%|███▌      | 28/79 [11:09<20:46, 24.45s/it]"
     ]
    },
    {
     "name": "stdout",
     "output_type": "stream",
     "text": [
      "\n",
      "\u001b[1m> Finished chain.\u001b[0m\n",
      "\n",
      "\n",
      "\u001b[1m> Entering new GraphCypherQAChain chain...\u001b[0m\n",
      "Generated Cypher:\n",
      "\u001b[32;1m\u001b[1;3mOPTIONAL MATCH (n:Chủ_thể)-[r]->(m)\n",
      "WHERE n.id CONTAINS 'Sinh Viên' AND (type(r) CONTAINS 'HỌC' OR type(r) CONTAINS 'ĐĂNG_KÝ') AND m.id CONTAINS 'Chương Trình'\n",
      "\n",
      "OPTIONAL MATCH (q:Quy_định)-[s]->(p)\n",
      "WHERE q.id CONTAINS 'Quy Định' AND (p.id CONTAINS 'Song Ngành' OR p.id CONTAINS 'Học Song Ngành')\n",
      "\n",
      "RETURN \n",
      "  collect(DISTINCT properties(n)) AS sinh_viên,\n",
      "  collect(DISTINCT type(r)) AS quan_hệ_học,\n",
      "  collect(DISTINCT properties(r)) AS thuộc_tính_quan_hệ,\n",
      "  collect(DISTINCT properties(m)) AS chương_trình,\n",
      "  collect(DISTINCT properties(q)) AS quy_định,\n",
      "  collect(DISTINCT type(s)) AS quan_hệ_quy_định,\n",
      "  collect(DISTINCT properties(s)) AS thuộc_tính_quy_định,\n",
      "  collect(DISTINCT properties(p)) AS nội_dung_quy_định\u001b[0m\n",
      "Full Context:\n",
      "\u001b[32;1m\u001b[1;3m[{'sinh_viên': [{'id': 'Sinh Viên', 'quyền_lợi': 'được bảo đảm điều kiện thực hiện đầy đủ nhiệm vụ và quyền trong quá trình học tập và rèn luyện tại trường', 'vai_trò': 'Lựa chọn phương án trả lời', 'định_nghĩa': 'người đang học chương trình đào tạo trình độ đại học hệ chính quy tại trường'}, {'id': 'Sinh Viên Đại Học Hệ Chính Quy'}], 'quan_hệ_học': ['ĐĂNG_KÝ', 'HỌC', 'HỌC_TẬP'], 'thuộc_tính_quan_hệ': [{}], 'chương_trình': [{'id': 'Chương Trình Thứ Hai'}, {'id': 'Chương Trình Thứ Nhất'}, {'id': 'Chương Trình Đào Tạo Trình Độ Đại Học Hệ Chính Quy'}, {'id': 'Chương Trình Giáo Dục'}, {'id': 'Chương Trình Học'}], 'quy_định': [], 'quan_hệ_quy_định': [], 'thuộc_tính_quy_định': [], 'nội_dung_quy_định': []}]\u001b[0m\n"
     ]
    },
    {
     "name": "stderr",
     "output_type": "stream",
     "text": [
      " 37%|███▋      | 29/79 [11:36<21:01, 25.22s/it]"
     ]
    },
    {
     "name": "stdout",
     "output_type": "stream",
     "text": [
      "\n",
      "\u001b[1m> Finished chain.\u001b[0m\n",
      "\n",
      "\n",
      "\u001b[1m> Entering new GraphCypherQAChain chain...\u001b[0m\n",
      "Generated Cypher:\n",
      "\u001b[32;1m\u001b[1;3m\u001b[0m\n",
      "Full Context:\n",
      "\u001b[32;1m\u001b[1;3m[]\u001b[0m\n"
     ]
    },
    {
     "name": "stderr",
     "output_type": "stream",
     "text": [
      " 38%|███▊      | 30/79 [12:00<20:17, 24.84s/it]"
     ]
    },
    {
     "name": "stdout",
     "output_type": "stream",
     "text": [
      "\n",
      "\u001b[1m> Finished chain.\u001b[0m\n",
      "\n",
      "\n",
      "\u001b[1m> Entering new GraphCypherQAChain chain...\u001b[0m\n",
      "Generated Cypher:\n",
      "\u001b[32;1m\u001b[1;3m\u001b[0m\n",
      "Full Context:\n",
      "\u001b[32;1m\u001b[1;3m[]\u001b[0m\n"
     ]
    },
    {
     "name": "stderr",
     "output_type": "stream",
     "text": [
      " 39%|███▉      | 31/79 [12:25<20:01, 25.04s/it]"
     ]
    },
    {
     "name": "stdout",
     "output_type": "stream",
     "text": [
      "\n",
      "\u001b[1m> Finished chain.\u001b[0m\n",
      "\n",
      "\n",
      "\u001b[1m> Entering new GraphCypherQAChain chain...\u001b[0m\n",
      "Generated Cypher:\n",
      "\u001b[32;1m\u001b[1;3mOPTIONAL MATCH (n:Ngành_đào_tạo)-[r:YÊU_CẦU]->(m:Ngoại_ngữ)\n",
      "WHERE n.id CONTAINS 'Sư Phạm Tiếng Anh'\n",
      "\n",
      "OPTIONAL MATCH (y:Yêu_cầu)-[r2:YÊU_CẦU]->(c:Chứng_chỉ)\n",
      "WHERE y.id CONTAINS 'Chuẩn Đầu Ra Ngoại Ngữ'\n",
      "\n",
      "RETURN \n",
      "  collect(DISTINCT properties(n)) AS ngành_đào_tạo,\n",
      "  collect(DISTINCT type(r)) AS quan_hệ_yêu_cầu,\n",
      "  collect(DISTINCT properties(r)) AS thuộc_tính_quan_hệ,\n",
      "  collect(DISTINCT properties(m)) AS ngoại_ngữ,\n",
      "  collect(DISTINCT properties(y)) AS yêu_cầu,\n",
      "  collect(DISTINCT type(r2)) AS quan_hệ_chứng_chỉ,\n",
      "  collect(DISTINCT properties(r2)) AS thuộc_tính_quan_hệ_chứng_chỉ,\n",
      "  collect(DISTINCT properties(c)) AS chứng_chỉ\u001b[0m\n",
      "Full Context:\n",
      "\u001b[32;1m\u001b[1;3m[{'ngành_đào_tạo': [{'id': 'Sư Phạm Tiếng Anh'}], 'quan_hệ_yêu_cầu': ['YÊU_CẦU'], 'thuộc_tính_quan_hệ': [{'bậc': '3/6'}, {'bậc': '5/6'}], 'ngoại_ngữ': [{'id': 'Tiếng Trung'}, {'id': 'Tiếng Pháp'}, {'id': 'Tiếng Anh'}], 'yêu_cầu': [], 'quan_hệ_chứng_chỉ': [], 'thuộc_tính_quan_hệ_chứng_chỉ': [], 'chứng_chỉ': []}]\u001b[0m\n"
     ]
    },
    {
     "name": "stderr",
     "output_type": "stream",
     "text": [
      " 41%|████      | 32/79 [12:53<20:12, 25.80s/it]"
     ]
    },
    {
     "name": "stdout",
     "output_type": "stream",
     "text": [
      "\n",
      "\u001b[1m> Finished chain.\u001b[0m\n",
      "\n",
      "\n",
      "\u001b[1m> Entering new GraphCypherQAChain chain...\u001b[0m\n",
      "Generated Cypher:\n",
      "\u001b[32;1m\u001b[1;3mOPTIONAL MATCH (n)\n",
      "WHERE n.id CONTAINS 'Chuẩn Đầu Ra Tin Học'\n",
      "\n",
      "OPTIONAL MATCH (n2)-[r]->(m)\n",
      "WHERE m.id CONTAINS 'Chuẩn Đầu Ra Tin Học'\n",
      "\n",
      "RETURN \n",
      "  collect(DISTINCT properties(n)) AS khái_niệm,\n",
      "  collect(DISTINCT properties(n2)) AS thực_thể_liên_quan,\n",
      "  collect(DISTINCT type(r)) AS loại_quan_hệ,\n",
      "  collect(DISTINCT properties(r)) AS thuộc_tính_quan_hệ,\n",
      "  collect(DISTINCT properties(m)) AS khái_niệm_liên_quan\u001b[0m\n",
      "Full Context:\n",
      "\u001b[32;1m\u001b[1;3m[{'khái_niệm': [{'id': 'Quy Định Chuẩn Đầu Ra Tin Học Đối Với Sinh Viên Đại Học Hệ Chính Quy', 'đối_tượng_áp_dụng': 'từ khóa tuyển sinh năm 2015 (khóa 38) trở đi', 'ngoại_lệ': 'sinh viên ngành Sư phạm Tin học, Công nghệ thông tin', 'phạm_vi': 'sinh viên đại học hệ chính quy Trường Đại học Quy Nhơn'}, {'id': 'Chuẩn Đầu Ra Tin Học', 'tham_chiếu': 'Thông tư số 03/2014/TT-BTTTT ngày 11/03/2014 của Bộ Thông tin và Truyền thông', 'điều_kiện': 'xét công nhận tốt nghiệp'}], 'thực_thể_liên_quan': [{'id': 'Trung Tâm Tin Học Trường Đại Học Quy Nhơn'}, {'id': 'Trưởng Đơn Vị Có Liên Quan'}, {'id': 'Trưởng Phòng Công Tác Sinh Viên'}, {'id': 'Trưởng Phòng Đào Tạo Đại Học'}, {'id': 'Trưởng Phòng Khảo Thí Và Đảm Bảo Chất Lượng'}, {'id': 'Hiệu Trưởng', 'vai_trò': 'Ban hành Quyết định thành lập Hội đồng đánh giá kết quả rèn luyện'}, {'id': 'Quy Định Chuẩn Đầu Ra Tin Học Đối Với Sinh Viên Đại Học Hệ Chính Quy', 'đối_tượng_áp_dụng': 'từ khóa tuyển sinh năm 2015 (khóa 38) trở đi', 'ngoại_lệ': 'sinh viên ngành Sư phạm Tin học, Công nghệ thông tin', 'phạm_vi': 'sinh viên đại học hệ chính quy Trường Đại học Quy Nhơn'}], 'loại_quan_hệ': ['THỰC_HIỆN', 'TRÁCH_NHIỆM', 'QUYẾT_ĐỊNH', 'QUY_ĐỊNH'], 'thuộc_tính_quan_hệ': [{}], 'khái_niệm_liên_quan': [{'id': 'Quy Định Chuẩn Đầu Ra Tin Học Đối Với Sinh Viên Đại Học Hệ Chính Quy', 'đối_tượng_áp_dụng': 'từ khóa tuyển sinh năm 2015 (khóa 38) trở đi', 'ngoại_lệ': 'sinh viên ngành Sư phạm Tin học, Công nghệ thông tin', 'phạm_vi': 'sinh viên đại học hệ chính quy Trường Đại học Quy Nhơn'}, {'id': 'Chuẩn Đầu Ra Tin Học', 'tham_chiếu': 'Thông tư số 03/2014/TT-BTTTT ngày 11/03/2014 của Bộ Thông tin và Truyền thông', 'điều_kiện': 'xét công nhận tốt nghiệp'}]}]\u001b[0m\n"
     ]
    },
    {
     "name": "stderr",
     "output_type": "stream",
     "text": [
      " 42%|████▏     | 33/79 [13:17<19:28, 25.40s/it]"
     ]
    },
    {
     "name": "stdout",
     "output_type": "stream",
     "text": [
      "\n",
      "\u001b[1m> Finished chain.\u001b[0m\n",
      "\n",
      "\n",
      "\u001b[1m> Entering new GraphCypherQAChain chain...\u001b[0m\n",
      "Generated Cypher:\n",
      "\u001b[32;1m\u001b[1;3mOPTIONAL MATCH (n:Chứng_chỉ)-[r]-(m)\n",
      "WHERE n.id CONTAINS 'Tin Học'\n",
      "RETURN \n",
      "  collect(DISTINCT properties(n)) AS chứng_chỉ,\n",
      "  collect(DISTINCT type(r)) AS loại_quan_hệ,\n",
      "  collect(DISTINCT properties(r)) AS thuộc_tính_quan_hệ,\n",
      "  collect(DISTINCT properties(m)) AS đối_tượng_liên_quan\u001b[0m\n",
      "Full Context:\n",
      "\u001b[32;1m\u001b[1;3m[{'chứng_chỉ': [{'id': 'Chứng Chỉ Tin Học Quốc Tế Ic3'}, {'id': 'Chứng Chỉ Tin Học Quốc Tế Icdl', 'yêu_cầu': 'đạt ít nhất 6 mô đun sau: ICDL.01, ICDL.02, ICDL.03, ICDL.04, ICDL.05, ICDL.08'}, {'id': 'Chứng Chỉ Tin Học Quốc Tế Mos', 'yêu_cầu': 'đạt 3 chứng chỉ Word/Excel/PowerPoint'}], 'loại_quan_hệ': ['YÊU_CẦU'], 'thuộc_tính_quan_hệ': [{}], 'đối_tượng_liên_quan': [{'id': 'Chuẩn Đầu Ra Tin Học', 'tham_chiếu': 'Thông tư số 03/2014/TT-BTTTT ngày 11/03/2014 của Bộ Thông tin và Truyền thông', 'điều_kiện': 'xét công nhận tốt nghiệp'}]}]\u001b[0m\n"
     ]
    },
    {
     "name": "stderr",
     "output_type": "stream",
     "text": [
      " 43%|████▎     | 34/79 [13:42<18:55, 25.22s/it]"
     ]
    },
    {
     "name": "stdout",
     "output_type": "stream",
     "text": [
      "\n",
      "\u001b[1m> Finished chain.\u001b[0m\n",
      "\n",
      "\n",
      "\u001b[1m> Entering new GraphCypherQAChain chain...\u001b[0m\n"
     ]
    },
    {
     "name": "stderr",
     "output_type": "stream",
     "text": [
      " 44%|████▍     | 35/79 [13:59<16:45, 22.85s/it]"
     ]
    },
    {
     "name": "stdout",
     "output_type": "stream",
     "text": [
      "Generated Cypher:\n",
      "\u001b[32;1m\u001b[1;3mOPTIONAL MATCH (n:Yêu_cầu)-[r]->(m)\n",
      "WHERE n.id CONTAINS 'Chuẩn Đầu Ra Tin Học'\n",
      "RETURN \n",
      "  properties(n) AS n_properties, \n",
      "  type(r) AS r_type, \n",
      "  properties(r) AS r_properties, \n",
      "  properties(m) AS m_properties\n",
      "\n",
      "OPTIONAL MATCH (n2:Chứng_chỉ)<-[r2]-(m2)\n",
      "WHERE n2.id CONTAINS 'Tin Học'\n",
      "RETURN \n",
      "  collect(DISTINCT properties(n2)) AS chứng_chỉ,\n",
      "  collect(DISTINCT type(r2)) AS loại_quan_hệ,\n",
      "  collect(DISTINCT properties(r2)) AS thuộc_tính_quan_hệ,\n",
      "  collect(DISTINCT properties(m2)) AS yêu_cầu_liên_quan\u001b[0m\n",
      "\n",
      "\n",
      "\u001b[1m> Entering new GraphCypherQAChain chain...\u001b[0m\n",
      "Generated Cypher:\n",
      "\u001b[32;1m\u001b[1;3mOPTIONAL MATCH (n:Chủ_thể)-[r]->(m)\n",
      "WHERE n.id CONTAINS 'Sinh Viên Ngoại Trú' AND type(r) CONTAINS 'Nghĩa Vụ'\n",
      "RETURN \n",
      "  properties(n) AS n_properties, \n",
      "  type(r) AS r_type, \n",
      "  properties(r) AS r_properties, \n",
      "  properties(m) AS m_properties\u001b[0m\n",
      "Full Context:\n",
      "\u001b[32;1m\u001b[1;3m[{'n_properties': None, 'r_type': None, 'r_properties': None, 'm_properties': None}]\u001b[0m\n"
     ]
    },
    {
     "name": "stderr",
     "output_type": "stream",
     "text": [
      " 46%|████▌     | 36/79 [14:19<15:33, 21.72s/it]"
     ]
    },
    {
     "name": "stdout",
     "output_type": "stream",
     "text": [
      "\n",
      "\u001b[1m> Finished chain.\u001b[0m\n",
      "\n",
      "\n",
      "\u001b[1m> Entering new GraphCypherQAChain chain...\u001b[0m\n",
      "Generated Cypher:\n",
      "\u001b[32;1m\u001b[1;3mOPTIONAL MATCH (n:Chủ_thể)-[r]->(m)\n",
      "WHERE n.id CONTAINS 'Ký Túc Xá' OR m.id CONTAINS 'Ký Túc Xá'\n",
      "RETURN \n",
      "  collect(DISTINCT properties(n)) AS chủ_thể,\n",
      "  collect(DISTINCT type(r)) AS loại_quan_hệ,\n",
      "  collect(DISTINCT properties(r)) AS thuộc_tính_quan_hệ,\n",
      "  collect(DISTINCT properties(m)) AS đối_tượng\u001b[0m\n",
      "Full Context:\n",
      "\u001b[32;1m\u001b[1;3m[{'chủ_thể': [{'id': 'Sinh Viên', 'quyền_lợi': 'được bảo đảm điều kiện thực hiện đầy đủ nhiệm vụ và quyền trong quá trình học tập và rèn luyện tại trường', 'vai_trò': 'Lựa chọn phương án trả lời', 'định_nghĩa': 'người đang học chương trình đào tạo trình độ đại học hệ chính quy tại trường'}, {'id': 'Sinh Viên Nội Trú'}, {'id': 'Phòng Công Tác Chính Trị - Sinh Viên', 'chức_năng': 'Thực hiện chức năng, nhiệm vụ theo quy định của Quy chế HSSV các trường đại học, cao đẳng, trung cấp chuyên nghiệp hệ chính quy của Bộ Giáo dục và Đào tạo'}], 'loại_quan_hệ': ['ĐƯỢC_XÉT_TIẾP_NHẬN', 'XÂY_DỰNG', 'PHẢN_ÁNH', 'CHẤP_HÀNH_QUY_ĐỊNH', 'BÁO_CÁO', 'ĐỀ_XUẤT', 'SỬ_DỤNG', 'QUẢN_LÝ'], 'thuộc_tính_quan_hệ': [{}, {'mục_tiêu': 'văn minh, sạch đẹp, an toàn'}, {'nội_dung': 'vụ việc vi phạm nội quy, quy chế'}, {'thời_gian': 'quá 01 ngày'}, {'theoHợpĐồng': 'Hợp đồng nội trú'}], 'đối_tượng': [{'id': 'Ký Túc Xá', 'định_nghĩa': 'nơi để SV tạm trú trong thời gian học tại trường, do nhà trường tổ chức quản lý'}, {'id': 'Ký Túc Xá'}, {'id': 'Bộ Phận Quản Lý Ký Túc Xá'}, {'id': 'Giải Pháp Xây Dựng Ký Túc Xá Văn Minh, Sạch Đẹp, An Toàn'}, {'id': 'Sv Trong Ký Túc Xá'}]}]\u001b[0m\n"
     ]
    },
    {
     "name": "stderr",
     "output_type": "stream",
     "text": [
      " 47%|████▋     | 37/79 [14:38<14:48, 21.15s/it]"
     ]
    },
    {
     "name": "stdout",
     "output_type": "stream",
     "text": [
      "\n",
      "\u001b[1m> Finished chain.\u001b[0m\n",
      "\n",
      "\n",
      "\u001b[1m> Entering new GraphCypherQAChain chain...\u001b[0m\n",
      "Generated Cypher:\n",
      "\u001b[32;1m\u001b[1;3mOPTIONAL MATCH (n:Chủ_thể)-[r:QUẢN_LÝ]->(m)\n",
      "WHERE m.id CONTAINS 'Ký Túc Xá'\n",
      "RETURN \n",
      "  properties(n) AS n_properties, \n",
      "  type(r) AS r_type, \n",
      "  properties(r) AS r_properties, \n",
      "  properties(m) AS m_properties\u001b[0m\n",
      "Full Context:\n",
      "\u001b[32;1m\u001b[1;3m[{'n_properties': {'id': 'Phòng Công Tác Chính Trị - Sinh Viên', 'chức_năng': 'Thực hiện chức năng, nhiệm vụ theo quy định của Quy chế HSSV các trường đại học, cao đẳng, trung cấp chuyên nghiệp hệ chính quy của Bộ Giáo dục và Đào tạo'}, 'r_type': 'QUẢN_LÝ', 'r_properties': {}, 'm_properties': {'id': 'Sv Trong Ký Túc Xá'}}]\u001b[0m\n"
     ]
    },
    {
     "name": "stderr",
     "output_type": "stream",
     "text": [
      " 48%|████▊     | 38/79 [14:55<13:34, 19.86s/it]"
     ]
    },
    {
     "name": "stdout",
     "output_type": "stream",
     "text": [
      "\n",
      "\u001b[1m> Finished chain.\u001b[0m\n",
      "\n",
      "\n",
      "\u001b[1m> Entering new GraphCypherQAChain chain...\u001b[0m\n",
      "Generated Cypher:\n",
      "\u001b[32;1m\u001b[1;3mOPTIONAL MATCH (n:Chủ_thể)-[r]->(m)\n",
      "WHERE n.id CONTAINS 'Sinh Viên' AND m.id CONTAINS 'Ký Túc Xá' AND type(r) CONTAINS 'NẤU ĂN'\n",
      "\n",
      "OPTIONAL MATCH (k:Quy_định)-[r2]->(l)\n",
      "WHERE k.id CONTAINS 'Quy Định' AND l.id CONTAINS 'Ký Túc Xá' AND type(r2) CONTAINS 'NẤU ĂN'\n",
      "\n",
      "RETURN \n",
      "  collect(DISTINCT properties(n)) AS sinh_viên,\n",
      "  collect(DISTINCT type(r)) AS quan_hệ,\n",
      "  collect(DISTINCT properties(r)) AS thuộc_tính_quan_hệ,\n",
      "  collect(DISTINCT properties(m)) AS ký_túc_xá,\n",
      "  collect(DISTINCT properties(k)) AS quy_định,\n",
      "  collect(DISTINCT type(r2)) AS quan_hệ_quy_định,\n",
      "  collect(DISTINCT properties(r2)) AS thuộc_tính_quy_định,\n",
      "  collect(DISTINCT properties(l)) AS đối_tượng_quy_định\u001b[0m\n",
      "Full Context:\n",
      "\u001b[32;1m\u001b[1;3m[{'sinh_viên': [], 'quan_hệ': [], 'thuộc_tính_quan_hệ': [], 'ký_túc_xá': [], 'quy_định': [], 'quan_hệ_quy_định': [], 'thuộc_tính_quy_định': [], 'đối_tượng_quy_định': []}]\u001b[0m\n"
     ]
    },
    {
     "name": "stderr",
     "output_type": "stream",
     "text": [
      " 49%|████▉     | 39/79 [15:26<15:24, 23.12s/it]"
     ]
    },
    {
     "name": "stdout",
     "output_type": "stream",
     "text": [
      "\n",
      "\u001b[1m> Finished chain.\u001b[0m\n",
      "\n",
      "\n",
      "\u001b[1m> Entering new GraphCypherQAChain chain...\u001b[0m\n"
     ]
    },
    {
     "name": "stderr",
     "output_type": "stream",
     "text": [
      " 51%|█████     | 40/79 [15:47<14:33, 22.40s/it]"
     ]
    },
    {
     "name": "stdout",
     "output_type": "stream",
     "text": [
      "Generated Cypher:\n",
      "\u001b[32;1m\u001b[1;3mOPTIONAL MATCH (n:Chủ_thể)\n",
      "WHERE n.id CONTAINS \"Sinh Viên\" AND n.nhiệm_vụ IS NOT NULL\n",
      "RETURN properties(n) AS n_properties\n",
      "\n",
      "OPTIONAL MATCH (n:Chủ_thể)-[r]->(m)\n",
      "WHERE n.id CONTAINS \"Sinh Viên\" AND type(r) CONTAINS \"PHẢI_THỰC_HIỆN\"\n",
      "RETURN \n",
      "  properties(n) AS n_properties, \n",
      "  type(r) AS r_type, \n",
      "  properties(r) AS r_properties, \n",
      "  properties(m) AS m_properties\u001b[0m\n",
      "\n",
      "\n",
      "\u001b[1m> Entering new GraphCypherQAChain chain...\u001b[0m\n"
     ]
    },
    {
     "name": "stderr",
     "output_type": "stream",
     "text": [
      " 52%|█████▏    | 41/79 [16:11<14:30, 22.91s/it]"
     ]
    },
    {
     "name": "stdout",
     "output_type": "stream",
     "text": [
      "Generated Cypher:\n",
      "\u001b[32;1m\u001b[1;3mOPTIONAL MATCH (n:Khái_niệm)-[r]->(m)\n",
      "WHERE n.id CONTAINS 'Danh Hiệu Cá Nhân'\n",
      "RETURN \n",
      "  properties(n) AS n_properties, \n",
      "  type(r) AS r_type, \n",
      "  properties(r) AS r_properties, \n",
      "  properties(m) AS m_properties\n",
      "\n",
      "OPTIONAL MATCH (n2:Tiêu_chí)<-[r2]-(m2)\n",
      "WHERE n2.id CONTAINS 'Đánh Giá'\n",
      "RETURN \n",
      "  properties(n2) AS n2_properties, \n",
      "  type(r2) AS r2_type, \n",
      "  properties(r2) AS r2_properties, \n",
      "  properties(m2) AS m2_properties\n",
      "\n",
      "OPTIONAL MATCH (n3:Yêu_cầu)-[r3]->(m3)\n",
      "WHERE n3.id CONTAINS 'Đạt Danh Hiệu'\n",
      "RETURN \n",
      "  properties(n3) AS n3_properties, \n",
      "  type(r3) AS r3_type, \n",
      "  properties(r3) AS r3_properties, \n",
      "  properties(m3) AS m3_properties\u001b[0m\n",
      "\n",
      "\n",
      "\u001b[1m> Entering new GraphCypherQAChain chain...\u001b[0m\n",
      "Generated Cypher:\n",
      "\u001b[32;1m\u001b[1;3m\u001b[0m\n",
      "Full Context:\n",
      "\u001b[32;1m\u001b[1;3m[]\u001b[0m\n"
     ]
    },
    {
     "name": "stderr",
     "output_type": "stream",
     "text": [
      " 53%|█████▎    | 42/79 [16:31<13:33, 22.00s/it]"
     ]
    },
    {
     "name": "stdout",
     "output_type": "stream",
     "text": [
      "\n",
      "\u001b[1m> Finished chain.\u001b[0m\n",
      "\n",
      "\n",
      "\u001b[1m> Entering new GraphCypherQAChain chain...\u001b[0m\n"
     ]
    },
    {
     "name": "stderr",
     "output_type": "stream",
     "text": [
      " 54%|█████▍    | 43/79 [16:46<12:00, 20.00s/it]"
     ]
    },
    {
     "name": "stdout",
     "output_type": "stream",
     "text": [
      "Generated Cypher:\n",
      "\u001b[32;1m\u001b[1;3mOPTIONAL MATCH (n:Chủ_thể)-[r]->(m)\n",
      "WHERE n.id CONTAINS \"Ban Cán Sự Lớp\" AND type(r) CONTAINS \"NHIỆM_VỤ\"\n",
      "RETURN \n",
      "  properties(n) AS n_properties, \n",
      "  type(r) AS r_type, \n",
      "  properties(r) AS r_properties, \n",
      "  properties(m) AS m_properties\n",
      "\n",
      "OPTIONAL MATCH (n:Chủ_thể)\n",
      "WHERE n.id CONTAINS \"Ban Cán Sự Lớp\" AND n.nhiệm_vụ IS NOT NULL\n",
      "RETURN properties(n) AS n_properties\u001b[0m\n",
      "\n",
      "\n",
      "\u001b[1m> Entering new GraphCypherQAChain chain...\u001b[0m\n"
     ]
    },
    {
     "name": "stderr",
     "output_type": "stream",
     "text": [
      " 56%|█████▌    | 44/79 [17:06<11:44, 20.13s/it]"
     ]
    },
    {
     "name": "stdout",
     "output_type": "stream",
     "text": [
      "Generated Cypher:\n",
      "\u001b[32;1m\u001b[1;3mOPTIONAL MATCH (n:Khái_niệm)-[r:ÁP_DỤNG_CHO]->(m:Chủ_thể)\n",
      "WHERE n.id CONTAINS \"Đánh Giá Kết Quả Học Tập\"\n",
      "RETURN \n",
      "  properties(n) AS n_properties, \n",
      "  type(r) AS r_type, \n",
      "  properties(r) AS r_properties, \n",
      "  properties(m) AS m_properties\n",
      "\n",
      "OPTIONAL MATCH (n2:Hoạt_động)-[r2:ÁP_DỤNG_CHO]->(m2:Chủ_thể)\n",
      "WHERE n2.id CONTAINS \"Đánh Giá Kết Quả Học Tập\"\n",
      "RETURN \n",
      "  properties(n2) AS n2_properties, \n",
      "  type(r2) AS r2_type, \n",
      "  properties(r2) AS r2_properties, \n",
      "  properties(m2) AS m2_properties\n",
      "\n",
      "OPTIONAL MATCH (n3:Quy_định)-[r3:ÁP_DỤNG_CHO]->(m3:Chủ_thể)\n",
      "WHERE n3.id CONTAINS \"Đánh Giá Kết Quả Học Tập\"\n",
      "RETURN \n",
      "  properties(n3) AS n3_properties, \n",
      "  type(r3) AS r3_type, \n",
      "  properties(r3) AS r3_properties, \n",
      "  properties(m3) AS m3_properties\u001b[0m\n",
      "\n",
      "\n",
      "\u001b[1m> Entering new GraphCypherQAChain chain...\u001b[0m\n"
     ]
    },
    {
     "name": "stderr",
     "output_type": "stream",
     "text": [
      " 57%|█████▋    | 45/79 [17:25<11:13, 19.81s/it]"
     ]
    },
    {
     "name": "stdout",
     "output_type": "stream",
     "text": [
      "Generated Cypher:\n",
      "\u001b[32;1m\u001b[1;3mOPTIONAL MATCH (n)-[r:`DÀNH_CHO`]->(m)\n",
      "WHERE n.id CONTAINS 'Kỳ Thi Phụ'\n",
      "RETURN \n",
      "  properties(n) AS n_properties, \n",
      "  type(r) AS r_type, \n",
      "  properties(r) AS r_properties, \n",
      "  properties(m) AS m_properties\n",
      "\n",
      "OPTIONAL MATCH (n2)-[r2:`ÁP_DỤNG_CHO`]->(m2)\n",
      "WHERE n2.id CONTAINS 'Kỳ Thi Phụ'\n",
      "RETURN \n",
      "  properties(n2) AS n2_properties, \n",
      "  type(r2) AS r2_type, \n",
      "  properties(r2) AS r2_properties, \n",
      "  properties(m2) AS m2_properties\u001b[0m\n",
      "\n",
      "\n",
      "\u001b[1m> Entering new GraphCypherQAChain chain...\u001b[0m\n",
      "Generated Cypher:\n",
      "\u001b[32;1m\u001b[1;3mOPTIONAL MATCH (n:Học_phần)-[r1]->(m)\n",
      "WHERE n.id CONTAINS 'Học Phần' AND type(r1) CONTAINS 'THI_LẠI'\n",
      "\n",
      "OPTIONAL MATCH (n2)-[r2]->(m2)\n",
      "WHERE m2.id CONTAINS 'Giới Hạn Điểm'\n",
      "\n",
      "RETURN \n",
      "  collect(DISTINCT properties(n)) AS học_phần,\n",
      "  collect(DISTINCT type(r1)) AS quan_hệ_thi_lại,\n",
      "  collect(DISTINCT properties(r1)) AS thuộc_tính_quan_hệ,\n",
      "  collect(DISTINCT properties(m)) AS thông_tin_thi_lại,\n",
      "  collect(DISTINCT properties(n2)) AS thực_thể_liên_quan,\n",
      "  collect(DISTINCT type(r2)) AS quan_hệ_giới_hạn,\n",
      "  collect(DISTINCT properties(r2)) AS thuộc_tính_giới_hạn,\n",
      "  collect(DISTINCT properties(m2)) AS thông_tin_giới_hạn\u001b[0m\n",
      "Full Context:\n",
      "\u001b[32;1m\u001b[1;3m[{'học_phần': [], 'quan_hệ_thi_lại': [], 'thuộc_tính_quan_hệ': [], 'thông_tin_thi_lại': [], 'thực_thể_liên_quan': [], 'quan_hệ_giới_hạn': [], 'thuộc_tính_giới_hạn': [], 'thông_tin_giới_hạn': []}]\u001b[0m\n"
     ]
    },
    {
     "name": "stderr",
     "output_type": "stream",
     "text": [
      " 58%|█████▊    | 46/79 [17:52<11:56, 21.70s/it]"
     ]
    },
    {
     "name": "stdout",
     "output_type": "stream",
     "text": [
      "\n",
      "\u001b[1m> Finished chain.\u001b[0m\n",
      "\n",
      "\n",
      "\u001b[1m> Entering new GraphCypherQAChain chain...\u001b[0m\n",
      "Generated Cypher:\n",
      "\u001b[32;1m\u001b[1;3mOPTIONAL MATCH (n)\n",
      "WHERE n.id CONTAINS 'Thang Điểm 10'\n",
      "\n",
      "OPTIONAL MATCH (n2)-[r]->(m)\n",
      "WHERE m.id CONTAINS 'Thang Điểm 10'\n",
      "\n",
      "RETURN \n",
      "  collect(DISTINCT properties(n)) AS thang_diem,\n",
      "  collect(DISTINCT properties(n2)) AS node_lien_quan,\n",
      "  collect(DISTINCT type(r)) AS loai_quan_he,\n",
      "  collect(DISTINCT properties(r)) AS thuoc_tinh_quan_he,\n",
      "  collect(DISTINCT properties(m)) AS thang_diem_lien_quan\u001b[0m\n",
      "Full Context:\n",
      "\u001b[32;1m\u001b[1;3m[{'thang_diem': [{'id': 'Thang Điểm 10', 'mô_tả': 'Gồm các số từ 0 đến 10 (với một số lẻ thập phân)'}, {'id': 'Thang Điểm 100'}], 'node_lien_quan': [{'id': 'Kiểm Tra, Đánh Giá Năng Lực Tiếng Anh Đầu Khóa'}, {'id': 'Điểm Đánh Giá', 'cách_tính': 'Trung bình cộng các điểm thành phần', 'quy_đổi': 'Theo thang điểm chữ', 'thang_điểm': '10'}, {'id': 'Bài Thi'}, {'id': 'Xếp Loại Học Tập'}, {'id': 'Thang Điểm 4', 'mô_tả': 'Dùng để tính điểm trung bình chung học kỳ, trung bình chung tích lũy'}, {'id': 'Thang Điểm Chữ', 'mô_tả': 'Dùng để xếp loại học phần'}, {'tiêu_đề': 'Đánh giá và tính điểm học phần', 'id': 'Điều 11'}, {'id': 'Điểm Rèn Luyện'}], 'loai_quan_he': ['SỬ_DỤNG', 'TÍNH_THEO', 'CHẤM_THEO', 'TƯƠNG_ỨNG', 'QUY_ĐỊNH', 'ĐƯỢC_ĐÁNH_GIÁ_BẰNG'], 'thuoc_tinh_quan_he': [{}], 'thang_diem_lien_quan': [{'id': 'Thang Điểm 10', 'mô_tả': 'Gồm các số từ 0 đến 10 (với một số lẻ thập phân)'}, {'id': 'Thang Điểm 100'}]}]\u001b[0m\n"
     ]
    },
    {
     "name": "stderr",
     "output_type": "stream",
     "text": [
      " 59%|█████▉    | 47/79 [18:13<11:35, 21.72s/it]"
     ]
    },
    {
     "name": "stdout",
     "output_type": "stream",
     "text": [
      "\n",
      "\u001b[1m> Finished chain.\u001b[0m\n",
      "\n",
      "\n",
      "\u001b[1m> Entering new GraphCypherQAChain chain...\u001b[0m\n",
      "Generated Cypher:\n",
      "\u001b[32;1m\u001b[1;3mOPTIONAL MATCH (n)\n",
      "WHERE n.id CONTAINS 'Thang Điểm 4'\n",
      "\n",
      "OPTIONAL MATCH (n2)-[r]->(m)\n",
      "WHERE m.id CONTAINS 'Thang Điểm 4'\n",
      "\n",
      "RETURN \n",
      "  collect(DISTINCT properties(n)) AS thang_diem,\n",
      "  collect(DISTINCT properties(n2)) AS node_lien_quan,\n",
      "  collect(DISTINCT type(r)) AS loai_quan_he,\n",
      "  collect(DISTINCT properties(r)) AS thuoc_tinh_quan_he,\n",
      "  collect(DISTINCT properties(m)) AS thang_diem_lien_quan\u001b[0m\n",
      "Full Context:\n",
      "\u001b[32;1m\u001b[1;3m[{'thang_diem': [{'id': 'Thang Điểm 4', 'mô_tả': 'Dùng để tính điểm trung bình chung học kỳ, trung bình chung tích lũy'}], 'node_lien_quan': [{'id': 'Xếp Loại Học Lực'}, {'tiêu_đề': 'Đánh giá và tính điểm học phần', 'id': 'Điều 11'}], 'loai_quan_he': ['SỬ_DỤNG', 'QUY_ĐỊNH'], 'thuoc_tinh_quan_he': [{}], 'thang_diem_lien_quan': [{'id': 'Thang Điểm 4', 'mô_tả': 'Dùng để tính điểm trung bình chung học kỳ, trung bình chung tích lũy'}]}]\u001b[0m\n"
     ]
    },
    {
     "name": "stderr",
     "output_type": "stream",
     "text": [
      " 61%|██████    | 48/79 [18:36<11:18, 21.89s/it]"
     ]
    },
    {
     "name": "stdout",
     "output_type": "stream",
     "text": [
      "\n",
      "\u001b[1m> Finished chain.\u001b[0m\n",
      "\n",
      "\n",
      "\u001b[1m> Entering new GraphCypherQAChain chain...\u001b[0m\n",
      "Generated Cypher:\n",
      "\u001b[32;1m\u001b[1;3mOPTIONAL MATCH (n:Chủ_thể)-[r1:`ĐƯỢC_PHÉP`]->(m:Hoạt_động)\n",
      "WHERE n.id CONTAINS 'Sinh Viên' AND m.id CONTAINS 'Hoãn Thi Kết Thúc Học Phần'\n",
      "\n",
      "OPTIONAL MATCH (n2:Quy_định)-[r2:`QUY_ĐỊNH`]->(m2:Hoạt_động)\n",
      "WHERE m2.id CONTAINS 'Hoãn Thi Kết Thúc Học Phần'\n",
      "\n",
      "RETURN \n",
      "  collect(DISTINCT properties(n)) AS sinh_viên,\n",
      "  collect(DISTINCT type(r1)) AS quyền_phép,\n",
      "  collect(DISTINCT properties(r1)) AS thuộc_tính_quyền_phép,\n",
      "  collect(DISTINCT properties(m)) AS hoạt_động,\n",
      "  collect(DISTINCT properties(n2)) AS quy_định,\n",
      "  collect(DISTINCT type(r2)) AS loại_quy_định,\n",
      "  collect(DISTINCT properties(r2)) AS thuộc_tính_quy_định,\n",
      "  collect(DISTINCT properties(m2)) AS hoạt_động_quy_định\u001b[0m\n",
      "Full Context:\n",
      "\u001b[32;1m\u001b[1;3m[{'sinh_viên': [{'id': 'Sinh Viên', 'quyền_lợi': 'được bảo đảm điều kiện thực hiện đầy đủ nhiệm vụ và quyền trong quá trình học tập và rèn luyện tại trường', 'vai_trò': 'Lựa chọn phương án trả lời', 'định_nghĩa': 'người đang học chương trình đào tạo trình độ đại học hệ chính quy tại trường'}], 'quyền_phép': ['ĐƯỢC_PHÉP'], 'thuộc_tính_quyền_phép': [{}], 'hoạt_động': [{'id': 'Hoãn Thi Kết Thúc Học Phần'}], 'quy_định': [], 'loại_quy_định': [], 'thuộc_tính_quy_định': [], 'hoạt_động_quy_định': []}]\u001b[0m\n"
     ]
    },
    {
     "name": "stderr",
     "output_type": "stream",
     "text": [
      " 62%|██████▏   | 49/79 [19:01<11:31, 23.04s/it]"
     ]
    },
    {
     "name": "stdout",
     "output_type": "stream",
     "text": [
      "\n",
      "\u001b[1m> Finished chain.\u001b[0m\n",
      "\n",
      "\n",
      "\u001b[1m> Entering new GraphCypherQAChain chain...\u001b[0m\n",
      "Generated Cypher:\n",
      "\u001b[32;1m\u001b[1;3mOPTIONAL MATCH (n)-[r1]->(m)\n",
      "WHERE n.id CONTAINS 'Hoãn Thi Kết Thúc Học Phần' OR m.id CONTAINS 'Hoãn Thi Kết Thúc Học Phần'\n",
      "\n",
      "OPTIONAL MATCH (n2)-[r2:`YÊU_CẦU`]->(m2)\n",
      "WHERE m2.id CONTAINS 'Hoãn Thi Kết Thúc Học Phần'\n",
      "\n",
      "OPTIONAL MATCH (n3)-[r3:`QUY_ĐỊNH`]->(m3)\n",
      "WHERE m3.id CONTAINS 'Hoãn Thi Kết Thúc Học Phần'\n",
      "\n",
      "RETURN \n",
      "  collect(DISTINCT properties(n)) AS node_hoan_thi,\n",
      "  collect(DISTINCT type(r1)) AS relationship_types,\n",
      "  collect(DISTINCT properties(r1)) AS relationship_props,\n",
      "  collect(DISTINCT properties(m)) AS related_nodes,\n",
      "\n",
      "  collect(DISTINCT properties(n2)) AS node_yeu_cau,\n",
      "  collect(DISTINCT type(r2)) AS yeu_cau_types,\n",
      "  collect(DISTINCT properties(r2)) AS yeu_cau_props,\n",
      "  collect(DISTINCT properties(m2)) AS yeu_cau_related,\n",
      "\n",
      "  collect(DISTINCT properties(n3)) AS node_quy_dinh,\n",
      "  collect(DISTINCT type(r3)) AS quy_dinh_types,\n",
      "  collect(DISTINCT properties(r3)) AS quy_dinh_props,\n",
      "  collect(DISTINCT properties(m3)) AS quy_dinh_related\u001b[0m\n",
      "Full Context:\n",
      "\u001b[32;1m\u001b[1;3m[{'node_hoan_thi': [{'id': 'Sinh Viên', 'quyền_lợi': 'được bảo đảm điều kiện thực hiện đầy đủ nhiệm vụ và quyền trong quá trình học tập và rèn luyện tại trường', 'vai_trò': 'Lựa chọn phương án trả lời', 'định_nghĩa': 'người đang học chương trình đào tạo trình độ đại học hệ chính quy tại trường'}, {'id': 'Hoãn Thi Kết Thúc Học Phần'}], 'relationship_types': ['ĐƯỢC_PHÉP', 'KHI', 'CẦN_CHẤP_THUẬN'], 'relationship_props': [{}], 'related_nodes': [{'id': 'Hoãn Thi Kết Thúc Học Phần'}, {'id': 'Bị Ốm'}, {'id': 'Tai Nạn'}, {'id': 'Lý Do Chính Đáng Khác'}, {'id': 'Trưởng Khoa Quản Lý Ngành Đào Tạo'}, {'id': 'Trưởng Bộ Môn'}, {'id': 'Phòng Khảo Thí Và Bảo Đảm Chất Lượng', 'nhiệm_vụ': 'Thu nhận, kiểm tra chứng chỉ, giấy chứng nhận đạt giải của sinh viên để chuyển đổi điểm các học phần Tiếng Anh 1, Tiếng Anh 2', 'vai_trò': 'Làm đầu mối triển khai thực hiện việc tổ chức kiểm tra, đánh giá'}], 'node_yeu_cau': [], 'yeu_cau_types': [], 'yeu_cau_props': [], 'yeu_cau_related': [], 'node_quy_dinh': [], 'quy_dinh_types': [], 'quy_dinh_props': [], 'quy_dinh_related': []}]\u001b[0m\n"
     ]
    },
    {
     "name": "stderr",
     "output_type": "stream",
     "text": [
      " 63%|██████▎   | 50/79 [19:35<12:38, 26.16s/it]"
     ]
    },
    {
     "name": "stdout",
     "output_type": "stream",
     "text": [
      "\n",
      "\u001b[1m> Finished chain.\u001b[0m\n",
      "\n",
      "\n",
      "\u001b[1m> Entering new GraphCypherQAChain chain...\u001b[0m\n",
      "Generated Cypher:\n",
      "\u001b[32;1m\u001b[1;3m\u001b[0m\n",
      "Full Context:\n",
      "\u001b[32;1m\u001b[1;3m[]\u001b[0m\n"
     ]
    },
    {
     "name": "stderr",
     "output_type": "stream",
     "text": [
      " 65%|██████▍   | 51/79 [20:01<12:09, 26.06s/it]"
     ]
    },
    {
     "name": "stdout",
     "output_type": "stream",
     "text": [
      "\n",
      "\u001b[1m> Finished chain.\u001b[0m\n",
      "\n",
      "\n",
      "\u001b[1m> Entering new GraphCypherQAChain chain...\u001b[0m\n",
      "Generated Cypher:\n",
      "\u001b[32;1m\u001b[1;3mOPTIONAL MATCH (n)-[r]->(m)\n",
      "WHERE n.id CONTAINS 'Đề Thi Kết Thúc Học Phần'\n",
      "RETURN \n",
      "  properties(n) AS n_properties, \n",
      "  type(r) AS r_type, \n",
      "  properties(r) AS r_properties, \n",
      "  properties(m) AS m_properties\u001b[0m\n",
      "Full Context:\n",
      "\u001b[32;1m\u001b[1;3m[{'n_properties': {'id': 'Đề Thi Kết Thúc Học Phần', 'yêu_cầu': 'Phù hợp với nội dung và chuẩn đầu ra học phần đã quy định trong đề cương chi tiết học phần'}, 'r_type': 'BAO_GỒM', 'r_properties': {}, 'm_properties': {'id': 'Đồ Án Môn Học'}}, {'n_properties': {'id': 'Đề Thi Kết Thúc Học Phần', 'yêu_cầu': 'Phù hợp với nội dung và chuẩn đầu ra học phần đã quy định trong đề cương chi tiết học phần'}, 'r_type': 'BAO_GỒM', 'r_properties': {}, 'm_properties': {'id': 'Đề Án Môn Học'}}, {'n_properties': {'id': 'Đề Thi Kết Thúc Học Phần', 'yêu_cầu': 'Phù hợp với nội dung và chuẩn đầu ra học phần đã quy định trong đề cương chi tiết học phần'}, 'r_type': 'BAO_GỒM', 'r_properties': {}, 'm_properties': {'id': 'Tiểu Luận'}}, {'n_properties': {'id': 'Đề Thi Kết Thúc Học Phần', 'yêu_cầu': 'Phù hợp với nội dung và chuẩn đầu ra học phần đã quy định trong đề cương chi tiết học phần'}, 'r_type': 'BAO_GỒM', 'r_properties': {}, 'm_properties': {'id': 'Đề Thi Thực Hành'}}, {'n_properties': {'id': 'Đề Thi Kết Thúc Học Phần', 'yêu_cầu': 'Phù hợp với nội dung và chuẩn đầu ra học phần đã quy định trong đề cương chi tiết học phần'}, 'r_type': 'BAO_GỒM', 'r_properties': {}, 'm_properties': {'id': 'Đề Thi Vấn Đáp'}}]\u001b[0m\n"
     ]
    },
    {
     "name": "stderr",
     "output_type": "stream",
     "text": [
      " 66%|██████▌   | 52/79 [20:25<11:33, 25.69s/it]"
     ]
    },
    {
     "name": "stdout",
     "output_type": "stream",
     "text": [
      "\n",
      "\u001b[1m> Finished chain.\u001b[0m\n",
      "\n",
      "\n",
      "\u001b[1m> Entering new GraphCypherQAChain chain...\u001b[0m\n",
      "Generated Cypher:\n",
      "\u001b[32;1m\u001b[1;3mOPTIONAL MATCH (n)\n",
      "WHERE n.id CONTAINS 'Túi Đựng Đề Thi'\n",
      "\n",
      "OPTIONAL MATCH (n2)-[r]->(m)\n",
      "WHERE n2.id CONTAINS 'Túi Đựng Đề Thi'\n",
      "\n",
      "RETURN \n",
      "  collect(DISTINCT properties(n)) AS túi_đựng_đề_thi,\n",
      "  collect(DISTINCT properties(n2)) AS thực_thể_liên_quan,\n",
      "  collect(DISTINCT type(r)) AS loại_quan_hệ,\n",
      "  collect(DISTINCT properties(r)) AS thuộc_tính_quan_hệ,\n",
      "  collect(DISTINCT properties(m)) AS khái_niệm_liên_quan\u001b[0m\n",
      "Full Context:\n",
      "\u001b[32;1m\u001b[1;3m[{'túi_đựng_đề_thi': [{'id': 'Túi Đựng Đề Thi'}], 'thực_thể_liên_quan': [{'id': 'Túi Đựng Đề Thi'}], 'loại_quan_hệ': ['GHI_THÔNG_TIN'], 'thuộc_tính_quan_hệ': [{}], 'khái_niệm_liên_quan': [{'id': 'Địa Điểm Thi'}, {'id': 'Số Lượng Đề Thi'}, {'id': 'Thời Gian Làm Bài'}, {'id': 'Giờ Thi'}, {'id': 'Ngày Thi'}, {'id': 'Số Tín Chỉ'}, {'id': 'Mã Học Phần'}, {'id': 'Tên Học Phần'}, {'id': 'Bộ Môn Thuộc Trường'}, {'id': 'Khoa Quản Lý Học Phần'}]}]\u001b[0m\n"
     ]
    },
    {
     "name": "stderr",
     "output_type": "stream",
     "text": [
      " 67%|██████▋   | 53/79 [20:51<11:03, 25.51s/it]"
     ]
    },
    {
     "name": "stdout",
     "output_type": "stream",
     "text": [
      "\n",
      "\u001b[1m> Finished chain.\u001b[0m\n",
      "\n",
      "\n",
      "\u001b[1m> Entering new GraphCypherQAChain chain...\u001b[0m\n",
      "Generated Cypher:\n",
      "\u001b[32;1m\u001b[1;3mOPTIONAL MATCH (n)-[r]->(m)\n",
      "WHERE n.id CONTAINS 'Đề Thi Trắc Nghiệm' OR m.id CONTAINS 'Ngân Hàng Câu Hỏi'\n",
      "RETURN \n",
      "  collect(DISTINCT properties(n)) AS node_properties,\n",
      "  collect(DISTINCT type(r)) AS relationship_types,\n",
      "  collect(DISTINCT properties(r)) AS relationship_properties,\n",
      "  collect(DISTINCT properties(m)) AS related_node_properties\u001b[0m\n",
      "Full Context:\n",
      "\u001b[32;1m\u001b[1;3m[{'node_properties': [{'id': 'Đề Thi Trắc Nghiệm'}, {'tiêu_đề': 'Trình tự, thủ tục và hồ sơ xét kỷ luật', 'id': 'Điều 10'}, {'id': 'Phòng Khảo Thí Và Bảo Đảm Chất Lượng', 'nhiệm_vụ': 'Thu nhận, kiểm tra chứng chỉ, giấy chứng nhận đạt giải của sinh viên để chuyển đổi điểm các học phần Tiếng Anh 1, Tiếng Anh 2', 'vai_trò': 'Làm đầu mối triển khai thực hiện việc tổ chức kiểm tra, đánh giá'}, {'id': 'Tổ Biên Soạn Ngân Hàng Câu Hỏi Thi Trắc Nghiệm', 'vai_trò': 'Xây dựng ma trận đề thi, biên soạn câu hỏi và đáp án, hoàn thiện ngân hàng câu hỏi'}, {'id': 'Khoa Quản Lý Học Phần'}, {'id': 'Bộ Môn Thuộc Trường'}, {'id': 'Hội Đồng Thẩm Định Cấp Trường', 'vai_trò': 'Thẩm định ngân hàng câu hỏi thi trắc nghiệm'}], 'relationship_types': ['SỬ_DỤNG', 'TẠO_ĐỀ', 'QUY_ĐỊNH', 'HƯỚNG_DẪN', 'BIÊN_SOẠN', 'THẨM_ĐỊNH', 'CẬP_NHẬT'], 'relationship_properties': [{}], 'related_node_properties': [{'id': 'Ngân Hàng Câu Hỏi Thi Trắc Nghiệm', 'mô_tả': 'Được sử dụng đối với các học phần có hình thức thi trắc nghiệm trên máy tính', 'yêu_cầu': 'Cấu trúc đề thi theo ma trận, nội dung khoa học, đáp ứng chuẩn đầu ra, số lượng tối thiểu 200 câu/học phần/01 tín chỉ, dạng câu hỏi 04 lựa chọn hoặc điền khuyết'}, {'id': 'Cán Bộ Quản Lý Phần Mềm Thi Trắc Nghiệm'}]}]\u001b[0m\n"
     ]
    },
    {
     "name": "stderr",
     "output_type": "stream",
     "text": [
      " 68%|██████▊   | 54/79 [21:14<10:23, 24.96s/it]"
     ]
    },
    {
     "name": "stdout",
     "output_type": "stream",
     "text": [
      "\n",
      "\u001b[1m> Finished chain.\u001b[0m\n",
      "\n",
      "\n",
      "\u001b[1m> Entering new GraphCypherQAChain chain...\u001b[0m\n"
     ]
    },
    {
     "name": "stderr",
     "output_type": "stream",
     "text": [
      " 70%|██████▉   | 55/79 [21:33<09:13, 23.07s/it]"
     ]
    },
    {
     "name": "stdout",
     "output_type": "stream",
     "text": [
      "Generated Cypher:\n",
      "\u001b[32;1m\u001b[1;3mOPTIONAL MATCH (n:Khái_niệm)-[r]->(m)\n",
      "WHERE n.id CONTAINS 'Website Của Trường'\n",
      "RETURN \n",
      "  properties(n) AS n_properties, \n",
      "  type(r) AS r_type, \n",
      "  properties(r) AS r_properties, \n",
      "  properties(m) AS m_properties\n",
      "\n",
      "OPTIONAL MATCH (n2:Chủ_thể)-[r2]->(m2:Khái_niệm)\n",
      "WHERE m2.id CONTAINS 'Website Của Trường'\n",
      "RETURN \n",
      "  properties(n2) AS n2_properties, \n",
      "  type(r2) AS r2_type, \n",
      "  properties(r2) AS r2_properties, \n",
      "  properties(m2) AS m2_properties\u001b[0m\n",
      "\n",
      "\n",
      "\u001b[1m> Entering new GraphCypherQAChain chain...\u001b[0m\n",
      "Generated Cypher:\n",
      "\u001b[32;1m\u001b[1;3mOPTIONAL MATCH (n:Chủ_thể)-[r:`KHÔNG_ĐƯỢC_MANG`]->(m)\n",
      "WHERE n.id CONTAINS \"Sinh Viên\"\n",
      "RETURN \n",
      "  properties(n) AS n_properties, \n",
      "  type(r) AS r_type, \n",
      "  properties(r) AS r_properties, \n",
      "  properties(m) AS m_properties\u001b[0m\n",
      "Full Context:\n",
      "\u001b[32;1m\u001b[1;3m[{'n_properties': {'id': 'Sinh Viên', 'quyền_lợi': 'được bảo đảm điều kiện thực hiện đầy đủ nhiệm vụ và quyền trong quá trình học tập và rèn luyện tại trường', 'vai_trò': 'Lựa chọn phương án trả lời', 'định_nghĩa': 'người đang học chương trình đào tạo trình độ đại học hệ chính quy tại trường'}, 'r_type': 'KHÔNG_ĐƯỢC_MANG', 'r_properties': {}, 'm_properties': {'id': 'Tài Liệu'}}, {'n_properties': {'id': 'Sinh Viên', 'quyền_lợi': 'được bảo đảm điều kiện thực hiện đầy đủ nhiệm vụ và quyền trong quá trình học tập và rèn luyện tại trường', 'vai_trò': 'Lựa chọn phương án trả lời', 'định_nghĩa': 'người đang học chương trình đào tạo trình độ đại học hệ chính quy tại trường'}, 'r_type': 'KHÔNG_ĐƯỢC_MANG', 'r_properties': {}, 'm_properties': {'id': 'Điện Thoại Di Động'}}, {'n_properties': {'id': 'Sinh Viên', 'quyền_lợi': 'được bảo đảm điều kiện thực hiện đầy đủ nhiệm vụ và quyền trong quá trình học tập và rèn luyện tại trường', 'vai_trò': 'Lựa chọn phương án trả lời', 'định_nghĩa': 'người đang học chương trình đào tạo trình độ đại học hệ chính quy tại trường'}, 'r_type': 'KHÔNG_ĐƯỢC_MANG', 'r_properties': {}, 'm_properties': {'id': 'Phương Tiện Kỹ Thuật Thu, Phát, Truyền Tin'}}, {'n_properties': {'id': 'Sinh Viên', 'quyền_lợi': 'được bảo đảm điều kiện thực hiện đầy đủ nhiệm vụ và quyền trong quá trình học tập và rèn luyện tại trường', 'vai_trò': 'Lựa chọn phương án trả lời', 'định_nghĩa': 'người đang học chương trình đào tạo trình độ đại học hệ chính quy tại trường'}, 'r_type': 'KHÔNG_ĐƯỢC_MANG', 'r_properties': {}, 'm_properties': {'id': 'Ghi Âm'}}, {'n_properties': {'id': 'Sinh Viên', 'quyền_lợi': 'được bảo đảm điều kiện thực hiện đầy đủ nhiệm vụ và quyền trong quá trình học tập và rèn luyện tại trường', 'vai_trò': 'Lựa chọn phương án trả lời', 'định_nghĩa': 'người đang học chương trình đào tạo trình độ đại học hệ chính quy tại trường'}, 'r_type': 'KHÔNG_ĐƯỢC_MANG', 'r_properties': {}, 'm_properties': {'id': 'Thiết Bị Chứa Đựng Thông Tin'}}]\u001b[0m\n"
     ]
    },
    {
     "name": "stderr",
     "output_type": "stream",
     "text": [
      " 71%|███████   | 56/79 [22:01<09:23, 24.50s/it]"
     ]
    },
    {
     "name": "stdout",
     "output_type": "stream",
     "text": [
      "\n",
      "\u001b[1m> Finished chain.\u001b[0m\n",
      "\n",
      "\n",
      "\u001b[1m> Entering new GraphCypherQAChain chain...\u001b[0m\n",
      "Generated Cypher:\n",
      "\u001b[32;1m\u001b[1;3m\u001b[0m\n",
      "Full Context:\n",
      "\u001b[32;1m\u001b[1;3m[]\u001b[0m\n"
     ]
    },
    {
     "name": "stderr",
     "output_type": "stream",
     "text": [
      " 72%|███████▏  | 57/79 [22:27<09:09, 24.96s/it]"
     ]
    },
    {
     "name": "stdout",
     "output_type": "stream",
     "text": [
      "\n",
      "\u001b[1m> Finished chain.\u001b[0m\n",
      "\n",
      "\n",
      "\u001b[1m> Entering new GraphCypherQAChain chain...\u001b[0m\n",
      "Generated Cypher:\n",
      "\u001b[32;1m\u001b[1;3mOPTIONAL MATCH (n)-[r1]->(m)\n",
      "WHERE n.id CONTAINS 'Đánh Giá Khoá Luận Tốt Nghiệp' OR n.id CONTAINS 'Bảo Vệ Trực Tuyến'\n",
      "\n",
      "OPTIONAL MATCH (n2)-[r2]->(m2)\n",
      "WHERE m2.id CONTAINS 'Đánh Giá Khoá Luận Tốt Nghiệp' OR m2.id CONTAINS 'Bảo Vệ Trực Tuyến'\n",
      "\n",
      "RETURN \n",
      "  collect(DISTINCT properties(n)) AS node_properties,\n",
      "  collect(DISTINCT type(r1)) AS relationship_types,\n",
      "  collect(DISTINCT properties(r1)) AS relationship_properties,\n",
      "  collect(DISTINCT properties(m)) AS related_node_properties,\n",
      "  collect(DISTINCT properties(n2)) AS reverse_node_properties,\n",
      "  collect(DISTINCT type(r2)) AS reverse_relationship_types,\n",
      "  collect(DISTINCT properties(r2)) AS reverse_relationship_properties,\n",
      "  collect(DISTINCT properties(m2)) AS reverse_related_node_properties\u001b[0m\n",
      "Full Context:\n",
      "\u001b[32;1m\u001b[1;3m[{'node_properties': [{'id': 'Bảo Vệ Trực Tuyến'}], 'relationship_types': ['YÊU_CẦU'], 'relationship_properties': [{}], 'related_node_properties': [{'id': 'Ghi Hình, Ghi Âm'}, {'id': 'Hội Đồng Chuyên Môn', 'vai_trò': 'Xem xét công nhận, chuyển đổi tín chỉ', 'số_thành_viên': 'ít nhất 3'}], 'reverse_node_properties': [{'id': 'Đánh Giá Đồ Án, Khóa Luận Tốt Nghiệp'}], 'reverse_relationship_types': ['CÓ_THỂ_THỰC_HIỆN'], 'reverse_relationship_properties': [{}], 'reverse_related_node_properties': [{'id': 'Bảo Vệ Trực Tuyến'}]}]\u001b[0m\n"
     ]
    },
    {
     "name": "stderr",
     "output_type": "stream",
     "text": [
      " 73%|███████▎  | 58/79 [22:53<08:55, 25.48s/it]"
     ]
    },
    {
     "name": "stdout",
     "output_type": "stream",
     "text": [
      "\n",
      "\u001b[1m> Finished chain.\u001b[0m\n",
      "\n",
      "\n",
      "\u001b[1m> Entering new GraphCypherQAChain chain...\u001b[0m\n",
      "Generated Cypher:\n",
      "\u001b[32;1m\u001b[1;3mOPTIONAL MATCH (n:Yêu_cầu)-[r]->(m)\n",
      "WHERE n.id CONTAINS 'Bảo Vệ Khóa Luận Trực Tuyến' OR m.id CONTAINS 'Bảo Vệ Khóa Luận Trực Tuyến'\n",
      "RETURN \n",
      "  properties(n) AS n_properties, \n",
      "  type(r) AS r_type, \n",
      "  properties(r) AS r_properties, \n",
      "  properties(m) AS m_properties\u001b[0m\n",
      "Full Context:\n",
      "\u001b[32;1m\u001b[1;3m[{'n_properties': None, 'r_type': None, 'r_properties': None, 'm_properties': None}]\u001b[0m\n"
     ]
    },
    {
     "name": "stderr",
     "output_type": "stream",
     "text": [
      " 75%|███████▍  | 59/79 [23:13<07:51, 23.59s/it]"
     ]
    },
    {
     "name": "stdout",
     "output_type": "stream",
     "text": [
      "\n",
      "\u001b[1m> Finished chain.\u001b[0m\n",
      "\n",
      "\n",
      "\u001b[1m> Entering new GraphCypherQAChain chain...\u001b[0m\n",
      "Generated Cypher:\n",
      "\u001b[32;1m\u001b[1;3mOPTIONAL MATCH (n:Chủ_thể)-[r1:`BỊ_BUỘC_THÔI_HỌC`]->(m)\n",
      "WHERE n.id CONTAINS \"Giảng Viên\"\n",
      "RETURN \n",
      "  properties(n) AS n_properties, \n",
      "  type(r1) AS r1_type, \n",
      "  properties(r1) AS r1_properties,\n",
      "  properties(m) AS m_properties\u001b[0m\n",
      "Full Context:\n",
      "\u001b[32;1m\u001b[1;3m[{'n_properties': None, 'r1_type': None, 'r1_properties': None, 'm_properties': None}]\u001b[0m\n"
     ]
    },
    {
     "name": "stderr",
     "output_type": "stream",
     "text": [
      " 76%|███████▌  | 60/79 [23:31<06:56, 21.91s/it]"
     ]
    },
    {
     "name": "stdout",
     "output_type": "stream",
     "text": [
      "\n",
      "\u001b[1m> Finished chain.\u001b[0m\n",
      "\n",
      "\n",
      "\u001b[1m> Entering new GraphCypherQAChain chain...\u001b[0m\n",
      "Generated Cypher:\n",
      "\u001b[32;1m\u001b[1;3mOPTIONAL MATCH (n)-[r:`BỊ_BUỘC_THÔI_HỌC`]->(m)\n",
      "WHERE n.id CONTAINS 'Hình Thức Xử Lý'\n",
      "RETURN \n",
      "  properties(n) AS n_properties, \n",
      "  type(r) AS r_type, \n",
      "  properties(r) AS r_properties,\n",
      "  properties(m) AS m_properties\u001b[0m\n",
      "Full Context:\n",
      "\u001b[32;1m\u001b[1;3m[{'n_properties': None, 'r_type': None, 'r_properties': None, 'm_properties': None}]\u001b[0m\n"
     ]
    },
    {
     "name": "stderr",
     "output_type": "stream",
     "text": [
      " 77%|███████▋  | 61/79 [23:53<06:38, 22.15s/it]"
     ]
    },
    {
     "name": "stdout",
     "output_type": "stream",
     "text": [
      "\n",
      "\u001b[1m> Finished chain.\u001b[0m\n",
      "\n",
      "\n",
      "\u001b[1m> Entering new GraphCypherQAChain chain...\u001b[0m\n",
      "Generated Cypher:\n",
      "\u001b[32;1m\u001b[1;3m\u001b[0m\n",
      "Full Context:\n",
      "\u001b[32;1m\u001b[1;3m[]\u001b[0m\n"
     ]
    },
    {
     "name": "stderr",
     "output_type": "stream",
     "text": [
      " 78%|███████▊  | 62/79 [24:18<06:26, 22.76s/it]"
     ]
    },
    {
     "name": "stdout",
     "output_type": "stream",
     "text": [
      "\n",
      "\u001b[1m> Finished chain.\u001b[0m\n",
      "\n",
      "\n",
      "\u001b[1m> Entering new GraphCypherQAChain chain...\u001b[0m\n",
      "Generated Cypher:\n",
      "\u001b[32;1m\u001b[1;3m\u001b[0m\n",
      "Full Context:\n",
      "\u001b[32;1m\u001b[1;3m[]\u001b[0m\n"
     ]
    },
    {
     "name": "stderr",
     "output_type": "stream",
     "text": [
      " 80%|███████▉  | 63/79 [24:47<06:37, 24.84s/it]"
     ]
    },
    {
     "name": "stdout",
     "output_type": "stream",
     "text": [
      "\n",
      "\u001b[1m> Finished chain.\u001b[0m\n",
      "\n",
      "\n",
      "\u001b[1m> Entering new GraphCypherQAChain chain...\u001b[0m\n",
      "Generated Cypher:\n",
      "\u001b[32;1m\u001b[1;3m\u001b[0m\n",
      "Full Context:\n",
      "\u001b[32;1m\u001b[1;3m[]\u001b[0m\n"
     ]
    },
    {
     "name": "stderr",
     "output_type": "stream",
     "text": [
      " 81%|████████  | 64/79 [25:14<06:22, 25.50s/it]"
     ]
    },
    {
     "name": "stdout",
     "output_type": "stream",
     "text": [
      "\n",
      "\u001b[1m> Finished chain.\u001b[0m\n",
      "\n",
      "\n",
      "\u001b[1m> Entering new GraphCypherQAChain chain...\u001b[0m\n",
      "Generated Cypher:\n",
      "\u001b[32;1m\u001b[1;3m\u001b[0m\n",
      "Full Context:\n",
      "\u001b[32;1m\u001b[1;3m[]\u001b[0m\n"
     ]
    },
    {
     "name": "stderr",
     "output_type": "stream",
     "text": [
      " 82%|████████▏ | 65/79 [25:54<06:57, 29.84s/it]"
     ]
    },
    {
     "name": "stdout",
     "output_type": "stream",
     "text": [
      "\n",
      "\u001b[1m> Finished chain.\u001b[0m\n",
      "\n",
      "\n",
      "\u001b[1m> Entering new GraphCypherQAChain chain...\u001b[0m\n",
      "Generated Cypher:\n",
      "\u001b[32;1m\u001b[1;3mOPTIONAL MATCH (n:Yêu_cầu)-[r:QUY_ĐỊNH]->(m)\n",
      "WHERE n.id CONTAINS 'Thời hạn đóng học phí' AND m.id CONTAINS 'Học Kỳ Chính'\n",
      "RETURN \n",
      "  properties(n) AS n_properties,\n",
      "  type(r) AS r_type,\n",
      "  properties(r) AS r_properties,\n",
      "  properties(m) AS m_properties\u001b[0m\n",
      "Full Context:\n",
      "\u001b[32;1m\u001b[1;3m[{'n_properties': None, 'r_type': None, 'r_properties': None, 'm_properties': None}]\u001b[0m\n"
     ]
    },
    {
     "name": "stderr",
     "output_type": "stream",
     "text": [
      " 84%|████████▎ | 66/79 [26:12<05:40, 26.20s/it]"
     ]
    },
    {
     "name": "stdout",
     "output_type": "stream",
     "text": [
      "\n",
      "\u001b[1m> Finished chain.\u001b[0m\n",
      "\n",
      "\n",
      "\u001b[1m> Entering new GraphCypherQAChain chain...\u001b[0m\n",
      "Generated Cypher:\n",
      "\u001b[32;1m\u001b[1;3mOPTIONAL MATCH (n:Yêu_cầu)-[r:QUY_ĐỊNH]->(m)\n",
      "WHERE n.id CONTAINS 'Thời hạn đóng học phí'\n",
      "AND m.id CONTAINS 'Học Kỳ Phụ'\n",
      "\n",
      "OPTIONAL MATCH (n2:Quy_định)-[r2:ÁP_DỤNG]->(m2)\n",
      "WHERE m2.id CONTAINS 'Học Kỳ Phụ'\n",
      "\n",
      "RETURN \n",
      "  collect(DISTINCT properties(n)) AS yêu_cầu,\n",
      "  collect(DISTINCT type(r)) AS quan_hệ_yêu_cầu,\n",
      "  collect(DISTINCT properties(r)) AS thuộc_tính_quan_hệ_yêu_cầu,\n",
      "  collect(DISTINCT properties(m)) AS học_kỳ_phụ,\n",
      "  collect(DISTINCT properties(n2)) AS quy_định,\n",
      "  collect(DISTINCT type(r2)) AS quan_hệ_quy_định,\n",
      "  collect(DISTINCT properties(r2)) AS thuộc_tính_quan_hệ_quy_định,\n",
      "  collect(DISTINCT properties(m2)) AS đối_tượng_áp_dụng\u001b[0m\n",
      "Full Context:\n",
      "\u001b[32;1m\u001b[1;3m[{'yêu_cầu': [], 'quan_hệ_yêu_cầu': [], 'thuộc_tính_quan_hệ_yêu_cầu': [], 'học_kỳ_phụ': [], 'quy_định': [], 'quan_hệ_quy_định': [], 'thuộc_tính_quan_hệ_quy_định': [], 'đối_tượng_áp_dụng': []}]\u001b[0m\n"
     ]
    },
    {
     "name": "stderr",
     "output_type": "stream",
     "text": [
      " 85%|████████▍ | 67/79 [26:37<05:11, 25.96s/it]"
     ]
    },
    {
     "name": "stdout",
     "output_type": "stream",
     "text": [
      "\n",
      "\u001b[1m> Finished chain.\u001b[0m\n",
      "\n",
      "\n",
      "\u001b[1m> Entering new GraphCypherQAChain chain...\u001b[0m\n"
     ]
    },
    {
     "name": "stderr",
     "output_type": "stream",
     "text": [
      " 86%|████████▌ | 68/79 [26:51<04:04, 22.25s/it]"
     ]
    },
    {
     "name": "stdout",
     "output_type": "stream",
     "text": [
      "Generated Cypher:\n",
      "\u001b[32;1m\u001b[1;3mOPTIONAL MATCH (n:Phương_thức)\n",
      "WHERE n.id CONTAINS 'Học Phí'\n",
      "RETURN properties(n) AS n_properties\n",
      "\n",
      "OPTIONAL MATCH (n:Phương_thức)-[r]->(m)\n",
      "WHERE n.id CONTAINS 'Học Phí'\n",
      "RETURN \n",
      "  properties(n) AS n_properties, \n",
      "  type(r) AS r_type, \n",
      "  properties(r) AS r_properties, \n",
      "  properties(m) AS m_properties\u001b[0m\n",
      "\n",
      "\n",
      "\u001b[1m> Entering new GraphCypherQAChain chain...\u001b[0m\n",
      "Generated Cypher:\n",
      "\u001b[32;1m\u001b[1;3mOPTIONAL MATCH (n:Phương_thức)-[r:THUỘC]->(m:Tài_khoản)\n",
      "WHERE n.id CONTAINS 'Nộp Qua Ngân Hàng'\n",
      "RETURN \n",
      "  properties(n) AS n_properties, \n",
      "  type(r) AS r_type, \n",
      "  properties(r) AS r_properties, \n",
      "  properties(m) AS m_properties\u001b[0m\n",
      "Full Context:\n",
      "\u001b[32;1m\u001b[1;3m[{'n_properties': {'id': 'Nộp Qua Ngân Hàng', 'đối_tượng_áp_dụng': 'tất cả sinh viên đã học xong một học kỳ'}, 'r_type': 'THUỘC', 'r_properties': {}, 'm_properties': {'id': '5801 000 111 8348'}}]\u001b[0m\n"
     ]
    },
    {
     "name": "stderr",
     "output_type": "stream",
     "text": [
      " 87%|████████▋ | 69/79 [27:12<03:40, 22.02s/it]"
     ]
    },
    {
     "name": "stdout",
     "output_type": "stream",
     "text": [
      "\n",
      "\u001b[1m> Finished chain.\u001b[0m\n",
      "\n",
      "\n",
      "\u001b[1m> Entering new GraphCypherQAChain chain...\u001b[0m\n",
      "Generated Cypher:\n",
      "\u001b[32;1m\u001b[1;3mOPTIONAL MATCH (n:Chủ_thể)-[r:`KHÔNG_HOÀN_TRẢ`]->(m:Khái_niệm)\n",
      "WHERE n.id CONTAINS 'Nhà Trường'\n",
      "RETURN \n",
      "  properties(n) AS n_properties, \n",
      "  type(r) AS r_type, \n",
      "  properties(r) AS r_properties, \n",
      "  properties(m) AS m_properties\u001b[0m\n",
      "Full Context:\n",
      "\u001b[32;1m\u001b[1;3m[{'n_properties': {'id': 'Nhà Trường', 'trách_nhiệm': 'Tổ chức thực hiện công tác sinh viên', 'vai_trò': 'tổ chức quản lý ký túc xá'}, 'r_type': 'KHÔNG_HOÀN_TRẢ', 'r_properties': {'điều_kiện': 'Trên 75 ngày kể từ ngày học đầu tiên'}, 'm_properties': {'id': 'Học Phí', 'định_nghĩa': 'khoản tiền người học phải nộp để đảm bảo chi phí cho các hoạt động đào tạo'}}]\u001b[0m\n"
     ]
    },
    {
     "name": "stderr",
     "output_type": "stream",
     "text": [
      " 89%|████████▊ | 70/79 [27:33<03:15, 21.73s/it]"
     ]
    },
    {
     "name": "stdout",
     "output_type": "stream",
     "text": [
      "\n",
      "\u001b[1m> Finished chain.\u001b[0m\n",
      "\n",
      "\n",
      "\u001b[1m> Entering new GraphCypherQAChain chain...\u001b[0m\n",
      "Generated Cypher:\n",
      "\u001b[32;1m\u001b[1;3mOPTIONAL MATCH (n:Chủ_thể)-[r:`HOÀN_TRẢ_100_PHẦN_TRĂM`]->(m:Khái_niệm)\n",
      "WHERE n.id CONTAINS 'Nhà Trường'\n",
      "RETURN \n",
      "  properties(n) AS n_properties, \n",
      "  type(r) AS r_type, \n",
      "  properties(r) AS r_properties, \n",
      "  properties(m) AS m_properties\u001b[0m\n",
      "Full Context:\n",
      "\u001b[32;1m\u001b[1;3m[{'n_properties': {'id': 'Nhà Trường', 'trách_nhiệm': 'Tổ chức thực hiện công tác sinh viên', 'vai_trò': 'tổ chức quản lý ký túc xá'}, 'r_type': 'HOÀN_TRẢ_100_PHẦN_TRĂM', 'r_properties': {'điều_kiện': 'Sinh viên xin nghỉ học vì lí do khách quan'}, 'm_properties': {'id': 'Học Phí', 'định_nghĩa': 'khoản tiền người học phải nộp để đảm bảo chi phí cho các hoạt động đào tạo'}}]\u001b[0m\n"
     ]
    },
    {
     "name": "stderr",
     "output_type": "stream",
     "text": [
      " 90%|████████▉ | 71/79 [27:53<02:48, 21.09s/it]"
     ]
    },
    {
     "name": "stdout",
     "output_type": "stream",
     "text": [
      "\n",
      "\u001b[1m> Finished chain.\u001b[0m\n",
      "\n",
      "\n",
      "\u001b[1m> Entering new GraphCypherQAChain chain...\u001b[0m\n",
      "Generated Cypher:\n",
      "\u001b[32;1m\u001b[1;3mOPTIONAL MATCH (n:Chủ_thể)-[r1:`KHÔNG_ĐƯỢC_NHẬN`]->(m)\n",
      "WHERE n.id CONTAINS 'Sinh Viên' AND r1.điều_kiện CONTAINS 'còn nợ học phí'\n",
      "\n",
      "OPTIONAL MATCH (n2:Chủ_thể)-[r2:`BỊ_XỬ_LÝ`]->(m2)\n",
      "WHERE n2.id CONTAINS 'Sinh Viên' AND m2.id CONTAINS 'Học Phí'\n",
      "\n",
      "RETURN \n",
      "  collect(DISTINCT properties(n)) AS sinh_viên,\n",
      "  collect(DISTINCT type(r1)) AS quan_hệ_1,\n",
      "  collect(DISTINCT properties(r1)) AS thuộc_tính_quan_hệ_1,\n",
      "  collect(DISTINCT properties(m)) AS hậu_quả_1,\n",
      "  collect(DISTINCT type(r2)) AS quan_hệ_2,\n",
      "  collect(DISTINCT properties(r2)) AS thuộc_tính_quan_hệ_2,\n",
      "  collect(DISTINCT properties(m2)) AS hậu_quả_2\u001b[0m\n",
      "Full Context:\n",
      "\u001b[32;1m\u001b[1;3m[{'sinh_viên': [{'id': 'Sinh Viên', 'quyền_lợi': 'được bảo đảm điều kiện thực hiện đầy đủ nhiệm vụ và quyền trong quá trình học tập và rèn luyện tại trường', 'vai_trò': 'Lựa chọn phương án trả lời', 'định_nghĩa': 'người đang học chương trình đào tạo trình độ đại học hệ chính quy tại trường'}], 'quan_hệ_1': ['KHÔNG_ĐƯỢC_NHẬN'], 'thuộc_tính_quan_hệ_1': [{'điều_kiện': 'còn nợ học phí'}], 'hậu_quả_1': [{'id': 'Bằng Tốt Nghiệp'}], 'quan_hệ_2': [], 'thuộc_tính_quan_hệ_2': [], 'hậu_quả_2': []}]\u001b[0m\n"
     ]
    },
    {
     "name": "stderr",
     "output_type": "stream",
     "text": [
      " 91%|█████████ | 72/79 [28:18<02:35, 22.19s/it]"
     ]
    },
    {
     "name": "stdout",
     "output_type": "stream",
     "text": [
      "\n",
      "\u001b[1m> Finished chain.\u001b[0m\n",
      "\n",
      "\n",
      "\u001b[1m> Entering new GraphCypherQAChain chain...\u001b[0m\n",
      "Generated Cypher:\n",
      "\u001b[32;1m\u001b[1;3m\u001b[0m\n",
      "Full Context:\n",
      "\u001b[32;1m\u001b[1;3m[]\u001b[0m\n"
     ]
    },
    {
     "name": "stderr",
     "output_type": "stream",
     "text": [
      " 92%|█████████▏| 73/79 [28:38<02:09, 21.65s/it]"
     ]
    },
    {
     "name": "stdout",
     "output_type": "stream",
     "text": [
      "\n",
      "\u001b[1m> Finished chain.\u001b[0m\n",
      "\n",
      "\n",
      "\u001b[1m> Entering new GraphCypherQAChain chain...\u001b[0m\n",
      "Generated Cypher:\n",
      "\u001b[32;1m\u001b[1;3mOPTIONAL MATCH (n:Đối_tượng)-[r]->(m)\n",
      "WHERE n.id CONTAINS 'Đối Tượng Được Miễn 100% Học Phí'\n",
      "RETURN \n",
      "  properties(n) AS n_properties, \n",
      "  type(r) AS r_type, \n",
      "  properties(r) AS r_properties, \n",
      "  properties(m) AS m_properties\u001b[0m\n",
      "Full Context:\n",
      "\u001b[32;1m\u001b[1;3m[{'n_properties': {'id': 'Đối Tượng Được Miễn 100% Học Phí'}, 'r_type': 'BAO_GỒM', 'r_properties': {}, 'm_properties': {'id': 'Sinh Viên Là Người Dân Tộc Thiểu Số Rất Ít Người'}}, {'n_properties': {'id': 'Đối Tượng Được Miễn 100% Học Phí'}, 'r_type': 'BAO_GỒM', 'r_properties': {}, 'm_properties': {'id': 'Sinh Viên Là Người Dân Tộc Thiểu Số Thuộc Hộ Nghèo Và Hộ Cận Nghèo'}}, {'n_properties': {'id': 'Đối Tượng Được Miễn 100% Học Phí'}, 'r_type': 'BAO_GỒM', 'r_properties': {}, 'm_properties': {'id': 'Sinh Viên Bị Tàn Tật, Khuyến Tật Thuộc Diện Hộ Cận Nghèo'}}, {'n_properties': {'id': 'Đối Tượng Được Miễn 100% Học Phí'}, 'r_type': 'BAO_GỒM', 'r_properties': {}, 'm_properties': {'id': 'Sinh Viên Là Con Của Người Có Công Với Cách Mạng'}}]\u001b[0m\n"
     ]
    },
    {
     "name": "stderr",
     "output_type": "stream",
     "text": [
      " 94%|█████████▎| 74/79 [29:10<02:03, 24.68s/it]"
     ]
    },
    {
     "name": "stdout",
     "output_type": "stream",
     "text": [
      "\n",
      "\u001b[1m> Finished chain.\u001b[0m\n",
      "\n",
      "\n",
      "\u001b[1m> Entering new GraphCypherQAChain chain...\u001b[0m\n",
      "Generated Cypher:\n",
      "\u001b[32;1m\u001b[1;3m\u001b[0m\n",
      "Full Context:\n",
      "\u001b[32;1m\u001b[1;3m[]\u001b[0m\n"
     ]
    },
    {
     "name": "stderr",
     "output_type": "stream",
     "text": [
      " 95%|█████████▍| 75/79 [29:37<01:41, 25.35s/it]"
     ]
    },
    {
     "name": "stdout",
     "output_type": "stream",
     "text": [
      "\n",
      "\u001b[1m> Finished chain.\u001b[0m\n",
      "\n",
      "\n",
      "\u001b[1m> Entering new GraphCypherQAChain chain...\u001b[0m\n",
      "Generated Cypher:\n",
      "\u001b[32;1m\u001b[1;3mOPTIONAL MATCH (n:Mục_đích)\n",
      "WHERE n.id CONTAINS \"Đánh Giá Năng Lực Tiếng Anh\"\n",
      "\n",
      "OPTIONAL MATCH (n)-[r]->(m)\n",
      "\n",
      "RETURN \n",
      "  collect(DISTINCT properties(n)) AS mục_đích,\n",
      "  collect(DISTINCT type(r)) AS loại_quan_hệ,\n",
      "  collect(DISTINCT properties(r)) AS thuộc_tính_quan_hệ,\n",
      "  collect(DISTINCT properties(m)) AS kết_quả\u001b[0m\n",
      "Full Context:\n",
      "\u001b[32;1m\u001b[1;3m[{'mục_đích': [{'id': 'Đánh Giá Năng Lực Tiếng Anh', 'mô_tả': 'Mục đích chính của quy định'}], 'loại_quan_hệ': ['DẪN_ĐẾN'], 'thuộc_tính_quan_hệ': [{}], 'kết_quả': [{'id': 'Miễn Học Các Học Phần Tiếng Anh 1, Tiếng Anh 2', 'mô_tả': 'Kết quả mong muốn từ việc đánh giá'}]}]\u001b[0m\n"
     ]
    },
    {
     "name": "stderr",
     "output_type": "stream",
     "text": [
      " 96%|█████████▌| 76/79 [29:57<01:11, 23.72s/it]"
     ]
    },
    {
     "name": "stdout",
     "output_type": "stream",
     "text": [
      "\n",
      "\u001b[1m> Finished chain.\u001b[0m\n",
      "\n",
      "\n",
      "\u001b[1m> Entering new GraphCypherQAChain chain...\u001b[0m\n",
      "Generated Cypher:\n",
      "\u001b[32;1m\u001b[1;3mOPTIONAL MATCH (n:Cấu_trúc)\n",
      "WHERE n.id CONTAINS 'Cấu Trúc Đề Kiểm Tra'\n",
      "\n",
      "OPTIONAL MATCH (n)-[r:BAO_GỒM]->(m:Phần)\n",
      "\n",
      "RETURN \n",
      "  collect(DISTINCT properties(n)) AS cấu_trúc,\n",
      "  collect(DISTINCT type(r)) AS loại_quan_hệ,\n",
      "  collect(DISTINCT properties(r)) AS thuộc_tính_quan_hệ,\n",
      "  collect(DISTINCT properties(m)) AS các_phần\u001b[0m\n",
      "Full Context:\n",
      "\u001b[32;1m\u001b[1;3m[{'cấu_trúc': [{'id': 'Cấu Trúc Đề Kiểm Tra', 'số_câu': '100', 'số_phần': '4', 'thời_gian_làm_bài': '75 phút', 'điểm_mỗi_câu': '1', 'thang_điểm': '100'}], 'loại_quan_hệ': ['BAO_GỒM'], 'thuộc_tính_quan_hệ': [{}], 'các_phần': [{'id': 'Phần 4', 'số_câu': '20', 'tên': 'Writing (Viết)', 'mô_tả': 'Mỗi câu có các từ hoặc cụm từ cho sẵn với các gạch chéo (/), có 04 phương án A, B, C, D ở dạng câu hoàn chỉnh để sinh viên lựa chọn'}, {'id': 'Phần 3', 'số_câu': '25', 'tên': 'Reading comprehension (Đọc hiểu)', 'mô_tả': 'Mỗi câu có 01 khoảng trống, mỗi khoảng trống có 04 phương án A, B, C, D để sinh viên lựa chọn'}, {'id': 'Phần 2', 'số_câu': '15', 'tên': 'Cloze test (Điền từ vào chỗ trống)', 'mô_tả': 'Mỗi câu có 01 khoảng trống, mỗi khoảng trống có 04 phương án A, B, C, D để sinh viên lựa chọn'}, {'id': 'Phần 1', 'số_câu': '40', 'tên': 'Language use (Từ vựng và Ngữ pháp)', 'mô_tả': 'Mỗi câu có 01 khoảng trống, mỗi khoảng trống có 04 phương án A, B, C, D để sinh viên lựa chọn'}]}]\u001b[0m\n"
     ]
    },
    {
     "name": "stderr",
     "output_type": "stream",
     "text": [
      " 97%|█████████▋| 77/79 [30:17<00:45, 22.71s/it]"
     ]
    },
    {
     "name": "stdout",
     "output_type": "stream",
     "text": [
      "\n",
      "\u001b[1m> Finished chain.\u001b[0m\n",
      "\n",
      "\n",
      "\u001b[1m> Entering new GraphCypherQAChain chain...\u001b[0m\n",
      "Generated Cypher:\n",
      "\u001b[32;1m\u001b[1;3mOPTIONAL MATCH (n:Mục_đích)-[r]->(m)\n",
      "WHERE n.id CONTAINS 'Đánh Giá Năng Lực Tiếng Anh'\n",
      "\n",
      "OPTIONAL MATCH (n2)-[r2]->(m2:Thang_điểm)\n",
      "WHERE n2.id CONTAINS 'Đánh Giá Năng Lực Tiếng Anh'\n",
      "\n",
      "RETURN \n",
      "  collect(DISTINCT properties(n)) AS mục_đích,\n",
      "  collect(DISTINCT type(r)) AS loại_quan_hệ_1,\n",
      "  collect(DISTINCT properties(r)) AS thuộc_tính_quan_hệ_1,\n",
      "  collect(DISTINCT properties(m)) AS kết_quả,\n",
      "  collect(DISTINCT properties(n2)) AS đánh_giá,\n",
      "  collect(DISTINCT type(r2)) AS loại_quan_hệ_2,\n",
      "  collect(DISTINCT properties(r2)) AS thuộc_tính_quan_hệ_2,\n",
      "  collect(DISTINCT properties(m2)) AS thang_điểm\u001b[0m\n",
      "Full Context:\n",
      "\u001b[32;1m\u001b[1;3m[{'mục_đích': [{'id': 'Đánh Giá Năng Lực Tiếng Anh', 'mô_tả': 'Mục đích chính của quy định'}], 'loại_quan_hệ_1': ['DẪN_ĐẾN'], 'thuộc_tính_quan_hệ_1': [{}], 'kết_quả': [{'id': 'Miễn Học Các Học Phần Tiếng Anh 1, Tiếng Anh 2', 'mô_tả': 'Kết quả mong muốn từ việc đánh giá'}], 'đánh_giá': [], 'loại_quan_hệ_2': [], 'thuộc_tính_quan_hệ_2': [], 'thang_điểm': []}]\u001b[0m\n"
     ]
    },
    {
     "name": "stderr",
     "output_type": "stream",
     "text": [
      " 99%|█████████▊| 78/79 [30:40<00:22, 22.88s/it]"
     ]
    },
    {
     "name": "stdout",
     "output_type": "stream",
     "text": [
      "\n",
      "\u001b[1m> Finished chain.\u001b[0m\n",
      "\n",
      "\n",
      "\u001b[1m> Entering new GraphCypherQAChain chain...\u001b[0m\n"
     ]
    },
    {
     "name": "stderr",
     "output_type": "stream",
     "text": [
      "100%|██████████| 79/79 [30:58<00:00, 23.53s/it]"
     ]
    },
    {
     "name": "stdout",
     "output_type": "stream",
     "text": [
      "Generated Cypher:\n",
      "\u001b[32;1m\u001b[1;3mOPTIONAL MATCH (n)-[r1]->(m)\n",
      "WHERE n.id CONTAINS 'Phân Loại' AND m.id CONTAINS 'Kết Quả Rèn Luyện'\n",
      "\n",
      "OPTIONAL MATCH (k)-[r2]->(l)\n",
      "WHERE l.id CONTAINS 'Khung Điểm Đánh Giá'\n",
      "\n",
      "RETURN \n",
      "  collect(DISTINCT properties(n)) AS phân_loại,\n",
      "  collect(DISTINCT type(r1)) AS quan_hệ_phân_loại,\n",
      "  collect(DISTINCT properties(r1)) AS thuộc_tính_quan_hệ,\n",
      "  collect(DISTINCT properties(m)) AS kết_quả_rèn_luyện,\n",
      "  collect(DISTINCT properties(k)) AS khái_niệm_liên_quan,\n",
      "  collect(DISTINCT type(r2)) AS quan_hệ_khung_điểm,\n",
      "  collect(DISTINCT properties(r2)) AS thuộc_tính_quan_hệ,\n",
      "  collect(DISTINCT properties(l)) AS khung_điểm\u001b[0m\n",
      "✅ Đã lưu kết quả vào: d:\\WorkSpace\\python\\thesis\\web_graph_rag\\danh_gia\\output_results.xlsx\n"
     ]
    },
    {
     "name": "stderr",
     "output_type": "stream",
     "text": [
      "\n"
     ]
    }
   ],
   "source": [
    "import os\n",
    "import pandas as pd\n",
    "from tqdm import tqdm\n",
    "\n",
    "# Đọc dữ liệu\n",
    "df = pd.read_excel(os.path.join(os.getcwd(), 'danh_gia', 'Danh sách câu hỏi đánh giá.xlsx'))\n",
    "list_query_one_node = df['Truy vấn 1 thực thể'].dropna().tolist()\n",
    "list_query_two_node = df['Câu hỏi 2 thực thể 1 quan hệ'].dropna().tolist()\n",
    "\n",
    "# Hàm xử lý từng nhóm câu hỏi\n",
    "def process_queries(queries):\n",
    "    results = []\n",
    "    for query in tqdm(queries):\n",
    "        try:\n",
    "            result = chain.invoke({\"query\": query})\n",
    "            cypher = result.get(\"intermediate_steps\", [{}])[0].get(\"query\", \"\")\n",
    "            answer = result.get(\"result\", \"\")\n",
    "            results.append({\n",
    "                \"Câu hỏi\": query,\n",
    "                \"Câu lệnh Cypher\": cypher,\n",
    "                \"Câu trả lời\": answer\n",
    "            })\n",
    "        except Exception as e:\n",
    "            results.append({\n",
    "                \"Câu hỏi\": query,\n",
    "                \"Câu lệnh Cypher\": \"LỖI\",\n",
    "                \"Câu trả lời\": f\"Lỗi: {e}\"\n",
    "            })\n",
    "    return pd.DataFrame(results)\n",
    "\n",
    "# Xử lý từng danh sách\n",
    "df_one_node = process_queries(list_query_one_node)\n",
    "df_two_node = process_queries(list_query_two_node)\n",
    "\n",
    "# Ghi ra file Excel\n",
    "output_path = os.path.join(os.getcwd(), 'danh_gia', \"output_results.xlsx\")\n",
    "with pd.ExcelWriter(output_path, engine='openpyxl') as writer:\n",
    "    df_one_node.to_excel(writer, sheet_name=\"Truy vấn 1 thực thể\", index=False)\n",
    "    df_two_node.to_excel(writer, sheet_name=\"Truy vấn 2 thực thể\", index=False)\n",
    "\n",
    "print(\"✅ Đã lưu kết quả vào:\", output_path)"
   ]
  },
  {
   "cell_type": "code",
   "execution_count": 18,
   "metadata": {},
   "outputs": [
    {
     "name": "stdout",
     "output_type": "stream",
     "text": [
      "\n",
      "\n",
      "\u001b[1m> Entering new GraphCypherQAChain chain...\u001b[0m\n",
      "Generated Cypher:\n",
      "\u001b[32;1m\u001b[1;3mMATCH (n:`Khái_niệm`)\n",
      "WHERE n.id CONTAINS 'Cổng Thông Tin Thư Viện'\n",
      "RETURN properties(n) AS n_properties\u001b[0m\n",
      "Full Context:\n",
      "\u001b[32;1m\u001b[1;3m[]\u001b[0m\n",
      "\n",
      "\u001b[1m> Finished chain.\u001b[0m\n",
      "Final answer: Tôi không biết câu trả lời cho câu hỏi này.\n"
     ]
    }
   ],
   "source": [
    "result = chain.invoke({\"query\": \"Cổng thông tin Thư Viện là gì?\"})\n",
    "\n",
    "print(f\"Final answer: {result['result']}\")"
   ]
  },
  {
   "cell_type": "code",
   "execution_count": 56,
   "metadata": {},
   "outputs": [
    {
     "ename": "NameError",
     "evalue": "name 'result' is not defined",
     "output_type": "error",
     "traceback": [
      "\u001b[1;31m---------------------------------------------------------------------------\u001b[0m",
      "\u001b[1;31mNameError\u001b[0m                                 Traceback (most recent call last)",
      "Cell \u001b[1;32mIn[56], line 1\u001b[0m\n\u001b[1;32m----> 1\u001b[0m \u001b[43mresult\u001b[49m\n",
      "\u001b[1;31mNameError\u001b[0m: name 'result' is not defined"
     ]
    }
   ],
   "source": [
    "result"
   ]
  },
  {
   "cell_type": "code",
   "execution_count": 18,
   "metadata": {},
   "outputs": [],
   "source": [
    "# Cách hiển thị Final answer dễ quan sát hơn\n",
    "import textwrap\n",
    "\n",
    "def prettyCypherChain(question: str) -> str:\n",
    "\tresponse = chain.run(question)\n",
    "\tprint(textwrap.fill(response, 60))"
   ]
  },
  {
   "cell_type": "code",
   "execution_count": 22,
   "metadata": {},
   "outputs": [
    {
     "name": "stdout",
     "output_type": "stream",
     "text": [
      "\n",
      "\n",
      "\u001b[1m> Entering new GraphCypherQAChain chain...\u001b[0m\n",
      "Generated Cypher:\n",
      "\u001b[32;1m\u001b[1;3mcypher\n",
      "MATCH (n:Khái_niệm {id: \"Đào Tạo Chính Quy\"}) RETURN n.định_nghĩa\n",
      "\u001b[0m\n",
      "Full Context:\n",
      "\u001b[32;1m\u001b[1;3m[{'n.định_nghĩa': None}]\u001b[0m\n",
      "\n",
      "\u001b[1m> Finished chain.\u001b[0m\n",
      "Tôi không biết câu trả lời cho câu hỏi \"Đào tạo chính quy là\n",
      "gì?\".\n"
     ]
    }
   ],
   "source": [
    "prettyCypherChain(\"Đào tạo chính quy là gì?\")"
   ]
  }
 ],
 "metadata": {
  "kernelspec": {
   "display_name": "Python 3",
   "language": "python",
   "name": "python3"
  },
  "language_info": {
   "codemirror_mode": {
    "name": "ipython",
    "version": 3
   },
   "file_extension": ".py",
   "mimetype": "text/x-python",
   "name": "python",
   "nbconvert_exporter": "python",
   "pygments_lexer": "ipython3",
   "version": "3.12.4"
  }
 },
 "nbformat": 4,
 "nbformat_minor": 2
}
