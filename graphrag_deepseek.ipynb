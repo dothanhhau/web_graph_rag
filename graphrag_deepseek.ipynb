{
 "cells": [
  {
   "cell_type": "code",
   "execution_count": 84,
   "metadata": {},
   "outputs": [],
   "source": [
    "from langchain.prompts import ChatPromptTemplate\n",
    "\n",
    "prompt_vietnam = (\n",
    "\t\"# Hướng dẫn xây dựng Đồ thị Tri thức từ văn bản quy chế tiếng Việt\\n\"\n",
    "\t\"## 1. Mục tiêu\\n\"\n",
    "\t\"Bạn là một mô hình trích xuất thông tin chất lượng cao, được thiết kế để xây dựng đồ thị tri thức từ văn bản quy định, đặc biệt là quy chế đào tạo đại học bằng tiếng Việt.\\n\"\n",
    "\t\"Hãy cố gắng trích xuất tối đa thông tin có trong văn bản **mà không thêm bất kỳ thông tin nào không được nêu rõ**.\\n\"\n",
    "\t\"- **Node** là các thực thể hoặc khái niệm xuất hiện trong văn bản.\\n\"\n",
    "\t\"- **Edge** là quan hệ giữa các node, phản ánh mối liên kết có trong nội dung văn bản.\\n\"\n",
    "\t\"- Kết quả phải dễ hiểu, rõ ràng, có thể dùng để xây dựng hệ thống truy vấn đồ thị tri thức.\\n\\n\"\n",
    "\n",
    "\t\"## 2. Gán nhãn thực thể (Labeling Nodes)\\n\"\n",
    "\t\"- Mỗi node phải có `id` là tên thực thể trích từ văn bản, và `type` là loại thực thể.\\n\"\n",
    "\t\"- Nếu thực thể thuộc các loại thường gặp như: `CHƯƠNG`, `ĐIỀU`, `KHOẢN`, `CHỦ_THỂ`, `HOẠT_ĐỘNG`, `YÊU_CẦU`, `CÓ`, `LÀ`, `XẾP_LOẠI`, `KHÁI_NIỆM`, ... thì hãy dùng đúng loại đó.\\n\"\n",
    "\t\"- Nếu thực thể không thuộc các loại trên, HÃY TỰ ĐẶT `type` mới phù hợp bằng tiếng Việt.\\n\"\n",
    "\t\"- Không được dùng số làm `id`. `id` phải là tên nguyên văn hoặc dễ hiểu từ văn bản, ví dụ: \\\"Chương trình đào tạo\\\", \\\"Sinh viên\\\".\\n\"\n",
    "\t\"- Nếu trong văn bản có mô tả hoặc đặc điểm đi kèm thực thể, hãy trích xuất dưới dạng `properties`.\\n\"\n",
    "\t\"- Mỗi node có thể có thêm các thuộc tính khác như `tiêu_đề`, `tên`, `định_nghĩa`, `mô_tả`, `vai_trò`, `phạm_vi`, v.v.\\n\"\n",
    "\t\"- Nếu thuộc tính không nằm trong danh sách gợi ý, bạn được phép tự đặt tên phù hợp (vẫn theo chuẩn viết thường bằng tiếng Việt có dấu gạch dưới).\\n\\n\"\n",
    "\n",
    "\t\"## 3. Gán nhãn quan hệ (Relationships)\\n\"\n",
    "\t\"- Các `edges` phải mô tả chính xác mối liên hệ giữa thực thể nguồn (`source`) và thực thể đích (`target`).\\n\"\n",
    "\t\"- `type` của edge phải là một quan hệ rõ ràng, ngắn gọn, bằng **tiếng Việt viết HOA có dấu gạch dưới**, ví dụ: `QUY_ĐỊNH`, `BAO_GỒM`, `PHẢI_HOÀN_THÀNH`, `LIÊN_QUAN_ĐẾN`, `XẾP_LOẠI`, `THỜI_GIAN`, `LÀM`, `THUỘC`, `THAM_CHIẾU`.\\n\"\n",
    "\t\"- Không dùng tên quan hệ quá cụ thể theo ngữ cảnh tạm thời, ví dụ: `BỊ_CẢNH_BÁO_2_LẦN` là không hợp lệ. Hãy dùng chung như `BỊ_CẢNH_BÁO`.\\n\"\n",
    "\t\"- Nếu quan hệ không nằm trong danh sách gợi ý, bạn được phép tự đặt tên phù hợp (vẫn theo chuẩn viết HOA bằng tiếng Việt có dấu gạch dưới).\\n\"\n",
    "\t\"- Nếu có thông tin bổ sung về quan hệ (ví dụ: điều_kiện, quy_định_chi_tiết, v.v.), hãy thêm vào `properties` của quan hệ.\\n\"\n",
    "\t\"- Nếu thuộc tính không nằm trong danh sách gợi ý, bạn được phép tự đặt tên phù hợp (vẫn theo chuẩn viết thường bằng tiếng Việt có dấu gạch dưới).\\n\\n\"\n",
    "\n",
    "\t\"## 4. Đồng nhất thực thể (Coreference Resolution)\\n\"\n",
    "\t\"- Nếu một thực thể xuất hiện nhiều lần với cách gọi khác nhau (VD: \\\"Trường\\\", \\\"Nhà Trường\\\", \\\"Trường Đại học Quy Nhơn\\\", \\\"trường\\\"), hãy dùng tên đầy đủ nhất làm ID duy nhất.\\n\"\n",
    "\t\"- Không tạo trùng node cho cùng một thực thể.\\n\\n\"\n",
    "\n",
    "\t\"## 5. Tuân thủ định dạng và chính xác\\n\"\n",
    "\t\"- Không giải thích, không thêm bình luận.\\n\"\n",
    "\t\"- Chỉ trả về kết quả theo định dạng JSON gồm `nodes` và `edges`.\\n\"\n",
    "\t\"- Kết quả phải đầy đủ, rõ ràng và có thể phân tích được bằng máy.\\n\"\n",
    ")\n",
    "\n",
    "new_prompt = ChatPromptTemplate.from_messages(\n",
    "\t[\n",
    "\t\t(\n",
    "\t\t\t\"system\",\n",
    "\t\t\tprompt_vietnam,\n",
    "\t\t),\n",
    "\t\t(\n",
    "\t\t\t\"human\",\n",
    "\t\t\t(\n",
    "\t\t\t\t\"Tip: Make sure to answer in the correct format and do \"\n",
    "\t\t\t\t\"not include any explanations. \"\n",
    "\t\t\t\t\"Use the given format to extract information from the \"\n",
    "\t\t\t\t\"following input: {input}\"\n",
    "\t\t\t),\n",
    "\t\t),\n",
    "\t]\n",
    ")"
   ]
  },
  {
   "cell_type": "code",
   "execution_count": 1,
   "metadata": {},
   "outputs": [],
   "source": [
    "from langchain.prompts import ChatPromptTemplate\n",
    "\n",
    "# Prompt cho tác vụ nhận diện thực thể, quan hệ và thuộc tính\n",
    "prompt_vietnam = (\n",
    "    \"# Hướng dẫn xây dựng Đồ thị Tri thức từ văn bản quy chế tiếng Việt\\n\"\n",
    "    \"## 1. Mục tiêu\\n\"\n",
    "    \"Bạn là một mô hình trích xuất thông tin chất lượng cao, được thiết kế để xây dựng đồ thị tri thức từ văn bản quy định, đặc biệt là quy chế đào tạo đại học bằng tiếng Việt.\\n\"\n",
    "    \"Hãy cố gắng trích xuất tối đa thông tin có trong văn bản **mà không thêm bất kỳ thông tin nào không được nêu rõ**.\\n\"\n",
    "    \"- **Node** là các thực thể hoặc khái niệm xuất hiện trong văn bản.\\n\"\n",
    "    \"- **Edge** là quan hệ giữa các node, phản ánh mối liên kết có trong nội dung văn bản.\\n\"\n",
    "    \"- Kết quả phải dễ hiểu, rõ ràng, có thể dùng để xây dựng hệ thống truy vấn đồ thị tri thức.\\n\\n\"\n",
    "\n",
    "    \"## 2. Gán nhãn thực thể (Labeling Nodes)\\n\"\n",
    "    \"- Mỗi node phải có `id` là tên thực thể trích từ văn bản, và `type` là loại thực thể.\\n\"\n",
    "    \"- Nếu thực thể thuộc các loại thường gặp như: `CHƯƠNG`, `ĐIỀU`, `KHOẢN`, `CHỦ_THỂ`, `HOẠT_ĐỘNG`, `YÊU_CẦU`, `CÓ`, `LÀ`, `HỌC_LỰC`, `KHÁI_NIỆM`, ... thì hãy dùng đúng loại đó.\\n\"\n",
    "    \"- Nếu thực thể không thuộc các loại trên, HÃY TỰ ĐẶT `type` mới phù hợp bằng tiếng Việt.\\n\"\n",
    "    \"- Không được dùng số làm `id`. `id` phải là tên nguyên văn hoặc dễ hiểu từ văn bản, ví dụ: \\\"Chương trình đào tạo\\\", \\\"Sinh viên\\\".\\n\"\n",
    "    \"- Nếu trong văn bản có mô tả hoặc đặc điểm đi kèm thực thể, hãy trích xuất dưới dạng `properties`.\\n\"\n",
    "    \"- Mỗi node có thể có thêm các thuộc tính khác như `tiêu_đề`, `tên`, `định_nghĩa`, `mô_tả`, `vai_trò`, `phạm_vi`, v.v.\\n\"\n",
    "    \"- Nếu thuộc tính không nằm trong danh sách gợi ý, bạn được phép tự đặt tên phù hợp (vẫn theo chuẩn viết thường bằng tiếng Việt có dấu gạch dưới).\\n\\n\"\n",
    "\n",
    "    \"## 3. Gán nhãn quan hệ (Relationships)\\n\"\n",
    "    \"- Các `edges` phải mô tả chính xác mối liên hệ giữa thực thể **nguồn** (`source`) và thực thể **đích** (`target`).\\n\"\n",
    "    \"- `source` là chủ thể thực hiện hoặc chủ thể quy định, và `target` là đối tượng bị tác động hoặc có liên hệ.\\n\"\n",
    "    \"- `type` của edge phải là một quan hệ rõ ràng, ngắn gọn, bằng **tiếng Việt viết HOA có dấu gạch dưới**, ví dụ: `QUY_ĐỊNH`, `BAO_GỒM`, `PHẢI_HOÀN_THÀNH`, `LIÊN_QUAN_ĐẾN`, `XẾP_LOẠI`, `THỜI_GIAN`, `LÀM`, `THUỘC`, `THAM_CHIẾU`.\\n\"\n",
    "    \"- Không dùng tên quan hệ quá cụ thể theo ngữ cảnh tạm thời, ví dụ: `BỊ_CẢNH_BÁO_2_LẦN` là không hợp lệ. Hãy dùng dạng tổng quát như `BỊ_CẢNH_BÁO`.\\n\"\n",
    "    \"- Nếu quan hệ không nằm trong danh sách gợi ý, bạn được phép tự đặt tên phù hợp (vẫn theo chuẩn viết HOA bằng tiếng Việt có dấu gạch dưới).\\n\"\n",
    "    \"- Nếu có thông tin bổ sung về quan hệ (ví dụ: yêu_cầu, điều_kiện, quy_định, điểm, số_tín_chỉ v.v.), hãy thêm vào `properties` của quan hệ.\\n\"\n",
    "    \"- Đặc biệt lưu ý: tránh nhầm lẫn `source` và `target`. Hãy đảm bảo hướng quan hệ đúng theo ngữ nghĩa.\\n\\n\"\n",
    "\n",
    "    \"## 4. Đồng nhất thực thể (Coreference Resolution)\\n\"\n",
    "    \"- Nếu một thực thể xuất hiện nhiều lần với cách gọi khác nhau (VD: \\\"Trường\\\", \\\"Nhà Trường\\\", \\\"Trường Đại học Quy Nhơn\\\", \\\"trường\\\"), hãy dùng tên đầy đủ nhất làm ID duy nhất.\\n\"\n",
    "    \"- Không tạo trùng node cho cùng một thực thể.\\n\\n\"\n",
    "\n",
    "    \"## 5. Tuân thủ định dạng và chính xác\\n\"\n",
    "    \"- Không giải thích, không thêm bình luận.\\n\"\n",
    "    \"- Chỉ trả về kết quả theo định dạng JSON gồm `nodes` và `edges`.\\n\"\n",
    "    \"- Kết quả phải đầy đủ, rõ ràng và có thể phân tích được bằng máy.\\n\"\n",
    ")\n",
    "\n",
    "new_prompt = ChatPromptTemplate.from_messages(\n",
    "    [\n",
    "        (\n",
    "            \"system\",\n",
    "            prompt_vietnam,\n",
    "        ),\n",
    "        (\n",
    "            \"human\",\n",
    "            (\n",
    "                \"Tip: Make sure to answer in the correct format and do \"\n",
    "                \"not include any explanations. \"\n",
    "                \"Use the given format to extract information from the \"\n",
    "                \"following input: {input}\"\n",
    "            ),\n",
    "        ),\n",
    "    ]\n",
    ")\n"
   ]
  },
  {
   "cell_type": "code",
   "execution_count": 2,
   "metadata": {},
   "outputs": [],
   "source": [
    "import os\n",
    "from dotenv import load_dotenv\n",
    "from langchain_deepseek import ChatDeepSeek\n",
    "from langchain_core.documents import Document\n",
    "from langchain_experimental.graph_transformers import LLMGraphTransformer\n",
    "load_dotenv()\n",
    "\n",
    "# Mô hình deepseek\n",
    "os.environ[\"DEEPSEEK_API_KEY\"] = str(os.getenv(\"DEEPSEEK_API_KEY\"))\n",
    "llm = ChatDeepSeek(\n",
    "\tmodel=\"deepseek-chat\",# deepseek-reasoner, deepseek-chat\n",
    "\t# temperature=1,\n",
    "\t# max_tokens=8000,\n",
    "\t# timeout=None,\n",
    "\t# max_retries=2,\n",
    ")"
   ]
  },
  {
   "cell_type": "code",
   "execution_count": 3,
   "metadata": {},
   "outputs": [],
   "source": [
    "llm_transformer = LLMGraphTransformer(llm=llm, prompt=new_prompt, node_properties=True ,relationship_properties=True)"
   ]
  },
  {
   "cell_type": "code",
   "execution_count": 5,
   "metadata": {},
   "outputs": [],
   "source": [
    "arr = ['''Chuẩn đầu ra ngoại ngữ đối với sinh viên đại học hệ chính quy Trường Đại học Quy Nhơn\n",
    "1. Ngành Sư phạm Tiếng Anh (Ngoại ngữ 1):\n",
    "Sinh viên theo học ngành này cần đạt chứng nhận tiếng Anh bậc 5/6 do Trường Đại học Quy Nhơn cấp, hoặc các chứng chỉ tương đương từ các cơ sở đào tạo được Bộ Giáo dục và Đào tạo cho phép cấp chứng chỉ ngoại ngữ. Ngoài ra, các chứng chỉ quốc tế tương đương được chấp nhận bao gồm: CEFR C1, CAE 60, IELTS 6.5, TOEFL iBT 85, TOEIC 850, APTIS ESOL GENERAL C, và APTIS ESOL ADVANCED C1.\n",
    "2. Ngành Sư phạm Tiếng Anh (Ngoại ngữ 2):\n",
    "Sinh viên cần có chứng nhận tiếng Pháp hoặc tiếng Trung đạt bậc 3/6 do Trường Đại học Quy Nhơn hoặc các đơn vị được phép cấp. Các chứng chỉ quốc tế được chấp nhận gồm: JLPT N4, JTEST Cấp độ E (tiếng Nhật), HSK Cấp độ 3 (tiếng Trung), DELF B1, TCF Niveau 3 (tiếng Pháp), và TOPIK 3 (tiếng Hàn).\n",
    "3. Ngành Ngôn ngữ Anh:\n",
    "Sinh viên phải đạt trình độ tiếng Pháp hoặc tiếng Trung bậc 3/6, với chứng nhận được cấp bởi Trường Đại học Quy Nhơn hoặc các đơn vị đào tạo được cấp phép. Các chứng chỉ quốc tế tương đương gồm có: JLPT N4, JTEST Cấp độ E (tiếng Nhật), HSK Cấp độ 3 (tiếng Trung), DELF B1, TCF Niveau 3 (tiếng Pháp), và TOPIK 3 (tiếng Hàn).\n",
    "4. Ngành Ngôn ngữ Trung Quốc:\n",
    "Yêu cầu chuẩn đầu ra là tiếng Anh hoặc tiếng Pháp bậc 3/6, được công nhận bởi Trường Đại học Quy Nhơn hoặc các cơ sở đào tạo hợp pháp. Các chứng chỉ quốc tế được chấp nhận gồm: CEFR B1, IELTS 4.5, TOEFL iBT 45, TOEIC 450, APTIS ESOL GENERAL B1, APTIS ESOL ADVANCED B1, LINGUASKILL B1, JLPT N4, JTEST Cấp độ E (tiếng Nhật), DELF B1, TCF Niveau 3 (tiếng Pháp), và TOPIK 3 (tiếng Hàn).\n",
    "5. Các ngành chất lượng cao:\n",
    "Sinh viên theo học các chương trình chất lượng cao phải đạt trình độ tiếng Anh hoặc tiếng Pháp bậc 4/6 do Trường Đại học Quy Nhơn hoặc đơn vị được Bộ Giáo dục và Đào tạo cho phép cấp. Các chứng chỉ quốc tế tương đương bao gồm: CEFR B2, IELTS 5.5, TOEFL iBT 61, TOEIC 600, APTIS ESOL GENERAL B2, APTIS ESOL ADVANCED B2, LINGUASKILL B2, JLPT N3, JTEST Cấp độ D (tiếng Nhật), HSK Cấp độ 4 (tiếng Trung), DELF B2, TCF Niveau 4 (tiếng Pháp), và TOPIK 4 (tiếng Hàn).\n",
    "6. Các ngành khác:\n",
    "Sinh viên các ngành không thuộc các danh mục nêu trên cần có chứng nhận tiếng Anh, tiếng Pháp hoặc tiếng Trung đạt bậc 3/6, được cấp bởi Trường Đại học Quy Nhơn hoặc các đơn vị được phép. Các chứng chỉ quốc tế được công nhận gồm: CEFR B1, IELTS 4.5, TOEFL iBT 45, TOEIC 450, APTIS ESOL GENERAL B1, APTIS ESOL ADVANCED B1, LINGUASKILL B1, JLPT N4, JTEST Cấp độ E (tiếng Nhật), HSK Cấp độ 3 (tiếng Trung), DELF B1, TCF Niveau 3 (tiếng Pháp), và TOPIK 3 (tiếng Hàn).''']\n"
   ]
  },
  {
   "cell_type": "code",
   "execution_count": 161,
   "metadata": {},
   "outputs": [
    {
     "name": "stdout",
     "output_type": "stream",
     "text": [
      "193\n"
     ]
    }
   ],
   "source": [
    "# Đọc hết tất cả 14 file để chuẩn bị chuyển thành đồ thị\n",
    "base_dir = os.getcwd()\n",
    "arr = []\n",
    "# Tạo đường dẫn đến thư mục txt\n",
    "folder_path = os.path.join(base_dir, 'app', 'static', 'txt')\n",
    "folder_path = 'D:/WorkSpace/python/thesis/web_graph_rag/app/static/txt'\n",
    "for filename in os.listdir(folder_path):\n",
    "\tif filename.endswith('.txt'):\n",
    "\t\tfile_path = os.path.join(folder_path, filename)\n",
    "\t\twith open(file_path, 'r', encoding='utf-8') as f:\n",
    "\t\t\tcontent = f.read()\n",
    "\t\t\tarr = arr + content.split('\\n\\n')\n",
    "\t\t\t# print(f\"Nội dung của {filename}:\\n{content}\\n\")\n",
    "\n",
    "print(len(arr))"
   ]
  },
  {
   "cell_type": "code",
   "execution_count": 184,
   "metadata": {},
   "outputs": [],
   "source": [
    "# # Đọc hết tất cả 14 file để chuẩn bị chuyển thành đồ thị\n",
    "# base_dir = os.getcwd()\n",
    "# # Tạo đường dẫn đến thư mục txt\n",
    "# folder_path = os.path.join(base_dir, 'app', 'static', 'txt')\n",
    "# folder_path = 'D:/WorkSpace/python/thesis/web_graph_rag/app/static/txt'\n",
    "# for filename in os.listdir(folder_path):\n",
    "# \tif filename.endswith('.txt'):\n",
    "# \t\tfile_path = os.path.join(folder_path, filename)\n",
    "# \t\twith open(file_path, 'r', encoding='utf-8') as f:\n",
    "# \t\t\tcontent = f.read()\n",
    "# \t\t\tprint(f\"Nội dung của {filename}:\\n\")\n",
    "\n",
    "# # print(len(arr))"
   ]
  },
  {
   "cell_type": "code",
   "execution_count": 4,
   "metadata": {},
   "outputs": [
    {
     "data": {
      "text/plain": [
       "5"
      ]
     },
     "execution_count": 4,
     "metadata": {},
     "output_type": "execute_result"
    }
   ],
   "source": [
    "# Đọc 1 file\n",
    "base_dir = os.getcwd()\n",
    "# Quy chế đào tạo trình độ đại học.txt\n",
    "# Quy định về học phí của sinh viên đại học hệ chính quy.txt\n",
    "# dữ liệu đánh giá.txt\n",
    "arr = []\n",
    "file_name = 'miss.txt'\n",
    "# folder_path = os.path.join(base_dir, 'app', 'static', 'txt', file_name)\n",
    "folder_path = os.path.join(base_dir, file_name)\n",
    "with open(folder_path, 'r', encoding='utf-8') as f:\n",
    "\tcontent = f.read()\n",
    "\tarr = arr + content.split('\\n\\n')\n",
    "\t# arr.append(content)\n",
    "\t\n",
    "len(arr)"
   ]
  },
  {
   "cell_type": "code",
   "execution_count": 6,
   "metadata": {},
   "outputs": [],
   "source": [
    "# Tạo cấu trúc Document để vào LLMGraphTransformer xử lý\n",
    "documents = []\n",
    "for x in arr:\n",
    "\tdocuments.append(Document(page_content=x))"
   ]
  },
  {
   "cell_type": "code",
   "execution_count": 7,
   "metadata": {},
   "outputs": [],
   "source": [
    "# Chuyển các document thành các thực thể và quan hệ\n",
    "graph_documents = llm_transformer.convert_to_graph_documents(documents=documents)"
   ]
  },
  {
   "cell_type": "code",
   "execution_count": 183,
   "metadata": {},
   "outputs": [],
   "source": [
    "graph_full_temperature_0 = graph_documents"
   ]
  },
  {
   "cell_type": "code",
   "execution_count": 8,
   "metadata": {},
   "outputs": [
    {
     "name": "stdout",
     "output_type": "stream",
     "text": [
      "\n",
      "----------------------------------------\n",
      "\n"
     ]
    }
   ],
   "source": [
    "# Một các hiển thị dễ quan sát hơn\n",
    "for x in graph_documents:\n",
    "\tfor y in x.nodes:\n",
    "\t\tprint(f\"{y.type} - {y.id} - {y.properties}\")\n",
    "\tprint()\n",
    "\tfor y in x.relationships:\n",
    "\t\tprint(f\"({y.source.type}: {y.source.id}) - ({y.type}:{y.properties}) - ({y.target.type}:{y.target.id})\")\n",
    "\t\n",
    "\tprint('-'*40)\n",
    "\tprint()"
   ]
  },
  {
   "cell_type": "code",
   "execution_count": 165,
   "metadata": {},
   "outputs": [
    {
     "name": "stdout",
     "output_type": "stream",
     "text": [
      "Đã ghi dữ liệu vào các file.\n"
     ]
    }
   ],
   "source": [
    "# Mở file để ghi output chung và file cho các graph_documents không có nodes và relationships\n",
    "path = 'D:/WorkSpace/python/thesis/web_graph_rag/'\n",
    "with open(path + 'output_all.txt', 'w', encoding='utf-8') as f_all, open(path + 'no_nodes_or_relationships.txt', 'w', encoding='utf-8') as f_no_nodes:\n",
    "\tfor x in graph_documents:\n",
    "\t\thas_nodes_or_relationships = False\n",
    "\n",
    "\t\t# Kiểm tra và ghi nodes vào file\n",
    "\t\tfor y in x.nodes:\n",
    "\t\t\tf_all.write(f\"{y.type} - {y.id} - {y.properties}\\n\")\n",
    "\t\t\thas_nodes_or_relationships = True\n",
    "\t\t\n",
    "\t\t# Kiểm tra và ghi relationships vào file\n",
    "\t\tfor y in x.relationships:\n",
    "\t\t\tf_all.write(f\"({y.source.type}: {y.source.id}) - ({y.type}:{y.properties}) - ({y.target.type}:{y.target.id})\\n\")\n",
    "\t\t\thas_nodes_or_relationships = True\n",
    "\n",
    "\t\t# Nếu không có nodes và relationships, ghi thông tin vào file riêng biệt\n",
    "\t\tif not has_nodes_or_relationships:\n",
    "\t\t\tf_no_nodes.write(f\"GraphDocument không có nodes và relationships:\\n{x.source.page_content}\\n\")\n",
    "\t\t\tf_no_nodes.write('-' * 40 + '\\n')\n",
    "\t\t\n",
    "\t\t# Thêm một dòng phân cách\n",
    "\t\tf_all.write('-' * 40 + '\\n')\n",
    "\n",
    "print(\"Đã ghi dữ liệu vào các file.\")\n"
   ]
  },
  {
   "cell_type": "code",
   "execution_count": 166,
   "metadata": {},
   "outputs": [],
   "source": [
    "# Hàm để chuyển các thực thể và quan hệ vào neo4j\n",
    "def insert_nodes_and_relationships(driver, nodes, relationships):\n",
    "\twith driver.session() as session:\n",
    "\t\t# Chèn nodes\n",
    "\t\tfor node in nodes:\n",
    "\t\t\tx = str(node.type).replace(',', '')\n",
    "\t\t\tx = x.replace(' ', '_')\n",
    "\n",
    "\t\t\tcypher_query = f\"\"\"\n",
    "\t\t\t\tMERGE (n:{x} {{id: $id}})\n",
    "\t\t\t\tSET n += $properties\n",
    "\t\t\t\"\"\"\n",
    "\t\t\tsession.run(\n",
    "\t\t\t\tcypher_query,\n",
    "\t\t\t\tid=node.id,\n",
    "\t\t\t\tproperties=node.properties\n",
    "\t\t\t)\n",
    "\n",
    "\t\t# Chèn relationships\n",
    "\t\tfor relationship in relationships:\n",
    "\t\t\tx = str(relationship.source.type).replace(',', '')\n",
    "\t\t\tx = x.replace(' ', '_')\n",
    "\n",
    "\t\t\ty = str(relationship.target.type).replace(',', '')\n",
    "\t\t\ty = y.replace(' ', '_')\n",
    "\n",
    "\t\t\tz = str(relationship.type).replace(',', '')\n",
    "\t\t\tz = z.replace(' ', '_')\n",
    "\n",
    "\t\t\tcypher_query = f\"\"\"\n",
    "\t\t\t\tMATCH (a:{x} {{id: $source_id}}), \n",
    "\t\t\t\t\t\t\t(b:{y} {{id: $target_id}})\n",
    "\t\t\t\tMERGE (a)-[r:{z}]->(b)\n",
    "\t\t\t\tSET r += $properties\n",
    "\t\t\t\"\"\"\t\n",
    "\t\t\tsession.run(\n",
    "\t\t\t\tcypher_query,\n",
    "\t\t\t\tsource_id=relationship.source.id,\n",
    "\t\t\t\ttarget_id=relationship.target.id,\n",
    "\t\t\t\tproperties=relationship.properties\n",
    "\t\t\t)"
   ]
  },
  {
   "cell_type": "code",
   "execution_count": 171,
   "metadata": {},
   "outputs": [],
   "source": [
    "def insert_nodes_and_relationships(driver, nodes, relationships):\n",
    "\twith driver.session() as session:\n",
    "\t\t# Chèn nodes\n",
    "\t\tfor node in nodes:\n",
    "\t\t\t# Thay thế dấu ',' và khoảng trắng trong tên loại node thành '_'\n",
    "\t\t\tnode_type = str(node.type).replace(',', '').replace(' ', '_').replace('%', '_PHẦN_TRĂM')\n",
    "\t\t\t\n",
    "\t\t\t# Câu lệnh Cypher để MERGE node\n",
    "\t\t\tcypher_query = f\"\"\"\n",
    "\t\t\t\tMERGE (n:{node_type} {{id: $id}})\n",
    "\t\t\t\tSET n += $properties\n",
    "\t\t\t\"\"\"\n",
    "\t\t\tsession.run(\n",
    "\t\t\t\tcypher_query,\n",
    "\t\t\t\tid=node.id,\n",
    "\t\t\t\tproperties=node.properties\n",
    "\t\t\t)\n",
    "\n",
    "\t\t# Chèn relationships\n",
    "\t\tfor relationship in relationships:\n",
    "\t\t\t# Thay thế dấu ',' và khoảng trắng trong tên loại node thành '_'\n",
    "\t\t\tsource_type = str(relationship.source.type).replace(',', '').replace(' ', '_').replace('%', '_PHẦN_TRĂM')\n",
    "\t\t\ttarget_type = str(relationship.target.type).replace(',', '').replace(' ', '_').replace('%', '_PHẦN_TRĂM')\n",
    "\t\t\trelationship_type = str(relationship.type).replace(',', '').replace(' ', '_').replace('%', '_PHẦN_TRĂM')\n",
    "\t\t\t\n",
    "\t\t\t# Câu lệnh Cypher để MERGE relationship\n",
    "\t\t\tcypher_query = f\"\"\"\n",
    "\t\t\t\tMATCH (a:{source_type} {{id: $source_id}}), \n",
    "\t\t\t\t\t\t\t(b:{target_type} {{id: $target_id}})\n",
    "\t\t\t\tMERGE (a)-[r:{relationship_type}]->(b)\n",
    "\t\t\t\tSET r += $properties\n",
    "\t\t\t\"\"\"\n",
    "\t\t\tsession.run(\n",
    "\t\t\t\tcypher_query,\n",
    "\t\t\t\tsource_id=relationship.source.id,\n",
    "\t\t\t\ttarget_id=relationship.target.id,\n",
    "\t\t\t\tproperties=relationship.properties\n",
    "\t\t\t)\n"
   ]
  },
  {
   "cell_type": "code",
   "execution_count": 172,
   "metadata": {},
   "outputs": [],
   "source": [
    "# Hàm tạo connect đến neo4j\n",
    "from neo4j import GraphDatabase\n",
    "\n",
    "def connect_to_neo4j(uri, user, password, db):\n",
    "\tdriver = GraphDatabase.driver(uri, auth=(user, password), database=db)\n",
    "\treturn driver"
   ]
  },
  {
   "cell_type": "code",
   "execution_count": 173,
   "metadata": {},
   "outputs": [],
   "source": [
    "# Kết nối đến Neo4j\n",
    "uri = \"bolt://localhost:7687\"\n",
    "user = \"neo4j\"\n",
    "password = \"adminadmin\"\n",
    "db = 'quydinh-quyche-full-temperature-0'\n",
    "driver = connect_to_neo4j(uri, user, password, db)"
   ]
  },
  {
   "cell_type": "code",
   "execution_count": 174,
   "metadata": {},
   "outputs": [],
   "source": [
    "for x in graph_documents:\n",
    "\tinsert_nodes_and_relationships(driver, x.nodes, x.relationships)\n"
   ]
  },
  {
   "cell_type": "code",
   "execution_count": 177,
   "metadata": {},
   "outputs": [
    {
     "data": {
      "text/plain": [
       "GraphDocument(nodes=[Node(id='Chương V', type='Chương', properties={'tiêu_đề': 'TỔ CHỨC THỰC HIỆN'}), Node(id='Điều 16', type='Điều', properties={'tiêu_đề': 'Tổ chức thực hiện'}), Node(id='Hiệu Trưởng Nhà Trường', type='Chủ_thể', properties={}), Node(id='Văn Bản Hướng Dẫn Chi Tiết', type='Văn_bản', properties={}), Node(id='Phiếu Đánh Giá Kết Quả Rèn Luyện Của Sinh Viên', type='Văn_bản', properties={}), Node(id='Phòng', type='Bộ_phận', properties={}), Node(id='Ban', type='Bộ_phận', properties={}), Node(id='Khoa', type='Bộ_phận', properties={}), Node(id='Lớp', type='Bộ_phận', properties={}), Node(id='Giáo Viên Chủ Nhiệm', type='Chủ_thể', properties={}), Node(id='Cố Vấn Học Tập', type='Chủ_thể', properties={}), Node(id='Người Học', type='Chủ_thể', properties={}), Node(id='Đơn Vị Chức Năng', type='Bộ_phận', properties={}), Node(id='Bộ Giáo Dục Và Đào Tạo', type='Chủ_thể', properties={})], relationships=[Relationship(source=Node(id='Chương V', type='Chương', properties={}), target=Node(id='Điều 16', type='Điều', properties={}), type='BAO_GỒM', properties={}), Relationship(source=Node(id='Điều 16', type='Điều', properties={}), target=Node(id='Hiệu Trưởng Nhà Trường', type='Chủ_thể', properties={}), type='QUY_ĐỊNH', properties={'hành_động': 'ban hành văn bản hướng dẫn chi tiết'}), Relationship(source=Node(id='Hiệu Trưởng Nhà Trường', type='Chủ_thể', properties={}), target=Node(id='Văn Bản Hướng Dẫn Chi Tiết', type='Văn_bản', properties={}), type='BAN_HÀNH', properties={}), Relationship(source=Node(id='Hiệu Trưởng Nhà Trường', type='Chủ_thể', properties={}), target=Node(id='Phiếu Đánh Giá Kết Quả Rèn Luyện Của Sinh Viên', type='Văn_bản', properties={}), type='BAN_HÀNH', properties={}), Relationship(source=Node(id='Văn Bản Hướng Dẫn Chi Tiết', type='Văn_bản', properties={}), target=Node(id='Phòng', type='Bộ_phận', properties={}), type='QUY_ĐỊNH', properties={'nội_dung': 'trách nhiệm'}), Relationship(source=Node(id='Văn Bản Hướng Dẫn Chi Tiết', type='Văn_bản', properties={}), target=Node(id='Ban', type='Bộ_phận', properties={}), type='QUY_ĐỊNH', properties={'nội_dung': 'trách nhiệm'}), Relationship(source=Node(id='Văn Bản Hướng Dẫn Chi Tiết', type='Văn_bản', properties={}), target=Node(id='Khoa', type='Bộ_phận', properties={}), type='QUY_ĐỊNH', properties={'nội_dung': 'trách nhiệm'}), Relationship(source=Node(id='Văn Bản Hướng Dẫn Chi Tiết', type='Văn_bản', properties={}), target=Node(id='Lớp', type='Bộ_phận', properties={}), type='QUY_ĐỊNH', properties={'nội_dung': 'trách nhiệm'}), Relationship(source=Node(id='Văn Bản Hướng Dẫn Chi Tiết', type='Văn_bản', properties={}), target=Node(id='Giáo Viên Chủ Nhiệm', type='Chủ_thể', properties={}), type='QUY_ĐỊNH', properties={'nội_dung': 'trách nhiệm'}), Relationship(source=Node(id='Văn Bản Hướng Dẫn Chi Tiết', type='Văn_bản', properties={}), target=Node(id='Cố Vấn Học Tập', type='Chủ_thể', properties={}), type='QUY_ĐỊNH', properties={'nội_dung': 'trách nhiệm'}), Relationship(source=Node(id='Văn Bản Hướng Dẫn Chi Tiết', type='Văn_bản', properties={}), target=Node(id='Người Học', type='Chủ_thể', properties={}), type='QUY_ĐỊNH', properties={'nội_dung': 'trách nhiệm'}), Relationship(source=Node(id='Điều 16', type='Điều', properties={}), target=Node(id='Đơn Vị Chức Năng', type='Bộ_phận', properties={}), type='QUY_ĐỊNH', properties={'hành_động': 'tham mưu cho Nhà trường đánh giá, tổng kết và báo cáo'}), Relationship(source=Node(id='Đơn Vị Chức Năng', type='Bộ_phận', properties={}), target=Node(id='Bộ Giáo Dục Và Đào Tạo', type='Chủ_thể', properties={}), type='BÁO_CÁO', properties={})], source=Document(metadata={}, page_content='Chương V: TỔ CHỨC THỰC HIỆN\\nĐiều 16. Tổ chức thực hiện\\n1. Hiệu trưởng Nhà trường ban hành văn bản hướng dẫn chi tiết việc thực hiện Quy định này và mẫu “Phiếu Đánh giá kết quả rèn luyện của sinh viên”; Hàng năm, kiểm tra, đánh giá và sửa đổi bổ sung kịp thời cho phù hợp với điều kiện, phạm vi của nhà trường, ngành học. \\n2. Văn bản hướng dẫn thực hiện và “Phiếu Đánh giá kết quả rèn luyện của sinh viên” phải quy định rõ trách nhiệm của các phòng, ban, khoa, lớp, giáo viên chủ nhiệm/cố vấn học tập và trách nhiệm của người học trong nhà trường; thể hiện rõ, chi tiết các nội dung, tiêu chí, thang điểm và hình thức đánh giá, đối tượng đánh giá phù hợp theo từng năm, phù hợp với đặc thù và điều kiện thực tiễn của nhà trường, của từng khoa, phù hợp với các nội dung đánh giá theo khung điểm quy định của văn bản này. \\n3. Kết thúc năm học, đơn vị chức năng tham mưu cho Nhà trường đánh giá, tổng kết và báo cáo công tác thực hiện Quy định này về Bộ Giáo dục và Đào tạo.'))"
      ]
     },
     "execution_count": 177,
     "metadata": {},
     "output_type": "execute_result"
    }
   ],
   "source": [
    "graph_documents[-1]"
   ]
  },
  {
   "cell_type": "code",
   "execution_count": null,
   "metadata": {},
   "outputs": [],
   "source": [
    "driver.close()\n"
   ]
  },
  {
   "cell_type": "code",
   "execution_count": 9,
   "metadata": {},
   "outputs": [],
   "source": [
    "# Prompt cho tác vụ tìm kiếm(cũ)\n",
    "CYPHER_GENERATION_TEMPLATE = \"\"\"\n",
    "Task: Sinh truy vấn Cypher để truy xuất dữ liệu từ đồ thị tri thức về quy chế đào tạo đại học.\n",
    "\n",
    "Instructions:\n",
    "- Phân tích kỹ câu hỏi và trích xuất các thành phần quan trọng như thực thể (node), quan hệ (edge) và thuộc tính (property).\n",
    "- Chỉ sử dụng các loại node, quan hệ và thuộc tính có trong schema bên dưới. Không thêm bất kỳ phần tử nào không có trong schema.\n",
    "- Các nhãn node được đặt bằng tiếng Việt (ví dụ: :Chương_trình, :Chủ_thể, :Học, :Quy_định...).\n",
    "- Các nhãn quan hệ được đặt bằng tiếng Việt (ví dụ: :ÁP_DỤNG, :HỌC, :QUY_ĐỊNH...).\n",
    "- Truy vấn phải trả lời chính xác câu hỏi dựa trên cấu trúc đồ thị.\n",
    "- Chỉ trả về truy vấn Cypher. Không viết giải thích, ghi chú, hoặc định nghĩa gì thêm.\n",
    "\n",
    "Schema đồ thị:\n",
    "{schema}\n",
    "\n",
    "Ví dụ truy vấn:\n",
    "\n",
    "# Các phương thức đóng học phí bao gồm các phương thức nào?\n",
    "# Cách 1\n",
    "MATCH (n:`Hoạt_động`)-[]->(m)\n",
    "WHERE n.id contains 'Phương Thức Đóng Học Phí'\n",
    "return n, m\n",
    "# Cách 2\n",
    "MATCH (n:`Phương_thức`)-[:`ÁP_DỤNG_CHO`]->(m)\n",
    "WHERE m.id contains 'Sinh Viên'\n",
    "return n.id\n",
    "\n",
    "# Học phần bắt buộc là gì?\n",
    "MATCH (n: Loại_học_phần)\n",
    "WHERE n.id contains 'Học Phần Bắt Buộc'\n",
    "return n.`định_nghĩa`\n",
    "\n",
    "# Khi nào sinh viên bị buộc thôi học?\n",
    "MATCH (n: Chủ_thể)-[:`CÓ_HÀNH_VI`]->(m)-[:`BỊ_XỬ_LÝ`]->(x)\n",
    "WHERE n.id contains 'Sinh Viên' \n",
    "AND x.id contains 'Buộc Thôi Học'\n",
    "return n, m, x\n",
    "\n",
    "# Thời hạn đóng học phí là khi nào?\n",
    "MATCH (n:`Chủ_thể`)-[r1:`PHẢI_TUÂN_THỦ`]->(m)-[r2]->(x)\n",
    "where n.id contains 'Sinh Viên' \n",
    "and m.id contains 'Thời Hạn Đóng Học Phí'\n",
    "RETURN n, r1, m, r2, x \n",
    "\n",
    "The question is:\n",
    "{question}\n",
    "\"\"\"\n"
   ]
  },
  {
   "cell_type": "code",
   "execution_count": 10,
   "metadata": {},
   "outputs": [],
   "source": [
    "# Prompt cho tác vụ tìm kiếm(mới)\n",
    "\n",
    "CYPHER_GENERATION_TEMPLATE = \"\"\"\n",
    "Task: Sinh truy vấn Cypher để truy xuất dữ liệu từ đồ thị tri thức về quy chế đào tạo đại học.\n",
    "\n",
    "Instructions:\n",
    "- Phân tích kỹ câu hỏi và xác định các thành phần quan trọng như thực thể (node), quan hệ (edge), và thuộc tính (property).\n",
    "- Chỉ sử dụng các loại node, quan hệ và thuộc tính có trong schema bên dưới. Không thêm bất kỳ phần tử nào không có trong schema.\n",
    "- Các nhãn node được đặt bằng tiếng Việt (ví dụ: :Chương_trình, :Chủ_thể, :Học, :Quy_định...).\n",
    "- Các loại quan hệ cũng được đặt bằng tiếng Việt (ví dụ: :ÁP_DỤNG, :HỌC, :QUY_ĐỊNH...).\n",
    "- Mọi truy vấn **phải trả về đầy đủ tất cả thuộc tính** của node và relationship bằng `properties(...)`. Nếu cần, sử dụng `type(...)` để lấy tên quan hệ.\n",
    "- **Chỉ được sử dụng phép so sánh `CONTAINS` trong mệnh đề WHERE. Không được sử dụng phép gán bằng (`=`).**\n",
    "- Không viết lời giải thích, ghi chú hoặc định nghĩa. Chỉ trả về truy vấn Cypher.\n",
    "\n",
    "Schema đồ thị:\n",
    "{schema}\n",
    "\n",
    "Ví dụ truy vấn:\n",
    "\n",
    "# Các phương thức đóng học phí bao gồm các phương thức nào?\n",
    "MATCH (n:`Hoạt_động`)-[r]->(m)\n",
    "WHERE n.id CONTAINS 'Phương Thức Đóng Học Phí'\n",
    "RETURN \n",
    "  properties(n) AS n_properties, \n",
    "  type(r) AS r_type, \n",
    "  properties(r) AS r_properties, \n",
    "  properties(m) AS m_properties\n",
    "\n",
    "# Cách các phương thức đóng học phí áp dụng cho sinh viên?\n",
    "MATCH (n:`Phương_thức`)-[r:`ÁP_DỤNG_CHO`]->(m)\n",
    "WHERE m.id CONTAINS 'Sinh Viên'\n",
    "RETURN \n",
    "  properties(n) AS n_properties, \n",
    "  type(r) AS r_type, \n",
    "  properties(r) AS r_properties, \n",
    "  properties(m) AS m_properties\n",
    "\n",
    "# Học phần bắt buộc là gì?\n",
    "MATCH (n:Loại_học_phần)\n",
    "WHERE n.id CONTAINS 'Học Phần Bắt Buộc'\n",
    "RETURN properties(n) AS n_properties\n",
    "\n",
    "# Khi nào sinh viên bị buộc thôi học?\n",
    "MATCH (n:`Chủ_thể`)-[r1:`CÓ_HÀNH_VI`]->(m)-[r2:`BỊ_XỬ_LÝ`]->(x)\n",
    "WHERE n.id CONTAINS 'Sinh Viên' \n",
    "  AND x.id CONTAINS 'Buộc Thôi Học'\n",
    "RETURN \n",
    "  properties(n) AS n_properties, \n",
    "  type(r1) AS r1_type, \n",
    "  properties(r1) AS r1_properties,\n",
    "  properties(m) AS m_properties, \n",
    "  type(r2) AS r2_type, \n",
    "  properties(r2) AS r2_properties, \n",
    "  properties(x) AS x_properties\n",
    "\n",
    "# Thời hạn đóng học phí là khi nào?\n",
    "MATCH (n:`Chủ_thể`)-[r1:`PHẢI_TUÂN_THỦ`]->(m)-[r2]->(x)\n",
    "WHERE n.id CONTAINS 'Sinh Viên' \n",
    "  AND m.id CONTAINS 'Thời Hạn Đóng Học Phí'\n",
    "RETURN \n",
    "  properties(n) AS n_properties, \n",
    "  type(r1) AS r1_type, \n",
    "  properties(r1) AS r1_properties, \n",
    "  properties(m) AS m_properties, \n",
    "  type(r2) AS r2_type, \n",
    "  properties(r2) AS r2_properties, \n",
    "  properties(x) AS x_properties\n",
    "\n",
    "The question is:\n",
    "{question}\n",
    "\"\"\"\n"
   ]
  },
  {
   "cell_type": "code",
   "execution_count": 11,
   "metadata": {},
   "outputs": [],
   "source": [
    "from langchain.prompts.prompt import PromptTemplate\n",
    "\n",
    "CYPHER_GENERATION_PROMPT = PromptTemplate(\n",
    "\tinput_variables=[\"schema\", \"question\"],\n",
    "\ttemplate=CYPHER_GENERATION_TEMPLATE\n",
    ")"
   ]
  },
  {
   "cell_type": "code",
   "execution_count": 23,
   "metadata": {},
   "outputs": [],
   "source": [
    "import os\n",
    "from dotenv import load_dotenv\n",
    "from langchain_deepseek import ChatDeepSeek\n",
    "from langchain_neo4j import GraphCypherQAChain, Neo4jGraph\n",
    "load_dotenv()\n",
    "\n",
    "graph = Neo4jGraph(url=\"bolt://localhost:7687\", username=\"neo4j\", password=\"adminadmin\", database=\"prompt-1-temperature-1\", enhanced_schema=True)\n",
    "\n",
    "# print(graph.schema)\n",
    "\n",
    "# Mô hình deepseek\n",
    "os.environ[\"DEEPSEEK_API_KEY\"] = str(os.getenv(\"DEEPSEEK_API_KEY\"))\n",
    "llm = ChatDeepSeek(\n",
    "\tmodel=\"deepseek-chat\",# deepseek-reasoner, deepseek-chat\n",
    "\ttemperature=0,\n",
    "\tmax_tokens=8000,\n",
    "\ttimeout=None,\n",
    "\tmax_retries=2,\n",
    ")\n",
    "\n",
    "chain = GraphCypherQAChain.from_llm(\n",
    "\tllm,\n",
    "\tgraph=graph,\n",
    "\tverbose=True,\n",
    "\ttop_k=5,\n",
    "\tallow_dangerous_requests=True,\n",
    "\tvalidate_cypher=True,\n",
    "\treturn_intermediate_steps=True,\n",
    "\tcypher_prompt=CYPHER_GENERATION_PROMPT,\n",
    ")"
   ]
  },
  {
   "cell_type": "code",
   "execution_count": 24,
   "metadata": {},
   "outputs": [
    {
     "name": "stderr",
     "output_type": "stream",
     "text": [
      "  0%|          | 0/50 [00:00<?, ?it/s]"
     ]
    },
    {
     "name": "stdout",
     "output_type": "stream",
     "text": [
      "\n",
      "\n",
      "\u001b[1m> Entering new GraphCypherQAChain chain...\u001b[0m\n",
      "Generated Cypher:\n",
      "\u001b[32;1m\u001b[1;3mMATCH (n:`Tổ_chức`)-[r]->(m)\n",
      "WHERE n.id CONTAINS 'Trường Đại Học Quy Nhơn' \n",
      "  AND m.id CONTAINS 'Thư Viện'\n",
      "RETURN \n",
      "  properties(n) AS n_properties, \n",
      "  type(r) AS r_type, \n",
      "  properties(r) AS r_properties, \n",
      "  properties(m) AS m_properties\u001b[0m\n",
      "Full Context:\n",
      "\u001b[32;1m\u001b[1;3m[]\u001b[0m\n"
     ]
    },
    {
     "name": "stderr",
     "output_type": "stream",
     "text": [
      "  2%|▏         | 1/50 [00:16<13:34, 16.62s/it]"
     ]
    },
    {
     "name": "stdout",
     "output_type": "stream",
     "text": [
      "\n",
      "\u001b[1m> Finished chain.\u001b[0m\n",
      "\n",
      "\n",
      "\u001b[1m> Entering new GraphCypherQAChain chain...\u001b[0m\n",
      "Generated Cypher:\n",
      "\u001b[32;1m\u001b[1;3mMATCH (n:`Website`)\n",
      "WHERE n.id CONTAINS 'Thư Viện'\n",
      "RETURN properties(n) AS n_properties\u001b[0m\n",
      "Full Context:\n",
      "\u001b[32;1m\u001b[1;3m[]\u001b[0m\n"
     ]
    },
    {
     "name": "stderr",
     "output_type": "stream",
     "text": [
      "  4%|▍         | 2/50 [00:32<13:10, 16.47s/it]"
     ]
    },
    {
     "name": "stdout",
     "output_type": "stream",
     "text": [
      "\n",
      "\u001b[1m> Finished chain.\u001b[0m\n",
      "\n",
      "\n",
      "\u001b[1m> Entering new GraphCypherQAChain chain...\u001b[0m\n",
      "Generated Cypher:\n",
      "\u001b[32;1m\u001b[1;3mMATCH (n:Khái_niệm)\n",
      "WHERE n.id CONTAINS 'Chương Trình Đào Tạo'\n",
      "RETURN properties(n) AS n_properties\u001b[0m\n",
      "Full Context:\n",
      "\u001b[32;1m\u001b[1;3m[{'n_properties': {'id': 'Chương Trình Đào Tạo', 'mô_tả': 'Chương trình đào tạo theo học', 'phạm_vi': 'Áp dụng chung đối với các hình thức, phương thức tổ chức đào tạo và đối tượng người học khác nhau.', 'định_nghĩa': 'Được xây dựng theo đơn vị tín chỉ, cấu trúc từ các môn học hoặc học phần, bao gồm mục tiêu, khối lượng kiến thức, cấu trúc, nội dung, phương pháp và hình thức đánh giá.'}}, {'n_properties': {'id': 'Khung Chương Trình Đào Tạo'}}, {'n_properties': {'id': 'Học Phần Ngoài Khung Chương Trình Đào Tạo'}}]\u001b[0m\n"
     ]
    },
    {
     "name": "stderr",
     "output_type": "stream",
     "text": [
      "  6%|▌         | 3/50 [00:49<13:05, 16.71s/it]"
     ]
    },
    {
     "name": "stdout",
     "output_type": "stream",
     "text": [
      "\n",
      "\u001b[1m> Finished chain.\u001b[0m\n",
      "\n",
      "\n",
      "\u001b[1m> Entering new GraphCypherQAChain chain...\u001b[0m\n",
      "Generated Cypher:\n",
      "\u001b[32;1m\u001b[1;3mMATCH (n:Loại_học_phần)\n",
      "WHERE n.id CONTAINS 'Học Phần'\n",
      "RETURN properties(n) AS n_properties\u001b[0m\n",
      "Full Context:\n",
      "\u001b[32;1m\u001b[1;3m[{'n_properties': {'id': 'Học Phần Bắt Buộc', 'định_nghĩa': 'Học phần chứa đựng những nội dung kiến thức chính yếu của mỗi chương trình đào tạo và bắt buộc sinh viên phải tích lũy.'}}, {'n_properties': {'id': 'Học Phần Tự Chọn', 'định_nghĩa': 'Học phần chứa đựng những nội dung kiến thức cần thiết, sinh viên được tự chọn theo hướng dẫn của khoa để tích lũy đủ số học phần quy định.'}}, {'n_properties': {'id': 'Học Phần Trước', 'định_nghĩa': 'Học phần A là học phần trước của học phần B, sinh viên chỉ được đăng ký học học phần B khi đã học học phần A.'}}, {'n_properties': {'id': 'Học Phần Tương Đương', 'định_nghĩa': 'Một hay một nhóm học phần thuộc chương trình đào tạo của một ngành khác, được phép tích lũy để thay cho một hay một nhóm học phần trong chương trình đào tạo của ngành, chuyên ngành.'}}, {'n_properties': {'id': 'Học Phần Thay Thế', 'định_nghĩa': 'Học phần được sử dụng để thay thế cho một học phần có trong chương trình nhưng nay không còn tổ chức giảng dạy hoặc là một học phần tự chọn thay cho học phần tự chọn khác.'}}]\u001b[0m\n"
     ]
    },
    {
     "name": "stderr",
     "output_type": "stream",
     "text": [
      "  8%|▊         | 4/50 [01:14<15:06, 19.71s/it]"
     ]
    },
    {
     "name": "stdout",
     "output_type": "stream",
     "text": [
      "\n",
      "\u001b[1m> Finished chain.\u001b[0m\n",
      "\n",
      "\n",
      "\u001b[1m> Entering new GraphCypherQAChain chain...\u001b[0m\n",
      "Generated Cypher:\n",
      "\u001b[32;1m\u001b[1;3mMATCH (n:`Khái_niệm`)-[r]->(m)\n",
      "WHERE n.id CONTAINS 'Thời Gian Học Tập' OR n.id CONTAINS 'Thời Gian Đào Tạo'\n",
      "RETURN \n",
      "  properties(n) AS n_properties, \n",
      "  type(r) AS r_type, \n",
      "  properties(r) AS r_properties, \n",
      "  properties(m) AS m_properties\u001b[0m\n",
      "Full Context:\n",
      "\u001b[32;1m\u001b[1;3m[]\u001b[0m\n"
     ]
    },
    {
     "name": "stderr",
     "output_type": "stream",
     "text": [
      " 10%|█         | 5/50 [01:32<14:27, 19.29s/it]"
     ]
    },
    {
     "name": "stdout",
     "output_type": "stream",
     "text": [
      "\n",
      "\u001b[1m> Finished chain.\u001b[0m\n",
      "\n",
      "\n",
      "\u001b[1m> Entering new GraphCypherQAChain chain...\u001b[0m\n",
      "Generated Cypher:\n",
      "\u001b[32;1m\u001b[1;3m\u001b[0m\n",
      "Full Context:\n",
      "\u001b[32;1m\u001b[1;3m[]\u001b[0m\n"
     ]
    },
    {
     "name": "stderr",
     "output_type": "stream",
     "text": [
      " 12%|█▏        | 6/50 [02:49<28:20, 38.65s/it]"
     ]
    },
    {
     "name": "stdout",
     "output_type": "stream",
     "text": [
      "\n",
      "\u001b[1m> Finished chain.\u001b[0m\n",
      "\n",
      "\n",
      "\u001b[1m> Entering new GraphCypherQAChain chain...\u001b[0m\n",
      "Generated Cypher:\n",
      "\u001b[32;1m\u001b[1;3mMATCH (n:`Hình_thức_đào_tạo`)\n",
      "WHERE n.id CONTAINS 'Hình Thức Đào Tạo Chính Quy' OR n.id CONTAINS 'Đào Tạo Chính Quy'\n",
      "RETURN properties(n) AS n_properties\u001b[0m\n",
      "Full Context:\n",
      "\u001b[32;1m\u001b[1;3m[{'n_properties': {'thời_gian': '4.5 năm đối với ngành kỹ sư, 3.5 năm đối với ngành cử nhân kỹ thuật, 4 năm đối với các ngành còn lại.', 'id': 'Hình Thức Đào Tạo Chính Quy'}}, {'n_properties': {'id': 'Đào Tạo Chính Quy'}}]\u001b[0m\n"
     ]
    },
    {
     "name": "stderr",
     "output_type": "stream",
     "text": [
      " 14%|█▍        | 7/50 [03:03<22:01, 30.73s/it]"
     ]
    },
    {
     "name": "stdout",
     "output_type": "stream",
     "text": [
      "\n",
      "\u001b[1m> Finished chain.\u001b[0m\n",
      "\n",
      "\n",
      "\u001b[1m> Entering new GraphCypherQAChain chain...\u001b[0m\n",
      "Generated Cypher:\n",
      "\u001b[32;1m\u001b[1;3mMATCH (n:`Khái_niệm`)-[r:`ÁP_DỤNG_CHO`]->(m:`Ngành_đào_tạo`)\n",
      "WHERE n.id CONTAINS 'Chuẩn Đầu Ra Tin Học' AND NOT m.id CONTAINS 'Ngành Đào Tạo Ưu Tiên'\n",
      "RETURN \n",
      "  properties(n) AS n_properties, \n",
      "  type(r) AS r_type, \n",
      "  properties(r) AS r_properties, \n",
      "  properties(m) AS m_properties\u001b[0m\n",
      "Full Context:\n",
      "\u001b[32;1m\u001b[1;3m[]\u001b[0m\n"
     ]
    },
    {
     "name": "stderr",
     "output_type": "stream",
     "text": [
      " 16%|█▌        | 8/50 [03:21<18:46, 26.81s/it]"
     ]
    },
    {
     "name": "stdout",
     "output_type": "stream",
     "text": [
      "\n",
      "\u001b[1m> Finished chain.\u001b[0m\n",
      "\n",
      "\n",
      "\u001b[1m> Entering new GraphCypherQAChain chain...\u001b[0m\n",
      "Generated Cypher:\n",
      "\u001b[32;1m\u001b[1;3mMATCH (n:`Chủ_thể`)-[r:`CÓ_QUYỀN`]->(m)\n",
      "WHERE n.id CONTAINS 'Sinh Viên'\n",
      "RETURN \n",
      "  properties(n) AS n_properties, \n",
      "  type(r) AS r_type, \n",
      "  properties(r) AS r_properties, \n",
      "  properties(m) AS m_properties\u001b[0m\n",
      "Full Context:\n",
      "\u001b[32;1m\u001b[1;3m[{'n_properties': {'id': 'Sinh Viên', 'vai_trò': 'Chủ động và có trách nhiệm trong học tập'}, 'r_type': 'CÓ_QUYỀN', 'r_properties': {'mục_đích': 'Cải thiện điểm trung bình chung tích lũy'}, 'm_properties': {'id': 'Đăng Ký Học Lại'}}]\u001b[0m\n"
     ]
    },
    {
     "name": "stderr",
     "output_type": "stream",
     "text": [
      " 18%|█▊        | 9/50 [03:39<16:24, 24.02s/it]"
     ]
    },
    {
     "name": "stdout",
     "output_type": "stream",
     "text": [
      "\n",
      "\u001b[1m> Finished chain.\u001b[0m\n",
      "\n",
      "\n",
      "\u001b[1m> Entering new GraphCypherQAChain chain...\u001b[0m\n",
      "Generated Cypher:\n",
      "\u001b[32;1m\u001b[1;3mMATCH (n:`Khái_niệm`)-[r:`ÁP_DỤNG_CHO`]->(m:`Ngành_đào_tạo`)\n",
      "WHERE n.id CONTAINS 'Khối Lượng Học Tập'\n",
      "RETURN \n",
      "  properties(n) AS n_properties, \n",
      "  type(r) AS r_type, \n",
      "  properties(r) AS r_properties, \n",
      "  properties(m) AS m_properties\u001b[0m\n",
      "Full Context:\n",
      "\u001b[32;1m\u001b[1;3m[]\u001b[0m\n"
     ]
    },
    {
     "name": "stderr",
     "output_type": "stream",
     "text": [
      " 20%|██        | 10/50 [03:55<14:20, 21.50s/it]"
     ]
    },
    {
     "name": "stdout",
     "output_type": "stream",
     "text": [
      "\n",
      "\u001b[1m> Finished chain.\u001b[0m\n",
      "\n",
      "\n",
      "\u001b[1m> Entering new GraphCypherQAChain chain...\u001b[0m\n",
      "Generated Cypher:\n",
      "\u001b[32;1m\u001b[1;3mMATCH (n:Loại_học_phần)\n",
      "RETURN properties(n) AS n_properties\u001b[0m\n",
      "Full Context:\n",
      "\u001b[32;1m\u001b[1;3m[{'n_properties': {'id': 'Học Phần Bắt Buộc', 'định_nghĩa': 'Học phần chứa đựng những nội dung kiến thức chính yếu của mỗi chương trình đào tạo và bắt buộc sinh viên phải tích lũy.'}}, {'n_properties': {'id': 'Học Phần Tự Chọn', 'định_nghĩa': 'Học phần chứa đựng những nội dung kiến thức cần thiết, sinh viên được tự chọn theo hướng dẫn của khoa để tích lũy đủ số học phần quy định.'}}, {'n_properties': {'id': 'Học Phần Trước', 'định_nghĩa': 'Học phần A là học phần trước của học phần B, sinh viên chỉ được đăng ký học học phần B khi đã học học phần A.'}}, {'n_properties': {'id': 'Học Phần Tương Đương', 'định_nghĩa': 'Một hay một nhóm học phần thuộc chương trình đào tạo của một ngành khác, được phép tích lũy để thay cho một hay một nhóm học phần trong chương trình đào tạo của ngành, chuyên ngành.'}}, {'n_properties': {'id': 'Học Phần Thay Thế', 'định_nghĩa': 'Học phần được sử dụng để thay thế cho một học phần có trong chương trình nhưng nay không còn tổ chức giảng dạy hoặc là một học phần tự chọn thay cho học phần tự chọn khác.'}}]\u001b[0m\n"
     ]
    },
    {
     "name": "stderr",
     "output_type": "stream",
     "text": [
      " 22%|██▏       | 11/50 [04:12<12:59, 20.00s/it]"
     ]
    },
    {
     "name": "stdout",
     "output_type": "stream",
     "text": [
      "\n",
      "\u001b[1m> Finished chain.\u001b[0m\n",
      "\n",
      "\n",
      "\u001b[1m> Entering new GraphCypherQAChain chain...\u001b[0m\n",
      "Generated Cypher:\n",
      "\u001b[32;1m\u001b[1;3mMATCH (n:Khái_niệm)\n",
      "WHERE n.id CONTAINS 'Tín Chỉ'\n",
      "RETURN properties(n) AS n_properties\u001b[0m\n",
      "Full Context:\n",
      "\u001b[32;1m\u001b[1;3m[{'n_properties': {'id': 'Tín Chỉ', 'quy_đổi': '1 tín chỉ tương đương 50 giờ học tập định mức.', 'yêu_cầu': 'Tối thiểu 15 giờ giảng hoặc 30 giờ thực hành, thí nghiệm, thảo luận đối với hoạt động dạy học trên lớp; 45 giờ làm tiểu luận, bài tập lớn hoặc đồ án, khoá luận tốt nghiệp, thực tập tại cơ sở.', 'định_nghĩa': 'Đơn vị xác định khối lượng học tập của chương trình đào tạo, của mỗi thành phần hoặc của mỗi học phần trong chương trình đào tạo.'}}, {'n_properties': {'id': 'Số Tín Chỉ'}}, {'n_properties': {'id': 'Số Tín Chỉ Tích Lũy'}}, {'n_properties': {'id': 'Số Tín Chỉ Trung Bình Một Năm Học'}}, {'n_properties': {'id': 'Học Phí/Tín Chỉ'}}]\u001b[0m\n"
     ]
    },
    {
     "name": "stderr",
     "output_type": "stream",
     "text": [
      " 24%|██▍       | 12/50 [04:32<12:47, 20.20s/it]"
     ]
    },
    {
     "name": "stdout",
     "output_type": "stream",
     "text": [
      "\n",
      "\u001b[1m> Finished chain.\u001b[0m\n",
      "\n",
      "\n",
      "\u001b[1m> Entering new GraphCypherQAChain chain...\u001b[0m\n",
      "Generated Cypher:\n",
      "\u001b[32;1m\u001b[1;3mMATCH (n:Loại_học_phần)\n",
      "WHERE n.id CONTAINS 'Học Phần Bắt Buộc'\n",
      "RETURN properties(n) AS n_properties\u001b[0m\n",
      "Full Context:\n",
      "\u001b[32;1m\u001b[1;3m[{'n_properties': {'id': 'Học Phần Bắt Buộc', 'định_nghĩa': 'Học phần chứa đựng những nội dung kiến thức chính yếu của mỗi chương trình đào tạo và bắt buộc sinh viên phải tích lũy.'}}]\u001b[0m\n"
     ]
    },
    {
     "name": "stderr",
     "output_type": "stream",
     "text": [
      " 26%|██▌       | 13/50 [04:50<11:56, 19.38s/it]"
     ]
    },
    {
     "name": "stdout",
     "output_type": "stream",
     "text": [
      "\n",
      "\u001b[1m> Finished chain.\u001b[0m\n",
      "\n",
      "\n",
      "\u001b[1m> Entering new GraphCypherQAChain chain...\u001b[0m\n",
      "Generated Cypher:\n",
      "\u001b[32;1m\u001b[1;3mMATCH (n:Loại_học_phần)\n",
      "WHERE n.id CONTAINS 'Học Phần Tương Đương'\n",
      "RETURN properties(n) AS n_properties\u001b[0m\n",
      "Full Context:\n",
      "\u001b[32;1m\u001b[1;3m[{'n_properties': {'id': 'Học Phần Tương Đương', 'định_nghĩa': 'Một hay một nhóm học phần thuộc chương trình đào tạo của một ngành khác, được phép tích lũy để thay cho một hay một nhóm học phần trong chương trình đào tạo của ngành, chuyên ngành.'}}]\u001b[0m\n"
     ]
    },
    {
     "name": "stderr",
     "output_type": "stream",
     "text": [
      " 28%|██▊       | 14/50 [05:22<13:52, 23.13s/it]"
     ]
    },
    {
     "name": "stdout",
     "output_type": "stream",
     "text": [
      "\n",
      "\u001b[1m> Finished chain.\u001b[0m\n",
      "\n",
      "\n",
      "\u001b[1m> Entering new GraphCypherQAChain chain...\u001b[0m\n",
      "Generated Cypher:\n",
      "\u001b[32;1m\u001b[1;3mMATCH (n:Loại_học_phần)\n",
      "WHERE n.id CONTAINS 'Học Phần Tự Chọn'\n",
      "RETURN properties(n) AS n_properties\u001b[0m\n",
      "Full Context:\n",
      "\u001b[32;1m\u001b[1;3m[{'n_properties': {'id': 'Học Phần Tự Chọn', 'định_nghĩa': 'Học phần chứa đựng những nội dung kiến thức cần thiết, sinh viên được tự chọn theo hướng dẫn của khoa để tích lũy đủ số học phần quy định.'}}]\u001b[0m\n"
     ]
    },
    {
     "name": "stderr",
     "output_type": "stream",
     "text": [
      " 30%|███       | 15/50 [05:38<12:14, 20.99s/it]"
     ]
    },
    {
     "name": "stdout",
     "output_type": "stream",
     "text": [
      "\n",
      "\u001b[1m> Finished chain.\u001b[0m\n",
      "\n",
      "\n",
      "\u001b[1m> Entering new GraphCypherQAChain chain...\u001b[0m\n",
      "Generated Cypher:\n",
      "\u001b[32;1m\u001b[1;3mMATCH (n:Loại_học_phần)\n",
      "WHERE n.id CONTAINS 'Học Phần Điều Kiện'\n",
      "RETURN properties(n) AS n_properties\u001b[0m\n",
      "Full Context:\n",
      "\u001b[32;1m\u001b[1;3m[{'n_properties': {'ví_dụ': 'Giáo dục thể chất, Giáo dục quốc phòng - an ninh.', 'id': 'Học Phần Điều Kiện', 'định_nghĩa': 'Học phần mà sinh viên phải hoàn thành mới được xét tốt nghiệp nhưng điểm không tính vào điểm trung bình chung học kỳ và điểm trung bình chung tích lũy.'}}]\u001b[0m\n"
     ]
    },
    {
     "name": "stderr",
     "output_type": "stream",
     "text": [
      " 32%|███▏      | 16/50 [05:54<11:05, 19.56s/it]"
     ]
    },
    {
     "name": "stdout",
     "output_type": "stream",
     "text": [
      "\n",
      "\u001b[1m> Finished chain.\u001b[0m\n",
      "\n",
      "\n",
      "\u001b[1m> Entering new GraphCypherQAChain chain...\u001b[0m\n",
      "Generated Cypher:\n",
      "\u001b[32;1m\u001b[1;3mMATCH (n:Loại_học_phần)\n",
      "WHERE n.id CONTAINS 'Học Phần Thay Thế'\n",
      "RETURN properties(n) AS n_properties\u001b[0m\n",
      "Full Context:\n",
      "\u001b[32;1m\u001b[1;3m[{'n_properties': {'id': 'Học Phần Thay Thế', 'định_nghĩa': 'Học phần được sử dụng để thay thế cho một học phần có trong chương trình nhưng nay không còn tổ chức giảng dạy hoặc là một học phần tự chọn thay cho học phần tự chọn khác.'}}]\u001b[0m\n"
     ]
    },
    {
     "name": "stderr",
     "output_type": "stream",
     "text": [
      " 34%|███▍      | 17/50 [06:08<09:55, 18.04s/it]"
     ]
    },
    {
     "name": "stdout",
     "output_type": "stream",
     "text": [
      "\n",
      "\u001b[1m> Finished chain.\u001b[0m\n",
      "\n",
      "\n",
      "\u001b[1m> Entering new GraphCypherQAChain chain...\u001b[0m\n",
      "Generated Cypher:\n",
      "\u001b[32;1m\u001b[1;3mMATCH (n:`Hình_thức_đào_tạo`)-[r]->(m)\n",
      "WHERE n.id CONTAINS 'Vừa Làm Vừa Học'\n",
      "RETURN \n",
      "  properties(n) AS n_properties, \n",
      "  type(r) AS r_type, \n",
      "  properties(r) AS r_properties, \n",
      "  properties(m) AS m_properties\u001b[0m\n",
      "Full Context:\n",
      "\u001b[32;1m\u001b[1;3m[{'n_properties': {'thời_gian': 'Dài hơn tối thiểu 20% so với hình thức đào tạo chính quy.', 'id': 'Hình Thức Đào Tạo Vừa Làm Vừa Học'}, 'r_type': 'DÀI_HƠN', 'r_properties': {}, 'm_properties': {'thời_gian': '4.5 năm đối với ngành kỹ sư, 3.5 năm đối với ngành cử nhân kỹ thuật, 4 năm đối với các ngành còn lại.', 'id': 'Hình Thức Đào Tạo Chính Quy'}}, {'n_properties': {'id': 'Đào Tạo Vừa Làm Vừa Học'}, 'r_type': 'THAM_CHIẾU', 'r_properties': {}, 'm_properties': {'id': 'Quy Chế'}}, {'n_properties': {'id': 'Đào Tạo Vừa Làm Vừa Học'}, 'r_type': 'THỰC_HIỆN_TẠI', 'r_properties': {}, 'm_properties': {'id': 'Trường Đại Học Quy Nhơn'}}, {'n_properties': {'id': 'Đào Tạo Vừa Làm Vừa Học'}, 'r_type': 'THỰC_HIỆN_TẠI', 'r_properties': {}, 'm_properties': {'id': 'Cơ Sở Phối Hợp Đào Tạo'}}]\u001b[0m\n"
     ]
    },
    {
     "name": "stderr",
     "output_type": "stream",
     "text": [
      " 36%|███▌      | 18/50 [06:27<09:42, 18.21s/it]"
     ]
    },
    {
     "name": "stdout",
     "output_type": "stream",
     "text": [
      "\n",
      "\u001b[1m> Finished chain.\u001b[0m\n",
      "\n",
      "\n",
      "\u001b[1m> Entering new GraphCypherQAChain chain...\u001b[0m\n",
      "Generated Cypher:\n",
      "\u001b[32;1m\u001b[1;3mMATCH (n:Khái_niệm)\n",
      "WHERE n.id CONTAINS 'Lớp Sinh Viên'\n",
      "RETURN properties(n) AS n_properties\u001b[0m\n",
      "Full Context:\n",
      "\u001b[32;1m\u001b[1;3m[{'n_properties': {'id': 'Lớp Sinh Viên', 'quy_định': 'Hoạt động theo Quy định về công tác sinh viên.', 'mô_tả': 'Bao gồm các sinh viên của một khóa, ngành đào tạo, thông thường được duy trì suốt khóa học. Trường hợp các ngành có đông sinh viên sẽ được chia thành nhiều lớp sinh viên.'}}]\u001b[0m\n"
     ]
    },
    {
     "name": "stderr",
     "output_type": "stream",
     "text": [
      " 38%|███▊      | 19/50 [06:55<10:54, 21.12s/it]"
     ]
    },
    {
     "name": "stdout",
     "output_type": "stream",
     "text": [
      "\n",
      "\u001b[1m> Finished chain.\u001b[0m\n",
      "\n",
      "\n",
      "\u001b[1m> Entering new GraphCypherQAChain chain...\u001b[0m\n",
      "Generated Cypher:\n",
      "\u001b[32;1m\u001b[1;3mMATCH (n:Khái_niệm)\n",
      "WHERE n.id CONTAINS 'Lớp Học Phần'\n",
      "RETURN properties(n) AS n_properties\u001b[0m\n",
      "Full Context:\n",
      "\u001b[32;1m\u001b[1;3m[{'n_properties': {'id': 'Lớp Học Phần', 'mô_tả': 'Gồm các sinh viên đăng ký học cùng một học phần, cùng một thời khóa biểu.', 'số_lượng_tối_thiểu': '60 sinh viên với các học phần chung toàn trường, 25 sinh viên với các học phần chuyên ngành.'}}]\u001b[0m\n"
     ]
    },
    {
     "name": "stderr",
     "output_type": "stream",
     "text": [
      " 40%|████      | 20/50 [07:12<09:59, 20.00s/it]"
     ]
    },
    {
     "name": "stdout",
     "output_type": "stream",
     "text": [
      "\n",
      "\u001b[1m> Finished chain.\u001b[0m\n",
      "\n",
      "\n",
      "\u001b[1m> Entering new GraphCypherQAChain chain...\u001b[0m\n",
      "Generated Cypher:\n",
      "\u001b[32;1m\u001b[1;3mMATCH (n:Phương_thức_đào_tạo)\n",
      "WHERE n.id CONTAINS 'Đào Tạo Theo Niên Chế'\n",
      "RETURN properties(n) AS n_properties\u001b[0m\n",
      "Full Context:\n",
      "\u001b[32;1m\u001b[1;3m[{'n_properties': {'id': 'Đào Tạo Theo Niên Chế', 'định_nghĩa': 'Là phương thức tổ chức đào tạo theo lớp học tương đối cố định đối với tất cả các học phần bắt buộc của chương trình đào tạo trong toàn khóa học, cho phép sinh viên cùng lớp thực hiện theo kế hoạch học tập chuẩn và theo một thời khóa biểu chung, trừ những học phần tự chọn hoặc học lại.'}}]\u001b[0m\n"
     ]
    },
    {
     "name": "stderr",
     "output_type": "stream",
     "text": [
      " 42%|████▏     | 21/50 [07:31<09:28, 19.60s/it]"
     ]
    },
    {
     "name": "stdout",
     "output_type": "stream",
     "text": [
      "\n",
      "\u001b[1m> Finished chain.\u001b[0m\n",
      "\n",
      "\n",
      "\u001b[1m> Entering new GraphCypherQAChain chain...\u001b[0m\n",
      "Generated Cypher:\n",
      "\u001b[32;1m\u001b[1;3mMATCH (n:Phương_thức_đào_tạo)\n",
      "WHERE n.id CONTAINS 'Đào Tạo Theo Tín Chỉ'\n",
      "RETURN properties(n) AS n_properties\u001b[0m\n",
      "Full Context:\n",
      "\u001b[32;1m\u001b[1;3m[{'n_properties': {'id': 'Đào Tạo Theo Tín Chỉ', 'định_nghĩa': 'Là phương thức tổ chức đào tạo theo từng lớp học phần, cho phép sinh viên tích lũy tín chỉ của từng học phần và thực hiện chương trình đào tạo theo kế hoạch học tập của cá nhân, phù hợp với kế hoạch giảng dạy của Trường Đại học Quy Nhơn.'}}]\u001b[0m\n"
     ]
    },
    {
     "name": "stderr",
     "output_type": "stream",
     "text": [
      " 44%|████▍     | 22/50 [07:49<08:55, 19.14s/it]"
     ]
    },
    {
     "name": "stdout",
     "output_type": "stream",
     "text": [
      "\n",
      "\u001b[1m> Finished chain.\u001b[0m\n",
      "\n",
      "\n",
      "\u001b[1m> Entering new GraphCypherQAChain chain...\u001b[0m\n",
      "Generated Cypher:\n",
      "\u001b[32;1m\u001b[1;3mMATCH (n:Hình_thức_đào_tạo)\n",
      "WHERE n.id CONTAINS 'Đào Tạo Chính Quy'\n",
      "RETURN properties(n) AS n_properties\u001b[0m\n",
      "Full Context:\n",
      "\u001b[32;1m\u001b[1;3m[{'n_properties': {'thời_gian': '4.5 năm đối với ngành kỹ sư, 3.5 năm đối với ngành cử nhân kỹ thuật, 4 năm đối với các ngành còn lại.', 'id': 'Hình Thức Đào Tạo Chính Quy'}}, {'n_properties': {'id': 'Đào Tạo Chính Quy'}}]\u001b[0m\n"
     ]
    },
    {
     "name": "stderr",
     "output_type": "stream",
     "text": [
      " 46%|████▌     | 23/50 [08:08<08:37, 19.18s/it]"
     ]
    },
    {
     "name": "stdout",
     "output_type": "stream",
     "text": [
      "\n",
      "\u001b[1m> Finished chain.\u001b[0m\n",
      "\n",
      "\n",
      "\u001b[1m> Entering new GraphCypherQAChain chain...\u001b[0m\n",
      "Generated Cypher:\n",
      "\u001b[32;1m\u001b[1;3mMATCH (n:`Hình_thức_đào_tạo`)\n",
      "WHERE n.id CONTAINS 'Đào Tạo Vừa Làm Vừa Học'\n",
      "RETURN properties(n) AS n_properties\u001b[0m\n",
      "Full Context:\n",
      "\u001b[32;1m\u001b[1;3m[{'n_properties': {'thời_gian': 'Dài hơn tối thiểu 20% so với hình thức đào tạo chính quy.', 'id': 'Hình Thức Đào Tạo Vừa Làm Vừa Học'}}, {'n_properties': {'id': 'Đào Tạo Vừa Làm Vừa Học'}}]\u001b[0m\n"
     ]
    },
    {
     "name": "stderr",
     "output_type": "stream",
     "text": [
      " 48%|████▊     | 24/50 [08:25<08:00, 18.46s/it]"
     ]
    },
    {
     "name": "stdout",
     "output_type": "stream",
     "text": [
      "\n",
      "\u001b[1m> Finished chain.\u001b[0m\n",
      "\n",
      "\n",
      "\u001b[1m> Entering new GraphCypherQAChain chain...\u001b[0m\n",
      "Generated Cypher:\n",
      "\u001b[32;1m\u001b[1;3mMATCH (n:Khái_niệm)\n",
      "WHERE n.id CONTAINS 'Kế Hoạch Năm Học'\n",
      "RETURN properties(n) AS n_properties\u001b[0m\n",
      "Full Context:\n",
      "\u001b[32;1m\u001b[1;3m[{'n_properties': {'thời_gian': '02 hoặc 03 học kỳ chính với tổng số tối thiểu 30 tuần lên lớp.', 'id': 'Kế Hoạch Năm Học', 'định_nghĩa': 'Thể hiện những mốc thời gian chính của các hoạt động đào tạo trong năm học cho tất cả hình thức, chương trình đào tạo.'}}]\u001b[0m\n"
     ]
    },
    {
     "name": "stderr",
     "output_type": "stream",
     "text": [
      " 50%|█████     | 25/50 [08:41<07:24, 17.79s/it]"
     ]
    },
    {
     "name": "stdout",
     "output_type": "stream",
     "text": [
      "\n",
      "\u001b[1m> Finished chain.\u001b[0m\n",
      "\n",
      "\n",
      "\u001b[1m> Entering new GraphCypherQAChain chain...\u001b[0m\n",
      "Generated Cypher:\n",
      "\u001b[32;1m\u001b[1;3mMATCH (n:`Khái_niệm`)-[r:`QUY_ĐỊNH`]->(m)\n",
      "WHERE n.id CONTAINS 'Điểm Đánh Giá Quá Trình'\n",
      "RETURN \n",
      "  properties(n) AS n_properties, \n",
      "  type(r) AS r_type, \n",
      "  properties(r) AS r_properties, \n",
      "  properties(m) AS m_properties\u001b[0m\n",
      "Full Context:\n",
      "\u001b[32;1m\u001b[1;3m[]\u001b[0m\n"
     ]
    },
    {
     "name": "stderr",
     "output_type": "stream",
     "text": [
      " 52%|█████▏    | 26/50 [08:58<07:00, 17.51s/it]"
     ]
    },
    {
     "name": "stdout",
     "output_type": "stream",
     "text": [
      "\n",
      "\u001b[1m> Finished chain.\u001b[0m\n",
      "\n",
      "\n",
      "\u001b[1m> Entering new GraphCypherQAChain chain...\u001b[0m\n",
      "Generated Cypher:\n",
      "\u001b[32;1m\u001b[1;3mMATCH (n:`Khái_niệm`)\n",
      "WHERE n.id CONTAINS 'Điểm Thi Kết Thúc Học Phần' OR n.id CONTAINS 'Thang Điểm'\n",
      "RETURN properties(n) AS n_properties\u001b[0m\n",
      "Full Context:\n",
      "\u001b[32;1m\u001b[1;3m[{'n_properties': {'id': 'Điểm Thi Kết Thúc Học Phần', 'trọng_số': '70%, 60% hoặc 50% điểm học phần'}}, {'n_properties': {'id': 'Thang Điểm 10', 'mô_tả': 'Gồm các số từ 0 đến 10 (với một số lẻ thập phân) được sử dụng để đánh giá và ghi điểm đánh giá quá trình, điểm thi kết thúc học phần và điểm học phần.'}}, {'n_properties': {'id': 'Thang Điểm Chữ', 'mô_tả': 'Dùng để xếp loại học phần theo một cách khác tương ứng với điểm học phần trong thang điểm 10.'}}, {'n_properties': {'id': 'Thang Điểm 4', 'mô_tả': 'Dùng để tính điểm trung bình chung học kỳ, trung bình chung tích lũy, để đánh giá kết quả học tập của sinh viên sau mỗi học kỳ, giai đoạn và xếp loại tốt nghiệp.'}}]\u001b[0m\n"
     ]
    },
    {
     "name": "stderr",
     "output_type": "stream",
     "text": [
      " 54%|█████▍    | 27/50 [09:12<06:18, 16.47s/it]"
     ]
    },
    {
     "name": "stdout",
     "output_type": "stream",
     "text": [
      "\n",
      "\u001b[1m> Finished chain.\u001b[0m\n",
      "\n",
      "\n",
      "\u001b[1m> Entering new GraphCypherQAChain chain...\u001b[0m\n",
      "Generated Cypher:\n",
      "\u001b[32;1m\u001b[1;3mMATCH (n:`Khái_niệm`)-[r]->(m)\n",
      "WHERE n.id CONTAINS 'Điểm Trung Bình Chung Học Kỳ'\n",
      "RETURN \n",
      "  properties(n) AS n_properties, \n",
      "  type(r) AS r_type, \n",
      "  properties(r) AS r_properties, \n",
      "  properties(m) AS m_properties\u001b[0m\n",
      "Full Context:\n",
      "\u001b[32;1m\u001b[1;3m[{'n_properties': {'id': 'Điểm Trung Bình Chung Học Kỳ', 'công_thức': 'A = (Σ (i = 1 -> n) [a_i * n_i]) / (Σ (i = 1 -> n) [n_i])', 'làm_tròn': '2 chữ số thập phân', 'điểm_bao_gồm': 'A+, A, B+, B, C, D, F', 'mục_đích': 'xét thôi học, cảnh báo kết quả học tập, xếp hạng học lực sinh viên, xếp hạng tốt nghiệp'}, 'r_type': 'LIÊN_QUAN_ĐẾN', 'r_properties': {}, 'm_properties': {'thời_gian': 'Một học kỳ', 'id': 'Học Phần', 'kết_cấu': 'Gắn với một mức trình độ theo năm học thiết kế và được kết cấu riêng như một phần của môn học hoặc tổ hợp từ nhiều môn học.', 'mã_số': 'Mã học phần do Trường quy định.', 'khối_lượng': '1 đến 4 tín chỉ', 'tín_chỉ': 'n_i', 'điểm': 'a_i', 'định_nghĩa': 'Tập hợp hoạt động giảng dạy và học tập được thiết kế nhằm thực hiện một số mục tiêu cụ thể, trang bị kiến thức kỹ năng thuộc một phạm vi chuyên môn hẹp trong chương trình đào tạo.'}}]\u001b[0m\n"
     ]
    },
    {
     "name": "stderr",
     "output_type": "stream",
     "text": [
      " 56%|█████▌    | 28/50 [09:38<07:03, 19.24s/it]"
     ]
    },
    {
     "name": "stdout",
     "output_type": "stream",
     "text": [
      "\n",
      "\u001b[1m> Finished chain.\u001b[0m\n",
      "\n",
      "\n",
      "\u001b[1m> Entering new GraphCypherQAChain chain...\u001b[0m\n"
     ]
    },
    {
     "name": "stderr",
     "output_type": "stream",
     "text": [
      " 58%|█████▊    | 29/50 [09:50<06:01, 17.20s/it]"
     ]
    },
    {
     "name": "stdout",
     "output_type": "stream",
     "text": [
      "Generated Cypher:\n",
      "\u001b[32;1m\u001b[1;3mMATCH (n:Khái_niệm)\n",
      "WHERE n.id CONTAINS 'Điểm Trung Bình Chung Tích Lũy'\n",
      "RETURN properties(n) AS n_properties\n",
      "\n",
      "MATCH (n:Khái_niệm)-[r]->(m)\n",
      "WHERE n.id CONTAINS 'Điểm Trung Bình Chung Tích Lũy'\n",
      "RETURN \n",
      "  properties(n) AS n_properties, \n",
      "  type(r) AS r_type, \n",
      "  properties(r) AS r_properties, \n",
      "  properties(m) AS m_properties\u001b[0m\n",
      "\n",
      "\n",
      "\u001b[1m> Entering new GraphCypherQAChain chain...\u001b[0m\n",
      "Generated Cypher:\n",
      "\u001b[32;1m\u001b[1;3mMATCH (n:`Hoạt_động`)\n",
      "WHERE n.id CONTAINS 'Công Tác Sinh Viên'\n",
      "RETURN properties(n) AS n_properties\u001b[0m\n",
      "Full Context:\n",
      "\u001b[32;1m\u001b[1;3m[]\u001b[0m\n"
     ]
    },
    {
     "name": "stderr",
     "output_type": "stream",
     "text": [
      " 60%|██████    | 30/50 [10:05<05:28, 16.40s/it]"
     ]
    },
    {
     "name": "stdout",
     "output_type": "stream",
     "text": [
      "\n",
      "\u001b[1m> Finished chain.\u001b[0m\n",
      "\n",
      "\n",
      "\u001b[1m> Entering new GraphCypherQAChain chain...\u001b[0m\n",
      "Generated Cypher:\n",
      "\u001b[32;1m\u001b[1;3mMATCH (n:`Hình_thức_xử_lý`)\n",
      "RETURN properties(n) AS n_properties\u001b[0m\n",
      "Full Context:\n",
      "\u001b[32;1m\u001b[1;3m[{'n_properties': {'id': 'Cảnh Báo Học Tập', 'điều_kiện': 'Điểm trung bình học kỳ dưới 0.8 (học kỳ đầu) hoặc dưới 1.0 (các học kỳ tiếp theo); Điểm trung bình tích lũy dưới 1.2 (năm thứ nhất), dưới 1.4 (năm thứ hai), dưới 1.6 (năm thứ ba), dưới 1.8 (các năm tiếp theo)'}}, {'n_properties': {'id': 'Buộc Thôi Học', 'điều_kiện': 'Bị cảnh báo 2 lần liên tiếp nhưng vẫn không cải thiện; Vượt quá thời gian tối đa học tập'}}, {'n_properties': {'id': 'Buộc Thôi Học (Niên Chế)', 'điều_kiện': 'Điểm trung bình năm học dưới 0.8; Điểm trung bình tích lũy dưới 1.2 (sau 2 năm), dưới 1.4 (sau 3 năm), dưới 1.6 (sau 4 năm); Vượt quá thời gian học tập tối đa'}}, {'n_properties': {'id': 'Xếp Lớp Học Cùng Khóa Sau'}}, {'n_properties': {'id': 'Xử Lý Kỷ Luật'}}]\u001b[0m\n"
     ]
    },
    {
     "name": "stderr",
     "output_type": "stream",
     "text": [
      " 62%|██████▏   | 31/50 [10:30<06:02, 19.06s/it]"
     ]
    },
    {
     "name": "stdout",
     "output_type": "stream",
     "text": [
      "\n",
      "\u001b[1m> Finished chain.\u001b[0m\n",
      "\n",
      "\n",
      "\u001b[1m> Entering new GraphCypherQAChain chain...\u001b[0m\n",
      "Generated Cypher:\n",
      "\u001b[32;1m\u001b[1;3mMATCH (n:`Khái_niệm`)-[r]->(m)\n",
      "WHERE n.id CONTAINS 'Đánh Giá Kết Quả Học Tập' AND m.id CONTAINS 'Mục Đích'\n",
      "RETURN \n",
      "  properties(n) AS n_properties, \n",
      "  type(r) AS r_type, \n",
      "  properties(r) AS r_properties, \n",
      "  properties(m) AS m_properties\u001b[0m\n",
      "Full Context:\n",
      "\u001b[32;1m\u001b[1;3m[]\u001b[0m\n"
     ]
    },
    {
     "name": "stderr",
     "output_type": "stream",
     "text": [
      " 64%|██████▍   | 32/50 [10:48<05:33, 18.53s/it]"
     ]
    },
    {
     "name": "stdout",
     "output_type": "stream",
     "text": [
      "\n",
      "\u001b[1m> Finished chain.\u001b[0m\n",
      "\n",
      "\n",
      "\u001b[1m> Entering new GraphCypherQAChain chain...\u001b[0m\n",
      "Generated Cypher:\n",
      "\u001b[32;1m\u001b[1;3mMATCH (n:`Học_kỳ`)\n",
      "WHERE n.id CONTAINS 'Học Kỳ Phụ'\n",
      "RETURN properties(n) AS n_properties\u001b[0m\n",
      "Full Context:\n",
      "\u001b[32;1m\u001b[1;3m[{'n_properties': {'id': 'Học Kỳ Phụ'}}]\u001b[0m\n"
     ]
    },
    {
     "name": "stderr",
     "output_type": "stream",
     "text": [
      " 66%|██████▌   | 33/50 [10:58<04:35, 16.22s/it]"
     ]
    },
    {
     "name": "stdout",
     "output_type": "stream",
     "text": [
      "\n",
      "\u001b[1m> Finished chain.\u001b[0m\n",
      "\n",
      "\n",
      "\u001b[1m> Entering new GraphCypherQAChain chain...\u001b[0m\n",
      "Generated Cypher:\n",
      "\u001b[32;1m\u001b[1;3mMATCH (n:`Chủ_thể`)\n",
      "WHERE n.id CONTAINS 'Giảng Viên' AND n.vai_trò CONTAINS ''\n",
      "RETURN properties(n) AS n_properties\u001b[0m\n",
      "Full Context:\n",
      "\u001b[32;1m\u001b[1;3m[{'n_properties': {'id': 'Đội Ngũ Giảng Viên', 'vai_trò': 'Phát huy năng lực chuyên môn và trách nhiệm nghề nghiệp'}}]\u001b[0m\n"
     ]
    },
    {
     "name": "stderr",
     "output_type": "stream",
     "text": [
      " 68%|██████▊   | 34/50 [11:12<04:06, 15.44s/it]"
     ]
    },
    {
     "name": "stdout",
     "output_type": "stream",
     "text": [
      "\n",
      "\u001b[1m> Finished chain.\u001b[0m\n",
      "\n",
      "\n",
      "\u001b[1m> Entering new GraphCypherQAChain chain...\u001b[0m\n",
      "Generated Cypher:\n",
      "\u001b[32;1m\u001b[1;3mMATCH (n:Khái_niệm)\n",
      "WHERE n.id CONTAINS 'Điểm xếp loại P'\n",
      "RETURN properties(n) AS n_properties\u001b[0m\n",
      "Full Context:\n",
      "\u001b[32;1m\u001b[1;3m[]\u001b[0m\n"
     ]
    },
    {
     "name": "stderr",
     "output_type": "stream",
     "text": [
      " 70%|███████   | 35/50 [11:25<03:42, 14.81s/it]"
     ]
    },
    {
     "name": "stdout",
     "output_type": "stream",
     "text": [
      "\n",
      "\u001b[1m> Finished chain.\u001b[0m\n",
      "\n",
      "\n",
      "\u001b[1m> Entering new GraphCypherQAChain chain...\u001b[0m\n",
      "Generated Cypher:\n",
      "\u001b[32;1m\u001b[1;3mMATCH (n:Khái_niệm)\n",
      "WHERE n.id CONTAINS 'Xếp loại I'\n",
      "RETURN properties(n) AS n_properties\u001b[0m\n",
      "Full Context:\n",
      "\u001b[32;1m\u001b[1;3m[]\u001b[0m\n"
     ]
    },
    {
     "name": "stderr",
     "output_type": "stream",
     "text": [
      " 72%|███████▏  | 36/50 [11:41<03:29, 14.93s/it]"
     ]
    },
    {
     "name": "stdout",
     "output_type": "stream",
     "text": [
      "\n",
      "\u001b[1m> Finished chain.\u001b[0m\n",
      "\n",
      "\n",
      "\u001b[1m> Entering new GraphCypherQAChain chain...\u001b[0m\n",
      "Generated Cypher:\n",
      "\u001b[32;1m\u001b[1;3mMATCH (n:Khái_niệm)\n",
      "WHERE n.id CONTAINS 'Xếp loại M'\n",
      "RETURN properties(n) AS n_properties\u001b[0m\n",
      "Full Context:\n",
      "\u001b[32;1m\u001b[1;3m[]\u001b[0m\n"
     ]
    },
    {
     "name": "stderr",
     "output_type": "stream",
     "text": [
      " 74%|███████▍  | 37/50 [11:59<03:28, 16.02s/it]"
     ]
    },
    {
     "name": "stdout",
     "output_type": "stream",
     "text": [
      "\n",
      "\u001b[1m> Finished chain.\u001b[0m\n",
      "\n",
      "\n",
      "\u001b[1m> Entering new GraphCypherQAChain chain...\u001b[0m\n",
      "Generated Cypher:\n",
      "\u001b[32;1m\u001b[1;3mMATCH (n:`Khái_niệm`)-[r]->(m)\n",
      "WHERE n.id CONTAINS 'Xếp loại A' AND m.id CONTAINS 'Thang điểm 4'\n",
      "RETURN \n",
      "  properties(n) AS n_properties, \n",
      "  type(r) AS r_type, \n",
      "  properties(r) AS r_properties, \n",
      "  properties(m) AS m_properties\u001b[0m\n",
      "Full Context:\n",
      "\u001b[32;1m\u001b[1;3m[]\u001b[0m\n"
     ]
    },
    {
     "name": "stderr",
     "output_type": "stream",
     "text": [
      " 76%|███████▌  | 38/50 [12:15<03:10, 15.91s/it]"
     ]
    },
    {
     "name": "stdout",
     "output_type": "stream",
     "text": [
      "\n",
      "\u001b[1m> Finished chain.\u001b[0m\n",
      "\n",
      "\n",
      "\u001b[1m> Entering new GraphCypherQAChain chain...\u001b[0m\n",
      "Generated Cypher:\n",
      "\u001b[32;1m\u001b[1;3m\u001b[0m\n",
      "Full Context:\n",
      "\u001b[32;1m\u001b[1;3m[]\u001b[0m\n"
     ]
    },
    {
     "name": "stderr",
     "output_type": "stream",
     "text": [
      " 78%|███████▊  | 39/50 [12:32<02:59, 16.34s/it]"
     ]
    },
    {
     "name": "stdout",
     "output_type": "stream",
     "text": [
      "\n",
      "\u001b[1m> Finished chain.\u001b[0m\n",
      "\n",
      "\n",
      "\u001b[1m> Entering new GraphCypherQAChain chain...\u001b[0m\n",
      "Generated Cypher:\n",
      "\u001b[32;1m\u001b[1;3mMATCH (n:`Khái_niệm`)\n",
      "WHERE n.id CONTAINS 'Xếp Loại Học Lực' OR n.id CONTAINS 'Xếp Loại' OR n.id CONTAINS 'Học Lực'\n",
      "RETURN properties(n) AS n_properties\u001b[0m\n",
      "Full Context:\n",
      "\u001b[32;1m\u001b[1;3m[]\u001b[0m\n"
     ]
    },
    {
     "name": "stderr",
     "output_type": "stream",
     "text": [
      " 80%|████████  | 40/50 [12:51<02:51, 17.16s/it]"
     ]
    },
    {
     "name": "stdout",
     "output_type": "stream",
     "text": [
      "\n",
      "\u001b[1m> Finished chain.\u001b[0m\n",
      "\n",
      "\n",
      "\u001b[1m> Entering new GraphCypherQAChain chain...\u001b[0m\n",
      "Generated Cypher:\n",
      "\u001b[32;1m\u001b[1;3mMATCH (n:`Khái_niệm`)\n",
      "WHERE n.id CONTAINS 'Câu Hỏi Thi Trắc Nghiệm' OR n.các_loại CONTAINS 'trắc nghiệm'\n",
      "RETURN properties(n) AS n_properties\u001b[0m\n",
      "Full Context:\n",
      "\u001b[32;1m\u001b[1;3m[{'n_properties': {'id': 'Hình Thức Thi', 'duyệt_bởi': 'Hiệu trưởng', 'các_loại': 'Tự luận, trắc nghiệm, trắc nghiệm trên máy tính, vấn đáp, thực hành'}}]\u001b[0m\n"
     ]
    },
    {
     "name": "stderr",
     "output_type": "stream",
     "text": [
      " 82%|████████▏ | 41/50 [13:03<02:21, 15.71s/it]"
     ]
    },
    {
     "name": "stdout",
     "output_type": "stream",
     "text": [
      "\n",
      "\u001b[1m> Finished chain.\u001b[0m\n",
      "\n",
      "\n",
      "\u001b[1m> Entering new GraphCypherQAChain chain...\u001b[0m\n",
      "Generated Cypher:\n",
      "\u001b[32;1m\u001b[1;3mMATCH (n:`Chủ_thể`)-[r]->(m)\n",
      "WHERE n.id CONTAINS 'Ban Tổ Chức Kỳ Thi Kết Thúc Học Phần'\n",
      "RETURN \n",
      "  properties(n) AS n_properties, \n",
      "  type(r) AS r_type, \n",
      "  properties(r) AS r_properties, \n",
      "  properties(m) AS m_properties\u001b[0m\n",
      "Full Context:\n",
      "\u001b[32;1m\u001b[1;3m[]\u001b[0m\n"
     ]
    },
    {
     "name": "stderr",
     "output_type": "stream",
     "text": [
      " 84%|████████▍ | 42/50 [13:19<02:04, 15.54s/it]"
     ]
    },
    {
     "name": "stdout",
     "output_type": "stream",
     "text": [
      "\n",
      "\u001b[1m> Finished chain.\u001b[0m\n",
      "\n",
      "\n",
      "\u001b[1m> Entering new GraphCypherQAChain chain...\u001b[0m\n",
      "Generated Cypher:\n",
      "\u001b[32;1m\u001b[1;3mMATCH (n:`Chủ_thể`)\n",
      "WHERE n.id CONTAINS 'Cán Bộ Kỹ Thuật'\n",
      "RETURN properties(n) AS n_properties\u001b[0m\n",
      "Full Context:\n",
      "\u001b[32;1m\u001b[1;3m[]\u001b[0m\n"
     ]
    },
    {
     "name": "stderr",
     "output_type": "stream",
     "text": [
      " 86%|████████▌ | 43/50 [13:31<01:42, 14.64s/it]"
     ]
    },
    {
     "name": "stdout",
     "output_type": "stream",
     "text": [
      "\n",
      "\u001b[1m> Finished chain.\u001b[0m\n",
      "\n",
      "\n",
      "\u001b[1m> Entering new GraphCypherQAChain chain...\u001b[0m\n",
      "Generated Cypher:\n",
      "\u001b[32;1m\u001b[1;3mMATCH (n:Khái_niệm)\n",
      "WHERE n.id CONTAINS 'Chi phí bồi hoàn'\n",
      "RETURN properties(n) AS n_properties\u001b[0m\n",
      "Full Context:\n",
      "\u001b[32;1m\u001b[1;3m[]\u001b[0m\n"
     ]
    },
    {
     "name": "stderr",
     "output_type": "stream",
     "text": [
      " 88%|████████▊ | 44/50 [13:46<01:27, 14.66s/it]"
     ]
    },
    {
     "name": "stdout",
     "output_type": "stream",
     "text": [
      "\n",
      "\u001b[1m> Finished chain.\u001b[0m\n",
      "\n",
      "\n",
      "\u001b[1m> Entering new GraphCypherQAChain chain...\u001b[0m\n",
      "Generated Cypher:\n",
      "\u001b[32;1m\u001b[1;3mMATCH (n:`Khái_niệm`)\n",
      "WHERE n.id CONTAINS 'Công Thức Tính Chi Phí Bồi Hoàn'\n",
      "RETURN properties(n) AS n_properties\u001b[0m\n",
      "Full Context:\n",
      "\u001b[32;1m\u001b[1;3m[]\u001b[0m\n"
     ]
    },
    {
     "name": "stderr",
     "output_type": "stream",
     "text": [
      " 90%|█████████ | 45/50 [13:57<01:08, 13.69s/it]"
     ]
    },
    {
     "name": "stdout",
     "output_type": "stream",
     "text": [
      "\n",
      "\u001b[1m> Finished chain.\u001b[0m\n",
      "\n",
      "\n",
      "\u001b[1m> Entering new GraphCypherQAChain chain...\u001b[0m\n",
      "Generated Cypher:\n",
      "\u001b[32;1m\u001b[1;3mMATCH (n:`Phương_thức`)-[r:`ÁP_DỤNG_CHO`]->(m)\n",
      "WHERE n.id CONTAINS 'Nộp Qua Ngân Hàng'\n",
      "RETURN \n",
      "  properties(n) AS n_properties, \n",
      "  type(r) AS r_type, \n",
      "  properties(r) AS r_properties, \n",
      "  properties(m) AS m_properties\u001b[0m\n",
      "Full Context:\n",
      "\u001b[32;1m\u001b[1;3m[{'n_properties': {'id': 'Nộp Qua Ngân Hàng'}, 'r_type': 'ÁP_DỤNG_CHO', 'r_properties': {}, 'm_properties': {'id': 'Sinh Viên Đã Học Xong Một Học Kỳ'}}]\u001b[0m\n"
     ]
    },
    {
     "name": "stderr",
     "output_type": "stream",
     "text": [
      " 92%|█████████▏| 46/50 [14:13<00:57, 14.42s/it]"
     ]
    },
    {
     "name": "stdout",
     "output_type": "stream",
     "text": [
      "\n",
      "\u001b[1m> Finished chain.\u001b[0m\n",
      "\n",
      "\n",
      "\u001b[1m> Entering new GraphCypherQAChain chain...\u001b[0m\n",
      "Generated Cypher:\n",
      "\u001b[32;1m\u001b[1;3mMATCH (n:`Mức_học_bổng`)\n",
      "RETURN properties(n) AS n_properties\u001b[0m\n",
      "Full Context:\n",
      "\u001b[32;1m\u001b[1;3m[{'n_properties': {'id': 'Mức Học Bổng Loại Khá', 'mức_tối_thiểu': 'Bằng hoặc cao hơn mức trần học phí hiện hành của ngành nghề', 'điều_kiện': 'Điểm trung bình chung học tập đạt loại Khá trở lên và điểm rèn luyện đạt loại Khá trở lên'}}, {'n_properties': {'id': 'Mức Học Bổng Loại Giỏi', 'mức': 'Cao hơn loại Khá', 'điều_kiện': 'Điểm trung bình chung học tập đạt loại Giỏi trở lên và điểm rèn luyện đạt loại Tốt trở lên'}}, {'n_properties': {'id': 'Mức Học Bổng Loại Xuất Sắc', 'mức': 'Cao hơn loại Giỏi', 'điều_kiện': 'Điểm trung bình chung học tập đạt loại Xuất sắc và điểm rèn luyện đạt loại Xuất sắc'}}]\u001b[0m\n"
     ]
    },
    {
     "name": "stderr",
     "output_type": "stream",
     "text": [
      " 94%|█████████▍| 47/50 [14:42<00:55, 18.53s/it]"
     ]
    },
    {
     "name": "stdout",
     "output_type": "stream",
     "text": [
      "\n",
      "\u001b[1m> Finished chain.\u001b[0m\n",
      "\n",
      "\n",
      "\u001b[1m> Entering new GraphCypherQAChain chain...\u001b[0m\n",
      "Generated Cypher:\n",
      "\u001b[32;1m\u001b[1;3mMATCH (n:`Mức_học_bổng`)\n",
      "RETURN properties(n) AS n_properties\u001b[0m\n",
      "Full Context:\n",
      "\u001b[32;1m\u001b[1;3m[{'n_properties': {'id': 'Mức Học Bổng Loại Khá', 'mức_tối_thiểu': 'Bằng hoặc cao hơn mức trần học phí hiện hành của ngành nghề', 'điều_kiện': 'Điểm trung bình chung học tập đạt loại Khá trở lên và điểm rèn luyện đạt loại Khá trở lên'}}, {'n_properties': {'id': 'Mức Học Bổng Loại Giỏi', 'mức': 'Cao hơn loại Khá', 'điều_kiện': 'Điểm trung bình chung học tập đạt loại Giỏi trở lên và điểm rèn luyện đạt loại Tốt trở lên'}}, {'n_properties': {'id': 'Mức Học Bổng Loại Xuất Sắc', 'mức': 'Cao hơn loại Giỏi', 'điều_kiện': 'Điểm trung bình chung học tập đạt loại Xuất sắc và điểm rèn luyện đạt loại Xuất sắc'}}]\u001b[0m\n"
     ]
    },
    {
     "name": "stderr",
     "output_type": "stream",
     "text": [
      " 96%|█████████▌| 48/50 [15:07<00:41, 20.65s/it]"
     ]
    },
    {
     "name": "stdout",
     "output_type": "stream",
     "text": [
      "\n",
      "\u001b[1m> Finished chain.\u001b[0m\n",
      "\n",
      "\n",
      "\u001b[1m> Entering new GraphCypherQAChain chain...\u001b[0m\n",
      "Generated Cypher:\n",
      "\u001b[32;1m\u001b[1;3m\u001b[0m\n",
      "Full Context:\n",
      "\u001b[32;1m\u001b[1;3m[]\u001b[0m\n"
     ]
    },
    {
     "name": "stderr",
     "output_type": "stream",
     "text": [
      " 98%|█████████▊| 49/50 [15:23<00:19, 19.35s/it]"
     ]
    },
    {
     "name": "stdout",
     "output_type": "stream",
     "text": [
      "\n",
      "\u001b[1m> Finished chain.\u001b[0m\n",
      "\n",
      "\n",
      "\u001b[1m> Entering new GraphCypherQAChain chain...\u001b[0m\n",
      "Generated Cypher:\n",
      "\u001b[32;1m\u001b[1;3mMATCH (n:`Khái_niệm`)-[r]->(m)\n",
      "WHERE n.id CONTAINS 'Khảo Sát Người Học'\n",
      "RETURN \n",
      "  properties(n) AS n_properties, \n",
      "  type(r) AS r_type, \n",
      "  properties(r) AS r_properties, \n",
      "  properties(m) AS m_properties\u001b[0m\n",
      "Full Context:\n",
      "\u001b[32;1m\u001b[1;3m[]\u001b[0m\n"
     ]
    },
    {
     "name": "stderr",
     "output_type": "stream",
     "text": [
      "100%|██████████| 50/50 [15:52<00:00, 19.05s/it]\n"
     ]
    },
    {
     "name": "stdout",
     "output_type": "stream",
     "text": [
      "\n",
      "\u001b[1m> Finished chain.\u001b[0m\n"
     ]
    },
    {
     "name": "stderr",
     "output_type": "stream",
     "text": [
      "  0%|          | 0/79 [00:00<?, ?it/s]"
     ]
    },
    {
     "name": "stdout",
     "output_type": "stream",
     "text": [
      "\n",
      "\n",
      "\u001b[1m> Entering new GraphCypherQAChain chain...\u001b[0m\n",
      "Generated Cypher:\n",
      "\u001b[32;1m\u001b[1;3mMATCH (n:`Tài_liệu`)\n",
      "RETURN properties(n) AS n_properties\u001b[0m\n",
      "Full Context:\n",
      "\u001b[32;1m\u001b[1;3m[{'n_properties': {'id': 'Đề Cương Chi Tiết Học Phần', 'nội_dung': 'Mục tiêu, chuẩn đầu ra, số lượng tín chỉ, điều kiện tiên quyết, phương pháp và hình thức tổ chức dạy học, kế hoạch giảng dạy chi tiết, đánh giá kết quả học tập, tài liệu phục vụ môn học, điều kiện thí nghiệm, thực hành, thực tập phục vụ học phần.'}}, {'n_properties': {'id': 'Hợp Đồng Liên Kết Đào Tạo'}}, {'n_properties': {'id': 'Quy Định Về Liên Kết'}}, {'n_properties': {'id': 'Báo Cáo Tự Đánh Giá Chất Lượng'}}, {'n_properties': {'id': 'Quy Chế Về Tuyển Sinh'}}]\u001b[0m\n"
     ]
    },
    {
     "name": "stderr",
     "output_type": "stream",
     "text": [
      "  1%|▏         | 1/79 [00:20<27:03, 20.81s/it]"
     ]
    },
    {
     "name": "stdout",
     "output_type": "stream",
     "text": [
      "\n",
      "\u001b[1m> Finished chain.\u001b[0m\n",
      "\n",
      "\n",
      "\u001b[1m> Entering new GraphCypherQAChain chain...\u001b[0m\n",
      "Generated Cypher:\n",
      "\u001b[32;1m\u001b[1;3mMATCH (n:`Tài_khoản`)<-[r]-(m)\n",
      "WHERE m.id CONTAINS 'Thư Viện'\n",
      "RETURN \n",
      "  properties(n) AS n_properties, \n",
      "  type(r) AS r_type, \n",
      "  properties(r) AS r_properties, \n",
      "  properties(m) AS m_properties\u001b[0m\n",
      "Full Context:\n",
      "\u001b[32;1m\u001b[1;3m[]\u001b[0m\n"
     ]
    },
    {
     "name": "stderr",
     "output_type": "stream",
     "text": [
      "  3%|▎         | 2/79 [00:38<24:22, 19.00s/it]"
     ]
    },
    {
     "name": "stdout",
     "output_type": "stream",
     "text": [
      "\n",
      "\u001b[1m> Finished chain.\u001b[0m\n",
      "\n",
      "\n",
      "\u001b[1m> Entering new GraphCypherQAChain chain...\u001b[0m\n",
      "Generated Cypher:\n",
      "\u001b[32;1m\u001b[1;3m\u001b[0m\n",
      "Full Context:\n",
      "\u001b[32;1m\u001b[1;3m[]\u001b[0m\n"
     ]
    },
    {
     "name": "stderr",
     "output_type": "stream",
     "text": [
      "  4%|▍         | 3/79 [01:00<25:55, 20.46s/it]"
     ]
    },
    {
     "name": "stdout",
     "output_type": "stream",
     "text": [
      "\n",
      "\u001b[1m> Finished chain.\u001b[0m\n",
      "\n",
      "\n",
      "\u001b[1m> Entering new GraphCypherQAChain chain...\u001b[0m\n",
      "Generated Cypher:\n",
      "\u001b[32;1m\u001b[1;3mMATCH (n:`Khái_niệm`)-[r:`ÁP_DỤNG_CHO`]->(m)\n",
      "WHERE n.id CONTAINS 'Chuẩn Đầu Ra Tin Học' \n",
      "  AND m.id CONTAINS 'Sinh Viên Ngành Công Nghệ Thông Tin'\n",
      "RETURN \n",
      "  properties(n) AS n_properties, \n",
      "  type(r) AS r_type, \n",
      "  properties(r) AS r_properties, \n",
      "  properties(m) AS m_properties\u001b[0m\n",
      "Full Context:\n",
      "\u001b[32;1m\u001b[1;3m[]\u001b[0m\n"
     ]
    },
    {
     "name": "stderr",
     "output_type": "stream",
     "text": [
      "  5%|▌         | 4/79 [01:17<23:47, 19.03s/it]"
     ]
    },
    {
     "name": "stdout",
     "output_type": "stream",
     "text": [
      "\n",
      "\u001b[1m> Finished chain.\u001b[0m\n",
      "\n",
      "\n",
      "\u001b[1m> Entering new GraphCypherQAChain chain...\u001b[0m\n",
      "Generated Cypher:\n",
      "\u001b[32;1m\u001b[1;3mMATCH (n:`Khái_niệm`)-[r]->(m)\n",
      "WHERE n.id CONTAINS 'Chuẩn Đầu Ra Tin Học'\n",
      "RETURN \n",
      "  properties(n) AS n_properties, \n",
      "  type(r) AS r_type, \n",
      "  properties(r) AS r_properties, \n",
      "  properties(m) AS m_properties\u001b[0m\n",
      "Full Context:\n",
      "\u001b[32;1m\u001b[1;3m[]\u001b[0m\n"
     ]
    },
    {
     "name": "stderr",
     "output_type": "stream",
     "text": [
      "  6%|▋         | 5/79 [01:33<21:53, 17.75s/it]"
     ]
    },
    {
     "name": "stdout",
     "output_type": "stream",
     "text": [
      "\n",
      "\u001b[1m> Finished chain.\u001b[0m\n",
      "\n",
      "\n",
      "\u001b[1m> Entering new GraphCypherQAChain chain...\u001b[0m\n",
      "Generated Cypher:\n",
      "\u001b[32;1m\u001b[1;3mMATCH (n:Loại_học_phần)\n",
      "WHERE n.id CONTAINS 'Học Phần Điều Kiện'\n",
      "RETURN properties(n) AS n_properties\u001b[0m\n",
      "Full Context:\n",
      "\u001b[32;1m\u001b[1;3m[{'n_properties': {'ví_dụ': 'Giáo dục thể chất, Giáo dục quốc phòng - an ninh.', 'id': 'Học Phần Điều Kiện', 'định_nghĩa': 'Học phần mà sinh viên phải hoàn thành mới được xét tốt nghiệp nhưng điểm không tính vào điểm trung bình chung học kỳ và điểm trung bình chung tích lũy.'}}]\u001b[0m\n"
     ]
    },
    {
     "name": "stderr",
     "output_type": "stream",
     "text": [
      "  8%|▊         | 6/79 [01:46<19:56, 16.39s/it]"
     ]
    },
    {
     "name": "stdout",
     "output_type": "stream",
     "text": [
      "\n",
      "\u001b[1m> Finished chain.\u001b[0m\n",
      "\n",
      "\n",
      "\u001b[1m> Entering new GraphCypherQAChain chain...\u001b[0m\n",
      "Generated Cypher:\n",
      "\u001b[32;1m\u001b[1;3mMATCH (n:`Phương_thức_đào_tạo`)\n",
      "RETURN properties(n) AS n_properties\u001b[0m\n",
      "Full Context:\n",
      "\u001b[32;1m\u001b[1;3m[{'n_properties': {'id': 'Đào Tạo Theo Niên Chế', 'định_nghĩa': 'Là phương thức tổ chức đào tạo theo lớp học tương đối cố định đối với tất cả các học phần bắt buộc của chương trình đào tạo trong toàn khóa học, cho phép sinh viên cùng lớp thực hiện theo kế hoạch học tập chuẩn và theo một thời khóa biểu chung, trừ những học phần tự chọn hoặc học lại.'}}, {'n_properties': {'id': 'Đào Tạo Theo Tín Chỉ', 'định_nghĩa': 'Là phương thức tổ chức đào tạo theo từng lớp học phần, cho phép sinh viên tích lũy tín chỉ của từng học phần và thực hiện chương trình đào tạo theo kế hoạch học tập của cá nhân, phù hợp với kế hoạch giảng dạy của Trường Đại học Quy Nhơn.'}}]\u001b[0m\n"
     ]
    },
    {
     "name": "stderr",
     "output_type": "stream",
     "text": [
      "  9%|▉         | 7/79 [02:06<21:08, 17.61s/it]"
     ]
    },
    {
     "name": "stdout",
     "output_type": "stream",
     "text": [
      "\n",
      "\u001b[1m> Finished chain.\u001b[0m\n",
      "\n",
      "\n",
      "\u001b[1m> Entering new GraphCypherQAChain chain...\u001b[0m\n",
      "Generated Cypher:\n",
      "\u001b[32;1m\u001b[1;3mMATCH (n:`Hình_thức_đào_tạo`)\n",
      "RETURN properties(n) AS n_properties\u001b[0m\n",
      "Full Context:\n",
      "\u001b[32;1m\u001b[1;3m[{'n_properties': {'thời_gian': '4.5 năm đối với ngành kỹ sư, 3.5 năm đối với ngành cử nhân kỹ thuật, 4 năm đối với các ngành còn lại.', 'id': 'Hình Thức Đào Tạo Chính Quy'}}, {'n_properties': {'thời_gian': 'Dài hơn tối thiểu 20% so với hình thức đào tạo chính quy.', 'id': 'Hình Thức Đào Tạo Vừa Làm Vừa Học'}}, {'n_properties': {'id': 'Đào Tạo Chính Quy'}}, {'n_properties': {'id': 'Đào Tạo Vừa Làm Vừa Học'}}]\u001b[0m\n"
     ]
    },
    {
     "name": "stderr",
     "output_type": "stream",
     "text": [
      " 10%|█         | 8/79 [02:29<22:45, 19.23s/it]"
     ]
    },
    {
     "name": "stdout",
     "output_type": "stream",
     "text": [
      "\n",
      "\u001b[1m> Finished chain.\u001b[0m\n",
      "\n",
      "\n",
      "\u001b[1m> Entering new GraphCypherQAChain chain...\u001b[0m\n",
      "Generated Cypher:\n",
      "\u001b[32;1m\u001b[1;3mMATCH (n:`Tổ_chức`)<-[r]-(m:`Hình_thức_đào_tạo`)\n",
      "WHERE n.id CONTAINS 'Trường Đại Học Quy Nhơn'\n",
      "RETURN \n",
      "  properties(n) AS n_properties, \n",
      "  type(r) AS r_type, \n",
      "  properties(r) AS r_properties, \n",
      "  properties(m) AS m_properties\u001b[0m\n",
      "Full Context:\n",
      "\u001b[32;1m\u001b[1;3m[{'n_properties': {'id': 'Trường Đại Học Quy Nhơn'}, 'r_type': 'THỰC_HIỆN_TẠI', 'r_properties': {}, 'm_properties': {'id': 'Đào Tạo Chính Quy'}}, {'n_properties': {'id': 'Trường Đại Học Quy Nhơn'}, 'r_type': 'THỰC_HIỆN_TẠI', 'r_properties': {}, 'm_properties': {'id': 'Đào Tạo Vừa Làm Vừa Học'}}]\u001b[0m\n"
     ]
    },
    {
     "name": "stderr",
     "output_type": "stream",
     "text": [
      " 11%|█▏        | 9/79 [02:47<21:55, 18.80s/it]"
     ]
    },
    {
     "name": "stdout",
     "output_type": "stream",
     "text": [
      "\n",
      "\u001b[1m> Finished chain.\u001b[0m\n",
      "\n",
      "\n",
      "\u001b[1m> Entering new GraphCypherQAChain chain...\u001b[0m\n",
      "Generated Cypher:\n",
      "\u001b[32;1m\u001b[1;3mMATCH (n:`Đợt_đăng_ký`)\n",
      "RETURN properties(n) AS n_properties\u001b[0m\n",
      "Full Context:\n",
      "\u001b[32;1m\u001b[1;3m[{'n_properties': {'id': 'Đợt 1'}}, {'n_properties': {'id': 'Đợt 2'}}, {'n_properties': {'id': 'Đợt 3'}}]\u001b[0m\n"
     ]
    },
    {
     "name": "stderr",
     "output_type": "stream",
     "text": [
      " 13%|█▎        | 10/79 [03:02<20:21, 17.70s/it]"
     ]
    },
    {
     "name": "stdout",
     "output_type": "stream",
     "text": [
      "\n",
      "\u001b[1m> Finished chain.\u001b[0m\n",
      "\n",
      "\n",
      "\u001b[1m> Entering new GraphCypherQAChain chain...\u001b[0m\n",
      "Generated Cypher:\n",
      "\u001b[32;1m\u001b[1;3mMATCH (n:`Khái_niệm`)-[r]->(m)\n",
      "WHERE n.id CONTAINS 'Khoá Luận Tốt Nghiệp' \n",
      "  AND m.id CONTAINS 'Ngành Đào Tạo Kỹ Sư'\n",
      "RETURN \n",
      "  properties(n) AS n_properties, \n",
      "  type(r) AS r_type, \n",
      "  properties(r) AS r_properties, \n",
      "  properties(m) AS m_properties\u001b[0m\n",
      "Full Context:\n",
      "\u001b[32;1m\u001b[1;3m[]\u001b[0m\n"
     ]
    },
    {
     "name": "stderr",
     "output_type": "stream",
     "text": [
      " 14%|█▍        | 11/79 [03:17<19:11, 16.93s/it]"
     ]
    },
    {
     "name": "stdout",
     "output_type": "stream",
     "text": [
      "\n",
      "\u001b[1m> Finished chain.\u001b[0m\n",
      "\n",
      "\n",
      "\u001b[1m> Entering new GraphCypherQAChain chain...\u001b[0m\n",
      "Generated Cypher:\n",
      "\u001b[32;1m\u001b[1;3m\u001b[0m\n",
      "Full Context:\n",
      "\u001b[32;1m\u001b[1;3m[]\u001b[0m\n"
     ]
    },
    {
     "name": "stderr",
     "output_type": "stream",
     "text": [
      " 15%|█▌        | 12/79 [03:38<20:09, 18.06s/it]"
     ]
    },
    {
     "name": "stdout",
     "output_type": "stream",
     "text": [
      "\n",
      "\u001b[1m> Finished chain.\u001b[0m\n",
      "\n",
      "\n",
      "\u001b[1m> Entering new GraphCypherQAChain chain...\u001b[0m\n",
      "Generated Cypher:\n",
      "\u001b[32;1m\u001b[1;3mMATCH (n:`Chủ_thể`)-[r]->(m)\n",
      "WHERE n.id CONTAINS 'Hội Đồng Đánh Giá Khóa Luận Tốt Nghiệp' \n",
      "  AND m.id CONTAINS 'Số Thành Viên'\n",
      "RETURN \n",
      "  properties(n) AS n_properties, \n",
      "  type(r) AS r_type, \n",
      "  properties(r) AS r_properties, \n",
      "  properties(m) AS m_properties\u001b[0m\n",
      "Full Context:\n",
      "\u001b[32;1m\u001b[1;3m[]\u001b[0m\n"
     ]
    },
    {
     "name": "stderr",
     "output_type": "stream",
     "text": [
      " 16%|█▋        | 13/79 [03:56<19:58, 18.16s/it]"
     ]
    },
    {
     "name": "stdout",
     "output_type": "stream",
     "text": [
      "\n",
      "\u001b[1m> Finished chain.\u001b[0m\n",
      "\n",
      "\n",
      "\u001b[1m> Entering new GraphCypherQAChain chain...\u001b[0m\n",
      "Generated Cypher:\n",
      "\u001b[32;1m\u001b[1;3mMATCH (n:`Khái_niệm`)-[r]->(m)\n",
      "WHERE n.id CONTAINS 'Khoá Luận Tốt Nghiệp' AND (type(r) CONTAINS 'CÁCH_TÍNH' OR type(r) CONTAINS 'QUY_ĐỊNH')\n",
      "RETURN \n",
      "  properties(n) AS n_properties, \n",
      "  type(r) AS r_type, \n",
      "  properties(r) AS r_properties, \n",
      "  properties(m) AS m_properties\u001b[0m\n",
      "Full Context:\n",
      "\u001b[32;1m\u001b[1;3m[]\u001b[0m\n"
     ]
    },
    {
     "name": "stderr",
     "output_type": "stream",
     "text": [
      " 18%|█▊        | 14/79 [04:14<19:38, 18.13s/it]"
     ]
    },
    {
     "name": "stdout",
     "output_type": "stream",
     "text": [
      "\n",
      "\u001b[1m> Finished chain.\u001b[0m\n",
      "\n",
      "\n",
      "\u001b[1m> Entering new GraphCypherQAChain chain...\u001b[0m\n",
      "Generated Cypher:\n",
      "\u001b[32;1m\u001b[1;3mMATCH (n:`Chủ_thể`)-[r:`CÓ_QUYỀN`]->(m)\n",
      "WHERE n.id CONTAINS 'Sinh Viên' \n",
      "  AND m.id CONTAINS 'Cải Thiện Điểm Trung Bình Chung Tích Lũy'\n",
      "RETURN \n",
      "  properties(n) AS n_properties, \n",
      "  type(r) AS r_type, \n",
      "  properties(r) AS r_properties, \n",
      "  properties(m) AS m_properties\u001b[0m\n",
      "Full Context:\n",
      "\u001b[32;1m\u001b[1;3m[]\u001b[0m\n"
     ]
    },
    {
     "name": "stderr",
     "output_type": "stream",
     "text": [
      " 19%|█▉        | 15/79 [04:33<19:23, 18.17s/it]"
     ]
    },
    {
     "name": "stdout",
     "output_type": "stream",
     "text": [
      "\n",
      "\u001b[1m> Finished chain.\u001b[0m\n",
      "\n",
      "\n",
      "\u001b[1m> Entering new GraphCypherQAChain chain...\u001b[0m\n",
      "Generated Cypher:\n",
      "\u001b[32;1m\u001b[1;3mMATCH (n:`Chủ_thể`)-[r:`CÓ_QUYỀN`]->(m)\n",
      "WHERE n.id CONTAINS 'Sinh Viên' \n",
      "  AND r.mục_đích CONTAINS 'Cải thiện điểm trung bình chung tích lũy'\n",
      "RETURN \n",
      "  properties(n) AS n_properties, \n",
      "  type(r) AS r_type, \n",
      "  properties(r) AS r_properties, \n",
      "  properties(m) AS m_properties\u001b[0m\n",
      "Full Context:\n",
      "\u001b[32;1m\u001b[1;3m[{'n_properties': {'id': 'Sinh Viên', 'vai_trò': 'Chủ động và có trách nhiệm trong học tập'}, 'r_type': 'CÓ_QUYỀN', 'r_properties': {'mục_đích': 'Cải thiện điểm trung bình chung tích lũy'}, 'm_properties': {'id': 'Đăng Ký Học Lại'}}]\u001b[0m\n"
     ]
    },
    {
     "name": "stderr",
     "output_type": "stream",
     "text": [
      " 20%|██        | 16/79 [04:53<19:46, 18.83s/it]"
     ]
    },
    {
     "name": "stdout",
     "output_type": "stream",
     "text": [
      "\n",
      "\u001b[1m> Finished chain.\u001b[0m\n",
      "\n",
      "\n",
      "\u001b[1m> Entering new GraphCypherQAChain chain...\u001b[0m\n",
      "Generated Cypher:\n",
      "\u001b[32;1m\u001b[1;3mMATCH (n:`Khái_niệm`)\n",
      "WHERE n.id CONTAINS 'Điểm Trung Bình Chung Học Kỳ'\n",
      "RETURN properties(n) AS n_properties\u001b[0m\n",
      "Full Context:\n",
      "\u001b[32;1m\u001b[1;3m[{'n_properties': {'id': 'Điểm Trung Bình Chung Học Kỳ', 'công_thức': 'A = (Σ (i = 1 -> n) [a_i * n_i]) / (Σ (i = 1 -> n) [n_i])', 'làm_tròn': '2 chữ số thập phân', 'điểm_bao_gồm': 'A+, A, B+, B, C, D, F', 'mục_đích': 'xét thôi học, cảnh báo kết quả học tập, xếp hạng học lực sinh viên, xếp hạng tốt nghiệp'}}]\u001b[0m\n"
     ]
    },
    {
     "name": "stderr",
     "output_type": "stream",
     "text": [
      " 22%|██▏       | 17/79 [05:08<18:12, 17.62s/it]"
     ]
    },
    {
     "name": "stdout",
     "output_type": "stream",
     "text": [
      "\n",
      "\u001b[1m> Finished chain.\u001b[0m\n",
      "\n",
      "\n",
      "\u001b[1m> Entering new GraphCypherQAChain chain...\u001b[0m\n",
      "Generated Cypher:\n",
      "\u001b[32;1m\u001b[1;3mMATCH (n:`Khái_niệm`)\n",
      "WHERE n.id CONTAINS 'Xếp loại học lực' OR n.thang_điểm CONTAINS '10'\n",
      "RETURN properties(n) AS n_properties\u001b[0m\n",
      "Full Context:\n",
      "\u001b[32;1m\u001b[1;3m[{'n_properties': {'id': 'Điểm Đánh Giá', 'cách_tính': 'Trung bình cộng các điểm thành phần', 'làm_tròn': '1 chữ số thập phân', 'thang_điểm': '10'}}]\u001b[0m\n"
     ]
    },
    {
     "name": "stderr",
     "output_type": "stream",
     "text": [
      " 23%|██▎       | 18/79 [05:24<17:25, 17.14s/it]"
     ]
    },
    {
     "name": "stdout",
     "output_type": "stream",
     "text": [
      "\n",
      "\u001b[1m> Finished chain.\u001b[0m\n",
      "\n",
      "\n",
      "\u001b[1m> Entering new GraphCypherQAChain chain...\u001b[0m\n",
      "Generated Cypher:\n",
      "\u001b[32;1m\u001b[1;3mMATCH (n:`Mức_học_bổng`)\n",
      "WHERE n.id CONTAINS 'Loại Giỏi'\n",
      "RETURN properties(n) AS n_properties\u001b[0m\n",
      "Full Context:\n",
      "\u001b[32;1m\u001b[1;3m[{'n_properties': {'id': 'Mức Học Bổng Loại Giỏi', 'mức': 'Cao hơn loại Khá', 'điều_kiện': 'Điểm trung bình chung học tập đạt loại Giỏi trở lên và điểm rèn luyện đạt loại Tốt trở lên'}}]\u001b[0m\n"
     ]
    },
    {
     "name": "stderr",
     "output_type": "stream",
     "text": [
      " 24%|██▍       | 19/79 [05:40<16:56, 16.94s/it]"
     ]
    },
    {
     "name": "stdout",
     "output_type": "stream",
     "text": [
      "\n",
      "\u001b[1m> Finished chain.\u001b[0m\n",
      "\n",
      "\n",
      "\u001b[1m> Entering new GraphCypherQAChain chain...\u001b[0m\n",
      "Generated Cypher:\n",
      "\u001b[32;1m\u001b[1;3mMATCH (n:`Khái_niệm`)\n",
      "WHERE n.id CONTAINS 'Điểm Trung Bình Chung Tích Lũy' OR n.id CONTAINS 'Xuất Sắc'\n",
      "RETURN properties(n) AS n_properties\u001b[0m\n",
      "Full Context:\n",
      "\u001b[32;1m\u001b[1;3m[{'n_properties': {'id': 'Điểm Trung Bình Chung Tích Lũy', 'công_thức': 'A = (Σ (i = 1 -> n) [a_i * n_i]) / (Σ (i = 1 -> n) [n_i])', 'làm_tròn': '2 chữ số thập phân', 'điểm_bao_gồm': 'A+, A, B+, B, C, D', 'mục_đích': 'xét thôi học, cảnh báo kết quả học tập, xếp hạng học lực sinh viên, xếp hạng tốt nghiệp'}}, {'n_properties': {'id': 'Xuất Sắc'}}]\u001b[0m\n"
     ]
    },
    {
     "name": "stderr",
     "output_type": "stream",
     "text": [
      " 25%|██▌       | 20/79 [06:00<17:32, 17.84s/it]"
     ]
    },
    {
     "name": "stdout",
     "output_type": "stream",
     "text": [
      "\n",
      "\u001b[1m> Finished chain.\u001b[0m\n",
      "\n",
      "\n",
      "\u001b[1m> Entering new GraphCypherQAChain chain...\u001b[0m\n",
      "Generated Cypher:\n",
      "\u001b[32;1m\u001b[1;3m\u001b[0m\n",
      "Full Context:\n",
      "\u001b[32;1m\u001b[1;3m[]\u001b[0m\n"
     ]
    },
    {
     "name": "stderr",
     "output_type": "stream",
     "text": [
      " 27%|██▋       | 21/79 [06:20<17:39, 18.27s/it]"
     ]
    },
    {
     "name": "stdout",
     "output_type": "stream",
     "text": [
      "\n",
      "\u001b[1m> Finished chain.\u001b[0m\n",
      "\n",
      "\n",
      "\u001b[1m> Entering new GraphCypherQAChain chain...\u001b[0m\n",
      "Generated Cypher:\n",
      "\u001b[32;1m\u001b[1;3mMATCH (n:`Chủ_thể`)-[r1:`CÓ_HÀNH_VI`]->(m)-[r2:`BỊ_XỬ_LÝ`]->(x)\n",
      "WHERE n.id CONTAINS 'Sinh Viên' \n",
      "  AND x.id CONTAINS 'Buộc Thôi Học'\n",
      "RETURN \n",
      "  properties(n) AS n_properties, \n",
      "  type(r1) AS r1_type, \n",
      "  properties(r1) AS r1_properties,\n",
      "  properties(m) AS m_properties, \n",
      "  type(r2) AS r2_type, \n",
      "  properties(r2) AS r2_properties, \n",
      "  properties(x) AS x_properties\u001b[0m\n",
      "Full Context:\n",
      "\u001b[32;1m\u001b[1;3m[{'n_properties': {'id': 'Sinh Viên', 'vai_trò': 'Chủ động và có trách nhiệm trong học tập'}, 'r1_type': 'CÓ_HÀNH_VI', 'r1_properties': {}, 'm_properties': {'id': 'Thi Hộ Hoặc Nhờ Người Thi Hộ'}, 'r2_type': 'BỊ_XỬ_LÝ', 'r2_properties': {}, 'x_properties': {'id': 'Buộc Thôi Học', 'điều_kiện': 'Bị cảnh báo 2 lần liên tiếp nhưng vẫn không cải thiện; Vượt quá thời gian tối đa học tập'}}]\u001b[0m\n"
     ]
    },
    {
     "name": "stderr",
     "output_type": "stream",
     "text": [
      " 28%|██▊       | 22/79 [06:41<18:12, 19.16s/it]"
     ]
    },
    {
     "name": "stdout",
     "output_type": "stream",
     "text": [
      "\n",
      "\u001b[1m> Finished chain.\u001b[0m\n",
      "\n",
      "\n",
      "\u001b[1m> Entering new GraphCypherQAChain chain...\u001b[0m\n",
      "Generated Cypher:\n",
      "\u001b[32;1m\u001b[1;3mMATCH (n:`Khái_niệm`)-[r]->(m)\n",
      "WHERE n.id CONTAINS 'Điều Kiện Tốt Nghiệp'\n",
      "RETURN \n",
      "  properties(n) AS n_properties, \n",
      "  type(r) AS r_type, \n",
      "  properties(r) AS r_properties, \n",
      "  properties(m) AS m_properties\u001b[0m\n",
      "Full Context:\n",
      "\u001b[32;1m\u001b[1;3m[]\u001b[0m\n"
     ]
    },
    {
     "name": "stderr",
     "output_type": "stream",
     "text": [
      " 29%|██▉       | 23/79 [06:59<17:28, 18.72s/it]"
     ]
    },
    {
     "name": "stdout",
     "output_type": "stream",
     "text": [
      "\n",
      "\u001b[1m> Finished chain.\u001b[0m\n",
      "\n",
      "\n",
      "\u001b[1m> Entering new GraphCypherQAChain chain...\u001b[0m\n",
      "Generated Cypher:\n",
      "\u001b[32;1m\u001b[1;3mMATCH (n:`Khái_niệm`)-[r]->(m)\n",
      "WHERE n.id CONTAINS 'Hạng Tốt Nghiệp' OR n.id CONTAINS 'Xếp Hạng Tốt Nghiệp'\n",
      "RETURN \n",
      "  properties(n) AS n_properties, \n",
      "  type(r) AS r_type, \n",
      "  properties(r) AS r_properties, \n",
      "  properties(m) AS m_properties\u001b[0m\n",
      "Full Context:\n",
      "\u001b[32;1m\u001b[1;3m[{'n_properties': {'id': 'Hạng Tốt Nghiệp', 'xácĐịnhTheo': 'điểm trung bình chung tích lũy của toàn khóa học'}, 'r_type': 'BỊ_ẢNH_HƯỞNG_BỞI', 'r_properties': {}, 'm_properties': {'id': 'Kỷ Luật', 'mức': 'từ mức cảnh cáo trở lên'}}, {'n_properties': {'id': 'Hạng Tốt Nghiệp', 'xácĐịnhTheo': 'điểm trung bình chung tích lũy của toàn khóa học'}, 'r_type': 'BỊ_ẢNH_HƯỞNG_BỞI', 'r_properties': {}, 'm_properties': {'id': 'Học Phần Phải Học Lại', 'khốiLượngVượtQuá': '5% so với tổng số tín chỉ quy định cho toàn chương trình'}}, {'n_properties': {'id': 'Hạng Tốt Nghiệp', 'xácĐịnhTheo': 'điểm trung bình chung tích lũy của toàn khóa học'}, 'r_type': 'PHỤ_THUỘC_VÀO', 'r_properties': {}, 'm_properties': {'id': 'Điểm Trung Bình Tích Lũy'}}]\u001b[0m\n"
     ]
    },
    {
     "name": "stderr",
     "output_type": "stream",
     "text": [
      " 30%|███       | 24/79 [07:21<18:04, 19.71s/it]"
     ]
    },
    {
     "name": "stdout",
     "output_type": "stream",
     "text": [
      "\n",
      "\u001b[1m> Finished chain.\u001b[0m\n",
      "\n",
      "\n",
      "\u001b[1m> Entering new GraphCypherQAChain chain...\u001b[0m\n",
      "Generated Cypher:\n",
      "\u001b[32;1m\u001b[1;3mMATCH (n:`Khái_niệm`)-[r]->(m)\n",
      "WHERE n.id CONTAINS 'Hạng Tốt Nghiệp'\n",
      "RETURN \n",
      "  properties(n) AS n_properties, \n",
      "  type(r) AS r_type, \n",
      "  properties(r) AS r_properties, \n",
      "  properties(m) AS m_properties\u001b[0m\n",
      "Full Context:\n",
      "\u001b[32;1m\u001b[1;3m[{'n_properties': {'id': 'Hạng Tốt Nghiệp', 'xácĐịnhTheo': 'điểm trung bình chung tích lũy của toàn khóa học'}, 'r_type': 'BỊ_ẢNH_HƯỞNG_BỞI', 'r_properties': {}, 'm_properties': {'id': 'Kỷ Luật', 'mức': 'từ mức cảnh cáo trở lên'}}, {'n_properties': {'id': 'Hạng Tốt Nghiệp', 'xácĐịnhTheo': 'điểm trung bình chung tích lũy của toàn khóa học'}, 'r_type': 'BỊ_ẢNH_HƯỞNG_BỞI', 'r_properties': {}, 'm_properties': {'id': 'Học Phần Phải Học Lại', 'khốiLượngVượtQuá': '5% so với tổng số tín chỉ quy định cho toàn chương trình'}}, {'n_properties': {'id': 'Hạng Tốt Nghiệp', 'xácĐịnhTheo': 'điểm trung bình chung tích lũy của toàn khóa học'}, 'r_type': 'PHỤ_THUỘC_VÀO', 'r_properties': {}, 'm_properties': {'id': 'Điểm Trung Bình Tích Lũy'}}]\u001b[0m\n"
     ]
    },
    {
     "name": "stderr",
     "output_type": "stream",
     "text": [
      " 32%|███▏      | 25/79 [07:42<18:08, 20.16s/it]"
     ]
    },
    {
     "name": "stdout",
     "output_type": "stream",
     "text": [
      "\n",
      "\u001b[1m> Finished chain.\u001b[0m\n",
      "\n",
      "\n",
      "\u001b[1m> Entering new GraphCypherQAChain chain...\u001b[0m\n",
      "Generated Cypher:\n",
      "\u001b[32;1m\u001b[1;3mMATCH (n:`Chủ_thể`)-[r1]->(m:`Hoạt_động`)-[r2]->(x)\n",
      "WHERE n.id CONTAINS 'Sinh Viên' \n",
      "  AND m.id CONTAINS 'Bảo Lưu Học Tập'\n",
      "RETURN \n",
      "  properties(n) AS n_properties, \n",
      "  type(r1) AS r1_type, \n",
      "  properties(r1) AS r1_properties, \n",
      "  properties(m) AS m_properties, \n",
      "  type(r2) AS r2_type, \n",
      "  properties(r2) AS r2_properties, \n",
      "  properties(x) AS x_properties\u001b[0m\n",
      "Full Context:\n",
      "\u001b[32;1m\u001b[1;3m[]\u001b[0m\n"
     ]
    },
    {
     "name": "stderr",
     "output_type": "stream",
     "text": [
      " 33%|███▎      | 26/79 [08:00<17:15, 19.53s/it]"
     ]
    },
    {
     "name": "stdout",
     "output_type": "stream",
     "text": [
      "\n",
      "\u001b[1m> Finished chain.\u001b[0m\n",
      "\n",
      "\n",
      "\u001b[1m> Entering new GraphCypherQAChain chain...\u001b[0m\n",
      "Generated Cypher:\n",
      "\u001b[32;1m\u001b[1;3mMATCH (n:`Tình_trạng`)<-[r]-(m:`Hoạt_động`)\n",
      "WHERE m.id CONTAINS 'Nghỉ Học Tạm Thời'\n",
      "RETURN \n",
      "  properties(n) AS n_properties, \n",
      "  type(r) AS r_type, \n",
      "  properties(r) AS r_properties, \n",
      "  properties(m) AS m_properties\u001b[0m\n",
      "Full Context:\n",
      "\u001b[32;1m\u001b[1;3m[{'n_properties': {'id': 'Ốm, Thai Sản Hoặc Tai Nạn'}, 'r_type': 'TRONG_TRƯỜNG_HỢP', 'r_properties': {}, 'm_properties': {'id': 'Nghỉ Học Tạm Thời'}}, {'n_properties': {'id': 'Lý Do Cá Nhân'}, 'r_type': 'TRONG_TRƯỜNG_HỢP', 'r_properties': {}, 'm_properties': {'id': 'Nghỉ Học Tạm Thời'}}]\u001b[0m\n"
     ]
    },
    {
     "name": "stderr",
     "output_type": "stream",
     "text": [
      " 34%|███▍      | 27/79 [08:18<16:38, 19.20s/it]"
     ]
    },
    {
     "name": "stdout",
     "output_type": "stream",
     "text": [
      "\n",
      "\u001b[1m> Finished chain.\u001b[0m\n",
      "\n",
      "\n",
      "\u001b[1m> Entering new GraphCypherQAChain chain...\u001b[0m\n",
      "Generated Cypher:\n",
      "\u001b[32;1m\u001b[1;3mMATCH (n:`Chủ_thể`)-[r:`CÓ_THỂ_CHUYỂN`]->(m)\n",
      "WHERE n.id CONTAINS 'Sinh Viên' \n",
      "  AND m.id CONTAINS 'Ngành'\n",
      "RETURN \n",
      "  properties(n) AS n_properties, \n",
      "  type(r) AS r_type, \n",
      "  properties(r) AS r_properties, \n",
      "  properties(m) AS m_properties\u001b[0m\n",
      "Full Context:\n",
      "\u001b[32;1m\u001b[1;3m[]\u001b[0m\n"
     ]
    },
    {
     "name": "stderr",
     "output_type": "stream",
     "text": [
      " 35%|███▌      | 28/79 [08:36<15:49, 18.62s/it]"
     ]
    },
    {
     "name": "stdout",
     "output_type": "stream",
     "text": [
      "\n",
      "\u001b[1m> Finished chain.\u001b[0m\n",
      "\n",
      "\n",
      "\u001b[1m> Entering new GraphCypherQAChain chain...\u001b[0m\n",
      "Generated Cypher:\n",
      "\u001b[32;1m\u001b[1;3mMATCH (n:`Chủ_thể`)-[r]->(m)\n",
      "WHERE n.id CONTAINS 'Sinh Viên' \n",
      "  AND m.id CONTAINS 'Song Ngành'\n",
      "RETURN \n",
      "  properties(n) AS n_properties, \n",
      "  type(r) AS r_type, \n",
      "  properties(r) AS r_properties, \n",
      "  properties(m) AS m_properties\u001b[0m\n",
      "Full Context:\n",
      "\u001b[32;1m\u001b[1;3m[]\u001b[0m\n"
     ]
    },
    {
     "name": "stderr",
     "output_type": "stream",
     "text": [
      " 37%|███▋      | 29/79 [08:51<14:42, 17.64s/it]"
     ]
    },
    {
     "name": "stdout",
     "output_type": "stream",
     "text": [
      "\n",
      "\u001b[1m> Finished chain.\u001b[0m\n",
      "\n",
      "\n",
      "\u001b[1m> Entering new GraphCypherQAChain chain...\u001b[0m\n",
      "Generated Cypher:\n",
      "\u001b[32;1m\u001b[1;3mMATCH (n:`Chủ_thể`)-[r1:`PHẢI_ĐÁP_ỨNG`]->(m)\n",
      "WHERE n.id CONTAINS 'Sinh Viên' \n",
      "  AND m.id CONTAINS 'Yêu Cầu'\n",
      "RETURN \n",
      "  properties(n) AS n_properties, \n",
      "  type(r1) AS r1_type, \n",
      "  properties(r1) AS r1_properties, \n",
      "  properties(m) AS m_properties\u001b[0m\n",
      "Full Context:\n",
      "\u001b[32;1m\u001b[1;3m[]\u001b[0m\n"
     ]
    },
    {
     "name": "stderr",
     "output_type": "stream",
     "text": [
      " 38%|███▊      | 30/79 [09:11<15:07, 18.52s/it]"
     ]
    },
    {
     "name": "stdout",
     "output_type": "stream",
     "text": [
      "\n",
      "\u001b[1m> Finished chain.\u001b[0m\n",
      "\n",
      "\n",
      "\u001b[1m> Entering new GraphCypherQAChain chain...\u001b[0m\n",
      "Generated Cypher:\n",
      "\u001b[32;1m\u001b[1;3mMATCH (n:`Chủ_thể`)-[r1:`CÓ_HÀNH_VI`]->(m)-[r2:`BỊ_XỬ_LÝ`]->(x)\n",
      "WHERE n.id CONTAINS 'Sinh Viên' \n",
      "  AND m.id CONTAINS 'Thi Hộ Hoặc Nhờ Người Thi Hộ'\n",
      "RETURN \n",
      "  properties(n) AS n_properties, \n",
      "  type(r1) AS r1_type, \n",
      "  properties(r1) AS r1_properties,\n",
      "  properties(m) AS m_properties, \n",
      "  type(r2) AS r2_type, \n",
      "  properties(r2) AS r2_properties, \n",
      "  properties(x) AS x_properties\u001b[0m\n",
      "Full Context:\n",
      "\u001b[32;1m\u001b[1;3m[{'n_properties': {'id': 'Sinh Viên', 'vai_trò': 'Chủ động và có trách nhiệm trong học tập'}, 'r1_type': 'CÓ_HÀNH_VI', 'r1_properties': {}, 'm_properties': {'id': 'Thi Hộ Hoặc Nhờ Người Thi Hộ'}, 'r2_type': 'BỊ_XỬ_LÝ', 'r2_properties': {}, 'x_properties': {'id': 'Buộc Thôi Học', 'điều_kiện': 'Bị cảnh báo 2 lần liên tiếp nhưng vẫn không cải thiện; Vượt quá thời gian tối đa học tập'}}, {'n_properties': {'id': 'Sinh Viên', 'vai_trò': 'Chủ động và có trách nhiệm trong học tập'}, 'r1_type': 'CÓ_HÀNH_VI', 'r1_properties': {}, 'm_properties': {'id': 'Thi Hộ Hoặc Nhờ Người Thi Hộ'}, 'r2_type': 'BỊ_XỬ_LÝ', 'r2_properties': {}, 'x_properties': {'id': 'Đình Chỉ Học Tập 01 Năm'}}]\u001b[0m\n"
     ]
    },
    {
     "name": "stderr",
     "output_type": "stream",
     "text": [
      " 39%|███▉      | 31/79 [09:37<16:29, 20.61s/it]"
     ]
    },
    {
     "name": "stdout",
     "output_type": "stream",
     "text": [
      "\n",
      "\u001b[1m> Finished chain.\u001b[0m\n",
      "\n",
      "\n",
      "\u001b[1m> Entering new GraphCypherQAChain chain...\u001b[0m\n",
      "Generated Cypher:\n",
      "\u001b[32;1m\u001b[1;3mMATCH (n:`Khái_niệm`)-[r:`ÁP_DỤNG_CHO`]->(m:`Chủ_thể`)\n",
      "WHERE n.id CONTAINS 'Chuẩn Đầu Ra Ngoại Ngữ' \n",
      "  AND m.id CONTAINS 'Sinh Viên Sư Phạm Tiếng Anh'\n",
      "RETURN \n",
      "  properties(n) AS n_properties, \n",
      "  type(r) AS r_type, \n",
      "  properties(r) AS r_properties, \n",
      "  properties(m) AS m_properties\u001b[0m\n",
      "Full Context:\n",
      "\u001b[32;1m\u001b[1;3m[]\u001b[0m\n"
     ]
    },
    {
     "name": "stderr",
     "output_type": "stream",
     "text": [
      " 41%|████      | 32/79 [09:57<16:00, 20.43s/it]"
     ]
    },
    {
     "name": "stdout",
     "output_type": "stream",
     "text": [
      "\n",
      "\u001b[1m> Finished chain.\u001b[0m\n",
      "\n",
      "\n",
      "\u001b[1m> Entering new GraphCypherQAChain chain...\u001b[0m\n",
      "Generated Cypher:\n",
      "\u001b[32;1m\u001b[1;3mMATCH (n:Khái_niệm)\n",
      "WHERE n.id CONTAINS 'Chuẩn Đầu Ra Tin Học'\n",
      "RETURN properties(n) AS n_properties\u001b[0m\n",
      "Full Context:\n",
      "\u001b[32;1m\u001b[1;3m[]\u001b[0m\n"
     ]
    },
    {
     "name": "stderr",
     "output_type": "stream",
     "text": [
      " 42%|████▏     | 33/79 [10:12<14:25, 18.81s/it]"
     ]
    },
    {
     "name": "stdout",
     "output_type": "stream",
     "text": [
      "\n",
      "\u001b[1m> Finished chain.\u001b[0m\n",
      "\n",
      "\n",
      "\u001b[1m> Entering new GraphCypherQAChain chain...\u001b[0m\n",
      "Generated Cypher:\n",
      "\u001b[32;1m\u001b[1;3mMATCH (n:`Khái_niệm`)-[r:`ĐƯỢC_CÔNG_NHẬN_BỞI`]->(m)\n",
      "WHERE n.id CONTAINS 'Chứng Chỉ Tin Học'\n",
      "RETURN \n",
      "  properties(n) AS n_properties, \n",
      "  type(r) AS r_type, \n",
      "  properties(r) AS r_properties, \n",
      "  properties(m) AS m_properties\u001b[0m\n",
      "Full Context:\n",
      "\u001b[32;1m\u001b[1;3m[]\u001b[0m\n"
     ]
    },
    {
     "name": "stderr",
     "output_type": "stream",
     "text": [
      " 43%|████▎     | 34/79 [10:28<13:32, 18.05s/it]"
     ]
    },
    {
     "name": "stdout",
     "output_type": "stream",
     "text": [
      "\n",
      "\u001b[1m> Finished chain.\u001b[0m\n",
      "\n",
      "\n",
      "\u001b[1m> Entering new GraphCypherQAChain chain...\u001b[0m\n",
      "Generated Cypher:\n",
      "\u001b[32;1m\u001b[1;3mMATCH (n:`Khái_niệm`)-[r]->(m)\n",
      "WHERE n.id CONTAINS 'Chuẩn Đầu Ra Tin Học'\n",
      "RETURN \n",
      "  properties(n) AS n_properties, \n",
      "  type(r) AS r_type, \n",
      "  properties(r) AS r_properties, \n",
      "  properties(m) AS m_properties\u001b[0m\n",
      "Full Context:\n",
      "\u001b[32;1m\u001b[1;3m[]\u001b[0m\n"
     ]
    },
    {
     "name": "stderr",
     "output_type": "stream",
     "text": [
      " 44%|████▍     | 35/79 [10:48<13:30, 18.42s/it]"
     ]
    },
    {
     "name": "stdout",
     "output_type": "stream",
     "text": [
      "\n",
      "\u001b[1m> Finished chain.\u001b[0m\n",
      "\n",
      "\n",
      "\u001b[1m> Entering new GraphCypherQAChain chain...\u001b[0m\n",
      "Generated Cypher:\n",
      "\u001b[32;1m\u001b[1;3mMATCH (n:`Chủ_thể`)-[r]->(m)\n",
      "WHERE n.id CONTAINS 'Sinh Viên Ngoại Trú'\n",
      "RETURN \n",
      "  properties(n) AS n_properties, \n",
      "  type(r) AS r_type, \n",
      "  properties(r) AS r_properties, \n",
      "  properties(m) AS m_properties\u001b[0m\n",
      "Full Context:\n",
      "\u001b[32;1m\u001b[1;3m[]\u001b[0m\n"
     ]
    },
    {
     "name": "stderr",
     "output_type": "stream",
     "text": [
      " 46%|████▌     | 36/79 [11:07<13:27, 18.77s/it]"
     ]
    },
    {
     "name": "stdout",
     "output_type": "stream",
     "text": [
      "\n",
      "\u001b[1m> Finished chain.\u001b[0m\n",
      "\n",
      "\n",
      "\u001b[1m> Entering new GraphCypherQAChain chain...\u001b[0m\n",
      "Generated Cypher:\n",
      "\u001b[32;1m\u001b[1;3mMATCH (n:`Khái_niệm`)-[r:`ÁP_DỤNG_CHO`]->(m)\n",
      "WHERE n.id CONTAINS 'Ký Túc Xá'\n",
      "RETURN \n",
      "  properties(n) AS n_properties, \n",
      "  type(r) AS r_type, \n",
      "  properties(r) AS r_properties, \n",
      "  properties(m) AS m_properties\u001b[0m\n",
      "Full Context:\n",
      "\u001b[32;1m\u001b[1;3m[]\u001b[0m\n"
     ]
    },
    {
     "name": "stderr",
     "output_type": "stream",
     "text": [
      " 47%|████▋     | 37/79 [11:22<12:24, 17.71s/it]"
     ]
    },
    {
     "name": "stdout",
     "output_type": "stream",
     "text": [
      "\n",
      "\u001b[1m> Finished chain.\u001b[0m\n",
      "\n",
      "\n",
      "\u001b[1m> Entering new GraphCypherQAChain chain...\u001b[0m\n",
      "Generated Cypher:\n",
      "\u001b[32;1m\u001b[1;3mMATCH (n:`Khái_niệm`)-[r:`QUẢN_LÝ`]->(m)\n",
      "WHERE n.id CONTAINS 'Ký Túc Xá'\n",
      "RETURN \n",
      "  properties(n) AS n_properties, \n",
      "  type(r) AS r_type, \n",
      "  properties(r) AS r_properties, \n",
      "  properties(m) AS m_properties\u001b[0m\n",
      "Full Context:\n",
      "\u001b[32;1m\u001b[1;3m[]\u001b[0m\n"
     ]
    },
    {
     "name": "stderr",
     "output_type": "stream",
     "text": [
      " 48%|████▊     | 38/79 [11:38<11:38, 17.03s/it]"
     ]
    },
    {
     "name": "stdout",
     "output_type": "stream",
     "text": [
      "\n",
      "\u001b[1m> Finished chain.\u001b[0m\n",
      "\n",
      "\n",
      "\u001b[1m> Entering new GraphCypherQAChain chain...\u001b[0m\n",
      "Generated Cypher:\n",
      "\u001b[32;1m\u001b[1;3mMATCH (n:`Chủ_thể`)-[r]->(m)\n",
      "WHERE n.id CONTAINS 'Sinh Viên' \n",
      "  AND m.id CONTAINS 'Ký Túc Xá'\n",
      "RETURN \n",
      "  properties(n) AS n_properties, \n",
      "  type(r) AS r_type, \n",
      "  properties(r) AS r_properties, \n",
      "  properties(m) AS m_properties\u001b[0m\n",
      "Full Context:\n",
      "\u001b[32;1m\u001b[1;3m[]\u001b[0m\n"
     ]
    },
    {
     "name": "stderr",
     "output_type": "stream",
     "text": [
      " 49%|████▉     | 39/79 [11:54<11:07, 16.69s/it]"
     ]
    },
    {
     "name": "stdout",
     "output_type": "stream",
     "text": [
      "\n",
      "\u001b[1m> Finished chain.\u001b[0m\n",
      "\n",
      "\n",
      "\u001b[1m> Entering new GraphCypherQAChain chain...\u001b[0m\n",
      "Generated Cypher:\n",
      "\u001b[32;1m\u001b[1;3mMATCH (n:`Chủ_thể`)-[r]->(m)\n",
      "WHERE n.id CONTAINS 'Sinh Viên' \n",
      "  AND type(r) CONTAINS 'PHẢI_TUÂN_THỦ' \n",
      "  OR type(r) CONTAINS 'PHẢI_ĐÁP_ỨNG' \n",
      "  OR type(r) CONTAINS 'PHẢI_HOÀN_THÀNH' \n",
      "  OR type(r) CONTAINS 'PHẢI_TÍCH_LŨY' \n",
      "  OR type(r) CONTAINS 'PHẢI_ĐẠT'\n",
      "RETURN \n",
      "  properties(n) AS n_properties, \n",
      "  type(r) AS r_type, \n",
      "  properties(r) AS r_properties, \n",
      "  properties(m) AS m_properties\u001b[0m\n",
      "Full Context:\n",
      "\u001b[32;1m\u001b[1;3m[{'n_properties': {'id': 'Sinh Viên', 'vai_trò': 'Chủ động và có trách nhiệm trong học tập'}, 'r_type': 'PHẢI_ĐÁP_ỨNG', 'r_properties': {}, 'm_properties': {'id': 'Điểm Trung Bình Tích Lũy'}}, {'n_properties': {'id': 'Sinh Viên', 'vai_trò': 'Chủ động và có trách nhiệm trong học tập'}, 'r_type': 'PHẢI_ĐÁP_ỨNG', 'r_properties': {}, 'm_properties': {'id': 'Cảnh Báo Kết Quả Học Tập'}}, {'n_properties': {'id': 'Sinh Viên', 'vai_trò': 'Chủ động và có trách nhiệm trong học tập'}, 'r_type': 'PHẢI_TUÂN_THỦ', 'r_properties': {}, 'm_properties': {'id': 'Thời Hạn Đóng Học Phí'}}, {'n_properties': {'id': 'Sinh Viên', 'vai_trò': 'Chủ động và có trách nhiệm trong học tập'}, 'r_type': 'PHẢI_HOÀN_THÀNH', 'r_properties': {}, 'm_properties': {'id': 'Giáo Dục Thể Chất'}}, {'n_properties': {'id': 'Sinh Viên', 'vai_trò': 'Chủ động và có trách nhiệm trong học tập'}, 'r_type': 'PHẢI_HOÀN_THÀNH', 'r_properties': {}, 'm_properties': {'id': 'Nghĩa Vụ Học Phí'}}]\u001b[0m\n"
     ]
    },
    {
     "name": "stderr",
     "output_type": "stream",
     "text": [
      " 51%|█████     | 40/79 [12:19<12:36, 19.41s/it]"
     ]
    },
    {
     "name": "stdout",
     "output_type": "stream",
     "text": [
      "\n",
      "\u001b[1m> Finished chain.\u001b[0m\n",
      "\n",
      "\n",
      "\u001b[1m> Entering new GraphCypherQAChain chain...\u001b[0m\n",
      "Generated Cypher:\n",
      "\u001b[32;1m\u001b[1;3mMATCH (n:`Khái_niệm`)-[r]->(m)\n",
      "WHERE n.id CONTAINS 'Danh Hiệu Cá Nhân'\n",
      "RETURN \n",
      "  properties(n) AS n_properties, \n",
      "  type(r) AS r_type, \n",
      "  properties(r) AS r_properties, \n",
      "  properties(m) AS m_properties\u001b[0m\n",
      "Full Context:\n",
      "\u001b[32;1m\u001b[1;3m[]\u001b[0m\n"
     ]
    },
    {
     "name": "stderr",
     "output_type": "stream",
     "text": [
      " 52%|█████▏    | 41/79 [12:34<11:19, 17.88s/it]"
     ]
    },
    {
     "name": "stdout",
     "output_type": "stream",
     "text": [
      "\n",
      "\u001b[1m> Finished chain.\u001b[0m\n",
      "\n",
      "\n",
      "\u001b[1m> Entering new GraphCypherQAChain chain...\u001b[0m\n",
      "Generated Cypher:\n",
      "\u001b[32;1m\u001b[1;3mMATCH (n:`Hình_thức_xử_lý`)\n",
      "RETURN properties(n) AS n_properties\u001b[0m\n",
      "Full Context:\n",
      "\u001b[32;1m\u001b[1;3m[{'n_properties': {'id': 'Cảnh Báo Học Tập', 'điều_kiện': 'Điểm trung bình học kỳ dưới 0.8 (học kỳ đầu) hoặc dưới 1.0 (các học kỳ tiếp theo); Điểm trung bình tích lũy dưới 1.2 (năm thứ nhất), dưới 1.4 (năm thứ hai), dưới 1.6 (năm thứ ba), dưới 1.8 (các năm tiếp theo)'}}, {'n_properties': {'id': 'Buộc Thôi Học', 'điều_kiện': 'Bị cảnh báo 2 lần liên tiếp nhưng vẫn không cải thiện; Vượt quá thời gian tối đa học tập'}}, {'n_properties': {'id': 'Buộc Thôi Học (Niên Chế)', 'điều_kiện': 'Điểm trung bình năm học dưới 0.8; Điểm trung bình tích lũy dưới 1.2 (sau 2 năm), dưới 1.4 (sau 3 năm), dưới 1.6 (sau 4 năm); Vượt quá thời gian học tập tối đa'}}, {'n_properties': {'id': 'Xếp Lớp Học Cùng Khóa Sau'}}, {'n_properties': {'id': 'Xử Lý Kỷ Luật'}}]\u001b[0m\n"
     ]
    },
    {
     "name": "stderr",
     "output_type": "stream",
     "text": [
      " 53%|█████▎    | 42/79 [13:01<12:48, 20.76s/it]"
     ]
    },
    {
     "name": "stdout",
     "output_type": "stream",
     "text": [
      "\n",
      "\u001b[1m> Finished chain.\u001b[0m\n",
      "\n",
      "\n",
      "\u001b[1m> Entering new GraphCypherQAChain chain...\u001b[0m\n",
      "Generated Cypher:\n",
      "\u001b[32;1m\u001b[1;3mMATCH (n:`Chủ_thể`)-[r]->(m)\n",
      "WHERE n.id CONTAINS 'Ban Cán Sự Lớp'\n",
      "RETURN \n",
      "  properties(n) AS n_properties, \n",
      "  type(r) AS r_type, \n",
      "  properties(r) AS r_properties, \n",
      "  properties(m) AS m_properties\u001b[0m\n",
      "Full Context:\n",
      "\u001b[32;1m\u001b[1;3m[]\u001b[0m\n"
     ]
    },
    {
     "name": "stderr",
     "output_type": "stream",
     "text": [
      " 54%|█████▍    | 43/79 [13:17<11:29, 19.16s/it]"
     ]
    },
    {
     "name": "stdout",
     "output_type": "stream",
     "text": [
      "\n",
      "\u001b[1m> Finished chain.\u001b[0m\n",
      "\n",
      "\n",
      "\u001b[1m> Entering new GraphCypherQAChain chain...\u001b[0m\n",
      "Generated Cypher:\n",
      "\u001b[32;1m\u001b[1;3mMATCH (n:`Khái_niệm`)-[r:`ÁP_DỤNG_CHO`]->(m)\n",
      "WHERE n.id CONTAINS 'Đánh Giá Kết Quả Học Tập'\n",
      "RETURN \n",
      "  properties(n) AS n_properties, \n",
      "  type(r) AS r_type, \n",
      "  properties(r) AS r_properties, \n",
      "  properties(m) AS m_properties\u001b[0m\n",
      "Full Context:\n",
      "\u001b[32;1m\u001b[1;3m[]\u001b[0m\n"
     ]
    },
    {
     "name": "stderr",
     "output_type": "stream",
     "text": [
      " 56%|█████▌    | 44/79 [13:32<10:35, 18.15s/it]"
     ]
    },
    {
     "name": "stdout",
     "output_type": "stream",
     "text": [
      "\n",
      "\u001b[1m> Finished chain.\u001b[0m\n",
      "\n",
      "\n",
      "\u001b[1m> Entering new GraphCypherQAChain chain...\u001b[0m\n",
      "Generated Cypher:\n",
      "\u001b[32;1m\u001b[1;3m\u001b[0m\n",
      "Full Context:\n",
      "\u001b[32;1m\u001b[1;3m[]\u001b[0m\n"
     ]
    },
    {
     "name": "stderr",
     "output_type": "stream",
     "text": [
      " 57%|█████▋    | 45/79 [13:54<10:51, 19.17s/it]"
     ]
    },
    {
     "name": "stdout",
     "output_type": "stream",
     "text": [
      "\n",
      "\u001b[1m> Finished chain.\u001b[0m\n",
      "\n",
      "\n",
      "\u001b[1m> Entering new GraphCypherQAChain chain...\u001b[0m\n",
      "Generated Cypher:\n",
      "\u001b[32;1m\u001b[1;3mMATCH (n:`Chương_trình_đào_tạo`)<-[r]-(m)\n",
      "WHERE n.id CONTAINS 'Đào Tạo' AND m.id CONTAINS 'Điểm'\n",
      "RETURN \n",
      "  properties(n) AS n_properties, \n",
      "  type(r) AS r_type, \n",
      "  properties(r) AS r_properties, \n",
      "  properties(m) AS m_properties\u001b[0m\n",
      "Full Context:\n",
      "\u001b[32;1m\u001b[1;3m[]\u001b[0m\n"
     ]
    },
    {
     "name": "stderr",
     "output_type": "stream",
     "text": [
      " 58%|█████▊    | 46/79 [14:07<09:29, 17.26s/it]"
     ]
    },
    {
     "name": "stdout",
     "output_type": "stream",
     "text": [
      "\n",
      "\u001b[1m> Finished chain.\u001b[0m\n",
      "\n",
      "\n",
      "\u001b[1m> Entering new GraphCypherQAChain chain...\u001b[0m\n",
      "Generated Cypher:\n",
      "\u001b[32;1m\u001b[1;3mMATCH (n:Khái_niệm)\n",
      "WHERE n.id CONTAINS 'Thang Điểm 10'\n",
      "RETURN properties(n) AS n_properties\u001b[0m\n",
      "Full Context:\n",
      "\u001b[32;1m\u001b[1;3m[{'n_properties': {'id': 'Thang Điểm 10', 'mô_tả': 'Gồm các số từ 0 đến 10 (với một số lẻ thập phân) được sử dụng để đánh giá và ghi điểm đánh giá quá trình, điểm thi kết thúc học phần và điểm học phần.'}}]\u001b[0m\n"
     ]
    },
    {
     "name": "stderr",
     "output_type": "stream",
     "text": [
      " 59%|█████▉    | 47/79 [14:24<09:13, 17.29s/it]"
     ]
    },
    {
     "name": "stdout",
     "output_type": "stream",
     "text": [
      "\n",
      "\u001b[1m> Finished chain.\u001b[0m\n",
      "\n",
      "\n",
      "\u001b[1m> Entering new GraphCypherQAChain chain...\u001b[0m\n",
      "Generated Cypher:\n",
      "\u001b[32;1m\u001b[1;3mMATCH (n:Khái_niệm)\n",
      "WHERE n.id CONTAINS 'Thang Điểm 4'\n",
      "RETURN properties(n) AS n_properties\u001b[0m\n",
      "Full Context:\n",
      "\u001b[32;1m\u001b[1;3m[{'n_properties': {'id': 'Thang Điểm 4', 'mô_tả': 'Dùng để tính điểm trung bình chung học kỳ, trung bình chung tích lũy, để đánh giá kết quả học tập của sinh viên sau mỗi học kỳ, giai đoạn và xếp loại tốt nghiệp.'}}]\u001b[0m\n"
     ]
    },
    {
     "name": "stderr",
     "output_type": "stream",
     "text": [
      " 61%|██████    | 48/79 [14:40<08:41, 16.81s/it]"
     ]
    },
    {
     "name": "stdout",
     "output_type": "stream",
     "text": [
      "\n",
      "\u001b[1m> Finished chain.\u001b[0m\n",
      "\n",
      "\n",
      "\u001b[1m> Entering new GraphCypherQAChain chain...\u001b[0m\n",
      "Generated Cypher:\n",
      "\u001b[32;1m\u001b[1;3mMATCH (n:`Chủ_thể`)-[r1]->(m:`Hoạt_động`)-[r2]->(x)\n",
      "WHERE n.id CONTAINS 'Sinh Viên' \n",
      "  AND m.id CONTAINS 'Hoãn Thi Kết Thúc Học Phần'\n",
      "RETURN \n",
      "  properties(n) AS n_properties, \n",
      "  type(r1) AS r1_type, \n",
      "  properties(r1) AS r1_properties, \n",
      "  properties(m) AS m_properties, \n",
      "  type(r2) AS r2_type, \n",
      "  properties(r2) AS r2_properties, \n",
      "  properties(x) AS x_properties\u001b[0m\n",
      "Full Context:\n",
      "\u001b[32;1m\u001b[1;3m[]\u001b[0m\n"
     ]
    },
    {
     "name": "stderr",
     "output_type": "stream",
     "text": [
      " 62%|██████▏   | 49/79 [14:59<08:40, 17.36s/it]"
     ]
    },
    {
     "name": "stdout",
     "output_type": "stream",
     "text": [
      "\n",
      "\u001b[1m> Finished chain.\u001b[0m\n",
      "\n",
      "\n",
      "\u001b[1m> Entering new GraphCypherQAChain chain...\u001b[0m\n",
      "Generated Cypher:\n",
      "\u001b[32;1m\u001b[1;3mMATCH (n:`Chủ_thể`)-[r1:`PHẢI_THỰC_HIỆN`]->(m)-[r2]->(x)\n",
      "WHERE n.id CONTAINS 'Sinh Viên' \n",
      "  AND m.id CONTAINS 'Hoãn Thi Kết Thúc Học Phần'\n",
      "RETURN \n",
      "  properties(n) AS n_properties, \n",
      "  type(r1) AS r1_type, \n",
      "  properties(r1) AS r1_properties, \n",
      "  properties(m) AS m_properties, \n",
      "  type(r2) AS r2_type, \n",
      "  properties(r2) AS r2_properties, \n",
      "  properties(x) AS x_properties\u001b[0m\n",
      "Full Context:\n",
      "\u001b[32;1m\u001b[1;3m[]\u001b[0m\n"
     ]
    },
    {
     "name": "stderr",
     "output_type": "stream",
     "text": [
      " 63%|██████▎   | 50/79 [15:29<10:19, 21.37s/it]"
     ]
    },
    {
     "name": "stdout",
     "output_type": "stream",
     "text": [
      "\n",
      "\u001b[1m> Finished chain.\u001b[0m\n",
      "\n",
      "\n",
      "\u001b[1m> Entering new GraphCypherQAChain chain...\u001b[0m\n",
      "Generated Cypher:\n",
      "\u001b[32;1m\u001b[1;3mMATCH (n:`Chủ_thể`)-[r1:`CÓ_HÀNH_VI`]->(m)-[r2:`BỊ_XỬ_LÝ`]->(x)\n",
      "WHERE n.id CONTAINS 'Sinh Viên' \n",
      "  AND m.id CONTAINS 'Vắng Thi Không Có Lý Do'\n",
      "RETURN \n",
      "  properties(n) AS n_properties, \n",
      "  type(r1) AS r1_type, \n",
      "  properties(r1) AS r1_properties,\n",
      "  properties(m) AS m_properties, \n",
      "  type(r2) AS r2_type, \n",
      "  properties(r2) AS r2_properties, \n",
      "  properties(x) AS x_properties\u001b[0m\n",
      "Full Context:\n",
      "\u001b[32;1m\u001b[1;3m[]\u001b[0m\n"
     ]
    },
    {
     "name": "stderr",
     "output_type": "stream",
     "text": [
      " 65%|██████▍   | 51/79 [15:51<09:58, 21.39s/it]"
     ]
    },
    {
     "name": "stdout",
     "output_type": "stream",
     "text": [
      "\n",
      "\u001b[1m> Finished chain.\u001b[0m\n",
      "\n",
      "\n",
      "\u001b[1m> Entering new GraphCypherQAChain chain...\u001b[0m\n",
      "Generated Cypher:\n",
      "\u001b[32;1m\u001b[1;3mMATCH (n:Khái_niệm)-[r]->(m)\n",
      "WHERE n.id CONTAINS 'Đề Thi Kết Thúc Học Phần'\n",
      "RETURN \n",
      "  properties(n) AS n_properties, \n",
      "  type(r) AS r_type, \n",
      "  properties(r) AS r_properties, \n",
      "  properties(m) AS m_properties\u001b[0m\n",
      "Full Context:\n",
      "\u001b[32;1m\u001b[1;3m[{'n_properties': {'id': 'Đề Thi Kết Thúc Học Phần', 'nguồn_đề': 'Ngân hàng đề thi hoặc ra đề theo quy định Hiệu trưởng', 'yêu_cầu': 'Phù hợp với nội dung và chuẩn đầu ra học phần'}, 'r_type': 'LIÊN_QUAN_ĐẾN', 'r_properties': {}, 'm_properties': {'id': 'Hiệu Trưởng', 'vai_trò': 'Quy định mức học bổng, xác định số lượng suất học bổng'}}]\u001b[0m\n"
     ]
    },
    {
     "name": "stderr",
     "output_type": "stream",
     "text": [
      " 66%|██████▌   | 52/79 [16:09<09:09, 20.34s/it]"
     ]
    },
    {
     "name": "stdout",
     "output_type": "stream",
     "text": [
      "\n",
      "\u001b[1m> Finished chain.\u001b[0m\n",
      "\n",
      "\n",
      "\u001b[1m> Entering new GraphCypherQAChain chain...\u001b[0m\n",
      "Generated Cypher:\n",
      "\u001b[32;1m\u001b[1;3mMATCH (n:`Khái_niệm`)-[r]->(m)\n",
      "WHERE n.id CONTAINS 'Túi Đựng Đề Thi'\n",
      "RETURN \n",
      "  properties(n) AS n_properties, \n",
      "  type(r) AS r_type, \n",
      "  properties(r) AS r_properties, \n",
      "  properties(m) AS m_properties\u001b[0m\n",
      "Full Context:\n",
      "\u001b[32;1m\u001b[1;3m[]\u001b[0m\n"
     ]
    },
    {
     "name": "stderr",
     "output_type": "stream",
     "text": [
      " 67%|██████▋   | 53/79 [16:28<08:40, 20.02s/it]"
     ]
    },
    {
     "name": "stdout",
     "output_type": "stream",
     "text": [
      "\n",
      "\u001b[1m> Finished chain.\u001b[0m\n",
      "\n",
      "\n",
      "\u001b[1m> Entering new GraphCypherQAChain chain...\u001b[0m\n",
      "Generated Cypher:\n",
      "\u001b[32;1m\u001b[1;3mMATCH (n:`Khái_niệm`)-[r]->(m)\n",
      "WHERE n.id CONTAINS 'Đề Thi Trắc Nghiệm' AND m.id CONTAINS 'Ngân Hàng Đề Thi'\n",
      "RETURN \n",
      "  properties(n) AS n_properties, \n",
      "  type(r) AS r_type, \n",
      "  properties(r) AS r_properties, \n",
      "  properties(m) AS m_properties\u001b[0m\n",
      "Full Context:\n",
      "\u001b[32;1m\u001b[1;3m[]\u001b[0m\n"
     ]
    },
    {
     "name": "stderr",
     "output_type": "stream",
     "text": [
      " 68%|██████▊   | 54/79 [16:43<07:42, 18.48s/it]"
     ]
    },
    {
     "name": "stdout",
     "output_type": "stream",
     "text": [
      "\n",
      "\u001b[1m> Finished chain.\u001b[0m\n",
      "\n",
      "\n",
      "\u001b[1m> Entering new GraphCypherQAChain chain...\u001b[0m\n",
      "Generated Cypher:\n",
      "\u001b[32;1m\u001b[1;3mMATCH (n:`Website`)\n",
      "WHERE n.id CONTAINS 'Website Phòng Đào Tạo Đại Học'\n",
      "RETURN properties(n) AS n_properties\u001b[0m\n",
      "Full Context:\n",
      "\u001b[32;1m\u001b[1;3m[{'n_properties': {'id': 'Website Phòng Đào Tạo Đại Học'}}]\u001b[0m\n"
     ]
    },
    {
     "name": "stderr",
     "output_type": "stream",
     "text": [
      " 70%|██████▉   | 55/79 [17:01<07:23, 18.47s/it]"
     ]
    },
    {
     "name": "stdout",
     "output_type": "stream",
     "text": [
      "\n",
      "\u001b[1m> Finished chain.\u001b[0m\n",
      "\n",
      "\n",
      "\u001b[1m> Entering new GraphCypherQAChain chain...\u001b[0m\n",
      "Generated Cypher:\n",
      "\u001b[32;1m\u001b[1;3m\u001b[0m\n",
      "Full Context:\n",
      "\u001b[32;1m\u001b[1;3m[]\u001b[0m\n"
     ]
    },
    {
     "name": "stderr",
     "output_type": "stream",
     "text": [
      " 71%|███████   | 56/79 [17:23<07:28, 19.49s/it]"
     ]
    },
    {
     "name": "stdout",
     "output_type": "stream",
     "text": [
      "\n",
      "\u001b[1m> Finished chain.\u001b[0m\n",
      "\n",
      "\n",
      "\u001b[1m> Entering new GraphCypherQAChain chain...\u001b[0m\n",
      "Generated Cypher:\n",
      "\u001b[32;1m\u001b[1;3m\u001b[0m\n",
      "Full Context:\n",
      "\u001b[32;1m\u001b[1;3m[]\u001b[0m\n"
     ]
    },
    {
     "name": "stderr",
     "output_type": "stream",
     "text": [
      " 72%|███████▏  | 57/79 [17:40<06:52, 18.77s/it]"
     ]
    },
    {
     "name": "stdout",
     "output_type": "stream",
     "text": [
      "\n",
      "\u001b[1m> Finished chain.\u001b[0m\n",
      "\n",
      "\n",
      "\u001b[1m> Entering new GraphCypherQAChain chain...\u001b[0m\n",
      "Generated Cypher:\n",
      "\u001b[32;1m\u001b[1;3mMATCH (n:`Khái_niệm`)-[r]->(m)\n",
      "WHERE n.id CONTAINS 'Đánh Giá Khoá Luận Tốt Nghiệp' AND m.id CONTAINS 'Đánh Giá Trực Tuyến'\n",
      "RETURN \n",
      "  properties(n) AS n_properties, \n",
      "  type(r) AS r_type, \n",
      "  properties(r) AS r_properties, \n",
      "  properties(m) AS m_properties\u001b[0m\n",
      "Full Context:\n",
      "\u001b[32;1m\u001b[1;3m[]\u001b[0m\n"
     ]
    },
    {
     "name": "stderr",
     "output_type": "stream",
     "text": [
      " 73%|███████▎  | 58/79 [17:55<06:07, 17.48s/it]"
     ]
    },
    {
     "name": "stdout",
     "output_type": "stream",
     "text": [
      "\n",
      "\u001b[1m> Finished chain.\u001b[0m\n",
      "\n",
      "\n",
      "\u001b[1m> Entering new GraphCypherQAChain chain...\u001b[0m\n",
      "Generated Cypher:\n",
      "\u001b[32;1m\u001b[1;3mMATCH (n:`Khái_niệm`)-[r]->(m)\n",
      "WHERE n.id CONTAINS 'Bảo Vệ Khóa Luận Trực Tuyến'\n",
      "RETURN \n",
      "  properties(n) AS n_properties, \n",
      "  type(r) AS r_type, \n",
      "  properties(r) AS r_properties, \n",
      "  properties(m) AS m_properties\u001b[0m\n",
      "Full Context:\n",
      "\u001b[32;1m\u001b[1;3m[]\u001b[0m\n"
     ]
    },
    {
     "name": "stderr",
     "output_type": "stream",
     "text": [
      " 75%|███████▍  | 59/79 [18:15<06:07, 18.39s/it]"
     ]
    },
    {
     "name": "stdout",
     "output_type": "stream",
     "text": [
      "\n",
      "\u001b[1m> Finished chain.\u001b[0m\n",
      "\n",
      "\n",
      "\u001b[1m> Entering new GraphCypherQAChain chain...\u001b[0m\n",
      "Generated Cypher:\n",
      "\u001b[32;1m\u001b[1;3mMATCH (n:`Chủ_thể`)-[r1:`CÓ_HÀNH_VI`]->(m)-[r2:`BỊ_XỬ_LÝ`]->(x)\n",
      "WHERE n.id CONTAINS 'Giảng Viên' \n",
      "  AND x.id CONTAINS 'Buộc Thôi Học'\n",
      "RETURN \n",
      "  properties(n) AS n_properties, \n",
      "  type(r1) AS r1_type, \n",
      "  properties(r1) AS r1_properties,\n",
      "  properties(m) AS m_properties, \n",
      "  type(r2) AS r2_type, \n",
      "  properties(r2) AS r2_properties, \n",
      "  properties(x) AS x_properties\u001b[0m\n",
      "Full Context:\n",
      "\u001b[32;1m\u001b[1;3m[]\u001b[0m\n"
     ]
    },
    {
     "name": "stderr",
     "output_type": "stream",
     "text": [
      " 76%|███████▌  | 60/79 [18:33<05:46, 18.26s/it]"
     ]
    },
    {
     "name": "stdout",
     "output_type": "stream",
     "text": [
      "\n",
      "\u001b[1m> Finished chain.\u001b[0m\n",
      "\n",
      "\n",
      "\u001b[1m> Entering new GraphCypherQAChain chain...\u001b[0m\n",
      "Generated Cypher:\n",
      "\u001b[32;1m\u001b[1;3m\u001b[0m\n",
      "Full Context:\n",
      "\u001b[32;1m\u001b[1;3m[]\u001b[0m\n"
     ]
    },
    {
     "name": "stderr",
     "output_type": "stream",
     "text": [
      " 77%|███████▋  | 61/79 [18:49<05:17, 17.66s/it]"
     ]
    },
    {
     "name": "stdout",
     "output_type": "stream",
     "text": [
      "\n",
      "\u001b[1m> Finished chain.\u001b[0m\n",
      "\n",
      "\n",
      "\u001b[1m> Entering new GraphCypherQAChain chain...\u001b[0m\n",
      "Generated Cypher:\n",
      "\u001b[32;1m\u001b[1;3mMATCH (n:`Chủ_thể`)-[r1:`CÓ_HÀNH_VI`]->(m:`Hành_vi`)-[r2:`BỊ_XỬ_LÝ`]->(x:`Hình_thức_xử_lý`)\n",
      "WHERE n.id CONTAINS 'Sinh Viên' \n",
      "  AND m.id CONTAINS 'Gian Lận Trong Thi'\n",
      "RETURN \n",
      "  properties(n) AS n_properties, \n",
      "  type(r1) AS r1_type, \n",
      "  properties(r1) AS r1_properties,\n",
      "  properties(m) AS m_properties, \n",
      "  type(r2) AS r2_type, \n",
      "  properties(r2) AS r2_properties, \n",
      "  properties(x) AS x_properties\u001b[0m\n",
      "Full Context:\n",
      "\u001b[32;1m\u001b[1;3m[{'n_properties': {'id': 'Sinh Viên', 'vai_trò': 'Chủ động và có trách nhiệm trong học tập'}, 'r1_type': 'CÓ_HÀNH_VI', 'r1_properties': {}, 'm_properties': {'id': 'Gian Lận Trong Thi, Kiểm Tra, Đánh Giá Kết Quả Học Tập'}, 'r2_type': 'BỊ_XỬ_LÝ', 'r2_properties': {}, 'x_properties': {'id': 'Xử Lý Kỷ Luật'}}]\u001b[0m\n"
     ]
    },
    {
     "name": "stderr",
     "output_type": "stream",
     "text": [
      " 78%|███████▊  | 62/79 [19:10<05:16, 18.60s/it]"
     ]
    },
    {
     "name": "stdout",
     "output_type": "stream",
     "text": [
      "\n",
      "\u001b[1m> Finished chain.\u001b[0m\n",
      "\n",
      "\n",
      "\u001b[1m> Entering new GraphCypherQAChain chain...\u001b[0m\n",
      "Generated Cypher:\n",
      "\u001b[32;1m\u001b[1;3mMATCH (n:`Chủ_thể`)-[r1:`ĐƯỢC_HƯỞNG`]->(m:`Chính_sách`)\n",
      "WHERE n.id CONTAINS 'Sinh Viên Sư Phạm' \n",
      "  AND m.id CONTAINS 'Hỗ Trợ Chi Phí Học Tập'\n",
      "RETURN \n",
      "  properties(n) AS n_properties, \n",
      "  type(r1) AS r1_type, \n",
      "  properties(r1) AS r1_properties, \n",
      "  properties(m) AS m_properties\u001b[0m\n",
      "Full Context:\n",
      "\u001b[32;1m\u001b[1;3m[]\u001b[0m\n"
     ]
    },
    {
     "name": "stderr",
     "output_type": "stream",
     "text": [
      " 80%|███████▉  | 63/79 [19:31<05:07, 19.24s/it]"
     ]
    },
    {
     "name": "stdout",
     "output_type": "stream",
     "text": [
      "\n",
      "\u001b[1m> Finished chain.\u001b[0m\n",
      "\n",
      "\n",
      "\u001b[1m> Entering new GraphCypherQAChain chain...\u001b[0m\n",
      "Generated Cypher:\n",
      "\u001b[32;1m\u001b[1;3mMATCH (n:`Chính_sách`)-[r:`HỖ_TRỢ`]->(m:`Chủ_thể`)\n",
      "WHERE n.id CONTAINS 'Hỗ Trợ Chi Phí Học Tập' \n",
      "  AND m.id CONTAINS 'Sinh Viên'\n",
      "RETURN \n",
      "  properties(n) AS n_properties, \n",
      "  type(r) AS r_type, \n",
      "  properties(r) AS r_properties, \n",
      "  properties(m) AS m_properties\u001b[0m\n",
      "Full Context:\n",
      "\u001b[32;1m\u001b[1;3m[{'n_properties': {'id': 'Hỗ Trợ Chi Phí Học Tập', 'mức_hỗ_trợ': '60% mức lương tối thiểu chung', 'thời_gian_hưởng': 'Không quá 10 tháng/năm học/sinh viên'}, 'r_type': 'HỖ_TRỢ', 'r_properties': {}, 'm_properties': {'id': 'Sinh Viên Người Dân Tộc Thiểu Số', 'hình_thức_học': 'Đại học, cao đẳng hệ chính quy', 'điều_kiện': 'Thuộc hộ nghèo, hộ cận nghèo'}}]\u001b[0m\n"
     ]
    },
    {
     "name": "stderr",
     "output_type": "stream",
     "text": [
      " 81%|████████  | 64/79 [19:50<04:49, 19.31s/it]"
     ]
    },
    {
     "name": "stdout",
     "output_type": "stream",
     "text": [
      "\n",
      "\u001b[1m> Finished chain.\u001b[0m\n",
      "\n",
      "\n",
      "\u001b[1m> Entering new GraphCypherQAChain chain...\u001b[0m\n",
      "Generated Cypher:\n",
      "\u001b[32;1m\u001b[1;3mMATCH (n:`Chính_sách`)-[r:`HỖ_TRỢ`]->(m:`Chủ_thể`), \n",
      "(n)-[r2:`THỰC_HIỆN_TẠI`]->(t:`Tổ_chức`)\n",
      "WHERE m.id CONTAINS 'Sinh Viên Sư Phạm' \n",
      "AND n.id CONTAINS 'Hỗ Trợ Chi Phí Học Tập'\n",
      "RETURN \n",
      "  properties(n) AS n_properties, \n",
      "  type(r) AS r_type, \n",
      "  properties(r) AS r_properties, \n",
      "  properties(m) AS m_properties,\n",
      "  type(r2) AS r2_type,\n",
      "  properties(r2) AS r2_properties,\n",
      "  properties(t) AS t_properties\u001b[0m\n",
      "Full Context:\n",
      "\u001b[32;1m\u001b[1;3m[]\u001b[0m\n"
     ]
    },
    {
     "name": "stderr",
     "output_type": "stream",
     "text": [
      " 82%|████████▏ | 65/79 [20:14<04:50, 20.73s/it]"
     ]
    },
    {
     "name": "stdout",
     "output_type": "stream",
     "text": [
      "\n",
      "\u001b[1m> Finished chain.\u001b[0m\n",
      "\n",
      "\n",
      "\u001b[1m> Entering new GraphCypherQAChain chain...\u001b[0m\n",
      "Generated Cypher:\n",
      "\u001b[32;1m\u001b[1;3mMATCH (n:`Chủ_thể`)-[r1:`PHẢI_TUÂN_THỦ`]->(m)-[r2:`QUY_ĐỊNH_THỜI_HẠN`]->(x)\n",
      "WHERE n.id CONTAINS 'Sinh Viên' \n",
      "  AND m.id CONTAINS 'Thời Hạn Đóng Học Phí'\n",
      "  AND x.id CONTAINS 'Học Kỳ Chính'\n",
      "RETURN \n",
      "  properties(n) AS n_properties, \n",
      "  type(r1) AS r1_type, \n",
      "  properties(r1) AS r1_properties, \n",
      "  properties(m) AS m_properties, \n",
      "  type(r2) AS r2_type, \n",
      "  properties(r2) AS r2_properties, \n",
      "  properties(x) AS x_properties\u001b[0m\n",
      "Full Context:\n",
      "\u001b[32;1m\u001b[1;3m[]\u001b[0m\n"
     ]
    },
    {
     "name": "stderr",
     "output_type": "stream",
     "text": [
      " 84%|████████▎ | 66/79 [20:37<04:37, 21.32s/it]"
     ]
    },
    {
     "name": "stdout",
     "output_type": "stream",
     "text": [
      "\n",
      "\u001b[1m> Finished chain.\u001b[0m\n",
      "\n",
      "\n",
      "\u001b[1m> Entering new GraphCypherQAChain chain...\u001b[0m\n",
      "Generated Cypher:\n",
      "\u001b[32;1m\u001b[1;3mMATCH (n:`Chủ_thể`)-[r1:`PHẢI_TUÂN_THỦ`]->(m)-[r2:`QUY_ĐỊNH_THỜI_HẠN`]->(x)\n",
      "WHERE n.id CONTAINS 'Sinh Viên' \n",
      "  AND m.id CONTAINS 'Thời Hạn Đóng Học Phí'\n",
      "  AND x.id CONTAINS 'Học Kỳ Phụ'\n",
      "RETURN \n",
      "  properties(n) AS n_properties, \n",
      "  type(r1) AS r1_type, \n",
      "  properties(r1) AS r1_properties, \n",
      "  properties(m) AS m_properties, \n",
      "  type(r2) AS r2_type, \n",
      "  properties(r2) AS r2_properties, \n",
      "  properties(x) AS x_properties\u001b[0m\n",
      "Full Context:\n",
      "\u001b[32;1m\u001b[1;3m[]\u001b[0m\n"
     ]
    },
    {
     "name": "stderr",
     "output_type": "stream",
     "text": [
      " 85%|████████▍ | 67/79 [21:01<04:23, 21.96s/it]"
     ]
    },
    {
     "name": "stdout",
     "output_type": "stream",
     "text": [
      "\n",
      "\u001b[1m> Finished chain.\u001b[0m\n",
      "\n",
      "\n",
      "\u001b[1m> Entering new GraphCypherQAChain chain...\u001b[0m\n",
      "Generated Cypher:\n",
      "\u001b[32;1m\u001b[1;3mMATCH (n:`Phương_thức`)-[r]->(m)\n",
      "WHERE n.id CONTAINS 'Phương Thức'\n",
      "RETURN \n",
      "  properties(n) AS n_properties, \n",
      "  type(r) AS r_type, \n",
      "  properties(r) AS r_properties, \n",
      "  properties(m) AS m_properties\u001b[0m\n",
      "Full Context:\n",
      "\u001b[32;1m\u001b[1;3m[{'n_properties': {'id': 'Phương Thức Cho Vay', 'hình_thức': 'cho vay thông qua hộ gia đình hoặc trực tiếp vay vốn tại Ngân hàng Chính sách xã hội'}, 'r_type': 'GIAO_CHO', 'r_properties': {}, 'm_properties': {'id': 'Ngân Hàng Chính Sách Xã Hội', 'vai_trò': 'thực hiện cho vay đối với học sinh, sinh viên'}}]\u001b[0m\n"
     ]
    },
    {
     "name": "stderr",
     "output_type": "stream",
     "text": [
      " 86%|████████▌ | 68/79 [21:16<03:41, 20.16s/it]"
     ]
    },
    {
     "name": "stdout",
     "output_type": "stream",
     "text": [
      "\n",
      "\u001b[1m> Finished chain.\u001b[0m\n",
      "\n",
      "\n",
      "\u001b[1m> Entering new GraphCypherQAChain chain...\u001b[0m\n",
      "Generated Cypher:\n",
      "\u001b[32;1m\u001b[1;3mMATCH (n:`Phương_thức`)-[r:`KÈM_THEO`]->(m)\n",
      "WHERE n.id CONTAINS 'Nộp Qua Ngân Hàng' \n",
      "RETURN \n",
      "  properties(n) AS n_properties, \n",
      "  type(r) AS r_type, \n",
      "  properties(r) AS r_properties, \n",
      "  properties(m) AS m_properties\u001b[0m\n",
      "Full Context:\n",
      "\u001b[32;1m\u001b[1;3m[{'n_properties': {'id': 'Nộp Qua Ngân Hàng'}, 'r_type': 'KÈM_THEO', 'r_properties': {}, 'm_properties': {'id': 'Bảng Hướng Dẫn Nộp Học Phí'}}]\u001b[0m\n"
     ]
    },
    {
     "name": "stderr",
     "output_type": "stream",
     "text": [
      " 87%|████████▋ | 69/79 [21:40<03:30, 21.03s/it]"
     ]
    },
    {
     "name": "stdout",
     "output_type": "stream",
     "text": [
      "\n",
      "\u001b[1m> Finished chain.\u001b[0m\n",
      "\n",
      "\n",
      "\u001b[1m> Entering new GraphCypherQAChain chain...\u001b[0m\n",
      "Generated Cypher:\n",
      "\u001b[32;1m\u001b[1;3m\u001b[0m\n",
      "Full Context:\n",
      "\u001b[32;1m\u001b[1;3m[]\u001b[0m\n"
     ]
    },
    {
     "name": "stderr",
     "output_type": "stream",
     "text": [
      " 89%|████████▊ | 70/79 [22:00<03:07, 20.78s/it]"
     ]
    },
    {
     "name": "stdout",
     "output_type": "stream",
     "text": [
      "\n",
      "\u001b[1m> Finished chain.\u001b[0m\n",
      "\n",
      "\n",
      "\u001b[1m> Entering new GraphCypherQAChain chain...\u001b[0m\n",
      "Generated Cypher:\n",
      "\u001b[32;1m\u001b[1;3m\u001b[0m\n",
      "Full Context:\n",
      "\u001b[32;1m\u001b[1;3m[]\u001b[0m\n"
     ]
    },
    {
     "name": "stderr",
     "output_type": "stream",
     "text": [
      " 90%|████████▉ | 71/79 [22:25<02:55, 21.98s/it]"
     ]
    },
    {
     "name": "stdout",
     "output_type": "stream",
     "text": [
      "\n",
      "\u001b[1m> Finished chain.\u001b[0m\n",
      "\n",
      "\n",
      "\u001b[1m> Entering new GraphCypherQAChain chain...\u001b[0m\n"
     ]
    },
    {
     "name": "stderr",
     "output_type": "stream",
     "text": [
      "[#CD3A]  _: <CONNECTION> error: Failed to read from defunct connection IPv4Address(('localhost', 7687)) (ResolvedIPv4Address(('127.0.0.1', 7687))): ConnectionAbortedError(10053, 'An established connection was aborted by the software in your host machine', None, 10053, None)\n",
      "Transaction failed and will be retried in 1.1646454949047746s (Failed to read from defunct connection IPv4Address(('localhost', 7687)) (ResolvedIPv4Address(('127.0.0.1', 7687))))\n"
     ]
    },
    {
     "name": "stdout",
     "output_type": "stream",
     "text": [
      "Generated Cypher:\n",
      "\u001b[32;1m\u001b[1;3mMATCH (n:`Chủ_thể`)-[r1:`CÒN_NỢ`]->(m)-[r2]->(x)\n",
      "WHERE n.id CONTAINS 'Sinh Viên' \n",
      "  AND m.id CONTAINS 'Học Phí'\n",
      "RETURN \n",
      "  properties(n) AS n_properties, \n",
      "  type(r1) AS r1_type, \n",
      "  properties(r1) AS r1_properties, \n",
      "  properties(m) AS m_properties, \n",
      "  type(r2) AS r2_type, \n",
      "  properties(r2) AS r2_properties, \n",
      "  properties(x) AS x_properties\u001b[0m\n"
     ]
    },
    {
     "name": "stderr",
     "output_type": "stream",
     "text": [
      "Transaction failed and will be retried in 1.8628699687819628s (Couldn't connect to localhost:7687 (resolved to ()):\n",
      "Failed to establish connection to ResolvedIPv6Address(('::1', 7687, 0, 0)) (reason [WinError 10061] No connection could be made because the target machine actively refused it)\n",
      "Failed to establish connection to ResolvedIPv4Address(('127.0.0.1', 7687)) (reason [WinError 10061] No connection could be made because the target machine actively refused it))\n",
      "Transaction failed and will be retried in 3.846947167115885s (Couldn't connect to localhost:7687 (resolved to ()):\n",
      "Failed to establish connection to ResolvedIPv6Address(('::1', 7687, 0, 0)) (reason [WinError 10061] No connection could be made because the target machine actively refused it)\n",
      "Failed to establish connection to ResolvedIPv4Address(('127.0.0.1', 7687)) (reason [WinError 10061] No connection could be made because the target machine actively refused it))\n",
      "Transaction failed and will be retried in 9.059032508442844s (Couldn't connect to localhost:7687 (resolved to ()):\n",
      "Failed to establish connection to ResolvedIPv6Address(('::1', 7687, 0, 0)) (reason [WinError 10061] No connection could be made because the target machine actively refused it)\n",
      "Failed to establish connection to ResolvedIPv4Address(('127.0.0.1', 7687)) (reason [WinError 10061] No connection could be made because the target machine actively refused it))\n",
      " 91%|█████████ | 72/79 [23:10<03:22, 28.92s/it]"
     ]
    },
    {
     "name": "stdout",
     "output_type": "stream",
     "text": [
      "\n",
      "\n",
      "\u001b[1m> Entering new GraphCypherQAChain chain...\u001b[0m\n",
      "Generated Cypher:\n",
      "\u001b[32;1m\u001b[1;3m\u001b[0m\n",
      "Full Context:\n",
      "\u001b[32;1m\u001b[1;3m[]\u001b[0m\n"
     ]
    },
    {
     "name": "stderr",
     "output_type": "stream",
     "text": [
      " 92%|█████████▏| 73/79 [23:29<02:35, 25.95s/it]"
     ]
    },
    {
     "name": "stdout",
     "output_type": "stream",
     "text": [
      "\n",
      "\u001b[1m> Finished chain.\u001b[0m\n",
      "\n",
      "\n",
      "\u001b[1m> Entering new GraphCypherQAChain chain...\u001b[0m\n",
      "Generated Cypher:\n",
      "\u001b[32;1m\u001b[1;3mMATCH (n:`Chính_sách`)-[r:`ÁP_DỤNG_CHO`]->(m)\n",
      "WHERE n.id CONTAINS 'Miễn 100% Học Phí'\n",
      "RETURN \n",
      "  properties(n) AS n_properties, \n",
      "  type(r) AS r_type, \n",
      "  properties(r) AS r_properties, \n",
      "  properties(m) AS m_properties\u001b[0m\n"
     ]
    },
    {
     "name": "stderr",
     "output_type": "stream",
     "text": [
      "Transaction failed and will be retried in 1.0007843342006637s (Couldn't connect to localhost:7687 (resolved to ()):\n",
      "Failed to establish connection to ResolvedIPv6Address(('::1', 7687, 0, 0)) (reason [WinError 10061] No connection could be made because the target machine actively refused it)\n",
      "Failed to establish connection to ResolvedIPv4Address(('127.0.0.1', 7687)) (reason [WinError 10061] No connection could be made because the target machine actively refused it))\n",
      "Transaction failed and will be retried in 1.659365933953684s (Couldn't connect to localhost:7687 (resolved to ()):\n",
      "Failed to establish connection to ResolvedIPv6Address(('::1', 7687, 0, 0)) (reason [WinError 10061] No connection could be made because the target machine actively refused it)\n",
      "Failed to establish connection to ResolvedIPv4Address(('127.0.0.1', 7687)) (reason [WinError 10061] No connection could be made because the target machine actively refused it))\n",
      "Transaction failed and will be retried in 4.2546576430702485s (Couldn't connect to localhost:7687 (resolved to ()):\n",
      "Failed to establish connection to ResolvedIPv6Address(('::1', 7687, 0, 0)) (reason [WinError 10061] No connection could be made because the target machine actively refused it)\n",
      "Failed to establish connection to ResolvedIPv4Address(('127.0.0.1', 7687)) (reason [WinError 10061] No connection could be made because the target machine actively refused it))\n",
      "Transaction failed and will be retried in 8.3415276496714s (Couldn't connect to localhost:7687 (resolved to ()):\n",
      "Failed to establish connection to ResolvedIPv6Address(('::1', 7687, 0, 0)) (reason [WinError 10061] No connection could be made because the target machine actively refused it)\n",
      "Failed to establish connection to ResolvedIPv4Address(('127.0.0.1', 7687)) (reason [WinError 10061] No connection could be made because the target machine actively refused it))\n",
      " 94%|█████████▎| 74/79 [24:15<02:39, 31.98s/it]"
     ]
    },
    {
     "name": "stdout",
     "output_type": "stream",
     "text": [
      "\n",
      "\n",
      "\u001b[1m> Entering new GraphCypherQAChain chain...\u001b[0m\n",
      "Generated Cypher:\n",
      "\u001b[32;1m\u001b[1;3mMATCH (n:`Chính_sách`)-[r:`ÁP_DỤNG_CHO`]->(m)\n",
      "WHERE n.id CONTAINS 'Giảm 50% Học Phí'\n",
      "RETURN \n",
      "  properties(n) AS n_properties, \n",
      "  type(r) AS r_type, \n",
      "  properties(r) AS r_properties, \n",
      "  properties(m) AS m_properties\u001b[0m\n"
     ]
    },
    {
     "name": "stderr",
     "output_type": "stream",
     "text": [
      "Transaction failed and will be retried in 1.1194392506110207s (Couldn't connect to localhost:7687 (resolved to ()):\n",
      "Failed to establish connection to ResolvedIPv6Address(('::1', 7687, 0, 0)) (reason [WinError 10061] No connection could be made because the target machine actively refused it)\n",
      "Failed to establish connection to ResolvedIPv4Address(('127.0.0.1', 7687)) (reason [WinError 10061] No connection could be made because the target machine actively refused it))\n",
      "Transaction failed and will be retried in 2.31361119113151s (Couldn't connect to localhost:7687 (resolved to ()):\n",
      "Failed to establish connection to ResolvedIPv6Address(('::1', 7687, 0, 0)) (reason [WinError 10061] No connection could be made because the target machine actively refused it)\n",
      "Failed to establish connection to ResolvedIPv4Address(('127.0.0.1', 7687)) (reason [WinError 10061] No connection could be made because the target machine actively refused it))\n",
      "Transaction failed and will be retried in 3.4107278784977417s (Couldn't connect to localhost:7687 (resolved to ()):\n",
      "Failed to establish connection to ResolvedIPv6Address(('::1', 7687, 0, 0)) (reason [WinError 10061] No connection could be made because the target machine actively refused it)\n",
      "Failed to establish connection to ResolvedIPv4Address(('127.0.0.1', 7687)) (reason [WinError 10061] No connection could be made because the target machine actively refused it))\n",
      "Transaction failed and will be retried in 9.064543710166244s (Couldn't connect to localhost:7687 (resolved to ()):\n",
      "Failed to establish connection to ResolvedIPv6Address(('::1', 7687, 0, 0)) (reason [WinError 10061] No connection could be made because the target machine actively refused it)\n",
      "Failed to establish connection to ResolvedIPv4Address(('127.0.0.1', 7687)) (reason [WinError 10061] No connection could be made because the target machine actively refused it))\n",
      " 95%|█████████▍| 75/79 [25:02<02:26, 36.70s/it]"
     ]
    },
    {
     "name": "stdout",
     "output_type": "stream",
     "text": [
      "\n",
      "\n",
      "\u001b[1m> Entering new GraphCypherQAChain chain...\u001b[0m\n",
      "Generated Cypher:\n",
      "\u001b[32;1m\u001b[1;3mMATCH (n:`Khái_niệm`)-[r]->(m)\n",
      "WHERE n.id CONTAINS 'Đánh Giá Năng Lực Tiếng Anh' AND m.id CONTAINS 'Mục Đích'\n",
      "RETURN \n",
      "  properties(n) AS n_properties, \n",
      "  type(r) AS r_type, \n",
      "  properties(r) AS r_properties, \n",
      "  properties(m) AS m_properties\u001b[0m\n"
     ]
    },
    {
     "name": "stderr",
     "output_type": "stream",
     "text": [
      "Transaction failed and will be retried in 0.8626130762810303s (Couldn't connect to localhost:7687 (resolved to ()):\n",
      "Failed to establish connection to ResolvedIPv6Address(('::1', 7687, 0, 0)) (reason [WinError 10061] No connection could be made because the target machine actively refused it)\n",
      "Failed to establish connection to ResolvedIPv4Address(('127.0.0.1', 7687)) (reason [WinError 10061] No connection could be made because the target machine actively refused it))\n",
      "Transaction failed and will be retried in 2.030343982643739s (Couldn't connect to localhost:7687 (resolved to ()):\n",
      "Failed to establish connection to ResolvedIPv6Address(('::1', 7687, 0, 0)) (reason [WinError 10061] No connection could be made because the target machine actively refused it)\n",
      "Failed to establish connection to ResolvedIPv4Address(('127.0.0.1', 7687)) (reason [WinError 10061] No connection could be made because the target machine actively refused it))\n",
      "Transaction failed and will be retried in 3.4640439229186746s (Couldn't connect to localhost:7687 (resolved to ()):\n",
      "Failed to establish connection to ResolvedIPv6Address(('::1', 7687, 0, 0)) (reason [WinError 10061] No connection could be made because the target machine actively refused it)\n",
      "Failed to establish connection to ResolvedIPv4Address(('127.0.0.1', 7687)) (reason [WinError 10061] No connection could be made because the target machine actively refused it))\n",
      "Transaction failed and will be retried in 8.85454517388133s (Couldn't connect to localhost:7687 (resolved to ()):\n",
      "Failed to establish connection to ResolvedIPv6Address(('::1', 7687, 0, 0)) (reason [WinError 10061] No connection could be made because the target machine actively refused it)\n",
      "Failed to establish connection to ResolvedIPv4Address(('127.0.0.1', 7687)) (reason [WinError 10061] No connection could be made because the target machine actively refused it))\n",
      " 96%|█████████▌| 76/79 [25:50<01:59, 39.85s/it]"
     ]
    },
    {
     "name": "stdout",
     "output_type": "stream",
     "text": [
      "\n",
      "\n",
      "\u001b[1m> Entering new GraphCypherQAChain chain...\u001b[0m\n",
      "Generated Cypher:\n",
      "\u001b[32;1m\u001b[1;3mMATCH (n:`Khái_niệm`)-[r]->(m)\n",
      "WHERE n.id CONTAINS 'Đề Kiểm Tra Tiếng Anh'\n",
      "RETURN \n",
      "  properties(n) AS n_properties, \n",
      "  type(r) AS r_type, \n",
      "  properties(r) AS r_properties, \n",
      "  properties(m) AS m_properties\u001b[0m\n"
     ]
    },
    {
     "name": "stderr",
     "output_type": "stream",
     "text": [
      "Transaction failed and will be retried in 0.8073955760012449s (Couldn't connect to localhost:7687 (resolved to ()):\n",
      "Failed to establish connection to ResolvedIPv6Address(('::1', 7687, 0, 0)) (reason [WinError 10061] No connection could be made because the target machine actively refused it)\n",
      "Failed to establish connection to ResolvedIPv4Address(('127.0.0.1', 7687)) (reason [WinError 10061] No connection could be made because the target machine actively refused it))\n",
      "Transaction failed and will be retried in 1.9127647617686734s (Couldn't connect to localhost:7687 (resolved to ()):\n",
      "Failed to establish connection to ResolvedIPv6Address(('::1', 7687, 0, 0)) (reason [WinError 10061] No connection could be made because the target machine actively refused it)\n",
      "Failed to establish connection to ResolvedIPv4Address(('127.0.0.1', 7687)) (reason [WinError 10061] No connection could be made because the target machine actively refused it))\n",
      "Transaction failed and will be retried in 3.906427875568246s (Couldn't connect to localhost:7687 (resolved to ()):\n",
      "Failed to establish connection to ResolvedIPv6Address(('::1', 7687, 0, 0)) (reason [WinError 10061] No connection could be made because the target machine actively refused it)\n",
      "Failed to establish connection to ResolvedIPv4Address(('127.0.0.1', 7687)) (reason [WinError 10061] No connection could be made because the target machine actively refused it))\n",
      "Transaction failed and will be retried in 7.338843147323878s (Couldn't connect to localhost:7687 (resolved to ()):\n",
      "Failed to establish connection to ResolvedIPv6Address(('::1', 7687, 0, 0)) (reason [WinError 10061] No connection could be made because the target machine actively refused it)\n",
      "Failed to establish connection to ResolvedIPv4Address(('127.0.0.1', 7687)) (reason [WinError 10061] No connection could be made because the target machine actively refused it))\n"
     ]
    },
    {
     "name": "stdout",
     "output_type": "stream",
     "text": [
      "Full Context:\n",
      "\u001b[32;1m\u001b[1;3m[]\u001b[0m\n"
     ]
    },
    {
     "name": "stderr",
     "output_type": "stream",
     "text": [
      " 97%|█████████▋| 77/79 [26:39<01:25, 42.61s/it]"
     ]
    },
    {
     "name": "stdout",
     "output_type": "stream",
     "text": [
      "\n",
      "\u001b[1m> Finished chain.\u001b[0m\n",
      "\n",
      "\n",
      "\u001b[1m> Entering new GraphCypherQAChain chain...\u001b[0m\n",
      "Generated Cypher:\n",
      "\u001b[32;1m\u001b[1;3mMATCH (n:`Khái_niệm`)-[r]->(m)\n",
      "WHERE n.id CONTAINS 'Đánh Giá Năng Lực Tiếng Anh'\n",
      "RETURN \n",
      "  properties(n) AS n_properties, \n",
      "  type(r) AS r_type, \n",
      "  properties(r) AS r_properties, \n",
      "  properties(m) AS m_properties\u001b[0m\n",
      "Full Context:\n",
      "\u001b[32;1m\u001b[1;3m[]\u001b[0m\n"
     ]
    },
    {
     "name": "stderr",
     "output_type": "stream",
     "text": [
      " 99%|█████████▊| 78/79 [26:58<00:35, 35.66s/it]"
     ]
    },
    {
     "name": "stdout",
     "output_type": "stream",
     "text": [
      "\n",
      "\u001b[1m> Finished chain.\u001b[0m\n",
      "\n",
      "\n",
      "\u001b[1m> Entering new GraphCypherQAChain chain...\u001b[0m\n",
      "Generated Cypher:\n",
      "\u001b[32;1m\u001b[1;3mMATCH (n:`Khái_niệm`)-[r:`PHÂN_LOẠI`]->(m)\n",
      "WHERE n.id CONTAINS 'Kết Quả Điểm Rèn Luyện'\n",
      "RETURN \n",
      "  properties(n) AS n_properties, \n",
      "  type(r) AS r_type, \n",
      "  properties(r) AS r_properties, \n",
      "  properties(m) AS m_properties\u001b[0m\n",
      "Full Context:\n",
      "\u001b[32;1m\u001b[1;3m[]\u001b[0m\n"
     ]
    },
    {
     "name": "stderr",
     "output_type": "stream",
     "text": [
      "100%|██████████| 79/79 [27:16<00:00, 20.72s/it]"
     ]
    },
    {
     "name": "stdout",
     "output_type": "stream",
     "text": [
      "\n",
      "\u001b[1m> Finished chain.\u001b[0m\n",
      "✅ Đã lưu kết quả vào: d:\\WorkSpace\\python\\thesis\\web_graph_rag\\output_results.xlsx\n"
     ]
    },
    {
     "name": "stderr",
     "output_type": "stream",
     "text": [
      "\n"
     ]
    }
   ],
   "source": [
    "import os\n",
    "import pandas as pd\n",
    "from tqdm import tqdm\n",
    "\n",
    "# Đọc dữ liệu\n",
    "df = pd.read_excel(os.path.join(os.getcwd(), 'app', 'questions.xlsx'))\n",
    "list_query_one_node = df['Truy vấn 1 thực thể'].dropna().tolist()\n",
    "list_query_two_node = df['Câu hỏi 2 thực thể 1 quan hệ'].dropna().tolist()\n",
    "\n",
    "# Hàm xử lý từng nhóm câu hỏi\n",
    "def process_queries(queries):\n",
    "    results = []\n",
    "    for query in tqdm(queries):\n",
    "        try:\n",
    "            result = chain.invoke({\"query\": query})\n",
    "            cypher = result.get(\"intermediate_steps\", [{}])[0].get(\"query\", \"\")\n",
    "            answer = result.get(\"result\", \"\")\n",
    "            results.append({\n",
    "                \"Câu hỏi\": query,\n",
    "                \"Câu lệnh Cypher\": cypher,\n",
    "                \"Câu trả lời\": answer\n",
    "            })\n",
    "        except Exception as e:\n",
    "            results.append({\n",
    "                \"Câu hỏi\": query,\n",
    "                \"Câu lệnh Cypher\": \"LỖI\",\n",
    "                \"Câu trả lời\": f\"Lỗi: {e}\"\n",
    "            })\n",
    "    return pd.DataFrame(results)\n",
    "\n",
    "# Xử lý từng danh sách\n",
    "df_one_node = process_queries(list_query_one_node)\n",
    "df_two_node = process_queries(list_query_two_node)\n",
    "\n",
    "# Ghi ra file Excel\n",
    "output_path = os.path.join(os.getcwd(), \"output_results.xlsx\")\n",
    "with pd.ExcelWriter(output_path, engine='openpyxl') as writer:\n",
    "    df_one_node.to_excel(writer, sheet_name=\"Truy vấn 1 thực thể\", index=False)\n",
    "    df_two_node.to_excel(writer, sheet_name=\"Truy vấn 2 thực thể\", index=False)\n",
    "\n",
    "print(\"✅ Đã lưu kết quả vào:\", output_path)\n"
   ]
  },
  {
   "cell_type": "code",
   "execution_count": 18,
   "metadata": {},
   "outputs": [
    {
     "name": "stdout",
     "output_type": "stream",
     "text": [
      "\n",
      "\n",
      "\u001b[1m> Entering new GraphCypherQAChain chain...\u001b[0m\n",
      "Generated Cypher:\n",
      "\u001b[32;1m\u001b[1;3mMATCH (n:`Khái_niệm`)\n",
      "WHERE n.id CONTAINS 'Cổng Thông Tin Thư Viện'\n",
      "RETURN properties(n) AS n_properties\u001b[0m\n",
      "Full Context:\n",
      "\u001b[32;1m\u001b[1;3m[]\u001b[0m\n",
      "\n",
      "\u001b[1m> Finished chain.\u001b[0m\n",
      "Final answer: Tôi không biết câu trả lời cho câu hỏi này.\n"
     ]
    }
   ],
   "source": [
    "result = chain.invoke({\"query\": \"Cổng thông tin Thư Viện là gì?\"})\n",
    "\n",
    "print(f\"Final answer: {result['result']}\")"
   ]
  },
  {
   "cell_type": "code",
   "execution_count": 17,
   "metadata": {},
   "outputs": [
    {
     "data": {
      "text/plain": [
       "{'query': 'Trang web của Thư viện ở địa chỉ nào(Cổng thông tin Thư Viện)?',\n",
       " 'result': 'Tôi không rõ địa chỉ trang web của Thư viện. Bạn có thể kiểm tra thông tin này trực tiếp tại Thư viện hoặc liên hệ với bộ phận hỗ trợ để được hướng dẫn chi tiết.',\n",
       " 'intermediate_steps': [{'query': \"MATCH (n:`Website`)\\nWHERE n.id CONTAINS 'Thư Viện'\\nRETURN properties(n) AS n_properties\"},\n",
       "  {'context': []}]}"
      ]
     },
     "execution_count": 17,
     "metadata": {},
     "output_type": "execute_result"
    }
   ],
   "source": [
    "result"
   ]
  },
  {
   "cell_type": "code",
   "execution_count": 18,
   "metadata": {},
   "outputs": [],
   "source": [
    "# Cách hiển thị Final answer dễ quan sát hơn\n",
    "import textwrap\n",
    "\n",
    "def prettyCypherChain(question: str) -> str:\n",
    "\tresponse = chain.run(question)\n",
    "\tprint(textwrap.fill(response, 60))"
   ]
  },
  {
   "cell_type": "code",
   "execution_count": 22,
   "metadata": {},
   "outputs": [
    {
     "name": "stdout",
     "output_type": "stream",
     "text": [
      "\n",
      "\n",
      "\u001b[1m> Entering new GraphCypherQAChain chain...\u001b[0m\n",
      "Generated Cypher:\n",
      "\u001b[32;1m\u001b[1;3mcypher\n",
      "MATCH (n:Khái_niệm {id: \"Đào Tạo Chính Quy\"}) RETURN n.định_nghĩa\n",
      "\u001b[0m\n",
      "Full Context:\n",
      "\u001b[32;1m\u001b[1;3m[{'n.định_nghĩa': None}]\u001b[0m\n",
      "\n",
      "\u001b[1m> Finished chain.\u001b[0m\n",
      "Tôi không biết câu trả lời cho câu hỏi \"Đào tạo chính quy là\n",
      "gì?\".\n"
     ]
    }
   ],
   "source": [
    "prettyCypherChain(\"Đào tạo chính quy là gì?\")"
   ]
  }
 ],
 "metadata": {
  "kernelspec": {
   "display_name": "Python 3",
   "language": "python",
   "name": "python3"
  },
  "language_info": {
   "codemirror_mode": {
    "name": "ipython",
    "version": 3
   },
   "file_extension": ".py",
   "mimetype": "text/x-python",
   "name": "python",
   "nbconvert_exporter": "python",
   "pygments_lexer": "ipython3",
   "version": "3.12.4"
  }
 },
 "nbformat": 4,
 "nbformat_minor": 2
}
