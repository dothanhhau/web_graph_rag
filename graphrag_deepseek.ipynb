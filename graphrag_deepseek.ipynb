{
 "cells": [
  {
   "cell_type": "code",
   "execution_count": 84,
   "metadata": {},
   "outputs": [],
   "source": [
    "from langchain.prompts import ChatPromptTemplate\n",
    "\n",
    "prompt_vietnam = (\n",
    "\t\"# Hướng dẫn xây dựng Đồ thị Tri thức từ văn bản quy chế tiếng Việt\\n\"\n",
    "\t\"## 1. Mục tiêu\\n\"\n",
    "\t\"Bạn là một mô hình trích xuất thông tin chất lượng cao, được thiết kế để xây dựng đồ thị tri thức từ văn bản quy định, đặc biệt là quy chế đào tạo đại học bằng tiếng Việt.\\n\"\n",
    "\t\"Hãy cố gắng trích xuất tối đa thông tin có trong văn bản **mà không thêm bất kỳ thông tin nào không được nêu rõ**.\\n\"\n",
    "\t\"- **Node** là các thực thể hoặc khái niệm xuất hiện trong văn bản.\\n\"\n",
    "\t\"- **Edge** là quan hệ giữa các node, phản ánh mối liên kết có trong nội dung văn bản.\\n\"\n",
    "\t\"- Kết quả phải dễ hiểu, rõ ràng, có thể dùng để xây dựng hệ thống truy vấn đồ thị tri thức.\\n\\n\"\n",
    "\n",
    "\t\"## 2. Gán nhãn thực thể (Labeling Nodes)\\n\"\n",
    "\t\"- Mỗi node phải có `id` là tên thực thể trích từ văn bản, và `type` là loại thực thể.\\n\"\n",
    "\t\"- Nếu thực thể thuộc các loại thường gặp như: `CHƯƠNG`, `ĐIỀU`, `KHOẢN`, `CHỦ_THỂ`, `HOẠT_ĐỘNG`, `YÊU_CẦU`, `CÓ`, `LÀ`, `XẾP_LOẠI`, `KHÁI_NIỆM`, ... thì hãy dùng đúng loại đó.\\n\"\n",
    "\t\"- Nếu thực thể không thuộc các loại trên, HÃY TỰ ĐẶT `type` mới phù hợp bằng tiếng Việt.\\n\"\n",
    "\t\"- Không được dùng số làm `id`. `id` phải là tên nguyên văn hoặc dễ hiểu từ văn bản, ví dụ: \\\"Chương trình đào tạo\\\", \\\"Sinh viên\\\".\\n\"\n",
    "\t\"- Nếu trong văn bản có mô tả hoặc đặc điểm đi kèm thực thể, hãy trích xuất dưới dạng `properties`.\\n\"\n",
    "\t\"- Mỗi node có thể có thêm các thuộc tính khác như `tiêu_đề`, `tên`, `định_nghĩa`, `mô_tả`, `vai_trò`, `phạm_vi`, v.v.\\n\"\n",
    "\t\"- Nếu thuộc tính không nằm trong danh sách gợi ý, bạn được phép tự đặt tên phù hợp (vẫn theo chuẩn viết thường bằng tiếng Việt có dấu gạch dưới).\\n\\n\"\n",
    "\n",
    "\t\"## 3. Gán nhãn quan hệ (Relationships)\\n\"\n",
    "\t\"- Các `edges` phải mô tả chính xác mối liên hệ giữa thực thể nguồn (`source`) và thực thể đích (`target`).\\n\"\n",
    "\t\"- `type` của edge phải là một quan hệ rõ ràng, ngắn gọn, bằng **tiếng Việt viết HOA có dấu gạch dưới**, ví dụ: `QUY_ĐỊNH`, `BAO_GỒM`, `PHẢI_HOÀN_THÀNH`, `LIÊN_QUAN_ĐẾN`, `XẾP_LOẠI`, `THỜI_GIAN`, `LÀM`, `THUỘC`, `THAM_CHIẾU`.\\n\"\n",
    "\t\"- Không dùng tên quan hệ quá cụ thể theo ngữ cảnh tạm thời, ví dụ: `BỊ_CẢNH_BÁO_2_LẦN` là không hợp lệ. Hãy dùng chung như `BỊ_CẢNH_BÁO`.\\n\"\n",
    "\t\"- Nếu quan hệ không nằm trong danh sách gợi ý, bạn được phép tự đặt tên phù hợp (vẫn theo chuẩn viết HOA bằng tiếng Việt có dấu gạch dưới).\\n\"\n",
    "\t\"- Nếu có thông tin bổ sung về quan hệ (ví dụ: điều_kiện, quy_định_chi_tiết, v.v.), hãy thêm vào `properties` của quan hệ.\\n\"\n",
    "\t\"- Nếu thuộc tính không nằm trong danh sách gợi ý, bạn được phép tự đặt tên phù hợp (vẫn theo chuẩn viết thường bằng tiếng Việt có dấu gạch dưới).\\n\\n\"\n",
    "\n",
    "\t\"## 4. Đồng nhất thực thể (Coreference Resolution)\\n\"\n",
    "\t\"- Nếu một thực thể xuất hiện nhiều lần với cách gọi khác nhau (VD: \\\"Trường\\\", \\\"Nhà Trường\\\", \\\"Trường Đại học Quy Nhơn\\\", \\\"trường\\\"), hãy dùng tên đầy đủ nhất làm ID duy nhất.\\n\"\n",
    "\t\"- Không tạo trùng node cho cùng một thực thể.\\n\\n\"\n",
    "\n",
    "\t\"## 5. Tuân thủ định dạng và chính xác\\n\"\n",
    "\t\"- Không giải thích, không thêm bình luận.\\n\"\n",
    "\t\"- Chỉ trả về kết quả theo định dạng JSON gồm `nodes` và `edges`.\\n\"\n",
    "\t\"- Kết quả phải đầy đủ, rõ ràng và có thể phân tích được bằng máy.\\n\"\n",
    ")\n",
    "\n",
    "new_prompt = ChatPromptTemplate.from_messages(\n",
    "\t[\n",
    "\t\t(\n",
    "\t\t\t\"system\",\n",
    "\t\t\tprompt_vietnam,\n",
    "\t\t),\n",
    "\t\t(\n",
    "\t\t\t\"human\",\n",
    "\t\t\t(\n",
    "\t\t\t\t\"Tip: Make sure to answer in the correct format and do \"\n",
    "\t\t\t\t\"not include any explanations. \"\n",
    "\t\t\t\t\"Use the given format to extract information from the \"\n",
    "\t\t\t\t\"following input: {input}\"\n",
    "\t\t\t),\n",
    "\t\t),\n",
    "\t]\n",
    ")"
   ]
  },
  {
   "cell_type": "code",
   "execution_count": 1,
   "metadata": {},
   "outputs": [],
   "source": [
    "from langchain.prompts import ChatPromptTemplate\n",
    "\n",
    "# Prompt cho tác vụ nhận diện thực thể, quan hệ và thuộc tính\n",
    "prompt_vietnam = (\n",
    "\t\"# Hướng dẫn xây dựng Đồ thị Tri thức từ văn bản quy chế tiếng Việt\\n\"\n",
    "\t\"## 1. Mục tiêu\\n\"\n",
    "\t\"Bạn là một mô hình trích xuất thông tin chất lượng cao, được thiết kế để xây dựng đồ thị tri thức từ văn bản quy định, đặc biệt là quy chế đào tạo đại học bằng tiếng Việt.\\n\"\n",
    "\t\"Hãy cố gắng trích xuất tối đa thông tin có trong văn bản **mà không thêm bất kỳ thông tin nào không được nêu rõ**.\\n\"\n",
    "\t\"- **Node** là các thực thể hoặc khái niệm xuất hiện trong văn bản.\\n\"\n",
    "\t\"- **Edge** là quan hệ giữa các node, phản ánh mối liên kết có trong nội dung văn bản.\\n\"\n",
    "\t\"- Kết quả phải dễ hiểu, rõ ràng, có thể dùng để xây dựng hệ thống truy vấn đồ thị tri thức.\\n\\n\"\n",
    "\n",
    "\t\"## 2. Gán nhãn thực thể (Labeling Nodes)\\n\"\n",
    "\t\"- Mỗi node phải có `id` là tên thực thể trích từ văn bản, và `type` là loại thực thể.\\n\"\n",
    "\t\"- Nếu thực thể thuộc các loại thường gặp như: `CHƯƠNG`, `ĐIỀU`, `KHOẢN`, `CHỦ_THỂ`, `HOẠT_ĐỘNG`, `YÊU_CẦU`, `CÓ`, `LÀ`, `HỌC_LỰC`, `KHÁI_NIỆM`, ... thì hãy dùng đúng loại đó.\\n\"\n",
    "\t\"- Nếu thực thể không thuộc các loại trên, HÃY TỰ ĐẶT `type` mới phù hợp bằng tiếng Việt.\\n\"\n",
    "\t\"- Không được dùng số làm `id`. `id` phải là tên nguyên văn hoặc dễ hiểu từ văn bản, ví dụ: \\\"Chương trình đào tạo\\\", \\\"Sinh viên\\\".\\n\"\n",
    "\t\"- Nếu trong văn bản có mô tả hoặc đặc điểm đi kèm thực thể, hãy trích xuất dưới dạng `properties`.\\n\"\n",
    "\t\"- Mỗi node có thể có thêm các thuộc tính khác như `tiêu_đề`, `tên`, `định_nghĩa`, `mô_tả`, `vai_trò`, `phạm_vi`, v.v.\\n\"\n",
    "\t\"- Nếu thuộc tính không nằm trong danh sách gợi ý, bạn được phép tự đặt tên phù hợp (vẫn theo chuẩn viết thường bằng tiếng Việt có dấu gạch dưới).\\n\\n\"\n",
    "\n",
    "\t\"## 3. Gán nhãn quan hệ (Relationships)\\n\"\n",
    "\t\"- Các `edges` phải mô tả chính xác mối liên hệ giữa thực thể **nguồn** (`source`) và thực thể **đích** (`target`).\\n\"\n",
    "\t\"- `source` là chủ thể thực hiện hoặc chủ thể quy định, và `target` là đối tượng bị tác động hoặc có liên hệ.\\n\"\n",
    "\t\"- `type` của edge phải là một quan hệ rõ ràng, ngắn gọn, bằng **tiếng Việt viết HOA có dấu gạch dưới**, ví dụ: `QUY_ĐỊNH`, `BAO_GỒM`, `PHẢI_HOÀN_THÀNH`, `LIÊN_QUAN_ĐẾN`, `XẾP_LOẠI`, `THỜI_GIAN`, `LÀM`, `THUỘC`, `THAM_CHIẾU`.\\n\"\n",
    "\t\"- Không dùng tên quan hệ quá cụ thể theo ngữ cảnh tạm thời, ví dụ: `BỊ_CẢNH_BÁO_2_LẦN` là không hợp lệ. Hãy dùng dạng tổng quát như `BỊ_CẢNH_BÁO`.\\n\"\n",
    "\t\"- Nếu quan hệ không nằm trong danh sách gợi ý, bạn được phép tự đặt tên phù hợp (vẫn theo chuẩn viết HOA bằng tiếng Việt có dấu gạch dưới).\\n\"\n",
    "\t\"- Nếu có thông tin bổ sung về quan hệ (ví dụ: yêu_cầu, điều_kiện, quy_định, điểm, số_tín_chỉ v.v.), hãy thêm vào `properties` của quan hệ.\\n\"\n",
    "\t\"- Đặc biệt lưu ý: tránh nhầm lẫn `source` và `target`. Hãy đảm bảo hướng quan hệ đúng theo ngữ nghĩa.\\n\\n\"\n",
    "\n",
    "\t\"## 4. Đồng nhất thực thể (Coreference Resolution)\\n\"\n",
    "\t\"- Nếu một thực thể xuất hiện nhiều lần với cách gọi khác nhau (VD: \\\"Trường\\\", \\\"Nhà Trường\\\", \\\"Trường Đại học Quy Nhơn\\\", \\\"trường\\\"), hãy dùng tên đầy đủ nhất làm ID duy nhất.\\n\"\n",
    "\t\"- Không tạo trùng node cho cùng một thực thể.\\n\\n\"\n",
    "\n",
    "\t\"## 5. Tuân thủ định dạng và chính xác\\n\"\n",
    "\t\"- Không giải thích, không thêm bình luận.\\n\"\n",
    "\t\"- Chỉ trả về kết quả theo định dạng JSON gồm `nodes` và `edges`.\\n\"\n",
    "\t\"- Kết quả phải đầy đủ, rõ ràng và có thể phân tích được bằng máy.\\n\"\n",
    ")\n",
    "\n",
    "new_prompt = ChatPromptTemplate.from_messages(\n",
    "    [\n",
    "        (\n",
    "            \"system\",\n",
    "            prompt_vietnam,\n",
    "        ),\n",
    "        (\n",
    "            \"human\",\n",
    "            (\n",
    "                \"Tip: Make sure to answer in the correct format and do \"\n",
    "                \"not include any explanations. \"\n",
    "                \"Use the given format to extract information from the \"\n",
    "                \"following input: {input}\"\n",
    "            ),\n",
    "        ),\n",
    "    ]\n",
    ")\n"
   ]
  },
  {
   "cell_type": "code",
   "execution_count": 2,
   "metadata": {},
   "outputs": [],
   "source": [
    "import os\n",
    "from dotenv import load_dotenv\n",
    "from langchain_deepseek import ChatDeepSeek\n",
    "from langchain_core.documents import Document\n",
    "from langchain_experimental.graph_transformers import LLMGraphTransformer\n",
    "load_dotenv()\n",
    "\n",
    "# Mô hình deepseek\n",
    "os.environ[\"DEEPSEEK_API_KEY\"] = str(os.getenv(\"DEEPSEEK_API_KEY\"))\n",
    "llm = ChatDeepSeek(\n",
    "\tmodel=\"deepseek-chat\",# deepseek-reasoner, deepseek-chat\n",
    "\t# temperature=1,\n",
    "\t# max_tokens=8000,\n",
    "\t# timeout=None,\n",
    "\t# max_retries=2,\n",
    ")"
   ]
  },
  {
   "cell_type": "code",
   "execution_count": 3,
   "metadata": {},
   "outputs": [],
   "source": [
    "llm_transformer = LLMGraphTransformer(llm=llm, prompt=new_prompt, node_properties=True ,relationship_properties=True)"
   ]
  },
  {
   "cell_type": "code",
   "execution_count": 4,
   "metadata": {},
   "outputs": [],
   "source": [
    "arr = [\n",
    "'''Thời gian theo kế hoạch học tập chuẩn toàn khóa đối với hình thức đào tạo chính quy: 4,5 năm đối với các ngành đào tạo kỹ sư; 3,5 năm đối với ngành đào tạo cử nhân kỹ thuật và 4 năm đối với các ngành còn lại. Khối lượng học tập của chương trình đào tạo (không kể khối lượng các học phần Giáo dục thể chất và Giáo dục quốc phòng - an ninh):\n",
    "Các ngành cấp bằng Kỹ sư: 150 tín chỉ.\n",
    "Các ngành đào tạo giáo viên (ngành sư phạm): 138 tín chỉ.\n",
    "Các ngành đào tạo cử nhân kỹ thuật: 120 tín chỉ.\n",
    "Các ngành còn lại: 135 tín chỉ.\n",
    "Khối lượng học tập của chương trình đào tạo có thể thay đổi phù hợp với yêu cầu cập nhật, điều chỉnh chương trình đào tạo nhưng phải đảm bảo quy định theo chuẩn chương trình đào tạo hiện hành của Bộ Giáo dục và Đào tạo.''']\n"
   ]
  },
  {
   "cell_type": "code",
   "execution_count": 161,
   "metadata": {},
   "outputs": [
    {
     "name": "stdout",
     "output_type": "stream",
     "text": [
      "193\n"
     ]
    }
   ],
   "source": [
    "# Đọc hết tất cả 14 file để chuẩn bị chuyển thành đồ thị\n",
    "base_dir = os.getcwd()\n",
    "arr = []\n",
    "# Tạo đường dẫn đến thư mục txt\n",
    "folder_path = os.path.join(base_dir, 'app', 'static', 'txt')\n",
    "folder_path = 'D:/WorkSpace/python/thesis/web_graph_rag/app/static/txt'\n",
    "for filename in os.listdir(folder_path):\n",
    "\tif filename.endswith('.txt'):\n",
    "\t\tfile_path = os.path.join(folder_path, filename)\n",
    "\t\twith open(file_path, 'r', encoding='utf-8') as f:\n",
    "\t\t\tcontent = f.read()\n",
    "\t\t\tarr = arr + content.split('\\n\\n')\n",
    "\t\t\t# print(f\"Nội dung của {filename}:\\n{content}\\n\")\n",
    "\n",
    "print(len(arr))"
   ]
  },
  {
   "cell_type": "code",
   "execution_count": 184,
   "metadata": {},
   "outputs": [],
   "source": [
    "# # Đọc hết tất cả 14 file để chuẩn bị chuyển thành đồ thị\n",
    "# base_dir = os.getcwd()\n",
    "# # Tạo đường dẫn đến thư mục txt\n",
    "# folder_path = os.path.join(base_dir, 'app', 'static', 'txt')\n",
    "# folder_path = 'D:/WorkSpace/python/thesis/web_graph_rag/app/static/txt'\n",
    "# for filename in os.listdir(folder_path):\n",
    "# \tif filename.endswith('.txt'):\n",
    "# \t\tfile_path = os.path.join(folder_path, filename)\n",
    "# \t\twith open(file_path, 'r', encoding='utf-8') as f:\n",
    "# \t\t\tcontent = f.read()\n",
    "# \t\t\tprint(f\"Nội dung của {filename}:\\n\")\n",
    "\n",
    "# # print(len(arr))"
   ]
  },
  {
   "cell_type": "code",
   "execution_count": 4,
   "metadata": {},
   "outputs": [
    {
     "data": {
      "text/plain": [
       "5"
      ]
     },
     "execution_count": 4,
     "metadata": {},
     "output_type": "execute_result"
    }
   ],
   "source": [
    "# Đọc 1 file\n",
    "base_dir = os.getcwd()\n",
    "# Quy chế đào tạo trình độ đại học.txt\n",
    "# Quy định về học phí của sinh viên đại học hệ chính quy.txt\n",
    "# dữ liệu đánh giá.txt\n",
    "arr = []\n",
    "file_name = 'miss.txt'\n",
    "# folder_path = os.path.join(base_dir, 'app', 'static', 'txt', file_name)\n",
    "folder_path = os.path.join(base_dir, file_name)\n",
    "with open(folder_path, 'r', encoding='utf-8') as f:\n",
    "\tcontent = f.read()\n",
    "\tarr = arr + content.split('\\n\\n')\n",
    "\t# arr.append(content)\n",
    "\t\n",
    "len(arr)"
   ]
  },
  {
   "cell_type": "code",
   "execution_count": 5,
   "metadata": {},
   "outputs": [],
   "source": [
    "# Tạo cấu trúc Document để vào LLMGraphTransformer xử lý\n",
    "documents = []\n",
    "for x in arr:\n",
    "\tdocuments.append(Document(page_content=x))"
   ]
  },
  {
   "cell_type": "code",
   "execution_count": 34,
   "metadata": {},
   "outputs": [
    {
     "data": {
      "text/plain": [
       "[Document(metadata={}, page_content='Phụ lục: MỘT SỐ NỘI DUNG VI PHẠM VÀ KHUNG XỬ LÝ KHI VI PHẠM LUẬT SINH VIÊN\\n13. Tàng trữ, lưu hành, truy cập, sử dụng sản phẩm văn hóa đồi trụy hoặc tham gia các hoạt động mê tín dị đoan, hoạt động tôn giáo trái phép:  \\nLần 1: Khiển trách  \\nLần 2: Cảnh cáo  \\nLần 3: Đình chỉ có thời hạn  \\nLần 4: Buộc thôi học và giao cho cơ quan chức năng xử lý theo quy định pháp luật  \\n14. Buôn bán, vận chuyển, tàng trữ, lôi kéo người khác sử dụng ma túy:  \\nXử lý nghiêm, giao cho cơ quan chức năng xử lý theo quy định pháp luật  \\n15. Sử dụng ma túy:  \\nBuộc thôi học và xử lý theo quy định về sinh viên liên quan đến ma túy  \\n16. Chứa chấp, môi giới mại dâm:  \\nBuộc thôi học và giao cho cơ quan chức năng xử lý theo quy định pháp luật  \\n17. Hoạt động mại dâm:  \\nLần 1: Khiển trách  \\nLần 2: Cảnh cáo  \\nLần 3: Đình chỉ có thời hạn  \\nLần 4: Buộc thôi học và xử lý theo quy định pháp luật  \\n18. Lấy cắp tài sản, chứa chấp, tiêu thụ tài sản do lấy cắp mà có:  \\nTùy mức độ vi phạm:  \\nLần 1: Khiển trách  \\nLần 2: Cảnh cáo  \\nLần 3: Đình chỉ có thời hạn  \\nLần 4: Buộc thôi học và giao cho cơ quan chức năng xử lý nếu nghiêm trọng  \\n19. Chứa chấp, buôn bán vũ khí, chất nổ và hàng cấm theo quy định của Nhà nước:  \\nBuộc thôi học và giao cho cơ quan chức năng xử lý theo quy định pháp luật  \\n20. Đưa phản vật vào trong trường, ký túc xá ảnh hưởng xấu đến an ninh, trật tự trong nhà trường:  \\nTùy mức độ vi phạm:  \\nLần 1: Khiển trách  \\nLần 2: Cảnh cáo  \\nLần 3: Đình chỉ có thời hạn  \\nLần 4: Buộc thôi học  \\n21. Đánh nhau, lôi kéo hoặc tham gia tổ chức đánh nhau:  \\nLần 1: Khiển trách  \\nLần 2: Cảnh cáo  \\nLần 3: Đình chỉ có thời hạn  \\nLần 4: Buộc thôi học và giao cho cơ quan chức năng xử lý nếu nghiêm trọng  \\n22. Kích động, lôi kéo người khác đánh nhau hoặc gây rối an ninh, trật tự:  \\nLần 1: Khiển trách  \\nLần 2: Cảnh cáo  \\nLần 3: Đình chỉ có thời hạn  \\nLần 4: Buộc thôi học và giao cho cơ quan chức năng xử lý nếu nghiêm trọng  \\n23. Tham gia biểu tình, tụ tập đông người, khiếu kiện trái quy định của pháp luật:  \\nLần 1: Khiển trách  \\nLần 2: Cảnh cáo  \\nLần 3: Đình chỉ có thời hạn  \\nLần 4: Buộc thôi học và giao cho cơ quan chức năng xử lý theo quy định của pháp luật  \\n24. Đăng tải, bình luận, chia sẻ bài viết, hình ảnh có nội dung dung tục, bạo lực, đồi trụy, xâm phạm an ninh quốc gia, chống phá Đảng và Nhà nước, xuyên tạc, vu khống, xúc phạm uy tín của tổ chức, danh dự và nhân phẩm của cá nhân trên mạng Internet:  \\nTùy theo mức độ vi phạm, xử lý từ khiển trách đến buộc thôi học. Nếu nghiêm trọng, giao cho cơ quan chức năng xử lý theo quy định của pháp luật.  \\n25. Có hành động quấy rối, dâm ô, xâm phạm nhân phẩm, đời tư của người khác:  \\nTùy theo mức độ vi phạm, xử lý từ khiển trách đến buộc thôi học. Nếu nghiêm trọng, giao cho cơ quan chức năng xử lý theo quy định của pháp luật.  \\n26. Vi phạm các quy định về an toàn giao thông:  \\nTùy theo mức độ vi phạm, xử lý từ khiển trách đến buộc thôi học.  \\n27. Các vi phạm khác:  \\nTùy theo mức độ vi phạm, nhà trường xem xét, nhắc nhở, phê bình, trừ điểm rèn luyện hoặc xử lý kỷ luật từ khiển trách đến buộc thôi học.')]"
      ]
     },
     "execution_count": 34,
     "metadata": {},
     "output_type": "execute_result"
    }
   ],
   "source": [
    "documents"
   ]
  },
  {
   "cell_type": "code",
   "execution_count": 6,
   "metadata": {},
   "outputs": [],
   "source": [
    "# Chuyển các document thành các thực thể và quan hệ\n",
    "graph_documents = llm_transformer.convert_to_graph_documents(documents=documents)"
   ]
  },
  {
   "cell_type": "code",
   "execution_count": 183,
   "metadata": {},
   "outputs": [],
   "source": [
    "graph_full_temperature_0 = graph_documents"
   ]
  },
  {
   "cell_type": "code",
   "execution_count": 37,
   "metadata": {},
   "outputs": [
    {
     "name": "stdout",
     "output_type": "stream",
     "text": [
      "\n",
      "----------------------------------------\n",
      "\n"
     ]
    }
   ],
   "source": [
    "# Một các hiển thị dễ quan sát hơn\n",
    "for x in graph_documents:\n",
    "\tfor y in x.nodes:\n",
    "\t\tprint(f\"{y.type} - {y.id} - {y.properties}\")\n",
    "\tprint()\n",
    "\tfor y in x.relationships:\n",
    "\t\tprint(f\"({y.source.type}: {y.source.id}) - ({y.type}:{y.properties}) - ({y.target.type}:{y.target.id})\")\n",
    "\t\n",
    "\tprint('-'*40)\n",
    "\tprint()"
   ]
  },
  {
   "cell_type": "code",
   "execution_count": 8,
   "metadata": {},
   "outputs": [
    {
     "data": {
      "text/plain": [
       "GraphDocument(nodes=[Node(id='Hình Thức Đào Tạo Chính Quy', type='Hình_thức_đào_tạo', properties={}), Node(id='Ngành Đào Tạo Kỹ Sư', type='Ngành_đào_tạo', properties={}), Node(id='Ngành Đào Tạo Cử Nhân Kỹ Thuật', type='Ngành_đào_tạo', properties={}), Node(id='Các Ngành Còn Lại', type='Ngành_đào_tạo', properties={}), Node(id='Chương Trình Đào Tạo', type='Chương_trình_đào_tạo', properties={}), Node(id='Khối Lượng Học Tập', type='Khối_lượng_học_tập', properties={}), Node(id='Học Phần Giáo Dục Thể Chất', type='Học_phần', properties={}), Node(id='Học Phần Giáo Dục Quốc Phòng - An Ninh', type='Học_phần', properties={}), Node(id='Bộ Giáo Dục Và Đào Tạo', type='Cơ_quan', properties={}), Node(id='Ngành Cấp Bằng Kỹ Sư', type='Ngành_đào_tạo', properties={}), Node(id='Ngành Đào Tạo Giáo Viên', type='Ngành_đào_tạo', properties={})], relationships=[Relationship(source=Node(id='Hình Thức Đào Tạo Chính Quy', type='Hình_thức_đào_tạo', properties={}), target=Node(id='Ngành Đào Tạo Kỹ Sư', type='Ngành_đào_tạo', properties={}), type='THỜI_GIAN', properties={'thời_gian': '4,5 năm'}), Relationship(source=Node(id='Hình Thức Đào Tạo Chính Quy', type='Hình_thức_đào_tạo', properties={}), target=Node(id='Ngành Đào Tạo Cử Nhân Kỹ Thuật', type='Ngành_đào_tạo', properties={}), type='THỜI_GIAN', properties={'thời_gian': '3,5 năm'}), Relationship(source=Node(id='Hình Thức Đào Tạo Chính Quy', type='Hình_thức_đào_tạo', properties={}), target=Node(id='Các Ngành Còn Lại', type='Ngành_đào_tạo', properties={}), type='THỜI_GIAN', properties={'thời_gian': '4 năm'}), Relationship(source=Node(id='Chương Trình Đào Tạo', type='Chương_trình_đào_tạo', properties={}), target=Node(id='Khối Lượng Học Tập', type='Khối_lượng_học_tập', properties={}), type='BAO_GỒM', properties={}), Relationship(source=Node(id='Khối Lượng Học Tập', type='Khối_lượng_học_tập', properties={}), target=Node(id='Học Phần Giáo Dục Thể Chất', type='Học_phần', properties={}), type='KHÔNG_BAO_GỒM', properties={}), Relationship(source=Node(id='Khối Lượng Học Tập', type='Khối_lượng_học_tập', properties={}), target=Node(id='Học Phần Giáo Dục Quốc Phòng - An Ninh', type='Học_phần', properties={}), type='KHÔNG_BAO_GỒM', properties={}), Relationship(source=Node(id='Ngành Cấp Bằng Kỹ Sư', type='Ngành_đào_tạo', properties={}), target=Node(id='Khối Lượng Học Tập', type='Khối_lượng_học_tập', properties={}), type='YÊU_CẦU', properties={'số_tín_chỉ': '150'}), Relationship(source=Node(id='Ngành Đào Tạo Giáo Viên', type='Ngành_đào_tạo', properties={}), target=Node(id='Khối Lượng Học Tập', type='Khối_lượng_học_tập', properties={}), type='YÊU_CẦU', properties={'số_tín_chỉ': '138'}), Relationship(source=Node(id='Ngành Đào Tạo Cử Nhân Kỹ Thuật', type='Ngành_đào_tạo', properties={}), target=Node(id='Khối Lượng Học Tập', type='Khối_lượng_học_tập', properties={}), type='YÊU_CẦU', properties={'số_tín_chỉ': '120'}), Relationship(source=Node(id='Các Ngành Còn Lại', type='Ngành_đào_tạo', properties={}), target=Node(id='Khối Lượng Học Tập', type='Khối_lượng_học_tập', properties={}), type='YÊU_CẦU', properties={'số_tín_chỉ': '135'}), Relationship(source=Node(id='Chương Trình Đào Tạo', type='Chương_trình_đào_tạo', properties={}), target=Node(id='Bộ Giáo Dục Và Đào Tạo', type='Cơ_quan', properties={}), type='TUÂN_THỦ', properties={})], source=Document(metadata={}, page_content='Thời gian theo kế hoạch học tập chuẩn toàn khóa đối với hình thức đào tạo chính quy: 4,5 năm đối với các ngành đào tạo kỹ sư; 3,5 năm đối với ngành đào tạo cử nhân kỹ thuật và 4 năm đối với các ngành còn lại. Khối lượng học tập của chương trình đào tạo (không kể khối lượng các học phần Giáo dục thể chất và Giáo dục quốc phòng - an ninh):\\nCác ngành cấp bằng Kỹ sư: 150 tín chỉ.\\nCác ngành đào tạo giáo viên (ngành sư phạm): 138 tín chỉ.\\nCác ngành đào tạo cử nhân kỹ thuật: 120 tín chỉ.\\nCác ngành còn lại: 135 tín chỉ.\\nKhối lượng học tập của chương trình đào tạo có thể thay đổi phù hợp với yêu cầu cập nhật, điều chỉnh chương trình đào tạo nhưng phải đảm bảo quy định theo chuẩn chương trình đào tạo hiện hành của Bộ Giáo dục và Đào tạo.'))"
      ]
     },
     "execution_count": 8,
     "metadata": {},
     "output_type": "execute_result"
    }
   ],
   "source": [
    "graph_documents[0]"
   ]
  },
  {
   "cell_type": "code",
   "execution_count": null,
   "metadata": {},
   "outputs": [],
   "source": [
    "GraphDocument(\n",
    "  nodes=[\n",
    "    Node(\n",
    "\t\t\tid='Hình Thức Đào Tạo Chính Quy', \n",
    "    \ttype='Hình_thức_đào_tạo', properties={}\n",
    "    ),\n",
    "    Node(\n",
    "      id='Ngành Đào Tạo Kỹ Sư', \n",
    "      type='Ngành_đào_tạo', properties={}\n",
    "    ),\n",
    "    ...\n",
    "  ],\n",
    "  relationships=[\n",
    "    Relationship(\n",
    "      source=Node(\n",
    "        id='Hình Thức Đào Tạo Chính Quy', \n",
    "        type='Hình_thức_đào_tạo', properties={}\n",
    "      ),\n",
    "      target=Node(\n",
    "        id='Ngành Đào Tạo Kỹ Sư', \n",
    "        type='Ngành_đào_tạo', properties={}\n",
    "      ),\n",
    "      type='THỜI_GIAN',\n",
    "      properties={'thời_gian': '4,5 năm'}\n",
    "    ),\n",
    "    Relationship(\n",
    "      source=Node(\n",
    "        id='Hình Thức Đào Tạo Chính Quy', \n",
    "        type='Hình_thức_đào_tạo', properties={}\n",
    "      ),\n",
    "      target=Node(\n",
    "        id='Ngành Đào Tạo Cử Nhân Kỹ Thuật', \n",
    "        type='Ngành_đào_tạo', properties={}),\n",
    "      type='THỜI_GIAN',\n",
    "      properties={'thời_gian': '3,5 năm'}\n",
    "    ),\n",
    "    ...\n",
    "\t]\n",
    ")\n",
    "    Relationship(\n",
    "      source=Node(id='Hình Thức Đào Tạo Chính Quy', type='Hình_thức_đào_tạo', properties={}),\n",
    "      target=Node(id='Các Ngành Còn Lại', type='Ngành_đào_tạo', properties={}),\n",
    "      type='THỜI_GIAN',\n",
    "      properties={'thời_gian': '4 năm'}\n",
    "    ),\n",
    "    Relationship(\n",
    "      source=Node(id='Chương Trình Đào Tạo', type='Chương_trình_đào_tạo', properties={}),\n",
    "      target=Node(id='Khối Lượng Học Tập', type='Khối_lượng_học_tập', properties={}),\n",
    "      type='BAO_GỒM',\n",
    "      properties={}\n",
    "    ),\n",
    "    Relationship(\n",
    "      source=Node(id='Khối Lượng Học Tập', type='Khối_lượng_học_tập', properties={}),\n",
    "      target=Node(id='Học Phần Giáo Dục Thể Chất', type='Học_phần', properties={}),\n",
    "      type='KHÔNG_BAO_GỒM',\n",
    "      properties={}\n",
    "    ),\n",
    "    Relationship(\n",
    "      source=Node(id='Khối Lượng Học Tập', type='Khối_lượng_học_tập', properties={}),\n",
    "      target=Node(id='Học Phần Giáo Dục Quốc Phòng - An Ninh', type='Học_phần', properties={}),\n",
    "      type='KHÔNG_BAO_GỒM',\n",
    "      properties={}\n",
    "    ),\n",
    "    Relationship(\n",
    "      source=Node(id='Ngành Cấp Bằng Kỹ Sư', type='Ngành_đào_tạo', properties={}),\n",
    "      target=Node(id='Khối Lượng Học Tập', type='Khối_lượng_học_tập', properties={}),\n",
    "      type='YÊU_CẦU',\n",
    "      properties={'số_tín_chỉ': '150'}\n",
    "    ),\n",
    "    Relationship(\n",
    "      source=Node(id='Ngành Đào Tạo Giáo Viên', type='Ngành_đào_tạo', properties={}),\n",
    "      target=Node(id='Khối Lượng Học Tập', type='Khối_lượng_học_tập', properties={}),\n",
    "      type='YÊU_CẦU',\n",
    "      properties={'số_tín_chỉ': '138'}\n",
    "    ),\n",
    "    Relationship(\n",
    "      source=Node(id='Ngành Đào Tạo Cử Nhân Kỹ Thuật', type='Ngành_đào_tạo', properties={}),\n",
    "      target=Node(id='Khối Lượng Học Tập', type='Khối_lượng_học_tập', properties={}),\n",
    "      type='YÊU_CẦU',\n",
    "      properties={'số_tín_chỉ': '120'}\n",
    "    ),\n",
    "    Relationship(\n",
    "      source=Node(id='Các Ngành Còn Lại', type='Ngành_đào_tạo', properties={}),\n",
    "      target=Node(id='Khối Lượng Học Tập', type='Khối_lượng_học_tập', properties={}),\n",
    "      type='YÊU_CẦU',\n",
    "      properties={'số_tín_chỉ': '135'}\n",
    "    ),\n",
    "    Relationship(\n",
    "      source=Node(id='Chương Trình Đào Tạo', type='Chương_trình_đào_tạo', properties={}),\n",
    "      target=Node(id='Bộ Giáo Dục Và Đào Tạo', type='Cơ_quan', properties={}),\n",
    "      type='TUÂN_THỦ',\n",
    "      properties={}\n",
    "    )\n",
    "  ],\n",
    "  source=Document(\n",
    "    metadata={},\n",
    "    page_content='''\n",
    "Thời gian theo kế hoạch học tập chuẩn toàn khóa đối với hình thức đào tạo chính quy: 4,5 năm đối với các ngành đào tạo kỹ sư; 3,5 năm đối với ngành đào tạo cử nhân kỹ thuật và 4 năm đối với các ngành còn lại. Khối lượng học tập của chương trình đào tạo (không kể khối lượng các học phần Giáo dục thể chất và Giáo dục quốc phòng - an ninh):\n",
    "Các ngành cấp bằng Kỹ sư: 150 tín chỉ.\n",
    "Các ngành đào tạo giáo viên (ngành sư phạm): 138 tín chỉ.\n",
    "Các ngành đào tạo cử nhân kỹ thuật: 120 tín chỉ.\n",
    "Các ngành còn lại: 135 tín chỉ.\n",
    "Khối lượng học tập của chương trình đào tạo có thể thay đổi phù hợp với yêu cầu cập nhật, điều chỉnh chương trình đào tạo nhưng phải đảm bảo quy định theo chuẩn chương trình đào tạo hiện hành của Bộ Giáo dục và Đào Tạo.\n",
    "'''\n",
    "  )\n",
    ")\n"
   ]
  },
  {
   "cell_type": "code",
   "execution_count": 13,
   "metadata": {},
   "outputs": [],
   "source": [
    "import json\n",
    "\n",
    "graph_data = {\n",
    "    \"nodes\": [node.model_dump() for node in graph_documents[0].nodes],\n",
    "    \"edges\": [rel.model_dump() for rel in graph_documents[0].relationships],\n",
    "}\n",
    "\n",
    "with open(\"D:/WorkSpace/python/thesis/web_graph_rag/graph_output.json\", \"w\", encoding=\"utf-8\") as f:\n",
    "    json.dump(graph_data, f, ensure_ascii=False, indent=2)\n"
   ]
  },
  {
   "cell_type": "code",
   "execution_count": 165,
   "metadata": {},
   "outputs": [
    {
     "name": "stdout",
     "output_type": "stream",
     "text": [
      "Đã ghi dữ liệu vào các file.\n"
     ]
    }
   ],
   "source": [
    "# Mở file để ghi output chung và file cho các graph_documents không có nodes và relationships\n",
    "path = 'D:/WorkSpace/python/thesis/web_graph_rag/'\n",
    "with open(path + 'output_all.txt', 'w', encoding='utf-8') as f_all, open(path + 'no_nodes_or_relationships.txt', 'w', encoding='utf-8') as f_no_nodes:\n",
    "\tfor x in graph_documents:\n",
    "\t\thas_nodes_or_relationships = False\n",
    "\n",
    "\t\t# Kiểm tra và ghi nodes vào file\n",
    "\t\tfor y in x.nodes:\n",
    "\t\t\tf_all.write(f\"{y.type} - {y.id} - {y.properties}\\n\")\n",
    "\t\t\thas_nodes_or_relationships = True\n",
    "\t\t\n",
    "\t\t# Kiểm tra và ghi relationships vào file\n",
    "\t\tfor y in x.relationships:\n",
    "\t\t\tf_all.write(f\"({y.source.type}: {y.source.id}) - ({y.type}:{y.properties}) - ({y.target.type}:{y.target.id})\\n\")\n",
    "\t\t\thas_nodes_or_relationships = True\n",
    "\n",
    "\t\t# Nếu không có nodes và relationships, ghi thông tin vào file riêng biệt\n",
    "\t\tif not has_nodes_or_relationships:\n",
    "\t\t\tf_no_nodes.write(f\"GraphDocument không có nodes và relationships:\\n{x.source.page_content}\\n\")\n",
    "\t\t\tf_no_nodes.write('-' * 40 + '\\n')\n",
    "\t\t\n",
    "\t\t# Thêm một dòng phân cách\n",
    "\t\tf_all.write('-' * 40 + '\\n')\n",
    "\n",
    "print(\"Đã ghi dữ liệu vào các file.\")\n"
   ]
  },
  {
   "cell_type": "code",
   "execution_count": 14,
   "metadata": {},
   "outputs": [],
   "source": [
    "# Hàm để chuyển các thực thể và quan hệ vào neo4j\n",
    "def insert_nodes_and_relationships(driver, nodes, relationships):\n",
    "\twith driver.session() as session:\n",
    "\t\t# Chèn nodes\n",
    "\t\tfor node in nodes:\n",
    "\t\t\tx = str(node.type).replace(',', '')\n",
    "\t\t\tx = x.replace(' ', '_')\n",
    "\n",
    "\t\t\tcypher_query = f\"\"\"\n",
    "\t\t\t\tMERGE (n:{x} {{id: $id}})\n",
    "\t\t\t\tSET n += $properties\n",
    "\t\t\t\"\"\"\n",
    "\t\t\tsession.run(\n",
    "\t\t\t\tcypher_query,\n",
    "\t\t\t\tid=node.id,\n",
    "\t\t\t\tproperties=node.properties\n",
    "\t\t\t)\n",
    "\n",
    "\t\t# Chèn relationships\n",
    "\t\tfor relationship in relationships:\n",
    "\t\t\tx = str(relationship.source.type).replace(',', '')\n",
    "\t\t\tx = x.replace(' ', '_')\n",
    "\n",
    "\t\t\ty = str(relationship.target.type).replace(',', '')\n",
    "\t\t\ty = y.replace(' ', '_')\n",
    "\n",
    "\t\t\tz = str(relationship.type).replace(',', '')\n",
    "\t\t\tz = z.replace(' ', '_')\n",
    "\n",
    "\t\t\tcypher_query = f\"\"\"\n",
    "\t\t\t\tMATCH (a:{x} {{id: $source_id}}), \n",
    "\t\t\t\t\t\t\t(b:{y} {{id: $target_id}})\n",
    "\t\t\t\tMERGE (a)-[r:{z}]->(b)\n",
    "\t\t\t\tSET r += $properties\n",
    "\t\t\t\"\"\"\t\n",
    "\t\t\tsession.run(\n",
    "\t\t\t\tcypher_query,\n",
    "\t\t\t\tsource_id=relationship.source.id,\n",
    "\t\t\t\ttarget_id=relationship.target.id,\n",
    "\t\t\t\tproperties=relationship.properties\n",
    "\t\t\t)"
   ]
  },
  {
   "cell_type": "code",
   "execution_count": 15,
   "metadata": {},
   "outputs": [],
   "source": [
    "def insert_nodes_and_relationships(driver, nodes, relationships):\n",
    "\twith driver.session() as session:\n",
    "\t\t# Chèn nodes\n",
    "\t\tfor node in nodes:\n",
    "\t\t\t# Thay thế dấu ',' và khoảng trắng trong tên loại node thành '_'\n",
    "\t\t\tnode_type = str(node.type).replace(',', '').replace(' ', '_').replace('%', '_PHẦN_TRĂM')\n",
    "\t\t\t\n",
    "\t\t\t# Câu lệnh Cypher để MERGE node\n",
    "\t\t\tcypher_query = f\"\"\"\n",
    "\t\t\t\tMERGE (n:{node_type} {{id: $id}})\n",
    "\t\t\t\tSET n += $properties\n",
    "\t\t\t\"\"\"\n",
    "\t\t\tsession.run(\n",
    "\t\t\t\tcypher_query,\n",
    "\t\t\t\tid=node.id,\n",
    "\t\t\t\tproperties=node.properties\n",
    "\t\t\t)\n",
    "\n",
    "\t\t# Chèn relationships\n",
    "\t\tfor relationship in relationships:\n",
    "\t\t\t# Thay thế dấu ',' và khoảng trắng trong tên loại node thành '_'\n",
    "\t\t\tsource_type = str(relationship.source.type).replace(',', '').replace(' ', '_').replace('%', '_PHẦN_TRĂM')\n",
    "\t\t\ttarget_type = str(relationship.target.type).replace(',', '').replace(' ', '_').replace('%', '_PHẦN_TRĂM')\n",
    "\t\t\trelationship_type = str(relationship.type).replace(',', '').replace(' ', '_').replace('%', '_PHẦN_TRĂM')\n",
    "\t\t\t\n",
    "\t\t\t# Câu lệnh Cypher để MERGE relationship\n",
    "\t\t\tcypher_query = f\"\"\"\n",
    "\t\t\t\tMATCH (a:{source_type} {{id: $source_id}}), \n",
    "\t\t\t\t\t\t\t(b:{target_type} {{id: $target_id}})\n",
    "\t\t\t\tMERGE (a)-[r:{relationship_type}]->(b)\n",
    "\t\t\t\tSET r += $properties\n",
    "\t\t\t\"\"\"\n",
    "\t\t\tsession.run(\n",
    "\t\t\t\tcypher_query,\n",
    "\t\t\t\tsource_id=relationship.source.id,\n",
    "\t\t\t\ttarget_id=relationship.target.id,\n",
    "\t\t\t\tproperties=relationship.properties\n",
    "\t\t\t)\n"
   ]
  },
  {
   "cell_type": "code",
   "execution_count": 16,
   "metadata": {},
   "outputs": [],
   "source": [
    "# Hàm tạo connect đến neo4j\n",
    "from neo4j import GraphDatabase\n",
    "\n",
    "def connect_to_neo4j(uri, user, password, db):\n",
    "\tdriver = GraphDatabase.driver(uri, auth=(user, password), database=db)\n",
    "\treturn driver"
   ]
  },
  {
   "cell_type": "code",
   "execution_count": 17,
   "metadata": {},
   "outputs": [],
   "source": [
    "# Kết nối đến Neo4j\n",
    "uri = \"bolt://localhost:7687\"\n",
    "user = \"neo4j\"\n",
    "password = \"adminadmin\"\n",
    "db = 'vidu'\n",
    "driver = connect_to_neo4j(uri, user, password, db)"
   ]
  },
  {
   "cell_type": "code",
   "execution_count": 18,
   "metadata": {},
   "outputs": [],
   "source": [
    "for x in graph_documents:\n",
    "\tinsert_nodes_and_relationships(driver, x.nodes, x.relationships)\n"
   ]
  },
  {
   "cell_type": "code",
   "execution_count": 177,
   "metadata": {},
   "outputs": [
    {
     "data": {
      "text/plain": [
       "GraphDocument(nodes=[Node(id='Chương V', type='Chương', properties={'tiêu_đề': 'TỔ CHỨC THỰC HIỆN'}), Node(id='Điều 16', type='Điều', properties={'tiêu_đề': 'Tổ chức thực hiện'}), Node(id='Hiệu Trưởng Nhà Trường', type='Chủ_thể', properties={}), Node(id='Văn Bản Hướng Dẫn Chi Tiết', type='Văn_bản', properties={}), Node(id='Phiếu Đánh Giá Kết Quả Rèn Luyện Của Sinh Viên', type='Văn_bản', properties={}), Node(id='Phòng', type='Bộ_phận', properties={}), Node(id='Ban', type='Bộ_phận', properties={}), Node(id='Khoa', type='Bộ_phận', properties={}), Node(id='Lớp', type='Bộ_phận', properties={}), Node(id='Giáo Viên Chủ Nhiệm', type='Chủ_thể', properties={}), Node(id='Cố Vấn Học Tập', type='Chủ_thể', properties={}), Node(id='Người Học', type='Chủ_thể', properties={}), Node(id='Đơn Vị Chức Năng', type='Bộ_phận', properties={}), Node(id='Bộ Giáo Dục Và Đào Tạo', type='Chủ_thể', properties={})], relationships=[Relationship(source=Node(id='Chương V', type='Chương', properties={}), target=Node(id='Điều 16', type='Điều', properties={}), type='BAO_GỒM', properties={}), Relationship(source=Node(id='Điều 16', type='Điều', properties={}), target=Node(id='Hiệu Trưởng Nhà Trường', type='Chủ_thể', properties={}), type='QUY_ĐỊNH', properties={'hành_động': 'ban hành văn bản hướng dẫn chi tiết'}), Relationship(source=Node(id='Hiệu Trưởng Nhà Trường', type='Chủ_thể', properties={}), target=Node(id='Văn Bản Hướng Dẫn Chi Tiết', type='Văn_bản', properties={}), type='BAN_HÀNH', properties={}), Relationship(source=Node(id='Hiệu Trưởng Nhà Trường', type='Chủ_thể', properties={}), target=Node(id='Phiếu Đánh Giá Kết Quả Rèn Luyện Của Sinh Viên', type='Văn_bản', properties={}), type='BAN_HÀNH', properties={}), Relationship(source=Node(id='Văn Bản Hướng Dẫn Chi Tiết', type='Văn_bản', properties={}), target=Node(id='Phòng', type='Bộ_phận', properties={}), type='QUY_ĐỊNH', properties={'nội_dung': 'trách nhiệm'}), Relationship(source=Node(id='Văn Bản Hướng Dẫn Chi Tiết', type='Văn_bản', properties={}), target=Node(id='Ban', type='Bộ_phận', properties={}), type='QUY_ĐỊNH', properties={'nội_dung': 'trách nhiệm'}), Relationship(source=Node(id='Văn Bản Hướng Dẫn Chi Tiết', type='Văn_bản', properties={}), target=Node(id='Khoa', type='Bộ_phận', properties={}), type='QUY_ĐỊNH', properties={'nội_dung': 'trách nhiệm'}), Relationship(source=Node(id='Văn Bản Hướng Dẫn Chi Tiết', type='Văn_bản', properties={}), target=Node(id='Lớp', type='Bộ_phận', properties={}), type='QUY_ĐỊNH', properties={'nội_dung': 'trách nhiệm'}), Relationship(source=Node(id='Văn Bản Hướng Dẫn Chi Tiết', type='Văn_bản', properties={}), target=Node(id='Giáo Viên Chủ Nhiệm', type='Chủ_thể', properties={}), type='QUY_ĐỊNH', properties={'nội_dung': 'trách nhiệm'}), Relationship(source=Node(id='Văn Bản Hướng Dẫn Chi Tiết', type='Văn_bản', properties={}), target=Node(id='Cố Vấn Học Tập', type='Chủ_thể', properties={}), type='QUY_ĐỊNH', properties={'nội_dung': 'trách nhiệm'}), Relationship(source=Node(id='Văn Bản Hướng Dẫn Chi Tiết', type='Văn_bản', properties={}), target=Node(id='Người Học', type='Chủ_thể', properties={}), type='QUY_ĐỊNH', properties={'nội_dung': 'trách nhiệm'}), Relationship(source=Node(id='Điều 16', type='Điều', properties={}), target=Node(id='Đơn Vị Chức Năng', type='Bộ_phận', properties={}), type='QUY_ĐỊNH', properties={'hành_động': 'tham mưu cho Nhà trường đánh giá, tổng kết và báo cáo'}), Relationship(source=Node(id='Đơn Vị Chức Năng', type='Bộ_phận', properties={}), target=Node(id='Bộ Giáo Dục Và Đào Tạo', type='Chủ_thể', properties={}), type='BÁO_CÁO', properties={})], source=Document(metadata={}, page_content='Chương V: TỔ CHỨC THỰC HIỆN\\nĐiều 16. Tổ chức thực hiện\\n1. Hiệu trưởng Nhà trường ban hành văn bản hướng dẫn chi tiết việc thực hiện Quy định này và mẫu “Phiếu Đánh giá kết quả rèn luyện của sinh viên”; Hàng năm, kiểm tra, đánh giá và sửa đổi bổ sung kịp thời cho phù hợp với điều kiện, phạm vi của nhà trường, ngành học. \\n2. Văn bản hướng dẫn thực hiện và “Phiếu Đánh giá kết quả rèn luyện của sinh viên” phải quy định rõ trách nhiệm của các phòng, ban, khoa, lớp, giáo viên chủ nhiệm/cố vấn học tập và trách nhiệm của người học trong nhà trường; thể hiện rõ, chi tiết các nội dung, tiêu chí, thang điểm và hình thức đánh giá, đối tượng đánh giá phù hợp theo từng năm, phù hợp với đặc thù và điều kiện thực tiễn của nhà trường, của từng khoa, phù hợp với các nội dung đánh giá theo khung điểm quy định của văn bản này. \\n3. Kết thúc năm học, đơn vị chức năng tham mưu cho Nhà trường đánh giá, tổng kết và báo cáo công tác thực hiện Quy định này về Bộ Giáo dục và Đào tạo.'))"
      ]
     },
     "execution_count": 177,
     "metadata": {},
     "output_type": "execute_result"
    }
   ],
   "source": [
    "graph_documents[-1]"
   ]
  },
  {
   "cell_type": "code",
   "execution_count": null,
   "metadata": {},
   "outputs": [],
   "source": [
    "driver.close()\n"
   ]
  },
  {
   "cell_type": "code",
   "execution_count": 51,
   "metadata": {},
   "outputs": [],
   "source": [
    "# Prompt cho tác vụ tìm kiếm(cũ)\n",
    "CYPHER_GENERATION_TEMPLATE = \"\"\"\n",
    "Task: Sinh truy vấn Cypher để truy xuất dữ liệu từ đồ thị tri thức về quy chế đào tạo đại học.\n",
    "\n",
    "Instructions:\n",
    "- Phân tích kỹ câu hỏi và trích xuất các thành phần quan trọng như thực thể (node), quan hệ (edge) và thuộc tính (property).\n",
    "- Chỉ sử dụng các loại node, quan hệ và thuộc tính có trong schema bên dưới. Không thêm bất kỳ phần tử nào không có trong schema.\n",
    "- Các nhãn node được đặt bằng tiếng Việt (ví dụ: :Chương_trình, :Chủ_thể, :Học, :Quy_định...).\n",
    "- Các nhãn quan hệ được đặt bằng tiếng Việt (ví dụ: :ÁP_DỤNG, :HỌC, :QUY_ĐỊNH...).\n",
    "- Truy vấn phải trả lời chính xác câu hỏi dựa trên cấu trúc đồ thị.\n",
    "- Chỉ trả về truy vấn Cypher. Không viết giải thích, ghi chú, hoặc định nghĩa gì thêm.\n",
    "\n",
    "Schema đồ thị:\n",
    "{schema}\n",
    "\n",
    "Ví dụ truy vấn:\n",
    "\n",
    "# Các phương thức đóng học phí bao gồm các phương thức nào?\n",
    "# Cách 1\n",
    "MATCH (n:`Hoạt_động`)-[]->(m)\n",
    "WHERE n.id contains 'Phương Thức Đóng Học Phí'\n",
    "return n, m\n",
    "# Cách 2\n",
    "MATCH (n:`Phương_thức`)-[:`ÁP_DỤNG_CHO`]->(m)\n",
    "WHERE m.id contains 'Sinh Viên'\n",
    "return n.id\n",
    "\n",
    "# Học phần bắt buộc là gì?\n",
    "MATCH (n: Loại_học_phần)\n",
    "WHERE n.id contains 'Học Phần Bắt Buộc'\n",
    "return n.`định_nghĩa`\n",
    "\n",
    "# Khi nào sinh viên bị buộc thôi học?\n",
    "MATCH (n: Chủ_thể)-[:`CÓ_HÀNH_VI`]->(m)-[:`BỊ_XỬ_LÝ`]->(x)\n",
    "WHERE n.id contains 'Sinh Viên' \n",
    "AND x.id contains 'Buộc Thôi Học'\n",
    "return n, m, x\n",
    "\n",
    "# Thời hạn đóng học phí là khi nào?\n",
    "MATCH (n:`Chủ_thể`)-[r1:`PHẢI_TUÂN_THỦ`]->(m)-[r2]->(x)\n",
    "where n.id contains 'Sinh Viên' \n",
    "and m.id contains 'Thời Hạn Đóng Học Phí'\n",
    "RETURN n, r1, m, r2, x \n",
    "\n",
    "The question is:\n",
    "{question}\n",
    "\"\"\"\n"
   ]
  },
  {
   "cell_type": "code",
   "execution_count": 57,
   "metadata": {},
   "outputs": [],
   "source": [
    "\n",
    "CYPHER_GENERATION_TEMPLATE = \"\"\"\n",
    "Task: Sinh truy vấn Cypher để truy xuất dữ liệu từ đồ thị tri thức.\n",
    "\n",
    "Instructions:\n",
    "- Phân tích kỹ câu hỏi và xác định các thành phần quan trọng như thực thể (node), quan hệ (edge), và thuộc tính (property).\n",
    "- Chỉ sử dụng các loại node, quan hệ và thuộc tính có trong schema bên dưới. Không thêm bất kỳ phần tử nào không có trong schema.\n",
    "- Các nhãn node được đặt bằng tiếng Việt (ví dụ: :Chương_trình, :Chủ_thể, :Học, :Quy_định...).\n",
    "- Các loại quan hệ cũng được đặt bằng tiếng Việt (ví dụ: :ÁP_DỤNG, :HỌC, :QUY_ĐỊNH...).\n",
    "- Mọi truy vấn **phải trả về đầy đủ tất cả thuộc tính** của node và relationship bằng `properties(...)`. Nếu cần, sử dụng `type(...)` để lấy tên quan hệ.\n",
    "- **Chỉ được sử dụng phép so sánh `CONTAINS` trong mệnh đề WHERE. Không được sử dụng phép gán bằng (`=`).**\n",
    "- Khi cần truy vấn nhiều mẫu (nhiều thực thể và quan hệ khác nhau), hãy dùng nhiều câu `OPTIONAL MATCH` tách riêng, sau đó gom kết quả lại bằng `collect(...)` và chỉ viết một câu `RETURN` duy nhất ở cuối.\n",
    "- Không viết nhiều câu `OPTIONAL MATCH ... RETURN` liên tiếp. Luôn gom kết quả lại để trả về một lần duy nhất.\n",
    "- Không viết nhiều truy vấn MATCH...RETURN liên tiếp mà không tách bằng dòng trắng hoặc dùng `UNION`.\n",
    "- Không sử dụng `UNION` nếu có thể gộp các mẫu bằng `OPTIONAL MATCH`.\n",
    "- Không viết lời giải thích, ghi chú hoặc định nghĩa. Chỉ trả về truy vấn Cypher.\n",
    "\n",
    "Schema đồ thị:\n",
    "{schema}\n",
    "\n",
    "Ví dụ truy vấn:\n",
    "\n",
    "# Các phương thức đóng học phí bao gồm các phương thức nào?\n",
    "OPTIONAL MATCH (n)-[r]->(m)\n",
    "WHERE n.id CONTAINS 'Phương Thức Đóng Học Phí'\n",
    "RETURN \n",
    "  properties(n) AS n_properties, \n",
    "  type(r) AS r_type, \n",
    "  properties(r) AS r_properties, \n",
    "  properties(m) AS m_properties\n",
    "\n",
    "# Học phần bắt buộc là gì?\n",
    "OPTIONAL MATCH (n)\n",
    "WHERE n.id CONTAINS 'Học Phần Bắt Buộc'\n",
    "RETURN properties(n) AS n_properties\n",
    "\n",
    "# Khi nào sinh viên bị buộc thôi học?\n",
    "OPTIONAL MATCH (n)-[r1:`BỊ_BUỘC_THÔI_HỌC`]->(m)\n",
    "WHERE n.id CONTAINS 'Sinh Viên'\n",
    "RETURN \n",
    "  properties(n) AS n_properties, \n",
    "  type(r1) AS r1_type, \n",
    "  properties(r1) AS r1_properties,\n",
    "  properties(m) AS m_properties\n",
    "\n",
    "# Khối lượng học tập của các ngành là bao nhiêu?\n",
    "OPTIONAL MATCH (n)\n",
    "WHERE n.id CONTAINS 'Khối Lượng Học Tập'\n",
    "\n",
    "OPTIONAL MATCH (n2:Ngành_đào_tạo)-[r]->(m)\n",
    "WHERE m.id CONTAINS 'Khối Lượng Học Tập'\n",
    "\n",
    "RETURN \n",
    "  collect(DISTINCT properties(n)) AS khái_niệm,\n",
    "  collect(DISTINCT properties(n2)) AS ngành_đào_tạo,\n",
    "  collect(DISTINCT type(r)) AS loại_quan_hệ,\n",
    "  collect(DISTINCT properties(r)) AS thuộc_tính_quan_hệ,\n",
    "  collect(DISTINCT properties(m)) AS khái_niệm_liên_quan\n",
    "\n",
    "The question is:\n",
    "{question}\n",
    "\"\"\"\n"
   ]
  },
  {
   "cell_type": "code",
   "execution_count": 1,
   "metadata": {},
   "outputs": [],
   "source": [
    "CYPHER_GENERATION_TEMPLATE = \"\"\"\n",
    "Task: Sinh truy vấn Cypher để truy xuất dữ liệu từ đồ thị tri thức.\n",
    "\n",
    "Instructions:\n",
    "- Phân tích kỹ câu hỏi và xác định các thành phần quan trọng như thực thể (node), quan hệ (edge), và thuộc tính (property).\n",
    "- Chỉ sử dụng các loại node, quan hệ và thuộc tính có trong schema bên dưới. Không thêm bất kỳ phần tử nào không có trong schema.\n",
    "- Không sử dụng nhãn node trong MATCH (chỉ viết OPTIONAL MATCH (n), không OPTIONAL MATCH (n:Label)).\n",
    "- Các loại quan hệ được đặt bằng tiếng Việt (ví dụ: :ÁP_DỤNG, :HỌC, :QUY_ĐỊNH...).\n",
    "- Tất cả truy vấn đều phải dùng `OPTIONAL MATCH`. Không sử dụng `MATCH`.\n",
    "- Mọi truy vấn **phải trả về đầy đủ tất cả thuộc tính** của node và relationship bằng `properties(...)`. Nếu cần, sử dụng `type(...)` để lấy tên quan hệ.\n",
    "- **Chỉ được sử dụng phép so sánh `CONTAINS` trong mệnh đề WHERE, và luôn sử dụng `toLower(...)` ở cả hai vế.**\n",
    "  Ví dụ: `toLower(n.id) CONTAINS toLower('từ khóa')`\n",
    "- Khi cần truy vấn nhiều mẫu (nhiều thực thể và quan hệ khác nhau), hãy dùng nhiều câu `OPTIONAL MATCH` tách riêng, sau đó gom kết quả lại bằng `collect(...)` và chỉ viết một câu `RETURN` duy nhất ở cuối.\n",
    "- Không sử dụng `UNION` trong bất kỳ trường hợp nào.\n",
    "- Không viết nhiều câu `OPTIONAL MATCH...RETURN` liên tiếp. Luôn gom kết quả lại để trả về một lần duy nhất bằng một câu `RETURN`.\n",
    "- Không viết lời giải thích, ghi chú hoặc định nghĩa. Chỉ trả về truy vấn Cypher.\n",
    "\n",
    "Schema đồ thị:\n",
    "{schema}\n",
    "\n",
    "Ví dụ truy vấn:\n",
    "\n",
    "# Các phương thức đóng học phí bao gồm các phương thức nào?\n",
    "OPTIONAL MATCH (n)-[r]->(m)\n",
    "WHERE toLower(n.id) CONTAINS toLower('Phương Thức Đóng Học Phí')\n",
    "\n",
    "RETURN \n",
    "  collect(DISTINCT properties(n)) AS n_properties, \n",
    "  collect(DISTINCT type(r)) AS r_type, \n",
    "  collect(DISTINCT properties(r)) AS r_properties, \n",
    "  collect(DISTINCT properties(m)) AS m_properties\n",
    "\n",
    "# Học phần bắt buộc là gì?\n",
    "OPTIONAL MATCH (n)\n",
    "WHERE toLower(n.id) CONTAINS toLower('Học Phần Bắt Buộc')\n",
    "\n",
    "RETURN collect(DISTINCT properties(n)) AS n_properties\n",
    "\n",
    "# Khi nào sinh viên bị buộc thôi học?\n",
    "OPTIONAL MATCH (n)-[r1]->(m)\n",
    "WHERE toLower(n.id) CONTAINS toLower('Sinh Viên') AND type(r1) = 'BỊ_BUỘC_THÔI_HỌC'\n",
    "\n",
    "RETURN \n",
    "  collect(DISTINCT properties(n)) AS n_properties, \n",
    "  collect(DISTINCT type(r1)) AS r1_type, \n",
    "  collect(DISTINCT properties(r1)) AS r1_properties,\n",
    "  collect(DISTINCT properties(m)) AS m_properties\n",
    "\n",
    "# Khối lượng học tập của các ngành là bao nhiêu?\n",
    "OPTIONAL MATCH (n)\n",
    "WHERE toLower(n.id) CONTAINS toLower('Khối Lượng Học Tập')\n",
    "\n",
    "OPTIONAL MATCH (n2)-[r]->(m)\n",
    "WHERE toLower(m.id) CONTAINS toLower('Khối Lượng Học Tập')\n",
    "\n",
    "RETURN \n",
    "  collect(DISTINCT properties(n)) AS khái_niệm,\n",
    "  collect(DISTINCT properties(n2)) AS ngành_đào_tạo,\n",
    "  collect(DISTINCT type(r)) AS loại_quan_hệ,\n",
    "  collect(DISTINCT properties(r)) AS thuộc_tính_quan_hệ,\n",
    "  collect(DISTINCT properties(m)) AS khái_niệm_liên_quan\n",
    "\n",
    "The question is:\n",
    "{question}\n",
    "\"\"\"\n"
   ]
  },
  {
   "cell_type": "code",
   "execution_count": 7,
   "metadata": {},
   "outputs": [],
   "source": [
    "CYPHER_GENERATION_TEMPLATE = \"\"\"\n",
    "Task: Sinh truy vấn Cypher để truy xuất dữ liệu từ đồ thị tri thức.\n",
    "\n",
    "Instructions:\n",
    "- Phân tích kỹ câu hỏi và xác định các thành phần quan trọng như thực thể (node), quan hệ (edge), và thuộc tính (property).\n",
    "- Chỉ sử dụng các loại node, quan hệ và thuộc tính có trong schema bên dưới. Không thêm bất kỳ phần tử nào không có trong schema.\n",
    "- Không sử dụng nhãn node trong MATCH (chỉ viết OPTIONAL MATCH (n), không OPTIONAL MATCH (n:Label)).\n",
    "- Các loại quan hệ được đặt bằng tiếng Việt (ví dụ: :ÁP_DỤNG, :HỌC, :QUY_ĐỊNH...).\n",
    "- Tất cả truy vấn đều phải dùng `OPTIONAL MATCH`. Không sử dụng `MATCH`.\n",
    "\n",
    "- Mọi truy vấn **phải trả về đầy đủ tất cả thuộc tính** của node và relationship bằng `properties(...)`. Nếu cần, sử dụng `type(...)` để lấy tên quan hệ.\n",
    "- **Chỉ được sử dụng phép so sánh `CONTAINS` trong mệnh đề WHERE, và luôn sử dụng `toLower(...)` ở cả hai vế.**\n",
    "  Ví dụ: `toLower(n.id) CONTAINS toLower('từ khóa')`\n",
    "\n",
    "- Nếu câu hỏi chỉ yêu cầu thông tin về một khái niệm hoặc thực thể đơn lẻ → sử dụng mẫu:\n",
    "  `OPTIONAL MATCH (n) WHERE ...`\n",
    "- Nếu câu hỏi yêu cầu mối liên hệ hoặc dữ kiện liên quan giữa các khái niệm → sử dụng mẫu:\n",
    "  `OPTIONAL MATCH (n)-[r]-(m) WHERE ...`\n",
    "\n",
    "- Khi cần truy vấn nhiều mẫu (nhiều thực thể và quan hệ khác nhau), hãy dùng nhiều câu `OPTIONAL MATCH` tách riêng, sau đó gom kết quả lại bằng `collect(...)` và chỉ viết một câu `RETURN` duy nhất ở cuối.\n",
    "- Không sử dụng `UNION` trong bất kỳ trường hợp nào.\n",
    "- Không viết nhiều câu `OPTIONAL MATCH...RETURN` liên tiếp. Luôn gom kết quả lại để trả về một lần duy nhất bằng một câu `RETURN`.\n",
    "- Không viết lời giải thích, ghi chú hoặc định nghĩa. Chỉ trả về truy vấn Cypher.\n",
    "\n",
    "Schema đồ thị:\n",
    "{schema}\n",
    "\n",
    "Ví dụ truy vấn:\n",
    "\n",
    "# Các phương thức đóng học phí bao gồm các phương thức nào?\n",
    "OPTIONAL MATCH (n)-[r]->(m)\n",
    "WHERE toLower(n.id) CONTAINS toLower('Phương Thức Đóng Học Phí')\n",
    "\n",
    "RETURN \n",
    "  collect(DISTINCT properties(n)) AS n_properties, \n",
    "  collect(DISTINCT type(r)) AS r_type, \n",
    "  collect(DISTINCT properties(r)) AS r_properties, \n",
    "  collect(DISTINCT properties(m)) AS m_properties\n",
    "\n",
    "# Học phần bắt buộc là gì?\n",
    "OPTIONAL MATCH (n)\n",
    "WHERE toLower(n.id) CONTAINS toLower('Học Phần Bắt Buộc')\n",
    "\n",
    "RETURN collect(DISTINCT properties(n)) AS n_properties\n",
    "\n",
    "# Khi nào sinh viên bị buộc thôi học?\n",
    "OPTIONAL MATCH (n)-[r1]->(m)\n",
    "WHERE toLower(n.id) CONTAINS toLower('Sinh Viên') AND type(r1) = 'BỊ_BUỘC_THÔI_HỌC'\n",
    "\n",
    "RETURN \n",
    "  collect(DISTINCT properties(n)) AS n_properties, \n",
    "  collect(DISTINCT type(r1)) AS r1_type, \n",
    "  collect(DISTINCT properties(r1)) AS r1_properties,\n",
    "  collect(DISTINCT properties(m)) AS m_properties\n",
    "\n",
    "# Khối lượng học tập của các ngành là bao nhiêu?\n",
    "OPTIONAL MATCH (n)\n",
    "WHERE toLower(n.id) CONTAINS toLower('Khối Lượng Học Tập')\n",
    "\n",
    "OPTIONAL MATCH (n2)-[r]->(m)\n",
    "WHERE toLower(m.id) CONTAINS toLower('Khối Lượng Học Tập')\n",
    "\n",
    "RETURN \n",
    "  collect(DISTINCT properties(n)) AS khái_niệm,\n",
    "  collect(DISTINCT properties(n2)) AS ngành_đào_tạo,\n",
    "  collect(DISTINCT type(r)) AS loại_quan_hệ,\n",
    "  collect(DISTINCT properties(r)) AS thuộc_tính_quan_hệ,\n",
    "  collect(DISTINCT properties(m)) AS khái_niệm_liên_quan\n",
    "\n",
    "# Những quy định liên quan đến điều kiện tốt nghiệp là gì?\n",
    "OPTIONAL MATCH (n)-[r]-(m)\n",
    "WHERE toLower(n.id) CONTAINS toLower('Điều Kiện Tốt Nghiệp')\n",
    "\n",
    "RETURN \n",
    "  collect(DISTINCT properties(n)) AS n_properties, \n",
    "  collect(DISTINCT type(r)) AS r_type, \n",
    "  collect(DISTINCT properties(r)) AS r_properties, \n",
    "  collect(DISTINCT properties(m)) AS m_properties\n",
    "\n",
    "The question is:\n",
    "{question}\n",
    "\"\"\"\n"
   ]
  },
  {
   "cell_type": "code",
   "execution_count": 8,
   "metadata": {},
   "outputs": [],
   "source": [
    "from langchain.prompts.prompt import PromptTemplate\n",
    "\n",
    "CYPHER_GENERATION_PROMPT = PromptTemplate(\n",
    "\tinput_variables=[\"schema\", \"question\"],\n",
    "\ttemplate=CYPHER_GENERATION_TEMPLATE\n",
    ")"
   ]
  },
  {
   "cell_type": "code",
   "execution_count": 9,
   "metadata": {},
   "outputs": [],
   "source": [
    "import os\n",
    "from dotenv import load_dotenv\n",
    "from langchain_deepseek import ChatDeepSeek\n",
    "from langchain_neo4j import GraphCypherQAChain, Neo4jGraph\n",
    "load_dotenv()\n",
    "\n",
    "graph = Neo4jGraph(url=\"bolt://localhost:7687\", username=\"neo4j\", password=\"adminadmin\", database=\"quydinh-quyche-full-temperature-0\", enhanced_schema=True)\n",
    "\n",
    "# print(graph.schema)\n",
    "\n",
    "# Mô hình deepseek\n",
    "os.environ[\"DEEPSEEK_API_KEY\"] = str(os.getenv(\"DEEPSEEK_API_KEY\"))\n",
    "llm = ChatDeepSeek(\n",
    "\tmodel=\"deepseek-chat\",# deepseek-reasoner, deepseek-chat\n",
    "\ttemperature=0,\n",
    "\tmax_tokens=8000,\n",
    "\ttimeout=None,\n",
    "\tmax_retries=2,\n",
    ")\n",
    "\n",
    "chain = GraphCypherQAChain.from_llm(\n",
    "\tllm,\n",
    "\tgraph=graph,\n",
    "\tverbose=True,\n",
    "\ttop_k=5,\n",
    "\tallow_dangerous_requests=True,\n",
    "\tvalidate_cypher=True,\n",
    "\treturn_intermediate_steps=True,\n",
    "\tcypher_prompt=CYPHER_GENERATION_PROMPT,\n",
    ")"
   ]
  },
  {
   "cell_type": "code",
   "execution_count": 11,
   "metadata": {},
   "outputs": [
    {
     "name": "stderr",
     "output_type": "stream",
     "text": [
      "  0%|          | 0/53 [00:00<?, ?it/s]"
     ]
    },
    {
     "name": "stdout",
     "output_type": "stream",
     "text": [
      "\n",
      "\n",
      "\u001b[1m> Entering new GraphCypherQAChain chain...\u001b[0m\n",
      "Generated Cypher:\n",
      "\u001b[32;1m\u001b[1;3mOPTIONAL MATCH (n)-[r]-(m)\n",
      "WHERE toLower(n.id) CONTAINS toLower('Thư Viện') OR toLower(n.id) CONTAINS toLower('Trường Đại Học Quy Nhơn')\n",
      "\n",
      "RETURN \n",
      "  collect(DISTINCT properties(n)) AS n_properties, \n",
      "  collect(DISTINCT type(r)) AS r_type, \n",
      "  collect(DISTINCT properties(r)) AS r_properties, \n",
      "  collect(DISTINCT properties(m)) AS m_properties\u001b[0m\n",
      "Full Context:\n",
      "\u001b[32;1m\u001b[1;3m[{'n_properties': [{'diện_tích': 'gần 3.500 m2', 'id': 'Thư Viện', 'phục_vụ': 'công tác đào tạo, nghiên cứu của viên chức và người học của Trường', 'trụ_sở': 'khuôn viên phía Đông Bắc của trường Đại học Quy Nhơn', 'số_chỗ_ngồi': 'hơn 300 chỗ', 'cấu_trúc': '01 phòng Giáo trình, 03 phòng Đọc mở, 10 phòng Tự học, 01 phòng Đọc thân thiện, 01 phòng Câu lạc bộ', 'số_máy_tính': '20 máy', 'vai_trò': 'tổ chức và quản lý các hoạt động thông tin - thư viện'}, {'id': 'Trường Đại Học Quy Nhơn'}, {'id': 'Tòa Nhà Thư Viện Trung Tâm', 'kiến_trúc': 'Pháp cổ', 'số_tầng': '3 tầng'}, {'id': 'Thư Viện', 'tài_nguyên': 'Hơn 30.000 đầu sách (gồm sách Việt văn và Ngoại văn), gần 5.000 luận văn, luận án, đồ án các loại, gần 100 đầu báo và tạp chí trong nước và nước ngoài.', 'mô_tả': 'Mở cửa phục vụ theo giờ hành chính các ngày từ thứ Hai đến thứ Sáu hàng tuần.'}, {'id': 'Thư Viện Số'}, {'id': 'Cổng Thông Tin Thư Viện'}, {'id': 'Thư Viện Qnu'}, {'id': 'Liên Hiệp Thư Viện Việt Nam'}, {'id': 'Thư Viện Pháp Luật Trực Tuyến'}, {'thời_gian': '2024 – 2025', 'id': 'Thư Viện', 'mô_tả': 'Tiếp tục được đầu tư, cải tạo không gian theo hướng tiện ích và thân thiện'}, {'id': 'Trường Đại Học Quy Nhơn', 'tên': 'Trường Đại học Quy Nhơn', 'tên_gọi_tắt': 'Trường/Nhà trường'}, {'id': 'Trung Tâm Tin Học Trường Đại Học Quy Nhơn'}, {'id': 'Hiệu Trưởng Trường Đại Học Quy Nhơn'}, {'id': 'Hệ Thống Thư Viện'}, {'id': 'Làm Thẻ Sinh Viên, Thẻ Thư Viện'}], 'r_type': ['THUỘC', 'HƯỚNG_DẪN', 'ÁP_DỤNG', 'THUỘC_VỀ', 'PHÁT_TRIỂN', 'CÓ', 'CÓ_THỜI_GIAN_PHỤC_VỤ', 'PHỤC_VỤ', 'CUNG_CẤP', 'TRUY_CẬP', 'HỢP_TÁC', 'MUA_QUYỀN_KHAI_THÁC', 'KHAI_THÁC', 'THAM_GIA', 'BỔ_SUNG', 'BAN_HÀNH', 'NHẬN_TIỀN', 'QUY_ĐỊNH_MỨC', 'CÔNG_NHẬN', 'CHỊU_TRÁCH_NHIỆM', 'CHUYỂN_ĐÀO_TẠO', 'BÁO_CÁO', 'KÝ_KẾT_HỢP_ĐỒNG', 'THỰC_HIỆN_TẠI', 'PHÙ_HỢP_VỚI', 'THỰC_HIỆN', 'CẤP_CHỨNG_CHỈ', 'ĐƯỢC_BAN_HÀNH_BỞI', 'SỬ_DỤNG', 'BAO_GỒM'], 'r_properties': [{}, {'hệThống': 'Hệ thống máy tính của Thư viện', 'phươngThức': 'Trực tiếp'}, {'địaChỉ': 'https://thuvienphapluat.vn/', 'tàiKhoản': 'Tài khoản mặc định của Trường'}], 'm_properties': [{'id': 'Dãy Nhà Trệt'}, {'id': 'Tòa Nhà Thư Viện Trung Tâm', 'kiến_trúc': 'Pháp cổ', 'số_tầng': '3 tầng'}, {'id': 'Trường Đại Học Quy Nhơn'}, {'id': 'Chế Độ Trợ Cấp Xã Hội'}, {'id': 'Miễn Giảm Học Phí'}, {'id': 'Phòng Kế Hoạch - Tài Chính'}, {'id': 'Quy Định Về Học Phí Của Sinh Viên Đại Học Hệ Chính Quy', 'ban_hành_kèm_theo': 'Quyết định số 1251/QĐ-ĐHQN', 'ngày_ban_hành': '2018-07-17'}, {'id': 'Chuẩn Đầu Ra Ngoại Ngữ', 'tên': 'Chuẩn đầu ra ngoại ngữ đối với sinh viên đại học hệ chính quy Trường Đại học Quy Nhơn'}, {'id': 'Phòng Đào Tạo Đại Học'}, {'id': 'Quy Chế Này', 'mô_tả': 'quy định việc tổ chức và quản lý đào tạo trình độ đại học'}, {'diện_tích': 'gần 3.500 m2', 'id': 'Thư Viện', 'phục_vụ': 'công tác đào tạo, nghiên cứu của viên chức và người học của Trường', 'trụ_sở': 'khuôn viên phía Đông Bắc của trường Đại học Quy Nhơn', 'số_chỗ_ngồi': 'hơn 300 chỗ', 'cấu_trúc': '01 phòng Giáo trình, 03 phòng Đọc mở, 10 phòng Tự học, 01 phòng Đọc thân thiện, 01 phòng Câu lạc bộ', 'số_máy_tính': '20 máy', 'vai_trò': 'tổ chức và quản lý các hoạt động thông tin - thư viện'}, {'id': 'Nguồn Tài Nguyên Số'}, {'id': 'Hồi Chuông', 'mô_tả': 'Báo hết giờ phục vụ'}, {'id': 'Tài Liệu'}, {'id': 'Buổi Chiều', 'hoạt_động': 'Phục vụ bạn đọc mượn/trả tài liệu', 'giờ_phục_vụ': \"13h45' - 16h45'\"}, {'id': 'Buổi Sáng', 'hoạt_động': 'Phục vụ bạn đọc mượn/trả tài liệu', 'giờ_phục_vụ': \"7h30' - 11h15'\"}, {'id': 'Bạn Đọc'}, {'id': 'Tài Liệu Số', 'số_lượng': '8.000', 'loại_tài_liệu': 'giáo trình, tài liệu tham khảo, luận văn thạc sĩ, luận án tiến sĩ'}, {'id': 'Trung Tâm Học Liệu Trường Đại Học Cần Thơ'}, {'id': 'Mathscinet'}, {'id': 'Thư Viện Pháp Luật Trực Tuyến'}, {'id': 'Kqnc'}, {'id': 'Std'}, {'id': 'Proquest Central'}, {'id': 'Liên Hiệp Thư Viện Việt Nam'}, {'id': 'Thư Viện Qnu'}, {'id': 'Fanpage', 'giá_trị': 'https://www.facebook.com/thuviendhqn'}, {'id': 'Website', 'giá_trị': 'http://lib.qnu.edu.vn/'}, {'id': 'Điện Thoại', 'giá_trị': '02563.846.623'}, {'id': 'Email', 'giá_trị': 'tttl@qnu.edu.vn'}, {'id': 'Vốn Tài Liệu', 'mô_tả': 'Được bổ sung để đáp ứng nhu cầu của bạn đọc'}, {'id': 'Điều 1. Phạm Vi Và Đối Tượng Áp Dụng'}, {'id': 'Nộp Qua Ngân Hàng', 'đối_tượng_áp_dụng': 'tất cả sinh viên đã học xong một học kỳ'}, {'id': 'Học Phí', 'định_nghĩa': 'khoản tiền người học phải nộp để đảm bảo chi phí cho các hoạt động đào tạo'}, {'tiêu_đề': 'Phạm vi điều chỉnh và đối tượng áp dụng', 'id': 'Điều 1'}, {'id': 'Kết Quả Học Tập', 'mô_tả': 'Kết quả học tập của người học đã tích lũy từ một trình độ đào tạo khác, một ngành đào tạo hoặc một chương trình đào tạo khác, một khóa học khác hoặc từ một cơ sở đào tạo khác'}, {'id': 'Hợp Đồng Liên Kết Đào Tạo'}, {'id': 'Cơ Sở Phối Hợp Đào Tạo', 'yêu_cầu': 'đáp ứng các yêu cầu về môi trường sư phạm, cơ sở vật chất, thiết bị, thư viện và cán bộ quản lý', 'từ_năm': '2024', 'yêu_cầu_chất_lượng': 'đã được công nhận đạt tiêu chuẩn chất lượng cơ sở giáo dục'}, {'id': 'Sinh Viên', 'quyền_lợi': 'được bảo đảm điều kiện thực hiện đầy đủ nhiệm vụ và quyền trong quá trình học tập và rèn luyện tại trường', 'vai_trò': 'Lựa chọn phương án trả lời', 'định_nghĩa': 'người đang học chương trình đào tạo trình độ đại học hệ chính quy tại trường'}, {'id': 'Ủy Ban Nhân Dân Cấp Tỉnh', 'vai_trò': 'Thực hiện các trách nhiệm liên quan đến đào tạo giáo viên', 'phạm_vi': 'Địa phương'}, {'thời_gian': 'Linh hoạt trong ngày và trong tuần', 'id': 'Đào Tạo Vừa Làm Vừa Học', 'mô_tả': 'Các hoạt động giảng dạy được thực hiện tại cơ sở phối hợp đào tạo theo quy định liên kết đào tạo tại Điều 7 của Quy chế này, riêng những hoạt động thực hành, thực tập, trải nghiệm thực tế và giảng dạy trực tuyến có thể thực hiện ngoài Trường Đại học Quy Nhơn, ngoài cơ sở phối hợp đào tạo'}, {'thời_gian': 'Từ 06 giờ đến 20 giờ các ngày trong tuần từ thứ 2 đến thứ 7. Thực hành, thí nghiệm, các hoạt động thực tập, thực tế, học bù vì lý do thiên tai, dịch bệnh có thể bố trí vào Chủ nhật nếu cần', 'id': 'Đào Tạo Chính Quy', 'mô_tả': 'Các hoạt động giảng dạy được thực hiện tại cơ sở đào tạo, riêng những hoạt động thực hành, thực tập, trải nghiệm thực tế và giảng dạy trực tuyến có thể thực hiện ngoài Trường Đại học Quy Nhơn'}, {'id': 'Đào Tạo Theo Tín Chỉ', 'mô_tả': 'Là phương thức tổ chức đào tạo theo từng lớp học phần, cho phép sinh viên tích lũy tín chỉ của từng học phần và thực hiện chương trình đào tạo theo kế hoạch học tập của cá nhân, phù hợp với kế hoạch giảng dạy của Trường Đại học Quy Nhơn.'}, {'id': 'Quy Định Chuẩn Đầu Ra Tin Học Đối Với Sinh Viên Đại Học Hệ Chính Quy', 'đối_tượng_áp_dụng': 'từ khóa tuyển sinh năm 2015 (khóa 38) trở đi', 'ngoại_lệ': 'sinh viên ngành Sư phạm Tin học, Công nghệ thông tin', 'phạm_vi': 'sinh viên đại học hệ chính quy Trường Đại học Quy Nhơn'}, {'id': 'Chứng Chỉ Ứng Dụng Công Nghệ Thông Tin Cơ Bản', 'cấp_bởi': 'Trường Đại học Quy Nhơn'}, {'id': 'Quyết Định Số 1251/Qđ-Đhqn', 'ngày_ban_hành': '2018-07-17'}, {'id': 'Quyết Định Số 671/Qđ-Đhqn'}, {'id': 'Công Tác Hành Chính'}]}]\u001b[0m\n"
     ]
    },
    {
     "name": "stderr",
     "output_type": "stream",
     "text": [
      "  2%|▏         | 1/53 [00:41<35:51, 41.38s/it]"
     ]
    },
    {
     "name": "stdout",
     "output_type": "stream",
     "text": [
      "\n",
      "\u001b[1m> Finished chain.\u001b[0m\n",
      "\n",
      "\n",
      "\u001b[1m> Entering new GraphCypherQAChain chain...\u001b[0m\n",
      "Generated Cypher:\n",
      "\u001b[32;1m\u001b[1;3mOPTIONAL MATCH (n)-[r]-(m)\n",
      "WHERE toLower(n.id) CONTAINS toLower('Thư Viện') AND toLower(m.id) CONTAINS toLower('Website')\n",
      "\n",
      "RETURN \n",
      "  collect(DISTINCT properties(n)) AS n_properties, \n",
      "  collect(DISTINCT type(r)) AS r_type, \n",
      "  collect(DISTINCT properties(r)) AS r_properties, \n",
      "  collect(DISTINCT properties(m)) AS m_properties\u001b[0m\n",
      "Full Context:\n",
      "\u001b[32;1m\u001b[1;3m[{'n_properties': [{'thời_gian': '2024 – 2025', 'id': 'Thư Viện', 'mô_tả': 'Tiếp tục được đầu tư, cải tạo không gian theo hướng tiện ích và thân thiện'}], 'r_type': ['CÓ'], 'r_properties': [{}], 'm_properties': [{'id': 'Website', 'giá_trị': 'http://lib.qnu.edu.vn/'}]}]\u001b[0m\n"
     ]
    },
    {
     "name": "stderr",
     "output_type": "stream",
     "text": [
      "  4%|▍         | 2/53 [00:58<23:12, 27.29s/it]"
     ]
    },
    {
     "name": "stdout",
     "output_type": "stream",
     "text": [
      "\n",
      "\u001b[1m> Finished chain.\u001b[0m\n",
      "\n",
      "\n",
      "\u001b[1m> Entering new GraphCypherQAChain chain...\u001b[0m\n",
      "Generated Cypher:\n",
      "\u001b[32;1m\u001b[1;3mOPTIONAL MATCH (n)\n",
      "WHERE toLower(n.id) CONTAINS toLower('Chương Trình Đào Tạo')\n",
      "\n",
      "RETURN collect(DISTINCT properties(n)) AS n_properties\u001b[0m\n",
      "Full Context:\n",
      "\u001b[32;1m\u001b[1;3m[{'n_properties': [{'id': 'Chương Trình Đào Tạo', 'đơn_vị_tín_chỉ': 'được xây dựng theo đơn vị tín chỉ', 'cấu_trúc': 'từ các môn học hoặc học phần', 'mô_tả': 'Nơi các học phần Tiếng Anh 1, Tiếng Anh 2 thuộc về', 'yêu_cầu': 'đã được tổ chức đào tạo tối thiểu 03 khóa liên tục theo hình thức chính quy', 'phạm_vi': 'áp dụng chung đối với các hình thức, phương thức tổ chức đào tạo và đối tượng người học khác nhau', 'từ_năm': '2024', 'yêu_cầu_chất_lượng': 'đã được công nhận đạt tiêu chuẩn chất lượng'}, {'id': 'Chương Trình Đào Tạo'}, {'id': 'Chương Trình Đào Tạo Hình Thức Vừa Làm Vừa Học'}, {'id': 'Chương Trình Đào Tạo Ở Trình Độ Thấp Hơn'}, {'id': 'Quy Định Công Tác Sinh Viên Đối Với Chương Trình Đào Tạo Đại Học Hệ Chính Quy', 'tên': 'Quy định công tác sinh viên đối với chương trình đào tạo đại học hệ chính quy'}, {'id': 'Khung Chương Trình Đào Tạo'}, {'id': 'Học Phần Ngoài Khung Chương Trình Đào Tạo'}, {'id': 'Chương Trình Đào Tạo Đại Học Hệ Chính Quy'}, {'id': 'Chương Trình Đào Tạo Trình Độ Đại Học Hệ Chính Quy'}, {'id': 'Chương Trình Đào Tạo Đại Trà'}, {'id': 'Chuẩn Đầu Ra Của Chương Trình Đào Tạo'}, {'id': 'Kiểm Định Chất Lượng Chương Trình Đào Tạo'}, {'id': 'Chương Trình Đào Tạo Các Trình Độ Đại Học, Thạc Sĩ Của Trường Đhọn'}, {'id': 'Chương Trình Đào Tạo Trình Độ Đại Học, Thạc Sĩ', 'đối_tượng_khảo_sát': 'chương trình đào tạo trình độ đại học, thạc sĩ của Trường ĐHỌN'}, {'id': 'Hai Chương Trình Đào Tạo'}]}]\u001b[0m\n"
     ]
    },
    {
     "name": "stderr",
     "output_type": "stream",
     "text": [
      "  6%|▌         | 3/53 [01:18<19:56, 23.94s/it]"
     ]
    },
    {
     "name": "stdout",
     "output_type": "stream",
     "text": [
      "\n",
      "\u001b[1m> Finished chain.\u001b[0m\n",
      "\n",
      "\n",
      "\u001b[1m> Entering new GraphCypherQAChain chain...\u001b[0m\n",
      "Generated Cypher:\n",
      "\u001b[32;1m\u001b[1;3mOPTIONAL MATCH (n)\n",
      "WHERE toLower(n.id) CONTAINS toLower('Học Phần')\n",
      "\n",
      "RETURN collect(DISTINCT properties(n)) AS n_properties\u001b[0m\n",
      "Full Context:\n",
      "\u001b[32;1m\u001b[1;3m[{'n_properties': [{'id': 'Học Phần', 'mã_học_phần': 'Do Trường quy định', 'khối_lượng_tín_chỉ': '1-4', 'thời_gian_giảng_dạy': 'Một học kỳ', 'định_nghĩa': 'Đơn vị học tập có điểm đánh giá và số tín chỉ.'}, {'id': 'Học Phần Bắt Buộc', 'định_nghĩa': 'Học phần chứa đựng những nội dung kiến thức chính yếu của mỗi chương trình đào tạo và bắt buộc sinh viên phải tích lũy.'}, {'id': 'Học Phần Tự Chọn', 'định_nghĩa': 'Học phần chứa đựng những nội dung kiến thức cần thiết, nhưng sinh viên được tự chọn theo hướng dẫn của khoa để tích lũy đủ số học phần quy định cho mỗi chương trình.'}, {'id': 'Học Phần Trước', 'định_nghĩa': 'Học phần A là học phần trước của học phần B, sinh viên chỉ được đăng ký học học phần B khi đã học học phần A.'}, {'id': 'Học Phần Tương Đương', 'định_nghĩa': 'Một hay một nhóm học phần thuộc chương trình đào tạo của một ngành khác đang đào tạo tại trường, được phép tích lũy để thay cho một hay một nhóm học phần trong chương trình đào tạo của ngành, chuyên ngành.'}, {'id': 'Học Phần Thay Thế', 'định_nghĩa': 'Học phần được sử dụng để thay thế cho một học phần có trong chương trình nhưng nay không còn tổ chức giảng dạy nữa hoặc là một học phần tự chọn thay cho học phần tự chọn khác.'}, {'id': 'Học Phần Điều Kiện', 'định_nghĩa': 'Học phần mà sinh viên phải hoàn thành mới được xét tốt nghiệp nhưng điểm của học phần này không tính vào điểm trung bình chung học kỳ và điểm trung bình chung tích lũy.'}, {'id': 'Đề Cương Chi Tiết Học Phần', 'nội_dung': 'Mục tiêu, chuẩn đầu ra, số lượng tín chỉ, điều kiện tiên quyết, phương pháp và hình thức tổ chức dạy học, kế hoạch giảng dạy chi tiết, đánh giá kết quả học tập, tài liệu phục vụ môn học, điều kiện thí nghiệm, thực hành, thực tập phục vụ học phần.'}, {'id': 'Lớp Học Phần', 'mô_tả': 'Gồm các sinh viên đăng ký học cùng một học phần, cùng một thời khóa biểu.', 'số_lượng_tối_thiểu': '60 sinh viên với các học phần chung toàn trường, 25 sinh viên với các học phần chuyên ngành', 'định_nghĩa': 'bao gồm những sinh viên đăng ký cùng học một học phần', 'điều_kiện': 'Nhà trường sẽ xem xét mở lớp trong các trường hợp đặc biệt khác.', 'mục_đích': 'nơi để nhà trường theo dõi, quản lý về học tập và ý thức kỷ luật của sinh viên trong giờ học'}, {'id': 'Khoa Quản Lý Học Phần', 'mô_tả': 'Khoa quản lý học phần do Hiệu trưởng quyết định và quản lý về chuyên môn đối với mỗi học phần cụ thể trong chương trình đào tạo.'}, {'id': 'Học Phần Bắt Buộc'}, {'id': 'Học Phần Tự Chọn'}, {'id': 'Học Phần Mới'}, {'id': 'Học Phần Chưa Đạt'}, {'id': 'Học Phần Đã Đạt'}, {'id': 'Danh Sách Học Phần Được Mở'}, {'id': 'Học Phần Giáo Dục Quốc Phòng - An Ninh'}, {'id': 'Khoa Quản Lý Học Phần'}, {'id': 'Học Phần Lý Thuyết Hoặc Lý Thuyết Và Thực Hành'}, {'id': 'Điểm Tổng Hợp Đánh Giá Học Phần', 'tên_gọi_tắt': 'Điểm học phần', 'định_nghĩa': 'Gồm hai thành phần: điểm đánh giá quá trình học tập và điểm thi kết thúc học phần'}, {'id': 'Điểm Thi Kết Thúc Học Phần', 'trọng_số': '70%, 60% hoặc 50% điểm học phần'}, {'id': 'Học Phần Thí Nghiệm, Thực Hành'}, {'id': 'Học Phần Đặc Thù'}, {'id': 'Giảng Viên Phụ Trách Học Phần'}, {'thời_gian': 'cuối mỗi học kỳ', 'id': 'Thi Kết Thúc Học Phần'}, {'id': 'Đề Thi Kết Thúc Học Phần', 'nguồn_đề': 'Ngân hàng đề thi hoặc ra đề theo quy định của Hiệu trưởng', 'yêu_cầu': 'Phù hợp với nội dung và chuẩn đầu ra học phần'}, {'id': 'Điểm Học Phần Không Đạt', 'điểm': 'F'}, {'id': 'Học Đổi Học Phần Tự Chọn Khác'}, {'id': 'Học Phần Điều Kiện', 'định_nghĩa': 'Học phần không tính vào điểm TBC học kỳ hoặc tích lũy.'}, {'id': 'Nhóm Học Phần'}, {'id': 'Học Phần Phải Học Lại', 'khối_lượng': 'Vượt quá 5% so với tổng số tín chỉ quy định cho toàn chương trình'}, {'id': 'Học Phần Học Lại'}, {'id': 'Học Phần Ngoài Khung Chương Trình Đào Tạo'}, {'id': 'Điểm Kết Thúc Học Phần'}, {'id': 'Ban Cán Sự Lớp Học Phần', 'nhiệm_kỳ': 'theo thời gian học của học phần', 'ưu_tiên': 'cộng điểm rèn luyện và các chế độ khác theo quy định của nhà trường', 'trách_nhiệm': 'báo cáo việc chấp hành nội quy, quy chế của sinh viên trong lớp với khoa, phòng Công tác sinh viên', 'thành_viên': 'lớp trưởng và các lớp phó'}, {'id': 'Quy Định Tổ Chức Kiểm Tra, Thi, Đánh Giá Kết Quả Học Phần Đào Tạo Trình Độ Đại Học', 'tên': 'Quy định tổ chức kiểm tra, thi, đánh giá kết quả học phần đào tạo trình độ đại học'}, {'id': 'Thời Gian Tổ Chức Thi, Đánh Giá Kết Quả Học Phần'}, {'id': 'Điểm Học Phần Sau Khi Thi Lại'}, {'id': 'Hình Thức Thi, Đánh Giá Kết Quả Học Phần', 'phương_pháp': 'tự luận, trắc nghiệm trên giấy, trắc nghiệm trên máy tính, vấn đáp, thực hành, báo cáo, bảo vệ'}, {'id': 'Giảng Viên Giảng Dạy Học Phần'}, {'id': 'Hình Thức Tổ Chức Kiểm Tra, Thi, Đánh Giá Kết Quả Học Phần', 'phương_pháp': 'trực tiếp hoặc trực tuyến', 'giới_hạn': 'đóng góp không quá 50% trọng số điểm học phần', 'điều_kiện': 'bảo đảm trung thực, công bằng và khách quan'}, {'id': 'Học Phần Chỉ Có Thí Nghiệm, Thực Hành', 'định_nghĩa': 'Điểm học phần là điểm trung bình cộng của các bài thực hành trong học kỳ'}, {'id': 'Điểm Học Phần', 'tính_chất': 'Tính từ tổng các điểm thành phần nhân với trọng số tương ứng'}, {'id': 'Đăng Ký Học Phần'}, {'id': 'Hoãn Thi Kết Thúc Học Phần'}, {'id': 'Học Phần Có Hình Thức Thi Vấn Đáp, Thi Nghe, Thực Hành'}, {'id': 'Kế Hoạch Thi Kết Thúc Học Phần'}, {'id': 'Đề Thi Kết Thúc Học Phần', 'yêu_cầu': 'Phù hợp với nội dung và chuẩn đầu ra học phần đã quy định trong đề cương chi tiết học phần'}, {'id': 'Học Phí Các Học Phần Đã Đăng Ký', 'mô_tả': '100% học phí theo các học phần đã đăng ký trong kỳ học sau khi đã trừ tiền miễn, giảm học phí (nếu có) theo quy định tại Điều 7 của Quy định này'}, {'id': 'Học Phần Học Lại, Học Cải Thiện Điểm', 'mô_tả': '100% học phí theo các học phần đã đăng ký theo mức học phí/tín chỉ do nhà trường thông báo vào đầu năm học'}, {'id': 'Tên Học Phần'}, {'id': 'Mã Học Phần'}, {'id': 'Trưởng Khoa Quản Lý Học Phần'}, {'id': 'Ban Tổ Chức Kỳ Thi Kết Thúc Học Phần', 'nhiệm_vụ': 'Giúp Hiệu trưởng tổ chức kỳ thi nghiêm túc, đúng quy chế', 'vai_trò': 'Tổ chức kỳ thi kết thúc học phần'}, {'id': 'Biên Bản Chấm Thi Kết Thúc Học Phần'}, {'id': 'Phiếu Đề Nghị Điều Chỉnh Điểm Học Phần'}, {'id': 'Phúc Tra Điểm Học Phần'}, {'id': 'Bảng Điểm Học Phần'}, {'id': 'Học Phần Của Kỳ Học Tiếp Theo'}, {'id': 'Học Phần Đã Đăng Ký'}, {'id': 'Miễn Học Các Học Phần Tiếng Anh 1, Tiếng Anh 2', 'mô_tả': 'Kết quả mong muốn từ việc đánh giá'}, {'id': 'Học Phần Tiếng Anh 1'}, {'id': 'Học Phần Tiếng Anh 2'}, {'id': 'Chuẩn Đầu Ra Của Học Phần'}, {'thời_gian': 'Sau khi người học học xong học phần', 'id': 'Khảo Sát Ý Kiến Phản Hồi Của Người Học Về Mức Độ Đạt Được Chuẩn Đầu Ra Của Học Phần', 'đối_tượng_tham_gia': 'người học hệ chính quy các CTĐT trình độ đại học, thạc sĩ tại Trường ĐHQN', 'công_cụ': 'Phiếu khảo sát người học về mức độ đạt được chuẩn đầu ra của học phần: BM02a_ĐHQN_CĐR.HP', 'nội_dung': 'Mức độ đạt được của người học đối với từng chuẩn đầu ra học phần, lý do và đề xuất biện pháp cải tiến', 'hình_thức': 'trực tuyến bằng phần mềm E-Survey hoặc Google Forms', 'đối_tượng_khảo_sát': 'mức độ đạt được chuẩn đầu ra học phần của người học', 'mục_đích': 'Giúp Trường, khoa/bộ môn đánh giá mức độ đạt được chuẩn đầu ra của học phần để thực hiện các hoạt động cải tiến và nâng cao chất lượng giảng dạy học phần.'}, {'id': 'Chuẩn Đầu Ra Học Phần'}]}]\u001b[0m\n"
     ]
    },
    {
     "name": "stderr",
     "output_type": "stream",
     "text": [
      "  8%|▊         | 4/53 [01:49<21:48, 26.71s/it]"
     ]
    },
    {
     "name": "stdout",
     "output_type": "stream",
     "text": [
      "\n",
      "\u001b[1m> Finished chain.\u001b[0m\n",
      "\n",
      "\n",
      "\u001b[1m> Entering new GraphCypherQAChain chain...\u001b[0m\n",
      "Generated Cypher:\n",
      "\u001b[32;1m\u001b[1;3mOPTIONAL MATCH (n)-[r]-(m)\n",
      "WHERE toLower(n.id) CONTAINS toLower('Thời Gian Học Tập') OR toLower(n.id) CONTAINS toLower('Thời Gian Tối Đa')\n",
      "\n",
      "RETURN \n",
      "  collect(DISTINCT properties(n)) AS n_properties, \n",
      "  collect(DISTINCT type(r)) AS r_type, \n",
      "  collect(DISTINCT properties(r)) AS r_properties, \n",
      "  collect(DISTINCT properties(m)) AS m_properties\u001b[0m\n",
      "Full Context:\n",
      "\u001b[32;1m\u001b[1;3m[{'n_properties': [{'id': 'Thời Gian Học Tập'}, {'id': 'Thời Gian Tối Đa'}], 'r_type': ['BAO_GỒM', 'QUY_ĐỊNH'], 'r_properties': [{}], 'm_properties': [{'id': 'Quy Chế Này', 'mô_tả': 'quy định việc tổ chức và quản lý đào tạo trình độ đại học'}, {'id': 'Học Cùng Lúc Hai Chương Trình'}]}]\u001b[0m\n"
     ]
    },
    {
     "name": "stderr",
     "output_type": "stream",
     "text": [
      "  9%|▉         | 5/53 [02:15<20:57, 26.20s/it]"
     ]
    },
    {
     "name": "stdout",
     "output_type": "stream",
     "text": [
      "\n",
      "\u001b[1m> Finished chain.\u001b[0m\n",
      "\n",
      "\n",
      "\u001b[1m> Entering new GraphCypherQAChain chain...\u001b[0m\n",
      "Generated Cypher:\n",
      "\u001b[32;1m\u001b[1;3mOPTIONAL MATCH (n)\n",
      "WHERE toLower(n.id) CONTAINS toLower('Ngành Đào Tạo Kỹ Sư')\n",
      "\n",
      "OPTIONAL MATCH (n)-[r]->(m)\n",
      "WHERE toLower(m.id) CONTAINS toLower('thời gian')\n",
      "\n",
      "RETURN \n",
      "  collect(DISTINCT properties(n)) AS n_properties, \n",
      "  collect(DISTINCT type(r)) AS r_type, \n",
      "  collect(DISTINCT properties(r)) AS r_properties, \n",
      "  collect(DISTINCT properties(m)) AS m_properties\u001b[0m\n",
      "Full Context:\n",
      "\u001b[32;1m\u001b[1;3m[{'n_properties': [{'id': 'Ngành Đào Tạo Kỹ Sư'}], 'r_type': [], 'r_properties': [], 'm_properties': []}]\u001b[0m\n"
     ]
    },
    {
     "name": "stderr",
     "output_type": "stream",
     "text": [
      " 11%|█▏        | 6/53 [02:50<22:58, 29.32s/it]"
     ]
    },
    {
     "name": "stdout",
     "output_type": "stream",
     "text": [
      "\n",
      "\u001b[1m> Finished chain.\u001b[0m\n",
      "\n",
      "\n",
      "\u001b[1m> Entering new GraphCypherQAChain chain...\u001b[0m\n",
      "Generated Cypher:\n",
      "\u001b[32;1m\u001b[1;3mOPTIONAL MATCH (n)\n",
      "WHERE toLower(n.id) CONTAINS toLower('Hình Thức Đào Tạo Chính Quy')\n",
      "\n",
      "OPTIONAL MATCH (n2)-[r]->(m)\n",
      "WHERE toLower(n2.id) CONTAINS toLower('Hình Thức Đào Tạo Chính Quy') AND toLower(m.id) CONTAINS toLower('Thời Gian')\n",
      "\n",
      "RETURN \n",
      "  collect(DISTINCT properties(n)) AS hinh_thuc_dao_tao,\n",
      "  collect(DISTINCT properties(n2)) AS node_lien_quan,\n",
      "  collect(DISTINCT type(r)) AS loai_quan_he,\n",
      "  collect(DISTINCT properties(r)) AS thuoc_tinh_quan_he,\n",
      "  collect(DISTINCT properties(m)) AS thoi_gian\u001b[0m\n",
      "Full Context:\n",
      "\u001b[32;1m\u001b[1;3m[{'hinh_thuc_dao_tao': [{'thời_gian': '4.5 năm đối với ngành đào tạo kỹ sư, 3.5 năm đối với ngành đào tạo cử nhân kỹ thuật, 4 năm đối với các ngành còn lại', 'id': 'Hình Thức Đào Tạo Chính Quy'}], 'node_lien_quan': [], 'loai_quan_he': [], 'thuoc_tinh_quan_he': [], 'thoi_gian': []}]\u001b[0m\n"
     ]
    },
    {
     "name": "stderr",
     "output_type": "stream",
     "text": [
      " 13%|█▎        | 7/53 [03:15<21:26, 27.96s/it]"
     ]
    },
    {
     "name": "stdout",
     "output_type": "stream",
     "text": [
      "\n",
      "\u001b[1m> Finished chain.\u001b[0m\n",
      "\n",
      "\n",
      "\u001b[1m> Entering new GraphCypherQAChain chain...\u001b[0m\n",
      "Generated Cypher:\n",
      "\u001b[32;1m\u001b[1;3mOPTIONAL MATCH (n)-[r]-(m)\n",
      "WHERE toLower(n.id) CONTAINS toLower('Chuẩn Đầu Ra Tin Học') AND toLower(type(r)) CONTAINS toLower('KHÔNG_ÁP_DỤNG')\n",
      "\n",
      "RETURN \n",
      "  collect(DISTINCT properties(n)) AS n_properties, \n",
      "  collect(DISTINCT type(r)) AS r_type, \n",
      "  collect(DISTINCT properties(r)) AS r_properties, \n",
      "  collect(DISTINCT properties(m)) AS m_properties\u001b[0m\n",
      "Full Context:\n",
      "\u001b[32;1m\u001b[1;3m[{'n_properties': [], 'r_type': [], 'r_properties': [], 'm_properties': []}]\u001b[0m\n"
     ]
    },
    {
     "name": "stderr",
     "output_type": "stream",
     "text": [
      " 15%|█▌        | 8/53 [03:36<19:13, 25.62s/it]"
     ]
    },
    {
     "name": "stdout",
     "output_type": "stream",
     "text": [
      "\n",
      "\u001b[1m> Finished chain.\u001b[0m\n",
      "\n",
      "\n",
      "\u001b[1m> Entering new GraphCypherQAChain chain...\u001b[0m\n",
      "Generated Cypher:\n",
      "\u001b[32;1m\u001b[1;3mOPTIONAL MATCH (n)-[r]-(m)\n",
      "WHERE toLower(n.id) CONTAINS toLower('Quyền') AND toLower(m.id) CONTAINS toLower('Sinh Viên')\n",
      "\n",
      "RETURN \n",
      "  collect(DISTINCT properties(n)) AS n_properties, \n",
      "  collect(DISTINCT type(r)) AS r_type, \n",
      "  collect(DISTINCT properties(r)) AS r_properties, \n",
      "  collect(DISTINCT properties(m)) AS m_properties\u001b[0m\n",
      "Full Context:\n",
      "\u001b[32;1m\u001b[1;3m[{'n_properties': [{'id': 'Cơ Quan Có Thẩm Quyền'}, {'id': 'Chính Quyền Địa Phương'}, {'id': 'Quy Định Của Chính Quyền Địa Phương'}, {'id': 'Quyền Công Dân'}, {'id': 'Quyền Và Nghĩa Vụ'}, {'id': 'Quyền Của Sinh Viên Nội Trú'}, {'id': 'Cấp Có Thẩm Quyền Quyết Định Kỷ Luật'}], 'r_type': ['XUẤT_TRÌNH', 'PHỐI_HỢP', 'ĐƯỢC_HỖ_TRỢ', 'PHẢI_TUÂN_THỦ', 'ĐƯỢC_HƯỞNG', 'THUỘC', 'QUY_ĐỊNH', 'BÁO_CÁO'], 'r_properties': [{}], 'm_properties': [{'id': 'Sinh Viên Bị Đình Chỉ Học Tập Có Thời Hạn'}, {'id': 'Phòng Công Tác Sinh Viên', 'trách_nhiệm': 'thực hiện các nhiệm vụ cụ thể liên quan đến sinh viên ngoại trú', 'vai_trò': 'đầu mối xây dựng kế hoạch tham mưu cho Hiệu trưởng về công tác quản lý sinh viên ngoại trú'}, {'id': 'Sinh Viên Ngoại Trú', 'định_nghĩa': 'Sinh viên không ở trong ký túc xá của trường'}, {'id': 'Yêu Cầu Của Công Tác Sinh Viên Ngoại Trú'}, {'id': 'Sinh Viên', 'quyền_lợi': 'được bảo đảm điều kiện thực hiện đầy đủ nhiệm vụ và quyền trong quá trình học tập và rèn luyện tại trường', 'vai_trò': 'Lựa chọn phương án trả lời', 'định_nghĩa': 'người đang học chương trình đào tạo trình độ đại học hệ chính quy tại trường'}, {'id': 'Quy Định Công Tác Sinh Viên Nội Trú', 'tên': 'Quy định công tác sinh viên nội trú'}, {'id': 'Trung Tâm Hỗ Trợ Sinh Viên Và Quan Hệ Doanh Nghiệp', 'trách_nhiệm': 'giải quyết các vấn đề liên quan đến việc ký hợp đồng, sắp xếp chỗ ở, xây dựng nội quy ký túc xá, quản lý sinh viên trong ký túc xá', 'vai_trò': 'đầu mối'}, {'thời_gian': '06 tháng', 'id': 'Sinh Viên Bị Kỷ Luật Cảnh Cáo'}, {'thời_gian': '03 tháng', 'id': 'Sinh Viên Bị Kỷ Luật Khiển Trách'}]}]\u001b[0m\n"
     ]
    },
    {
     "name": "stderr",
     "output_type": "stream",
     "text": [
      " 17%|█▋        | 9/53 [04:05<19:44, 26.91s/it]"
     ]
    },
    {
     "name": "stdout",
     "output_type": "stream",
     "text": [
      "\n",
      "\u001b[1m> Finished chain.\u001b[0m\n",
      "\n",
      "\n",
      "\u001b[1m> Entering new GraphCypherQAChain chain...\u001b[0m\n",
      "Generated Cypher:\n",
      "\u001b[32;1m\u001b[1;3mOPTIONAL MATCH (n)\n",
      "WHERE toLower(n.id) CONTAINS toLower('Khối Lượng Học Tập')\n",
      "\n",
      "OPTIONAL MATCH (n2)-[r]->(m)\n",
      "WHERE toLower(m.id) CONTAINS toLower('Khối Lượng Học Tập')\n",
      "\n",
      "RETURN \n",
      "  collect(DISTINCT properties(n)) AS khái_niệm,\n",
      "  collect(DISTINCT properties(n2)) AS ngành_đào_tạo,\n",
      "  collect(DISTINCT type(r)) AS loại_quan_hệ,\n",
      "  collect(DISTINCT properties(r)) AS thuộc_tính_quan_hệ,\n",
      "  collect(DISTINCT properties(m)) AS khái_niệm_liên_quan\u001b[0m\n",
      "Full Context:\n",
      "\u001b[32;1m\u001b[1;3m[{'khái_niệm': [{'id': 'Khối Lượng Học Tập', 'ngành_kỹ_sư': '150 tín chỉ', 'ngành_khác': '135 tín chỉ', 'ngành_sư_phạm': '138 tín chỉ', 'ngành_cử_nhân_kỹ_thuật': '120 tín chỉ'}, {'id': 'Khối Lượng Học Tập Tối Thiểu'}, {'id': 'Khối Lượng Học Tập Tối Đa'}, {'id': 'Khối Lượng Học Tập Đã Tích Lũy'}], 'ngành_đào_tạo': [{'id': 'Chương Trình Đào Tạo', 'đơn_vị_tín_chỉ': 'được xây dựng theo đơn vị tín chỉ', 'cấu_trúc': 'từ các môn học hoặc học phần', 'mô_tả': 'Nơi các học phần Tiếng Anh 1, Tiếng Anh 2 thuộc về', 'yêu_cầu': 'đã được tổ chức đào tạo tối thiểu 03 khóa liên tục theo hình thức chính quy', 'phạm_vi': 'áp dụng chung đối với các hình thức, phương thức tổ chức đào tạo và đối tượng người học khác nhau', 'từ_năm': '2024', 'yêu_cầu_chất_lượng': 'đã được công nhận đạt tiêu chuẩn chất lượng'}, {'thời_gian': '4.5 năm đối với ngành đào tạo kỹ sư, 3.5 năm đối với ngành đào tạo cử nhân kỹ thuật, 4 năm đối với các ngành còn lại', 'id': 'Hình Thức Đào Tạo Chính Quy'}, {'id': 'Sinh Viên', 'quyền_lợi': 'được bảo đảm điều kiện thực hiện đầy đủ nhiệm vụ và quyền trong quá trình học tập và rèn luyện tại trường', 'vai_trò': 'Lựa chọn phương án trả lời', 'định_nghĩa': 'người đang học chương trình đào tạo trình độ đại học hệ chính quy tại trường'}, {'id': 'Bộ Giáo Dục Và Đào Tạo', 'vai_trò': 'Chủ trì, phối hợp', 'phạm_vi': 'Các bộ, ngành liên quan'}, {'id': 'Người Học Liên Thông'}], 'loại_quan_hệ': ['CÓ', 'LIÊN_QUAN_ĐẾN', 'PHẢI_ĐẠT', 'KHÔNG_VƯỢT_QUÁ', 'HƯỚNG_DẪN', 'CÔNG_NHẬN'], 'thuộc_tính_quan_hệ': [{}], 'khái_niệm_liên_quan': [{'id': 'Khối Lượng Học Tập', 'ngành_kỹ_sư': '150 tín chỉ', 'ngành_khác': '135 tín chỉ', 'ngành_sư_phạm': '138 tín chỉ', 'ngành_cử_nhân_kỹ_thuật': '120 tín chỉ'}, {'id': 'Khối Lượng Học Tập Tối Thiểu'}, {'id': 'Khối Lượng Học Tập Tối Đa'}, {'id': 'Khối Lượng Học Tập Đã Tích Lũy'}]}]\u001b[0m\n"
     ]
    },
    {
     "name": "stderr",
     "output_type": "stream",
     "text": [
      " 19%|█▉        | 10/53 [04:43<21:34, 30.10s/it]"
     ]
    },
    {
     "name": "stdout",
     "output_type": "stream",
     "text": [
      "\n",
      "\u001b[1m> Finished chain.\u001b[0m\n",
      "\n",
      "\n",
      "\u001b[1m> Entering new GraphCypherQAChain chain...\u001b[0m\n",
      "Generated Cypher:\n",
      "\u001b[32;1m\u001b[1;3mOPTIONAL MATCH (n)\n",
      "WHERE toLower(n.id) CONTAINS toLower('Loại Học Phần')\n",
      "\n",
      "OPTIONAL MATCH (n2)-[r]->(m)\n",
      "WHERE toLower(m.id) CONTAINS toLower('Loại Học Phần')\n",
      "\n",
      "RETURN \n",
      "  collect(DISTINCT properties(n)) AS loại_học_phần,\n",
      "  collect(DISTINCT properties(n2)) AS thực_thể_liên_quan,\n",
      "  collect(DISTINCT type(r)) AS loại_quan_hệ,\n",
      "  collect(DISTINCT properties(r)) AS thuộc_tính_quan_hệ,\n",
      "  collect(DISTINCT properties(m)) AS học_phần_liên_quan\u001b[0m\n",
      "Full Context:\n",
      "\u001b[32;1m\u001b[1;3m[{'loại_học_phần': [], 'thực_thể_liên_quan': [], 'loại_quan_hệ': [], 'thuộc_tính_quan_hệ': [], 'học_phần_liên_quan': []}]\u001b[0m\n"
     ]
    },
    {
     "name": "stderr",
     "output_type": "stream",
     "text": [
      " 21%|██        | 11/53 [05:02<18:44, 26.77s/it]"
     ]
    },
    {
     "name": "stdout",
     "output_type": "stream",
     "text": [
      "\n",
      "\u001b[1m> Finished chain.\u001b[0m\n",
      "\n",
      "\n",
      "\u001b[1m> Entering new GraphCypherQAChain chain...\u001b[0m\n",
      "Generated Cypher:\n",
      "\u001b[32;1m\u001b[1;3mOPTIONAL MATCH (n)\n",
      "WHERE toLower(n.id) CONTAINS toLower('Tín chỉ')\n",
      "\n",
      "RETURN collect(DISTINCT properties(n)) AS n_properties\u001b[0m\n",
      "Full Context:\n",
      "\u001b[32;1m\u001b[1;3m[{'n_properties': [{'id': 'Tín Chỉ', 'yêu_cầu_giảng_dạy': '15 giờ giảng hoặc 30 giờ thực hành, thí nghiệm, thảo luận', 'thời_gian_học_tập': '50 giờ học tập định mức', 'yêu_cầu_tự_học': '45 giờ làm tiểu luận, bài tập lớn hoặc đồ án, khoá luận tốt nghiệp, thực tập tại cơ sở', 'định_nghĩa': 'Được sử dụng để xác định khối lượng học tập của chương trình đào tạo, của mỗi thành phần hoặc của mỗi học phần trong chương trình đào tạo.'}, {'id': 'Đào Tạo Theo Tín Chỉ', 'mô_tả': 'Là phương thức tổ chức đào tạo theo từng lớp học phần, cho phép sinh viên tích lũy tín chỉ của từng học phần và thực hiện chương trình đào tạo theo kế hoạch học tập của cá nhân, phù hợp với kế hoạch giảng dạy của Trường Đại học Quy Nhơn.'}, {'id': 'Số Tín Chỉ'}, {'id': 'Số Tín Chỉ Tích Lũy'}, {'id': 'Số Tín Chỉ Trung Bình Một Năm Học'}, {'id': 'Số Tín Chỉ Nợ Đọng'}, {'id': 'Công Nhận Kết Quả Học Tập Và Chuyển Đổi Tín Chỉ'}, {'id': 'Phương Thức Đào Tạo Theo Tín Chỉ'}, {'id': 'Học Chế Tín Chỉ'}, {'id': 'Học Chế Tín Chỉ', 'quy_đổi': '15 tín chỉ tương đương một học kỳ'}, {'id': 'Học Phí Tín Chỉ'}]}]\u001b[0m\n"
     ]
    },
    {
     "name": "stderr",
     "output_type": "stream",
     "text": [
      " 23%|██▎       | 12/53 [05:20<16:32, 24.20s/it]"
     ]
    },
    {
     "name": "stdout",
     "output_type": "stream",
     "text": [
      "\n",
      "\u001b[1m> Finished chain.\u001b[0m\n",
      "\n",
      "\n",
      "\u001b[1m> Entering new GraphCypherQAChain chain...\u001b[0m\n",
      "Generated Cypher:\n",
      "\u001b[32;1m\u001b[1;3mOPTIONAL MATCH (n)\n",
      "WHERE toLower(n.id) CONTAINS toLower('Học Phần Bắt Buộc')\n",
      "\n",
      "RETURN collect(DISTINCT properties(n)) AS n_properties\u001b[0m\n",
      "Full Context:\n",
      "\u001b[32;1m\u001b[1;3m[{'n_properties': [{'id': 'Học Phần Bắt Buộc', 'định_nghĩa': 'Học phần chứa đựng những nội dung kiến thức chính yếu của mỗi chương trình đào tạo và bắt buộc sinh viên phải tích lũy.'}, {'id': 'Học Phần Bắt Buộc'}]}]\u001b[0m\n"
     ]
    },
    {
     "name": "stderr",
     "output_type": "stream",
     "text": [
      " 25%|██▍       | 13/53 [05:35<14:18, 21.47s/it]"
     ]
    },
    {
     "name": "stdout",
     "output_type": "stream",
     "text": [
      "\n",
      "\u001b[1m> Finished chain.\u001b[0m\n",
      "\n",
      "\n",
      "\u001b[1m> Entering new GraphCypherQAChain chain...\u001b[0m\n",
      "Generated Cypher:\n",
      "\u001b[32;1m\u001b[1;3mOPTIONAL MATCH (n)\n",
      "WHERE toLower(n.id) CONTAINS toLower('Học Phần Tương Đương')\n",
      "\n",
      "RETURN collect(DISTINCT properties(n)) AS n_properties\u001b[0m\n",
      "Full Context:\n",
      "\u001b[32;1m\u001b[1;3m[{'n_properties': [{'id': 'Học Phần Tương Đương', 'định_nghĩa': 'Một hay một nhóm học phần thuộc chương trình đào tạo của một ngành khác đang đào tạo tại trường, được phép tích lũy để thay cho một hay một nhóm học phần trong chương trình đào tạo của ngành, chuyên ngành.'}]}]\u001b[0m\n"
     ]
    },
    {
     "name": "stderr",
     "output_type": "stream",
     "text": [
      " 26%|██▋       | 14/53 [05:56<13:46, 21.19s/it]"
     ]
    },
    {
     "name": "stdout",
     "output_type": "stream",
     "text": [
      "\n",
      "\u001b[1m> Finished chain.\u001b[0m\n",
      "\n",
      "\n",
      "\u001b[1m> Entering new GraphCypherQAChain chain...\u001b[0m\n",
      "Generated Cypher:\n",
      "\u001b[32;1m\u001b[1;3mOPTIONAL MATCH (n)\n",
      "WHERE toLower(n.id) CONTAINS toLower('Học Phần Tự Chọn')\n",
      "\n",
      "RETURN collect(DISTINCT properties(n)) AS n_properties\u001b[0m\n",
      "Full Context:\n",
      "\u001b[32;1m\u001b[1;3m[{'n_properties': [{'id': 'Học Phần Tự Chọn', 'định_nghĩa': 'Học phần chứa đựng những nội dung kiến thức cần thiết, nhưng sinh viên được tự chọn theo hướng dẫn của khoa để tích lũy đủ số học phần quy định cho mỗi chương trình.'}, {'id': 'Học Phần Tự Chọn'}, {'id': 'Học Đổi Học Phần Tự Chọn Khác'}]}]\u001b[0m\n"
     ]
    },
    {
     "name": "stderr",
     "output_type": "stream",
     "text": [
      " 28%|██▊       | 15/53 [06:11<12:13, 19.29s/it]"
     ]
    },
    {
     "name": "stdout",
     "output_type": "stream",
     "text": [
      "\n",
      "\u001b[1m> Finished chain.\u001b[0m\n",
      "\n",
      "\n",
      "\u001b[1m> Entering new GraphCypherQAChain chain...\u001b[0m\n",
      "Generated Cypher:\n",
      "\u001b[32;1m\u001b[1;3mOPTIONAL MATCH (n)\n",
      "WHERE toLower(n.id) CONTAINS toLower('Học Phần Điều Kiện')\n",
      "\n",
      "RETURN collect(DISTINCT properties(n)) AS n_properties\u001b[0m\n",
      "Full Context:\n",
      "\u001b[32;1m\u001b[1;3m[{'n_properties': [{'id': 'Học Phần Điều Kiện', 'định_nghĩa': 'Học phần mà sinh viên phải hoàn thành mới được xét tốt nghiệp nhưng điểm của học phần này không tính vào điểm trung bình chung học kỳ và điểm trung bình chung tích lũy.'}, {'id': 'Học Phần Điều Kiện', 'định_nghĩa': 'Học phần không tính vào điểm TBC học kỳ hoặc tích lũy.'}]}]\u001b[0m\n"
     ]
    },
    {
     "name": "stderr",
     "output_type": "stream",
     "text": [
      " 30%|███       | 16/53 [06:26<11:11, 18.14s/it]"
     ]
    },
    {
     "name": "stdout",
     "output_type": "stream",
     "text": [
      "\n",
      "\u001b[1m> Finished chain.\u001b[0m\n",
      "\n",
      "\n",
      "\u001b[1m> Entering new GraphCypherQAChain chain...\u001b[0m\n",
      "Generated Cypher:\n",
      "\u001b[32;1m\u001b[1;3mOPTIONAL MATCH (n)\n",
      "WHERE toLower(n.id) CONTAINS toLower('Học Phần Thay Thế')\n",
      "\n",
      "RETURN collect(DISTINCT properties(n)) AS n_properties\u001b[0m\n",
      "Full Context:\n",
      "\u001b[32;1m\u001b[1;3m[{'n_properties': [{'id': 'Học Phần Thay Thế', 'định_nghĩa': 'Học phần được sử dụng để thay thế cho một học phần có trong chương trình nhưng nay không còn tổ chức giảng dạy nữa hoặc là một học phần tự chọn thay cho học phần tự chọn khác.'}]}]\u001b[0m\n"
     ]
    },
    {
     "name": "stderr",
     "output_type": "stream",
     "text": [
      " 32%|███▏      | 17/53 [06:44<10:50, 18.08s/it]"
     ]
    },
    {
     "name": "stdout",
     "output_type": "stream",
     "text": [
      "\n",
      "\u001b[1m> Finished chain.\u001b[0m\n",
      "\n",
      "\n",
      "\u001b[1m> Entering new GraphCypherQAChain chain...\u001b[0m\n",
      "Generated Cypher:\n",
      "\u001b[32;1m\u001b[1;3mOPTIONAL MATCH (n)-[r]-(m)\n",
      "WHERE toLower(n.id) CONTAINS toLower('Hình Thức Đào Tạo Vừa Làm Vừa Học') AND toLower(m.id) CONTAINS toLower('thời gian')\n",
      "\n",
      "RETURN \n",
      "  collect(DISTINCT properties(n)) AS n_properties, \n",
      "  collect(DISTINCT type(r)) AS r_type, \n",
      "  collect(DISTINCT properties(r)) AS r_properties, \n",
      "  collect(DISTINCT properties(m)) AS m_properties\u001b[0m\n",
      "Full Context:\n",
      "\u001b[32;1m\u001b[1;3m[{'n_properties': [], 'r_type': [], 'r_properties': [], 'm_properties': []}]\u001b[0m\n"
     ]
    },
    {
     "name": "stderr",
     "output_type": "stream",
     "text": [
      " 34%|███▍      | 18/53 [07:05<10:56, 18.76s/it]"
     ]
    },
    {
     "name": "stdout",
     "output_type": "stream",
     "text": [
      "\n",
      "\u001b[1m> Finished chain.\u001b[0m\n",
      "\n",
      "\n",
      "\u001b[1m> Entering new GraphCypherQAChain chain...\u001b[0m\n",
      "Generated Cypher:\n",
      "\u001b[32;1m\u001b[1;3mOPTIONAL MATCH (n)\n",
      "WHERE toLower(n.id) CONTAINS toLower('Lớp sinh viên')\n",
      "\n",
      "RETURN collect(DISTINCT properties(n)) AS n_properties\u001b[0m\n",
      "Full Context:\n",
      "\u001b[32;1m\u001b[1;3m[{'n_properties': [{'id': 'Lớp Sinh Viên', 'quy_định': 'Quy định về công tác sinh viên', 'mô_tả': 'Lớp sinh viên được duy trì ổn định trong cả khóa học, là nơi để nhà trường tổ chức, quản lý về thực hiện các nhiệm vụ học tập, rèn luyện, các hoạt động đoàn thể, các hoạt động xã hội, thi đua, khen thưởng, kỷ luật', 'định_nghĩa': 'bao gồm những sinh viên cùng ngành, cùng khóa học'}, {'id': 'Tập Thể Lớp Sinh Viên'}, {'id': 'Danh Hiệu Tập Thể Lớp Sinh Viên', 'loại': 'Lớp sinh viên Tiên tiến, Lớp sinh viên Xuất sắc'}, {'id': 'Lớp Sinh Viên Tiên Tiến'}, {'id': 'Lớp Sinh Viên Xuất Sắc'}, {'id': 'Lớp Sinh Viên'}, {'id': 'Chủ Nhiệm Lớp Sinh Viên'}, {'id': 'Biên Bản Của Tập Thể Lớp Sinh Viên'}, {'id': 'Đại Diện Lớp Sinh Viên'}, {'id': 'Chủ Nhiệm Lớp Sinh Viên', 'mô_tả': 'hỗ trợ quản lý, hướng dẫn các hoạt động học tập và rèn luyện của lớp sinh viên'}, {'id': 'Ban Cán Sự Lớp Sinh Viên', 'mô_tả': 'Lớp trưởng và các lớp phó do tập thể sinh viên trong lớp bầu, Trưởng khoa ra quyết định công nhận. Nhiệm kỳ ban cán sự lớp sinh viên theo năm học'}]}]\u001b[0m\n"
     ]
    },
    {
     "name": "stderr",
     "output_type": "stream",
     "text": [
      " 36%|███▌      | 19/53 [07:26<11:04, 19.54s/it]"
     ]
    },
    {
     "name": "stdout",
     "output_type": "stream",
     "text": [
      "\n",
      "\u001b[1m> Finished chain.\u001b[0m\n",
      "\n",
      "\n",
      "\u001b[1m> Entering new GraphCypherQAChain chain...\u001b[0m\n",
      "Generated Cypher:\n",
      "\u001b[32;1m\u001b[1;3mOPTIONAL MATCH (n)\n",
      "WHERE toLower(n.id) CONTAINS toLower('Lớp học phần')\n",
      "\n",
      "RETURN collect(DISTINCT properties(n)) AS n_properties\u001b[0m\n",
      "Full Context:\n",
      "\u001b[32;1m\u001b[1;3m[{'n_properties': [{'id': 'Lớp Học Phần', 'mô_tả': 'Gồm các sinh viên đăng ký học cùng một học phần, cùng một thời khóa biểu.', 'số_lượng_tối_thiểu': '60 sinh viên với các học phần chung toàn trường, 25 sinh viên với các học phần chuyên ngành', 'định_nghĩa': 'bao gồm những sinh viên đăng ký cùng học một học phần', 'điều_kiện': 'Nhà trường sẽ xem xét mở lớp trong các trường hợp đặc biệt khác.', 'mục_đích': 'nơi để nhà trường theo dõi, quản lý về học tập và ý thức kỷ luật của sinh viên trong giờ học'}, {'id': 'Ban Cán Sự Lớp Học Phần', 'nhiệm_kỳ': 'theo thời gian học của học phần', 'ưu_tiên': 'cộng điểm rèn luyện và các chế độ khác theo quy định của nhà trường', 'trách_nhiệm': 'báo cáo việc chấp hành nội quy, quy chế của sinh viên trong lớp với khoa, phòng Công tác sinh viên', 'thành_viên': 'lớp trưởng và các lớp phó'}]}]\u001b[0m\n"
     ]
    },
    {
     "name": "stderr",
     "output_type": "stream",
     "text": [
      " 38%|███▊      | 20/53 [07:52<11:51, 21.56s/it]"
     ]
    },
    {
     "name": "stdout",
     "output_type": "stream",
     "text": [
      "\n",
      "\u001b[1m> Finished chain.\u001b[0m\n",
      "\n",
      "\n",
      "\u001b[1m> Entering new GraphCypherQAChain chain...\u001b[0m\n",
      "Generated Cypher:\n",
      "\u001b[32;1m\u001b[1;3mOPTIONAL MATCH (n)\n",
      "WHERE toLower(n.id) CONTAINS toLower('Phương Thức Đào Tạo Theo Niên Chế')\n",
      "\n",
      "RETURN collect(DISTINCT properties(n)) AS n_properties\u001b[0m\n",
      "Full Context:\n",
      "\u001b[32;1m\u001b[1;3m[{'n_properties': []}]\u001b[0m\n"
     ]
    },
    {
     "name": "stderr",
     "output_type": "stream",
     "text": [
      " 40%|███▉      | 21/53 [08:07<10:26, 19.57s/it]"
     ]
    },
    {
     "name": "stdout",
     "output_type": "stream",
     "text": [
      "\n",
      "\u001b[1m> Finished chain.\u001b[0m\n",
      "\n",
      "\n",
      "\u001b[1m> Entering new GraphCypherQAChain chain...\u001b[0m\n",
      "Generated Cypher:\n",
      "\u001b[32;1m\u001b[1;3mOPTIONAL MATCH (n)\n",
      "WHERE toLower(n.id) CONTAINS toLower('Phương Thức Đào Tạo Theo Tín Chỉ')\n",
      "\n",
      "OPTIONAL MATCH (n)-[r]-(m)\n",
      "WHERE toLower(n.id) CONTAINS toLower('Phương Thức Đào Tạo Theo Tín Chỉ')\n",
      "\n",
      "RETURN \n",
      "  collect(DISTINCT properties(n)) AS n_properties,\n",
      "  collect(DISTINCT type(r)) AS r_type,\n",
      "  collect(DISTINCT properties(r)) AS r_properties,\n",
      "  collect(DISTINCT properties(m)) AS m_properties\u001b[0m\n",
      "Full Context:\n",
      "\u001b[32;1m\u001b[1;3m[{'n_properties': [{'id': 'Phương Thức Đào Tạo Theo Tín Chỉ'}], 'r_type': [], 'r_properties': [], 'm_properties': []}]\u001b[0m\n"
     ]
    },
    {
     "name": "stderr",
     "output_type": "stream",
     "text": [
      " 42%|████▏     | 22/53 [08:26<10:02, 19.44s/it]"
     ]
    },
    {
     "name": "stdout",
     "output_type": "stream",
     "text": [
      "\n",
      "\u001b[1m> Finished chain.\u001b[0m\n",
      "\n",
      "\n",
      "\u001b[1m> Entering new GraphCypherQAChain chain...\u001b[0m\n",
      "Generated Cypher:\n",
      "\u001b[32;1m\u001b[1;3mOPTIONAL MATCH (n)\n",
      "WHERE toLower(n.id) CONTAINS toLower('Đào Tạo Chính Quy')\n",
      "\n",
      "RETURN collect(DISTINCT properties(n)) AS n_properties\u001b[0m\n",
      "Full Context:\n",
      "\u001b[32;1m\u001b[1;3m[{'n_properties': [{'thời_gian': '4.5 năm đối với ngành đào tạo kỹ sư, 3.5 năm đối với ngành đào tạo cử nhân kỹ thuật, 4 năm đối với các ngành còn lại', 'id': 'Hình Thức Đào Tạo Chính Quy'}, {'thời_gian': 'Từ 06 giờ đến 20 giờ các ngày trong tuần từ thứ 2 đến thứ 7. Thực hành, thí nghiệm, các hoạt động thực tập, thực tế, học bù vì lý do thiên tai, dịch bệnh có thể bố trí vào Chủ nhật nếu cần', 'id': 'Đào Tạo Chính Quy', 'mô_tả': 'Các hoạt động giảng dạy được thực hiện tại cơ sở đào tạo, riêng những hoạt động thực hành, thực tập, trải nghiệm thực tế và giảng dạy trực tuyến có thể thực hiện ngoài Trường Đại học Quy Nhơn'}]}]\u001b[0m\n"
     ]
    },
    {
     "name": "stderr",
     "output_type": "stream",
     "text": [
      " 43%|████▎     | 23/53 [08:53<10:52, 21.75s/it]"
     ]
    },
    {
     "name": "stdout",
     "output_type": "stream",
     "text": [
      "\n",
      "\u001b[1m> Finished chain.\u001b[0m\n",
      "\n",
      "\n",
      "\u001b[1m> Entering new GraphCypherQAChain chain...\u001b[0m\n",
      "Generated Cypher:\n",
      "\u001b[32;1m\u001b[1;3mOPTIONAL MATCH (n)\n",
      "WHERE toLower(n.id) CONTAINS toLower('Đào Tạo Vừa Làm Vừa Học')\n",
      "\n",
      "RETURN collect(DISTINCT properties(n)) AS n_properties\u001b[0m\n",
      "Full Context:\n",
      "\u001b[32;1m\u001b[1;3m[{'n_properties': [{'thời_gian': 'dài hơn tối thiểu 20% so với hình thức đào tạo chính quy', 'id': 'Hình Thức Đào Tạo Vừa Làm Vừa Học'}, {'thời_gian': 'Linh hoạt trong ngày và trong tuần', 'id': 'Đào Tạo Vừa Làm Vừa Học', 'mô_tả': 'Các hoạt động giảng dạy được thực hiện tại cơ sở phối hợp đào tạo theo quy định liên kết đào tạo tại Điều 7 của Quy chế này, riêng những hoạt động thực hành, thực tập, trải nghiệm thực tế và giảng dạy trực tuyến có thể thực hiện ngoài Trường Đại học Quy Nhơn, ngoài cơ sở phối hợp đào tạo'}, {'giới_hạn_điểm': 'Điểm C', 'thi_lại': 'Được tổ chức thi lại, đánh giá lại lần 2', 'id': 'Đào Tạo Vừa Làm Vừa Học'}]}]\u001b[0m\n"
     ]
    },
    {
     "name": "stderr",
     "output_type": "stream",
     "text": [
      " 45%|████▌     | 24/53 [09:16<10:38, 22.01s/it]"
     ]
    },
    {
     "name": "stdout",
     "output_type": "stream",
     "text": [
      "\n",
      "\u001b[1m> Finished chain.\u001b[0m\n",
      "\n",
      "\n",
      "\u001b[1m> Entering new GraphCypherQAChain chain...\u001b[0m\n",
      "Generated Cypher:\n",
      "\u001b[32;1m\u001b[1;3mOPTIONAL MATCH (n)\n",
      "WHERE toLower(n.id) CONTAINS toLower('Kế Hoạch Năm Học')\n",
      "\n",
      "RETURN collect(DISTINCT properties(n)) AS n_properties\u001b[0m\n",
      "Full Context:\n",
      "\u001b[32;1m\u001b[1;3m[{'n_properties': [{'thời_gian': '02 hoặc 03 học kỳ chính với tổng số tối thiểu 30 tuần lên lớp', 'id': 'Kế Hoạch Năm Học', 'định_nghĩa': 'Thể hiện những mốc thời gian chính của các hoạt động đào tạo trong năm học cho tất cả hình thức, chương trình đào tạo'}]}]\u001b[0m\n"
     ]
    },
    {
     "name": "stderr",
     "output_type": "stream",
     "text": [
      " 47%|████▋     | 25/53 [09:32<09:27, 20.27s/it]"
     ]
    },
    {
     "name": "stdout",
     "output_type": "stream",
     "text": [
      "\n",
      "\u001b[1m> Finished chain.\u001b[0m\n",
      "\n",
      "\n",
      "\u001b[1m> Entering new GraphCypherQAChain chain...\u001b[0m\n",
      "Generated Cypher:\n",
      "\u001b[32;1m\u001b[1;3mOPTIONAL MATCH (n)-[r]-(m)\n",
      "WHERE toLower(n.id) CONTAINS toLower('trọng số') AND toLower(n.id) CONTAINS toLower('điểm đánh giá quá trình')\n",
      "\n",
      "RETURN \n",
      "  collect(DISTINCT properties(n)) AS n_properties, \n",
      "  collect(DISTINCT type(r)) AS r_type, \n",
      "  collect(DISTINCT properties(r)) AS r_properties, \n",
      "  collect(DISTINCT properties(m)) AS m_properties\u001b[0m\n",
      "Full Context:\n",
      "\u001b[32;1m\u001b[1;3m[{'n_properties': [], 'r_type': [], 'r_properties': [], 'm_properties': []}]\u001b[0m\n"
     ]
    },
    {
     "name": "stderr",
     "output_type": "stream",
     "text": [
      " 49%|████▉     | 26/53 [09:51<08:55, 19.84s/it]"
     ]
    },
    {
     "name": "stdout",
     "output_type": "stream",
     "text": [
      "\n",
      "\u001b[1m> Finished chain.\u001b[0m\n",
      "\n",
      "\n",
      "\u001b[1m> Entering new GraphCypherQAChain chain...\u001b[0m\n",
      "Generated Cypher:\n",
      "\u001b[32;1m\u001b[1;3mOPTIONAL MATCH (n)\n",
      "WHERE toLower(n.id) CONTAINS toLower('điểm thi kết thúc học phần')\n",
      "\n",
      "OPTIONAL MATCH (n2)-[r]->(m)\n",
      "WHERE toLower(m.id) CONTAINS toLower('điểm thi kết thúc học phần')\n",
      "\n",
      "RETURN \n",
      "  collect(DISTINCT properties(n)) AS khái_niệm,\n",
      "  collect(DISTINCT properties(n2)) AS thực_thể_liên_quan,\n",
      "  collect(DISTINCT type(r)) AS loại_quan_hệ,\n",
      "  collect(DISTINCT properties(r)) AS thuộc_tính_quan_hệ,\n",
      "  collect(DISTINCT properties(m)) AS khái_niệm_liên_quan\u001b[0m\n",
      "Full Context:\n",
      "\u001b[32;1m\u001b[1;3m[{'khái_niệm': [{'id': 'Điểm Thi Kết Thúc Học Phần', 'trọng_số': '70%, 60% hoặc 50% điểm học phần'}], 'thực_thể_liên_quan': [{'id': 'Phúc Tra Điểm Học Phần'}, {'id': 'Khoa Quản Lý Học Phần'}, {'id': 'Điểm Tổng Hợp Đánh Giá Học Phần', 'tên_gọi_tắt': 'Điểm học phần', 'định_nghĩa': 'Gồm hai thành phần: điểm đánh giá quá trình học tập và điểm thi kết thúc học phần'}], 'loại_quan_hệ': ['ÁP_DỤNG', 'NHẬP_ĐIỂM', 'BAO_GỒM'], 'thuộc_tính_quan_hệ': [{'thời_gian': '10 ngày kể từ khi công bố điểm học phần', 'yêu_cầu': 'Sinh viên làm đơn phúc tra nộp cho Khoa quản lý học phần, Bộ môn thuộc Trường'}, {}], 'khái_niệm_liên_quan': [{'id': 'Điểm Thi Kết Thúc Học Phần', 'trọng_số': '70%, 60% hoặc 50% điểm học phần'}]}]\u001b[0m\n"
     ]
    },
    {
     "name": "stderr",
     "output_type": "stream",
     "text": [
      " 51%|█████     | 27/53 [10:11<08:36, 19.87s/it]"
     ]
    },
    {
     "name": "stdout",
     "output_type": "stream",
     "text": [
      "\n",
      "\u001b[1m> Finished chain.\u001b[0m\n",
      "\n",
      "\n",
      "\u001b[1m> Entering new GraphCypherQAChain chain...\u001b[0m\n",
      "Generated Cypher:\n",
      "\u001b[32;1m\u001b[1;3mOPTIONAL MATCH (n)\n",
      "WHERE toLower(n.id) CONTAINS toLower('Điểm Trung Bình Chung Học Kỳ')\n",
      "\n",
      "OPTIONAL MATCH (n)-[r]-(m)\n",
      "WHERE toLower(n.id) CONTAINS toLower('Điểm Trung Bình Chung Học Kỳ')\n",
      "\n",
      "RETURN \n",
      "  collect(DISTINCT properties(n)) AS n_properties, \n",
      "  collect(DISTINCT type(r)) AS r_type, \n",
      "  collect(DISTINCT properties(r)) AS r_properties, \n",
      "  collect(DISTINCT properties(m)) AS m_properties\u001b[0m\n",
      "Full Context:\n",
      "\u001b[32;1m\u001b[1;3m[{'n_properties': [{'id': 'Điểm Trung Bình Chung Học Kỳ', 'phạm_vi': 'Bao gồm tất cả các học phần được đánh giá đạt và không đạt trong học kỳ.', 'định_nghĩa': 'Điểm trung bình chung học kỳ được tính theo công thức A = (Σ (i = 1 -> n) [a_i * n_i]) / (Σ (i = 1 -> n) [n_i]) và làm tròn đến 2 chữ số thập phân.'}], 'r_type': ['DỰA_TRÊN', 'DÙNG_ĐỂ', 'TÍNH_TỪ'], 'r_properties': [{}, {'mục_đích': 'Xét thôi học, cảnh báo kết quả học tập, xếp hạng học lực sinh viên và xếp hạng tốt nghiệp.'}, {'công_thức': 'A = (Σ (i = 1 -> n) [a_i * n_i]) / (Σ (i = 1 -> n) [n_i])'}], 'm_properties': [{'id': 'Xếp Loại Học Lực'}, {'id': 'Sinh Viên', 'quyền_lợi': 'được bảo đảm điều kiện thực hiện đầy đủ nhiệm vụ và quyền trong quá trình học tập và rèn luyện tại trường', 'vai_trò': 'Lựa chọn phương án trả lời', 'định_nghĩa': 'người đang học chương trình đào tạo trình độ đại học hệ chính quy tại trường'}, {'id': 'Học Phần', 'mã_học_phần': 'Do Trường quy định', 'khối_lượng_tín_chỉ': '1-4', 'thời_gian_giảng_dạy': 'Một học kỳ', 'định_nghĩa': 'Đơn vị học tập có điểm đánh giá và số tín chỉ.'}]}]\u001b[0m\n"
     ]
    },
    {
     "name": "stderr",
     "output_type": "stream",
     "text": [
      " 53%|█████▎    | 28/53 [10:35<08:45, 21.03s/it]"
     ]
    },
    {
     "name": "stdout",
     "output_type": "stream",
     "text": [
      "\n",
      "\u001b[1m> Finished chain.\u001b[0m\n",
      "\n",
      "\n",
      "\u001b[1m> Entering new GraphCypherQAChain chain...\u001b[0m\n",
      "Generated Cypher:\n",
      "\u001b[32;1m\u001b[1;3mOPTIONAL MATCH (n)\n",
      "WHERE toLower(n.id) CONTAINS toLower('Điểm Trung Bình Chung Tích Lũy')\n",
      "\n",
      "OPTIONAL MATCH (n2)-[r]->(m)\n",
      "WHERE toLower(n2.id) CONTAINS toLower('Điểm Trung Bình Chung Tích Lũy')\n",
      "\n",
      "RETURN \n",
      "  collect(DISTINCT properties(n)) AS khai_niem,\n",
      "  collect(DISTINCT properties(n2)) AS node_lien_quan,\n",
      "  collect(DISTINCT type(r)) AS loai_quan_he,\n",
      "  collect(DISTINCT properties(r)) AS thuoc_tinh_quan_he,\n",
      "  collect(DISTINCT properties(m)) AS node_ket_qua\u001b[0m\n",
      "Full Context:\n",
      "\u001b[32;1m\u001b[1;3m[{'khai_niem': [{'id': 'Cải Thiện Điểm Trung Bình Chung Tích Lũy'}, {'id': 'Điểm Trung Bình Chung Tích Lũy', 'phạm_vi': 'Bao gồm các học phần được đánh giá đạt đến thời điểm xét.', 'định_nghĩa': 'Điểm trung bình chung tích lũy được tính theo công thức A = (Σ (i = 1 -> n) [a_i * n_i]) / (Σ (i = 1 -> n) [n_i]) và làm tròn đến 2 chữ số thập phân.'}], 'node_lien_quan': [{'id': 'Điểm Trung Bình Chung Tích Lũy', 'phạm_vi': 'Bao gồm các học phần được đánh giá đạt đến thời điểm xét.', 'định_nghĩa': 'Điểm trung bình chung tích lũy được tính theo công thức A = (Σ (i = 1 -> n) [a_i * n_i]) / (Σ (i = 1 -> n) [n_i]) và làm tròn đến 2 chữ số thập phân.'}], 'loai_quan_he': ['DÙNG_ĐỂ', 'TÍNH_TỪ'], 'thuoc_tinh_quan_he': [{'mục_đích': 'Xét thôi học, cảnh báo kết quả học tập, xếp hạng học lực sinh viên và xếp hạng tốt nghiệp.'}, {'công_thức': 'A = (Σ (i = 1 -> n) [a_i * n_i]) / (Σ (i = 1 -> n) [n_i])'}], 'node_ket_qua': [{'id': 'Sinh Viên', 'quyền_lợi': 'được bảo đảm điều kiện thực hiện đầy đủ nhiệm vụ và quyền trong quá trình học tập và rèn luyện tại trường', 'vai_trò': 'Lựa chọn phương án trả lời', 'định_nghĩa': 'người đang học chương trình đào tạo trình độ đại học hệ chính quy tại trường'}, {'id': 'Học Phần', 'mã_học_phần': 'Do Trường quy định', 'khối_lượng_tín_chỉ': '1-4', 'thời_gian_giảng_dạy': 'Một học kỳ', 'định_nghĩa': 'Đơn vị học tập có điểm đánh giá và số tín chỉ.'}]}]\u001b[0m\n"
     ]
    },
    {
     "name": "stderr",
     "output_type": "stream",
     "text": [
      " 55%|█████▍    | 29/53 [11:13<10:32, 26.35s/it]"
     ]
    },
    {
     "name": "stdout",
     "output_type": "stream",
     "text": [
      "\n",
      "\u001b[1m> Finished chain.\u001b[0m\n",
      "\n",
      "\n",
      "\u001b[1m> Entering new GraphCypherQAChain chain...\u001b[0m\n",
      "Generated Cypher:\n",
      "\u001b[32;1m\u001b[1;3mOPTIONAL MATCH (n)\n",
      "WHERE toLower(n.id) CONTAINS toLower('Hoạt Động Công Tác Sinh Viên')\n",
      "\n",
      "RETURN collect(DISTINCT properties(n)) AS n_properties\u001b[0m\n",
      "Full Context:\n",
      "\u001b[32;1m\u001b[1;3m[{'n_properties': []}]\u001b[0m\n"
     ]
    },
    {
     "name": "stderr",
     "output_type": "stream",
     "text": [
      " 57%|█████▋    | 30/53 [11:28<08:44, 22.79s/it]"
     ]
    },
    {
     "name": "stdout",
     "output_type": "stream",
     "text": [
      "\n",
      "\u001b[1m> Finished chain.\u001b[0m\n",
      "\n",
      "\n",
      "\u001b[1m> Entering new GraphCypherQAChain chain...\u001b[0m\n",
      "Generated Cypher:\n",
      "\u001b[32;1m\u001b[1;3mOPTIONAL MATCH (n)-[r]-(m)\n",
      "WHERE toLower(n.id) CONTAINS toLower('Hình Thức Kỷ Luật')\n",
      "\n",
      "RETURN \n",
      "  collect(DISTINCT properties(n)) AS n_properties, \n",
      "  collect(DISTINCT type(r)) AS r_type, \n",
      "  collect(DISTINCT properties(r)) AS r_properties, \n",
      "  collect(DISTINCT properties(m)) AS m_properties\u001b[0m\n",
      "Full Context:\n",
      "\u001b[32;1m\u001b[1;3m[{'n_properties': [{'id': 'Hình Thức Kỷ Luật', 'mô_tả': 'Các hình thức kỷ luật áp dụng cho sinh viên vi phạm', 'phạm_vi': 'Sinh viên'}], 'r_type': ['TUÂN_THỦ', 'KHIẾU_NẠI', 'RA_QUYẾT_ĐỊNH', 'KIẾN_NGHỊ', 'THÔNG_BÁO', 'LƯU_VÀO', 'BAO_GỒM', 'ÁP_DỤNG_CHO', 'QUY_ĐỊNH'], 'r_properties': [{}], 'm_properties': [{'id': 'Sinh Viên Đại Học Hệ Chính Quy'}, {'id': 'Tập Thể Sinh Viên'}, {'id': 'Cá Nhân Sinh Viên'}, {'id': 'Hiệu Trưởng', 'vai_trò': 'Ban hành Quyết định thành lập Hội đồng đánh giá kết quả rèn luyện'}, {'id': 'Hội Đồng Khen Thưởng Và Kỷ Luật Sinh Viên'}, {'id': 'Địa Phương'}, {'id': 'Gia Đình Sinh Viên'}, {'id': 'Hồ Sơ Quản Lý Sinh Viên'}, {'id': 'Buộc Thôi Học', 'mô_tả': 'Áp dụng đối với sinh viên đang trong thời gian bị đình chỉ học tập mà vẫn tiếp tục vi phạm kỷ luật hoặc vi phạm lần đầu nhưng có tính chất và mức độ vi phạm đặc biệt nghiêm trọng, gây ảnh hưởng xấu đến nhà trường và xã hội; vi phạm pháp luật bị xử phạt tù giam'}, {'id': 'Đình Chỉ Học Tập Có Thời Hạn', 'thời_hạn': 'Đình chỉ một học kỳ, đình chỉ một năm học hoặc đình chỉ theo thời gian sinh viên bị xử phạt tù nhưng cho hưởng án treo', 'mô_tả': 'Áp dụng đối với những sinh viên đang trong thời gian bị cảnh cáo mà vẫn vi phạm kỷ luật hoặc vi phạm nghiêm trọng các hành vi sinh viên không được làm; sinh viên vi phạm pháp luật bị xử phạt tù nhưng cho hưởng án treo'}, {'id': 'Cảnh Cáo', 'mô_tả': 'Áp dụng đối với sinh viên vi phạm một trong các lỗi: Đã bị khiển trách một lần nhưng trong giờ thi học phần đó vẫn tiếp tục vi phạm; trao đổi bài làm hoặc giấy nháp với sinh viên khác; chép bài của sinh viên khác; những bài thi đã được CBCT kết luận là giống nhau sẽ bị xử lý như nhau', 'quyết_định_bởi': 'CBCT', 'hậu_quả': 'Trừ 50% số điểm toàn bài thi của học phần dự thi'}, {'id': 'Phê Bình'}, {'id': 'Nhắc Nhở'}, {'id': 'Sinh Viên', 'quyền_lợi': 'được bảo đảm điều kiện thực hiện đầy đủ nhiệm vụ và quyền trong quá trình học tập và rèn luyện tại trường', 'vai_trò': 'Lựa chọn phương án trả lời', 'định_nghĩa': 'người đang học chương trình đào tạo trình độ đại học hệ chính quy tại trường'}, {'tiêu_đề': 'Phân loại kết quả rèn luyện', 'id': 'Điều 9'}]}]\u001b[0m\n"
     ]
    },
    {
     "name": "stderr",
     "output_type": "stream",
     "text": [
      " 58%|█████▊    | 31/53 [11:58<09:08, 24.92s/it]"
     ]
    },
    {
     "name": "stdout",
     "output_type": "stream",
     "text": [
      "\n",
      "\u001b[1m> Finished chain.\u001b[0m\n",
      "\n",
      "\n",
      "\u001b[1m> Entering new GraphCypherQAChain chain...\u001b[0m\n",
      "Generated Cypher:\n",
      "\u001b[32;1m\u001b[1;3mOPTIONAL MATCH (n)-[r]-(m)\n",
      "WHERE toLower(n.id) CONTAINS toLower('Đánh giá kết quả học tập')\n",
      "\n",
      "RETURN \n",
      "  collect(DISTINCT properties(n)) AS n_properties, \n",
      "  collect(DISTINCT type(r)) AS r_type, \n",
      "  collect(DISTINCT properties(r)) AS r_properties, \n",
      "  collect(DISTINCT properties(m)) AS m_properties\u001b[0m\n",
      "Full Context:\n",
      "\u001b[32;1m\u001b[1;3m[{'n_properties': [{'id': 'Đánh Giá Kết Quả Học Tập'}, {'id': 'Đánh Giá Kết Quả Học Tập Theo Học Kỳ, Năm Học'}, {'id': 'Gian Lận Trong Thi, Kiểm Tra, Đánh Giá Kết Quả Học Tập'}, {'id': 'Đánh Giá Kết Quả Học Tập', 'mục_đích': 'Đánh giá kết quả học tập của sinh viên theo mục tiêu và chuẩn đầu ra của học phần nhằm đáp ứng chuẩn đầu ra của chương trình đào tạo'}], 'r_type': ['BAO_GỒM', 'LIÊN_QUAN_ĐẾN', 'ÁP_DỤNG_CHO', 'QUY_ĐỊNH', 'DẪN_ĐẾN', 'CÓ', 'PHẢI_TUÂN_THỦ', 'ĐÁP_ỨNG'], 'r_properties': [{}], 'm_properties': [{'id': 'Quy Chế Này', 'mô_tả': 'quy định việc tổ chức và quản lý đào tạo trình độ đại học'}, {'id': 'Năm Học'}, {'id': 'Học Kỳ'}, {'id': 'Sinh Viên', 'quyền_lợi': 'được bảo đảm điều kiện thực hiện đầy đủ nhiệm vụ và quyền trong quá trình học tập và rèn luyện tại trường', 'vai_trò': 'Lựa chọn phương án trả lời', 'định_nghĩa': 'người đang học chương trình đào tạo trình độ đại học hệ chính quy tại trường'}, {'tiêu_đề': 'Chế độ báo cáo', 'id': 'Điều 18'}, {'id': 'Xử Lý Kỷ Luật'}, {'id': 'Công Bằng', 'phạm_vi': 'Đối với tất cả sinh viên trong lớp, giữa các lớp, các khóa học và các hình thức đào tạo'}, {'id': 'Nghiêm Túc, Khách Quan, Tin Cậy Và Trung Thực'}, {'id': 'Chương Trình Đào Tạo', 'đơn_vị_tín_chỉ': 'được xây dựng theo đơn vị tín chỉ', 'cấu_trúc': 'từ các môn học hoặc học phần', 'mô_tả': 'Nơi các học phần Tiếng Anh 1, Tiếng Anh 2 thuộc về', 'yêu_cầu': 'đã được tổ chức đào tạo tối thiểu 03 khóa liên tục theo hình thức chính quy', 'phạm_vi': 'áp dụng chung đối với các hình thức, phương thức tổ chức đào tạo và đối tượng người học khác nhau', 'từ_năm': '2024', 'yêu_cầu_chất_lượng': 'đã được công nhận đạt tiêu chuẩn chất lượng'}]}]\u001b[0m\n"
     ]
    },
    {
     "name": "stderr",
     "output_type": "stream",
     "text": [
      " 60%|██████    | 32/53 [12:18<08:13, 23.50s/it]"
     ]
    },
    {
     "name": "stdout",
     "output_type": "stream",
     "text": [
      "\n",
      "\u001b[1m> Finished chain.\u001b[0m\n",
      "\n",
      "\n",
      "\u001b[1m> Entering new GraphCypherQAChain chain...\u001b[0m\n",
      "Generated Cypher:\n",
      "\u001b[32;1m\u001b[1;3mOPTIONAL MATCH (n)\n",
      "WHERE toLower(n.id) CONTAINS toLower('Kỳ Thi Phụ')\n",
      "\n",
      "OPTIONAL MATCH (n2)-[r]->(m)\n",
      "WHERE toLower(m.id) CONTAINS toLower('Kỳ Thi Phụ')\n",
      "\n",
      "RETURN \n",
      "  collect(DISTINCT properties(n)) AS kỳ_thi,\n",
      "  collect(DISTINCT properties(n2)) AS thực_thể_liên_quan,\n",
      "  collect(DISTINCT type(r)) AS loại_quan_hệ,\n",
      "  collect(DISTINCT properties(r)) AS thuộc_tính_quan_hệ,\n",
      "  collect(DISTINCT properties(m)) AS kỳ_thi_liên_quan\u001b[0m\n",
      "Full Context:\n",
      "\u001b[32;1m\u001b[1;3m[{'kỳ_thi': [{'id': 'Kỳ Thi Phụ'}, {'id': 'Kỳ Thi Phụ, Thi Lại'}], 'thực_thể_liên_quan': [{'id': 'Hiệu Trưởng', 'vai_trò': 'Ban hành Quyết định thành lập Hội đồng đánh giá kết quả rèn luyện'}, {'id': 'Thi Bổ Sung'}, {'id': 'Kế Hoạch Thi Kết Thúc Học Phần'}], 'loại_quan_hệ': ['QUYẾT_ĐỊNH', 'TỔ_CHỨC_TRONG', 'THUỘC'], 'thuộc_tính_quan_hệ': [{}, {'thời_gian': '05 ngày'}], 'kỳ_thi_liên_quan': [{'id': 'Kỳ Thi Phụ'}, {'id': 'Kỳ Thi Phụ, Thi Lại'}]}]\u001b[0m\n"
     ]
    },
    {
     "name": "stderr",
     "output_type": "stream",
     "text": [
      " 62%|██████▏   | 33/53 [12:37<07:24, 22.20s/it]"
     ]
    },
    {
     "name": "stdout",
     "output_type": "stream",
     "text": [
      "\n",
      "\u001b[1m> Finished chain.\u001b[0m\n",
      "\n",
      "\n",
      "\u001b[1m> Entering new GraphCypherQAChain chain...\u001b[0m\n",
      "Generated Cypher:\n",
      "\u001b[32;1m\u001b[1;3mOPTIONAL MATCH (n)\n",
      "WHERE toLower(n.id) CONTAINS toLower('giảng viên')\n",
      "\n",
      "OPTIONAL MATCH (n)-[r]-(m)\n",
      "WHERE toLower(n.id) CONTAINS toLower('giảng viên') AND toLower(type(r)) CONTAINS toLower('vai_trò')\n",
      "\n",
      "RETURN \n",
      "  collect(DISTINCT properties(n)) AS n_properties,\n",
      "  collect(DISTINCT type(r)) AS r_type,\n",
      "  collect(DISTINCT properties(r)) AS r_properties,\n",
      "  collect(DISTINCT properties(m)) AS m_properties\u001b[0m\n",
      "Full Context:\n",
      "\u001b[32;1m\u001b[1;3m[{'n_properties': [{'id': 'Giảng Viên', 'trách_nhiệm': 'Điều chỉnh, cải tiến và nâng cao chất lượng giảng dạy', 'vai_trò': 'Xem xét kết quả phản hồi, đánh giá mức độ đạt chuẩn đầu ra học phần'}, {'id': 'Đội Ngũ Giảng Viên Cơ Hữu', 'yêu_cầu': 'giảng dạy tối thiểu 70% nội dung, khối lượng chương trình đào tạo'}, {'id': 'Đội Ngũ Giảng Viên'}, {'id': 'Phân Công Giảng Viên Giảng Dạy'}, {'id': 'Trách Nhiệm Và Quyền Hạn Của Giảng Viên'}, {'id': 'Giảng Viên Phụ Trách Học Phần'}, {'id': 'Giảng Viên Hướng Dẫn'}, {'id': 'Giảng Viên Bộ Môn'}, {'id': 'Giảng Viên Giảng Dạy Học Phần'}, {'id': 'Giảng Viên Giảng Dạy'}, {'id': 'Khảo Sát Sự Hài Lòng Của Giảng Viên', 'nội_dung_khảo_sát': 'Thư viện, phòng học, phòng thí nghiệm, thực hành, hệ thống CNTT, các hoạt động hỗ trợ của Nhà trường', 'thời_gian_khảo_sát': 'hàng năm', 'đối_tượng_tham_gia': 'GV đang giảng dạy tại Trường ĐHQN', 'công_cụ_khảo_sát': 'Phiếu khảo sát sự hài lòng của giảng viên về chất lượng các hoạt động, cơ sở vật chất, trang thiết bị dịch vụ hỗ trợ đào tạo: BM08_DHQN_KSGV.TH', 'đối_tượng_khảo_sát': 'sự hài lòng của giảng viên về chất lượng các hoạt động, cơ sở vật chất, trang thiết bị, dịch vụ hỗ trợ đào tạo của Trường', 'hình_thức_khảo_sát': 'Thu thập ý kiến trực tiếp, qua phiếu khảo sát, qua email hoặc qua web', 'mục_đích': 'Giúp Trường thu thập thông tin và xem xét mức độ hài lòng của giảng viên về chất lượng, hiệu quả các hoạt động, cơ sở vật chất, trang thiết bị, hoạt động hỗ trợ đào tạo'}, {'id': 'Cổng Thông Tin Giảng Viên'}, {'id': 'Giảng Viên'}], 'r_type': [], 'r_properties': [], 'm_properties': []}]\u001b[0m\n"
     ]
    },
    {
     "name": "stderr",
     "output_type": "stream",
     "text": [
      " 64%|██████▍   | 34/53 [12:59<06:56, 21.92s/it]"
     ]
    },
    {
     "name": "stdout",
     "output_type": "stream",
     "text": [
      "\n",
      "\u001b[1m> Finished chain.\u001b[0m\n",
      "\n",
      "\n",
      "\u001b[1m> Entering new GraphCypherQAChain chain...\u001b[0m\n",
      "Generated Cypher:\n",
      "\u001b[32;1m\u001b[1;3mOPTIONAL MATCH (n)\n",
      "WHERE toLower(n.id) CONTAINS toLower('Điểm xếp loại P')\n",
      "\n",
      "RETURN collect(DISTINCT properties(n)) AS n_properties\u001b[0m\n",
      "Full Context:\n",
      "\u001b[32;1m\u001b[1;3m[{'n_properties': []}]\u001b[0m\n"
     ]
    },
    {
     "name": "stderr",
     "output_type": "stream",
     "text": [
      " 66%|██████▌   | 35/53 [13:13<05:52, 19.61s/it]"
     ]
    },
    {
     "name": "stdout",
     "output_type": "stream",
     "text": [
      "\n",
      "\u001b[1m> Finished chain.\u001b[0m\n",
      "\n",
      "\n",
      "\u001b[1m> Entering new GraphCypherQAChain chain...\u001b[0m\n",
      "Generated Cypher:\n",
      "\u001b[32;1m\u001b[1;3mOPTIONAL MATCH (n)\n",
      "WHERE toLower(n.id) CONTAINS toLower('Xếp loại I')\n",
      "\n",
      "RETURN collect(DISTINCT properties(n)) AS n_properties\u001b[0m\n",
      "Full Context:\n",
      "\u001b[32;1m\u001b[1;3m[{'n_properties': [{'id': 'Xếp Loại I', 'định_nghĩa': 'Điểm chưa hoàn thiện do được phép hoãn thi, kiểm tra'}]}]\u001b[0m\n"
     ]
    },
    {
     "name": "stderr",
     "output_type": "stream",
     "text": [
      " 68%|██████▊   | 36/53 [13:29<05:13, 18.47s/it]"
     ]
    },
    {
     "name": "stdout",
     "output_type": "stream",
     "text": [
      "\n",
      "\u001b[1m> Finished chain.\u001b[0m\n",
      "\n",
      "\n",
      "\u001b[1m> Entering new GraphCypherQAChain chain...\u001b[0m\n",
      "Generated Cypher:\n",
      "\u001b[32;1m\u001b[1;3mOPTIONAL MATCH (n)\n",
      "WHERE toLower(n.id) CONTAINS toLower('Xếp loại M')\n",
      "\n",
      "RETURN collect(DISTINCT properties(n)) AS n_properties\u001b[0m\n",
      "Full Context:\n",
      "\u001b[32;1m\u001b[1;3m[{'n_properties': [{'id': 'Xếp Loại M', 'định_nghĩa': 'Điểm học phần được miễn (không tính vào điểm trung bình học tập)'}]}]\u001b[0m\n"
     ]
    },
    {
     "name": "stderr",
     "output_type": "stream",
     "text": [
      " 70%|██████▉   | 37/53 [13:47<04:54, 18.42s/it]"
     ]
    },
    {
     "name": "stdout",
     "output_type": "stream",
     "text": [
      "\n",
      "\u001b[1m> Finished chain.\u001b[0m\n",
      "\n",
      "\n",
      "\u001b[1m> Entering new GraphCypherQAChain chain...\u001b[0m\n",
      "Generated Cypher:\n",
      "\u001b[32;1m\u001b[1;3mOPTIONAL MATCH (n)\n",
      "WHERE toLower(n.id) CONTAINS toLower('Học Lực') AND toLower(n.id) CONTAINS toLower('A')\n",
      "\n",
      "OPTIONAL MATCH (n2)-[r]->(m)\n",
      "WHERE toLower(n2.id) CONTAINS toLower('Học Lực') AND toLower(m.id) CONTAINS toLower('thang_điểm_4')\n",
      "\n",
      "RETURN \n",
      "  collect(DISTINCT properties(n)) AS học_lực,\n",
      "  collect(DISTINCT properties(n2)) AS học_lực_liên_quan,\n",
      "  collect(DISTINCT type(r)) AS loại_quan_hệ,\n",
      "  collect(DISTINCT properties(r)) AS thuộc_tính_quan_hệ,\n",
      "  collect(DISTINCT properties(m)) AS thang_điểm\u001b[0m\n",
      "Full Context:\n",
      "\u001b[32;1m\u001b[1;3m[{'học_lực': [], 'học_lực_liên_quan': [], 'loại_quan_hệ': [], 'thuộc_tính_quan_hệ': [], 'thang_điểm': []}]\u001b[0m\n"
     ]
    },
    {
     "name": "stderr",
     "output_type": "stream",
     "text": [
      " 72%|███████▏  | 38/53 [14:07<04:44, 19.00s/it]"
     ]
    },
    {
     "name": "stdout",
     "output_type": "stream",
     "text": [
      "\n",
      "\u001b[1m> Finished chain.\u001b[0m\n",
      "\n",
      "\n",
      "\u001b[1m> Entering new GraphCypherQAChain chain...\u001b[0m\n",
      "Generated Cypher:\n",
      "\u001b[32;1m\u001b[1;3mOPTIONAL MATCH (n)\n",
      "WHERE toLower(n.id) CONTAINS toLower('F')\n",
      "\n",
      "OPTIONAL MATCH (n2)-[r]->(m)\n",
      "WHERE toLower(m.id) CONTAINS toLower('F')\n",
      "\n",
      "RETURN \n",
      "  collect(DISTINCT properties(n)) AS xep_loai_F,\n",
      "  collect(DISTINCT properties(n2)) AS node_lien_quan,\n",
      "  collect(DISTINCT type(r)) AS loai_quan_he,\n",
      "  collect(DISTINCT properties(r)) AS thuoc_tinh_quan_he,\n",
      "  collect(DISTINCT properties(m)) AS node_lien_quan_2\u001b[0m\n",
      "Full Context:\n",
      "\u001b[32;1m\u001b[1;3m[{'xep_loai_F': [{'id': 'Fanpage', 'giá_trị': 'https://www.facebook.com/thuviendhqn'}, {'id': 'Điểm Trên F', 'điểm': 'A+, A, B+, B, C, D'}, {'id': 'Xếp Loại F', 'thang_điểm_4': '0', 'kết_quả': 'Không đạt', 'điểm': '0 - 3,9'}, {'id': 'Khung Năng Lực Ngoại Ngữ 6 Bậc (Cefr)'}, {'id': 'Toefl Pbt'}, {'id': 'Toefl Cbt'}, {'id': 'Toefl Ibt'}, {'id': 'Toefl Itp'}, {'id': 'Cambridge Fce'}, {'id': 'Google Forms', 'mô_tả': 'Công cụ khảo sát trực tuyến'}], 'node_lien_quan': [{'thời_gian': '2024 – 2025', 'id': 'Thư Viện', 'mô_tả': 'Tiếp tục được đầu tư, cải tạo không gian theo hướng tiện ích và thân thiện'}, {'id': 'Đăng Ký Học Lại'}, {'id': 'Điểm Học Phần', 'tính_chất': 'Tính từ tổng các điểm thành phần nhân với trọng số tương ứng'}, {'id': 'Chứng Chỉ Quốc Gia'}, {'id': 'Chứng Chỉ Tiếng Anh Quốc Tế'}, {'id': 'Khung Năng Lực Ngoại Ngữ 6 Bậc (Cefr)'}, {'id': 'Phòng Kt&Đbcl'}, {'id': 'Khảo Sát Sự Hài Lòng Của Người Học', 'nội_dung_khảo_sát': 'Thư viện, phòng học, phòng thí nghiệm, thực hành, hệ thống CNTT, các hoạt động hỗ trợ của đội ngũ nhân viên các phòng/khoa/trung tâm, các dịch vụ hỗ trợ khác, hoạt động phục vụ cộng đồng của Nhà trường', 'thời_gian_khảo_sát': 'Trong quá trình tự đánh giá cấp Trường hoặc CTĐT', 'đối_tượng_tham_gia': 'Người học các bậc, hệ chính quy đang theo học tại Trường', 'đối_tượng_khảo_sát': 'Sự hài lòng của người học về chất lượng các hoạt động, cơ sở vật chất, trang thiết bị, dịch vụ hỗ trợ đào tạo và phục vụ cộng đồng của Trường', 'hình_thức_khảo_sát': 'Thu thập ý kiến trực tiếp, qua phiếu khảo sát, qua email hoặc qua web', 'mục_đích': 'Thu thập thông tin và xem xét mức độ hài lòng của người học về chất lượng, hiệu quả các hoạt động, cơ sở vật chất, trang thiết bị, dịch vụ hỗ trợ đào tạo và phục vụ cộng đồng'}, {'id': 'Bộ Công Cụ Khảo Sát', 'tên_khác': 'Phiếu khảo sát'}], 'loai_quan_he': ['CÓ', 'ĐẠT', 'QUY_ĐỔI', 'THUỘC', 'BAO_GỒM', 'SỬ_DỤNG'], 'thuoc_tinh_quan_he': [{}, {'theo_quy_định': 'Khoản 1 và Khoản 2 Điều 5'}], 'node_lien_quan_2': [{'id': 'Fanpage', 'giá_trị': 'https://www.facebook.com/thuviendhqn'}, {'id': 'Điểm Trên F', 'điểm': 'A+, A, B+, B, C, D'}, {'id': 'Xếp Loại F', 'thang_điểm_4': '0', 'kết_quả': 'Không đạt', 'điểm': '0 - 3,9'}, {'id': 'Khung Năng Lực Ngoại Ngữ 6 Bậc (Cefr)'}, {'id': 'Toefl Pbt'}, {'id': 'Toefl Cbt'}, {'id': 'Toefl Ibt'}, {'id': 'Toefl Itp'}, {'id': 'Cambridge Fce'}, {'id': 'Google Forms', 'mô_tả': 'Công cụ khảo sát trực tuyến'}]}]\u001b[0m\n"
     ]
    },
    {
     "name": "stderr",
     "output_type": "stream",
     "text": [
      " 74%|███████▎  | 39/53 [14:28<04:34, 19.58s/it]"
     ]
    },
    {
     "name": "stdout",
     "output_type": "stream",
     "text": [
      "\n",
      "\u001b[1m> Finished chain.\u001b[0m\n",
      "\n",
      "\n",
      "\u001b[1m> Entering new GraphCypherQAChain chain...\u001b[0m\n",
      "Generated Cypher:\n",
      "\u001b[32;1m\u001b[1;3mOPTIONAL MATCH (n)\n",
      "WHERE toLower(n.id) CONTAINS toLower('Học Lực')\n",
      "\n",
      "OPTIONAL MATCH (n2)-[r]->(m)\n",
      "WHERE toLower(m.id) CONTAINS toLower('Học Lực')\n",
      "\n",
      "RETURN \n",
      "  collect(DISTINCT properties(n)) AS học_lực,\n",
      "  collect(DISTINCT properties(n2)) AS thực_thể_liên_quan,\n",
      "  collect(DISTINCT type(r)) AS loại_quan_hệ,\n",
      "  collect(DISTINCT properties(r)) AS thuộc_tính_quan_hệ,\n",
      "  collect(DISTINCT properties(m)) AS học_lực_liên_quan\u001b[0m\n",
      "Full Context:\n",
      "\u001b[32;1m\u001b[1;3m[{'học_lực': [{'id': 'Xếp Loại Học Lực'}, {'id': 'Học Lực'}], 'thực_thể_liên_quan': [{'id': 'Sinh Viên', 'quyền_lợi': 'được bảo đảm điều kiện thực hiện đầy đủ nhiệm vụ và quyền trong quá trình học tập và rèn luyện tại trường', 'vai_trò': 'Lựa chọn phương án trả lời', 'định_nghĩa': 'người đang học chương trình đào tạo trình độ đại học hệ chính quy tại trường'}], 'loại_quan_hệ': ['ĐƯỢC', 'PHẢI_ĐÁP_ỨNG'], 'thuộc_tính_quan_hệ': [{}], 'học_lực_liên_quan': [{'id': 'Xếp Loại Học Lực'}, {'id': 'Học Lực'}]}]\u001b[0m\n"
     ]
    },
    {
     "name": "stderr",
     "output_type": "stream",
     "text": [
      " 75%|███████▌  | 40/53 [14:48<04:14, 19.55s/it]"
     ]
    },
    {
     "name": "stdout",
     "output_type": "stream",
     "text": [
      "\n",
      "\u001b[1m> Finished chain.\u001b[0m\n",
      "\n",
      "\n",
      "\u001b[1m> Entering new GraphCypherQAChain chain...\u001b[0m\n",
      "Generated Cypher:\n",
      "\u001b[32;1m\u001b[1;3mOPTIONAL MATCH (n)\n",
      "WHERE toLower(n.id) CONTAINS toLower('Câu hỏi thi trắc nghiệm')\n",
      "\n",
      "OPTIONAL MATCH (n)-[r]->(m)\n",
      "WHERE toLower(n.id) CONTAINS toLower('Câu hỏi thi trắc nghiệm') AND toLower(m.id) CONTAINS toLower('dạng')\n",
      "\n",
      "RETURN \n",
      "  collect(DISTINCT properties(n)) AS n_properties,\n",
      "  collect(DISTINCT type(r)) AS r_type,\n",
      "  collect(DISTINCT properties(r)) AS r_properties,\n",
      "  collect(DISTINCT properties(m)) AS m_properties\u001b[0m\n",
      "Full Context:\n",
      "\u001b[32;1m\u001b[1;3m[{'n_properties': [{'id': 'Ngân Hàng Câu Hỏi Thi Trắc Nghiệm', 'mô_tả': 'Được sử dụng đối với các học phần có hình thức thi trắc nghiệm trên máy tính', 'yêu_cầu': 'Cấu trúc đề thi theo ma trận, nội dung khoa học, đáp ứng chuẩn đầu ra, số lượng tối thiểu 200 câu/học phần/01 tín chỉ, dạng câu hỏi 04 lựa chọn hoặc điền khuyết'}, {'id': 'Tổ Biên Soạn Ngân Hàng Câu Hỏi Thi Trắc Nghiệm', 'vai_trò': 'Xây dựng ma trận đề thi, biên soạn câu hỏi và đáp án, hoàn thiện ngân hàng câu hỏi'}, {'id': 'Câu Hỏi Thi Trắc Nghiệm', 'dạng': '04 lựa chọn (A, B, C, D) hoặc điền khuyết'}], 'r_type': [], 'r_properties': [], 'm_properties': []}]\u001b[0m\n"
     ]
    },
    {
     "name": "stderr",
     "output_type": "stream",
     "text": [
      " 77%|███████▋  | 41/53 [15:06<03:50, 19.20s/it]"
     ]
    },
    {
     "name": "stdout",
     "output_type": "stream",
     "text": [
      "\n",
      "\u001b[1m> Finished chain.\u001b[0m\n",
      "\n",
      "\n",
      "\u001b[1m> Entering new GraphCypherQAChain chain...\u001b[0m\n",
      "Generated Cypher:\n",
      "\u001b[32;1m\u001b[1;3mOPTIONAL MATCH (n)-[r]-(m)\n",
      "WHERE toLower(n.id) CONTAINS toLower('Ban tổ chức kỳ thi kết thúc học phần')\n",
      "\n",
      "RETURN \n",
      "  collect(DISTINCT properties(n)) AS n_properties, \n",
      "  collect(DISTINCT type(r)) AS r_type, \n",
      "  collect(DISTINCT properties(r)) AS r_properties, \n",
      "  collect(DISTINCT properties(m)) AS m_properties\u001b[0m\n",
      "Full Context:\n",
      "\u001b[32;1m\u001b[1;3m[{'n_properties': [{'id': 'Ban Tổ Chức Kỳ Thi Kết Thúc Học Phần', 'nhiệm_vụ': 'Giúp Hiệu trưởng tổ chức kỳ thi nghiêm túc, đúng quy chế', 'vai_trò': 'Tổ chức kỳ thi kết thúc học phần'}], 'r_type': ['GIÚP_ĐỠ', 'THÀNH_LẬP', 'QUY_ĐỊNH'], 'r_properties': [{}], 'm_properties': [{'id': 'Hiệu Trưởng', 'vai_trò': 'Ban hành Quyết định thành lập Hội đồng đánh giá kết quả rèn luyện'}, {'id': 'Phòng Khảo Thí Và Bảo Đảm Chất Lượng', 'nhiệm_vụ': 'Thu nhận, kiểm tra chứng chỉ, giấy chứng nhận đạt giải của sinh viên để chuyển đổi điểm các học phần Tiếng Anh 1, Tiếng Anh 2', 'vai_trò': 'Làm đầu mối triển khai thực hiện việc tổ chức kiểm tra, đánh giá'}, {'tiêu_đề': 'Đánh giá và tính điểm học phần', 'id': 'Điều 11'}]}]\u001b[0m\n"
     ]
    },
    {
     "name": "stderr",
     "output_type": "stream",
     "text": [
      " 79%|███████▉  | 42/53 [15:31<03:52, 21.09s/it]"
     ]
    },
    {
     "name": "stdout",
     "output_type": "stream",
     "text": [
      "\n",
      "\u001b[1m> Finished chain.\u001b[0m\n",
      "\n",
      "\n",
      "\u001b[1m> Entering new GraphCypherQAChain chain...\u001b[0m\n",
      "Generated Cypher:\n",
      "\u001b[32;1m\u001b[1;3mOPTIONAL MATCH (n)-[r]-(m)\n",
      "WHERE toLower(n.id) CONTAINS toLower('Cán Bộ Kỹ Thuật')\n",
      "\n",
      "RETURN \n",
      "  collect(DISTINCT properties(n)) AS n_properties, \n",
      "  collect(DISTINCT type(r)) AS r_type, \n",
      "  collect(DISTINCT properties(r)) AS r_properties, \n",
      "  collect(DISTINCT properties(m)) AS m_properties\u001b[0m\n",
      "Full Context:\n",
      "\u001b[32;1m\u001b[1;3m[{'n_properties': [{'id': 'Cán Bộ Kỹ Thuật', 'trách_nhiệm': 'Hỗ trợ CBCT khắc phục kịp thời các sự cố kỹ thuật trong quá trình thi', 'định_nghĩa': 'viên chức được Ban Tổ chức kỳ thi phân công nhiệm vụ hỗ trợ kỹ thuật khi tổ chức thi trắc nghiệm trên máy tính, thi trực tuyến'}], 'r_type': ['HỖ_TRỢ', 'KHẮC_PHỤC', 'KIỂM_TRA', 'PHÂN_CÔNG_NHIỆM_VỤ', 'NHẮC_NHỞ', 'GIÁM_SÁT', 'THÀNH_LẬP'], 'r_properties': [{}], 'm_properties': [{'id': 'Cbct', 'vai_trò': 'Quyết định hình thức kỷ luật khiển trách và cảnh cáo'}, {'id': 'Sự Cố Kỹ Thuật'}, {'id': 'Hệ Thống Mạng'}, {'id': 'Hệ Thống Máy Tính'}, {'id': 'Thi Trực Tuyến'}, {'id': 'Thi Trắc Nghiệm Trên Máy Tính'}, {'id': 'Ban Tổ Chức Kỳ Thi', 'vai_trò': 'Quyết định hình thức đình chỉ thi'}, {'id': 'Cán Bộ Giám Sát Thi', 'thành_phần': 'viên chức của Phòng Thanh tra - Pháp chế, Phòng Khảo thí và Bảo đảm chất lượng và một số đơn vị thuộc Trường'}, {'id': 'Phòng Khảo Thí Và Bảo Đảm Chất Lượng', 'nhiệm_vụ': 'Thu nhận, kiểm tra chứng chỉ, giấy chứng nhận đạt giải của sinh viên để chuyển đổi điểm các học phần Tiếng Anh 1, Tiếng Anh 2', 'vai_trò': 'Làm đầu mối triển khai thực hiện việc tổ chức kiểm tra, đánh giá'}]}]\u001b[0m\n"
     ]
    },
    {
     "name": "stderr",
     "output_type": "stream",
     "text": [
      " 81%|████████  | 43/53 [15:56<03:42, 22.24s/it]"
     ]
    },
    {
     "name": "stdout",
     "output_type": "stream",
     "text": [
      "\n",
      "\u001b[1m> Finished chain.\u001b[0m\n",
      "\n",
      "\n",
      "\u001b[1m> Entering new GraphCypherQAChain chain...\u001b[0m\n",
      "Generated Cypher:\n",
      "\u001b[32;1m\u001b[1;3mOPTIONAL MATCH (n)\n",
      "WHERE toLower(n.id) CONTAINS toLower('Chi phí bồi hoàn')\n",
      "\n",
      "OPTIONAL MATCH (n2)-[r]->(m)\n",
      "WHERE toLower(m.id) CONTAINS toLower('Chi phí bồi hoàn')\n",
      "\n",
      "RETURN \n",
      "  collect(DISTINCT properties(n)) AS khái_niệm,\n",
      "  collect(DISTINCT properties(n2)) AS thực_thể_liên_quan,\n",
      "  collect(DISTINCT type(r)) AS loại_quan_hệ,\n",
      "  collect(DISTINCT properties(r)) AS thuộc_tính_quan_hệ,\n",
      "  collect(DISTINCT properties(m)) AS khái_niệm_liên_quan\u001b[0m\n",
      "Full Context:\n",
      "\u001b[32;1m\u001b[1;3m[{'khái_niệm': [{'id': 'Chi Phí Bồi Hoàn', 'định_nghĩa': 'Bao gồm kinh phí hỗ trợ tiền đóng học phí và chi phí sinh hoạt đã được ngân sách nhà nước hỗ trợ cho người học.'}, {'id': 'Công Thức Tính Chi Phí Bồi Hoàn', 'giải_thích': 'S là chi phí bồi hoàn, F là khoản học phí và chi phí sinh hoạt được nhà nước hỗ trợ, T1 là tổng thời gian làm việc trong ngành giáo dục theo quy định, T2 là thời gian đã làm việc trong ngành giáo dục.', 'định_nghĩa': 'S = (F / T1) × (T1 - T2)'}, {'id': 'Thu Hồi Chi Phí Bồi Hoàn'}], 'thực_thể_liên_quan': [{'id': 'Sinh Viên Sư Phạm', 'mô_tả': 'sinh viên học trình độ đại học, cao đẳng các ngành đào tạo giáo viên theo hình thức đào tạo chính quy, liên thông chính quy và sinh viên học văn bằng thứ 2 theo hình thức đào tạo chính quy trình độ đại học, cao đẳng các ngành đào tạo giáo viên có kết quả học lực văn bằng thứ 1 đạt loại giỏi', 'phân_loại': 'Đào tạo theo phương thức giao nhiệm vụ, đặt hàng hoặc đấu thầu hoặc theo nhu cầu xã hội.', 'vai_trò': 'Đối tượng được đào tạo và tuyển dụng'}, {'id': 'Chi Phí Bồi Hoàn', 'định_nghĩa': 'Bao gồm kinh phí hỗ trợ tiền đóng học phí và chi phí sinh hoạt đã được ngân sách nhà nước hỗ trợ cho người học.'}, {'tiêu_đề': 'Phân loại kết quả rèn luyện', 'id': 'Điều 9'}], 'loại_quan_hệ': ['PHẢI_BỒI_HOÀN', 'ĐƯỢC_TÍNH_BẰNG', 'BAO_GỒM'], 'thuộc_tính_quan_hệ': [{}], 'khái_niệm_liên_quan': [{'id': 'Chi Phí Bồi Hoàn', 'định_nghĩa': 'Bao gồm kinh phí hỗ trợ tiền đóng học phí và chi phí sinh hoạt đã được ngân sách nhà nước hỗ trợ cho người học.'}, {'id': 'Công Thức Tính Chi Phí Bồi Hoàn', 'giải_thích': 'S là chi phí bồi hoàn, F là khoản học phí và chi phí sinh hoạt được nhà nước hỗ trợ, T1 là tổng thời gian làm việc trong ngành giáo dục theo quy định, T2 là thời gian đã làm việc trong ngành giáo dục.', 'định_nghĩa': 'S = (F / T1) × (T1 - T2)'}, {'id': 'Thu Hồi Chi Phí Bồi Hoàn'}]}]\u001b[0m\n"
     ]
    },
    {
     "name": "stderr",
     "output_type": "stream",
     "text": [
      " 83%|████████▎ | 44/53 [16:16<03:12, 21.37s/it]"
     ]
    },
    {
     "name": "stdout",
     "output_type": "stream",
     "text": [
      "\n",
      "\u001b[1m> Finished chain.\u001b[0m\n",
      "\n",
      "\n",
      "\u001b[1m> Entering new GraphCypherQAChain chain...\u001b[0m\n",
      "Generated Cypher:\n",
      "\u001b[32;1m\u001b[1;3mOPTIONAL MATCH (n)-[r]-(m)\n",
      "WHERE toLower(n.id) CONTAINS toLower('Chi Phí Bồi Hoàn') OR toLower(n.id) CONTAINS toLower('Công Thức Tính')\n",
      "\n",
      "RETURN \n",
      "  collect(DISTINCT properties(n)) AS n_properties,\n",
      "  collect(DISTINCT type(r)) AS r_type,\n",
      "  collect(DISTINCT properties(r)) AS r_properties,\n",
      "  collect(DISTINCT properties(m)) AS m_properties\u001b[0m\n",
      "Full Context:\n",
      "\u001b[32;1m\u001b[1;3m[{'n_properties': [{'id': 'Chi Phí Bồi Hoàn', 'định_nghĩa': 'Bao gồm kinh phí hỗ trợ tiền đóng học phí và chi phí sinh hoạt đã được ngân sách nhà nước hỗ trợ cho người học.'}, {'id': 'Công Thức Tính Chi Phí Bồi Hoàn', 'giải_thích': 'S là chi phí bồi hoàn, F là khoản học phí và chi phí sinh hoạt được nhà nước hỗ trợ, T1 là tổng thời gian làm việc trong ngành giáo dục theo quy định, T2 là thời gian đã làm việc trong ngành giáo dục.', 'định_nghĩa': 'S = (F / T1) × (T1 - T2)'}, {'id': 'Thu Hồi Chi Phí Bồi Hoàn'}], 'r_type': ['ĐƯỢC_TÍNH_BẰNG', 'PHẢI_BỒI_HOÀN', 'BAO_GỒM'], 'r_properties': [{}], 'm_properties': [{'id': 'Công Thức Tính Chi Phí Bồi Hoàn', 'giải_thích': 'S là chi phí bồi hoàn, F là khoản học phí và chi phí sinh hoạt được nhà nước hỗ trợ, T1 là tổng thời gian làm việc trong ngành giáo dục theo quy định, T2 là thời gian đã làm việc trong ngành giáo dục.', 'định_nghĩa': 'S = (F / T1) × (T1 - T2)'}, {'id': 'Sinh Viên Sư Phạm', 'mô_tả': 'sinh viên học trình độ đại học, cao đẳng các ngành đào tạo giáo viên theo hình thức đào tạo chính quy, liên thông chính quy và sinh viên học văn bằng thứ 2 theo hình thức đào tạo chính quy trình độ đại học, cao đẳng các ngành đào tạo giáo viên có kết quả học lực văn bằng thứ 1 đạt loại giỏi', 'phân_loại': 'Đào tạo theo phương thức giao nhiệm vụ, đặt hàng hoặc đấu thầu hoặc theo nhu cầu xã hội.', 'vai_trò': 'Đối tượng được đào tạo và tuyển dụng'}, {'id': 'Kinh Phí Hỗ Trợ', 'định_nghĩa': 'Tiền đóng học phí và chi phí sinh hoạt được nhà nước hỗ trợ.'}, {'id': 'Chi Phí Bồi Hoàn', 'định_nghĩa': 'Bao gồm kinh phí hỗ trợ tiền đóng học phí và chi phí sinh hoạt đã được ngân sách nhà nước hỗ trợ cho người học.'}, {'tiêu_đề': 'Phân loại kết quả rèn luyện', 'id': 'Điều 9'}]}]\u001b[0m\n"
     ]
    },
    {
     "name": "stderr",
     "output_type": "stream",
     "text": [
      " 85%|████████▍ | 45/53 [16:40<02:57, 22.14s/it]"
     ]
    },
    {
     "name": "stdout",
     "output_type": "stream",
     "text": [
      "\n",
      "\u001b[1m> Finished chain.\u001b[0m\n",
      "\n",
      "\n",
      "\u001b[1m> Entering new GraphCypherQAChain chain...\u001b[0m\n",
      "Generated Cypher:\n",
      "\u001b[32;1m\u001b[1;3mOPTIONAL MATCH (n)-[r]->(m)\n",
      "WHERE toLower(n.id) CONTAINS toLower('Nộp Qua Ngân Hàng')\n",
      "\n",
      "OPTIONAL MATCH (n2)-[r2]->(m2)\n",
      "WHERE toLower(m2.id) CONTAINS toLower('đối tượng áp dụng')\n",
      "\n",
      "RETURN \n",
      "  collect(DISTINCT properties(n)) AS n_properties,\n",
      "  collect(DISTINCT type(r)) AS r_type,\n",
      "  collect(DISTINCT properties(r)) AS r_properties,\n",
      "  collect(DISTINCT properties(m)) AS m_properties,\n",
      "  collect(DISTINCT properties(n2)) AS n2_properties,\n",
      "  collect(DISTINCT type(r2)) AS r2_type,\n",
      "  collect(DISTINCT properties(r2)) AS r2_properties,\n",
      "  collect(DISTINCT properties(m2)) AS m2_properties\u001b[0m\n",
      "Full Context:\n",
      "\u001b[32;1m\u001b[1;3m[{'n_properties': [{'id': 'Nộp Qua Ngân Hàng', 'đối_tượng_áp_dụng': 'tất cả sinh viên đã học xong một học kỳ'}], 'r_type': ['CÓ', 'THUỘC', 'NHẬN_TIỀN', 'THÔNG_QUA'], 'r_properties': [{}], 'm_properties': [{'id': 'Hướng Dẫn Nộp Học Phí'}, {'id': 'Ngân Hàng Tmcp Đầu Tư & Phát Triển Việt Nam – Chi Nhánh Bình Định (Bidv Bình Định)'}, {'id': '5801 000 111 8348'}, {'id': 'Trường Đại Học Quy Nhơn', 'tên': 'Trường Đại học Quy Nhơn', 'tên_gọi_tắt': 'Trường/Nhà trường'}, {'id': 'Ngân Hàng Thương Mại Cổ Phần Đầu Tư Và Phát Triển Việt Nam - Bidv'}], 'n2_properties': [{'tiêu_đề': 'Phạm vi điều chỉnh và đối tượng áp dụng', 'id': 'Điều 1'}, {'id': 'Chương I: Quy Định Chung'}], 'r2_type': ['QUY_ĐỊNH', 'BAO_GỒM'], 'r2_properties': [{}], 'm2_properties': [{'id': 'Phạm Vi Điều Chỉnh Và Đối Tượng Áp Dụng'}, {'id': 'Điều 1. Phạm Vi Và Đối Tượng Áp Dụng'}]}]\u001b[0m\n"
     ]
    },
    {
     "name": "stderr",
     "output_type": "stream",
     "text": [
      " 87%|████████▋ | 46/53 [17:00<02:31, 21.60s/it]"
     ]
    },
    {
     "name": "stdout",
     "output_type": "stream",
     "text": [
      "\n",
      "\u001b[1m> Finished chain.\u001b[0m\n",
      "\n",
      "\n",
      "\u001b[1m> Entering new GraphCypherQAChain chain...\u001b[0m\n",
      "Generated Cypher:\n",
      "\u001b[32;1m\u001b[1;3mOPTIONAL MATCH (n)\n",
      "WHERE toLower(n.id) CONTAINS toLower('Tiêu Chuẩn Học Bổng') OR toLower(n.id) CONTAINS toLower('Mức Học Bổng')\n",
      "\n",
      "OPTIONAL MATCH (n2)-[r]-(m)\n",
      "WHERE toLower(m.id) CONTAINS toLower('Học Bổng') OR toLower(m.id) CONTAINS toLower('Tiêu Chuẩn')\n",
      "\n",
      "RETURN \n",
      "  collect(DISTINCT properties(n)) AS n_properties,\n",
      "  collect(DISTINCT properties(n2)) AS n2_properties,\n",
      "  collect(DISTINCT type(r)) AS r_type,\n",
      "  collect(DISTINCT properties(r)) AS r_properties,\n",
      "  collect(DISTINCT properties(m)) AS m_properties\u001b[0m\n",
      "Full Context:\n",
      "\u001b[32;1m\u001b[1;3m[{'n_properties': [{'học_lực': 'từ loại khá trở lên', 'id': 'Tiêu Chuẩn Học Bổng', 'rèn_luyện': 'không bị kỷ luật từ mức khiển trách trở lên'}, {'id': 'Mức Học Bổng Loại Khá', 'điểm_rèn_luyện': 'Khá trở lên', 'mức_tài_chính': 'tối thiểu bằng hoặc cao hơn mức trần học phí', 'điểm_trung_bình': 'Khá trở lên'}, {'id': 'Mức Học Bổng Loại Giỏi', 'điểm_rèn_luyện': 'Tốt trở lên', 'mức_tài_chính': 'cao hơn loại Khá', 'điểm_trung_bình': 'Giỏi trở lên'}, {'id': 'Mức Học Bổng Loại Xuất Sắc', 'điểm_rèn_luyện': 'Xuất sắc', 'mức_tài_chính': 'cao hơn loại Giỏi', 'điểm_trung_bình': 'Xuất sắc'}], 'n2_properties': [{'id': 'Liên Kết Đào Tạo', 'hình_thức': 'vừa làm vừa học', 'ngành': 'theo quy định'}, {'id': 'Quyết Định Số 152/2007/Qđ-Ttg', 'người_ban_hành': 'Thủ tướng Chính phủ', 'ngày_ban_hành': '2007-09-14', 'nội_dung': 'học bổng chính sách đối với học sinh, sinh viên học tại các cơ sở giáo dục thuộc hệ thống giáo dục quốc dân'}, {'id': 'Quyết Định Số 1121/1997/Qđ-Ttg', 'người_ban_hành': 'Thủ tướng Chính phủ', 'ngày_ban_hành': '1997-12-23', 'nội_dung': 'học bổng và trợ cấp xã hội đối với học sinh, sinh viên các trường đào tạo công lập'}, {'id': 'Sinh Viên', 'quyền_lợi': 'được bảo đảm điều kiện thực hiện đầy đủ nhiệm vụ và quyền trong quá trình học tập và rèn luyện tại trường', 'vai_trò': 'Lựa chọn phương án trả lời', 'định_nghĩa': 'người đang học chương trình đào tạo trình độ đại học hệ chính quy tại trường'}, {'id': 'Sinh Viên Còn Nợ Học Phí'}, {'id': 'Hiệu Trưởng', 'vai_trò': 'Ban hành Quyết định thành lập Hội đồng đánh giá kết quả rèn luyện'}, {'id': 'Học Chế Tín Chỉ', 'quy_đổi': '15 tín chỉ tương đương một học kỳ'}, {'id': 'Quỹ Học Bổng', 'nguồn': '8% nguồn thu học phí hệ giáo dục chính quy', 'ngành_sư_phạm': '8% từ nguồn học phí do Nhà nước cấp bù'}, {'học_lực': 'từ loại khá trở lên', 'id': 'Tiêu Chuẩn Học Bổng', 'rèn_luyện': 'không bị kỷ luật từ mức khiển trách trở lên'}, {'id': 'Học Sinh, Sinh Viên', 'diện_hưởng': 'học bổng chính sách, trợ cấp xã hội, chính sách ưu đãi', 'đối_tượng': 'Có hoàn cảnh khó khăn'}, {'id': 'Mức Học Bổng Loại Xuất Sắc', 'điểm_rèn_luyện': 'Xuất sắc', 'mức_tài_chính': 'cao hơn loại Giỏi', 'điểm_trung_bình': 'Xuất sắc'}, {'id': 'Mức Học Bổng Loại Giỏi', 'điểm_rèn_luyện': 'Tốt trở lên', 'mức_tài_chính': 'cao hơn loại Khá', 'điểm_trung_bình': 'Giỏi trở lên'}, {'id': 'Mức Học Bổng Loại Khá', 'điểm_rèn_luyện': 'Khá trở lên', 'mức_tài_chính': 'tối thiểu bằng hoặc cao hơn mức trần học phí', 'điểm_trung_bình': 'Khá trở lên'}, {'id': 'Học Bổng Khuyến Khích Học Tập', 'hệ_thống': 'giáo dục chính quy công lập và ngoài công lập', 'đối_tượng': 'học sinh, sinh viên'}], 'r_type': ['YÊU_CẦU', 'QUY_ĐỊNH', 'CHẤP_HÀNH', 'KHÔNG_ĐƯỢC_XÉT', 'ĐƯỢC_XÉT_NHẬN', 'QUẢN_LÝ', 'ÁP_DỤNG', 'CÓ_NGUỒN_TÀI_CHÍNH', 'CÓ_YÊU_CẦU', 'ÁP_DỤNG_CHO', 'BAO_GỒM'], 'r_properties': [{}, {'điều_kiện': 'còn nợ học phí'}], 'm_properties': [{'id': 'Chứng Nhận Đạt Tiêu Chuẩn Chất Lượng Cơ Sở Giáo Dục Đại Học'}, {'id': 'Học Bổng'}, {'id': 'Xét Học Bổng Khuyến Khích Học Tập'}, {'id': 'Học Bổng Khuyến Khích Học Tập', 'hệ_thống': 'giáo dục chính quy công lập và ngoài công lập', 'đối_tượng': 'học sinh, sinh viên'}, {'học_lực': 'từ loại khá trở lên', 'id': 'Tiêu Chuẩn Học Bổng', 'rèn_luyện': 'không bị kỷ luật từ mức khiển trách trở lên'}, {'id': 'Mức Học Bổng Loại Khá', 'điểm_rèn_luyện': 'Khá trở lên', 'mức_tài_chính': 'tối thiểu bằng hoặc cao hơn mức trần học phí', 'điểm_trung_bình': 'Khá trở lên'}, {'id': 'Mức Học Bổng Loại Giỏi', 'điểm_rèn_luyện': 'Tốt trở lên', 'mức_tài_chính': 'cao hơn loại Khá', 'điểm_trung_bình': 'Giỏi trở lên'}, {'id': 'Mức Học Bổng Loại Xuất Sắc', 'điểm_rèn_luyện': 'Xuất sắc', 'mức_tài_chính': 'cao hơn loại Giỏi', 'điểm_trung_bình': 'Xuất sắc'}, {'id': 'Quỹ Học Bổng', 'nguồn': '8% nguồn thu học phí hệ giáo dục chính quy', 'ngành_sư_phạm': '8% từ nguồn học phí do Nhà nước cấp bù'}, {'id': 'Học Bổng Do Các Tổ Chức, Cá Nhân Tài Trợ'}]}]\u001b[0m\n"
     ]
    },
    {
     "name": "stderr",
     "output_type": "stream",
     "text": [
      " 89%|████████▊ | 47/53 [17:25<02:15, 22.60s/it]"
     ]
    },
    {
     "name": "stdout",
     "output_type": "stream",
     "text": [
      "\n",
      "\u001b[1m> Finished chain.\u001b[0m\n",
      "\n",
      "\n",
      "\u001b[1m> Entering new GraphCypherQAChain chain...\u001b[0m\n",
      "Generated Cypher:\n",
      "\u001b[32;1m\u001b[1;3mOPTIONAL MATCH (n)\n",
      "WHERE toLower(n.id) CONTAINS toLower('Mức Học Bổng')\n",
      "\n",
      "RETURN collect(DISTINCT properties(n)) AS n_properties\u001b[0m\n",
      "Full Context:\n",
      "\u001b[32;1m\u001b[1;3m[{'n_properties': [{'id': 'Mức Học Bổng Loại Khá', 'điểm_rèn_luyện': 'Khá trở lên', 'mức_tài_chính': 'tối thiểu bằng hoặc cao hơn mức trần học phí', 'điểm_trung_bình': 'Khá trở lên'}, {'id': 'Mức Học Bổng Loại Giỏi', 'điểm_rèn_luyện': 'Tốt trở lên', 'mức_tài_chính': 'cao hơn loại Khá', 'điểm_trung_bình': 'Giỏi trở lên'}, {'id': 'Mức Học Bổng Loại Xuất Sắc', 'điểm_rèn_luyện': 'Xuất sắc', 'mức_tài_chính': 'cao hơn loại Giỏi', 'điểm_trung_bình': 'Xuất sắc'}]}]\u001b[0m\n"
     ]
    },
    {
     "name": "stderr",
     "output_type": "stream",
     "text": [
      " 91%|█████████ | 48/53 [17:46<01:51, 22.20s/it]"
     ]
    },
    {
     "name": "stdout",
     "output_type": "stream",
     "text": [
      "\n",
      "\u001b[1m> Finished chain.\u001b[0m\n",
      "\n",
      "\n",
      "\u001b[1m> Entering new GraphCypherQAChain chain...\u001b[0m\n",
      "Generated Cypher:\n",
      "\u001b[32;1m\u001b[1;3mOPTIONAL MATCH (n)\n",
      "WHERE toLower(n.id) CONTAINS toLower('Học Kỳ I')\n",
      "\n",
      "OPTIONAL MATCH (n2)-[r]->(m)\n",
      "WHERE toLower(n2.id) CONTAINS toLower('Học Kỳ I') AND type(r) = 'THỜI_GIAN'\n",
      "\n",
      "RETURN \n",
      "  collect(DISTINCT properties(n)) AS học_kỳ,\n",
      "  collect(DISTINCT properties(n2)) AS học_kỳ_liên_quan,\n",
      "  collect(DISTINCT type(r)) AS loại_quan_hệ,\n",
      "  collect(DISTINCT properties(r)) AS thuộc_tính_quan_hệ,\n",
      "  collect(DISTINCT properties(m)) AS thời_gian\u001b[0m\n",
      "Full Context:\n",
      "\u001b[32;1m\u001b[1;3m[{'học_kỳ': [{'id': 'Học Kỳ I', 'thờiGian': 'Từ ngày 15/09 đến 15/10 hàng năm'}, {'id': 'Học Kỳ Ii', 'thờiGian': 'Từ ngày 15/01 đến 15/02 hàng năm'}], 'học_kỳ_liên_quan': [], 'loại_quan_hệ': [], 'thuộc_tính_quan_hệ': [], 'thời_gian': []}]\u001b[0m\n"
     ]
    },
    {
     "name": "stderr",
     "output_type": "stream",
     "text": [
      " 92%|█████████▏| 49/53 [18:08<01:28, 22.08s/it]"
     ]
    },
    {
     "name": "stdout",
     "output_type": "stream",
     "text": [
      "\n",
      "\u001b[1m> Finished chain.\u001b[0m\n",
      "\n",
      "\n",
      "\u001b[1m> Entering new GraphCypherQAChain chain...\u001b[0m\n",
      "Generated Cypher:\n",
      "\u001b[32;1m\u001b[1;3mOPTIONAL MATCH (n)-[r]-(m)\n",
      "WHERE toLower(n.id) CONTAINS toLower('Mục Đích Khảo Sát Người Học')\n",
      "\n",
      "RETURN \n",
      "  collect(DISTINCT properties(n)) AS n_properties, \n",
      "  collect(DISTINCT type(r)) AS r_type, \n",
      "  collect(DISTINCT properties(r)) AS r_properties, \n",
      "  collect(DISTINCT properties(m)) AS m_properties\u001b[0m\n",
      "Full Context:\n",
      "\u001b[32;1m\u001b[1;3m[{'n_properties': [], 'r_type': [], 'r_properties': [], 'm_properties': []}]\u001b[0m\n"
     ]
    },
    {
     "name": "stderr",
     "output_type": "stream",
     "text": [
      " 94%|█████████▍| 50/53 [18:24<01:00, 20.10s/it]"
     ]
    },
    {
     "name": "stdout",
     "output_type": "stream",
     "text": [
      "\n",
      "\u001b[1m> Finished chain.\u001b[0m\n",
      "\n",
      "\n",
      "\u001b[1m> Entering new GraphCypherQAChain chain...\u001b[0m\n",
      "Generated Cypher:\n",
      "\u001b[32;1m\u001b[1;3mOPTIONAL MATCH (n)\n",
      "WHERE toLower(n.id) CONTAINS toLower('Khoa quản lý ngành đào tạo')\n",
      "\n",
      "RETURN collect(DISTINCT properties(n)) AS n_properties\u001b[0m\n",
      "Full Context:\n",
      "\u001b[32;1m\u001b[1;3m[{'n_properties': [{'id': 'Khoa Quản Lý Ngành Đào Tạo', 'mô_tả': 'Là khoa quản lý chương trình đào tạo và tổ chức, quản lý quá trình đào tạo sinh viên đã được tuyển sinh theo ngành đào tạo.'}, {'id': 'Khoa Quản Lý Ngành Đào Tạo'}, {'id': 'Trưởng Khoa Quản Lý Ngành Đào Tạo'}]}]\u001b[0m\n"
     ]
    },
    {
     "name": "stderr",
     "output_type": "stream",
     "text": [
      " 96%|█████████▌| 51/53 [18:38<00:37, 18.55s/it]"
     ]
    },
    {
     "name": "stdout",
     "output_type": "stream",
     "text": [
      "\n",
      "\u001b[1m> Finished chain.\u001b[0m\n",
      "\n",
      "\n",
      "\u001b[1m> Entering new GraphCypherQAChain chain...\u001b[0m\n",
      "Generated Cypher:\n",
      "\u001b[32;1m\u001b[1;3mOPTIONAL MATCH (n)-[r]-(m)\n",
      "WHERE toLower(n.id) CONTAINS toLower('Trường') AND toLower(m.id) CONTAINS toLower('Thông Báo Nộp Học Phí')\n",
      "\n",
      "RETURN \n",
      "  collect(DISTINCT properties(n)) AS n_properties, \n",
      "  collect(DISTINCT type(r)) AS r_type, \n",
      "  collect(DISTINCT properties(r)) AS r_properties, \n",
      "  collect(DISTINCT properties(m)) AS m_properties\u001b[0m\n",
      "Full Context:\n",
      "\u001b[32;1m\u001b[1;3m[{'n_properties': [{'id': 'Nhà Trường', 'trách_nhiệm': 'Tổ chức thực hiện công tác sinh viên', 'vai_trò': 'tổ chức quản lý ký túc xá'}], 'r_type': ['QUY_ĐỊNH'], 'r_properties': [{}], 'm_properties': [{'id': 'Thông Báo Nộp Học Phí', 'mô_tả': 'Thông báo nộp học phí cho mỗi học kỳ sẽ được đăng trên website của Trường và trên các bảng tin của khoa và Phòng Kế hoạch - Tài chính'}]}]\u001b[0m\n"
     ]
    },
    {
     "name": "stderr",
     "output_type": "stream",
     "text": [
      " 98%|█████████▊| 52/53 [18:54<00:17, 17.59s/it]"
     ]
    },
    {
     "name": "stdout",
     "output_type": "stream",
     "text": [
      "\n",
      "\u001b[1m> Finished chain.\u001b[0m\n",
      "\n",
      "\n",
      "\u001b[1m> Entering new GraphCypherQAChain chain...\u001b[0m\n",
      "Generated Cypher:\n",
      "\u001b[32;1m\u001b[1;3mOPTIONAL MATCH (n)-[r]->(m)\n",
      "WHERE toLower(n.id) CONTAINS toLower('Hình Thức Đào Tạo Vừa Làm Vừa Học') AND toLower(m.id) CONTAINS toLower('Thi Lại')\n",
      "\n",
      "RETURN \n",
      "  collect(DISTINCT properties(n)) AS n_properties, \n",
      "  collect(DISTINCT type(r)) AS r_type, \n",
      "  collect(DISTINCT properties(r)) AS r_properties, \n",
      "  collect(DISTINCT properties(m)) AS m_properties\u001b[0m\n",
      "Full Context:\n",
      "\u001b[32;1m\u001b[1;3m[{'n_properties': [], 'r_type': [], 'r_properties': [], 'm_properties': []}]\u001b[0m\n"
     ]
    },
    {
     "name": "stderr",
     "output_type": "stream",
     "text": [
      "100%|██████████| 53/53 [19:11<00:00, 21.73s/it]\n"
     ]
    },
    {
     "name": "stdout",
     "output_type": "stream",
     "text": [
      "\n",
      "\u001b[1m> Finished chain.\u001b[0m\n"
     ]
    },
    {
     "name": "stderr",
     "output_type": "stream",
     "text": [
      "  0%|          | 0/86 [00:00<?, ?it/s]"
     ]
    },
    {
     "name": "stdout",
     "output_type": "stream",
     "text": [
      "\n",
      "\n",
      "\u001b[1m> Entering new GraphCypherQAChain chain...\u001b[0m\n",
      "Generated Cypher:\n",
      "\u001b[32;1m\u001b[1;3mOPTIONAL MATCH (n)-[r]-(m)\n",
      "WHERE toLower(n.id) CONTAINS toLower('Thư Viện') AND toLower(m.id) CONTAINS toLower('Tài Liệu')\n",
      "\n",
      "RETURN \n",
      "  collect(DISTINCT properties(n)) AS n_properties, \n",
      "  collect(DISTINCT type(r)) AS r_type, \n",
      "  collect(DISTINCT properties(r)) AS r_properties, \n",
      "  collect(DISTINCT properties(m)) AS m_properties\u001b[0m\n",
      "Full Context:\n",
      "\u001b[32;1m\u001b[1;3m[{'n_properties': [{'id': 'Thư Viện', 'tài_nguyên': 'Hơn 30.000 đầu sách (gồm sách Việt văn và Ngoại văn), gần 5.000 luận văn, luận án, đồ án các loại, gần 100 đầu báo và tạp chí trong nước và nước ngoài.', 'mô_tả': 'Mở cửa phục vụ theo giờ hành chính các ngày từ thứ Hai đến thứ Sáu hàng tuần.'}, {'id': 'Thư Viện Số'}, {'thời_gian': '2024 – 2025', 'id': 'Thư Viện', 'mô_tả': 'Tiếp tục được đầu tư, cải tạo không gian theo hướng tiện ích và thân thiện'}], 'r_type': ['CÓ', 'CUNG_CẤP', 'BỔ_SUNG'], 'r_properties': [{}], 'm_properties': [{'id': 'Tài Liệu'}, {'id': 'Tài Liệu Số', 'số_lượng': '8.000', 'loại_tài_liệu': 'giáo trình, tài liệu tham khảo, luận văn thạc sĩ, luận án tiến sĩ'}, {'id': 'Vốn Tài Liệu', 'mô_tả': 'Được bổ sung để đáp ứng nhu cầu của bạn đọc'}]}]\u001b[0m\n"
     ]
    },
    {
     "name": "stderr",
     "output_type": "stream",
     "text": [
      "  1%|          | 1/86 [00:20<29:40, 20.95s/it]"
     ]
    },
    {
     "name": "stdout",
     "output_type": "stream",
     "text": [
      "\n",
      "\u001b[1m> Finished chain.\u001b[0m\n",
      "\n",
      "\n",
      "\u001b[1m> Entering new GraphCypherQAChain chain...\u001b[0m\n",
      "Generated Cypher:\n",
      "\u001b[32;1m\u001b[1;3mOPTIONAL MATCH (n)-[r]-(m)\n",
      "WHERE toLower(n.id) CONTAINS toLower('Tài Khoản') AND toLower(m.id) CONTAINS toLower('Thư Viện')\n",
      "\n",
      "RETURN \n",
      "  collect(DISTINCT properties(n)) AS n_properties, \n",
      "  collect(DISTINCT type(r)) AS r_type, \n",
      "  collect(DISTINCT properties(r)) AS r_properties, \n",
      "  collect(DISTINCT properties(m)) AS m_properties\u001b[0m\n",
      "Full Context:\n",
      "\u001b[32;1m\u001b[1;3m[{'n_properties': [], 'r_type': [], 'r_properties': [], 'm_properties': []}]\u001b[0m\n"
     ]
    },
    {
     "name": "stderr",
     "output_type": "stream",
     "text": [
      "  2%|▏         | 2/86 [00:37<25:39, 18.32s/it]"
     ]
    },
    {
     "name": "stdout",
     "output_type": "stream",
     "text": [
      "\n",
      "\u001b[1m> Finished chain.\u001b[0m\n",
      "\n",
      "\n",
      "\u001b[1m> Entering new GraphCypherQAChain chain...\u001b[0m\n",
      "Generated Cypher:\n",
      "\u001b[32;1m\u001b[1;3mOPTIONAL MATCH (n)-[r]-(m)\n",
      "WHERE toLower(n.id) CONTAINS toLower('Thời Gian Học Tập') OR toLower(n.id) CONTAINS toLower('Thời Gian Tối Đa')\n",
      "\n",
      "RETURN \n",
      "  collect(DISTINCT properties(n)) AS n_properties, \n",
      "  collect(DISTINCT type(r)) AS r_type, \n",
      "  collect(DISTINCT properties(r)) AS r_properties, \n",
      "  collect(DISTINCT properties(m)) AS m_properties\u001b[0m\n",
      "Full Context:\n",
      "\u001b[32;1m\u001b[1;3m[{'n_properties': [{'id': 'Thời Gian Học Tập'}, {'id': 'Thời Gian Tối Đa'}], 'r_type': ['BAO_GỒM', 'QUY_ĐỊNH'], 'r_properties': [{}], 'm_properties': [{'id': 'Quy Chế Này', 'mô_tả': 'quy định việc tổ chức và quản lý đào tạo trình độ đại học'}, {'id': 'Học Cùng Lúc Hai Chương Trình'}]}]\u001b[0m\n"
     ]
    },
    {
     "name": "stderr",
     "output_type": "stream",
     "text": [
      "  3%|▎         | 3/86 [00:59<27:33, 19.92s/it]"
     ]
    },
    {
     "name": "stdout",
     "output_type": "stream",
     "text": [
      "\n",
      "\u001b[1m> Finished chain.\u001b[0m\n",
      "\n",
      "\n",
      "\u001b[1m> Entering new GraphCypherQAChain chain...\u001b[0m\n",
      "Generated Cypher:\n",
      "\u001b[32;1m\u001b[1;3mOPTIONAL MATCH (n)-[r]-(m)\n",
      "WHERE toLower(n.id) CONTAINS toLower('Chuẩn Đầu Ra Tin Học') AND toLower(m.id) CONTAINS toLower('Công Nghệ Thông Tin')\n",
      "\n",
      "RETURN \n",
      "  collect(DISTINCT properties(n)) AS n_properties, \n",
      "  collect(DISTINCT type(r)) AS r_type, \n",
      "  collect(DISTINCT properties(r)) AS r_properties, \n",
      "  collect(DISTINCT properties(m)) AS m_properties\u001b[0m\n",
      "Full Context:\n",
      "\u001b[32;1m\u001b[1;3m[{'n_properties': [{'id': 'Chuẩn Đầu Ra Tin Học', 'tham_chiếu': 'Thông tư số 03/2014/TT-BTTTT ngày 11/03/2014 của Bộ Thông tin và Truyền thông', 'điều_kiện': 'xét công nhận tốt nghiệp'}], 'r_type': ['YÊU_CẦU'], 'r_properties': [{}], 'm_properties': [{'id': 'Chứng Chỉ Ứng Dụng Công Nghệ Thông Tin Cơ Bản', 'cấp_bởi': 'Trường Đại học Quy Nhơn'}]}]\u001b[0m\n"
     ]
    },
    {
     "name": "stderr",
     "output_type": "stream",
     "text": [
      "  5%|▍         | 4/86 [01:21<28:23, 20.78s/it]"
     ]
    },
    {
     "name": "stdout",
     "output_type": "stream",
     "text": [
      "\n",
      "\u001b[1m> Finished chain.\u001b[0m\n",
      "\n",
      "\n",
      "\u001b[1m> Entering new GraphCypherQAChain chain...\u001b[0m\n",
      "Generated Cypher:\n",
      "\u001b[32;1m\u001b[1;3mOPTIONAL MATCH (n)-[r]->(m)\n",
      "WHERE toLower(n.id) CONTAINS toLower('Chuẩn Đầu Ra Tin Học')\n",
      "\n",
      "OPTIONAL MATCH (n2)-[r2]->(m2)\n",
      "WHERE toLower(m2.id) CONTAINS toLower('Chứng Chỉ')\n",
      "\n",
      "RETURN \n",
      "  collect(DISTINCT properties(n)) AS n_properties,\n",
      "  collect(DISTINCT type(r)) AS r_type,\n",
      "  collect(DISTINCT properties(r)) AS r_properties,\n",
      "  collect(DISTINCT properties(m)) AS m_properties,\n",
      "  collect(DISTINCT properties(n2)) AS n2_properties,\n",
      "  collect(DISTINCT type(r2)) AS r2_type,\n",
      "  collect(DISTINCT properties(r2)) AS r2_properties,\n",
      "  collect(DISTINCT properties(m2)) AS m2_properties\u001b[0m\n",
      "Full Context:\n",
      "\u001b[32;1m\u001b[1;3m[{'n_properties': [{'id': 'Quy Định Chuẩn Đầu Ra Tin Học Đối Với Sinh Viên Đại Học Hệ Chính Quy', 'đối_tượng_áp_dụng': 'từ khóa tuyển sinh năm 2015 (khóa 38) trở đi', 'ngoại_lệ': 'sinh viên ngành Sư phạm Tin học, Công nghệ thông tin', 'phạm_vi': 'sinh viên đại học hệ chính quy Trường Đại học Quy Nhơn'}, {'id': 'Chuẩn Đầu Ra Tin Học', 'tham_chiếu': 'Thông tư số 03/2014/TT-BTTTT ngày 11/03/2014 của Bộ Thông tin và Truyền thông', 'điều_kiện': 'xét công nhận tốt nghiệp'}], 'r_type': ['QUY_ĐỊNH', 'YÊU_CẦU'], 'r_properties': [{}], 'm_properties': [{'id': 'Chuẩn Đầu Ra Tin Học', 'tham_chiếu': 'Thông tư số 03/2014/TT-BTTTT ngày 11/03/2014 của Bộ Thông tin và Truyền thông', 'điều_kiện': 'xét công nhận tốt nghiệp'}, {'id': 'Chứng Chỉ Tin Học Quốc Tế Mos', 'yêu_cầu': 'đạt 3 chứng chỉ Word/Excel/PowerPoint'}, {'id': 'Chứng Chỉ Tin Học Quốc Tế Icdl', 'yêu_cầu': 'đạt ít nhất 6 mô đun sau: ICDL.01, ICDL.02, ICDL.03, ICDL.04, ICDL.05, ICDL.08'}, {'id': 'Chứng Chỉ Tin Học Quốc Tế Ic3'}, {'id': 'Chứng Chỉ Ứng Dụng Công Nghệ Thông Tin Cơ Bản', 'cấp_bởi': 'Trường Đại học Quy Nhơn'}], 'n2_properties': [{'id': 'Sinh Viên', 'quyền_lợi': 'được bảo đảm điều kiện thực hiện đầy đủ nhiệm vụ và quyền trong quá trình học tập và rèn luyện tại trường', 'vai_trò': 'Lựa chọn phương án trả lời', 'định_nghĩa': 'người đang học chương trình đào tạo trình độ đại học hệ chính quy tại trường'}, {'id': 'Chuẩn Đầu Ra Ngoại Ngữ', 'tên': 'Chuẩn đầu ra ngoại ngữ đối với sinh viên đại học hệ chính quy Trường Đại học Quy Nhơn'}, {'id': 'Trung Tâm Tin Học Trường Đại Học Quy Nhơn'}, {'id': 'Chuẩn Đầu Ra Tin Học', 'tham_chiếu': 'Thông tư số 03/2014/TT-BTTTT ngày 11/03/2014 của Bộ Thông tin và Truyền thông', 'điều_kiện': 'xét công nhận tốt nghiệp'}, {'tiêu_đề': 'Chuyển đổi điểm', 'id': 'Điều 3'}, {'id': 'Phòng Khảo Thí Và Bảo Đảm Chất Lượng', 'nhiệm_vụ': 'Thu nhận, kiểm tra chứng chỉ, giấy chứng nhận đạt giải của sinh viên để chuyển đổi điểm các học phần Tiếng Anh 1, Tiếng Anh 2', 'vai_trò': 'Làm đầu mối triển khai thực hiện việc tổ chức kiểm tra, đánh giá'}, {'id': 'Các Ngành Khác'}, {'id': 'Các Ngành Chất Lượng Cao'}, {'id': 'Ngành Ngôn Ngữ Trung Quốc'}, {'id': 'Ngành Ngôn Ngữ Anh'}, {'id': 'Ngành Sư Phạm Tiếng Anh (Ngoại Ngữ 2)'}, {'id': 'Ngành Sư Phạm Tiếng Anh (Ngoại Ngữ 1)'}, {'id': 'Công Tác Hành Chính'}], 'r2_type': ['CÓ', 'YÊU_CẦU', 'CẤP_CHỨNG_CHỈ', 'QUY_ĐỊNH', 'THU_NHẬN', 'CHẤP_NHẬN', 'ĐƯỢC_CẤP', 'BAO_GỒM'], 'r2_properties': [{}, {'danh_sách': 'CEFR B1, IELTS 4.5, TOEFL iBT 45, TOEIC 450, APTIS ESOL GENERAL B1, APTIS ESOL ADVANCED B1, LINGUASKILL B1, JLPT N4, JTEST Cấp độ E, HSK Cấp độ 3, DELF B1, TCF Niveau 3, TOPIK 3'}, {'danh_sách': 'CEFR B2, IELTS 5.5, TOEFL iBT 61, TOEIC 600, APTIS ESOL GENERAL B2, APTIS ESOL ADVANCED B2, LINGUASKILL B2, JLPT N3, JTEST Cấp độ D, HSK Cấp độ 4, DELF B2, TCF Niveau 4, TOPIK 4'}, {'danh_sách': 'CEFR B1, IELTS 4.5, TOEFL iBT 45, TOEIC 450, APTIS ESOL GENERAL B1, APTIS ESOL ADVANCED B1, LINGUASKILL B1, JLPT N4, JTEST Cấp độ E, DELF B1, TCF Niveau 3, TOPIK 3'}, {'danh_sách': 'JLPT N4, JTEST Cấp độ E, HSK Cấp độ 3, DELF B1, TCF Niveau 3, TOPIK 3'}, {'danh_sách': 'CEFR C1, CAE 60, IELTS 6.5, TOEFL iBT 85, TOEIC 850, APTIS ESOL GENERAL C, APTIS ESOL ADVANCED C1'}], 'm2_properties': [{'id': 'Người Học Sử Dụng Hồ Sơ, Văn Bằng, Chứng Chỉ Giả'}, {'id': 'Chứng Chỉ Ngoại Ngữ'}, {'id': 'Chứng Chỉ Ứng Dụng Công Nghệ Thông Tin Cơ Bản', 'cấp_bởi': 'Trường Đại học Quy Nhơn'}, {'id': 'Chứng Chỉ Tin Học Quốc Tế Ic3'}, {'id': 'Chứng Chỉ Tin Học Quốc Tế Icdl', 'yêu_cầu': 'đạt ít nhất 6 mô đun sau: ICDL.01, ICDL.02, ICDL.03, ICDL.04, ICDL.05, ICDL.08'}, {'id': 'Chứng Chỉ Tin Học Quốc Tế Mos', 'yêu_cầu': 'đạt 3 chứng chỉ Word/Excel/PowerPoint'}, {'id': 'Chứng Chỉ Tiếng Anh Quốc Tế'}, {'id': 'Chứng Chỉ Quốc Gia'}, {'id': 'Chứng Chỉ'}, {'id': 'Chứng Chỉ Quốc Tế', 'danh_sách': 'CEFR B2, IELTS 5.5, TOEFL iBT 61, TOEIC 600, APTIS ESOL GENERAL B2, APTIS ESOL ADVANCED B2, LINGUASKILL B2, JLPT N3, JTEST Cấp độ D, HSK Cấp độ 4, DELF B2, TCF Niveau 4, TOPIK 4'}, {'id': 'Bằng Tốt Nghiệp, Chứng Chỉ, Bảng Điểm'}, {'id': 'Quản Lý, Tổ Chức Cấp Phát Văn Bằng, Chứng Chỉ'}]}]\u001b[0m\n"
     ]
    },
    {
     "name": "stderr",
     "output_type": "stream",
     "text": [
      "  6%|▌         | 5/86 [01:48<30:58, 22.94s/it]"
     ]
    },
    {
     "name": "stdout",
     "output_type": "stream",
     "text": [
      "\n",
      "\u001b[1m> Finished chain.\u001b[0m\n",
      "\n",
      "\n",
      "\u001b[1m> Entering new GraphCypherQAChain chain...\u001b[0m\n",
      "Generated Cypher:\n",
      "\u001b[32;1m\u001b[1;3mOPTIONAL MATCH (n)\n",
      "WHERE toLower(n.id) CONTAINS toLower('Học Phần Điều Kiện')\n",
      "\n",
      "OPTIONAL MATCH (n2)-[r]->(m)\n",
      "WHERE toLower(n2.id) CONTAINS toLower('Học Phần Điều Kiện')\n",
      "\n",
      "RETURN \n",
      "  collect(DISTINCT properties(n)) AS khái_niệm,\n",
      "  collect(DISTINCT properties(n2)) AS học_phần,\n",
      "  collect(DISTINCT type(r)) AS loại_quan_hệ,\n",
      "  collect(DISTINCT properties(r)) AS thuộc_tính_quan_hệ,\n",
      "  collect(DISTINCT properties(m)) AS loại_học_phần\u001b[0m\n",
      "Full Context:\n",
      "\u001b[32;1m\u001b[1;3m[{'khái_niệm': [{'id': 'Học Phần Điều Kiện', 'định_nghĩa': 'Học phần mà sinh viên phải hoàn thành mới được xét tốt nghiệp nhưng điểm của học phần này không tính vào điểm trung bình chung học kỳ và điểm trung bình chung tích lũy.'}, {'id': 'Học Phần Điều Kiện', 'định_nghĩa': 'Học phần không tính vào điểm TBC học kỳ hoặc tích lũy.'}], 'học_phần': [{'id': 'Học Phần Điều Kiện', 'định_nghĩa': 'Học phần mà sinh viên phải hoàn thành mới được xét tốt nghiệp nhưng điểm của học phần này không tính vào điểm trung bình chung học kỳ và điểm trung bình chung tích lũy.'}, {'id': 'Học Phần Điều Kiện', 'định_nghĩa': 'Học phần không tính vào điểm TBC học kỳ hoặc tích lũy.'}], 'loại_quan_hệ': ['PHẢI_HOÀN_THÀNH', 'LÀ_LOẠI', 'CẤP_CHỨNG_CHỈ'], 'thuộc_tính_quan_hệ': [{}, {'điều_kiện': 'Theo quy định của Bộ Giáo dục và Đào tạo.'}], 'loại_học_phần': [{'id': 'Sinh Viên', 'quyền_lợi': 'được bảo đảm điều kiện thực hiện đầy đủ nhiệm vụ và quyền trong quá trình học tập và rèn luyện tại trường', 'vai_trò': 'Lựa chọn phương án trả lời', 'định_nghĩa': 'người đang học chương trình đào tạo trình độ đại học hệ chính quy tại trường'}, {'id': 'Học Phần', 'mã_học_phần': 'Do Trường quy định', 'khối_lượng_tín_chỉ': '1-4', 'thời_gian_giảng_dạy': 'Một học kỳ', 'định_nghĩa': 'Đơn vị học tập có điểm đánh giá và số tín chỉ.'}, {'id': 'Trường', 'tên': 'Trường Đại học Quy Nhơn', 'vai_trò': 'Tổ chức khảo sát và thu thập thông tin', 'định_nghĩa': 'Trường đào tạo trình độ đại học hệ chính quy'}]}]\u001b[0m\n"
     ]
    },
    {
     "name": "stderr",
     "output_type": "stream",
     "text": [
      "  7%|▋         | 6/86 [02:09<29:45, 22.31s/it]"
     ]
    },
    {
     "name": "stdout",
     "output_type": "stream",
     "text": [
      "\n",
      "\u001b[1m> Finished chain.\u001b[0m\n",
      "\n",
      "\n",
      "\u001b[1m> Entering new GraphCypherQAChain chain...\u001b[0m\n",
      "Generated Cypher:\n",
      "\u001b[32;1m\u001b[1;3mOPTIONAL MATCH (n)\n",
      "WHERE toLower(n.id) CONTAINS toLower('Phương Thức Đào Tạo')\n",
      "\n",
      "OPTIONAL MATCH (n2)-[r]->(m)\n",
      "WHERE toLower(m.id) CONTAINS toLower('Phương Thức Đào Tạo')\n",
      "\n",
      "RETURN \n",
      "  collect(DISTINCT properties(n)) AS phương_thức_đào_tạo,\n",
      "  collect(DISTINCT properties(n2)) AS thực_thể_liên_quan,\n",
      "  collect(DISTINCT type(r)) AS loại_quan_hệ,\n",
      "  collect(DISTINCT properties(r)) AS thuộc_tính_quan_hệ,\n",
      "  collect(DISTINCT properties(m)) AS phương_thức_liên_quan\u001b[0m\n",
      "Full Context:\n",
      "\u001b[32;1m\u001b[1;3m[{'phương_thức_đào_tạo': [{'id': 'Phương Thức Đào Tạo Theo Tín Chỉ'}], 'thực_thể_liên_quan': [], 'loại_quan_hệ': [], 'thuộc_tính_quan_hệ': [], 'phương_thức_liên_quan': []}]\u001b[0m\n"
     ]
    },
    {
     "name": "stderr",
     "output_type": "stream",
     "text": [
      "  8%|▊         | 7/86 [02:26<27:19, 20.76s/it]"
     ]
    },
    {
     "name": "stdout",
     "output_type": "stream",
     "text": [
      "\n",
      "\u001b[1m> Finished chain.\u001b[0m\n",
      "\n",
      "\n",
      "\u001b[1m> Entering new GraphCypherQAChain chain...\u001b[0m\n",
      "Generated Cypher:\n",
      "\u001b[32;1m\u001b[1;3mOPTIONAL MATCH (n)\n",
      "WHERE toLower(n.id) CONTAINS toLower('Hình Thức Đào Tạo')\n",
      "\n",
      "OPTIONAL MATCH (n2)-[r]->(m)\n",
      "WHERE toLower(m.id) CONTAINS toLower('Hình Thức Đào Tạo')\n",
      "\n",
      "RETURN \n",
      "  collect(DISTINCT properties(n)) AS hình_thức_đào_tạo,\n",
      "  collect(DISTINCT properties(n2)) AS thực_thể_liên_quan,\n",
      "  collect(DISTINCT type(r)) AS loại_quan_hệ,\n",
      "  collect(DISTINCT properties(r)) AS thuộc_tính_quan_hệ,\n",
      "  collect(DISTINCT properties(m)) AS hình_thức_liên_quan\u001b[0m\n",
      "Full Context:\n",
      "\u001b[32;1m\u001b[1;3m[{'hình_thức_đào_tạo': [{'thời_gian': '4.5 năm đối với ngành đào tạo kỹ sư, 3.5 năm đối với ngành đào tạo cử nhân kỹ thuật, 4 năm đối với các ngành còn lại', 'id': 'Hình Thức Đào Tạo Chính Quy'}, {'thời_gian': 'dài hơn tối thiểu 20% so với hình thức đào tạo chính quy', 'id': 'Hình Thức Đào Tạo Vừa Làm Vừa Học'}, {'id': 'Hình Thức Đào Tạo'}], 'thực_thể_liên_quan': [{'thời_gian': 'dài hơn tối thiểu 20% so với hình thức đào tạo chính quy', 'id': 'Hình Thức Đào Tạo Vừa Làm Vừa Học'}, {'tiêu_đề': 'Hình thức đào tạo', 'id': 'Điều 6'}], 'loại_quan_hệ': ['DÀI_HƠN', 'QUY_ĐỊNH'], 'thuộc_tính_quan_hệ': [{}], 'hình_thức_liên_quan': [{'thời_gian': '4.5 năm đối với ngành đào tạo kỹ sư, 3.5 năm đối với ngành đào tạo cử nhân kỹ thuật, 4 năm đối với các ngành còn lại', 'id': 'Hình Thức Đào Tạo Chính Quy'}, {'id': 'Hình Thức Đào Tạo'}]}]\u001b[0m\n"
     ]
    },
    {
     "name": "stderr",
     "output_type": "stream",
     "text": [
      "  9%|▉         | 8/86 [02:50<28:14, 21.73s/it]"
     ]
    },
    {
     "name": "stdout",
     "output_type": "stream",
     "text": [
      "\n",
      "\u001b[1m> Finished chain.\u001b[0m\n",
      "\n",
      "\n",
      "\u001b[1m> Entering new GraphCypherQAChain chain...\u001b[0m\n",
      "Generated Cypher:\n",
      "\u001b[32;1m\u001b[1;3mOPTIONAL MATCH (n)\n",
      "WHERE toLower(n.id) CONTAINS toLower('Hình Thức Đào Tạo')\n",
      "\n",
      "OPTIONAL MATCH (n2)-[r]->(m)\n",
      "WHERE toLower(m.id) CONTAINS toLower('Hình Thức Đào Tạo')\n",
      "\n",
      "RETURN \n",
      "  collect(DISTINCT properties(n)) AS hình_thức_đào_tạo,\n",
      "  collect(DISTINCT properties(n2)) AS thực_thể_liên_quan,\n",
      "  collect(DISTINCT type(r)) AS loại_quan_hệ,\n",
      "  collect(DISTINCT properties(r)) AS thuộc_tính_quan_hệ,\n",
      "  collect(DISTINCT properties(m)) AS hình_thức_đào_tạo_liên_quan\u001b[0m\n",
      "Full Context:\n",
      "\u001b[32;1m\u001b[1;3m[{'hình_thức_đào_tạo': [{'thời_gian': '4.5 năm đối với ngành đào tạo kỹ sư, 3.5 năm đối với ngành đào tạo cử nhân kỹ thuật, 4 năm đối với các ngành còn lại', 'id': 'Hình Thức Đào Tạo Chính Quy'}, {'thời_gian': 'dài hơn tối thiểu 20% so với hình thức đào tạo chính quy', 'id': 'Hình Thức Đào Tạo Vừa Làm Vừa Học'}, {'id': 'Hình Thức Đào Tạo'}], 'thực_thể_liên_quan': [{'thời_gian': 'dài hơn tối thiểu 20% so với hình thức đào tạo chính quy', 'id': 'Hình Thức Đào Tạo Vừa Làm Vừa Học'}, {'tiêu_đề': 'Hình thức đào tạo', 'id': 'Điều 6'}], 'loại_quan_hệ': ['DÀI_HƠN', 'QUY_ĐỊNH'], 'thuộc_tính_quan_hệ': [{}], 'hình_thức_đào_tạo_liên_quan': [{'thời_gian': '4.5 năm đối với ngành đào tạo kỹ sư, 3.5 năm đối với ngành đào tạo cử nhân kỹ thuật, 4 năm đối với các ngành còn lại', 'id': 'Hình Thức Đào Tạo Chính Quy'}, {'id': 'Hình Thức Đào Tạo'}]}]\u001b[0m\n"
     ]
    },
    {
     "name": "stderr",
     "output_type": "stream",
     "text": [
      " 10%|█         | 9/86 [03:21<31:28, 24.53s/it]"
     ]
    },
    {
     "name": "stdout",
     "output_type": "stream",
     "text": [
      "\n",
      "\u001b[1m> Finished chain.\u001b[0m\n",
      "\n",
      "\n",
      "\u001b[1m> Entering new GraphCypherQAChain chain...\u001b[0m\n",
      "Generated Cypher:\n",
      "\u001b[32;1m\u001b[1;3mOPTIONAL MATCH (n)\n",
      "WHERE toLower(n.id) CONTAINS toLower('Đợt đăng ký')\n",
      "\n",
      "RETURN collect(DISTINCT properties(n)) AS n_properties\u001b[0m\n",
      "Full Context:\n",
      "\u001b[32;1m\u001b[1;3m[{'n_properties': []}]\u001b[0m\n"
     ]
    },
    {
     "name": "stderr",
     "output_type": "stream",
     "text": [
      " 12%|█▏        | 10/86 [03:34<26:33, 20.97s/it]"
     ]
    },
    {
     "name": "stdout",
     "output_type": "stream",
     "text": [
      "\n",
      "\u001b[1m> Finished chain.\u001b[0m\n",
      "\n",
      "\n",
      "\u001b[1m> Entering new GraphCypherQAChain chain...\u001b[0m\n",
      "Generated Cypher:\n",
      "\u001b[32;1m\u001b[1;3mOPTIONAL MATCH (n)-[r]-(m)\n",
      "WHERE toLower(n.id) CONTAINS toLower('Điều Kiện Đăng Ký Làm Khóa Luận Tốt Nghiệp') \n",
      "OR toLower(n.id) CONTAINS toLower('Ngành Đào Tạo Kỹ Sư')\n",
      "\n",
      "OPTIONAL MATCH (n2)-[r2]-(m2)\n",
      "WHERE toLower(n2.id) CONTAINS toLower('Khóa Luận Tốt Nghiệp') \n",
      "AND toLower(m2.id) CONTAINS toLower('Ngành Đào Tạo Kỹ Sư')\n",
      "\n",
      "RETURN \n",
      "  collect(DISTINCT properties(n)) AS n_properties,\n",
      "  collect(DISTINCT type(r)) AS r_type,\n",
      "  collect(DISTINCT properties(r)) AS r_properties,\n",
      "  collect(DISTINCT properties(m)) AS m_properties,\n",
      "  collect(DISTINCT properties(n2)) AS n2_properties,\n",
      "  collect(DISTINCT type(r2)) AS r2_type,\n",
      "  collect(DISTINCT properties(r2)) AS r2_properties,\n",
      "  collect(DISTINCT properties(m2)) AS m2_properties\u001b[0m\n",
      "Full Context:\n",
      "\u001b[32;1m\u001b[1;3m[{'n_properties': [{'id': 'Ngành Đào Tạo Kỹ Sư'}], 'r_type': ['ÁP_DỤNG'], 'r_properties': [{'điều_kiện': 'Không quá 10 tín chỉ chưa đạt (không tính Giáo dục thể chất, Giáo dục quốc phòng - an ninh)'}], 'm_properties': [{'id': 'Đăng Ký Làm Đồ Án, Khoá Luận Tốt Nghiệp'}], 'n2_properties': [], 'r2_type': [], 'r2_properties': [], 'm2_properties': []}]\u001b[0m\n"
     ]
    },
    {
     "name": "stderr",
     "output_type": "stream",
     "text": [
      " 13%|█▎        | 11/86 [04:02<29:08, 23.32s/it]"
     ]
    },
    {
     "name": "stdout",
     "output_type": "stream",
     "text": [
      "\n",
      "\u001b[1m> Finished chain.\u001b[0m\n",
      "\n",
      "\n",
      "\u001b[1m> Entering new GraphCypherQAChain chain...\u001b[0m\n",
      "Generated Cypher:\n",
      "\u001b[32;1m\u001b[1;3mOPTIONAL MATCH (n)-[r]-(m)\n",
      "WHERE toLower(n.id) CONTAINS toLower('Điều Kiện Đăng Ký Khoá Luận Tốt Nghiệp') \n",
      "OR toLower(n.id) CONTAINS toLower('Ngành Công Nghệ Thông Tin')\n",
      "\n",
      "OPTIONAL MATCH (n2)-[r2]-(m2)\n",
      "WHERE toLower(m2.id) CONTAINS toLower('Điều Kiện Đăng Ký Khoá Luận Tốt Nghiệp') \n",
      "AND toLower(n2.id) CONTAINS toLower('Ngành Công Nghệ Thông Tin')\n",
      "\n",
      "RETURN \n",
      "  collect(DISTINCT properties(n)) AS n_properties,\n",
      "  collect(DISTINCT type(r)) AS r_type,\n",
      "  collect(DISTINCT properties(r)) AS r_properties,\n",
      "  collect(DISTINCT properties(m)) AS m_properties,\n",
      "  collect(DISTINCT properties(n2)) AS n2_properties,\n",
      "  collect(DISTINCT type(r2)) AS r2_type,\n",
      "  collect(DISTINCT properties(r2)) AS r2_properties,\n",
      "  collect(DISTINCT properties(m2)) AS m2_properties\u001b[0m\n",
      "Full Context:\n",
      "\u001b[32;1m\u001b[1;3m[{'n_properties': [], 'r_type': [], 'r_properties': [], 'm_properties': [], 'n2_properties': [], 'r2_type': [], 'r2_properties': [], 'm2_properties': []}]\u001b[0m\n"
     ]
    },
    {
     "name": "stderr",
     "output_type": "stream",
     "text": [
      " 14%|█▍        | 12/86 [04:26<29:02, 23.55s/it]"
     ]
    },
    {
     "name": "stdout",
     "output_type": "stream",
     "text": [
      "\n",
      "\u001b[1m> Finished chain.\u001b[0m\n",
      "\n",
      "\n",
      "\u001b[1m> Entering new GraphCypherQAChain chain...\u001b[0m\n",
      "Generated Cypher:\n",
      "\u001b[32;1m\u001b[1;3mOPTIONAL MATCH (n)-[r]-(m)\n",
      "WHERE toLower(n.id) CONTAINS toLower('Hội đồng đánh giá khoá luận tốt nghiệp')\n",
      "\n",
      "RETURN \n",
      "  collect(DISTINCT properties(n)) AS n_properties, \n",
      "  collect(DISTINCT type(r)) AS r_type, \n",
      "  collect(DISTINCT properties(r)) AS r_properties, \n",
      "  collect(DISTINCT properties(m)) AS m_properties\u001b[0m\n",
      "Full Context:\n",
      "\u001b[32;1m\u001b[1;3m[{'n_properties': [], 'r_type': [], 'r_properties': [], 'm_properties': []}]\u001b[0m\n"
     ]
    },
    {
     "name": "stderr",
     "output_type": "stream",
     "text": [
      " 15%|█▌        | 13/86 [04:43<25:57, 21.34s/it]"
     ]
    },
    {
     "name": "stdout",
     "output_type": "stream",
     "text": [
      "\n",
      "\u001b[1m> Finished chain.\u001b[0m\n",
      "\n",
      "\n",
      "\u001b[1m> Entering new GraphCypherQAChain chain...\u001b[0m\n",
      "Generated Cypher:\n",
      "\u001b[32;1m\u001b[1;3mOPTIONAL MATCH (n)-[r]-(m)\n",
      "WHERE toLower(n.id) CONTAINS toLower('khoá luận tốt nghiệp') OR toLower(n.id) CONTAINS toLower('điểm đánh giá')\n",
      "\n",
      "RETURN \n",
      "  collect(DISTINCT properties(n)) AS n_properties, \n",
      "  collect(DISTINCT type(r)) AS r_type, \n",
      "  collect(DISTINCT properties(r)) AS r_properties, \n",
      "  collect(DISTINCT properties(m)) AS m_properties\u001b[0m\n",
      "Full Context:\n",
      "\u001b[32;1m\u001b[1;3m[{'n_properties': [{'id': 'Điểm Đánh Giá Quá Trình Học Tập', 'trọng_số': '30%, 40% hoặc 50% điểm học phần'}, {'id': 'Làm Đồ Án Hoặc Khoá Luận Tốt Nghiệp'}, {'id': 'Đăng Ký Làm Đồ Án, Khoá Luận Tốt Nghiệp'}, {'id': 'Đề Cương Đồ Án, Khoá Luận Tốt Nghiệp'}, {'id': 'Đánh Giá Đồ Án, Khoá Luận Tốt Nghiệp'}, {'id': 'Điểm Đánh Giá', 'cách_tính': 'Trung bình cộng các điểm thành phần', 'quy_đổi': 'Theo thang điểm chữ', 'thang_điểm': '10'}, {'id': 'Mẫu Bảng Điểm Đánh Giá'}, {'id': 'Điểm Đánh Giá Quá Trình'}, {'id': 'Khung Điểm Đánh Giá', 'phạm_vi': '0 đến 20 điểm'}, {'id': 'Các Tiêu Chí Để Xác Định Điểm Đánh Giá'}, {'id': 'Khung Điểm Đánh Giá Từ 0 Đến 25 Điểm'}, {'id': 'Khung Điểm Đánh Giá Từ 0 Đến 20 Điểm'}, {'id': 'Khung Điểm Đánh Giá Từ 0 Đến 10 Điểm'}], 'r_type': ['NHẬP_ĐIỂM', 'THAM_CHIẾU', 'ĐÁNH_GIÁ', 'BAO_GỒM', 'KẾT_HỢP', 'QUY_ĐỊNH', 'ÁP_DỤNG', 'ĐƯỢC_ĐĂNG_KÝ', 'DUYỆT', 'VIẾT', 'HÌNH_THỨC', 'THỰC_HIỆN', 'QUY_ĐỔI', 'TÍNH_THEO', 'CÓ', 'ĐÓNG_GÓP_ĐIỂM', 'TÍNH_TOÁN', 'BAN_HÀNH'], 'r_properties': [{}, {'giới_hạn': 'Không vượt quá 20% số lượng sinh viên năm cuối của ngành đó', 'điều_kiện': 'Điểm trung bình chung học tập đạt từ 7,00 trở lên'}, {'điều_kiện': 'Không quá 10 tín chỉ chưa đạt (không tính Giáo dục thể chất, Giáo dục quốc phòng - an ninh)'}, {'điều_kiện': 'Sinh viên làm đơn gửi trực tiếp cho giảng viên giảng dạy'}], 'm_properties': [{'id': 'Khoa Quản Lý Học Phần'}, {'id': 'Đề Cương Chi Tiết', 'trạng_thái': 'đã được phê duyệt', 'vai_trò': 'Quy định trọng số của mỗi điểm thành phần'}, {'id': 'Giảng Viên', 'trách_nhiệm': 'Điều chỉnh, cải tiến và nâng cao chất lượng giảng dạy', 'vai_trò': 'Xem xét kết quả phản hồi, đánh giá mức độ đạt chuẩn đầu ra học phần'}, {'id': 'Điểm Tổng Hợp Đánh Giá Học Phần', 'tên_gọi_tắt': 'Điểm học phần', 'định_nghĩa': 'Gồm hai thành phần: điểm đánh giá quá trình học tập và điểm thi kết thúc học phần'}, {'id': 'Thời Gian Thực Tập Chuyên Môn Cuối Khoá'}, {'tiêu_đề': 'Tổ chức các hoạt động giáo dục, tuyên truyền', 'id': 'Điều 14'}, {'id': 'Ngành Đào Tạo Còn Lại'}, {'id': 'Ngành Đào Tạo Kỹ Sư'}, {'id': 'Sinh Viên', 'quyền_lợi': 'được bảo đảm điều kiện thực hiện đầy đủ nhiệm vụ và quyền trong quá trình học tập và rèn luyện tại trường', 'vai_trò': 'Lựa chọn phương án trả lời', 'định_nghĩa': 'người đang học chương trình đào tạo trình độ đại học hệ chính quy tại trường'}, {'id': 'Khoa Quản Lý Ngành Đào Tạo'}, {'id': 'Bảo Vệ Và Đánh Giá Trực Tuyến', 'điều_kiện': 'a) Hội đồng chuyên môn ít nhất 3 thành viên; b) Đồng thuận của hội đồng và người học; c) Ghi hình, ghi âm đầy đủ'}, {'id': 'Hội Đồng', 'thành_viên': 'Chủ tịch, ủy viên phản biện, thư ký', 'số_thành_viên': '3'}, {'tiêu_đề': 'Công tác quản lý sinh viên', 'id': 'Điều 15'}, {'id': 'Thang Điểm Chữ', 'mô_tả': 'Dùng để xếp loại học phần'}, {'id': 'Thang Điểm 10', 'mô_tả': 'Gồm các số từ 0 đến 10 (với một số lẻ thập phân)'}, {'id': 'Đánh Giá Đồ Án, Khóa Luận Tốt Nghiệp'}, {'id': 'Người Hướng Dẫn'}, {'id': 'Phúc Tra Điểm Học Phần'}, {'tiêu_đề': 'Đánh giá về ý thức tham gia học tập', 'id': 'Điều 4'}, {'id': 'Ý Thức Chấp Hành Các Quy Định Của Các Tổ Chức, Đơn Vị Trong Nhà Trường'}, {'id': 'Ý Thức Chấp Hành Các Văn Bản Chỉ Đạo Của Ngành, Của Cơ Quan Chỉ Đạo Cấp Trên Và Của Nhà Trường'}, {'id': 'Ý Thức Chấp Hành Nội Quy, Quy Định Trong Nhà Trường'}, {'id': 'Ý Thức Tham Gia Các Hoạt Động Chính Trị, Xã Hội, Văn Hóa, Văn Nghệ, Thể Thao, Phòng Chống Tội Phạm Và Các Tệ Nạn Xã Hội'}, {'id': 'Ý Thức Công Dân Trong Quan Hệ Cộng Đồng'}, {'tiêu_đề': 'Đánh giá về ý thức và kết quả khi tham gia công tác cán bộ lớp, các hội, đoàn thể trong nhà trường hoặc người học đạt được thành tích đặc biệt trong học tập, rèn luyện', 'id': 'Đánh Giá Về Ý Thức Và Kết Quả Khi Tham Gia Công Tác Cán Bộ Lớp, Các Hội, Đoàn Thể Trong Nhà Trường Hoặc Người Học Đạt Được Thành Tích Đặc Biệt Trong Học Tập, Rèn Luyện'}]}]\u001b[0m\n"
     ]
    },
    {
     "name": "stderr",
     "output_type": "stream",
     "text": [
      " 16%|█▋        | 14/86 [05:10<27:53, 23.24s/it]"
     ]
    },
    {
     "name": "stdout",
     "output_type": "stream",
     "text": [
      "\n",
      "\u001b[1m> Finished chain.\u001b[0m\n",
      "\n",
      "\n",
      "\u001b[1m> Entering new GraphCypherQAChain chain...\u001b[0m\n",
      "Generated Cypher:\n",
      "\u001b[32;1m\u001b[1;3mOPTIONAL MATCH (n)-[r]-(m)\n",
      "WHERE toLower(n.id) CONTAINS toLower('Sinh Viên') AND toLower(m.id) CONTAINS toLower('Cải Thiện Điểm Trung Bình Chung Tích Lũy')\n",
      "\n",
      "RETURN \n",
      "  collect(DISTINCT properties(n)) AS n_properties, \n",
      "  collect(DISTINCT type(r)) AS r_type, \n",
      "  collect(DISTINCT properties(r)) AS r_properties, \n",
      "  collect(DISTINCT properties(m)) AS m_properties\u001b[0m\n",
      "Full Context:\n",
      "\u001b[32;1m\u001b[1;3m[{'n_properties': [{'id': 'Sinh Viên', 'quyền_lợi': 'được bảo đảm điều kiện thực hiện đầy đủ nhiệm vụ và quyền trong quá trình học tập và rèn luyện tại trường', 'vai_trò': 'Lựa chọn phương án trả lời', 'định_nghĩa': 'người đang học chương trình đào tạo trình độ đại học hệ chính quy tại trường'}], 'r_type': ['ĐƯỢC_QUYỀN'], 'r_properties': [{}], 'm_properties': [{'id': 'Cải Thiện Điểm Trung Bình Chung Tích Lũy'}]}]\u001b[0m\n"
     ]
    },
    {
     "name": "stderr",
     "output_type": "stream",
     "text": [
      " 17%|█▋        | 15/86 [05:36<28:25, 24.02s/it]"
     ]
    },
    {
     "name": "stdout",
     "output_type": "stream",
     "text": [
      "\n",
      "\u001b[1m> Finished chain.\u001b[0m\n",
      "\n",
      "\n",
      "\u001b[1m> Entering new GraphCypherQAChain chain...\u001b[0m\n",
      "Generated Cypher:\n",
      "\u001b[32;1m\u001b[1;3mOPTIONAL MATCH (n)-[r1]->(m)\n",
      "WHERE toLower(n.id) CONTAINS toLower('Sinh Viên') AND toLower(m.id) CONTAINS toLower('Cải Thiện Điểm Trung Bình Chung Tích Lũy')\n",
      "\n",
      "OPTIONAL MATCH (m)-[r2]->(k)\n",
      "WHERE toLower(k.id) CONTAINS toLower('cách')\n",
      "\n",
      "RETURN \n",
      "  collect(DISTINCT properties(n)) AS n_properties,\n",
      "  collect(DISTINCT type(r1)) AS r1_type,\n",
      "  collect(DISTINCT properties(r1)) AS r1_properties,\n",
      "  collect(DISTINCT properties(m)) AS m_properties,\n",
      "  collect(DISTINCT type(r2)) AS r2_type,\n",
      "  collect(DISTINCT properties(r2)) AS r2_properties,\n",
      "  collect(DISTINCT properties(k)) AS k_properties\u001b[0m\n",
      "Full Context:\n",
      "\u001b[32;1m\u001b[1;3m[{'n_properties': [{'id': 'Sinh Viên', 'quyền_lợi': 'được bảo đảm điều kiện thực hiện đầy đủ nhiệm vụ và quyền trong quá trình học tập và rèn luyện tại trường', 'vai_trò': 'Lựa chọn phương án trả lời', 'định_nghĩa': 'người đang học chương trình đào tạo trình độ đại học hệ chính quy tại trường'}], 'r1_type': ['ĐƯỢC_QUYỀN'], 'r1_properties': [{}], 'm_properties': [{'id': 'Cải Thiện Điểm Trung Bình Chung Tích Lũy'}], 'r2_type': [], 'r2_properties': [], 'k_properties': []}]\u001b[0m\n"
     ]
    },
    {
     "name": "stderr",
     "output_type": "stream",
     "text": [
      " 19%|█▊        | 16/86 [05:58<27:11, 23.30s/it]"
     ]
    },
    {
     "name": "stdout",
     "output_type": "stream",
     "text": [
      "\n",
      "\u001b[1m> Finished chain.\u001b[0m\n",
      "\n",
      "\n",
      "\u001b[1m> Entering new GraphCypherQAChain chain...\u001b[0m\n",
      "Generated Cypher:\n",
      "\u001b[32;1m\u001b[1;3mOPTIONAL MATCH (n)-[r]-(m)\n",
      "WHERE toLower(n.id) CONTAINS toLower('Điểm Trung Bình Chung Học Kỳ')\n",
      "\n",
      "RETURN \n",
      "  collect(DISTINCT properties(n)) AS n_properties, \n",
      "  collect(DISTINCT type(r)) AS r_type, \n",
      "  collect(DISTINCT properties(r)) AS r_properties, \n",
      "  collect(DISTINCT properties(m)) AS m_properties\u001b[0m\n",
      "Full Context:\n",
      "\u001b[32;1m\u001b[1;3m[{'n_properties': [{'id': 'Điểm Trung Bình Chung Học Kỳ', 'phạm_vi': 'Bao gồm tất cả các học phần được đánh giá đạt và không đạt trong học kỳ.', 'định_nghĩa': 'Điểm trung bình chung học kỳ được tính theo công thức A = (Σ (i = 1 -> n) [a_i * n_i]) / (Σ (i = 1 -> n) [n_i]) và làm tròn đến 2 chữ số thập phân.'}], 'r_type': ['DỰA_TRÊN', 'DÙNG_ĐỂ', 'TÍNH_TỪ'], 'r_properties': [{}, {'mục_đích': 'Xét thôi học, cảnh báo kết quả học tập, xếp hạng học lực sinh viên và xếp hạng tốt nghiệp.'}, {'công_thức': 'A = (Σ (i = 1 -> n) [a_i * n_i]) / (Σ (i = 1 -> n) [n_i])'}], 'm_properties': [{'id': 'Xếp Loại Học Lực'}, {'id': 'Sinh Viên', 'quyền_lợi': 'được bảo đảm điều kiện thực hiện đầy đủ nhiệm vụ và quyền trong quá trình học tập và rèn luyện tại trường', 'vai_trò': 'Lựa chọn phương án trả lời', 'định_nghĩa': 'người đang học chương trình đào tạo trình độ đại học hệ chính quy tại trường'}, {'id': 'Học Phần', 'mã_học_phần': 'Do Trường quy định', 'khối_lượng_tín_chỉ': '1-4', 'thời_gian_giảng_dạy': 'Một học kỳ', 'định_nghĩa': 'Đơn vị học tập có điểm đánh giá và số tín chỉ.'}]}]\u001b[0m\n"
     ]
    },
    {
     "name": "stderr",
     "output_type": "stream",
     "text": [
      " 20%|█▉        | 17/86 [06:17<25:14, 21.95s/it]"
     ]
    },
    {
     "name": "stdout",
     "output_type": "stream",
     "text": [
      "\n",
      "\u001b[1m> Finished chain.\u001b[0m\n",
      "\n",
      "\n",
      "\u001b[1m> Entering new GraphCypherQAChain chain...\u001b[0m\n",
      "Generated Cypher:\n",
      "\u001b[32;1m\u001b[1;3mOPTIONAL MATCH (n)-[r]-(m)\n",
      "WHERE toLower(n.id) CONTAINS toLower('Xếp loại học lực') OR toLower(n.id) CONTAINS toLower('Học lực')\n",
      "\n",
      "OPTIONAL MATCH (n2)-[r2]-(m2)\n",
      "WHERE toLower(m2.id) CONTAINS toLower('Thang điểm')\n",
      "\n",
      "RETURN \n",
      "  collect(DISTINCT properties(n)) AS n_properties,\n",
      "  collect(DISTINCT type(r)) AS r_type,\n",
      "  collect(DISTINCT properties(r)) AS r_properties,\n",
      "  collect(DISTINCT properties(m)) AS m_properties,\n",
      "  collect(DISTINCT properties(n2)) AS n2_properties,\n",
      "  collect(DISTINCT type(r2)) AS r2_type,\n",
      "  collect(DISTINCT properties(r2)) AS r2_properties,\n",
      "  collect(DISTINCT properties(m2)) AS m2_properties\u001b[0m\n",
      "Full Context:\n",
      "\u001b[32;1m\u001b[1;3m[{'n_properties': [{'id': 'Xếp Loại Học Lực'}, {'id': 'Học Lực'}], 'r_type': ['XẾP_LOẠI', 'SỬ_DỤNG', 'DỰA_TRÊN', 'ĐƯỢC', 'PHẢI_ĐÁP_ỨNG'], 'r_properties': [{}], 'm_properties': [{'id': 'Kém', 'điểm': 'dưới 1.0'}, {'id': 'Yếu', 'điểm': '1.0-dưới 2.0'}, {'id': 'Trung Bình', 'điểm': '2.0-dưới 2.5'}, {'id': 'Khá', 'điểm': '2.5-dưới 3.2'}, {'id': 'Giỏi', 'điểm': '3.2-dưới 3.6'}, {'id': 'Xuất Sắc', 'điểm': '3.6-4.0'}, {'id': 'Thang Điểm 4', 'mô_tả': 'Dùng để tính điểm trung bình chung học kỳ, trung bình chung tích lũy'}, {'id': 'Điểm Trung Bình Chung Tích Lũy', 'phạm_vi': 'Bao gồm các học phần được đánh giá đạt đến thời điểm xét.', 'định_nghĩa': 'Điểm trung bình chung tích lũy được tính theo công thức A = (Σ (i = 1 -> n) [a_i * n_i]) / (Σ (i = 1 -> n) [n_i]) và làm tròn đến 2 chữ số thập phân.'}, {'id': 'Điểm Trung Bình Chung Năm Học'}, {'id': 'Điểm Trung Bình Chung Học Kỳ', 'phạm_vi': 'Bao gồm tất cả các học phần được đánh giá đạt và không đạt trong học kỳ.', 'định_nghĩa': 'Điểm trung bình chung học kỳ được tính theo công thức A = (Σ (i = 1 -> n) [a_i * n_i]) / (Σ (i = 1 -> n) [n_i]) và làm tròn đến 2 chữ số thập phân.'}, {'id': 'Sinh Viên', 'quyền_lợi': 'được bảo đảm điều kiện thực hiện đầy đủ nhiệm vụ và quyền trong quá trình học tập và rèn luyện tại trường', 'vai_trò': 'Lựa chọn phương án trả lời', 'định_nghĩa': 'người đang học chương trình đào tạo trình độ đại học hệ chính quy tại trường'}, {'id': 'Xếp Loại Trung Bình Trở Lên'}], 'n2_properties': [{'id': 'Kiểm Tra, Đánh Giá Năng Lực Tiếng Anh Đầu Khóa'}, {'id': 'Điểm Đánh Giá', 'cách_tính': 'Trung bình cộng các điểm thành phần', 'quy_đổi': 'Theo thang điểm chữ', 'thang_điểm': '10'}, {'id': 'Bài Thi'}, {'id': 'Điểm Học Phần', 'tính_chất': 'Tính từ tổng các điểm thành phần nhân với trọng số tương ứng'}, {'id': 'Xếp Loại Học Tập'}, {'id': 'Thang Điểm 4', 'mô_tả': 'Dùng để tính điểm trung bình chung học kỳ, trung bình chung tích lũy'}, {'id': 'Thang Điểm Chữ', 'mô_tả': 'Dùng để xếp loại học phần'}, {'tiêu_đề': 'Đánh giá và tính điểm học phần', 'id': 'Điều 11'}, {'id': 'Thang Điểm 10', 'mô_tả': 'Gồm các số từ 0 đến 10 (với một số lẻ thập phân)'}, {'id': 'Xếp Loại Học Lực'}, {'id': 'Điểm Rèn Luyện'}, {'id': 'Ý Thức Và Kết Quả Tham Gia Công Tác Cán Bộ Lớp, Các Hội, Đoàn Thể, Tổ Chức Khác Trong Trường Hoặc Người Học Đạt Được Thành Tích Đặc Biệt Trong Học Tập, Rèn Luyện'}, {'id': 'Ý Thức Công Dân Trong Quan Hệ Cộng Đồng'}, {'id': 'Ý Thức Tham Gia Các Hoạt Động Chính Trị, Xã Hội, Văn Hóa, Văn Nghệ, Thể Thao, Phòng Chống Tội Phạm Và Các Tệ Nạn Xã Hội'}, {'id': 'Ý Thức Chấp Hành Nội Quy, Quy Định Trong Nhà Trường'}, {'id': 'Ý Thức Tham Gia Học Tập'}], 'r2_type': ['SỬ_DỤNG', 'TÍNH_THEO', 'CHẤM_THEO', 'DÙNG_ĐỂ_ĐÁNH_GIÁ', 'TƯƠNG_ỨNG', 'QUY_ĐỊNH', 'QUY_ĐỔI', 'DÙNG_ĐỂ_XẾP_LOẠI', 'DÙNG_ĐỂ_TÍNH', 'BAO_GỒM', 'ĐƯỢC_ĐÁNH_GIÁ_BẰNG'], 'r2_properties': [{}], 'm2_properties': [{'id': 'Thang Điểm 10', 'mô_tả': 'Gồm các số từ 0 đến 10 (với một số lẻ thập phân)'}, {'id': 'Thang Điểm Chữ', 'mô_tả': 'Dùng để xếp loại học phần'}, {'id': 'Thang Điểm 4', 'mô_tả': 'Dùng để tính điểm trung bình chung học kỳ, trung bình chung tích lũy'}, {'id': 'Nội Dung Đánh Giá Và Thang Điểm'}, {'id': 'Thang Điểm 100'}]}]\u001b[0m\n"
     ]
    },
    {
     "name": "stderr",
     "output_type": "stream",
     "text": [
      " 21%|██        | 18/86 [06:37<24:21, 21.49s/it]"
     ]
    },
    {
     "name": "stdout",
     "output_type": "stream",
     "text": [
      "\n",
      "\u001b[1m> Finished chain.\u001b[0m\n",
      "\n",
      "\n",
      "\u001b[1m> Entering new GraphCypherQAChain chain...\u001b[0m\n",
      "Generated Cypher:\n",
      "\u001b[32;1m\u001b[1;3mOPTIONAL MATCH (n)\n",
      "WHERE toLower(n.id) CONTAINS toLower('Học Lực') AND toLower(n.id) CONTAINS toLower('Giỏi')\n",
      "\n",
      "OPTIONAL MATCH (n2)-[r]->(m)\n",
      "WHERE toLower(m.id) CONTAINS toLower('Học Lực') AND toLower(m.id) CONTAINS toLower('Giỏi')\n",
      "\n",
      "RETURN \n",
      "  collect(DISTINCT properties(n)) AS hoc_luc_gioi,\n",
      "  collect(DISTINCT properties(n2)) AS node_lien_quan,\n",
      "  collect(DISTINCT type(r)) AS loai_quan_he,\n",
      "  collect(DISTINCT properties(r)) AS thuoc_tinh_quan_he,\n",
      "  collect(DISTINCT properties(m)) AS hoc_luc_lien_quan\u001b[0m\n",
      "Full Context:\n",
      "\u001b[32;1m\u001b[1;3m[{'hoc_luc_gioi': [], 'node_lien_quan': [], 'loai_quan_he': [], 'thuoc_tinh_quan_he': [], 'hoc_luc_lien_quan': []}]\u001b[0m\n"
     ]
    },
    {
     "name": "stderr",
     "output_type": "stream",
     "text": [
      " 22%|██▏       | 19/86 [07:00<24:30, 21.94s/it]"
     ]
    },
    {
     "name": "stdout",
     "output_type": "stream",
     "text": [
      "\n",
      "\u001b[1m> Finished chain.\u001b[0m\n",
      "\n",
      "\n",
      "\u001b[1m> Entering new GraphCypherQAChain chain...\u001b[0m\n",
      "Generated Cypher:\n",
      "\u001b[32;1m\u001b[1;3mOPTIONAL MATCH (n)\n",
      "WHERE toLower(n.id) CONTAINS toLower('Xuất Sắc')\n",
      "\n",
      "OPTIONAL MATCH (n2)-[r]->(m)\n",
      "WHERE toLower(m.id) CONTAINS toLower('Xuất Sắc')\n",
      "\n",
      "RETURN \n",
      "  collect(DISTINCT properties(n)) AS học_lực,\n",
      "  collect(DISTINCT properties(n2)) AS tiêu_chí,\n",
      "  collect(DISTINCT type(r)) AS loại_quan_hệ,\n",
      "  collect(DISTINCT properties(r)) AS thuộc_tính_quan_hệ,\n",
      "  collect(DISTINCT properties(m)) AS học_lực_liên_quan\u001b[0m\n",
      "Full Context:\n",
      "\u001b[32;1m\u001b[1;3m[{'học_lực': [{'id': 'Xuất Sắc', 'điểm': '3.6-4.0'}, {'id': 'Thành Tích Xuất Sắc'}, {'id': 'Lớp Sinh Viên Xuất Sắc'}, {'id': 'Mức Học Bổng Loại Xuất Sắc', 'điểm_rèn_luyện': 'Xuất sắc', 'mức_tài_chính': 'cao hơn loại Giỏi', 'điểm_trung_bình': 'Xuất sắc'}], 'tiêu_chí': [{'id': 'Kết Quả Rèn Luyện'}, {'id': 'Xếp Loại Học Lực'}, {'id': 'Danh Hiệu Tập Thể Lớp Sinh Viên', 'loại': 'Lớp sinh viên Tiên tiến, Lớp sinh viên Xuất sắc'}, {'id': 'Hiệu Trưởng', 'vai_trò': 'Ban hành Quyết định thành lập Hội đồng đánh giá kết quả rèn luyện'}, {'học_lực': 'từ loại khá trở lên', 'id': 'Tiêu Chuẩn Học Bổng', 'rèn_luyện': 'không bị kỷ luật từ mức khiển trách trở lên'}], 'loại_quan_hệ': ['PHÂN_LOẠI', 'XẾP_LOẠI', 'BAO_GỒM', 'QUY_ĐỊNH'], 'thuộc_tính_quan_hệ': [{'điểm': '90-100'}, {}], 'học_lực_liên_quan': [{'id': 'Xuất Sắc', 'điểm': '3.6-4.0'}, {'id': 'Lớp Sinh Viên Xuất Sắc'}, {'id': 'Mức Học Bổng Loại Xuất Sắc', 'điểm_rèn_luyện': 'Xuất sắc', 'mức_tài_chính': 'cao hơn loại Giỏi', 'điểm_trung_bình': 'Xuất sắc'}]}]\u001b[0m\n"
     ]
    },
    {
     "name": "stderr",
     "output_type": "stream",
     "text": [
      " 23%|██▎       | 20/86 [07:20<23:34, 21.43s/it]"
     ]
    },
    {
     "name": "stdout",
     "output_type": "stream",
     "text": [
      "\n",
      "\u001b[1m> Finished chain.\u001b[0m\n",
      "\n",
      "\n",
      "\u001b[1m> Entering new GraphCypherQAChain chain...\u001b[0m\n",
      "Generated Cypher:\n",
      "\u001b[32;1m\u001b[1;3mOPTIONAL MATCH (n)-[r1]->(m)\n",
      "WHERE toLower(n.id) CONTAINS toLower('Sinh Viên') AND type(r1) = 'BỊ_CẢNH_BÁO'\n",
      "\n",
      "RETURN \n",
      "  collect(DISTINCT properties(n)) AS n_properties, \n",
      "  collect(DISTINCT type(r1)) AS r1_type, \n",
      "  collect(DISTINCT properties(r1)) AS r1_properties,\n",
      "  collect(DISTINCT properties(m)) AS m_properties\u001b[0m\n",
      "Full Context:\n",
      "\u001b[32;1m\u001b[1;3m[{'n_properties': [{'id': 'Sinh Viên', 'quyền_lợi': 'được bảo đảm điều kiện thực hiện đầy đủ nhiệm vụ và quyền trong quá trình học tập và rèn luyện tại trường', 'vai_trò': 'Lựa chọn phương án trả lời', 'định_nghĩa': 'người đang học chương trình đào tạo trình độ đại học hệ chính quy tại trường'}], 'r1_type': ['BỊ_CẢNH_BÁO'], 'r1_properties': [{'điều_kiện': 'Điểm trung bình tích lũy dưới 1,2, 1,4, 1,6 hoặc 1,8'}, {}], 'm_properties': [{'id': 'Cảnh Báo Học Tập'}, {'id': 'Cảnh Báo Kết Quả Học Tập'}]}]\u001b[0m\n"
     ]
    },
    {
     "name": "stderr",
     "output_type": "stream",
     "text": [
      " 24%|██▍       | 21/86 [07:40<22:43, 20.98s/it]"
     ]
    },
    {
     "name": "stdout",
     "output_type": "stream",
     "text": [
      "\n",
      "\u001b[1m> Finished chain.\u001b[0m\n",
      "\n",
      "\n",
      "\u001b[1m> Entering new GraphCypherQAChain chain...\u001b[0m\n",
      "Generated Cypher:\n",
      "\u001b[32;1m\u001b[1;3mOPTIONAL MATCH (n)-[r1]->(m)\n",
      "WHERE toLower(n.id) CONTAINS toLower('Sinh Viên') AND type(r1) = 'BỊ_BUỘC_THÔI_HỌC'\n",
      "\n",
      "RETURN \n",
      "  collect(DISTINCT properties(n)) AS n_properties, \n",
      "  collect(DISTINCT type(r1)) AS r1_type, \n",
      "  collect(DISTINCT properties(r1)) AS r1_properties,\n",
      "  collect(DISTINCT properties(m)) AS m_properties\u001b[0m\n",
      "Full Context:\n",
      "\u001b[32;1m\u001b[1;3m[{'n_properties': [{'id': 'Sinh Viên', 'quyền_lợi': 'được bảo đảm điều kiện thực hiện đầy đủ nhiệm vụ và quyền trong quá trình học tập và rèn luyện tại trường', 'vai_trò': 'Lựa chọn phương án trả lời', 'định_nghĩa': 'người đang học chương trình đào tạo trình độ đại học hệ chính quy tại trường'}], 'r1_type': ['BỊ_BUỘC_THÔI_HỌC'], 'r1_properties': [{'điều_kiện': 'Vượt quá thời gian học tập'}], 'm_properties': [{'id': 'Buộc Thôi Học'}]}]\u001b[0m\n"
     ]
    },
    {
     "name": "stderr",
     "output_type": "stream",
     "text": [
      " 26%|██▌       | 22/86 [08:00<21:52, 20.52s/it]"
     ]
    },
    {
     "name": "stdout",
     "output_type": "stream",
     "text": [
      "\n",
      "\u001b[1m> Finished chain.\u001b[0m\n",
      "\n",
      "\n",
      "\u001b[1m> Entering new GraphCypherQAChain chain...\u001b[0m\n",
      "Generated Cypher:\n",
      "\u001b[32;1m\u001b[1;3mOPTIONAL MATCH (n)-[r]-(m)\n",
      "WHERE toLower(n.id) CONTAINS toLower('Điều Kiện Tốt Nghiệp') OR toLower(n.id) CONTAINS toLower('Công Nhận Tốt Nghiệp')\n",
      "\n",
      "RETURN \n",
      "  collect(DISTINCT properties(n)) AS n_properties, \n",
      "  collect(DISTINCT type(r)) AS r_type, \n",
      "  collect(DISTINCT properties(r)) AS r_properties, \n",
      "  collect(DISTINCT properties(m)) AS m_properties\u001b[0m\n",
      "Full Context:\n",
      "\u001b[32;1m\u001b[1;3m[{'n_properties': [{'id': 'Quyết Định Công Nhận Tốt Nghiệp'}, {'id': 'Điều Kiện Tốt Nghiệp'}], 'r_type': ['RA_QUYẾT_ĐỊNH', 'KÝ', 'PHẢI_ĐÁP_ỨNG', 'CÓ'], 'r_properties': [{}], 'm_properties': [{'id': 'Hiệu Trưởng', 'vai_trò': 'Ban hành Quyết định thành lập Hội đồng đánh giá kết quả rèn luyện'}, {'id': 'Xét Tốt Nghiệp'}, {'id': 'Sinh Viên', 'quyền_lợi': 'được bảo đảm điều kiện thực hiện đầy đủ nhiệm vụ và quyền trong quá trình học tập và rèn luyện tại trường', 'vai_trò': 'Lựa chọn phương án trả lời', 'định_nghĩa': 'người đang học chương trình đào tạo trình độ đại học hệ chính quy tại trường'}]}]\u001b[0m\n"
     ]
    },
    {
     "name": "stderr",
     "output_type": "stream",
     "text": [
      " 27%|██▋       | 23/86 [08:23<22:22, 21.31s/it]"
     ]
    },
    {
     "name": "stdout",
     "output_type": "stream",
     "text": [
      "\n",
      "\u001b[1m> Finished chain.\u001b[0m\n",
      "\n",
      "\n",
      "\u001b[1m> Entering new GraphCypherQAChain chain...\u001b[0m\n",
      "Generated Cypher:\n",
      "\u001b[32;1m\u001b[1;3mOPTIONAL MATCH (n)-[r]-(m)\n",
      "WHERE toLower(n.id) CONTAINS toLower('Hạng Tốt Nghiệp')\n",
      "\n",
      "RETURN \n",
      "  collect(DISTINCT properties(n)) AS n_properties, \n",
      "  collect(DISTINCT type(r)) AS r_type, \n",
      "  collect(DISTINCT properties(r)) AS r_properties, \n",
      "  collect(DISTINCT properties(m)) AS m_properties\u001b[0m\n",
      "Full Context:\n",
      "\u001b[32;1m\u001b[1;3m[{'n_properties': [{'id': 'Hạng Tốt Nghiệp', 'định_nghĩa': 'Xác định theo điểm trung bình chung tích lũy của toàn khóa học'}], 'r_type': ['THAM_CHIẾU', 'BỊ_ẢNH_HƯỞNG_BỞI', 'XÁC_ĐỊNH_BỞI'], 'r_properties': [{}, {'điều_kiện': 'Từ mức cảnh cáo trở lên'}, {'điều_kiện': 'Khối lượng vượt quá 5%'}], 'm_properties': [{'tiêu_đề': 'Chế độ báo cáo', 'id': 'Điều 18'}, {'id': 'Kỷ Luật', 'mức_độ': 'Từ mức cảnh cáo trở lên'}, {'id': 'Học Phần Phải Học Lại', 'khối_lượng': 'Vượt quá 5% so với tổng số tín chỉ quy định cho toàn chương trình'}, {'id': 'Điểm Trung Bình Tích Lũy'}]}]\u001b[0m\n"
     ]
    },
    {
     "name": "stderr",
     "output_type": "stream",
     "text": [
      " 28%|██▊       | 24/86 [08:43<21:40, 20.98s/it]"
     ]
    },
    {
     "name": "stdout",
     "output_type": "stream",
     "text": [
      "\n",
      "\u001b[1m> Finished chain.\u001b[0m\n",
      "\n",
      "\n",
      "\u001b[1m> Entering new GraphCypherQAChain chain...\u001b[0m\n",
      "Generated Cypher:\n",
      "\u001b[32;1m\u001b[1;3mOPTIONAL MATCH (n)-[r]-(m)\n",
      "WHERE toLower(n.id) CONTAINS toLower('Hạng Tốt Nghiệp')\n",
      "\n",
      "RETURN \n",
      "  collect(DISTINCT properties(n)) AS n_properties, \n",
      "  collect(DISTINCT type(r)) AS r_type, \n",
      "  collect(DISTINCT properties(r)) AS r_properties, \n",
      "  collect(DISTINCT properties(m)) AS m_properties\u001b[0m\n",
      "Full Context:\n",
      "\u001b[32;1m\u001b[1;3m[{'n_properties': [{'id': 'Hạng Tốt Nghiệp', 'định_nghĩa': 'Xác định theo điểm trung bình chung tích lũy của toàn khóa học'}], 'r_type': ['THAM_CHIẾU', 'BỊ_ẢNH_HƯỞNG_BỞI', 'XÁC_ĐỊNH_BỞI'], 'r_properties': [{}, {'điều_kiện': 'Từ mức cảnh cáo trở lên'}, {'điều_kiện': 'Khối lượng vượt quá 5%'}], 'm_properties': [{'tiêu_đề': 'Chế độ báo cáo', 'id': 'Điều 18'}, {'id': 'Kỷ Luật', 'mức_độ': 'Từ mức cảnh cáo trở lên'}, {'id': 'Học Phần Phải Học Lại', 'khối_lượng': 'Vượt quá 5% so với tổng số tín chỉ quy định cho toàn chương trình'}, {'id': 'Điểm Trung Bình Tích Lũy'}]}]\u001b[0m\n"
     ]
    },
    {
     "name": "stderr",
     "output_type": "stream",
     "text": [
      " 29%|██▉       | 25/86 [08:59<19:49, 19.50s/it]"
     ]
    },
    {
     "name": "stdout",
     "output_type": "stream",
     "text": [
      "\n",
      "\u001b[1m> Finished chain.\u001b[0m\n",
      "\n",
      "\n",
      "\u001b[1m> Entering new GraphCypherQAChain chain...\u001b[0m\n",
      "Generated Cypher:\n",
      "\u001b[32;1m\u001b[1;3mOPTIONAL MATCH (n)-[r]-(m)\n",
      "WHERE toLower(n.id) CONTAINS toLower('Sinh Viên') AND (toLower(type(r)) CONTAINS toLower('BẢO_LƯU') OR toLower(type(r)) CONTAINS toLower('ĐƯỢC_BẢO_LƯU'))\n",
      "\n",
      "RETURN \n",
      "  collect(DISTINCT properties(n)) AS n_properties, \n",
      "  collect(DISTINCT type(r)) AS r_type, \n",
      "  collect(DISTINCT properties(r)) AS r_properties, \n",
      "  collect(DISTINCT properties(m)) AS m_properties\u001b[0m\n",
      "Full Context:\n",
      "\u001b[32;1m\u001b[1;3m[{'n_properties': [{'id': 'Sinh Viên', 'quyền_lợi': 'được bảo đảm điều kiện thực hiện đầy đủ nhiệm vụ và quyền trong quá trình học tập và rèn luyện tại trường', 'vai_trò': 'Lựa chọn phương án trả lời', 'định_nghĩa': 'người đang học chương trình đào tạo trình độ đại học hệ chính quy tại trường'}], 'r_type': ['CHI_TRẢ_HOẶC_BẢO_LƯU'], 'r_properties': [{}], 'm_properties': [{'id': 'Nhà Trường', 'trách_nhiệm': 'Tổ chức thực hiện công tác sinh viên', 'vai_trò': 'tổ chức quản lý ký túc xá'}]}]\u001b[0m\n"
     ]
    },
    {
     "name": "stderr",
     "output_type": "stream",
     "text": [
      " 30%|███       | 26/86 [09:23<20:42, 20.71s/it]"
     ]
    },
    {
     "name": "stdout",
     "output_type": "stream",
     "text": [
      "\n",
      "\u001b[1m> Finished chain.\u001b[0m\n",
      "\n",
      "\n",
      "\u001b[1m> Entering new GraphCypherQAChain chain...\u001b[0m\n",
      "Generated Cypher:\n",
      "\u001b[32;1m\u001b[1;3mOPTIONAL MATCH (n)-[r]-(m)\n",
      "WHERE toLower(n.id) CONTAINS toLower('nghỉ học tạm thời') OR toLower(m.id) CONTAINS toLower('nghỉ học tạm thời')\n",
      "\n",
      "RETURN \n",
      "  collect(DISTINCT properties(n)) AS n_properties, \n",
      "  collect(DISTINCT type(r)) AS r_type, \n",
      "  collect(DISTINCT properties(r)) AS r_properties, \n",
      "  collect(DISTINCT properties(m)) AS m_properties\u001b[0m\n",
      "Full Context:\n",
      "\u001b[32;1m\u001b[1;3m[{'n_properties': [{'tiêu_đề': 'Nghỉ học tạm thời, thôi học', 'id': 'Điều 23'}, {'id': 'Nghỉ Học Tạm Thời'}, {'id': 'Lực Lượng Vũ Trang'}, {'id': 'Cơ Quan Có Thẩm Quyền'}, {'id': 'Đại Diện Quốc Gia'}, {'id': 'Kỳ Thi, Giải Đấu Quốc Tế'}, {'id': 'Ốm, Thai Sản Hoặc Tai Nạn'}, {'id': 'Cơ Sở Khám Bệnh, Chữa Bệnh'}, {'id': 'Lý Do Cá Nhân'}, {'id': 'Học Kỳ'}, {'id': 'Buộc Thôi Học'}, {'id': 'Kỷ Luật'}, {'id': 'Thời Gian Học Chính Thức'}, {'id': 'Thủ Tục Xin Nghỉ Học Tạm Thời'}, {'id': 'Khoa Quản Lý Ngành Đào Tạo'}, {'id': 'Phòng Đào Tạo Đại Học'}, {'id': 'Hiệu Trưởng', 'vai_trò': 'Ban hành Quyết định thành lập Hội đồng đánh giá kết quả rèn luyện'}, {'id': 'Người Học', 'trách_nhiệm': 'Nghiêm túc, trung thực, khách quan trong phản hồi', 'vai_trò': 'Tham gia đóng góp ý kiến thông qua khảo sát', 'định_nghĩa': 'Người học được đào tạo trình độ đại học hệ chính quy'}, {'id': 'Bảo Lưu Kết Quả Rèn Luyện'}, {'id': 'Sinh Viên', 'quyền_lợi': 'được bảo đảm điều kiện thực hiện đầy đủ nhiệm vụ và quyền trong quá trình học tập và rèn luyện tại trường', 'vai_trò': 'Lựa chọn phương án trả lời', 'định_nghĩa': 'người đang học chương trình đào tạo trình độ đại học hệ chính quy tại trường'}, {'id': 'Nghỉ Học Tạm Thời, Tạm Ngừng Học'}], 'r_type': ['QUY_ĐỊNH', 'TRONG_TRƯỜNG_HỢP', 'THỜI_GIAN', 'YÊU_CẦU', 'CÓ_TRẠNG_THÁI', 'ĐƯỢC_BẢO_LƯU', 'THỰC_HIỆN'], 'r_properties': [{}, {'điều_kiện': 'đã học tối thiểu 01 học kỳ ở Trường'}, {'điều_kiện': 'không thuộc các trường hợp bị xem xét buộc thôi học'}, {'điều_kiện': 'không thuộc các trường hợp bị xem xét kỷ luật'}], 'm_properties': [{'id': 'Nghỉ Học Tạm Thời'}, {'tiêu_đề': 'Nghỉ học tạm thời, thôi học', 'id': 'Điều 23'}, {'id': 'Lực Lượng Vũ Trang'}, {'id': 'Cơ Quan Có Thẩm Quyền'}, {'id': 'Đại Diện Quốc Gia'}, {'id': 'Kỳ Thi, Giải Đấu Quốc Tế'}, {'id': 'Ốm, Thai Sản Hoặc Tai Nạn'}, {'id': 'Cơ Sở Khám Bệnh, Chữa Bệnh'}, {'id': 'Lý Do Cá Nhân'}, {'id': 'Học Kỳ'}, {'id': 'Buộc Thôi Học'}, {'id': 'Kỷ Luật'}, {'id': 'Thời Gian Học Chính Thức'}, {'id': 'Thủ Tục Xin Nghỉ Học Tạm Thời'}, {'id': 'Khoa Quản Lý Ngành Đào Tạo'}, {'id': 'Phòng Đào Tạo Đại Học'}, {'id': 'Hiệu Trưởng', 'vai_trò': 'Ban hành Quyết định thành lập Hội đồng đánh giá kết quả rèn luyện'}, {'id': 'Người Học', 'trách_nhiệm': 'Nghiêm túc, trung thực, khách quan trong phản hồi', 'vai_trò': 'Tham gia đóng góp ý kiến thông qua khảo sát', 'định_nghĩa': 'Người học được đào tạo trình độ đại học hệ chính quy'}, {'id': 'Bảo Lưu Kết Quả Rèn Luyện'}, {'id': 'Nghỉ Học Tạm Thời, Tạm Ngừng Học'}, {'id': 'Sinh Viên', 'quyền_lợi': 'được bảo đảm điều kiện thực hiện đầy đủ nhiệm vụ và quyền trong quá trình học tập và rèn luyện tại trường', 'vai_trò': 'Lựa chọn phương án trả lời', 'định_nghĩa': 'người đang học chương trình đào tạo trình độ đại học hệ chính quy tại trường'}]}]\u001b[0m\n"
     ]
    },
    {
     "name": "stderr",
     "output_type": "stream",
     "text": [
      " 31%|███▏      | 27/86 [09:57<24:19, 24.73s/it]"
     ]
    },
    {
     "name": "stdout",
     "output_type": "stream",
     "text": [
      "\n",
      "\u001b[1m> Finished chain.\u001b[0m\n",
      "\n",
      "\n",
      "\u001b[1m> Entering new GraphCypherQAChain chain...\u001b[0m\n",
      "Generated Cypher:\n",
      "\u001b[32;1m\u001b[1;3mOPTIONAL MATCH (n)-[r]->(m)\n",
      "WHERE toLower(n.id) CONTAINS toLower('Sinh Viên') AND (type(r) = 'ĐƯỢC_CHUYỂN_QUA' OR type(r) = 'CHUYỂN_ĐÀO_TẠO')\n",
      "\n",
      "RETURN \n",
      "  collect(DISTINCT properties(n)) AS n_properties, \n",
      "  collect(DISTINCT type(r)) AS r_type, \n",
      "  collect(DISTINCT properties(r)) AS r_properties, \n",
      "  collect(DISTINCT properties(m)) AS m_properties\u001b[0m\n",
      "Full Context:\n",
      "\u001b[32;1m\u001b[1;3m[{'n_properties': [{'id': 'Sinh Viên', 'quyền_lợi': 'được bảo đảm điều kiện thực hiện đầy đủ nhiệm vụ và quyền trong quá trình học tập và rèn luyện tại trường', 'vai_trò': 'Lựa chọn phương án trả lời', 'định_nghĩa': 'người đang học chương trình đào tạo trình độ đại học hệ chính quy tại trường'}], 'r_type': ['ĐƯỢC_CHUYỂN_QUA'], 'r_properties': [{}], 'm_properties': [{'id': 'Chương Trình Đào Tạo Hình Thức Vừa Làm Vừa Học'}, {'id': 'Chương Trình Đào Tạo Ở Trình Độ Thấp Hơn'}]}]\u001b[0m\n"
     ]
    },
    {
     "name": "stderr",
     "output_type": "stream",
     "text": [
      " 33%|███▎      | 28/86 [10:17<22:33, 23.34s/it]"
     ]
    },
    {
     "name": "stdout",
     "output_type": "stream",
     "text": [
      "\n",
      "\u001b[1m> Finished chain.\u001b[0m\n",
      "\n",
      "\n",
      "\u001b[1m> Entering new GraphCypherQAChain chain...\u001b[0m\n",
      "Generated Cypher:\n",
      "\u001b[32;1m\u001b[1;3mOPTIONAL MATCH (n)-[r]-(m)\n",
      "WHERE toLower(n.id) CONTAINS toLower('Sinh Viên') AND toLower(m.id) CONTAINS toLower('Học Song Ngành')\n",
      "\n",
      "RETURN \n",
      "  collect(DISTINCT properties(n)) AS n_properties, \n",
      "  collect(DISTINCT type(r)) AS r_type, \n",
      "  collect(DISTINCT properties(r)) AS r_properties, \n",
      "  collect(DISTINCT properties(m)) AS m_properties\u001b[0m\n",
      "Full Context:\n",
      "\u001b[32;1m\u001b[1;3m[{'n_properties': [], 'r_type': [], 'r_properties': [], 'm_properties': []}]\u001b[0m\n"
     ]
    },
    {
     "name": "stderr",
     "output_type": "stream",
     "text": [
      " 34%|███▎      | 29/86 [10:38<21:26, 22.57s/it]"
     ]
    },
    {
     "name": "stdout",
     "output_type": "stream",
     "text": [
      "\n",
      "\u001b[1m> Finished chain.\u001b[0m\n",
      "\n",
      "\n",
      "\u001b[1m> Entering new GraphCypherQAChain chain...\u001b[0m\n",
      "Generated Cypher:\n",
      "\u001b[32;1m\u001b[1;3mOPTIONAL MATCH (n)-[r]-(m)\n",
      "WHERE toLower(n.id) CONTAINS toLower('học song ngành') OR toLower(n.id) CONTAINS toLower('yêu cầu')\n",
      "\n",
      "RETURN \n",
      "  collect(DISTINCT properties(n)) AS n_properties, \n",
      "  collect(DISTINCT type(r)) AS r_type, \n",
      "  collect(DISTINCT properties(r)) AS r_properties, \n",
      "  collect(DISTINCT properties(m)) AS m_properties\u001b[0m\n",
      "Full Context:\n",
      "\u001b[32;1m\u001b[1;3m[{'n_properties': [{'id': 'Yêu Cầu Của Công Tác Sinh Viên Ngoại Trú'}, {'id': 'Yêu Cầu Của Công Tác Sv Nội Trú'}], 'r_type': ['HỖ_TRỢ', 'PHỐI_HỢP', 'PHỐI_HỢP_GIẢI_QUYẾT', 'PHẢI_NẮM_BẮT', 'PHẢI_TUÂN_THỦ', 'BAO_GỒM', 'BẢO_ĐẢM', 'THỰC_HIỆN', 'QUY_ĐỊNH'], 'r_properties': [{}], 'm_properties': [{'id': 'An Toàn, Trật Tự, Văn Hóa Ở Nơi Cư Trú'}, {'id': 'Gia Đình Sinh Viên Ngoại Trú'}, {'id': 'Địa Phương'}, {'id': 'Nhà Trường', 'trách_nhiệm': 'Tổ chức thực hiện công tác sinh viên', 'vai_trò': 'tổ chức quản lý ký túc xá'}, {'id': 'Sinh Viên Ngoại Trú', 'định_nghĩa': 'Sinh viên không ở trong ký túc xá của trường'}, {'id': 'Tình Hình Sinh Viên'}, {'id': 'Quy Định Của Chính Quyền Địa Phương'}, {'id': 'Nội Quy, Quy Định Của Nhà Trường'}, {'id': 'Quy Chế Của Bộ Giáo Dục Và Đào Tạo'}, {'id': 'Chính Sách, Pháp Luật Của Nhà Nước'}, {'id': 'Chủ Trương, Đường Lối Của Đảng'}, {'tiêu_đề': 'Đánh giá về ý thức tham gia học tập', 'id': 'Điều 4'}, {'id': 'Ký Túc Xá', 'định_nghĩa': 'nơi để SV tạm trú trong thời gian học tại trường, do nhà trường tổ chức quản lý'}, {'id': 'Khu Nội Trú'}, {'id': 'Gia Đình Sv'}, {'id': 'Chính Quyền Địa Phương'}, {'id': 'Công An'}, {'id': 'Bộ Giáo Dục Và Đào Tạo', 'vai_trò': 'Chủ trì, phối hợp', 'phạm_vi': 'Các bộ, ngành liên quan'}, {'id': 'Nhà Nước'}, {'id': 'Đảng'}, {'tiêu_đề': 'Hình thức và cấu trúc đề kiểm tra', 'id': 'Điều 2'}]}]\u001b[0m\n"
     ]
    },
    {
     "name": "stderr",
     "output_type": "stream",
     "text": [
      " 35%|███▍      | 30/86 [10:57<20:14, 21.70s/it]"
     ]
    },
    {
     "name": "stdout",
     "output_type": "stream",
     "text": [
      "\n",
      "\u001b[1m> Finished chain.\u001b[0m\n",
      "\n",
      "\n",
      "\u001b[1m> Entering new GraphCypherQAChain chain...\u001b[0m\n",
      "Generated Cypher:\n",
      "\u001b[32;1m\u001b[1;3mOPTIONAL MATCH (n)-[r]->(m)\n",
      "WHERE toLower(n.id) CONTAINS toLower('Sinh Viên') AND toLower(m.id) CONTAINS toLower('Thi Hộ')\n",
      "\n",
      "OPTIONAL MATCH (n2)-[r2]->(m2)\n",
      "WHERE toLower(m2.id) CONTAINS toLower('Hình Thức Xử Lý') AND toLower(n2.id) CONTAINS toLower('Thi Hộ')\n",
      "\n",
      "RETURN \n",
      "  collect(DISTINCT properties(n)) AS sinh_vien,\n",
      "  collect(DISTINCT type(r)) AS quan_he_thi_ho,\n",
      "  collect(DISTINCT properties(r)) AS thuoc_tinh_quan_he,\n",
      "  collect(DISTINCT properties(m)) AS hanh_vi_thi_ho,\n",
      "  collect(DISTINCT properties(n2)) AS hanh_vi,\n",
      "  collect(DISTINCT type(r2)) AS quan_he_xu_ly,\n",
      "  collect(DISTINCT properties(r2)) AS thuoc_tinh_xu_ly,\n",
      "  collect(DISTINCT properties(m2)) AS hinh_thuc_xu_ly\u001b[0m\n",
      "Full Context:\n",
      "\u001b[32;1m\u001b[1;3m[{'sinh_vien': [{'id': 'Sinh Viên', 'quyền_lợi': 'được bảo đảm điều kiện thực hiện đầy đủ nhiệm vụ và quyền trong quá trình học tập và rèn luyện tại trường', 'vai_trò': 'Lựa chọn phương án trả lời', 'định_nghĩa': 'người đang học chương trình đào tạo trình độ đại học hệ chính quy tại trường'}], 'quan_he_thi_ho': ['CÓ'], 'thuoc_tinh_quan_he': [{}], 'hanh_vi_thi_ho': [{'id': 'Sinh Viên Thi Hộ Hoặc Nhờ Người Thi Hộ'}], 'hanh_vi': [], 'quan_he_xu_ly': [], 'thuoc_tinh_xu_ly': [], 'hinh_thuc_xu_ly': []}]\u001b[0m\n"
     ]
    },
    {
     "name": "stderr",
     "output_type": "stream",
     "text": [
      " 36%|███▌      | 31/86 [11:24<21:12, 23.14s/it]"
     ]
    },
    {
     "name": "stdout",
     "output_type": "stream",
     "text": [
      "\n",
      "\u001b[1m> Finished chain.\u001b[0m\n",
      "\n",
      "\n",
      "\u001b[1m> Entering new GraphCypherQAChain chain...\u001b[0m\n",
      "Generated Cypher:\n",
      "\u001b[32;1m\u001b[1;3mOPTIONAL MATCH (n)-[r]-(m)\n",
      "WHERE toLower(n.id) CONTAINS toLower('Chuẩn Đầu Ra Ngoại Ngữ') AND toLower(m.id) CONTAINS toLower('Sư Phạm Tiếng Anh')\n",
      "\n",
      "RETURN \n",
      "  collect(DISTINCT properties(n)) AS n_properties, \n",
      "  collect(DISTINCT type(r)) AS r_type, \n",
      "  collect(DISTINCT properties(r)) AS r_properties, \n",
      "  collect(DISTINCT properties(m)) AS m_properties\u001b[0m\n",
      "Full Context:\n",
      "\u001b[32;1m\u001b[1;3m[{'n_properties': [], 'r_type': [], 'r_properties': [], 'm_properties': []}]\u001b[0m\n"
     ]
    },
    {
     "name": "stderr",
     "output_type": "stream",
     "text": [
      " 37%|███▋      | 32/86 [11:44<19:59, 22.22s/it]"
     ]
    },
    {
     "name": "stdout",
     "output_type": "stream",
     "text": [
      "\n",
      "\u001b[1m> Finished chain.\u001b[0m\n",
      "\n",
      "\n",
      "\u001b[1m> Entering new GraphCypherQAChain chain...\u001b[0m\n",
      "Generated Cypher:\n",
      "\u001b[32;1m\u001b[1;3mOPTIONAL MATCH (n)\n",
      "WHERE toLower(n.id) CONTAINS toLower('Chuẩn Đầu Ra Tin Học')\n",
      "\n",
      "OPTIONAL MATCH (n)-[r]-(m)\n",
      "WHERE toLower(n.id) CONTAINS toLower('Chuẩn Đầu Ra Tin Học')\n",
      "\n",
      "RETURN \n",
      "  collect(DISTINCT properties(n)) AS n_properties,\n",
      "  collect(DISTINCT type(r)) AS r_type,\n",
      "  collect(DISTINCT properties(r)) AS r_properties,\n",
      "  collect(DISTINCT properties(m)) AS m_properties\u001b[0m\n",
      "Full Context:\n",
      "\u001b[32;1m\u001b[1;3m[{'n_properties': [{'id': 'Quy Định Chuẩn Đầu Ra Tin Học Đối Với Sinh Viên Đại Học Hệ Chính Quy', 'đối_tượng_áp_dụng': 'từ khóa tuyển sinh năm 2015 (khóa 38) trở đi', 'ngoại_lệ': 'sinh viên ngành Sư phạm Tin học, Công nghệ thông tin', 'phạm_vi': 'sinh viên đại học hệ chính quy Trường Đại học Quy Nhơn'}, {'id': 'Chuẩn Đầu Ra Tin Học', 'tham_chiếu': 'Thông tư số 03/2014/TT-BTTTT ngày 11/03/2014 của Bộ Thông tin và Truyền thông', 'điều_kiện': 'xét công nhận tốt nghiệp'}], 'r_type': ['THỰC_HIỆN', 'TRÁCH_NHIỆM', 'QUY_ĐỊNH', 'QUYẾT_ĐỊNH', 'YÊU_CẦU'], 'r_properties': [{}], 'm_properties': [{'id': 'Trung Tâm Tin Học Trường Đại Học Quy Nhơn'}, {'id': 'Trưởng Đơn Vị Có Liên Quan'}, {'id': 'Trưởng Phòng Công Tác Sinh Viên'}, {'id': 'Trưởng Phòng Đào Tạo Đại Học'}, {'id': 'Trưởng Phòng Khảo Thí Và Đảm Bảo Chất Lượng'}, {'id': 'Chuẩn Đầu Ra Tin Học', 'tham_chiếu': 'Thông tư số 03/2014/TT-BTTTT ngày 11/03/2014 của Bộ Thông tin và Truyền thông', 'điều_kiện': 'xét công nhận tốt nghiệp'}, {'id': 'Hiệu Trưởng', 'vai_trò': 'Ban hành Quyết định thành lập Hội đồng đánh giá kết quả rèn luyện'}, {'id': 'Chứng Chỉ Tin Học Quốc Tế Mos', 'yêu_cầu': 'đạt 3 chứng chỉ Word/Excel/PowerPoint'}, {'id': 'Chứng Chỉ Tin Học Quốc Tế Icdl', 'yêu_cầu': 'đạt ít nhất 6 mô đun sau: ICDL.01, ICDL.02, ICDL.03, ICDL.04, ICDL.05, ICDL.08'}, {'id': 'Chứng Chỉ Tin Học Quốc Tế Ic3'}, {'id': 'Chứng Chỉ Ứng Dụng Công Nghệ Thông Tin Cơ Bản', 'cấp_bởi': 'Trường Đại học Quy Nhơn'}, {'id': 'Quy Định Chuẩn Đầu Ra Tin Học Đối Với Sinh Viên Đại Học Hệ Chính Quy', 'đối_tượng_áp_dụng': 'từ khóa tuyển sinh năm 2015 (khóa 38) trở đi', 'ngoại_lệ': 'sinh viên ngành Sư phạm Tin học, Công nghệ thông tin', 'phạm_vi': 'sinh viên đại học hệ chính quy Trường Đại học Quy Nhơn'}]}]\u001b[0m\n"
     ]
    },
    {
     "name": "stderr",
     "output_type": "stream",
     "text": [
      " 38%|███▊      | 33/86 [12:08<20:08, 22.79s/it]"
     ]
    },
    {
     "name": "stdout",
     "output_type": "stream",
     "text": [
      "\n",
      "\u001b[1m> Finished chain.\u001b[0m\n",
      "\n",
      "\n",
      "\u001b[1m> Entering new GraphCypherQAChain chain...\u001b[0m\n",
      "Generated Cypher:\n",
      "\u001b[32;1m\u001b[1;3mOPTIONAL MATCH (n)-[r]->(m)\n",
      "WHERE toLower(n.id) CONTAINS toLower('Chứng Chỉ Tin Học')\n",
      "\n",
      "RETURN \n",
      "  collect(DISTINCT properties(n)) AS n_properties, \n",
      "  collect(DISTINCT type(r)) AS r_type, \n",
      "  collect(DISTINCT properties(r)) AS r_properties, \n",
      "  collect(DISTINCT properties(m)) AS m_properties\u001b[0m\n",
      "Full Context:\n",
      "\u001b[32;1m\u001b[1;3m[{'n_properties': [], 'r_type': [], 'r_properties': [], 'm_properties': []}]\u001b[0m\n"
     ]
    },
    {
     "name": "stderr",
     "output_type": "stream",
     "text": [
      " 40%|███▉      | 34/86 [12:24<17:58, 20.73s/it]"
     ]
    },
    {
     "name": "stdout",
     "output_type": "stream",
     "text": [
      "\n",
      "\u001b[1m> Finished chain.\u001b[0m\n",
      "\n",
      "\n",
      "\u001b[1m> Entering new GraphCypherQAChain chain...\u001b[0m\n",
      "Generated Cypher:\n",
      "\u001b[32;1m\u001b[1;3mOPTIONAL MATCH (n)-[r]-(m)\n",
      "WHERE toLower(n.id) CONTAINS toLower('Chuẩn Đầu Ra Tin Học')\n",
      "\n",
      "RETURN \n",
      "  collect(DISTINCT properties(n)) AS n_properties, \n",
      "  collect(DISTINCT type(r)) AS r_type, \n",
      "  collect(DISTINCT properties(r)) AS r_properties, \n",
      "  collect(DISTINCT properties(m)) AS m_properties\u001b[0m\n",
      "Full Context:\n",
      "\u001b[32;1m\u001b[1;3m[{'n_properties': [{'id': 'Quy Định Chuẩn Đầu Ra Tin Học Đối Với Sinh Viên Đại Học Hệ Chính Quy', 'đối_tượng_áp_dụng': 'từ khóa tuyển sinh năm 2015 (khóa 38) trở đi', 'ngoại_lệ': 'sinh viên ngành Sư phạm Tin học, Công nghệ thông tin', 'phạm_vi': 'sinh viên đại học hệ chính quy Trường Đại học Quy Nhơn'}, {'id': 'Chuẩn Đầu Ra Tin Học', 'tham_chiếu': 'Thông tư số 03/2014/TT-BTTTT ngày 11/03/2014 của Bộ Thông tin và Truyền thông', 'điều_kiện': 'xét công nhận tốt nghiệp'}], 'r_type': ['THỰC_HIỆN', 'TRÁCH_NHIỆM', 'QUY_ĐỊNH', 'QUYẾT_ĐỊNH', 'YÊU_CẦU'], 'r_properties': [{}], 'm_properties': [{'id': 'Trung Tâm Tin Học Trường Đại Học Quy Nhơn'}, {'id': 'Trưởng Đơn Vị Có Liên Quan'}, {'id': 'Trưởng Phòng Công Tác Sinh Viên'}, {'id': 'Trưởng Phòng Đào Tạo Đại Học'}, {'id': 'Trưởng Phòng Khảo Thí Và Đảm Bảo Chất Lượng'}, {'id': 'Chuẩn Đầu Ra Tin Học', 'tham_chiếu': 'Thông tư số 03/2014/TT-BTTTT ngày 11/03/2014 của Bộ Thông tin và Truyền thông', 'điều_kiện': 'xét công nhận tốt nghiệp'}, {'id': 'Hiệu Trưởng', 'vai_trò': 'Ban hành Quyết định thành lập Hội đồng đánh giá kết quả rèn luyện'}, {'id': 'Chứng Chỉ Tin Học Quốc Tế Mos', 'yêu_cầu': 'đạt 3 chứng chỉ Word/Excel/PowerPoint'}, {'id': 'Chứng Chỉ Tin Học Quốc Tế Icdl', 'yêu_cầu': 'đạt ít nhất 6 mô đun sau: ICDL.01, ICDL.02, ICDL.03, ICDL.04, ICDL.05, ICDL.08'}, {'id': 'Chứng Chỉ Tin Học Quốc Tế Ic3'}, {'id': 'Chứng Chỉ Ứng Dụng Công Nghệ Thông Tin Cơ Bản', 'cấp_bởi': 'Trường Đại học Quy Nhơn'}, {'id': 'Quy Định Chuẩn Đầu Ra Tin Học Đối Với Sinh Viên Đại Học Hệ Chính Quy', 'đối_tượng_áp_dụng': 'từ khóa tuyển sinh năm 2015 (khóa 38) trở đi', 'ngoại_lệ': 'sinh viên ngành Sư phạm Tin học, Công nghệ thông tin', 'phạm_vi': 'sinh viên đại học hệ chính quy Trường Đại học Quy Nhơn'}]}]\u001b[0m\n"
     ]
    },
    {
     "name": "stderr",
     "output_type": "stream",
     "text": [
      " 41%|████      | 35/86 [12:49<18:37, 21.91s/it]"
     ]
    },
    {
     "name": "stdout",
     "output_type": "stream",
     "text": [
      "\n",
      "\u001b[1m> Finished chain.\u001b[0m\n",
      "\n",
      "\n",
      "\u001b[1m> Entering new GraphCypherQAChain chain...\u001b[0m\n",
      "Generated Cypher:\n",
      "\u001b[32;1m\u001b[1;3mOPTIONAL MATCH (n)-[r]-(m)\n",
      "WHERE toLower(n.id) CONTAINS toLower('Nghĩa Vụ') AND toLower(m.id) CONTAINS toLower('Sinh Viên Ngoại Trú')\n",
      "\n",
      "RETURN \n",
      "  collect(DISTINCT properties(n)) AS n_properties, \n",
      "  collect(DISTINCT type(r)) AS r_type, \n",
      "  collect(DISTINCT properties(r)) AS r_properties, \n",
      "  collect(DISTINCT properties(m)) AS m_properties\u001b[0m\n",
      "Full Context:\n",
      "\u001b[32;1m\u001b[1;3m[{'n_properties': [{'id': 'Nghĩa Vụ Của Sinh Viên Ngoại Trú'}, {'id': 'Nghĩa Vụ Công Dân'}], 'r_type': ['ÁP_DỤNG_CHO', 'QUY_ĐỊNH'], 'r_properties': [{}], 'm_properties': [{'id': 'Sinh Viên Ngoại Trú', 'định_nghĩa': 'Sinh viên không ở trong ký túc xá của trường'}, {'id': 'Nghĩa Vụ Của Sinh Viên Ngoại Trú'}]}]\u001b[0m\n"
     ]
    },
    {
     "name": "stderr",
     "output_type": "stream",
     "text": [
      " 42%|████▏     | 36/86 [13:05<16:56, 20.32s/it]"
     ]
    },
    {
     "name": "stdout",
     "output_type": "stream",
     "text": [
      "\n",
      "\u001b[1m> Finished chain.\u001b[0m\n",
      "\n",
      "\n",
      "\u001b[1m> Entering new GraphCypherQAChain chain...\u001b[0m\n",
      "Generated Cypher:\n",
      "\u001b[32;1m\u001b[1;3mOPTIONAL MATCH (n)-[r]-(m)\n",
      "WHERE toLower(n.id) CONTAINS toLower('Ký Túc Xá')\n",
      "\n",
      "RETURN \n",
      "  collect(DISTINCT properties(n)) AS n_properties, \n",
      "  collect(DISTINCT type(r)) AS r_type, \n",
      "  collect(DISTINCT properties(r)) AS r_properties, \n",
      "  collect(DISTINCT properties(m)) AS m_properties\u001b[0m\n",
      "Full Context:\n",
      "\u001b[32;1m\u001b[1;3m[{'n_properties': [{'id': 'Ký Túc Xá', 'định_nghĩa': 'nơi để SV tạm trú trong thời gian học tại trường, do nhà trường tổ chức quản lý'}, {'id': 'Ký Túc Xá'}, {'id': 'Giải Pháp Xây Dựng Ký Túc Xá Văn Minh, Sạch Đẹp, An Toàn'}, {'id': 'Bộ Phận Quản Lý Ký Túc Xá'}, {'id': 'Cán Bộ Trực Ký Túc Xá'}, {'id': 'Công Tác Bảo Đảm An Ninh, Trật Tự, An Toàn, Phòng Chống Dịch Bệnh Và Các Tệ Nạn Xã Hội Trong Ký Túc Xá'}, {'id': 'Viên Chức Làm Công Tác Quản Lý Ký Túc Xá'}, {'id': 'Sv Trong Ký Túc Xá'}, {'id': 'Đưa Phản Vật Vào Trong Trường, Ký Túc Xá Ảnh Hưởng Xấu Đến An Ninh, Trật Tự Trong Nhà Trường'}], 'r_type': ['ĐƯỢC_XÉT_TIẾP_NHẬN', 'PHẢI_CÓ', 'KHÔNG_ĐƯỢC_TỔ_CHỨC', 'BAO_GỒM', 'ĐƯỢC_QUẢN_LÝ_BỞI', 'DÀNH_CHO', 'CÓ', 'BẢO_ĐẢM', 'QUẢN_LÝ', 'BẢO_ĐẢM_AN_NINH', 'KIỂM_TRA', 'CUNG_CẤP_CHỖ_Ở', 'XÂY_DỰNG', 'CHẤP_HÀNH_QUY_ĐỊNH', 'SỬ_DỤNG', 'ĐỀ_XUẤT', 'PHẢN_ÁNH', 'BÁO_CÁO', 'PHÂN_CÔNG', 'TỔ_CHỨC', 'PHÁT_HUY', 'QUY_ĐỊNH', 'THUỘC', 'XỬ_LÝ'], 'r_properties': [{}, {'mục_tiêu': 'văn minh, sạch đẹp, an toàn'}, {'theoHợpĐồng': 'Hợp đồng nội trú'}, {'nội_dung': 'vụ việc vi phạm nội quy, quy chế'}, {'thời_gian': 'quá 01 ngày'}, {'lần3': 'Đình chỉ có thời hạn', 'lần1': 'Khiển trách', 'lần4': 'Buộc thôi học', 'lần2': 'Cảnh cáo'}], 'm_properties': [{'id': 'Sinh Viên', 'quyền_lợi': 'được bảo đảm điều kiện thực hiện đầy đủ nhiệm vụ và quyền trong quá trình học tập và rèn luyện tại trường', 'vai_trò': 'Lựa chọn phương án trả lời', 'định_nghĩa': 'người đang học chương trình đào tạo trình độ đại học hệ chính quy tại trường'}, {'id': 'Dịch Vụ', 'mô_tả': 'các loại hình dịch vụ và các điều kiện đảm bảo sinh hoạt của SV nội trú'}, {'id': 'Khu Trông, Giữ Phương Tiện Giao Thông', 'mô_tả': 'bảo đảm an toàn, thuận tiện'}, {'id': 'Sinh Hoạt Tôn Giáo'}, {'id': 'Hoạt Động Mê Tín, Dị Đoan'}, {'id': 'Phòng Sinh Hoạt Chung'}, {'id': 'Phòng Ở'}, {'id': 'Nhà'}, {'id': 'Phương Tiện Thông Tin', 'mô_tả': 'phục vụ thông tin, phát thanh tuyên truyền cho SV trong ký túc xá'}, {'id': 'Văn Phòng Làm Việc', 'mô_tả': 'của Bộ phận quản lý ký túc xá'}, {'id': 'Phòng Trực'}, {'id': 'Nội Quy', 'mô_tả': 'đặt ở nơi dễ quan sát'}, {'id': 'Biển Tên', 'mô_tả': 'đặt tại cổng chính, ghi rõ tên gọi và địa chỉ đầy đủ bằng tiếng Việt'}, {'id': 'Nhà Trường', 'trách_nhiệm': 'Tổ chức thực hiện công tác sinh viên', 'vai_trò': 'tổ chức quản lý ký túc xá'}, {'id': 'Sv', 'vai_trò': 'tạm trú trong ký túc xá'}, {'id': 'Bảo Vệ Môi Trường'}, {'id': 'Thiết Bị Phòng Cháy Chữa Cháy'}, {'id': 'Yêu Cầu Của Công Tác Sv Nội Trú'}, {'id': 'Trung Tâm Hỗ Trợ Sinh Viên Và Quan Hệ Doanh Nghiệp', 'trách_nhiệm': 'giải quyết các vấn đề liên quan đến việc ký hợp đồng, sắp xếp chỗ ở, xây dựng nội quy ký túc xá, quản lý sinh viên trong ký túc xá', 'vai_trò': 'đầu mối'}, {'id': 'Công Tác Phối Hợp'}, {'id': 'Công Tác Quản Lý Sv Nội Trú'}, {'id': 'Sinh Viên Nội Trú'}, {'id': 'Cơ Quan Y Tế Địa Phương'}, {'id': 'Cán Bộ Y Tế Thường Trực'}, {'id': 'Phun Thuốc Đề Phòng Dịch Bệnh'}, {'id': 'Tuyên Truyền, Giáo Dục, Hướng Dẫn Sinh Viên'}, {'id': 'Hoạt Động Tự Quản Của Sinh Viên'}, {'id': 'Tổ Chức Đoàn Thể Trong Nhà Trường'}, {'id': 'Đội Tự Quản'}, {'id': 'Cán Bộ Quản Lý'}, {'id': 'Kế Hoạch Định Kỳ Kiểm Tra, Nâng Cấp, Sửa Chữa, Tu Bổ Công Trình Hạ Tầng Cơ Sở'}, {'tiêu_đề': 'Trình tự, thủ tục và hồ sơ xét kỷ luật', 'id': 'Điều 10'}, {'id': 'Các Hoạt Động Hỗ Trợ Cho Sv Nội Trú'}, {'tiêu_đề': 'Hệ thống tổ chức, quản lý công tác sinh viên nội trú', 'id': 'Điều 13'}, {'id': 'Phòng Công Tác Chính Trị - Sinh Viên', 'chức_năng': 'Thực hiện chức năng, nhiệm vụ theo quy định của Quy chế HSSV các trường đại học, cao đẳng, trung cấp chuyên nghiệp hệ chính quy của Bộ Giáo dục và Đào tạo'}]}]\u001b[0m\n"
     ]
    },
    {
     "name": "stderr",
     "output_type": "stream",
     "text": [
      " 43%|████▎     | 37/86 [13:24<16:17, 19.95s/it]"
     ]
    },
    {
     "name": "stdout",
     "output_type": "stream",
     "text": [
      "\n",
      "\u001b[1m> Finished chain.\u001b[0m\n",
      "\n",
      "\n",
      "\u001b[1m> Entering new GraphCypherQAChain chain...\u001b[0m\n",
      "Generated Cypher:\n",
      "\u001b[32;1m\u001b[1;3mOPTIONAL MATCH (n)-[r]->(m)\n",
      "WHERE toLower(n.id) CONTAINS toLower('Ký Túc Xá') AND type(r) = 'QUẢN_LÝ'\n",
      "\n",
      "RETURN \n",
      "  collect(DISTINCT properties(n)) AS n_properties, \n",
      "  collect(DISTINCT type(r)) AS r_type, \n",
      "  collect(DISTINCT properties(r)) AS r_properties, \n",
      "  collect(DISTINCT properties(m)) AS m_properties\u001b[0m\n",
      "Full Context:\n",
      "\u001b[32;1m\u001b[1;3m[{'n_properties': [], 'r_type': [], 'r_properties': [], 'm_properties': []}]\u001b[0m\n"
     ]
    },
    {
     "name": "stderr",
     "output_type": "stream",
     "text": [
      " 44%|████▍     | 38/86 [13:43<15:35, 19.49s/it]"
     ]
    },
    {
     "name": "stdout",
     "output_type": "stream",
     "text": [
      "\n",
      "\u001b[1m> Finished chain.\u001b[0m\n",
      "\n",
      "\n",
      "\u001b[1m> Entering new GraphCypherQAChain chain...\u001b[0m\n",
      "Generated Cypher:\n",
      "\u001b[32;1m\u001b[1;3mOPTIONAL MATCH (n)-[r]-(m)\n",
      "WHERE toLower(n.id) CONTAINS toLower('Sinh Viên') AND toLower(m.id) CONTAINS toLower('Khu Vực Tự Nấu Ăn')\n",
      "\n",
      "RETURN \n",
      "  collect(DISTINCT properties(n)) AS n_properties, \n",
      "  collect(DISTINCT type(r)) AS r_type, \n",
      "  collect(DISTINCT properties(r)) AS r_properties, \n",
      "  collect(DISTINCT properties(m)) AS m_properties\u001b[0m\n",
      "Full Context:\n",
      "\u001b[32;1m\u001b[1;3m[{'n_properties': [], 'r_type': [], 'r_properties': [], 'm_properties': []}]\u001b[0m\n"
     ]
    },
    {
     "name": "stderr",
     "output_type": "stream",
     "text": [
      " 45%|████▌     | 39/86 [13:58<14:23, 18.37s/it]"
     ]
    },
    {
     "name": "stdout",
     "output_type": "stream",
     "text": [
      "\n",
      "\u001b[1m> Finished chain.\u001b[0m\n",
      "\n",
      "\n",
      "\u001b[1m> Entering new GraphCypherQAChain chain...\u001b[0m\n",
      "Generated Cypher:\n",
      "\u001b[32;1m\u001b[1;3mOPTIONAL MATCH (n)-[r]-(m)\n",
      "WHERE toLower(n.id) CONTAINS toLower('Sinh Viên') AND toLower(m.id) CONTAINS toLower('Nhiệm Vụ')\n",
      "\n",
      "RETURN \n",
      "  collect(DISTINCT properties(n)) AS n_properties, \n",
      "  collect(DISTINCT type(r)) AS r_type, \n",
      "  collect(DISTINCT properties(r)) AS r_properties, \n",
      "  collect(DISTINCT properties(m)) AS m_properties\u001b[0m\n",
      "Full Context:\n",
      "\u001b[32;1m\u001b[1;3m[{'n_properties': [{'id': 'Sinh Viên', 'quyền_lợi': 'được bảo đảm điều kiện thực hiện đầy đủ nhiệm vụ và quyền trong quá trình học tập và rèn luyện tại trường', 'vai_trò': 'Lựa chọn phương án trả lời', 'định_nghĩa': 'người đang học chương trình đào tạo trình độ đại học hệ chính quy tại trường'}, {'id': 'Ban Cán Sự Lớp Sinh Viên', 'mô_tả': 'Lớp trưởng và các lớp phó do tập thể sinh viên trong lớp bầu, Trưởng khoa ra quyết định công nhận. Nhiệm kỳ ban cán sự lớp sinh viên theo năm học'}, {'id': 'Sinh Viên Sư Phạm', 'mô_tả': 'sinh viên học trình độ đại học, cao đẳng các ngành đào tạo giáo viên theo hình thức đào tạo chính quy, liên thông chính quy và sinh viên học văn bằng thứ 2 theo hình thức đào tạo chính quy trình độ đại học, cao đẳng các ngành đào tạo giáo viên có kết quả học lực văn bằng thứ 1 đạt loại giỏi', 'phân_loại': 'Đào tạo theo phương thức giao nhiệm vụ, đặt hàng hoặc đấu thầu hoặc theo nhu cầu xã hội.', 'vai_trò': 'Đối tượng được đào tạo và tuyển dụng'}, {'id': 'Danh Sách Sinh Viên Sư Phạm Được Hưởng Chính Sách Hỗ Trợ'}], 'r_type': ['THÔNG_BÁO', 'TỔ_CHỨC', 'XÉT_CHỌN', 'GỬI'], 'r_properties': [{}], 'm_properties': [{'id': 'Cơ Quan Giao Nhiệm Vụ'}, {'id': 'Nhiệm Vụ Rèn Luyện'}, {'id': 'Nhiệm Vụ Học Tập'}, {'id': 'Cơ Quan Giao Nhiệm Vụ, Đặt Hàng Hoặc Đấu Thầu', 'vai_trò': 'quyết định thực hiện giao nhiệm vụ, đặt hàng hoặc đấu thầu đào tạo giáo viên'}]}]\u001b[0m\n"
     ]
    },
    {
     "name": "stderr",
     "output_type": "stream",
     "text": [
      " 47%|████▋     | 40/86 [14:18<14:28, 18.87s/it]"
     ]
    },
    {
     "name": "stdout",
     "output_type": "stream",
     "text": [
      "\n",
      "\u001b[1m> Finished chain.\u001b[0m\n",
      "\n",
      "\n",
      "\u001b[1m> Entering new GraphCypherQAChain chain...\u001b[0m\n",
      "Generated Cypher:\n",
      "\u001b[32;1m\u001b[1;3mOPTIONAL MATCH (n)-[r]-(m)\n",
      "WHERE toLower(n.id) CONTAINS toLower('danh hiệu cá nhân')\n",
      "\n",
      "RETURN \n",
      "  collect(DISTINCT properties(n)) AS n_properties, \n",
      "  collect(DISTINCT type(r)) AS r_type, \n",
      "  collect(DISTINCT properties(r)) AS r_properties, \n",
      "  collect(DISTINCT properties(m)) AS m_properties\u001b[0m\n",
      "Full Context:\n",
      "\u001b[32;1m\u001b[1;3m[{'n_properties': [{'id': 'Danh Hiệu Cá Nhân', 'loại': 'Khá, Giỏi, Xuất sắc'}], 'r_type': ['KHÔNG_ÁP_DỤNG_NẾU', 'ĐƯỢC_LƯU_VÀO', 'PHỤ_THUỘC_VÀO', 'BAO_GỒM'], 'r_properties': [{}], 'm_properties': [{'id': 'Mức Trung Bình'}, {'id': 'Điểm Kết Thúc Học Phần'}, {'id': 'Kỷ Luật', 'mức_độ': 'Từ mức cảnh cáo trở lên'}, {'id': 'Hồ Sơ Quản Lý Sinh Viên'}, {'id': 'Xếp Loại Rèn Luyện'}, {'id': 'Xếp Loại Học Tập'}, {'id': 'Khen Thưởng Toàn Diện'}]}]\u001b[0m\n"
     ]
    },
    {
     "name": "stderr",
     "output_type": "stream",
     "text": [
      " 48%|████▊     | 41/86 [14:43<15:19, 20.43s/it]"
     ]
    },
    {
     "name": "stdout",
     "output_type": "stream",
     "text": [
      "\n",
      "\u001b[1m> Finished chain.\u001b[0m\n",
      "\n",
      "\n",
      "\u001b[1m> Entering new GraphCypherQAChain chain...\u001b[0m\n",
      "Generated Cypher:\n",
      "\u001b[32;1m\u001b[1;3mOPTIONAL MATCH (n)-[r]-(m)\n",
      "WHERE toLower(n.id) CONTAINS toLower('Hình Thức Kỷ Luật')\n",
      "\n",
      "RETURN \n",
      "  collect(DISTINCT properties(n)) AS n_properties, \n",
      "  collect(DISTINCT type(r)) AS r_type, \n",
      "  collect(DISTINCT properties(r)) AS r_properties, \n",
      "  collect(DISTINCT properties(m)) AS m_properties\u001b[0m\n",
      "Full Context:\n",
      "\u001b[32;1m\u001b[1;3m[{'n_properties': [{'id': 'Hình Thức Kỷ Luật', 'mô_tả': 'Các hình thức kỷ luật áp dụng cho sinh viên vi phạm', 'phạm_vi': 'Sinh viên'}], 'r_type': ['TUÂN_THỦ', 'KHIẾU_NẠI', 'RA_QUYẾT_ĐỊNH', 'KIẾN_NGHỊ', 'THÔNG_BÁO', 'LƯU_VÀO', 'BAO_GỒM', 'ÁP_DỤNG_CHO', 'QUY_ĐỊNH'], 'r_properties': [{}], 'm_properties': [{'id': 'Sinh Viên Đại Học Hệ Chính Quy'}, {'id': 'Tập Thể Sinh Viên'}, {'id': 'Cá Nhân Sinh Viên'}, {'id': 'Hiệu Trưởng', 'vai_trò': 'Ban hành Quyết định thành lập Hội đồng đánh giá kết quả rèn luyện'}, {'id': 'Hội Đồng Khen Thưởng Và Kỷ Luật Sinh Viên'}, {'id': 'Địa Phương'}, {'id': 'Gia Đình Sinh Viên'}, {'id': 'Hồ Sơ Quản Lý Sinh Viên'}, {'id': 'Buộc Thôi Học', 'mô_tả': 'Áp dụng đối với sinh viên đang trong thời gian bị đình chỉ học tập mà vẫn tiếp tục vi phạm kỷ luật hoặc vi phạm lần đầu nhưng có tính chất và mức độ vi phạm đặc biệt nghiêm trọng, gây ảnh hưởng xấu đến nhà trường và xã hội; vi phạm pháp luật bị xử phạt tù giam'}, {'id': 'Đình Chỉ Học Tập Có Thời Hạn', 'thời_hạn': 'Đình chỉ một học kỳ, đình chỉ một năm học hoặc đình chỉ theo thời gian sinh viên bị xử phạt tù nhưng cho hưởng án treo', 'mô_tả': 'Áp dụng đối với những sinh viên đang trong thời gian bị cảnh cáo mà vẫn vi phạm kỷ luật hoặc vi phạm nghiêm trọng các hành vi sinh viên không được làm; sinh viên vi phạm pháp luật bị xử phạt tù nhưng cho hưởng án treo'}, {'id': 'Cảnh Cáo', 'mô_tả': 'Áp dụng đối với sinh viên vi phạm một trong các lỗi: Đã bị khiển trách một lần nhưng trong giờ thi học phần đó vẫn tiếp tục vi phạm; trao đổi bài làm hoặc giấy nháp với sinh viên khác; chép bài của sinh viên khác; những bài thi đã được CBCT kết luận là giống nhau sẽ bị xử lý như nhau', 'quyết_định_bởi': 'CBCT', 'hậu_quả': 'Trừ 50% số điểm toàn bài thi của học phần dự thi'}, {'id': 'Phê Bình'}, {'id': 'Nhắc Nhở'}, {'id': 'Sinh Viên', 'quyền_lợi': 'được bảo đảm điều kiện thực hiện đầy đủ nhiệm vụ và quyền trong quá trình học tập và rèn luyện tại trường', 'vai_trò': 'Lựa chọn phương án trả lời', 'định_nghĩa': 'người đang học chương trình đào tạo trình độ đại học hệ chính quy tại trường'}, {'tiêu_đề': 'Phân loại kết quả rèn luyện', 'id': 'Điều 9'}]}]\u001b[0m\n"
     ]
    },
    {
     "name": "stderr",
     "output_type": "stream",
     "text": [
      " 49%|████▉     | 42/86 [15:18<18:23, 25.09s/it]"
     ]
    },
    {
     "name": "stdout",
     "output_type": "stream",
     "text": [
      "\n",
      "\u001b[1m> Finished chain.\u001b[0m\n",
      "\n",
      "\n",
      "\u001b[1m> Entering new GraphCypherQAChain chain...\u001b[0m\n",
      "Generated Cypher:\n",
      "\u001b[32;1m\u001b[1;3mOPTIONAL MATCH (n)-[r]-(m)\n",
      "WHERE toLower(n.id) CONTAINS toLower('Ban Cán Sự Lớp') OR toLower(n.id) CONTAINS toLower('Lớp Trưởng')\n",
      "\n",
      "RETURN \n",
      "  collect(DISTINCT properties(n)) AS n_properties, \n",
      "  collect(DISTINCT type(r)) AS r_type, \n",
      "  collect(DISTINCT properties(r)) AS r_properties, \n",
      "  collect(DISTINCT properties(m)) AS m_properties\u001b[0m\n",
      "Full Context:\n",
      "\u001b[32;1m\u001b[1;3m[{'n_properties': [{'id': 'Lớp Trưởng'}, {'id': 'Ban Cán Sự Lớp Sinh Viên', 'mô_tả': 'Lớp trưởng và các lớp phó do tập thể sinh viên trong lớp bầu, Trưởng khoa ra quyết định công nhận. Nhiệm kỳ ban cán sự lớp sinh viên theo năm học'}, {'id': 'Lớp Trưởng', 'vai_trò': 'Thành viên của Ban cán sự lớp sinh viên'}, {'id': 'Ban Cán Sự Lớp Học Phần', 'nhiệm_kỳ': 'theo thời gian học của học phần', 'ưu_tiên': 'cộng điểm rèn luyện và các chế độ khác theo quy định của nhà trường', 'trách_nhiệm': 'báo cáo việc chấp hành nội quy, quy chế của sinh viên trong lớp với khoa, phòng Công tác sinh viên', 'thành_viên': 'lớp trưởng và các lớp phó'}, {'id': 'Ban Cán Sự Lớp'}, {'id': 'Chỉ Định Ban Cán Sự Lớp'}], 'r_type': ['THEO_DÕI', 'ĐƯỢC_HƯỞNG', 'ĐƯỢC_CỘNG', 'BÁO_CÁO', 'PHỐI_HỢP', 'ĐỀ_NGHỊ', 'LIÊN_HỆ', 'ĐÔN_ĐỐC', 'TỔ_CHỨC', 'CÔNG_NHẬN', 'BẦU', 'BAO_GỒM', 'ĐƯỢC_ƯU_TIÊN', 'ĐƯỢC_CHỈ_ĐỊNH_BỞI', 'THÀNH_VIÊN'], 'r_properties': [{}], 'm_properties': [{'id': 'Sinh Viên', 'quyền_lợi': 'được bảo đảm điều kiện thực hiện đầy đủ nhiệm vụ và quyền trong quá trình học tập và rèn luyện tại trường', 'vai_trò': 'Lựa chọn phương án trả lời', 'định_nghĩa': 'người đang học chương trình đào tạo trình độ đại học hệ chính quy tại trường'}, {'id': 'Chế Độ Ưu Tiên'}, {'id': 'Điểm Rèn Luyện'}, {'id': 'Phòng Công Tác Sinh Viên', 'trách_nhiệm': 'thực hiện các nhiệm vụ cụ thể liên quan đến sinh viên ngoại trú', 'vai_trò': 'đầu mối xây dựng kế hoạch tham mưu cho Hiệu trưởng về công tác quản lý sinh viên ngoại trú'}, {'id': 'Hội Sinh Viên'}, {'id': 'Đoàn Tncs Hồ Chí Minh'}, {'id': 'Lãnh Đạo Nhà Trường'}, {'id': 'Phòng Chức Năng'}, {'id': 'Khoa', 'vai_trò': 'Tổ chức khảo sát cùng Phòng KT&ĐBCL'}, {'id': 'Giảng Viên Bộ Môn'}, {'id': 'Chủ Nhiệm Lớp'}, {'id': 'Quy Chế'}, {'id': 'Nội Quy', 'mô_tả': 'đặt ở nơi dễ quan sát'}, {'id': 'Hoạt Động Xã Hội'}, {'id': 'Hoạt Động Đời Sống'}, {'id': 'Hoạt Động Sinh Hoạt'}, {'id': 'Nhiệm Vụ Rèn Luyện'}, {'id': 'Nhiệm Vụ Học Tập'}, {'id': 'Trưởng Khoa'}, {'id': 'Tập Thể Sinh Viên'}, {'id': 'Lớp Phó', 'vai_trò': 'Thành viên của Ban cán sự lớp sinh viên'}, {'id': 'Lớp Trưởng', 'vai_trò': 'Thành viên của Ban cán sự lớp sinh viên'}, {'id': 'Ban Cán Sự Lớp Sinh Viên', 'mô_tả': 'Lớp trưởng và các lớp phó do tập thể sinh viên trong lớp bầu, Trưởng khoa ra quyết định công nhận. Nhiệm kỳ ban cán sự lớp sinh viên theo năm học'}, {'id': 'Nhà Trường'}, {'id': 'Phòng Công Tác Sinh Viên'}, {'id': 'Khoa'}, {'id': 'Hội Đồng Cấp Khoa', 'thành_phần': 'Chủ tịch, Ủy viên', 'nhiệm_vụ': 'Giúp Trưởng khoa xem xét, đánh giá kết quả rèn luyện', 'thẩm_quyền_thành_lập': 'Trưởng khoa hoặc Phó trưởng khoa được ủy quyền'}, {'id': 'Công Tác Hành Chính'}]}]\u001b[0m\n"
     ]
    },
    {
     "name": "stderr",
     "output_type": "stream",
     "text": [
      " 50%|█████     | 43/86 [15:45<18:13, 25.43s/it]"
     ]
    },
    {
     "name": "stdout",
     "output_type": "stream",
     "text": [
      "\n",
      "\u001b[1m> Finished chain.\u001b[0m\n",
      "\n",
      "\n",
      "\u001b[1m> Entering new GraphCypherQAChain chain...\u001b[0m\n",
      "Generated Cypher:\n",
      "\u001b[32;1m\u001b[1;3mOPTIONAL MATCH (n)-[r]-(m)\n",
      "WHERE toLower(n.id) CONTAINS toLower('Đánh giá kết quả học tập')\n",
      "\n",
      "RETURN \n",
      "  collect(DISTINCT properties(n)) AS n_properties, \n",
      "  collect(DISTINCT type(r)) AS r_type, \n",
      "  collect(DISTINCT properties(r)) AS r_properties, \n",
      "  collect(DISTINCT properties(m)) AS m_properties\u001b[0m\n",
      "Full Context:\n",
      "\u001b[32;1m\u001b[1;3m[{'n_properties': [{'id': 'Đánh Giá Kết Quả Học Tập'}, {'id': 'Đánh Giá Kết Quả Học Tập Theo Học Kỳ, Năm Học'}, {'id': 'Gian Lận Trong Thi, Kiểm Tra, Đánh Giá Kết Quả Học Tập'}, {'id': 'Đánh Giá Kết Quả Học Tập', 'mục_đích': 'Đánh giá kết quả học tập của sinh viên theo mục tiêu và chuẩn đầu ra của học phần nhằm đáp ứng chuẩn đầu ra của chương trình đào tạo'}], 'r_type': ['BAO_GỒM', 'LIÊN_QUAN_ĐẾN', 'ÁP_DỤNG_CHO', 'QUY_ĐỊNH', 'DẪN_ĐẾN', 'CÓ', 'PHẢI_TUÂN_THỦ', 'ĐÁP_ỨNG'], 'r_properties': [{}], 'm_properties': [{'id': 'Quy Chế Này', 'mô_tả': 'quy định việc tổ chức và quản lý đào tạo trình độ đại học'}, {'id': 'Năm Học'}, {'id': 'Học Kỳ'}, {'id': 'Sinh Viên', 'quyền_lợi': 'được bảo đảm điều kiện thực hiện đầy đủ nhiệm vụ và quyền trong quá trình học tập và rèn luyện tại trường', 'vai_trò': 'Lựa chọn phương án trả lời', 'định_nghĩa': 'người đang học chương trình đào tạo trình độ đại học hệ chính quy tại trường'}, {'tiêu_đề': 'Chế độ báo cáo', 'id': 'Điều 18'}, {'id': 'Xử Lý Kỷ Luật'}, {'id': 'Công Bằng', 'phạm_vi': 'Đối với tất cả sinh viên trong lớp, giữa các lớp, các khóa học và các hình thức đào tạo'}, {'id': 'Nghiêm Túc, Khách Quan, Tin Cậy Và Trung Thực'}, {'id': 'Chương Trình Đào Tạo', 'đơn_vị_tín_chỉ': 'được xây dựng theo đơn vị tín chỉ', 'cấu_trúc': 'từ các môn học hoặc học phần', 'mô_tả': 'Nơi các học phần Tiếng Anh 1, Tiếng Anh 2 thuộc về', 'yêu_cầu': 'đã được tổ chức đào tạo tối thiểu 03 khóa liên tục theo hình thức chính quy', 'phạm_vi': 'áp dụng chung đối với các hình thức, phương thức tổ chức đào tạo và đối tượng người học khác nhau', 'từ_năm': '2024', 'yêu_cầu_chất_lượng': 'đã được công nhận đạt tiêu chuẩn chất lượng'}]}]\u001b[0m\n"
     ]
    },
    {
     "name": "stderr",
     "output_type": "stream",
     "text": [
      " 51%|█████     | 44/86 [16:05<16:47, 23.99s/it]"
     ]
    },
    {
     "name": "stdout",
     "output_type": "stream",
     "text": [
      "\n",
      "\u001b[1m> Finished chain.\u001b[0m\n",
      "\n",
      "\n",
      "\u001b[1m> Entering new GraphCypherQAChain chain...\u001b[0m\n",
      "Generated Cypher:\n",
      "\u001b[32;1m\u001b[1;3mOPTIONAL MATCH (n)-[r]-(m)\n",
      "WHERE toLower(n.id) CONTAINS toLower('Kỳ Thi Phụ')\n",
      "\n",
      "RETURN \n",
      "  collect(DISTINCT properties(n)) AS n_properties, \n",
      "  collect(DISTINCT type(r)) AS r_type, \n",
      "  collect(DISTINCT properties(r)) AS r_properties, \n",
      "  collect(DISTINCT properties(m)) AS m_properties\u001b[0m\n",
      "Full Context:\n",
      "\u001b[32;1m\u001b[1;3m[{'n_properties': [{'id': 'Kỳ Thi Phụ'}, {'id': 'Kỳ Thi Phụ, Thi Lại'}], 'r_type': ['DÀNH_CHO', 'QUYẾT_ĐỊNH', 'TỔ_CHỨC_TRONG', 'THUỘC'], 'r_properties': [{}, {'thời_gian': '05 ngày'}], 'm_properties': [{'id': 'Sinh Viên Hoãn Thi Có Lý Do Chính Đáng'}, {'id': 'Sinh Viên Bị Trùng Lịch Thi'}, {'id': 'Sinh Viên Học Cải Thiện Điểm'}, {'id': 'Sinh Viên Học Vượt'}, {'id': 'Hiệu Trưởng', 'vai_trò': 'Ban hành Quyết định thành lập Hội đồng đánh giá kết quả rèn luyện'}, {'id': 'Thi Bổ Sung'}, {'id': 'Kế Hoạch Thi Kết Thúc Học Phần'}]}]\u001b[0m\n"
     ]
    },
    {
     "name": "stderr",
     "output_type": "stream",
     "text": [
      " 52%|█████▏    | 45/86 [16:26<15:39, 22.92s/it]"
     ]
    },
    {
     "name": "stdout",
     "output_type": "stream",
     "text": [
      "\n",
      "\u001b[1m> Finished chain.\u001b[0m\n",
      "\n",
      "\n",
      "\u001b[1m> Entering new GraphCypherQAChain chain...\u001b[0m\n",
      "Generated Cypher:\n",
      "\u001b[32;1m\u001b[1;3mOPTIONAL MATCH (n)-[r]-(m)\n",
      "WHERE toLower(n.id) CONTAINS toLower('Điểm học phần') AND toLower(m.id) CONTAINS toLower('giới hạn điểm')\n",
      "\n",
      "RETURN \n",
      "  collect(DISTINCT properties(n)) AS n_properties, \n",
      "  collect(DISTINCT type(r)) AS r_type, \n",
      "  collect(DISTINCT properties(r)) AS r_properties, \n",
      "  collect(DISTINCT properties(m)) AS m_properties\u001b[0m\n",
      "Full Context:\n",
      "\u001b[32;1m\u001b[1;3m[{'n_properties': [], 'r_type': [], 'r_properties': [], 'm_properties': []}]\u001b[0m\n"
     ]
    },
    {
     "name": "stderr",
     "output_type": "stream",
     "text": [
      " 53%|█████▎    | 46/86 [16:44<14:19, 21.50s/it]"
     ]
    },
    {
     "name": "stdout",
     "output_type": "stream",
     "text": [
      "\n",
      "\u001b[1m> Finished chain.\u001b[0m\n",
      "\n",
      "\n",
      "\u001b[1m> Entering new GraphCypherQAChain chain...\u001b[0m\n",
      "Generated Cypher:\n",
      "\u001b[32;1m\u001b[1;3mOPTIONAL MATCH (n)-[r]-(m)\n",
      "WHERE toLower(n.id) CONTAINS toLower('Thang Điểm 10')\n",
      "\n",
      "RETURN \n",
      "  collect(DISTINCT properties(n)) AS n_properties, \n",
      "  collect(DISTINCT type(r)) AS r_type, \n",
      "  collect(DISTINCT properties(r)) AS r_properties, \n",
      "  collect(DISTINCT properties(m)) AS m_properties\u001b[0m\n",
      "Full Context:\n",
      "\u001b[32;1m\u001b[1;3m[{'n_properties': [{'id': 'Thang Điểm 10', 'mô_tả': 'Gồm các số từ 0 đến 10 (với một số lẻ thập phân)'}, {'id': 'Thang Điểm 100'}], 'r_type': ['SỬ_DỤNG', 'TÍNH_THEO', 'CHẤM_THEO', 'DÙNG_ĐỂ_ĐÁNH_GIÁ', 'TƯƠNG_ỨNG', 'QUY_ĐỊNH', 'ĐƯỢC_ĐÁNH_GIÁ_BẰNG'], 'r_properties': [{}], 'm_properties': [{'id': 'Kiểm Tra, Đánh Giá Năng Lực Tiếng Anh Đầu Khóa'}, {'id': 'Điểm Đánh Giá', 'cách_tính': 'Trung bình cộng các điểm thành phần', 'quy_đổi': 'Theo thang điểm chữ', 'thang_điểm': '10'}, {'id': 'Bài Thi'}, {'id': 'Điểm Học Phần', 'tính_chất': 'Tính từ tổng các điểm thành phần nhân với trọng số tương ứng'}, {'id': 'Xếp Loại Học Tập'}, {'id': 'Thang Điểm 4', 'mô_tả': 'Dùng để tính điểm trung bình chung học kỳ, trung bình chung tích lũy'}, {'id': 'Thang Điểm Chữ', 'mô_tả': 'Dùng để xếp loại học phần'}, {'tiêu_đề': 'Đánh giá và tính điểm học phần', 'id': 'Điều 11'}, {'id': 'Điểm Rèn Luyện'}]}]\u001b[0m\n"
     ]
    },
    {
     "name": "stderr",
     "output_type": "stream",
     "text": [
      " 55%|█████▍    | 47/86 [17:02<13:15, 20.41s/it]"
     ]
    },
    {
     "name": "stdout",
     "output_type": "stream",
     "text": [
      "\n",
      "\u001b[1m> Finished chain.\u001b[0m\n",
      "\n",
      "\n",
      "\u001b[1m> Entering new GraphCypherQAChain chain...\u001b[0m\n",
      "Generated Cypher:\n",
      "\u001b[32;1m\u001b[1;3mOPTIONAL MATCH (n)\n",
      "WHERE toLower(n.id) CONTAINS toLower('Thang Điểm 4')\n",
      "\n",
      "OPTIONAL MATCH (n)-[r]->(m)\n",
      "WHERE toLower(n.id) CONTAINS toLower('Thang Điểm 4')\n",
      "\n",
      "RETURN \n",
      "  collect(DISTINCT properties(n)) AS n_properties,\n",
      "  collect(DISTINCT type(r)) AS r_type,\n",
      "  collect(DISTINCT properties(r)) AS r_properties,\n",
      "  collect(DISTINCT properties(m)) AS m_properties\u001b[0m\n",
      "Full Context:\n",
      "\u001b[32;1m\u001b[1;3m[{'n_properties': [{'id': 'Thang Điểm 4', 'mô_tả': 'Dùng để tính điểm trung bình chung học kỳ, trung bình chung tích lũy'}], 'r_type': ['DÙNG_ĐỂ_TÍNH', 'TƯƠNG_ỨNG'], 'r_properties': [{}], 'm_properties': [{'id': 'Điểm Học Phần', 'tính_chất': 'Tính từ tổng các điểm thành phần nhân với trọng số tương ứng'}, {'id': 'Thang Điểm 10', 'mô_tả': 'Gồm các số từ 0 đến 10 (với một số lẻ thập phân)'}]}]\u001b[0m\n"
     ]
    },
    {
     "name": "stderr",
     "output_type": "stream",
     "text": [
      " 56%|█████▌    | 48/86 [17:19<12:22, 19.53s/it]"
     ]
    },
    {
     "name": "stdout",
     "output_type": "stream",
     "text": [
      "\n",
      "\u001b[1m> Finished chain.\u001b[0m\n",
      "\n",
      "\n",
      "\u001b[1m> Entering new GraphCypherQAChain chain...\u001b[0m\n",
      "Generated Cypher:\n",
      "\u001b[32;1m\u001b[1;3mOPTIONAL MATCH (n)-[r]-(m)\n",
      "WHERE toLower(n.id) CONTAINS toLower('Sinh Viên') AND toLower(m.id) CONTAINS toLower('Hoãn Thi')\n",
      "\n",
      "RETURN \n",
      "  collect(DISTINCT properties(n)) AS n_properties, \n",
      "  collect(DISTINCT type(r)) AS r_type, \n",
      "  collect(DISTINCT properties(r)) AS r_properties, \n",
      "  collect(DISTINCT properties(m)) AS m_properties\u001b[0m\n",
      "Full Context:\n",
      "\u001b[32;1m\u001b[1;3m[{'n_properties': [{'id': 'Sinh Viên', 'quyền_lợi': 'được bảo đảm điều kiện thực hiện đầy đủ nhiệm vụ và quyền trong quá trình học tập và rèn luyện tại trường', 'vai_trò': 'Lựa chọn phương án trả lời', 'định_nghĩa': 'người đang học chương trình đào tạo trình độ đại học hệ chính quy tại trường'}], 'r_type': ['ĐƯỢC_PHÉP', 'PHẢI_NỘP'], 'r_properties': [{}], 'm_properties': [{'id': 'Hoãn Thi Kết Thúc Học Phần'}, {'id': 'Đơn Đề Nghị Hoãn Thi'}]}]\u001b[0m\n"
     ]
    },
    {
     "name": "stderr",
     "output_type": "stream",
     "text": [
      " 57%|█████▋    | 49/86 [17:37<11:45, 19.06s/it]"
     ]
    },
    {
     "name": "stdout",
     "output_type": "stream",
     "text": [
      "\n",
      "\u001b[1m> Finished chain.\u001b[0m\n",
      "\n",
      "\n",
      "\u001b[1m> Entering new GraphCypherQAChain chain...\u001b[0m\n",
      "Generated Cypher:\n",
      "\u001b[32;1m\u001b[1;3mOPTIONAL MATCH (n)-[r]-(m)\n",
      "WHERE toLower(n.id) CONTAINS toLower('hoãn thi kết thúc học phần')\n",
      "\n",
      "RETURN \n",
      "  collect(DISTINCT properties(n)) AS n_properties, \n",
      "  collect(DISTINCT type(r)) AS r_type, \n",
      "  collect(DISTINCT properties(r)) AS r_properties, \n",
      "  collect(DISTINCT properties(m)) AS m_properties\u001b[0m\n",
      "Full Context:\n",
      "\u001b[32;1m\u001b[1;3m[{'n_properties': [{'id': 'Hoãn Thi Kết Thúc Học Phần'}], 'r_type': ['CẦN_CHẤP_THUẬN', 'KHI', 'ĐƯỢC_PHÉP'], 'r_properties': [{}], 'm_properties': [{'id': 'Phòng Khảo Thí Và Bảo Đảm Chất Lượng', 'nhiệm_vụ': 'Thu nhận, kiểm tra chứng chỉ, giấy chứng nhận đạt giải của sinh viên để chuyển đổi điểm các học phần Tiếng Anh 1, Tiếng Anh 2', 'vai_trò': 'Làm đầu mối triển khai thực hiện việc tổ chức kiểm tra, đánh giá'}, {'id': 'Trưởng Bộ Môn'}, {'id': 'Trưởng Khoa Quản Lý Ngành Đào Tạo'}, {'id': 'Lý Do Chính Đáng Khác'}, {'id': 'Tai Nạn'}, {'id': 'Bị Ốm'}, {'id': 'Sinh Viên', 'quyền_lợi': 'được bảo đảm điều kiện thực hiện đầy đủ nhiệm vụ và quyền trong quá trình học tập và rèn luyện tại trường', 'vai_trò': 'Lựa chọn phương án trả lời', 'định_nghĩa': 'người đang học chương trình đào tạo trình độ đại học hệ chính quy tại trường'}]}]\u001b[0m\n"
     ]
    },
    {
     "name": "stderr",
     "output_type": "stream",
     "text": [
      " 58%|█████▊    | 50/86 [17:59<11:54, 19.84s/it]"
     ]
    },
    {
     "name": "stdout",
     "output_type": "stream",
     "text": [
      "\n",
      "\u001b[1m> Finished chain.\u001b[0m\n",
      "\n",
      "\n",
      "\u001b[1m> Entering new GraphCypherQAChain chain...\u001b[0m\n",
      "Generated Cypher:\n",
      "\u001b[32;1m\u001b[1;3mOPTIONAL MATCH (n)-[r]->(m)\n",
      "WHERE toLower(n.id) CONTAINS toLower('Sinh Viên') AND toLower(m.id) CONTAINS toLower('Vắng Thi Không Có Lý Do Chính Đáng')\n",
      "\n",
      "RETURN \n",
      "  collect(DISTINCT properties(n)) AS n_properties, \n",
      "  collect(DISTINCT type(r)) AS r_type, \n",
      "  collect(DISTINCT properties(r)) AS r_properties, \n",
      "  collect(DISTINCT properties(m)) AS m_properties\u001b[0m\n",
      "Full Context:\n",
      "\u001b[32;1m\u001b[1;3m[{'n_properties': [{'id': 'Sinh Viên', 'quyền_lợi': 'được bảo đảm điều kiện thực hiện đầy đủ nhiệm vụ và quyền trong quá trình học tập và rèn luyện tại trường', 'vai_trò': 'Lựa chọn phương án trả lời', 'định_nghĩa': 'người đang học chương trình đào tạo trình độ đại học hệ chính quy tại trường'}], 'r_type': ['PHẢI_CHỊU'], 'r_properties': [{}], 'm_properties': [{'id': 'Vắng Thi Không Có Lý Do Chính Đáng'}]}]\u001b[0m\n"
     ]
    },
    {
     "name": "stderr",
     "output_type": "stream",
     "text": [
      " 59%|█████▉    | 51/86 [18:16<11:03, 18.94s/it]"
     ]
    },
    {
     "name": "stdout",
     "output_type": "stream",
     "text": [
      "\n",
      "\u001b[1m> Finished chain.\u001b[0m\n",
      "\n",
      "\n",
      "\u001b[1m> Entering new GraphCypherQAChain chain...\u001b[0m\n",
      "Generated Cypher:\n",
      "\u001b[32;1m\u001b[1;3mOPTIONAL MATCH (n)-[r]->(m)\n",
      "WHERE toLower(n.id) CONTAINS toLower('Đề Thi Kết Thúc Học Phần')\n",
      "\n",
      "RETURN \n",
      "  collect(DISTINCT properties(n)) AS n_properties, \n",
      "  collect(DISTINCT type(r)) AS r_type, \n",
      "  collect(DISTINCT properties(r)) AS r_properties, \n",
      "  collect(DISTINCT properties(m)) AS m_properties\u001b[0m\n",
      "Full Context:\n",
      "\u001b[32;1m\u001b[1;3m[{'n_properties': [{'id': 'Đề Thi Kết Thúc Học Phần', 'yêu_cầu': 'Phù hợp với nội dung và chuẩn đầu ra học phần đã quy định trong đề cương chi tiết học phần'}], 'r_type': ['BAO_GỒM'], 'r_properties': [{}], 'm_properties': [{'id': 'Đồ Án Môn Học'}, {'id': 'Đề Án Môn Học'}, {'id': 'Tiểu Luận'}, {'id': 'Đề Thi Thực Hành'}, {'id': 'Đề Thi Vấn Đáp'}, {'id': 'Đề Thi Trắc Nghiệm'}, {'id': 'Đề Thi Tự Luận'}]}]\u001b[0m\n"
     ]
    },
    {
     "name": "stderr",
     "output_type": "stream",
     "text": [
      " 60%|██████    | 52/86 [18:35<10:46, 19.02s/it]"
     ]
    },
    {
     "name": "stdout",
     "output_type": "stream",
     "text": [
      "\n",
      "\u001b[1m> Finished chain.\u001b[0m\n",
      "\n",
      "\n",
      "\u001b[1m> Entering new GraphCypherQAChain chain...\u001b[0m\n",
      "Generated Cypher:\n",
      "\u001b[32;1m\u001b[1;3mOPTIONAL MATCH (n)-[r]-(m)\n",
      "WHERE toLower(n.id) CONTAINS toLower('Túi đựng đề thi')\n",
      "\n",
      "RETURN \n",
      "  collect(DISTINCT properties(n)) AS n_properties, \n",
      "  collect(DISTINCT type(r)) AS r_type, \n",
      "  collect(DISTINCT properties(r)) AS r_properties, \n",
      "  collect(DISTINCT properties(m)) AS m_properties\u001b[0m\n",
      "Full Context:\n",
      "\u001b[32;1m\u001b[1;3m[{'n_properties': [{'id': 'Túi Đựng Đề Thi'}], 'r_type': ['GHI_THÔNG_TIN'], 'r_properties': [{}], 'm_properties': [{'id': 'Địa Điểm Thi'}, {'id': 'Số Lượng Đề Thi'}, {'id': 'Thời Gian Làm Bài'}, {'id': 'Giờ Thi'}, {'id': 'Ngày Thi'}, {'id': 'Số Tín Chỉ'}, {'id': 'Mã Học Phần'}, {'id': 'Tên Học Phần'}, {'id': 'Bộ Môn Thuộc Trường'}, {'id': 'Khoa Quản Lý Học Phần'}]}]\u001b[0m\n"
     ]
    },
    {
     "name": "stderr",
     "output_type": "stream",
     "text": [
      " 62%|██████▏   | 53/86 [18:53<10:19, 18.78s/it]"
     ]
    },
    {
     "name": "stdout",
     "output_type": "stream",
     "text": [
      "\n",
      "\u001b[1m> Finished chain.\u001b[0m\n",
      "\n",
      "\n",
      "\u001b[1m> Entering new GraphCypherQAChain chain...\u001b[0m\n",
      "Generated Cypher:\n",
      "\u001b[32;1m\u001b[1;3mOPTIONAL MATCH (n)-[r]-(m)\n",
      "WHERE toLower(n.id) CONTAINS toLower('Đề Thi Trắc Nghiệm') OR toLower(n.id) CONTAINS toLower('Ngân Hàng Câu Hỏi')\n",
      "\n",
      "RETURN \n",
      "  collect(DISTINCT properties(n)) AS n_properties, \n",
      "  collect(DISTINCT type(r)) AS r_type, \n",
      "  collect(DISTINCT properties(r)) AS r_properties, \n",
      "  collect(DISTINCT properties(m)) AS m_properties\u001b[0m\n",
      "Full Context:\n",
      "\u001b[32;1m\u001b[1;3m[{'n_properties': [{'id': 'Đề Thi Trắc Nghiệm'}, {'id': 'Ngân Hàng Câu Hỏi Thi Trắc Nghiệm', 'mô_tả': 'Được sử dụng đối với các học phần có hình thức thi trắc nghiệm trên máy tính', 'yêu_cầu': 'Cấu trúc đề thi theo ma trận, nội dung khoa học, đáp ứng chuẩn đầu ra, số lượng tối thiểu 200 câu/học phần/01 tín chỉ, dạng câu hỏi 04 lựa chọn hoặc điền khuyết'}, {'id': 'Tổ Biên Soạn Ngân Hàng Câu Hỏi Thi Trắc Nghiệm', 'vai_trò': 'Xây dựng ma trận đề thi, biên soạn câu hỏi và đáp án, hoàn thiện ngân hàng câu hỏi'}], 'r_type': ['TẠO_ĐỀ', 'SỬ_DỤNG', 'BAO_GỒM', 'CẬP_NHẬT', 'THẨM_ĐỊNH', 'BIÊN_SOẠN', 'HƯỚNG_DẪN', 'THEO_CẤU_TRÚC', 'QUY_ĐỊNH'], 'r_properties': [{}], 'm_properties': [{'id': 'Cán Bộ Quản Lý Phần Mềm Thi Trắc Nghiệm'}, {'id': 'Ngân Hàng Câu Hỏi Thi Trắc Nghiệm', 'mô_tả': 'Được sử dụng đối với các học phần có hình thức thi trắc nghiệm trên máy tính', 'yêu_cầu': 'Cấu trúc đề thi theo ma trận, nội dung khoa học, đáp ứng chuẩn đầu ra, số lượng tối thiểu 200 câu/học phần/01 tín chỉ, dạng câu hỏi 04 lựa chọn hoặc điền khuyết'}, {'id': 'Đề Thi Kết Thúc Học Phần', 'yêu_cầu': 'Phù hợp với nội dung và chuẩn đầu ra học phần đã quy định trong đề cương chi tiết học phần'}, {'id': 'Phòng Khảo Thí Và Bảo Đảm Chất Lượng', 'nhiệm_vụ': 'Thu nhận, kiểm tra chứng chỉ, giấy chứng nhận đạt giải của sinh viên để chuyển đổi điểm các học phần Tiếng Anh 1, Tiếng Anh 2', 'vai_trò': 'Làm đầu mối triển khai thực hiện việc tổ chức kiểm tra, đánh giá'}, {'id': 'Bộ Môn Thuộc Trường'}, {'id': 'Khoa Quản Lý Học Phần'}, {'id': 'Hội Đồng Thẩm Định Cấp Trường', 'vai_trò': 'Thẩm định ngân hàng câu hỏi thi trắc nghiệm'}, {'id': 'Tổ Biên Soạn Ngân Hàng Câu Hỏi Thi Trắc Nghiệm', 'vai_trò': 'Xây dựng ma trận đề thi, biên soạn câu hỏi và đáp án, hoàn thiện ngân hàng câu hỏi'}, {'id': 'Câu Hỏi Thi Trắc Nghiệm', 'dạng': '04 lựa chọn (A, B, C, D) hoặc điền khuyết'}, {'id': 'Ma Trận Đề Thi'}, {'tiêu_đề': 'Trình tự, thủ tục và hồ sơ xét kỷ luật', 'id': 'Điều 10'}, {'id': 'Đề Thi Trắc Nghiệm'}]}]\u001b[0m\n"
     ]
    },
    {
     "name": "stderr",
     "output_type": "stream",
     "text": [
      " 63%|██████▎   | 54/86 [19:16<10:37, 19.93s/it]"
     ]
    },
    {
     "name": "stdout",
     "output_type": "stream",
     "text": [
      "\n",
      "\u001b[1m> Finished chain.\u001b[0m\n",
      "\n",
      "\n",
      "\u001b[1m> Entering new GraphCypherQAChain chain...\u001b[0m\n",
      "Generated Cypher:\n",
      "\u001b[32;1m\u001b[1;3mOPTIONAL MATCH (n)-[r]-(m)\n",
      "WHERE toLower(n.id) CONTAINS toLower('Website Của Trường')\n",
      "\n",
      "RETURN \n",
      "  collect(DISTINCT properties(n)) AS n_properties, \n",
      "  collect(DISTINCT type(r)) AS r_type, \n",
      "  collect(DISTINCT properties(r)) AS r_properties, \n",
      "  collect(DISTINCT properties(m)) AS m_properties\u001b[0m\n",
      "Full Context:\n",
      "\u001b[32;1m\u001b[1;3m[{'n_properties': [{'id': 'Website Của Trường'}], 'r_type': ['CUNG_CẤP', 'TRUY_CẬP', 'CÔNG_KHAI'], 'r_properties': [{}], 'm_properties': [{'id': 'Hướng Dẫn Thi Trực Tuyến'}, {'id': 'Thông Báo'}, {'id': 'Lịch Thi'}, {'id': 'Sinh Viên', 'quyền_lợi': 'được bảo đảm điều kiện thực hiện đầy đủ nhiệm vụ và quyền trong quá trình học tập và rèn luyện tại trường', 'vai_trò': 'Lựa chọn phương án trả lời', 'định_nghĩa': 'người đang học chương trình đào tạo trình độ đại học hệ chính quy tại trường'}, {'id': 'Trung Tâm Tvts&Qhdn'}]}]\u001b[0m\n"
     ]
    },
    {
     "name": "stderr",
     "output_type": "stream",
     "text": [
      " 64%|██████▍   | 55/86 [19:35<10:14, 19.82s/it]"
     ]
    },
    {
     "name": "stdout",
     "output_type": "stream",
     "text": [
      "\n",
      "\u001b[1m> Finished chain.\u001b[0m\n",
      "\n",
      "\n",
      "\u001b[1m> Entering new GraphCypherQAChain chain...\u001b[0m\n",
      "Generated Cypher:\n",
      "\u001b[32;1m\u001b[1;3mOPTIONAL MATCH (n)-[r]-(m)\n",
      "WHERE toLower(n.id) CONTAINS toLower('Sinh Viên') AND type(r) = 'KHÔNG_ĐƯỢC_MANG'\n",
      "\n",
      "RETURN \n",
      "  collect(DISTINCT properties(n)) AS n_properties, \n",
      "  collect(DISTINCT type(r)) AS r_type, \n",
      "  collect(DISTINCT properties(r)) AS r_properties, \n",
      "  collect(DISTINCT properties(m)) AS m_properties\u001b[0m\n",
      "Full Context:\n",
      "\u001b[32;1m\u001b[1;3m[{'n_properties': [{'id': 'Sinh Viên', 'quyền_lợi': 'được bảo đảm điều kiện thực hiện đầy đủ nhiệm vụ và quyền trong quá trình học tập và rèn luyện tại trường', 'vai_trò': 'Lựa chọn phương án trả lời', 'định_nghĩa': 'người đang học chương trình đào tạo trình độ đại học hệ chính quy tại trường'}], 'r_type': ['KHÔNG_ĐƯỢC_MANG'], 'r_properties': [{}], 'm_properties': [{'id': 'Tài Liệu'}, {'id': 'Thiết Bị Chứa Đựng Thông Tin'}, {'id': 'Ghi Âm'}, {'id': 'Phương Tiện Kỹ Thuật Thu, Phát, Truyền Tin'}, {'id': 'Điện Thoại Di Động'}]}]\u001b[0m\n"
     ]
    },
    {
     "name": "stderr",
     "output_type": "stream",
     "text": [
      " 65%|██████▌   | 56/86 [19:54<09:45, 19.51s/it]"
     ]
    },
    {
     "name": "stdout",
     "output_type": "stream",
     "text": [
      "\n",
      "\u001b[1m> Finished chain.\u001b[0m\n",
      "\n",
      "\n",
      "\u001b[1m> Entering new GraphCypherQAChain chain...\u001b[0m\n",
      "Generated Cypher:\n",
      "\u001b[32;1m\u001b[1;3mOPTIONAL MATCH (n)-[r]-(m)\n",
      "WHERE toLower(n.id) CONTAINS toLower('Hội đồng đánh giá khoá luận tốt nghiệp')\n",
      "\n",
      "RETURN \n",
      "  collect(DISTINCT properties(n)) AS n_properties, \n",
      "  collect(DISTINCT type(r)) AS r_type, \n",
      "  collect(DISTINCT properties(r)) AS r_properties, \n",
      "  collect(DISTINCT properties(m)) AS m_properties\u001b[0m\n",
      "Full Context:\n",
      "\u001b[32;1m\u001b[1;3m[{'n_properties': [], 'r_type': [], 'r_properties': [], 'm_properties': []}]\u001b[0m\n"
     ]
    },
    {
     "name": "stderr",
     "output_type": "stream",
     "text": [
      " 66%|██████▋   | 57/86 [20:09<08:49, 18.26s/it]"
     ]
    },
    {
     "name": "stdout",
     "output_type": "stream",
     "text": [
      "\n",
      "\u001b[1m> Finished chain.\u001b[0m\n",
      "\n",
      "\n",
      "\u001b[1m> Entering new GraphCypherQAChain chain...\u001b[0m\n",
      "Generated Cypher:\n",
      "\u001b[32;1m\u001b[1;3mOPTIONAL MATCH (n)-[r]-(m)\n",
      "WHERE toLower(n.id) CONTAINS toLower('Đánh giá khoá luận tốt nghiệp') OR toLower(n.id) CONTAINS toLower('Bảo vệ trực tuyến')\n",
      "\n",
      "RETURN \n",
      "  collect(DISTINCT properties(n)) AS n_properties, \n",
      "  collect(DISTINCT type(r)) AS r_type, \n",
      "  collect(DISTINCT properties(r)) AS r_properties, \n",
      "  collect(DISTINCT properties(m)) AS m_properties\u001b[0m\n",
      "Full Context:\n",
      "\u001b[32;1m\u001b[1;3m[{'n_properties': [{'id': 'Bảo Vệ Trực Tuyến'}], 'r_type': ['YÊU_CẦU', 'CÓ_THỂ_THỰC_HIỆN'], 'r_properties': [{}], 'm_properties': [{'id': 'Ghi Hình, Ghi Âm'}, {'id': 'Hội Đồng Chuyên Môn', 'vai_trò': 'Xem xét công nhận, chuyển đổi tín chỉ', 'số_thành_viên': 'ít nhất 3'}, {'id': 'Đánh Giá Đồ Án, Khóa Luận Tốt Nghiệp'}]}]\u001b[0m\n"
     ]
    },
    {
     "name": "stderr",
     "output_type": "stream",
     "text": [
      " 67%|██████▋   | 58/86 [20:34<09:25, 20.18s/it]"
     ]
    },
    {
     "name": "stdout",
     "output_type": "stream",
     "text": [
      "\n",
      "\u001b[1m> Finished chain.\u001b[0m\n",
      "\n",
      "\n",
      "\u001b[1m> Entering new GraphCypherQAChain chain...\u001b[0m\n",
      "Generated Cypher:\n",
      "\u001b[32;1m\u001b[1;3mOPTIONAL MATCH (n)-[r]-(m)\n",
      "WHERE toLower(n.id) CONTAINS toLower('bảo vệ khoá luận trực tuyến') OR toLower(n.yêu_cầu) CONTAINS toLower('bảo vệ khoá luận trực tuyến')\n",
      "\n",
      "RETURN \n",
      "  collect(DISTINCT properties(n)) AS n_properties, \n",
      "  collect(DISTINCT type(r)) AS r_type, \n",
      "  collect(DISTINCT properties(r)) AS r_properties, \n",
      "  collect(DISTINCT properties(m)) AS m_properties\u001b[0m\n",
      "Full Context:\n",
      "\u001b[32;1m\u001b[1;3m[{'n_properties': [], 'r_type': [], 'r_properties': [], 'm_properties': []}]\u001b[0m\n"
     ]
    },
    {
     "name": "stderr",
     "output_type": "stream",
     "text": [
      " 69%|██████▊   | 59/86 [20:54<09:06, 20.23s/it]"
     ]
    },
    {
     "name": "stdout",
     "output_type": "stream",
     "text": [
      "\n",
      "\u001b[1m> Finished chain.\u001b[0m\n",
      "\n",
      "\n",
      "\u001b[1m> Entering new GraphCypherQAChain chain...\u001b[0m\n",
      "Generated Cypher:\n",
      "\u001b[32;1m\u001b[1;3mOPTIONAL MATCH (n)-[r1]->(m)\n",
      "WHERE toLower(n.id) CONTAINS toLower('Giảng Viên') AND type(r1) = 'BỊ_BUỘC_THÔI_HỌC'\n",
      "\n",
      "RETURN \n",
      "  collect(DISTINCT properties(n)) AS n_properties, \n",
      "  collect(DISTINCT type(r1)) AS r1_type, \n",
      "  collect(DISTINCT properties(r1)) AS r1_properties,\n",
      "  collect(DISTINCT properties(m)) AS m_properties\u001b[0m\n",
      "Full Context:\n",
      "\u001b[32;1m\u001b[1;3m[{'n_properties': [], 'r1_type': [], 'r1_properties': [], 'm_properties': []}]\u001b[0m\n"
     ]
    },
    {
     "name": "stderr",
     "output_type": "stream",
     "text": [
      " 70%|██████▉   | 60/86 [21:18<09:14, 21.32s/it]"
     ]
    },
    {
     "name": "stdout",
     "output_type": "stream",
     "text": [
      "\n",
      "\u001b[1m> Finished chain.\u001b[0m\n",
      "\n",
      "\n",
      "\u001b[1m> Entering new GraphCypherQAChain chain...\u001b[0m\n",
      "Generated Cypher:\n",
      "\u001b[32;1m\u001b[1;3mOPTIONAL MATCH (n)-[r]->(m)\n",
      "WHERE toLower(n.id) CONTAINS toLower('Hình Thức Xử Lý') AND toLower(m.id) CONTAINS toLower('Buộc Thôi Học')\n",
      "\n",
      "RETURN \n",
      "  collect(DISTINCT properties(n)) AS n_properties, \n",
      "  collect(DISTINCT type(r)) AS r_type, \n",
      "  collect(DISTINCT properties(r)) AS r_properties, \n",
      "  collect(DISTINCT properties(m)) AS m_properties\u001b[0m\n",
      "Full Context:\n",
      "\u001b[32;1m\u001b[1;3m[{'n_properties': [], 'r_type': [], 'r_properties': [], 'm_properties': []}]\u001b[0m\n"
     ]
    },
    {
     "name": "stderr",
     "output_type": "stream",
     "text": [
      " 71%|███████   | 61/86 [21:37<08:34, 20.57s/it]"
     ]
    },
    {
     "name": "stdout",
     "output_type": "stream",
     "text": [
      "\n",
      "\u001b[1m> Finished chain.\u001b[0m\n",
      "\n",
      "\n",
      "\u001b[1m> Entering new GraphCypherQAChain chain...\u001b[0m\n",
      "Generated Cypher:\n",
      "\u001b[32;1m\u001b[1;3mOPTIONAL MATCH (n)-[r1]->(m)\n",
      "WHERE toLower(n.id) CONTAINS toLower('Hình Thức Kỷ Luật') AND toLower(m.id) CONTAINS toLower('Sinh Viên')\n",
      "\n",
      "OPTIONAL MATCH (n2)-[r2]->(m2)\n",
      "WHERE toLower(n2.id) CONTAINS toLower('Quy Chế Thi') AND toLower(m2.id) CONTAINS toLower('Vi Phạm')\n",
      "\n",
      "RETURN \n",
      "  collect(DISTINCT properties(n)) AS hinh_thuc_ky_luat,\n",
      "  collect(DISTINCT type(r1)) AS r1_type,\n",
      "  collect(DISTINCT properties(r1)) AS r1_properties,\n",
      "  collect(DISTINCT properties(m)) AS sinh_vien,\n",
      "  collect(DISTINCT properties(n2)) AS quy_che_thi,\n",
      "  collect(DISTINCT type(r2)) AS r2_type,\n",
      "  collect(DISTINCT properties(r2)) AS r2_properties,\n",
      "  collect(DISTINCT properties(m2)) AS vi_pham\u001b[0m\n",
      "Full Context:\n",
      "\u001b[32;1m\u001b[1;3m[{'hinh_thuc_ky_luat': [{'id': 'Hình Thức Kỷ Luật', 'mô_tả': 'Các hình thức kỷ luật áp dụng cho sinh viên vi phạm', 'phạm_vi': 'Sinh viên'}], 'r1_type': ['THÔNG_BÁO', 'LƯU_VÀO', 'ÁP_DỤNG_CHO'], 'r1_properties': [{}], 'sinh_vien': [{'id': 'Gia Đình Sinh Viên'}, {'id': 'Hồ Sơ Quản Lý Sinh Viên'}, {'id': 'Sinh Viên', 'quyền_lợi': 'được bảo đảm điều kiện thực hiện đầy đủ nhiệm vụ và quyền trong quá trình học tập và rèn luyện tại trường', 'vai_trò': 'Lựa chọn phương án trả lời', 'định_nghĩa': 'người đang học chương trình đào tạo trình độ đại học hệ chính quy tại trường'}], 'quy_che_thi': [], 'r2_type': [], 'r2_properties': [], 'vi_pham': []}]\u001b[0m\n"
     ]
    },
    {
     "name": "stderr",
     "output_type": "stream",
     "text": [
      " 72%|███████▏  | 62/86 [22:03<08:52, 22.19s/it]"
     ]
    },
    {
     "name": "stdout",
     "output_type": "stream",
     "text": [
      "\n",
      "\u001b[1m> Finished chain.\u001b[0m\n",
      "\n",
      "\n",
      "\u001b[1m> Entering new GraphCypherQAChain chain...\u001b[0m\n",
      "Generated Cypher:\n",
      "\u001b[32;1m\u001b[1;3mOPTIONAL MATCH (n)-[r]-(m)\n",
      "WHERE toLower(n.id) CONTAINS toLower('Sinh Viên Sư Phạm') AND toLower(type(r)) CONTAINS toLower('HỖ_TRỢ')\n",
      "\n",
      "OPTIONAL MATCH (n2)-[r2]-(m2)\n",
      "WHERE toLower(n2.id) CONTAINS toLower('Chính Sách Hỗ Trợ Sinh Viên Sư Phạm')\n",
      "\n",
      "RETURN \n",
      "  collect(DISTINCT properties(n)) AS n_properties,\n",
      "  collect(DISTINCT type(r)) AS r_type,\n",
      "  collect(DISTINCT properties(r)) AS r_properties,\n",
      "  collect(DISTINCT properties(m)) AS m_properties,\n",
      "  collect(DISTINCT properties(n2)) AS n2_properties,\n",
      "  collect(DISTINCT type(r2)) AS r2_type,\n",
      "  collect(DISTINCT properties(r2)) AS r2_properties,\n",
      "  collect(DISTINCT properties(m2)) AS m2_properties\u001b[0m\n",
      "Full Context:\n",
      "\u001b[32;1m\u001b[1;3m[{'n_properties': [{'id': 'Sinh Viên Sư Phạm', 'mô_tả': 'sinh viên học trình độ đại học, cao đẳng các ngành đào tạo giáo viên theo hình thức đào tạo chính quy, liên thông chính quy và sinh viên học văn bằng thứ 2 theo hình thức đào tạo chính quy trình độ đại học, cao đẳng các ngành đào tạo giáo viên có kết quả học lực văn bằng thứ 1 đạt loại giỏi', 'phân_loại': 'Đào tạo theo phương thức giao nhiệm vụ, đặt hàng hoặc đấu thầu hoặc theo nhu cầu xã hội.', 'vai_trò': 'Đối tượng được đào tạo và tuyển dụng'}], 'r_type': ['HỖ_TRỢ', 'ĐƯỢC_HỖ_TRỢ'], 'r_properties': [{}, {'mức_hỗ_trợ': '3,63 triệu đồng/tháng', 'hình_thức': 'chi phí sinh hoạt'}], 'm_properties': [{'id': 'Bộ Giáo Dục Và Đào Tạo', 'vai_trò': 'Chủ trì, phối hợp', 'phạm_vi': 'Các bộ, ngành liên quan'}, {'id': 'Ngân Sách Nhà Nước'}, {'id': 'Nhà Nước'}], 'n2_properties': [{'id': 'Chính Sách Hỗ Trợ Sinh Viên Sư Phạm'}], 'r2_type': ['CHỈ_ĐẠO'], 'r2_properties': [{}], 'm2_properties': [{'id': 'Ủy Ban Nhân Dân Cấp Tỉnh', 'vai_trò': 'Thực hiện các trách nhiệm liên quan đến đào tạo giáo viên', 'phạm_vi': 'Địa phương'}]}]\u001b[0m\n"
     ]
    },
    {
     "name": "stderr",
     "output_type": "stream",
     "text": [
      " 73%|███████▎  | 63/86 [22:30<08:59, 23.46s/it]"
     ]
    },
    {
     "name": "stdout",
     "output_type": "stream",
     "text": [
      "\n",
      "\u001b[1m> Finished chain.\u001b[0m\n",
      "\n",
      "\n",
      "\u001b[1m> Entering new GraphCypherQAChain chain...\u001b[0m\n",
      "Generated Cypher:\n",
      "\u001b[32;1m\u001b[1;3mOPTIONAL MATCH (n)-[r]-(m)\n",
      "WHERE toLower(n.id) CONTAINS toLower('Sinh Viên Sư Phạm') AND toLower(m.id) CONTAINS toLower('Hỗ Trợ')\n",
      "\n",
      "OPTIONAL MATCH (n2)-[r2]-(m2)\n",
      "WHERE toLower(n2.id) CONTAINS toLower('Chính Sách Hỗ Trợ Sinh Viên Sư Phạm')\n",
      "\n",
      "OPTIONAL MATCH (n3)-[r3]-(m3)\n",
      "WHERE toLower(m3.id) CONTAINS toLower('Giá Trị')\n",
      "\n",
      "RETURN \n",
      "  collect(DISTINCT properties(n)) AS n_properties,\n",
      "  collect(DISTINCT type(r)) AS r_type,\n",
      "  collect(DISTINCT properties(r)) AS r_properties,\n",
      "  collect(DISTINCT properties(m)) AS m_properties,\n",
      "  collect(DISTINCT properties(n2)) AS n2_properties,\n",
      "  collect(DISTINCT type(r2)) AS r2_type,\n",
      "  collect(DISTINCT properties(r2)) AS r2_properties,\n",
      "  collect(DISTINCT properties(m2)) AS m2_properties,\n",
      "  collect(DISTINCT properties(n3)) AS n3_properties,\n",
      "  collect(DISTINCT type(r3)) AS r3_type,\n",
      "  collect(DISTINCT properties(r3)) AS r3_properties,\n",
      "  collect(DISTINCT properties(m3)) AS m3_properties\u001b[0m\n",
      "Full Context:\n",
      "\u001b[32;1m\u001b[1;3m[{'n_properties': [{'id': 'Sinh Viên Sư Phạm', 'mô_tả': 'sinh viên học trình độ đại học, cao đẳng các ngành đào tạo giáo viên theo hình thức đào tạo chính quy, liên thông chính quy và sinh viên học văn bằng thứ 2 theo hình thức đào tạo chính quy trình độ đại học, cao đẳng các ngành đào tạo giáo viên có kết quả học lực văn bằng thứ 1 đạt loại giỏi', 'phân_loại': 'Đào tạo theo phương thức giao nhiệm vụ, đặt hàng hoặc đấu thầu hoặc theo nhu cầu xã hội.', 'vai_trò': 'Đối tượng được đào tạo và tuyển dụng'}], 'r_type': ['ÁP_DỤNG', 'QUY_ĐỊNH'], 'r_properties': [{}, {'điều_kiện': 'phải bồi hoàn kinh phí hỗ trợ tiền đóng học phí và chi phí sinh hoạt'}], 'm_properties': [{'id': 'Thu Hồi Kinh Phí Hỗ Trợ'}, {'id': 'Bồi Hoàn Kinh Phí Hỗ Trợ'}], 'n2_properties': [{'id': 'Chính Sách Hỗ Trợ Sinh Viên Sư Phạm'}], 'r2_type': ['CHỈ_ĐẠO'], 'r2_properties': [{}], 'm2_properties': [{'id': 'Ủy Ban Nhân Dân Cấp Tỉnh', 'vai_trò': 'Thực hiện các trách nhiệm liên quan đến đào tạo giáo viên', 'phạm_vi': 'Địa phương'}], 'n3_properties': [], 'r3_type': [], 'r3_properties': [], 'm3_properties': []}]\u001b[0m\n"
     ]
    },
    {
     "name": "stderr",
     "output_type": "stream",
     "text": [
      " 74%|███████▍  | 64/86 [22:55<08:51, 24.14s/it]"
     ]
    },
    {
     "name": "stdout",
     "output_type": "stream",
     "text": [
      "\n",
      "\u001b[1m> Finished chain.\u001b[0m\n",
      "\n",
      "\n",
      "\u001b[1m> Entering new GraphCypherQAChain chain...\u001b[0m\n",
      "Generated Cypher:\n",
      "\u001b[32;1m\u001b[1;3mOPTIONAL MATCH (n)-[r]-(m)\n",
      "WHERE toLower(n.id) CONTAINS toLower('Nhà nước') AND toLower(m.id) CONTAINS toLower('sinh viên sư phạm') AND type(r) = 'HỖ_TRỢ'\n",
      "\n",
      "OPTIONAL MATCH (n2)-[r2]-(m2)\n",
      "WHERE toLower(n2.id) CONTAINS toLower('Chính Sách Hỗ Trợ Sinh Viên Sư Phạm') AND toLower(m2.id) CONTAINS toLower('Chi Phí Sinh Hoạt')\n",
      "\n",
      "RETURN \n",
      "  collect(DISTINCT properties(n)) AS n_properties,\n",
      "  collect(DISTINCT type(r)) AS r_type,\n",
      "  collect(DISTINCT properties(r)) AS r_properties,\n",
      "  collect(DISTINCT properties(m)) AS m_properties,\n",
      "  collect(DISTINCT properties(n2)) AS n2_properties,\n",
      "  collect(DISTINCT type(r2)) AS r2_type,\n",
      "  collect(DISTINCT properties(r2)) AS r2_properties,\n",
      "  collect(DISTINCT properties(m2)) AS m2_properties\u001b[0m\n",
      "Full Context:\n",
      "\u001b[32;1m\u001b[1;3m[{'n_properties': [{'id': 'Nhà Nước'}], 'r_type': ['HỖ_TRỢ'], 'r_properties': [{'mức_hỗ_trợ': '3,63 triệu đồng/tháng', 'hình_thức': 'chi phí sinh hoạt'}], 'm_properties': [{'id': 'Sinh Viên Sư Phạm', 'mô_tả': 'sinh viên học trình độ đại học, cao đẳng các ngành đào tạo giáo viên theo hình thức đào tạo chính quy, liên thông chính quy và sinh viên học văn bằng thứ 2 theo hình thức đào tạo chính quy trình độ đại học, cao đẳng các ngành đào tạo giáo viên có kết quả học lực văn bằng thứ 1 đạt loại giỏi', 'phân_loại': 'Đào tạo theo phương thức giao nhiệm vụ, đặt hàng hoặc đấu thầu hoặc theo nhu cầu xã hội.', 'vai_trò': 'Đối tượng được đào tạo và tuyển dụng'}], 'n2_properties': [], 'r2_type': [], 'r2_properties': [], 'm2_properties': []}]\u001b[0m\n"
     ]
    },
    {
     "name": "stderr",
     "output_type": "stream",
     "text": [
      " 76%|███████▌  | 65/86 [23:25<09:04, 25.91s/it]"
     ]
    },
    {
     "name": "stdout",
     "output_type": "stream",
     "text": [
      "\n",
      "\u001b[1m> Finished chain.\u001b[0m\n",
      "\n",
      "\n",
      "\u001b[1m> Entering new GraphCypherQAChain chain...\u001b[0m\n",
      "Generated Cypher:\n",
      "\u001b[32;1m\u001b[1;3mOPTIONAL MATCH (n)-[r]-(m)\n",
      "WHERE toLower(n.id) CONTAINS toLower('Thời hạn đóng học phí') \n",
      "AND toLower(m.id) CONTAINS toLower('Học kỳ chính')\n",
      "\n",
      "RETURN \n",
      "  collect(DISTINCT properties(n)) AS n_properties,\n",
      "  collect(DISTINCT type(r)) AS r_type,\n",
      "  collect(DISTINCT properties(r)) AS r_properties,\n",
      "  collect(DISTINCT properties(m)) AS m_properties\u001b[0m\n",
      "Full Context:\n",
      "\u001b[32;1m\u001b[1;3m[{'n_properties': [{'tiêu_đề': 'Thời hạn đóng học phí', 'id': 'Thời Hạn Đóng Học Phí'}], 'r_type': ['ÁP_DỤNG'], 'r_properties': [{'thời_gian': '60 ngày kể từ ngày học đầu tiên của học kỳ'}], 'm_properties': [{'id': 'Học Kỳ Chính'}]}]\u001b[0m\n"
     ]
    },
    {
     "name": "stderr",
     "output_type": "stream",
     "text": [
      " 77%|███████▋  | 66/86 [23:45<08:03, 24.18s/it]"
     ]
    },
    {
     "name": "stdout",
     "output_type": "stream",
     "text": [
      "\n",
      "\u001b[1m> Finished chain.\u001b[0m\n",
      "\n",
      "\n",
      "\u001b[1m> Entering new GraphCypherQAChain chain...\u001b[0m\n",
      "Generated Cypher:\n",
      "\u001b[32;1m\u001b[1;3mOPTIONAL MATCH (n)-[r]-(m)\n",
      "WHERE toLower(n.id) CONTAINS toLower('Thời hạn đóng học phí') \n",
      "AND toLower(m.id) CONTAINS toLower('Học kỳ phụ')\n",
      "\n",
      "RETURN \n",
      "  collect(DISTINCT properties(n)) AS n_properties,\n",
      "  collect(DISTINCT type(r)) AS r_type,\n",
      "  collect(DISTINCT properties(r)) AS r_properties,\n",
      "  collect(DISTINCT properties(m)) AS m_properties\u001b[0m\n",
      "Full Context:\n",
      "\u001b[32;1m\u001b[1;3m[{'n_properties': [{'tiêu_đề': 'Thời hạn đóng học phí', 'id': 'Thời Hạn Đóng Học Phí'}], 'r_type': ['ÁP_DỤNG'], 'r_properties': [{'thời_gian': '15 ngày kể từ ngày kết thúc đăng ký các học phần'}], 'm_properties': [{'id': 'Học Kỳ Phụ', 'quyết_định_bởi': 'Hiệu trưởng', 'định_nghĩa': 'Được tổ chức ngoài các học kỳ chính'}]}]\u001b[0m\n"
     ]
    },
    {
     "name": "stderr",
     "output_type": "stream",
     "text": [
      " 78%|███████▊  | 67/86 [24:09<07:34, 23.93s/it]"
     ]
    },
    {
     "name": "stdout",
     "output_type": "stream",
     "text": [
      "\n",
      "\u001b[1m> Finished chain.\u001b[0m\n",
      "\n",
      "\n",
      "\u001b[1m> Entering new GraphCypherQAChain chain...\u001b[0m\n",
      "Generated Cypher:\n",
      "\u001b[32;1m\u001b[1;3mOPTIONAL MATCH (n)-[r]->(m)\n",
      "WHERE toLower(n.id) CONTAINS toLower('Phương Thức Đóng Học Phí')\n",
      "\n",
      "RETURN \n",
      "  collect(DISTINCT properties(n)) AS n_properties, \n",
      "  collect(DISTINCT type(r)) AS r_type, \n",
      "  collect(DISTINCT properties(r)) AS r_properties, \n",
      "  collect(DISTINCT properties(m)) AS m_properties\u001b[0m\n",
      "Full Context:\n",
      "\u001b[32;1m\u001b[1;3m[{'n_properties': [{'id': 'Phương Thức Đóng Học Phí'}], 'r_type': ['BAO_GỒM'], 'r_properties': [{}], 'm_properties': [{'id': 'Nộp Qua Ngân Hàng', 'đối_tượng_áp_dụng': 'tất cả sinh viên đã học xong một học kỳ'}, {'id': 'Nộp Bằng Tiền Mặt Tại Trường', 'đối_tượng_áp_dụng': 'tân sinh viên khi làm thủ tục nhập học'}]}]\u001b[0m\n"
     ]
    },
    {
     "name": "stderr",
     "output_type": "stream",
     "text": [
      " 79%|███████▉  | 68/86 [24:31<07:01, 23.41s/it]"
     ]
    },
    {
     "name": "stdout",
     "output_type": "stream",
     "text": [
      "\n",
      "\u001b[1m> Finished chain.\u001b[0m\n",
      "\n",
      "\n",
      "\u001b[1m> Entering new GraphCypherQAChain chain...\u001b[0m\n",
      "Generated Cypher:\n",
      "\u001b[32;1m\u001b[1;3mOPTIONAL MATCH (n)-[r]-(m)\n",
      "WHERE toLower(n.id) CONTAINS toLower('Tài Khoản') AND toLower(m.id) CONTAINS toLower('Ngân Hàng')\n",
      "\n",
      "RETURN \n",
      "  collect(DISTINCT properties(n)) AS n_properties, \n",
      "  collect(DISTINCT type(r)) AS r_type, \n",
      "  collect(DISTINCT properties(r)) AS r_properties, \n",
      "  collect(DISTINCT properties(m)) AS m_properties\u001b[0m\n",
      "Full Context:\n",
      "\u001b[32;1m\u001b[1;3m[{'n_properties': [], 'r_type': [], 'r_properties': [], 'm_properties': []}]\u001b[0m\n"
     ]
    },
    {
     "name": "stderr",
     "output_type": "stream",
     "text": [
      " 80%|████████  | 69/86 [24:50<06:16, 22.13s/it]"
     ]
    },
    {
     "name": "stdout",
     "output_type": "stream",
     "text": [
      "\n",
      "\u001b[1m> Finished chain.\u001b[0m\n",
      "\n",
      "\n",
      "\u001b[1m> Entering new GraphCypherQAChain chain...\u001b[0m\n",
      "Generated Cypher:\n",
      "\u001b[32;1m\u001b[1;3mOPTIONAL MATCH (n)-[r]-(m)\n",
      "WHERE toLower(n.id) CONTAINS toLower('Nhà trường') AND toLower(type(r)) CONTAINS toLower('KHÔNG_HOÀN_TRẢ')\n",
      "\n",
      "RETURN \n",
      "  collect(DISTINCT properties(n)) AS n_properties, \n",
      "  collect(DISTINCT type(r)) AS r_type, \n",
      "  collect(DISTINCT properties(r)) AS r_properties, \n",
      "  collect(DISTINCT properties(m)) AS m_properties\u001b[0m\n",
      "Full Context:\n",
      "\u001b[32;1m\u001b[1;3m[{'n_properties': [{'id': 'Nhà Trường', 'trách_nhiệm': 'Tổ chức thực hiện công tác sinh viên', 'vai_trò': 'tổ chức quản lý ký túc xá'}], 'r_type': ['KHÔNG_HOÀN_TRẢ'], 'r_properties': [{'điều_kiện': 'Trên 75 ngày kể từ ngày học đầu tiên'}], 'm_properties': [{'id': 'Học Phí', 'định_nghĩa': 'khoản tiền người học phải nộp để đảm bảo chi phí cho các hoạt động đào tạo'}]}]\u001b[0m\n"
     ]
    },
    {
     "name": "stderr",
     "output_type": "stream",
     "text": [
      " 81%|████████▏ | 70/86 [25:08<05:33, 20.86s/it]"
     ]
    },
    {
     "name": "stdout",
     "output_type": "stream",
     "text": [
      "\n",
      "\u001b[1m> Finished chain.\u001b[0m\n",
      "\n",
      "\n",
      "\u001b[1m> Entering new GraphCypherQAChain chain...\u001b[0m\n",
      "Generated Cypher:\n",
      "\u001b[32;1m\u001b[1;3mOPTIONAL MATCH (n)-[r]->(m)\n",
      "WHERE toLower(n.id) CONTAINS toLower('Nhà trường') AND type(r) = 'HOÀN_TRẢ_100_PHẦN_TRĂM'\n",
      "\n",
      "RETURN \n",
      "  collect(DISTINCT properties(n)) AS n_properties, \n",
      "  collect(DISTINCT type(r)) AS r_type, \n",
      "  collect(DISTINCT properties(r)) AS r_properties, \n",
      "  collect(DISTINCT properties(m)) AS m_properties\u001b[0m\n",
      "Full Context:\n",
      "\u001b[32;1m\u001b[1;3m[{'n_properties': [{'id': 'Nhà Trường', 'trách_nhiệm': 'Tổ chức thực hiện công tác sinh viên', 'vai_trò': 'tổ chức quản lý ký túc xá'}], 'r_type': ['HOÀN_TRẢ_100_PHẦN_TRĂM'], 'r_properties': [{'điều_kiện': 'Sinh viên xin nghỉ học vì lí do khách quan'}], 'm_properties': [{'id': 'Học Phí', 'định_nghĩa': 'khoản tiền người học phải nộp để đảm bảo chi phí cho các hoạt động đào tạo'}]}]\u001b[0m\n"
     ]
    },
    {
     "name": "stderr",
     "output_type": "stream",
     "text": [
      " 83%|████████▎ | 71/86 [25:27<05:03, 20.26s/it]"
     ]
    },
    {
     "name": "stdout",
     "output_type": "stream",
     "text": [
      "\n",
      "\u001b[1m> Finished chain.\u001b[0m\n",
      "\n",
      "\n",
      "\u001b[1m> Entering new GraphCypherQAChain chain...\u001b[0m\n",
      "Generated Cypher:\n",
      "\u001b[32;1m\u001b[1;3mOPTIONAL MATCH (n)-[r]-(m)\n",
      "WHERE toLower(n.id) CONTAINS toLower('Sinh Viên') AND toLower(m.id) CONTAINS toLower('Nợ Học Phí')\n",
      "\n",
      "RETURN \n",
      "  collect(DISTINCT properties(n)) AS n_properties, \n",
      "  collect(DISTINCT type(r)) AS r_type, \n",
      "  collect(DISTINCT properties(r)) AS r_properties, \n",
      "  collect(DISTINCT properties(m)) AS m_properties\u001b[0m\n",
      "Full Context:\n",
      "\u001b[32;1m\u001b[1;3m[{'n_properties': [], 'r_type': [], 'r_properties': [], 'm_properties': []}]\u001b[0m\n"
     ]
    },
    {
     "name": "stderr",
     "output_type": "stream",
     "text": [
      " 84%|████████▎ | 72/86 [25:47<04:41, 20.13s/it]"
     ]
    },
    {
     "name": "stdout",
     "output_type": "stream",
     "text": [
      "\n",
      "\u001b[1m> Finished chain.\u001b[0m\n",
      "\n",
      "\n",
      "\u001b[1m> Entering new GraphCypherQAChain chain...\u001b[0m\n",
      "Generated Cypher:\n",
      "\u001b[32;1m\u001b[1;3mOPTIONAL MATCH (n)-[r1]->(m1)\n",
      "WHERE toLower(n.id) CONTAINS toLower('Học Bổng Khuyến Khích Học Tập')\n",
      "\n",
      "OPTIONAL MATCH (n2)-[r2]->(m2)\n",
      "WHERE toLower(n2.id) CONTAINS toLower('Phương Thức Đào Tạo')\n",
      "\n",
      "RETURN \n",
      "  collect(DISTINCT properties(n)) AS hoc_bong_properties,\n",
      "  collect(DISTINCT type(r1)) AS r1_type,\n",
      "  collect(DISTINCT properties(r1)) AS r1_properties,\n",
      "  collect(DISTINCT properties(m1)) AS m1_properties,\n",
      "  collect(DISTINCT properties(n2)) AS phuong_thuc_properties,\n",
      "  collect(DISTINCT type(r2)) AS r2_type,\n",
      "  collect(DISTINCT properties(r2)) AS r2_properties,\n",
      "  collect(DISTINCT properties(m2)) AS m2_properties\u001b[0m\n",
      "Full Context:\n",
      "\u001b[32;1m\u001b[1;3m[{'hoc_bong_properties': [{'id': 'Học Bổng Khuyến Khích Học Tập', 'hệ_thống': 'giáo dục chính quy công lập và ngoài công lập', 'đối_tượng': 'học sinh, sinh viên'}], 'r1_type': ['ÁP_DỤNG', 'CÓ_NGUỒN_TÀI_CHÍNH', 'CÓ_YÊU_CẦU', 'ÁP_DỤNG_CHO'], 'r1_properties': [{}], 'm1_properties': [{'id': 'Học Chế Tín Chỉ', 'quy_đổi': '15 tín chỉ tương đương một học kỳ'}, {'id': 'Quỹ Học Bổng', 'nguồn': '8% nguồn thu học phí hệ giáo dục chính quy', 'ngành_sư_phạm': '8% từ nguồn học phí do Nhà nước cấp bù'}, {'học_lực': 'từ loại khá trở lên', 'id': 'Tiêu Chuẩn Học Bổng', 'rèn_luyện': 'không bị kỷ luật từ mức khiển trách trở lên'}, {'id': 'Học Sinh, Sinh Viên', 'diện_hưởng': 'học bổng chính sách, trợ cấp xã hội, chính sách ưu đãi', 'đối_tượng': 'Có hoàn cảnh khó khăn'}], 'phuong_thuc_properties': [], 'r2_type': [], 'r2_properties': [], 'm2_properties': []}]\u001b[0m\n"
     ]
    },
    {
     "name": "stderr",
     "output_type": "stream",
     "text": [
      " 85%|████████▍ | 73/86 [26:07<04:21, 20.15s/it]"
     ]
    },
    {
     "name": "stdout",
     "output_type": "stream",
     "text": [
      "\n",
      "\u001b[1m> Finished chain.\u001b[0m\n",
      "\n",
      "\n",
      "\u001b[1m> Entering new GraphCypherQAChain chain...\u001b[0m\n",
      "Generated Cypher:\n",
      "\u001b[32;1m\u001b[1;3mOPTIONAL MATCH (n)-[r]-(m)\n",
      "WHERE toLower(n.id) CONTAINS toLower('Đối Tượng Được Miễn 100% Học Phí')\n",
      "\n",
      "RETURN \n",
      "  collect(DISTINCT properties(n)) AS n_properties, \n",
      "  collect(DISTINCT type(r)) AS r_type, \n",
      "  collect(DISTINCT properties(r)) AS r_properties, \n",
      "  collect(DISTINCT properties(m)) AS m_properties\u001b[0m\n",
      "Full Context:\n",
      "\u001b[32;1m\u001b[1;3m[{'n_properties': [{'id': 'Đối Tượng Được Miễn 100% Học Phí'}], 'r_type': ['BAO_GỒM'], 'r_properties': [{}], 'm_properties': [{'id': 'Sinh Viên Là Người Dân Tộc Thiểu Số Rất Ít Người'}, {'id': 'Sinh Viên Là Người Dân Tộc Thiểu Số Thuộc Hộ Nghèo Và Hộ Cận Nghèo'}, {'id': 'Sinh Viên Bị Tàn Tật, Khuyến Tật Thuộc Diện Hộ Cận Nghèo'}, {'id': 'Sinh Viên Là Con Của Người Có Công Với Cách Mạng'}]}]\u001b[0m\n"
     ]
    },
    {
     "name": "stderr",
     "output_type": "stream",
     "text": [
      " 86%|████████▌ | 74/86 [26:28<04:03, 20.29s/it]"
     ]
    },
    {
     "name": "stdout",
     "output_type": "stream",
     "text": [
      "\n",
      "\u001b[1m> Finished chain.\u001b[0m\n",
      "\n",
      "\n",
      "\u001b[1m> Entering new GraphCypherQAChain chain...\u001b[0m\n",
      "Generated Cypher:\n",
      "\u001b[32;1m\u001b[1;3mOPTIONAL MATCH (n)-[r]-(m)\n",
      "WHERE toLower(n.id) CONTAINS toLower('Đối Tượng Được Miễn 50% Học Phí')\n",
      "\n",
      "RETURN \n",
      "  collect(DISTINCT properties(n)) AS n_properties, \n",
      "  collect(DISTINCT type(r)) AS r_type, \n",
      "  collect(DISTINCT properties(r)) AS r_properties, \n",
      "  collect(DISTINCT properties(m)) AS m_properties\u001b[0m\n",
      "Full Context:\n",
      "\u001b[32;1m\u001b[1;3m[{'n_properties': [], 'r_type': [], 'r_properties': [], 'm_properties': []}]\u001b[0m\n"
     ]
    },
    {
     "name": "stderr",
     "output_type": "stream",
     "text": [
      " 87%|████████▋ | 75/86 [26:44<03:30, 19.17s/it]"
     ]
    },
    {
     "name": "stdout",
     "output_type": "stream",
     "text": [
      "\n",
      "\u001b[1m> Finished chain.\u001b[0m\n",
      "\n",
      "\n",
      "\u001b[1m> Entering new GraphCypherQAChain chain...\u001b[0m\n",
      "Generated Cypher:\n",
      "\u001b[32;1m\u001b[1;3mOPTIONAL MATCH (n)\n",
      "WHERE toLower(n.id) CONTAINS toLower('Mục Đích Đánh Giá Năng Lực Tiếng Anh')\n",
      "\n",
      "OPTIONAL MATCH (n)-[r]->(m)\n",
      "WHERE toLower(n.id) CONTAINS toLower('Mục Đích Đánh Giá Năng Lực Tiếng Anh')\n",
      "\n",
      "RETURN \n",
      "  collect(DISTINCT properties(n)) AS n_properties,\n",
      "  collect(DISTINCT type(r)) AS r_type,\n",
      "  collect(DISTINCT properties(r)) AS r_properties,\n",
      "  collect(DISTINCT properties(m)) AS m_properties\u001b[0m\n",
      "Full Context:\n",
      "\u001b[32;1m\u001b[1;3m[{'n_properties': [], 'r_type': [], 'r_properties': [], 'm_properties': []}]\u001b[0m\n"
     ]
    },
    {
     "name": "stderr",
     "output_type": "stream",
     "text": [
      " 88%|████████▊ | 76/86 [27:04<03:12, 19.23s/it]"
     ]
    },
    {
     "name": "stdout",
     "output_type": "stream",
     "text": [
      "\n",
      "\u001b[1m> Finished chain.\u001b[0m\n",
      "\n",
      "\n",
      "\u001b[1m> Entering new GraphCypherQAChain chain...\u001b[0m\n",
      "Generated Cypher:\n",
      "\u001b[32;1m\u001b[1;3mOPTIONAL MATCH (n)\n",
      "WHERE toLower(n.id) CONTAINS toLower('Cấu Trúc Đề Kiểm Tra')\n",
      "\n",
      "OPTIONAL MATCH (n)-[r]->(m)\n",
      "WHERE toLower(n.id) CONTAINS toLower('Cấu Trúc Đề Kiểm Tra') AND type(r) = 'BAO_GỒM'\n",
      "\n",
      "RETURN \n",
      "  collect(DISTINCT properties(n)) AS n_properties,\n",
      "  collect(DISTINCT type(r)) AS r_type,\n",
      "  collect(DISTINCT properties(r)) AS r_properties,\n",
      "  collect(DISTINCT properties(m)) AS m_properties\u001b[0m\n",
      "Full Context:\n",
      "\u001b[32;1m\u001b[1;3m[{'n_properties': [{'id': 'Cấu Trúc Đề Kiểm Tra', 'số_câu': '100', 'số_phần': '4', 'thời_gian_làm_bài': '75 phút', 'điểm_mỗi_câu': '1', 'thang_điểm': '100'}], 'r_type': ['BAO_GỒM'], 'r_properties': [{}], 'm_properties': [{'id': 'Phần 4', 'số_câu': '20', 'tên': 'Writing (Viết)', 'mô_tả': 'Mỗi câu có các từ hoặc cụm từ cho sẵn với các gạch chéo (/), có 04 phương án A, B, C, D ở dạng câu hoàn chỉnh để sinh viên lựa chọn'}, {'id': 'Phần 3', 'số_câu': '25', 'tên': 'Reading comprehension (Đọc hiểu)', 'mô_tả': 'Mỗi câu có 01 khoảng trống, mỗi khoảng trống có 04 phương án A, B, C, D để sinh viên lựa chọn'}, {'id': 'Phần 2', 'số_câu': '15', 'tên': 'Cloze test (Điền từ vào chỗ trống)', 'mô_tả': 'Mỗi câu có 01 khoảng trống, mỗi khoảng trống có 04 phương án A, B, C, D để sinh viên lựa chọn'}, {'id': 'Phần 1', 'số_câu': '40', 'tên': 'Language use (Từ vựng và Ngữ pháp)', 'mô_tả': 'Mỗi câu có 01 khoảng trống, mỗi khoảng trống có 04 phương án A, B, C, D để sinh viên lựa chọn'}]}]\u001b[0m\n"
     ]
    },
    {
     "name": "stderr",
     "output_type": "stream",
     "text": [
      " 90%|████████▉ | 77/86 [27:22<02:50, 18.91s/it]"
     ]
    },
    {
     "name": "stdout",
     "output_type": "stream",
     "text": [
      "\n",
      "\u001b[1m> Finished chain.\u001b[0m\n",
      "\n",
      "\n",
      "\u001b[1m> Entering new GraphCypherQAChain chain...\u001b[0m\n",
      "Generated Cypher:\n",
      "\u001b[32;1m\u001b[1;3mOPTIONAL MATCH (n)-[r]-(m)\n",
      "WHERE toLower(n.id) CONTAINS toLower('Đánh Giá Năng Lực Tiếng Anh')\n",
      "\n",
      "OPTIONAL MATCH (n2)-[r2]-(m2)\n",
      "WHERE toLower(m2.id) CONTAINS toLower('Thang Điểm')\n",
      "\n",
      "RETURN \n",
      "  collect(DISTINCT properties(n)) AS n_properties,\n",
      "  collect(DISTINCT type(r)) AS r_type,\n",
      "  collect(DISTINCT properties(r)) AS r_properties,\n",
      "  collect(DISTINCT properties(m)) AS m_properties,\n",
      "  collect(DISTINCT properties(n2)) AS n2_properties,\n",
      "  collect(DISTINCT type(r2)) AS r2_type,\n",
      "  collect(DISTINCT properties(r2)) AS r2_properties,\n",
      "  collect(DISTINCT properties(m2)) AS m2_properties\u001b[0m\n",
      "Full Context:\n",
      "\u001b[32;1m\u001b[1;3m[{'n_properties': [{'id': 'Quy Định Về Việc Kiểm Tra, Đánh Giá Năng Lực Tiếng Anh Đầu Khoá', 'tên': 'Quy định về việc kiểm tra, đánh giá năng lực tiếng Anh đầu khoá'}, {'id': 'Đánh Giá Năng Lực Tiếng Anh', 'mô_tả': 'Mục đích chính của quy định'}, {'id': 'Kiểm Tra, Đánh Giá Năng Lực Tiếng Anh Đầu Khóa'}], 'r_type': ['CÓ_MỤC_ĐÍCH', 'ÁP_DỤNG_CHO', 'DẪN_ĐẾN', 'QUY_ĐỔI', 'SỬ_DỤNG', 'QUY_ĐỊNH'], 'r_properties': [{}], 'm_properties': [{'id': 'Đánh Giá Năng Lực Tiếng Anh', 'mô_tả': 'Mục đích chính của quy định'}, {'id': 'Sinh Viên Năm Thứ Nhất Hệ Đại Học Chính Quy Các Ngành Không Chuyên Ngữ', 'mô_tả': 'Đối tượng áp dụng của quy định'}, {'id': 'Miễn Học Các Học Phần Tiếng Anh 1, Tiếng Anh 2', 'mô_tả': 'Kết quả mong muốn từ việc đánh giá'}, {'id': 'Quy Định Về Việc Kiểm Tra, Đánh Giá Năng Lực Tiếng Anh Đầu Khoá', 'tên': 'Quy định về việc kiểm tra, đánh giá năng lực tiếng Anh đầu khoá'}, {'id': 'Ta2'}, {'id': 'Ta1'}, {'id': 'Thang Điểm 10', 'mô_tả': 'Gồm các số từ 0 đến 10 (với một số lẻ thập phân)'}, {'tiêu_đề': 'Chuyển đổi điểm', 'id': 'Điều 3'}], 'n2_properties': [{'id': 'Kiểm Tra, Đánh Giá Năng Lực Tiếng Anh Đầu Khóa'}, {'id': 'Điểm Đánh Giá', 'cách_tính': 'Trung bình cộng các điểm thành phần', 'quy_đổi': 'Theo thang điểm chữ', 'thang_điểm': '10'}, {'id': 'Bài Thi'}, {'id': 'Điểm Học Phần', 'tính_chất': 'Tính từ tổng các điểm thành phần nhân với trọng số tương ứng'}, {'id': 'Xếp Loại Học Tập'}, {'id': 'Thang Điểm 4', 'mô_tả': 'Dùng để tính điểm trung bình chung học kỳ, trung bình chung tích lũy'}, {'id': 'Thang Điểm Chữ', 'mô_tả': 'Dùng để xếp loại học phần'}, {'tiêu_đề': 'Đánh giá và tính điểm học phần', 'id': 'Điều 11'}, {'id': 'Thang Điểm 10', 'mô_tả': 'Gồm các số từ 0 đến 10 (với một số lẻ thập phân)'}, {'id': 'Xếp Loại Học Lực'}, {'id': 'Điểm Rèn Luyện'}, {'id': 'Ý Thức Và Kết Quả Tham Gia Công Tác Cán Bộ Lớp, Các Hội, Đoàn Thể, Tổ Chức Khác Trong Trường Hoặc Người Học Đạt Được Thành Tích Đặc Biệt Trong Học Tập, Rèn Luyện'}, {'id': 'Ý Thức Công Dân Trong Quan Hệ Cộng Đồng'}, {'id': 'Ý Thức Tham Gia Các Hoạt Động Chính Trị, Xã Hội, Văn Hóa, Văn Nghệ, Thể Thao, Phòng Chống Tội Phạm Và Các Tệ Nạn Xã Hội'}, {'id': 'Ý Thức Chấp Hành Nội Quy, Quy Định Trong Nhà Trường'}, {'id': 'Ý Thức Tham Gia Học Tập'}], 'r2_type': ['SỬ_DỤNG', 'TÍNH_THEO', 'CHẤM_THEO', 'DÙNG_ĐỂ_ĐÁNH_GIÁ', 'TƯƠNG_ỨNG', 'QUY_ĐỊNH', 'QUY_ĐỔI', 'DÙNG_ĐỂ_XẾP_LOẠI', 'DÙNG_ĐỂ_TÍNH', 'BAO_GỒM', 'ĐƯỢC_ĐÁNH_GIÁ_BẰNG'], 'r2_properties': [{}], 'm2_properties': [{'id': 'Thang Điểm 10', 'mô_tả': 'Gồm các số từ 0 đến 10 (với một số lẻ thập phân)'}, {'id': 'Thang Điểm Chữ', 'mô_tả': 'Dùng để xếp loại học phần'}, {'id': 'Thang Điểm 4', 'mô_tả': 'Dùng để tính điểm trung bình chung học kỳ, trung bình chung tích lũy'}, {'id': 'Nội Dung Đánh Giá Và Thang Điểm'}, {'id': 'Thang Điểm 100'}]}]\u001b[0m\n"
     ]
    },
    {
     "name": "stderr",
     "output_type": "stream",
     "text": [
      " 91%|█████████ | 78/86 [27:45<02:41, 20.17s/it]"
     ]
    },
    {
     "name": "stdout",
     "output_type": "stream",
     "text": [
      "\n",
      "\u001b[1m> Finished chain.\u001b[0m\n",
      "\n",
      "\n",
      "\u001b[1m> Entering new GraphCypherQAChain chain...\u001b[0m\n",
      "Generated Cypher:\n",
      "\u001b[32;1m\u001b[1;3mOPTIONAL MATCH (n)-[r]-(m)\n",
      "WHERE toLower(n.id) CONTAINS toLower('Phân Loại Kết Quả Điểm Rèn Luyện') OR toLower(n.id) CONTAINS toLower('Khung Điểm Đánh Giá')\n",
      "\n",
      "OPTIONAL MATCH (n2)-[r2]-(m2)\n",
      "WHERE toLower(n2.id) CONTAINS toLower('Tiêu Chí Đánh Giá') OR toLower(n2.id) CONTAINS toLower('Khung Điểm')\n",
      "\n",
      "RETURN \n",
      "  collect(DISTINCT properties(n)) AS n_properties,\n",
      "  collect(DISTINCT type(r)) AS r_type,\n",
      "  collect(DISTINCT properties(r)) AS r_properties,\n",
      "  collect(DISTINCT properties(m)) AS m_properties,\n",
      "  collect(DISTINCT properties(n2)) AS n2_properties,\n",
      "  collect(DISTINCT type(r2)) AS r2_type,\n",
      "  collect(DISTINCT properties(r2)) AS r2_properties,\n",
      "  collect(DISTINCT properties(m2)) AS m2_properties\u001b[0m\n",
      "Full Context:\n",
      "\u001b[32;1m\u001b[1;3m[{'n_properties': [{'id': 'Khung Điểm Đánh Giá', 'phạm_vi': '0 đến 20 điểm'}, {'id': 'Khung Điểm Đánh Giá Từ 0 Đến 25 Điểm'}, {'id': 'Khung Điểm Đánh Giá Từ 0 Đến 20 Điểm'}, {'id': 'Khung Điểm Đánh Giá Từ 0 Đến 10 Điểm'}], 'r_type': ['QUY_ĐỊNH', 'CÓ'], 'r_properties': [{}], 'm_properties': [{'tiêu_đề': 'Đánh giá về ý thức tham gia học tập', 'id': 'Điều 4'}, {'id': 'Ý Thức Chấp Hành Nội Quy, Quy Định Trong Nhà Trường'}, {'id': 'Ý Thức Tham Gia Các Hoạt Động Chính Trị, Xã Hội, Văn Hóa, Văn Nghệ, Thể Thao, Phòng Chống Tội Phạm Và Các Tệ Nạn Xã Hội'}, {'id': 'Ý Thức Công Dân Trong Quan Hệ Cộng Đồng'}, {'tiêu_đề': 'Đánh giá về ý thức và kết quả khi tham gia công tác cán bộ lớp, các hội, đoàn thể trong nhà trường hoặc người học đạt được thành tích đặc biệt trong học tập, rèn luyện', 'id': 'Đánh Giá Về Ý Thức Và Kết Quả Khi Tham Gia Công Tác Cán Bộ Lớp, Các Hội, Đoàn Thể Trong Nhà Trường Hoặc Người Học Đạt Được Thành Tích Đặc Biệt Trong Học Tập, Rèn Luyện'}], 'n2_properties': [{'id': 'Tiêu Chí Đánh Giá'}, {'id': 'Khung Điểm'}, {'id': 'Quy Trình Và Các Tiêu Chí Đánh Giá', 'mô_tả': 'Thực hiện nghiêm túc quy trình và các tiêu chí đánh giá'}, {'id': 'Khung Điểm Đánh Giá', 'phạm_vi': '0 đến 20 điểm'}, {'id': 'Khung Điểm Đánh Giá Từ 0 Đến 25 Điểm'}, {'id': 'Khung Điểm Đánh Giá Từ 0 Đến 20 Điểm'}, {'id': 'Khung Điểm Đánh Giá Từ 0 Đến 10 Điểm'}], 'r2_type': ['BAN_HÀNH', 'QUY_ĐỊNH', 'BAO_GỒM', 'CÓ'], 'r2_properties': [{}], 'm2_properties': [{'id': 'Khoa Quản Lý Ngành Đào Tạo'}, {'id': 'Quy Định Về Việc Đánh Giá Kết Quả Rèn Luyện Của Người Học Được Đào Tạo Trình Độ Đại Học Hệ Chính Quy', 'tên': 'Quy định về việc đánh giá kết quả rèn luyện của người học được đào tạo trình độ đại học hệ chính quy'}, {'tiêu_đề': 'Điều 2', 'id': 'Nguyên Tắc Đánh Giá Kết Quả Rèn Luyện Của Người Học', 'mô_tả': 'Nguyên tắc đánh giá kết quả rèn luyện của người học'}, {'tiêu_đề': 'Đánh giá về ý thức tham gia học tập', 'id': 'Điều 4'}, {'id': 'Ý Thức Chấp Hành Nội Quy, Quy Định Trong Nhà Trường'}, {'id': 'Ý Thức Tham Gia Các Hoạt Động Chính Trị, Xã Hội, Văn Hóa, Văn Nghệ, Thể Thao, Phòng Chống Tội Phạm Và Các Tệ Nạn Xã Hội'}, {'id': 'Ý Thức Công Dân Trong Quan Hệ Cộng Đồng'}, {'tiêu_đề': 'Đánh giá về ý thức và kết quả khi tham gia công tác cán bộ lớp, các hội, đoàn thể trong nhà trường hoặc người học đạt được thành tích đặc biệt trong học tập, rèn luyện', 'id': 'Đánh Giá Về Ý Thức Và Kết Quả Khi Tham Gia Công Tác Cán Bộ Lớp, Các Hội, Đoàn Thể Trong Nhà Trường Hoặc Người Học Đạt Được Thành Tích Đặc Biệt Trong Học Tập, Rèn Luyện'}]}]\u001b[0m\n"
     ]
    },
    {
     "name": "stderr",
     "output_type": "stream",
     "text": [
      " 92%|█████████▏| 79/86 [28:18<02:47, 23.98s/it]"
     ]
    },
    {
     "name": "stdout",
     "output_type": "stream",
     "text": [
      "\n",
      "\u001b[1m> Finished chain.\u001b[0m\n",
      "\n",
      "\n",
      "\u001b[1m> Entering new GraphCypherQAChain chain...\u001b[0m\n",
      "Generated Cypher:\n",
      "\u001b[32;1m\u001b[1;3mOPTIONAL MATCH (n)-[r]->(m)\n",
      "WHERE toLower(n.id) CONTAINS toLower('Ngành Sư Phạm Tiếng Anh') AND toLower(m.id) CONTAINS toLower('Ngoại Ngữ')\n",
      "\n",
      "RETURN \n",
      "  collect(DISTINCT properties(n)) AS n_properties,\n",
      "  collect(DISTINCT type(r)) AS r_type,\n",
      "  collect(DISTINCT properties(r)) AS r_properties,\n",
      "  collect(DISTINCT properties(m)) AS m_properties\u001b[0m\n",
      "Full Context:\n",
      "\u001b[32;1m\u001b[1;3m[{'n_properties': [], 'r_type': [], 'r_properties': [], 'm_properties': []}]\u001b[0m\n"
     ]
    },
    {
     "name": "stderr",
     "output_type": "stream",
     "text": [
      " 93%|█████████▎| 80/86 [28:39<02:18, 23.05s/it]"
     ]
    },
    {
     "name": "stdout",
     "output_type": "stream",
     "text": [
      "\n",
      "\u001b[1m> Finished chain.\u001b[0m\n",
      "\n",
      "\n",
      "\u001b[1m> Entering new GraphCypherQAChain chain...\u001b[0m\n",
      "Generated Cypher:\n",
      "\u001b[32;1m\u001b[1;3mOPTIONAL MATCH (n)-[r]->(m)\n",
      "WHERE toLower(n.id) CONTAINS toLower('Ngành Ngôn Ngữ Anh') AND toLower(m.id) CONTAINS toLower('Ngoại Ngữ')\n",
      "\n",
      "RETURN \n",
      "  collect(DISTINCT properties(n)) AS n_properties, \n",
      "  collect(DISTINCT type(r)) AS r_type, \n",
      "  collect(DISTINCT properties(r)) AS r_properties, \n",
      "  collect(DISTINCT properties(m)) AS m_properties\u001b[0m\n",
      "Full Context:\n",
      "\u001b[32;1m\u001b[1;3m[{'n_properties': [], 'r_type': [], 'r_properties': [], 'm_properties': []}]\u001b[0m\n"
     ]
    },
    {
     "name": "stderr",
     "output_type": "stream",
     "text": [
      " 94%|█████████▍| 81/86 [28:55<01:44, 20.95s/it]"
     ]
    },
    {
     "name": "stdout",
     "output_type": "stream",
     "text": [
      "\n",
      "\u001b[1m> Finished chain.\u001b[0m\n",
      "\n",
      "\n",
      "\u001b[1m> Entering new GraphCypherQAChain chain...\u001b[0m\n",
      "Generated Cypher:\n",
      "\u001b[32;1m\u001b[1;3mOPTIONAL MATCH (n)-[r]-(m)\n",
      "WHERE toLower(n.id) CONTAINS toLower('Liên Kết Đào Tạo')\n",
      "\n",
      "RETURN \n",
      "  collect(DISTINCT properties(n)) AS n_properties, \n",
      "  collect(DISTINCT type(r)) AS r_type, \n",
      "  collect(DISTINCT properties(r)) AS r_properties, \n",
      "  collect(DISTINCT properties(m)) AS m_properties\u001b[0m\n",
      "Full Context:\n",
      "\u001b[32;1m\u001b[1;3m[{'n_properties': [{'id': 'Liên Kết Đào Tạo', 'hình_thức': 'vừa làm vừa học', 'ngành': 'theo quy định'}, {'id': 'Hợp Đồng Liên Kết Đào Tạo'}, {'id': 'Cơ Sở Liên Kết Đào Tạo'}, {'id': 'Các Cơ Sở Liên Kết Đào Tạo'}], 'r_type': ['YÊU_CẦU', 'CHỊU_TRÁCH_NHIỆM', 'GỬI', 'LÀM_VIỆC_TẠI', 'PHẢN_ÁNH', 'THỰC_HIỆN', 'PHỐI_HỢP_VỚI'], 'r_properties': [{}], 'm_properties': [{'id': 'Cơ Sở Phối Hợp Đào Tạo', 'yêu_cầu': 'đáp ứng các yêu cầu về môi trường sư phạm, cơ sở vật chất, thiết bị, thư viện và cán bộ quản lý', 'từ_năm': '2024', 'yêu_cầu_chất_lượng': 'đã được công nhận đạt tiêu chuẩn chất lượng cơ sở giáo dục'}, {'id': 'Quy Định Về Liên Kết'}, {'id': 'Đội Ngũ Giảng Viên Cơ Hữu', 'yêu_cầu': 'giảng dạy tối thiểu 70% nội dung, khối lượng chương trình đào tạo'}, {'id': 'Chương Trình Đào Tạo', 'đơn_vị_tín_chỉ': 'được xây dựng theo đơn vị tín chỉ', 'cấu_trúc': 'từ các môn học hoặc học phần', 'mô_tả': 'Nơi các học phần Tiếng Anh 1, Tiếng Anh 2 thuộc về', 'yêu_cầu': 'đã được tổ chức đào tạo tối thiểu 03 khóa liên tục theo hình thức chính quy', 'phạm_vi': 'áp dụng chung đối với các hình thức, phương thức tổ chức đào tạo và đối tượng người học khác nhau', 'từ_năm': '2024', 'yêu_cầu_chất_lượng': 'đã được công nhận đạt tiêu chuẩn chất lượng'}, {'id': 'Chứng Nhận Đạt Tiêu Chuẩn Chất Lượng Cơ Sở Giáo Dục Đại Học'}, {'id': 'Trường Đại Học Quy Nhơn', 'tên': 'Trường Đại học Quy Nhơn', 'tên_gọi_tắt': 'Trường/Nhà trường'}, {'id': 'Phòng Khảo Thí Và Bảo Đảm Chất Lượng'}, {'id': 'Cán Bộ Coi Thi', 'vai_trò': 'Coi thi, chấm thi (đối với hình thức thi vấn đáp, vấn đáp trực tuyến, thực hành, thực hành trực tuyến)', 'định_nghĩa': 'Viên chức của Trường hoặc các Cơ sở liên kết đào tạo, đã tốt nghiệp cao đẳng, đại học trở lên và không có người thân dự thi'}, {'id': 'Nhà Trường', 'trách_nhiệm': 'Tổ chức thực hiện công tác sinh viên', 'vai_trò': 'tổ chức quản lý ký túc xá'}, {'id': 'Quy Định Này'}, {'id': 'Phòng Khảo Thí Và Bảo Đảm Chất Lượng', 'nhiệm_vụ': 'Thu nhận, kiểm tra chứng chỉ, giấy chứng nhận đạt giải của sinh viên để chuyển đổi điểm các học phần Tiếng Anh 1, Tiếng Anh 2', 'vai_trò': 'Làm đầu mối triển khai thực hiện việc tổ chức kiểm tra, đánh giá'}]}]\u001b[0m\n"
     ]
    },
    {
     "name": "stderr",
     "output_type": "stream",
     "text": [
      " 95%|█████████▌| 82/86 [29:19<01:28, 22.08s/it]"
     ]
    },
    {
     "name": "stdout",
     "output_type": "stream",
     "text": [
      "\n",
      "\u001b[1m> Finished chain.\u001b[0m\n",
      "\n",
      "\n",
      "\u001b[1m> Entering new GraphCypherQAChain chain...\u001b[0m\n",
      "Generated Cypher:\n",
      "\u001b[32;1m\u001b[1;3mOPTIONAL MATCH (n)\n",
      "WHERE toLower(n.id) CONTAINS toLower('Kế Hoạch Học Tập Chuẩn')\n",
      "\n",
      "OPTIONAL MATCH (n2)-[r]->(m)\n",
      "WHERE toLower(n2.id) CONTAINS toLower('Kế Hoạch Học Tập Chuẩn')\n",
      "\n",
      "RETURN \n",
      "  collect(DISTINCT properties(n)) AS ke_hoach,\n",
      "  collect(DISTINCT properties(n2)) AS ke_hoach_lien_quan,\n",
      "  collect(DISTINCT type(r)) AS loai_quan_he,\n",
      "  collect(DISTINCT properties(r)) AS thuoc_tinh_quan_he,\n",
      "  collect(DISTINCT properties(m)) AS noi_dung_lien_quan\u001b[0m\n",
      "Full Context:\n",
      "\u001b[32;1m\u001b[1;3m[{'ke_hoach': [{'id': 'Kế Hoạch Học Tập Chuẩn Toàn Khóa'}, {'id': 'Kế Hoạch Học Tập Chuẩn'}], 'ke_hoach_lien_quan': [], 'loai_quan_he': [], 'thuoc_tinh_quan_he': [], 'noi_dung_lien_quan': []}]\u001b[0m\n"
     ]
    },
    {
     "name": "stderr",
     "output_type": "stream",
     "text": [
      " 97%|█████████▋| 83/86 [29:44<01:08, 22.82s/it]"
     ]
    },
    {
     "name": "stdout",
     "output_type": "stream",
     "text": [
      "\n",
      "\u001b[1m> Finished chain.\u001b[0m\n",
      "\n",
      "\n",
      "\u001b[1m> Entering new GraphCypherQAChain chain...\u001b[0m\n",
      "Generated Cypher:\n",
      "\u001b[32;1m\u001b[1;3mOPTIONAL MATCH (n)-[r]-(m)\n",
      "WHERE toLower(n.id) CONTAINS toLower('đánh giá điểm quá trình học tập') OR toLower(m.id) CONTAINS toLower('đánh giá điểm quá trình học tập')\n",
      "\n",
      "RETURN \n",
      "  collect(DISTINCT properties(n)) AS n_properties, \n",
      "  collect(DISTINCT type(r)) AS r_type, \n",
      "  collect(DISTINCT properties(r)) AS r_properties, \n",
      "  collect(DISTINCT properties(m)) AS m_properties\u001b[0m\n",
      "Full Context:\n",
      "\u001b[32;1m\u001b[1;3m[{'n_properties': [], 'r_type': [], 'r_properties': [], 'm_properties': []}]\u001b[0m\n"
     ]
    },
    {
     "name": "stderr",
     "output_type": "stream",
     "text": [
      " 98%|█████████▊| 84/86 [30:01<00:42, 21.14s/it]"
     ]
    },
    {
     "name": "stdout",
     "output_type": "stream",
     "text": [
      "\n",
      "\u001b[1m> Finished chain.\u001b[0m\n",
      "\n",
      "\n",
      "\u001b[1m> Entering new GraphCypherQAChain chain...\u001b[0m\n",
      "Generated Cypher:\n",
      "\u001b[32;1m\u001b[1;3mOPTIONAL MATCH (n)\n",
      "WHERE toLower(n.id) CONTAINS toLower('Điểm Trung Bình Chung Học Kỳ')\n",
      "\n",
      "OPTIONAL MATCH (n)-[r]->(m)\n",
      "WHERE toLower(n.id) CONTAINS toLower('Điểm Trung Bình Chung Học Kỳ') AND type(r) = 'DÙNG_ĐỂ'\n",
      "\n",
      "RETURN \n",
      "  collect(DISTINCT properties(n)) AS n_properties,\n",
      "  collect(DISTINCT type(r)) AS r_type,\n",
      "  collect(DISTINCT properties(r)) AS r_properties,\n",
      "  collect(DISTINCT properties(m)) AS m_properties\u001b[0m\n",
      "Full Context:\n",
      "\u001b[32;1m\u001b[1;3m[{'n_properties': [{'id': 'Điểm Trung Bình Chung Học Kỳ', 'phạm_vi': 'Bao gồm tất cả các học phần được đánh giá đạt và không đạt trong học kỳ.', 'định_nghĩa': 'Điểm trung bình chung học kỳ được tính theo công thức A = (Σ (i = 1 -> n) [a_i * n_i]) / (Σ (i = 1 -> n) [n_i]) và làm tròn đến 2 chữ số thập phân.'}], 'r_type': ['DÙNG_ĐỂ'], 'r_properties': [{'mục_đích': 'Xét thôi học, cảnh báo kết quả học tập, xếp hạng học lực sinh viên và xếp hạng tốt nghiệp.'}], 'm_properties': [{'id': 'Sinh Viên', 'quyền_lợi': 'được bảo đảm điều kiện thực hiện đầy đủ nhiệm vụ và quyền trong quá trình học tập và rèn luyện tại trường', 'vai_trò': 'Lựa chọn phương án trả lời', 'định_nghĩa': 'người đang học chương trình đào tạo trình độ đại học hệ chính quy tại trường'}]}]\u001b[0m\n"
     ]
    },
    {
     "name": "stderr",
     "output_type": "stream",
     "text": [
      " 99%|█████████▉| 85/86 [30:24<00:21, 21.56s/it]"
     ]
    },
    {
     "name": "stdout",
     "output_type": "stream",
     "text": [
      "\n",
      "\u001b[1m> Finished chain.\u001b[0m\n",
      "\n",
      "\n",
      "\u001b[1m> Entering new GraphCypherQAChain chain...\u001b[0m\n",
      "Generated Cypher:\n",
      "\u001b[32;1m\u001b[1;3mOPTIONAL MATCH (n)\n",
      "WHERE toLower(n.id) CONTAINS toLower('Điểm Trung Bình Chung Tích Lũy')\n",
      "\n",
      "OPTIONAL MATCH (n)-[r]->(m)\n",
      "WHERE toLower(n.id) CONTAINS toLower('Điểm Trung Bình Chung Tích Lũy') AND type(r) = 'DÙNG_ĐỂ'\n",
      "\n",
      "RETURN \n",
      "  collect(DISTINCT properties(n)) AS n_properties,\n",
      "  collect(DISTINCT type(r)) AS r_type,\n",
      "  collect(DISTINCT properties(r)) AS r_properties,\n",
      "  collect(DISTINCT properties(m)) AS m_properties\u001b[0m\n",
      "Full Context:\n",
      "\u001b[32;1m\u001b[1;3m[{'n_properties': [{'id': 'Cải Thiện Điểm Trung Bình Chung Tích Lũy'}, {'id': 'Điểm Trung Bình Chung Tích Lũy', 'phạm_vi': 'Bao gồm các học phần được đánh giá đạt đến thời điểm xét.', 'định_nghĩa': 'Điểm trung bình chung tích lũy được tính theo công thức A = (Σ (i = 1 -> n) [a_i * n_i]) / (Σ (i = 1 -> n) [n_i]) và làm tròn đến 2 chữ số thập phân.'}], 'r_type': ['DÙNG_ĐỂ'], 'r_properties': [{'mục_đích': 'Xét thôi học, cảnh báo kết quả học tập, xếp hạng học lực sinh viên và xếp hạng tốt nghiệp.'}], 'm_properties': [{'id': 'Sinh Viên', 'quyền_lợi': 'được bảo đảm điều kiện thực hiện đầy đủ nhiệm vụ và quyền trong quá trình học tập và rèn luyện tại trường', 'vai_trò': 'Lựa chọn phương án trả lời', 'định_nghĩa': 'người đang học chương trình đào tạo trình độ đại học hệ chính quy tại trường'}]}]\u001b[0m\n"
     ]
    },
    {
     "name": "stderr",
     "output_type": "stream",
     "text": [
      "100%|██████████| 86/86 [30:46<00:00, 21.47s/it]"
     ]
    },
    {
     "name": "stdout",
     "output_type": "stream",
     "text": [
      "\n",
      "\u001b[1m> Finished chain.\u001b[0m\n",
      "✅ Đã lưu kết quả vào: d:\\WorkSpace\\python\\thesis\\web_graph_rag\\danh_gia\\output_results.xlsx\n"
     ]
    },
    {
     "name": "stderr",
     "output_type": "stream",
     "text": [
      "\n"
     ]
    }
   ],
   "source": [
    "import os\n",
    "import pandas as pd\n",
    "from tqdm import tqdm\n",
    "\n",
    "# Đọc dữ liệu\n",
    "df = pd.read_excel(os.path.join(os.getcwd(), 'danh_gia', 'Danh sách câu hỏi đánh giá.xlsx'))\n",
    "list_query_one_node = df['Truy vấn 1 thực thể'].dropna().tolist()\n",
    "list_query_two_node = df['Câu hỏi 2 thực thể 1 quan hệ'].dropna().tolist()\n",
    "\n",
    "# Hàm xử lý từng nhóm câu hỏi\n",
    "def process_queries(queries):\n",
    "    results = []\n",
    "    for query in tqdm(queries):\n",
    "        try:\n",
    "            result = chain.invoke({\"query\": query})\n",
    "            cypher = result.get(\"intermediate_steps\", [{}])[0].get(\"query\", \"\")\n",
    "            answer = result.get(\"result\", \"\")\n",
    "            results.append({\n",
    "                \"Câu hỏi\": query,\n",
    "                \"Câu lệnh Cypher\": cypher,\n",
    "                \"Câu trả lời\": answer\n",
    "            })\n",
    "        except Exception as e:\n",
    "            results.append({\n",
    "                \"Câu hỏi\": query,\n",
    "                \"Câu lệnh Cypher\": \"LỖI\",\n",
    "                \"Câu trả lời\": f\"Lỗi: {e}\"\n",
    "            })\n",
    "    return pd.DataFrame(results)\n",
    "\n",
    "# Xử lý từng danh sách\n",
    "df_one_node = process_queries(list_query_one_node)\n",
    "df_two_node = process_queries(list_query_two_node)\n",
    "\n",
    "# Ghi ra file Excel\n",
    "output_path = os.path.join(os.getcwd(), 'danh_gia', \"output_results.xlsx\")\n",
    "with pd.ExcelWriter(output_path, engine='openpyxl') as writer:\n",
    "    df_one_node.to_excel(writer, sheet_name=\"Truy vấn 1 thực thể\", index=False)\n",
    "    df_two_node.to_excel(writer, sheet_name=\"Truy vấn 2 thực thể\", index=False)\n",
    "\n",
    "print(\"✅ Đã lưu kết quả vào:\", output_path)"
   ]
  },
  {
   "cell_type": "code",
   "execution_count": 10,
   "metadata": {},
   "outputs": [
    {
     "name": "stdout",
     "output_type": "stream",
     "text": [
      "\n",
      "\n",
      "\u001b[1m> Entering new GraphCypherQAChain chain...\u001b[0m\n",
      "Generated Cypher:\n",
      "\u001b[32;1m\u001b[1;3mOPTIONAL MATCH (n)-[r]-(m)\n",
      "WHERE toLower(n.id) CONTAINS toLower('Hội đồng đánh giá') OR toLower(n.id) CONTAINS toLower('khoá luận tốt nghiệp')\n",
      "\n",
      "RETURN \n",
      "  collect(DISTINCT properties(n)) AS n_properties, \n",
      "  collect(DISTINCT type(r)) AS r_type, \n",
      "  collect(DISTINCT properties(r)) AS r_properties, \n",
      "  collect(DISTINCT properties(m)) AS m_properties\u001b[0m\n",
      "Full Context:\n",
      "\u001b[32;1m\u001b[1;3m[{'n_properties': [{'id': 'Làm Đồ Án Hoặc Khoá Luận Tốt Nghiệp'}, {'id': 'Đăng Ký Làm Đồ Án, Khoá Luận Tốt Nghiệp'}, {'id': 'Đề Cương Đồ Án, Khoá Luận Tốt Nghiệp'}, {'id': 'Đánh Giá Đồ Án, Khoá Luận Tốt Nghiệp'}, {'id': 'Hội Đồng Đánh Giá Kết Quả Rèn Luyện Cấp Khoa'}, {'id': 'Hội Đồng Đánh Giá Kết Quả Rèn Luyện Cấp Trường'}, {'id': 'Điều 12. Hội Đồng Đánh Giá Kết Quả Rèn Luyện'}, {'id': 'Hội Đồng Đánh Giá Kết Quả Rèn Luyện'}], 'r_type': ['KẾT_HỢP', 'QUY_ĐỊNH', 'ÁP_DỤNG', 'ĐƯỢC_ĐĂNG_KÝ', 'DUYỆT', 'VIẾT', 'HÌNH_THỨC', 'THỰC_HIỆN', 'TRÌNH', 'BÁO_CÁO', 'CHUYỂN', 'BAO_GỒM', 'THÀNH_LẬP'], 'r_properties': [{}, {'giới_hạn': 'Không vượt quá 20% số lượng sinh viên năm cuối của ngành đó', 'điều_kiện': 'Điểm trung bình chung học tập đạt từ 7,00 trở lên'}, {'điều_kiện': 'Không quá 10 tín chỉ chưa đạt (không tính Giáo dục thể chất, Giáo dục quốc phòng - an ninh)'}], 'm_properties': [{'id': 'Thời Gian Thực Tập Chuyên Môn Cuối Khoá'}, {'tiêu_đề': 'Tổ chức các hoạt động giáo dục, tuyên truyền', 'id': 'Điều 14'}, {'id': 'Ngành Đào Tạo Còn Lại'}, {'id': 'Ngành Đào Tạo Kỹ Sư'}, {'id': 'Sinh Viên', 'quyền_lợi': 'được bảo đảm điều kiện thực hiện đầy đủ nhiệm vụ và quyền trong quá trình học tập và rèn luyện tại trường', 'vai_trò': 'Lựa chọn phương án trả lời', 'định_nghĩa': 'người đang học chương trình đào tạo trình độ đại học hệ chính quy tại trường'}, {'id': 'Khoa Quản Lý Ngành Đào Tạo'}, {'id': 'Bảo Vệ Và Đánh Giá Trực Tuyến', 'điều_kiện': 'a) Hội đồng chuyên môn ít nhất 3 thành viên; b) Đồng thuận của hội đồng và người học; c) Ghi hình, ghi âm đầy đủ'}, {'id': 'Hội Đồng', 'thành_viên': 'Chủ tịch, ủy viên phản biện, thư ký', 'số_thành_viên': '3'}, {'tiêu_đề': 'Công tác quản lý sinh viên', 'id': 'Điều 15'}, {'id': 'Hội Đồng Đánh Giá Kết Quả Rèn Luyện Cấp Trường'}, {'id': 'Trưởng Khoa'}, {'id': 'Giáo Viên Chủ Nhiệm/Cố Vấn Học Tập'}, {'id': 'Hiệu Trưởng', 'vai_trò': 'Ban hành Quyết định thành lập Hội đồng đánh giá kết quả rèn luyện'}, {'id': 'Hội Đồng Đánh Giá Kết Quả Rèn Luyện Cấp Khoa'}, {'id': 'Chương Iv: Tổ Chức Đánh Giá Và Sử Dụng Kết Quả Đánh Giá'}, {'id': 'Hội Đồng Cấp Khoa', 'thành_phần': 'Chủ tịch, Ủy viên', 'nhiệm_vụ': 'Giúp Trưởng khoa xem xét, đánh giá kết quả rèn luyện', 'thẩm_quyền_thành_lập': 'Trưởng khoa hoặc Phó trưởng khoa được ủy quyền'}, {'thành_phần': 'Chủ tịch, Thường trực, Ủy viên', 'id': 'Hội Đồng Cấp Trường', 'nhiệm_vụ': 'Tư vấn giúp Hiệu trưởng xem xét, công nhận kết quả rèn luyện', 'thẩm_quyền_thành_lập': 'Hiệu trưởng hoặc Phó Hiệu trưởng được ủy quyền'}]}]\u001b[0m\n",
      "\n",
      "\u001b[1m> Finished chain.\u001b[0m\n",
      "Final answer: Hội đồng đánh giá khoá luận tốt nghiệp gồm 3 thành viên: Chủ tịch, ủy viên phản biện và thư ký.\n"
     ]
    }
   ],
   "source": [
    "result = chain.invoke({\"query\": \"Hội đồng đánh giá khoá luận tốt nghiệp gồm bao nhiêu người?\"})\n",
    "\n",
    "print(f\"Final answer: {result['result']}\")"
   ]
  },
  {
   "cell_type": "code",
   "execution_count": 56,
   "metadata": {},
   "outputs": [
    {
     "ename": "NameError",
     "evalue": "name 'result' is not defined",
     "output_type": "error",
     "traceback": [
      "\u001b[1;31m---------------------------------------------------------------------------\u001b[0m",
      "\u001b[1;31mNameError\u001b[0m                                 Traceback (most recent call last)",
      "Cell \u001b[1;32mIn[56], line 1\u001b[0m\n\u001b[1;32m----> 1\u001b[0m \u001b[43mresult\u001b[49m\n",
      "\u001b[1;31mNameError\u001b[0m: name 'result' is not defined"
     ]
    }
   ],
   "source": [
    "result"
   ]
  },
  {
   "cell_type": "code",
   "execution_count": 18,
   "metadata": {},
   "outputs": [],
   "source": [
    "# Cách hiển thị Final answer dễ quan sát hơn\n",
    "import textwrap\n",
    "\n",
    "def prettyCypherChain(question: str) -> str:\n",
    "\tresponse = chain.run(question)\n",
    "\tprint(textwrap.fill(response, 60))"
   ]
  },
  {
   "cell_type": "code",
   "execution_count": 22,
   "metadata": {},
   "outputs": [
    {
     "name": "stdout",
     "output_type": "stream",
     "text": [
      "\n",
      "\n",
      "\u001b[1m> Entering new GraphCypherQAChain chain...\u001b[0m\n",
      "Generated Cypher:\n",
      "\u001b[32;1m\u001b[1;3mcypher\n",
      "MATCH (n:Khái_niệm {id: \"Đào Tạo Chính Quy\"}) RETURN n.định_nghĩa\n",
      "\u001b[0m\n",
      "Full Context:\n",
      "\u001b[32;1m\u001b[1;3m[{'n.định_nghĩa': None}]\u001b[0m\n",
      "\n",
      "\u001b[1m> Finished chain.\u001b[0m\n",
      "Tôi không biết câu trả lời cho câu hỏi \"Đào tạo chính quy là\n",
      "gì?\".\n"
     ]
    }
   ],
   "source": [
    "prettyCypherChain(\"Đào tạo chính quy là gì?\")"
   ]
  }
 ],
 "metadata": {
  "kernelspec": {
   "display_name": "Python 3",
   "language": "python",
   "name": "python3"
  },
  "language_info": {
   "codemirror_mode": {
    "name": "ipython",
    "version": 3
   },
   "file_extension": ".py",
   "mimetype": "text/x-python",
   "name": "python",
   "nbconvert_exporter": "python",
   "pygments_lexer": "ipython3",
   "version": "3.12.4"
  }
 },
 "nbformat": 4,
 "nbformat_minor": 2
}
